{
  "nbformat": 4,
  "nbformat_minor": 0,
  "metadata": {
    "colab": {
      "provenance": [],
      "gpuType": "T4",
      "authorship_tag": "ABX9TyMkXZNUydFnAgam9OE/PGj3",
      "include_colab_link": true
    },
    "kernelspec": {
      "name": "python3",
      "display_name": "Python 3"
    },
    "language_info": {
      "name": "python"
    },
    "accelerator": "GPU"
  },
  "cells": [
    {
      "cell_type": "markdown",
      "metadata": {
        "id": "view-in-github",
        "colab_type": "text"
      },
      "source": [
        "<a href=\"https://colab.research.google.com/github/MateoRommel12/MathCodeGame/blob/main/Untitled0.ipynb\" target=\"_parent\"><img src=\"https://colab.research.google.com/assets/colab-badge.svg\" alt=\"Open In Colab\"/></a>"
      ]
    },
    {
      "cell_type": "code",
      "execution_count": 1,
      "metadata": {
        "colab": {
          "base_uri": "https://localhost:8080/"
        },
        "id": "5f7dyVxsCjZW",
        "outputId": "d29fb63e-b089-4df1-c71a-efe929dc74ad"
      },
      "outputs": [
        {
          "output_type": "stream",
          "name": "stdout",
          "text": [
            "\u001b[2K   \u001b[90m━━━━━━━━━━━━━━━━━━━━━━━━━━━━━━━━━━━━━━━━\u001b[0m \u001b[32m978.8/978.8 kB\u001b[0m \u001b[31m22.6 MB/s\u001b[0m eta \u001b[36m0:00:00\u001b[0m\n",
            "\u001b[2K   \u001b[90m━━━━━━━━━━━━━━━━━━━━━━━━━━━━━━━━━━━━━━━━\u001b[0m \u001b[32m363.4/363.4 MB\u001b[0m \u001b[31m4.1 MB/s\u001b[0m eta \u001b[36m0:00:00\u001b[0m\n",
            "\u001b[2K   \u001b[90m━━━━━━━━━━━━━━━━━━━━━━━━━━━━━━━━━━━━━━━━\u001b[0m \u001b[32m13.8/13.8 MB\u001b[0m \u001b[31m34.4 MB/s\u001b[0m eta \u001b[36m0:00:00\u001b[0m\n",
            "\u001b[2K   \u001b[90m━━━━━━━━━━━━━━━━━━━━━━━━━━━━━━━━━━━━━━━━\u001b[0m \u001b[32m24.6/24.6 MB\u001b[0m \u001b[31m31.1 MB/s\u001b[0m eta \u001b[36m0:00:00\u001b[0m\n",
            "\u001b[2K   \u001b[90m━━━━━━━━━━━━━━━━━━━━━━━━━━━━━━━━━━━━━━━━\u001b[0m \u001b[32m883.7/883.7 kB\u001b[0m \u001b[31m42.8 MB/s\u001b[0m eta \u001b[36m0:00:00\u001b[0m\n",
            "\u001b[2K   \u001b[90m━━━━━━━━━━━━━━━━━━━━━━━━━━━━━━━━━━━━━━━━\u001b[0m \u001b[32m664.8/664.8 MB\u001b[0m \u001b[31m2.5 MB/s\u001b[0m eta \u001b[36m0:00:00\u001b[0m\n",
            "\u001b[2K   \u001b[90m━━━━━━━━━━━━━━━━━━━━━━━━━━━━━━━━━━━━━━━━\u001b[0m \u001b[32m211.5/211.5 MB\u001b[0m \u001b[31m6.4 MB/s\u001b[0m eta \u001b[36m0:00:00\u001b[0m\n",
            "\u001b[2K   \u001b[90m━━━━━━━━━━━━━━━━━━━━━━━━━━━━━━━━━━━━━━━━\u001b[0m \u001b[32m56.3/56.3 MB\u001b[0m \u001b[31m13.4 MB/s\u001b[0m eta \u001b[36m0:00:00\u001b[0m\n",
            "\u001b[2K   \u001b[90m━━━━━━━━━━━━━━━━━━━━━━━━━━━━━━━━━━━━━━━━\u001b[0m \u001b[32m127.9/127.9 MB\u001b[0m \u001b[31m7.4 MB/s\u001b[0m eta \u001b[36m0:00:00\u001b[0m\n",
            "\u001b[2K   \u001b[90m━━━━━━━━━━━━━━━━━━━━━━━━━━━━━━━━━━━━━━━━\u001b[0m \u001b[32m207.5/207.5 MB\u001b[0m \u001b[31m5.4 MB/s\u001b[0m eta \u001b[36m0:00:00\u001b[0m\n",
            "\u001b[2K   \u001b[90m━━━━━━━━━━━━━━━━━━━━━━━━━━━━━━━━━━━━━━━━\u001b[0m \u001b[32m21.1/21.1 MB\u001b[0m \u001b[31m101.7 MB/s\u001b[0m eta \u001b[36m0:00:00\u001b[0m\n",
            "\u001b[?25hCreating new Ultralytics Settings v0.0.6 file ✅ \n",
            "View Ultralytics Settings with 'yolo settings' or at '/root/.config/Ultralytics/settings.json'\n",
            "Update Settings with 'yolo settings key=value', i.e. 'yolo settings runs_dir=path/to/dir'. For help see https://docs.ultralytics.com/quickstart/#ultralytics-settings.\n"
          ]
        }
      ],
      "source": [
        "!pip install ultralytics --quiet\n",
        "from ultralytics import YOLO"
      ]
    },
    {
      "cell_type": "code",
      "source": [
        "from google.colab import files\n",
        "uploaded = files.upload()  # or use shutil if uploading a zip file\n"
      ],
      "metadata": {
        "colab": {
          "base_uri": "https://localhost:8080/",
          "height": 73
        },
        "id": "31OfOIyWCl54",
        "outputId": "3065e0ce-efc9-4cef-8140-5d46f1564a16"
      },
      "execution_count": 2,
      "outputs": [
        {
          "output_type": "display_data",
          "data": {
            "text/plain": [
              "<IPython.core.display.HTML object>"
            ],
            "text/html": [
              "\n",
              "     <input type=\"file\" id=\"files-bc1ec799-20cc-42d4-a291-e375e25bcd94\" name=\"files[]\" multiple disabled\n",
              "        style=\"border:none\" />\n",
              "     <output id=\"result-bc1ec799-20cc-42d4-a291-e375e25bcd94\">\n",
              "      Upload widget is only available when the cell has been executed in the\n",
              "      current browser session. Please rerun this cell to enable.\n",
              "      </output>\n",
              "      <script>// Copyright 2017 Google LLC\n",
              "//\n",
              "// Licensed under the Apache License, Version 2.0 (the \"License\");\n",
              "// you may not use this file except in compliance with the License.\n",
              "// You may obtain a copy of the License at\n",
              "//\n",
              "//      http://www.apache.org/licenses/LICENSE-2.0\n",
              "//\n",
              "// Unless required by applicable law or agreed to in writing, software\n",
              "// distributed under the License is distributed on an \"AS IS\" BASIS,\n",
              "// WITHOUT WARRANTIES OR CONDITIONS OF ANY KIND, either express or implied.\n",
              "// See the License for the specific language governing permissions and\n",
              "// limitations under the License.\n",
              "\n",
              "/**\n",
              " * @fileoverview Helpers for google.colab Python module.\n",
              " */\n",
              "(function(scope) {\n",
              "function span(text, styleAttributes = {}) {\n",
              "  const element = document.createElement('span');\n",
              "  element.textContent = text;\n",
              "  for (const key of Object.keys(styleAttributes)) {\n",
              "    element.style[key] = styleAttributes[key];\n",
              "  }\n",
              "  return element;\n",
              "}\n",
              "\n",
              "// Max number of bytes which will be uploaded at a time.\n",
              "const MAX_PAYLOAD_SIZE = 100 * 1024;\n",
              "\n",
              "function _uploadFiles(inputId, outputId) {\n",
              "  const steps = uploadFilesStep(inputId, outputId);\n",
              "  const outputElement = document.getElementById(outputId);\n",
              "  // Cache steps on the outputElement to make it available for the next call\n",
              "  // to uploadFilesContinue from Python.\n",
              "  outputElement.steps = steps;\n",
              "\n",
              "  return _uploadFilesContinue(outputId);\n",
              "}\n",
              "\n",
              "// This is roughly an async generator (not supported in the browser yet),\n",
              "// where there are multiple asynchronous steps and the Python side is going\n",
              "// to poll for completion of each step.\n",
              "// This uses a Promise to block the python side on completion of each step,\n",
              "// then passes the result of the previous step as the input to the next step.\n",
              "function _uploadFilesContinue(outputId) {\n",
              "  const outputElement = document.getElementById(outputId);\n",
              "  const steps = outputElement.steps;\n",
              "\n",
              "  const next = steps.next(outputElement.lastPromiseValue);\n",
              "  return Promise.resolve(next.value.promise).then((value) => {\n",
              "    // Cache the last promise value to make it available to the next\n",
              "    // step of the generator.\n",
              "    outputElement.lastPromiseValue = value;\n",
              "    return next.value.response;\n",
              "  });\n",
              "}\n",
              "\n",
              "/**\n",
              " * Generator function which is called between each async step of the upload\n",
              " * process.\n",
              " * @param {string} inputId Element ID of the input file picker element.\n",
              " * @param {string} outputId Element ID of the output display.\n",
              " * @return {!Iterable<!Object>} Iterable of next steps.\n",
              " */\n",
              "function* uploadFilesStep(inputId, outputId) {\n",
              "  const inputElement = document.getElementById(inputId);\n",
              "  inputElement.disabled = false;\n",
              "\n",
              "  const outputElement = document.getElementById(outputId);\n",
              "  outputElement.innerHTML = '';\n",
              "\n",
              "  const pickedPromise = new Promise((resolve) => {\n",
              "    inputElement.addEventListener('change', (e) => {\n",
              "      resolve(e.target.files);\n",
              "    });\n",
              "  });\n",
              "\n",
              "  const cancel = document.createElement('button');\n",
              "  inputElement.parentElement.appendChild(cancel);\n",
              "  cancel.textContent = 'Cancel upload';\n",
              "  const cancelPromise = new Promise((resolve) => {\n",
              "    cancel.onclick = () => {\n",
              "      resolve(null);\n",
              "    };\n",
              "  });\n",
              "\n",
              "  // Wait for the user to pick the files.\n",
              "  const files = yield {\n",
              "    promise: Promise.race([pickedPromise, cancelPromise]),\n",
              "    response: {\n",
              "      action: 'starting',\n",
              "    }\n",
              "  };\n",
              "\n",
              "  cancel.remove();\n",
              "\n",
              "  // Disable the input element since further picks are not allowed.\n",
              "  inputElement.disabled = true;\n",
              "\n",
              "  if (!files) {\n",
              "    return {\n",
              "      response: {\n",
              "        action: 'complete',\n",
              "      }\n",
              "    };\n",
              "  }\n",
              "\n",
              "  for (const file of files) {\n",
              "    const li = document.createElement('li');\n",
              "    li.append(span(file.name, {fontWeight: 'bold'}));\n",
              "    li.append(span(\n",
              "        `(${file.type || 'n/a'}) - ${file.size} bytes, ` +\n",
              "        `last modified: ${\n",
              "            file.lastModifiedDate ? file.lastModifiedDate.toLocaleDateString() :\n",
              "                                    'n/a'} - `));\n",
              "    const percent = span('0% done');\n",
              "    li.appendChild(percent);\n",
              "\n",
              "    outputElement.appendChild(li);\n",
              "\n",
              "    const fileDataPromise = new Promise((resolve) => {\n",
              "      const reader = new FileReader();\n",
              "      reader.onload = (e) => {\n",
              "        resolve(e.target.result);\n",
              "      };\n",
              "      reader.readAsArrayBuffer(file);\n",
              "    });\n",
              "    // Wait for the data to be ready.\n",
              "    let fileData = yield {\n",
              "      promise: fileDataPromise,\n",
              "      response: {\n",
              "        action: 'continue',\n",
              "      }\n",
              "    };\n",
              "\n",
              "    // Use a chunked sending to avoid message size limits. See b/62115660.\n",
              "    let position = 0;\n",
              "    do {\n",
              "      const length = Math.min(fileData.byteLength - position, MAX_PAYLOAD_SIZE);\n",
              "      const chunk = new Uint8Array(fileData, position, length);\n",
              "      position += length;\n",
              "\n",
              "      const base64 = btoa(String.fromCharCode.apply(null, chunk));\n",
              "      yield {\n",
              "        response: {\n",
              "          action: 'append',\n",
              "          file: file.name,\n",
              "          data: base64,\n",
              "        },\n",
              "      };\n",
              "\n",
              "      let percentDone = fileData.byteLength === 0 ?\n",
              "          100 :\n",
              "          Math.round((position / fileData.byteLength) * 100);\n",
              "      percent.textContent = `${percentDone}% done`;\n",
              "\n",
              "    } while (position < fileData.byteLength);\n",
              "  }\n",
              "\n",
              "  // All done.\n",
              "  yield {\n",
              "    response: {\n",
              "      action: 'complete',\n",
              "    }\n",
              "  };\n",
              "}\n",
              "\n",
              "scope.google = scope.google || {};\n",
              "scope.google.colab = scope.google.colab || {};\n",
              "scope.google.colab._files = {\n",
              "  _uploadFiles,\n",
              "  _uploadFilesContinue,\n",
              "};\n",
              "})(self);\n",
              "</script> "
            ]
          },
          "metadata": {}
        },
        {
          "output_type": "stream",
          "name": "stdout",
          "text": [
            "Saving Pineapple Ripeness Detection.v3i.yolov8 (1).zip to Pineapple Ripeness Detection.v3i.yolov8 (1).zip\n"
          ]
        }
      ]
    },
    {
      "cell_type": "code",
      "source": [
        "import zipfile\n",
        "import os\n",
        "\n",
        "with zipfile.ZipFile(\"Pineapple Ripeness Detection.v3i.yolov8 (1).zip\", 'r') as zip_ref:\n",
        "    zip_ref.extractall(\"Pineapple Ripeness Detection.v3i.yolov8\")"
      ],
      "metadata": {
        "id": "9DArUYDLDQyx"
      },
      "execution_count": 3,
      "outputs": []
    },
    {
      "cell_type": "code",
      "source": [
        "with open(\"pineapple.yaml\", \"w\") as f:\n",
        "    f.write(\"\"\"\n",
        "path: /content/Pineapple Ripeness Detection.v3i.yolov8  # Updated path to the extracted folder. This is changed to an absolute path.\n",
        "train: train/images  # Path to training images within the dataset folder\n",
        "val: valid/images  # Path to validation images within the dataset folder. Changed from valid/labels to valid/images. Assumed you meant images not labels.\n",
        "\n",
        "names:\n",
        "  0: pineapple\n",
        "\"\"\")"
      ],
      "metadata": {
        "id": "LZ-rxu32ElZu"
      },
      "execution_count": 4,
      "outputs": []
    },
    {
      "cell_type": "code",
      "source": [
        "!pip install ultralytics --quiet  # Make sure Ultralytics is installed.\n",
        "from ultralytics import YOLO  # Import YOLO in the same cell where you use it\n",
        "\n",
        "model = YOLO(\"yolov8n.pt\")  # or yolov8s.pt, yolov8m.pt, etc.\n",
        "model.train(data=\"pineapple.yaml\", epochs=50, imgsz=640, project='runs/detect') # Add a project here"
      ],
      "metadata": {
        "colab": {
          "base_uri": "https://localhost:8080/"
        },
        "id": "lu6N4zzwEn6H",
        "outputId": "6f4e6718-ce52-4ea0-d8f8-eeb171968053"
      },
      "execution_count": 5,
      "outputs": [
        {
          "output_type": "stream",
          "name": "stdout",
          "text": [
            "Downloading https://github.com/ultralytics/assets/releases/download/v8.3.0/yolov8n.pt to 'yolov8n.pt'...\n"
          ]
        },
        {
          "output_type": "stream",
          "name": "stderr",
          "text": [
            "100%|██████████| 6.25M/6.25M [00:00<00:00, 112MB/s]\n"
          ]
        },
        {
          "output_type": "stream",
          "name": "stdout",
          "text": [
            "Ultralytics 8.3.111 🚀 Python-3.11.12 torch-2.6.0+cu124 CUDA:0 (Tesla T4, 15095MiB)\n",
            "\u001b[34m\u001b[1mengine/trainer: \u001b[0mtask=detect, mode=train, model=yolov8n.pt, data=pineapple.yaml, epochs=50, time=None, patience=100, batch=16, imgsz=640, save=True, save_period=-1, cache=False, device=None, workers=8, project=runs/detect, name=train, exist_ok=False, pretrained=True, optimizer=auto, verbose=True, seed=0, deterministic=True, single_cls=False, rect=False, cos_lr=False, close_mosaic=10, resume=False, amp=True, fraction=1.0, profile=False, freeze=None, multi_scale=False, overlap_mask=True, mask_ratio=4, dropout=0.0, val=True, split=val, save_json=False, conf=None, iou=0.7, max_det=300, half=False, dnn=False, plots=True, source=None, vid_stride=1, stream_buffer=False, visualize=False, augment=False, agnostic_nms=False, classes=None, retina_masks=False, embed=None, show=False, save_frames=False, save_txt=False, save_conf=False, save_crop=False, show_labels=True, show_conf=True, show_boxes=True, line_width=None, format=torchscript, keras=False, optimize=False, int8=False, dynamic=False, simplify=True, opset=None, workspace=None, nms=False, lr0=0.01, lrf=0.01, momentum=0.937, weight_decay=0.0005, warmup_epochs=3.0, warmup_momentum=0.8, warmup_bias_lr=0.1, box=7.5, cls=0.5, dfl=1.5, pose=12.0, kobj=1.0, nbs=64, hsv_h=0.015, hsv_s=0.7, hsv_v=0.4, degrees=0.0, translate=0.1, scale=0.5, shear=0.0, perspective=0.0, flipud=0.0, fliplr=0.5, bgr=0.0, mosaic=1.0, mixup=0.0, copy_paste=0.0, copy_paste_mode=flip, auto_augment=randaugment, erasing=0.4, cfg=None, tracker=botsort.yaml, save_dir=runs/detect/train\n",
            "Downloading https://ultralytics.com/assets/Arial.ttf to '/root/.config/Ultralytics/Arial.ttf'...\n"
          ]
        },
        {
          "output_type": "stream",
          "name": "stderr",
          "text": [
            "100%|██████████| 755k/755k [00:00<00:00, 24.1MB/s]\n"
          ]
        },
        {
          "output_type": "stream",
          "name": "stdout",
          "text": [
            "Overriding model.yaml nc=80 with nc=1\n",
            "\n",
            "                   from  n    params  module                                       arguments                     \n",
            "  0                  -1  1       464  ultralytics.nn.modules.conv.Conv             [3, 16, 3, 2]                 \n",
            "  1                  -1  1      4672  ultralytics.nn.modules.conv.Conv             [16, 32, 3, 2]                \n",
            "  2                  -1  1      7360  ultralytics.nn.modules.block.C2f             [32, 32, 1, True]             \n",
            "  3                  -1  1     18560  ultralytics.nn.modules.conv.Conv             [32, 64, 3, 2]                \n",
            "  4                  -1  2     49664  ultralytics.nn.modules.block.C2f             [64, 64, 2, True]             \n",
            "  5                  -1  1     73984  ultralytics.nn.modules.conv.Conv             [64, 128, 3, 2]               \n",
            "  6                  -1  2    197632  ultralytics.nn.modules.block.C2f             [128, 128, 2, True]           \n",
            "  7                  -1  1    295424  ultralytics.nn.modules.conv.Conv             [128, 256, 3, 2]              \n",
            "  8                  -1  1    460288  ultralytics.nn.modules.block.C2f             [256, 256, 1, True]           \n",
            "  9                  -1  1    164608  ultralytics.nn.modules.block.SPPF            [256, 256, 5]                 \n",
            " 10                  -1  1         0  torch.nn.modules.upsampling.Upsample         [None, 2, 'nearest']          \n",
            " 11             [-1, 6]  1         0  ultralytics.nn.modules.conv.Concat           [1]                           \n",
            " 12                  -1  1    148224  ultralytics.nn.modules.block.C2f             [384, 128, 1]                 \n",
            " 13                  -1  1         0  torch.nn.modules.upsampling.Upsample         [None, 2, 'nearest']          \n",
            " 14             [-1, 4]  1         0  ultralytics.nn.modules.conv.Concat           [1]                           \n",
            " 15                  -1  1     37248  ultralytics.nn.modules.block.C2f             [192, 64, 1]                  \n",
            " 16                  -1  1     36992  ultralytics.nn.modules.conv.Conv             [64, 64, 3, 2]                \n",
            " 17            [-1, 12]  1         0  ultralytics.nn.modules.conv.Concat           [1]                           \n",
            " 18                  -1  1    123648  ultralytics.nn.modules.block.C2f             [192, 128, 1]                 \n",
            " 19                  -1  1    147712  ultralytics.nn.modules.conv.Conv             [128, 128, 3, 2]              \n",
            " 20             [-1, 9]  1         0  ultralytics.nn.modules.conv.Concat           [1]                           \n",
            " 21                  -1  1    493056  ultralytics.nn.modules.block.C2f             [384, 256, 1]                 \n",
            " 22        [15, 18, 21]  1    751507  ultralytics.nn.modules.head.Detect           [1, [64, 128, 256]]           \n",
            "Model summary: 129 layers, 3,011,043 parameters, 3,011,027 gradients, 8.2 GFLOPs\n",
            "\n",
            "Transferred 319/355 items from pretrained weights\n",
            "Freezing layer 'model.22.dfl.conv.weight'\n",
            "\u001b[34m\u001b[1mAMP: \u001b[0mrunning Automatic Mixed Precision (AMP) checks...\n",
            "Downloading https://github.com/ultralytics/assets/releases/download/v8.3.0/yolo11n.pt to 'yolo11n.pt'...\n"
          ]
        },
        {
          "output_type": "stream",
          "name": "stderr",
          "text": [
            "100%|██████████| 5.35M/5.35M [00:00<00:00, 111MB/s]\n"
          ]
        },
        {
          "output_type": "stream",
          "name": "stdout",
          "text": [
            "\u001b[34m\u001b[1mAMP: \u001b[0mchecks passed ✅\n",
            "\u001b[34m\u001b[1mtrain: \u001b[0mFast image access ✅ (ping: 0.0±0.0 ms, read: 1078.6±356.3 MB/s, size: 109.7 KB)\n"
          ]
        },
        {
          "output_type": "stream",
          "name": "stderr",
          "text": [
            "\u001b[34m\u001b[1mtrain: \u001b[0mScanning /content/Pineapple Ripeness Detection.v3i.yolov8/train/labels... 726 images, 9 backgrounds, 348 corrupt: 100%|██████████| 726/726 [00:00<00:00, 3008.52it/s]"
          ]
        },
        {
          "output_type": "stream",
          "name": "stdout",
          "text": [
            "\u001b[34m\u001b[1mtrain: \u001b[0mWARNING ⚠️ /content/Pineapple Ripeness Detection.v3i.yolov8/train/images/1518211407458_jpeg.rf.084be1853fbc6ad14fd51129417538d2.jpg: ignoring corrupt image/label: Label class 1 exceeds dataset class count 1. Possible class labels are 0-0\n",
            "\u001b[34m\u001b[1mtrain: \u001b[0mWARNING ⚠️ /content/Pineapple Ripeness Detection.v3i.yolov8/train/images/1518211407458_jpeg.rf.262dda379d32102137995360c54d20b5.jpg: ignoring corrupt image/label: Label class 1 exceeds dataset class count 1. Possible class labels are 0-0\n",
            "\u001b[34m\u001b[1mtrain: \u001b[0mWARNING ⚠️ /content/Pineapple Ripeness Detection.v3i.yolov8/train/images/1518211407458_jpeg.rf.ac83d58067bd2183df1c173db689cf4e.jpg: ignoring corrupt image/label: Label class 1 exceeds dataset class count 1. Possible class labels are 0-0\n",
            "\u001b[34m\u001b[1mtrain: \u001b[0mWARNING ⚠️ /content/Pineapple Ripeness Detection.v3i.yolov8/train/images/1589314049479_jpeg.rf.925fdf6ab1cf7a252ba2a9c853c68e98.jpg: ignoring corrupt image/label: Label class 1 exceeds dataset class count 1. Possible class labels are 0-0\n",
            "\u001b[34m\u001b[1mtrain: \u001b[0mWARNING ⚠️ /content/Pineapple Ripeness Detection.v3i.yolov8/train/images/1589314049479_jpeg.rf.94e7602453bc22064f9cdf1397283c22.jpg: ignoring corrupt image/label: Label class 1 exceeds dataset class count 1. Possible class labels are 0-0\n",
            "\u001b[34m\u001b[1mtrain: \u001b[0mWARNING ⚠️ /content/Pineapple Ripeness Detection.v3i.yolov8/train/images/1589314049479_jpeg.rf.d069156ed386cd720a66383f349aa22c.jpg: ignoring corrupt image/label: Label class 1 exceeds dataset class count 1. Possible class labels are 0-0\n",
            "\u001b[34m\u001b[1mtrain: \u001b[0mWARNING ⚠️ /content/Pineapple Ripeness Detection.v3i.yolov8/train/images/IMG_0878_JPG.rf.0b6f8df42e0db26bbd369af07bc23488.jpg: ignoring corrupt image/label: Label class 1 exceeds dataset class count 1. Possible class labels are 0-0\n",
            "\u001b[34m\u001b[1mtrain: \u001b[0mWARNING ⚠️ /content/Pineapple Ripeness Detection.v3i.yolov8/train/images/IMG_0878_JPG.rf.366c477b45a0d443dd11e3708efbc45c.jpg: ignoring corrupt image/label: Label class 1 exceeds dataset class count 1. Possible class labels are 0-0\n",
            "\u001b[34m\u001b[1mtrain: \u001b[0mWARNING ⚠️ /content/Pineapple Ripeness Detection.v3i.yolov8/train/images/IMG_0878_JPG.rf.401efb9919d05524863108260b93ad0a.jpg: ignoring corrupt image/label: Label class 1 exceeds dataset class count 1. Possible class labels are 0-0\n",
            "\u001b[34m\u001b[1mtrain: \u001b[0mWARNING ⚠️ /content/Pineapple Ripeness Detection.v3i.yolov8/train/images/IMG_0881_JPG.rf.279815f0be09e7f7031dde8108a6ec7a.jpg: ignoring corrupt image/label: Label class 1 exceeds dataset class count 1. Possible class labels are 0-0\n",
            "\u001b[34m\u001b[1mtrain: \u001b[0mWARNING ⚠️ /content/Pineapple Ripeness Detection.v3i.yolov8/train/images/IMG_0881_JPG.rf.46bdaa964e1258b4dd9f8f3d7980cbe5.jpg: ignoring corrupt image/label: Label class 1 exceeds dataset class count 1. Possible class labels are 0-0\n",
            "\u001b[34m\u001b[1mtrain: \u001b[0mWARNING ⚠️ /content/Pineapple Ripeness Detection.v3i.yolov8/train/images/IMG_0881_JPG.rf.bc816eda8585b5731c0d8fe95f0eaedd.jpg: ignoring corrupt image/label: Label class 1 exceeds dataset class count 1. Possible class labels are 0-0\n",
            "\u001b[34m\u001b[1mtrain: \u001b[0mWARNING ⚠️ /content/Pineapple Ripeness Detection.v3i.yolov8/train/images/IMG_0884_JPG.rf.6c85a43900a21c2e3dfb4733be796e2d.jpg: ignoring corrupt image/label: Label class 1 exceeds dataset class count 1. Possible class labels are 0-0\n",
            "\u001b[34m\u001b[1mtrain: \u001b[0mWARNING ⚠️ /content/Pineapple Ripeness Detection.v3i.yolov8/train/images/IMG_0884_JPG.rf.eb1ba77eda522d2c7aff11622ddb69e4.jpg: ignoring corrupt image/label: Label class 1 exceeds dataset class count 1. Possible class labels are 0-0\n",
            "\u001b[34m\u001b[1mtrain: \u001b[0mWARNING ⚠️ /content/Pineapple Ripeness Detection.v3i.yolov8/train/images/IMG_0884_JPG.rf.f44e98f72767c4d3e094b03c3e46a57e.jpg: ignoring corrupt image/label: Label class 1 exceeds dataset class count 1. Possible class labels are 0-0\n",
            "\u001b[34m\u001b[1mtrain: \u001b[0mWARNING ⚠️ /content/Pineapple Ripeness Detection.v3i.yolov8/train/images/IMG_0886_JPG.rf.04ca6945334dfbc306bafd79fea2845f.jpg: ignoring corrupt image/label: Label class 1 exceeds dataset class count 1. Possible class labels are 0-0\n",
            "\u001b[34m\u001b[1mtrain: \u001b[0mWARNING ⚠️ /content/Pineapple Ripeness Detection.v3i.yolov8/train/images/IMG_0886_JPG.rf.6880c222c000bb93684297f1295aef9f.jpg: ignoring corrupt image/label: Label class 1 exceeds dataset class count 1. Possible class labels are 0-0\n",
            "\u001b[34m\u001b[1mtrain: \u001b[0mWARNING ⚠️ /content/Pineapple Ripeness Detection.v3i.yolov8/train/images/IMG_0886_JPG.rf.7d08f24435380300608fe0fb6ee18af4.jpg: ignoring corrupt image/label: Label class 1 exceeds dataset class count 1. Possible class labels are 0-0\n",
            "\u001b[34m\u001b[1mtrain: \u001b[0mWARNING ⚠️ /content/Pineapple Ripeness Detection.v3i.yolov8/train/images/IMG_0888_JPG.rf.07534bbc4bcb48f805d317ec67126aaf.jpg: ignoring corrupt image/label: Label class 1 exceeds dataset class count 1. Possible class labels are 0-0\n",
            "\u001b[34m\u001b[1mtrain: \u001b[0mWARNING ⚠️ /content/Pineapple Ripeness Detection.v3i.yolov8/train/images/IMG_0888_JPG.rf.ac6a85b68ff39b97b59cc8c1964b8435.jpg: ignoring corrupt image/label: Label class 1 exceeds dataset class count 1. Possible class labels are 0-0\n",
            "\u001b[34m\u001b[1mtrain: \u001b[0mWARNING ⚠️ /content/Pineapple Ripeness Detection.v3i.yolov8/train/images/IMG_0888_JPG.rf.aec6f5693f107afcdf9aa664ccbe319c.jpg: ignoring corrupt image/label: Label class 1 exceeds dataset class count 1. Possible class labels are 0-0\n",
            "\u001b[34m\u001b[1mtrain: \u001b[0mWARNING ⚠️ /content/Pineapple Ripeness Detection.v3i.yolov8/train/images/IMG_0891_JPG.rf.020fa0b73c7696baad52497a3eae8c27.jpg: ignoring corrupt image/label: Label class 1 exceeds dataset class count 1. Possible class labels are 0-0\n",
            "\u001b[34m\u001b[1mtrain: \u001b[0mWARNING ⚠️ /content/Pineapple Ripeness Detection.v3i.yolov8/train/images/IMG_0891_JPG.rf.58fd03aec42a3ce15b1e03e440f0e023.jpg: ignoring corrupt image/label: Label class 1 exceeds dataset class count 1. Possible class labels are 0-0\n",
            "\u001b[34m\u001b[1mtrain: \u001b[0mWARNING ⚠️ /content/Pineapple Ripeness Detection.v3i.yolov8/train/images/IMG_0891_JPG.rf.b2cf87475931d63313838acfe2ad962b.jpg: ignoring corrupt image/label: Label class 1 exceeds dataset class count 1. Possible class labels are 0-0\n",
            "\u001b[34m\u001b[1mtrain: \u001b[0mWARNING ⚠️ /content/Pineapple Ripeness Detection.v3i.yolov8/train/images/IMG_0893_JPG.rf.36cc39d1ba120ea097761d7d69a2b402.jpg: ignoring corrupt image/label: Label class 1 exceeds dataset class count 1. Possible class labels are 0-0\n",
            "\u001b[34m\u001b[1mtrain: \u001b[0mWARNING ⚠️ /content/Pineapple Ripeness Detection.v3i.yolov8/train/images/IMG_0893_JPG.rf.386d73bb176d214170d681be52ef96af.jpg: ignoring corrupt image/label: Label class 1 exceeds dataset class count 1. Possible class labels are 0-0\n",
            "\u001b[34m\u001b[1mtrain: \u001b[0mWARNING ⚠️ /content/Pineapple Ripeness Detection.v3i.yolov8/train/images/IMG_0893_JPG.rf.404eb1b5582e7d99a9dd17d08d453e75.jpg: ignoring corrupt image/label: Label class 1 exceeds dataset class count 1. Possible class labels are 0-0\n",
            "\u001b[34m\u001b[1mtrain: \u001b[0mWARNING ⚠️ /content/Pineapple Ripeness Detection.v3i.yolov8/train/images/IMG_0894_JPG.rf.0e58fa9299331c8a11fba4f34944a15b.jpg: ignoring corrupt image/label: Label class 1 exceeds dataset class count 1. Possible class labels are 0-0\n",
            "\u001b[34m\u001b[1mtrain: \u001b[0mWARNING ⚠️ /content/Pineapple Ripeness Detection.v3i.yolov8/train/images/IMG_0894_JPG.rf.2231bcf90b863ba667a48a5aad0df0cc.jpg: ignoring corrupt image/label: Label class 1 exceeds dataset class count 1. Possible class labels are 0-0\n",
            "\u001b[34m\u001b[1mtrain: \u001b[0mWARNING ⚠️ /content/Pineapple Ripeness Detection.v3i.yolov8/train/images/IMG_0894_JPG.rf.b9a7c6c50b6eaf5d0f924abea17f5b6f.jpg: ignoring corrupt image/label: Label class 1 exceeds dataset class count 1. Possible class labels are 0-0\n",
            "\u001b[34m\u001b[1mtrain: \u001b[0mWARNING ⚠️ /content/Pineapple Ripeness Detection.v3i.yolov8/train/images/IMG_0897_JPG.rf.034dcc161e32847e9eda967c959430e1.jpg: ignoring corrupt image/label: Label class 1 exceeds dataset class count 1. Possible class labels are 0-0\n",
            "\u001b[34m\u001b[1mtrain: \u001b[0mWARNING ⚠️ /content/Pineapple Ripeness Detection.v3i.yolov8/train/images/IMG_0897_JPG.rf.708bebec6623ac2eca9864ef342970ab.jpg: ignoring corrupt image/label: Label class 1 exceeds dataset class count 1. Possible class labels are 0-0\n",
            "\u001b[34m\u001b[1mtrain: \u001b[0mWARNING ⚠️ /content/Pineapple Ripeness Detection.v3i.yolov8/train/images/IMG_0897_JPG.rf.a2da2a64363f0d01704ef761b428c350.jpg: ignoring corrupt image/label: Label class 1 exceeds dataset class count 1. Possible class labels are 0-0\n",
            "\u001b[34m\u001b[1mtrain: \u001b[0mWARNING ⚠️ /content/Pineapple Ripeness Detection.v3i.yolov8/train/images/IMG_0898_JPG.rf.2f401fe78d73c4094f5c7aeb4a46ad76.jpg: ignoring corrupt image/label: Label class 1 exceeds dataset class count 1. Possible class labels are 0-0\n",
            "\u001b[34m\u001b[1mtrain: \u001b[0mWARNING ⚠️ /content/Pineapple Ripeness Detection.v3i.yolov8/train/images/IMG_0898_JPG.rf.4eff6775ff5173bc3b2780cf2f9d21d6.jpg: ignoring corrupt image/label: Label class 1 exceeds dataset class count 1. Possible class labels are 0-0\n",
            "\u001b[34m\u001b[1mtrain: \u001b[0mWARNING ⚠️ /content/Pineapple Ripeness Detection.v3i.yolov8/train/images/IMG_0898_JPG.rf.5d3d8f8008096b575526600b2e834275.jpg: ignoring corrupt image/label: Label class 1 exceeds dataset class count 1. Possible class labels are 0-0\n",
            "\u001b[34m\u001b[1mtrain: \u001b[0mWARNING ⚠️ /content/Pineapple Ripeness Detection.v3i.yolov8/train/images/IMG_0900_JPG.rf.37d06ed98d6101da667c6ec690d735ef.jpg: ignoring corrupt image/label: Label class 1 exceeds dataset class count 1. Possible class labels are 0-0\n",
            "\u001b[34m\u001b[1mtrain: \u001b[0mWARNING ⚠️ /content/Pineapple Ripeness Detection.v3i.yolov8/train/images/IMG_0900_JPG.rf.5c09afc7f17142a21728153c24410c6a.jpg: ignoring corrupt image/label: Label class 1 exceeds dataset class count 1. Possible class labels are 0-0\n",
            "\u001b[34m\u001b[1mtrain: \u001b[0mWARNING ⚠️ /content/Pineapple Ripeness Detection.v3i.yolov8/train/images/IMG_0900_JPG.rf.c237743ddec4b2d8d95ce473fe82d98d.jpg: ignoring corrupt image/label: Label class 1 exceeds dataset class count 1. Possible class labels are 0-0\n",
            "\u001b[34m\u001b[1mtrain: \u001b[0mWARNING ⚠️ /content/Pineapple Ripeness Detection.v3i.yolov8/train/images/IMG_0904_JPG.rf.0b719df75b0c9bd6ec958ebdf13e2fcd.jpg: ignoring corrupt image/label: Label class 1 exceeds dataset class count 1. Possible class labels are 0-0\n",
            "\u001b[34m\u001b[1mtrain: \u001b[0mWARNING ⚠️ /content/Pineapple Ripeness Detection.v3i.yolov8/train/images/IMG_0904_JPG.rf.409358d83995aea9fd4e2adfc05bf963.jpg: ignoring corrupt image/label: Label class 1 exceeds dataset class count 1. Possible class labels are 0-0\n",
            "\u001b[34m\u001b[1mtrain: \u001b[0mWARNING ⚠️ /content/Pineapple Ripeness Detection.v3i.yolov8/train/images/IMG_0904_JPG.rf.db9e48c740df062e32f8defe4a21d78b.jpg: ignoring corrupt image/label: Label class 1 exceeds dataset class count 1. Possible class labels are 0-0\n",
            "\u001b[34m\u001b[1mtrain: \u001b[0mWARNING ⚠️ /content/Pineapple Ripeness Detection.v3i.yolov8/train/images/IMG_0905_JPG.rf.599c849e278bc6f2f744b8057248052c.jpg: ignoring corrupt image/label: Label class 1 exceeds dataset class count 1. Possible class labels are 0-0\n",
            "\u001b[34m\u001b[1mtrain: \u001b[0mWARNING ⚠️ /content/Pineapple Ripeness Detection.v3i.yolov8/train/images/IMG_0905_JPG.rf.88a49659717ee3f00cce905e22aca1ad.jpg: ignoring corrupt image/label: Label class 1 exceeds dataset class count 1. Possible class labels are 0-0\n",
            "\u001b[34m\u001b[1mtrain: \u001b[0mWARNING ⚠️ /content/Pineapple Ripeness Detection.v3i.yolov8/train/images/IMG_0905_JPG.rf.bbfe544887778f18473eade8bf789568.jpg: ignoring corrupt image/label: Label class 1 exceeds dataset class count 1. Possible class labels are 0-0\n",
            "\u001b[34m\u001b[1mtrain: \u001b[0mWARNING ⚠️ /content/Pineapple Ripeness Detection.v3i.yolov8/train/images/IMG_0906_JPG.rf.90bfc33463dc8966ba3bed8bcbd9a0a9.jpg: ignoring corrupt image/label: Label class 1 exceeds dataset class count 1. Possible class labels are 0-0\n",
            "\u001b[34m\u001b[1mtrain: \u001b[0mWARNING ⚠️ /content/Pineapple Ripeness Detection.v3i.yolov8/train/images/IMG_0906_JPG.rf.a794303b3399b88082d4cc8a84c0a07b.jpg: ignoring corrupt image/label: Label class 1 exceeds dataset class count 1. Possible class labels are 0-0\n",
            "\u001b[34m\u001b[1mtrain: \u001b[0mWARNING ⚠️ /content/Pineapple Ripeness Detection.v3i.yolov8/train/images/IMG_0906_JPG.rf.e5bc64e8f0d3641f26881f0d10fb66cf.jpg: ignoring corrupt image/label: Label class 1 exceeds dataset class count 1. Possible class labels are 0-0\n",
            "\u001b[34m\u001b[1mtrain: \u001b[0mWARNING ⚠️ /content/Pineapple Ripeness Detection.v3i.yolov8/train/images/IMG_0909_JPG.rf.0822f856a50557594d07f70f2b22927f.jpg: ignoring corrupt image/label: Label class 1 exceeds dataset class count 1. Possible class labels are 0-0\n",
            "\u001b[34m\u001b[1mtrain: \u001b[0mWARNING ⚠️ /content/Pineapple Ripeness Detection.v3i.yolov8/train/images/IMG_0909_JPG.rf.22fce9f21255b7ad85bcc5f2f0f21e04.jpg: ignoring corrupt image/label: Label class 1 exceeds dataset class count 1. Possible class labels are 0-0\n",
            "\u001b[34m\u001b[1mtrain: \u001b[0mWARNING ⚠️ /content/Pineapple Ripeness Detection.v3i.yolov8/train/images/IMG_0909_JPG.rf.357ac72309f969a8f8810f01f5350b77.jpg: ignoring corrupt image/label: Label class 1 exceeds dataset class count 1. Possible class labels are 0-0\n",
            "\u001b[34m\u001b[1mtrain: \u001b[0mWARNING ⚠️ /content/Pineapple Ripeness Detection.v3i.yolov8/train/images/IMG_0911_JPG.rf.0f544ec58a5e65fed2798597acd5dbd2.jpg: ignoring corrupt image/label: Label class 1 exceeds dataset class count 1. Possible class labels are 0-0\n",
            "\u001b[34m\u001b[1mtrain: \u001b[0mWARNING ⚠️ /content/Pineapple Ripeness Detection.v3i.yolov8/train/images/IMG_0911_JPG.rf.8238a8e3507683022809d3efb108643e.jpg: ignoring corrupt image/label: Label class 1 exceeds dataset class count 1. Possible class labels are 0-0\n",
            "\u001b[34m\u001b[1mtrain: \u001b[0mWARNING ⚠️ /content/Pineapple Ripeness Detection.v3i.yolov8/train/images/IMG_0911_JPG.rf.e169a6b4ad209284b5ac09efa6b349fe.jpg: ignoring corrupt image/label: Label class 1 exceeds dataset class count 1. Possible class labels are 0-0\n",
            "\u001b[34m\u001b[1mtrain: \u001b[0mWARNING ⚠️ /content/Pineapple Ripeness Detection.v3i.yolov8/train/images/IMG_0913_JPG.rf.8c750ebd0c195379c5d32de96b0549cf.jpg: ignoring corrupt image/label: Label class 1 exceeds dataset class count 1. Possible class labels are 0-0\n",
            "\u001b[34m\u001b[1mtrain: \u001b[0mWARNING ⚠️ /content/Pineapple Ripeness Detection.v3i.yolov8/train/images/IMG_0913_JPG.rf.adb98fe95152733166753ff78ac83abf.jpg: ignoring corrupt image/label: Label class 1 exceeds dataset class count 1. Possible class labels are 0-0\n",
            "\u001b[34m\u001b[1mtrain: \u001b[0mWARNING ⚠️ /content/Pineapple Ripeness Detection.v3i.yolov8/train/images/IMG_0913_JPG.rf.f0a2d0d9d71c1b61bb8a31a739455af0.jpg: ignoring corrupt image/label: Label class 1 exceeds dataset class count 1. Possible class labels are 0-0\n",
            "\u001b[34m\u001b[1mtrain: \u001b[0mWARNING ⚠️ /content/Pineapple Ripeness Detection.v3i.yolov8/train/images/IMG_0916_JPG.rf.8c872604a2bebc805f597353487e6a7b.jpg: ignoring corrupt image/label: Label class 1 exceeds dataset class count 1. Possible class labels are 0-0\n",
            "\u001b[34m\u001b[1mtrain: \u001b[0mWARNING ⚠️ /content/Pineapple Ripeness Detection.v3i.yolov8/train/images/IMG_0916_JPG.rf.c7479b098273bc0f8c916df5c4728dda.jpg: ignoring corrupt image/label: Label class 1 exceeds dataset class count 1. Possible class labels are 0-0\n",
            "\u001b[34m\u001b[1mtrain: \u001b[0mWARNING ⚠️ /content/Pineapple Ripeness Detection.v3i.yolov8/train/images/IMG_0916_JPG.rf.ff149146cd616cafcc5a1e6ba1a886c3.jpg: ignoring corrupt image/label: Label class 1 exceeds dataset class count 1. Possible class labels are 0-0\n",
            "\u001b[34m\u001b[1mtrain: \u001b[0mWARNING ⚠️ /content/Pineapple Ripeness Detection.v3i.yolov8/train/images/IMG_0918_JPG.rf.357e2dd142353c7ca67d6dc8f8f93923.jpg: ignoring corrupt image/label: Label class 1 exceeds dataset class count 1. Possible class labels are 0-0\n",
            "\u001b[34m\u001b[1mtrain: \u001b[0mWARNING ⚠️ /content/Pineapple Ripeness Detection.v3i.yolov8/train/images/IMG_0918_JPG.rf.6334e33e02c0c440d9eeee41ed7e5328.jpg: ignoring corrupt image/label: Label class 1 exceeds dataset class count 1. Possible class labels are 0-0\n",
            "\u001b[34m\u001b[1mtrain: \u001b[0mWARNING ⚠️ /content/Pineapple Ripeness Detection.v3i.yolov8/train/images/IMG_0918_JPG.rf.b1d32a140c5529d04f47d334b17c9ff7.jpg: ignoring corrupt image/label: Label class 1 exceeds dataset class count 1. Possible class labels are 0-0\n",
            "\u001b[34m\u001b[1mtrain: \u001b[0mWARNING ⚠️ /content/Pineapple Ripeness Detection.v3i.yolov8/train/images/IMG_0919_JPG.rf.4abc5ed625a37169af75edc840eaa2e5.jpg: ignoring corrupt image/label: Label class 1 exceeds dataset class count 1. Possible class labels are 0-0\n",
            "\u001b[34m\u001b[1mtrain: \u001b[0mWARNING ⚠️ /content/Pineapple Ripeness Detection.v3i.yolov8/train/images/IMG_0919_JPG.rf.65949db5657860bbb002ed4715a937cb.jpg: ignoring corrupt image/label: Label class 1 exceeds dataset class count 1. Possible class labels are 0-0\n",
            "\u001b[34m\u001b[1mtrain: \u001b[0mWARNING ⚠️ /content/Pineapple Ripeness Detection.v3i.yolov8/train/images/IMG_0919_JPG.rf.7e2d83caab731f182f05a1c9c5d507dd.jpg: ignoring corrupt image/label: Label class 1 exceeds dataset class count 1. Possible class labels are 0-0\n",
            "\u001b[34m\u001b[1mtrain: \u001b[0mWARNING ⚠️ /content/Pineapple Ripeness Detection.v3i.yolov8/train/images/IMG_0920_JPG.rf.36904fe56dcffcffc5ba8a8c0c87f44b.jpg: ignoring corrupt image/label: Label class 1 exceeds dataset class count 1. Possible class labels are 0-0\n",
            "\u001b[34m\u001b[1mtrain: \u001b[0mWARNING ⚠️ /content/Pineapple Ripeness Detection.v3i.yolov8/train/images/IMG_0920_JPG.rf.59b297f3eaab4b251708bf7e4dd0fb64.jpg: ignoring corrupt image/label: Label class 1 exceeds dataset class count 1. Possible class labels are 0-0\n",
            "\u001b[34m\u001b[1mtrain: \u001b[0mWARNING ⚠️ /content/Pineapple Ripeness Detection.v3i.yolov8/train/images/IMG_0920_JPG.rf.d9b23d9a84c849e24c368fadf3c210a0.jpg: ignoring corrupt image/label: Label class 1 exceeds dataset class count 1. Possible class labels are 0-0\n",
            "\u001b[34m\u001b[1mtrain: \u001b[0mWARNING ⚠️ /content/Pineapple Ripeness Detection.v3i.yolov8/train/images/IMG_0921_JPG.rf.11fb5cfaf694d8067bc68b23e579ab32.jpg: ignoring corrupt image/label: Label class 1 exceeds dataset class count 1. Possible class labels are 0-0\n",
            "\u001b[34m\u001b[1mtrain: \u001b[0mWARNING ⚠️ /content/Pineapple Ripeness Detection.v3i.yolov8/train/images/IMG_0921_JPG.rf.4a67378e9e99687d3308bdd9a8e502fb.jpg: ignoring corrupt image/label: Label class 1 exceeds dataset class count 1. Possible class labels are 0-0\n",
            "\u001b[34m\u001b[1mtrain: \u001b[0mWARNING ⚠️ /content/Pineapple Ripeness Detection.v3i.yolov8/train/images/IMG_0921_JPG.rf.bd12032fd71c9e789d40a9ae584d0cfa.jpg: ignoring corrupt image/label: Label class 1 exceeds dataset class count 1. Possible class labels are 0-0\n",
            "\u001b[34m\u001b[1mtrain: \u001b[0mWARNING ⚠️ /content/Pineapple Ripeness Detection.v3i.yolov8/train/images/IMG_0922_JPG.rf.555d5411706399d009a8d5e96bb7d82d.jpg: ignoring corrupt image/label: Label class 1 exceeds dataset class count 1. Possible class labels are 0-0\n",
            "\u001b[34m\u001b[1mtrain: \u001b[0mWARNING ⚠️ /content/Pineapple Ripeness Detection.v3i.yolov8/train/images/IMG_0922_JPG.rf.e05f25e270fe5d067cb2cc030f1d78ae.jpg: ignoring corrupt image/label: Label class 1 exceeds dataset class count 1. Possible class labels are 0-0\n",
            "\u001b[34m\u001b[1mtrain: \u001b[0mWARNING ⚠️ /content/Pineapple Ripeness Detection.v3i.yolov8/train/images/IMG_0922_JPG.rf.f1f4269cb82c08fb0bb7c2b31fec7e4a.jpg: ignoring corrupt image/label: Label class 1 exceeds dataset class count 1. Possible class labels are 0-0\n",
            "\u001b[34m\u001b[1mtrain: \u001b[0mWARNING ⚠️ /content/Pineapple Ripeness Detection.v3i.yolov8/train/images/IMG_0923_JPG.rf.07c10d919a3887d8f444bbe6a35bd0ef.jpg: ignoring corrupt image/label: Label class 1 exceeds dataset class count 1. Possible class labels are 0-0\n",
            "\u001b[34m\u001b[1mtrain: \u001b[0mWARNING ⚠️ /content/Pineapple Ripeness Detection.v3i.yolov8/train/images/IMG_0923_JPG.rf.427f403e94d046cf8f579c8c64a47933.jpg: ignoring corrupt image/label: Label class 1 exceeds dataset class count 1. Possible class labels are 0-0\n",
            "\u001b[34m\u001b[1mtrain: \u001b[0mWARNING ⚠️ /content/Pineapple Ripeness Detection.v3i.yolov8/train/images/IMG_0923_JPG.rf.604c6652d4b6d7f8a262816b00a4d35e.jpg: ignoring corrupt image/label: Label class 1 exceeds dataset class count 1. Possible class labels are 0-0\n",
            "\u001b[34m\u001b[1mtrain: \u001b[0mWARNING ⚠️ /content/Pineapple Ripeness Detection.v3i.yolov8/train/images/IMG_0928_JPG.rf.193b83071d8f216a98541dfb2d05ddcd.jpg: ignoring corrupt image/label: Label class 1 exceeds dataset class count 1. Possible class labels are 0-0\n",
            "\u001b[34m\u001b[1mtrain: \u001b[0mWARNING ⚠️ /content/Pineapple Ripeness Detection.v3i.yolov8/train/images/IMG_0928_JPG.rf.6f3e27d0db0855db5c345701ec90626e.jpg: ignoring corrupt image/label: Label class 1 exceeds dataset class count 1. Possible class labels are 0-0\n",
            "\u001b[34m\u001b[1mtrain: \u001b[0mWARNING ⚠️ /content/Pineapple Ripeness Detection.v3i.yolov8/train/images/IMG_0928_JPG.rf.7f88c858dbcb02b884b5a2dae40e1edf.jpg: ignoring corrupt image/label: Label class 1 exceeds dataset class count 1. Possible class labels are 0-0\n",
            "\u001b[34m\u001b[1mtrain: \u001b[0mWARNING ⚠️ /content/Pineapple Ripeness Detection.v3i.yolov8/train/images/IMG_0929_JPG.rf.1f3620ae255a5580c3fff6d2e83eef1b.jpg: ignoring corrupt image/label: Label class 1 exceeds dataset class count 1. Possible class labels are 0-0\n",
            "\u001b[34m\u001b[1mtrain: \u001b[0mWARNING ⚠️ /content/Pineapple Ripeness Detection.v3i.yolov8/train/images/IMG_0929_JPG.rf.b275d51a0fbcfb2fe8e5d75fa21c7112.jpg: ignoring corrupt image/label: Label class 1 exceeds dataset class count 1. Possible class labels are 0-0\n",
            "\u001b[34m\u001b[1mtrain: \u001b[0mWARNING ⚠️ /content/Pineapple Ripeness Detection.v3i.yolov8/train/images/IMG_0929_JPG.rf.f9fca7429098f5ee6807fe591bc669fb.jpg: ignoring corrupt image/label: Label class 1 exceeds dataset class count 1. Possible class labels are 0-0\n",
            "\u001b[34m\u001b[1mtrain: \u001b[0mWARNING ⚠️ /content/Pineapple Ripeness Detection.v3i.yolov8/train/images/IMG_0932_JPG.rf.46eb7e09524bc555f97d45a39250229e.jpg: ignoring corrupt image/label: Label class 1 exceeds dataset class count 1. Possible class labels are 0-0\n",
            "\u001b[34m\u001b[1mtrain: \u001b[0mWARNING ⚠️ /content/Pineapple Ripeness Detection.v3i.yolov8/train/images/IMG_0932_JPG.rf.ac75799f819a35d7231b6c06a5489695.jpg: ignoring corrupt image/label: Label class 1 exceeds dataset class count 1. Possible class labels are 0-0\n",
            "\u001b[34m\u001b[1mtrain: \u001b[0mWARNING ⚠️ /content/Pineapple Ripeness Detection.v3i.yolov8/train/images/IMG_0932_JPG.rf.d1c3c28a5e74ff5881626bfdf2694d92.jpg: ignoring corrupt image/label: Label class 1 exceeds dataset class count 1. Possible class labels are 0-0\n",
            "\u001b[34m\u001b[1mtrain: \u001b[0mWARNING ⚠️ /content/Pineapple Ripeness Detection.v3i.yolov8/train/images/IMG_0935_JPG.rf.0faf32fcbe28ca37e5b405d784043bc5.jpg: ignoring corrupt image/label: Label class 1 exceeds dataset class count 1. Possible class labels are 0-0\n",
            "\u001b[34m\u001b[1mtrain: \u001b[0mWARNING ⚠️ /content/Pineapple Ripeness Detection.v3i.yolov8/train/images/IMG_0935_JPG.rf.5baa86a7265631231dac6a2af3e97705.jpg: ignoring corrupt image/label: Label class 1 exceeds dataset class count 1. Possible class labels are 0-0\n",
            "\u001b[34m\u001b[1mtrain: \u001b[0mWARNING ⚠️ /content/Pineapple Ripeness Detection.v3i.yolov8/train/images/IMG_0935_JPG.rf.ed7f7413a7e5a11639e7a1069f461984.jpg: ignoring corrupt image/label: Label class 1 exceeds dataset class count 1. Possible class labels are 0-0\n",
            "\u001b[34m\u001b[1mtrain: \u001b[0mWARNING ⚠️ /content/Pineapple Ripeness Detection.v3i.yolov8/train/images/IMG_0936_JPG.rf.080e1fb12f2863e5aabaa7404b0b7375.jpg: ignoring corrupt image/label: Label class 1 exceeds dataset class count 1. Possible class labels are 0-0\n",
            "\u001b[34m\u001b[1mtrain: \u001b[0mWARNING ⚠️ /content/Pineapple Ripeness Detection.v3i.yolov8/train/images/IMG_0936_JPG.rf.80157a1ff312f7fc1f8ef1dd5e3a1e23.jpg: ignoring corrupt image/label: Label class 1 exceeds dataset class count 1. Possible class labels are 0-0\n",
            "\u001b[34m\u001b[1mtrain: \u001b[0mWARNING ⚠️ /content/Pineapple Ripeness Detection.v3i.yolov8/train/images/IMG_0936_JPG.rf.ee1c49a6dc0fbefe5a68ab391502d393.jpg: ignoring corrupt image/label: Label class 1 exceeds dataset class count 1. Possible class labels are 0-0\n",
            "\u001b[34m\u001b[1mtrain: \u001b[0mWARNING ⚠️ /content/Pineapple Ripeness Detection.v3i.yolov8/train/images/IMG_0937_JPG.rf.0b4f08a35046e483ed89069ec20816c7.jpg: ignoring corrupt image/label: Label class 1 exceeds dataset class count 1. Possible class labels are 0-0\n",
            "\u001b[34m\u001b[1mtrain: \u001b[0mWARNING ⚠️ /content/Pineapple Ripeness Detection.v3i.yolov8/train/images/IMG_0937_JPG.rf.167a689735ffc06aecb8ab57a158e038.jpg: ignoring corrupt image/label: Label class 1 exceeds dataset class count 1. Possible class labels are 0-0\n",
            "\u001b[34m\u001b[1mtrain: \u001b[0mWARNING ⚠️ /content/Pineapple Ripeness Detection.v3i.yolov8/train/images/IMG_0937_JPG.rf.7b39cf864c9f362c489033af636402b7.jpg: ignoring corrupt image/label: Label class 1 exceeds dataset class count 1. Possible class labels are 0-0\n",
            "\u001b[34m\u001b[1mtrain: \u001b[0mWARNING ⚠️ /content/Pineapple Ripeness Detection.v3i.yolov8/train/images/IMG_0944_JPG.rf.72dfc07d4a79038021ec6dfba0193845.jpg: ignoring corrupt image/label: Label class 1 exceeds dataset class count 1. Possible class labels are 0-0\n",
            "\u001b[34m\u001b[1mtrain: \u001b[0mWARNING ⚠️ /content/Pineapple Ripeness Detection.v3i.yolov8/train/images/IMG_0944_JPG.rf.7eaa43f2a5f72877ed62d0bc942f5505.jpg: ignoring corrupt image/label: Label class 1 exceeds dataset class count 1. Possible class labels are 0-0\n",
            "\u001b[34m\u001b[1mtrain: \u001b[0mWARNING ⚠️ /content/Pineapple Ripeness Detection.v3i.yolov8/train/images/IMG_0944_JPG.rf.944a7ec7ebcfff6ab29f8abc2414bfe3.jpg: ignoring corrupt image/label: Label class 1 exceeds dataset class count 1. Possible class labels are 0-0\n",
            "\u001b[34m\u001b[1mtrain: \u001b[0mWARNING ⚠️ /content/Pineapple Ripeness Detection.v3i.yolov8/train/images/IMG_0950_JPG.rf.0047ca76663e1256276ab49343818112.jpg: ignoring corrupt image/label: Label class 1 exceeds dataset class count 1. Possible class labels are 0-0\n",
            "\u001b[34m\u001b[1mtrain: \u001b[0mWARNING ⚠️ /content/Pineapple Ripeness Detection.v3i.yolov8/train/images/IMG_0950_JPG.rf.4a1a577ebf00b741673cac54f4a6634f.jpg: ignoring corrupt image/label: Label class 1 exceeds dataset class count 1. Possible class labels are 0-0\n",
            "\u001b[34m\u001b[1mtrain: \u001b[0mWARNING ⚠️ /content/Pineapple Ripeness Detection.v3i.yolov8/train/images/IMG_0950_JPG.rf.5a966bc8755387e0c5eb64f6709c75b9.jpg: ignoring corrupt image/label: Label class 1 exceeds dataset class count 1. Possible class labels are 0-0\n",
            "\u001b[34m\u001b[1mtrain: \u001b[0mWARNING ⚠️ /content/Pineapple Ripeness Detection.v3i.yolov8/train/images/IMG_0951_JPG.rf.82f43e51321b1d550367510957f0d45f.jpg: ignoring corrupt image/label: Label class 1 exceeds dataset class count 1. Possible class labels are 0-0\n",
            "\u001b[34m\u001b[1mtrain: \u001b[0mWARNING ⚠️ /content/Pineapple Ripeness Detection.v3i.yolov8/train/images/IMG_0951_JPG.rf.a9c824481cc42f903b3ac5f6c9acfa96.jpg: ignoring corrupt image/label: Label class 1 exceeds dataset class count 1. Possible class labels are 0-0\n",
            "\u001b[34m\u001b[1mtrain: \u001b[0mWARNING ⚠️ /content/Pineapple Ripeness Detection.v3i.yolov8/train/images/IMG_0951_JPG.rf.e81a1b195be0e6e649840d73d9e5be25.jpg: ignoring corrupt image/label: Label class 1 exceeds dataset class count 1. Possible class labels are 0-0\n",
            "\u001b[34m\u001b[1mtrain: \u001b[0mWARNING ⚠️ /content/Pineapple Ripeness Detection.v3i.yolov8/train/images/IMG_0952_JPG.rf.20bd5d3104ac80a06f18e7ff12319a8e.jpg: ignoring corrupt image/label: Label class 1 exceeds dataset class count 1. Possible class labels are 0-0\n",
            "\u001b[34m\u001b[1mtrain: \u001b[0mWARNING ⚠️ /content/Pineapple Ripeness Detection.v3i.yolov8/train/images/IMG_0952_JPG.rf.27d3f5ba8cde111880f04cbd2c678861.jpg: ignoring corrupt image/label: Label class 1 exceeds dataset class count 1. Possible class labels are 0-0\n",
            "\u001b[34m\u001b[1mtrain: \u001b[0mWARNING ⚠️ /content/Pineapple Ripeness Detection.v3i.yolov8/train/images/IMG_0952_JPG.rf.bd7697260cd9dfd29fda4963ab76f485.jpg: ignoring corrupt image/label: Label class 1 exceeds dataset class count 1. Possible class labels are 0-0\n",
            "\u001b[34m\u001b[1mtrain: \u001b[0mWARNING ⚠️ /content/Pineapple Ripeness Detection.v3i.yolov8/train/images/IMG_0954_JPG.rf.54fd2d8b9ec6093d50da7501b4f28a44.jpg: ignoring corrupt image/label: Label class 1 exceeds dataset class count 1. Possible class labels are 0-0\n",
            "\u001b[34m\u001b[1mtrain: \u001b[0mWARNING ⚠️ /content/Pineapple Ripeness Detection.v3i.yolov8/train/images/IMG_0954_JPG.rf.63b56ff8d9c1fdfd4de52ca846083b6a.jpg: ignoring corrupt image/label: Label class 1 exceeds dataset class count 1. Possible class labels are 0-0\n",
            "\u001b[34m\u001b[1mtrain: \u001b[0mWARNING ⚠️ /content/Pineapple Ripeness Detection.v3i.yolov8/train/images/IMG_0954_JPG.rf.7ad054efa2dff1c1f04810eaa9bf4fc8.jpg: ignoring corrupt image/label: Label class 1 exceeds dataset class count 1. Possible class labels are 0-0\n",
            "\u001b[34m\u001b[1mtrain: \u001b[0mWARNING ⚠️ /content/Pineapple Ripeness Detection.v3i.yolov8/train/images/IMG_0956_JPG.rf.29e3cde7da43b21ee07f551f6d2dec3b.jpg: ignoring corrupt image/label: Label class 1 exceeds dataset class count 1. Possible class labels are 0-0\n",
            "\u001b[34m\u001b[1mtrain: \u001b[0mWARNING ⚠️ /content/Pineapple Ripeness Detection.v3i.yolov8/train/images/IMG_0956_JPG.rf.afd61636492feddff75170d2afa20b2b.jpg: ignoring corrupt image/label: Label class 1 exceeds dataset class count 1. Possible class labels are 0-0\n",
            "\u001b[34m\u001b[1mtrain: \u001b[0mWARNING ⚠️ /content/Pineapple Ripeness Detection.v3i.yolov8/train/images/IMG_0956_JPG.rf.f9efc99158b0ab603fc0d60cccf0e6bf.jpg: ignoring corrupt image/label: Label class 1 exceeds dataset class count 1. Possible class labels are 0-0\n",
            "\u001b[34m\u001b[1mtrain: \u001b[0mWARNING ⚠️ /content/Pineapple Ripeness Detection.v3i.yolov8/train/images/IMG_0957_JPG.rf.a436fbc9b577e8d45e8776264a0beb1d.jpg: ignoring corrupt image/label: Label class 1 exceeds dataset class count 1. Possible class labels are 0-0\n",
            "\u001b[34m\u001b[1mtrain: \u001b[0mWARNING ⚠️ /content/Pineapple Ripeness Detection.v3i.yolov8/train/images/IMG_0957_JPG.rf.cf9490bc6b523a88f2e07e6db17538b3.jpg: ignoring corrupt image/label: Label class 1 exceeds dataset class count 1. Possible class labels are 0-0\n",
            "\u001b[34m\u001b[1mtrain: \u001b[0mWARNING ⚠️ /content/Pineapple Ripeness Detection.v3i.yolov8/train/images/IMG_0957_JPG.rf.f58b8431bbc67caac37554420e6fb4ca.jpg: ignoring corrupt image/label: Label class 1 exceeds dataset class count 1. Possible class labels are 0-0\n",
            "\u001b[34m\u001b[1mtrain: \u001b[0mWARNING ⚠️ /content/Pineapple Ripeness Detection.v3i.yolov8/train/images/IMG_0961_JPG.rf.3b681eeaa3a345a7c91200a71c1b4e0b.jpg: ignoring corrupt image/label: Label class 1 exceeds dataset class count 1. Possible class labels are 0-0\n",
            "\u001b[34m\u001b[1mtrain: \u001b[0mWARNING ⚠️ /content/Pineapple Ripeness Detection.v3i.yolov8/train/images/IMG_0961_JPG.rf.966e3195468c6188916e0198632a5f4a.jpg: ignoring corrupt image/label: Label class 1 exceeds dataset class count 1. Possible class labels are 0-0\n",
            "\u001b[34m\u001b[1mtrain: \u001b[0mWARNING ⚠️ /content/Pineapple Ripeness Detection.v3i.yolov8/train/images/IMG_0961_JPG.rf.f8674b36533da4bbd20c27c90f344b3b.jpg: ignoring corrupt image/label: Label class 1 exceeds dataset class count 1. Possible class labels are 0-0\n",
            "\u001b[34m\u001b[1mtrain: \u001b[0mWARNING ⚠️ /content/Pineapple Ripeness Detection.v3i.yolov8/train/images/IMG_0962_JPG.rf.752ea0ccd84b22aaf031472ec8b25626.jpg: ignoring corrupt image/label: Label class 1 exceeds dataset class count 1. Possible class labels are 0-0\n",
            "\u001b[34m\u001b[1mtrain: \u001b[0mWARNING ⚠️ /content/Pineapple Ripeness Detection.v3i.yolov8/train/images/IMG_0962_JPG.rf.ab78f4aa0ba4e0b070dabaec5a76590f.jpg: ignoring corrupt image/label: Label class 1 exceeds dataset class count 1. Possible class labels are 0-0\n",
            "\u001b[34m\u001b[1mtrain: \u001b[0mWARNING ⚠️ /content/Pineapple Ripeness Detection.v3i.yolov8/train/images/IMG_0962_JPG.rf.cc64ccc75060948b50cd26d954ddc1e5.jpg: ignoring corrupt image/label: Label class 1 exceeds dataset class count 1. Possible class labels are 0-0\n",
            "\u001b[34m\u001b[1mtrain: \u001b[0mWARNING ⚠️ /content/Pineapple Ripeness Detection.v3i.yolov8/train/images/IMG_0964_JPG.rf.12fbbea2bfe6b2694ac5dd4ef71557b5.jpg: ignoring corrupt image/label: Label class 1 exceeds dataset class count 1. Possible class labels are 0-0\n",
            "\u001b[34m\u001b[1mtrain: \u001b[0mWARNING ⚠️ /content/Pineapple Ripeness Detection.v3i.yolov8/train/images/IMG_0964_JPG.rf.362f19d1c62c0350632e3884dbc5e1e7.jpg: ignoring corrupt image/label: Label class 1 exceeds dataset class count 1. Possible class labels are 0-0\n",
            "\u001b[34m\u001b[1mtrain: \u001b[0mWARNING ⚠️ /content/Pineapple Ripeness Detection.v3i.yolov8/train/images/IMG_0964_JPG.rf.887b46e7ada301956e6646ba8e6eac3e.jpg: ignoring corrupt image/label: Label class 1 exceeds dataset class count 1. Possible class labels are 0-0\n",
            "\u001b[34m\u001b[1mtrain: \u001b[0mWARNING ⚠️ /content/Pineapple Ripeness Detection.v3i.yolov8/train/images/IMG_0965_JPG.rf.3db905935d90e5aafb8bf5f5e0c4b517.jpg: ignoring corrupt image/label: Label class 1 exceeds dataset class count 1. Possible class labels are 0-0\n",
            "\u001b[34m\u001b[1mtrain: \u001b[0mWARNING ⚠️ /content/Pineapple Ripeness Detection.v3i.yolov8/train/images/IMG_0965_JPG.rf.660c1f0645222d7bdacf0681a2bf7b1e.jpg: ignoring corrupt image/label: Label class 1 exceeds dataset class count 1. Possible class labels are 0-0\n",
            "\u001b[34m\u001b[1mtrain: \u001b[0mWARNING ⚠️ /content/Pineapple Ripeness Detection.v3i.yolov8/train/images/IMG_0965_JPG.rf.d343b3c7429087bb2a102afe82e72a27.jpg: ignoring corrupt image/label: Label class 1 exceeds dataset class count 1. Possible class labels are 0-0\n",
            "\u001b[34m\u001b[1mtrain: \u001b[0mWARNING ⚠️ /content/Pineapple Ripeness Detection.v3i.yolov8/train/images/IMG_0970_JPG.rf.08241550b5f028896f8e713195c80ae3.jpg: ignoring corrupt image/label: Label class 1 exceeds dataset class count 1. Possible class labels are 0-0\n",
            "\u001b[34m\u001b[1mtrain: \u001b[0mWARNING ⚠️ /content/Pineapple Ripeness Detection.v3i.yolov8/train/images/IMG_0970_JPG.rf.3c76d3c308c166c20e4e9eefc88adb49.jpg: ignoring corrupt image/label: Label class 1 exceeds dataset class count 1. Possible class labels are 0-0\n",
            "\u001b[34m\u001b[1mtrain: \u001b[0mWARNING ⚠️ /content/Pineapple Ripeness Detection.v3i.yolov8/train/images/IMG_0970_JPG.rf.47edb7e371d4c581e1d87e53fd4108be.jpg: ignoring corrupt image/label: Label class 1 exceeds dataset class count 1. Possible class labels are 0-0\n",
            "\u001b[34m\u001b[1mtrain: \u001b[0mWARNING ⚠️ /content/Pineapple Ripeness Detection.v3i.yolov8/train/images/IMG_0971_JPG.rf.1e8eb8a6d70a2e1bba3356d20775b546.jpg: ignoring corrupt image/label: Label class 1 exceeds dataset class count 1. Possible class labels are 0-0\n",
            "\u001b[34m\u001b[1mtrain: \u001b[0mWARNING ⚠️ /content/Pineapple Ripeness Detection.v3i.yolov8/train/images/IMG_0971_JPG.rf.4040e68dd85413076e43a110c12462c1.jpg: ignoring corrupt image/label: Label class 1 exceeds dataset class count 1. Possible class labels are 0-0\n",
            "\u001b[34m\u001b[1mtrain: \u001b[0mWARNING ⚠️ /content/Pineapple Ripeness Detection.v3i.yolov8/train/images/IMG_0971_JPG.rf.ffe4f6903b89665845cd464563a8e08e.jpg: ignoring corrupt image/label: Label class 1 exceeds dataset class count 1. Possible class labels are 0-0\n",
            "\u001b[34m\u001b[1mtrain: \u001b[0mWARNING ⚠️ /content/Pineapple Ripeness Detection.v3i.yolov8/train/images/IMG_0972_JPG.rf.552b453ee62b7e56e468429ec1cbc818.jpg: ignoring corrupt image/label: Label class 1 exceeds dataset class count 1. Possible class labels are 0-0\n",
            "\u001b[34m\u001b[1mtrain: \u001b[0mWARNING ⚠️ /content/Pineapple Ripeness Detection.v3i.yolov8/train/images/IMG_0972_JPG.rf.a015afa0f9ebdc2a2cd5369b6c5969b5.jpg: ignoring corrupt image/label: Label class 1 exceeds dataset class count 1. Possible class labels are 0-0\n",
            "\u001b[34m\u001b[1mtrain: \u001b[0mWARNING ⚠️ /content/Pineapple Ripeness Detection.v3i.yolov8/train/images/IMG_0972_JPG.rf.db955fface77bb4c286218f1f42ac282.jpg: ignoring corrupt image/label: Label class 1 exceeds dataset class count 1. Possible class labels are 0-0\n",
            "\u001b[34m\u001b[1mtrain: \u001b[0mWARNING ⚠️ /content/Pineapple Ripeness Detection.v3i.yolov8/train/images/IMG_0973_JPG.rf.0fe07beefc31443656e9c710c674d519.jpg: ignoring corrupt image/label: Label class 1 exceeds dataset class count 1. Possible class labels are 0-0\n",
            "\u001b[34m\u001b[1mtrain: \u001b[0mWARNING ⚠️ /content/Pineapple Ripeness Detection.v3i.yolov8/train/images/IMG_0973_JPG.rf.3b02fac669ce65a0b1ec2886e8c435f6.jpg: ignoring corrupt image/label: Label class 1 exceeds dataset class count 1. Possible class labels are 0-0\n",
            "\u001b[34m\u001b[1mtrain: \u001b[0mWARNING ⚠️ /content/Pineapple Ripeness Detection.v3i.yolov8/train/images/IMG_0973_JPG.rf.4cab51b3b099a4fd4e1b3ede8fc564d0.jpg: ignoring corrupt image/label: Label class 1 exceeds dataset class count 1. Possible class labels are 0-0\n",
            "\u001b[34m\u001b[1mtrain: \u001b[0mWARNING ⚠️ /content/Pineapple Ripeness Detection.v3i.yolov8/train/images/IMG_0975_JPG.rf.04aa9ba88d47a5c2445b056678ebad54.jpg: ignoring corrupt image/label: Label class 1 exceeds dataset class count 1. Possible class labels are 0-0\n",
            "\u001b[34m\u001b[1mtrain: \u001b[0mWARNING ⚠️ /content/Pineapple Ripeness Detection.v3i.yolov8/train/images/IMG_0975_JPG.rf.083eda51dbf5685d1cef78e0cdfab49b.jpg: ignoring corrupt image/label: Label class 1 exceeds dataset class count 1. Possible class labels are 0-0\n",
            "\u001b[34m\u001b[1mtrain: \u001b[0mWARNING ⚠️ /content/Pineapple Ripeness Detection.v3i.yolov8/train/images/IMG_0975_JPG.rf.32bd591be9982e6edf8960de1fd69570.jpg: ignoring corrupt image/label: Label class 1 exceeds dataset class count 1. Possible class labels are 0-0\n",
            "\u001b[34m\u001b[1mtrain: \u001b[0mWARNING ⚠️ /content/Pineapple Ripeness Detection.v3i.yolov8/train/images/IMG_0976_JPG.rf.3625c16c918484d98ef24b56d3049ceb.jpg: ignoring corrupt image/label: Label class 1 exceeds dataset class count 1. Possible class labels are 0-0\n",
            "\u001b[34m\u001b[1mtrain: \u001b[0mWARNING ⚠️ /content/Pineapple Ripeness Detection.v3i.yolov8/train/images/IMG_0976_JPG.rf.4192016d794f2cd44365b8c14cdcac38.jpg: ignoring corrupt image/label: Label class 1 exceeds dataset class count 1. Possible class labels are 0-0\n",
            "\u001b[34m\u001b[1mtrain: \u001b[0mWARNING ⚠️ /content/Pineapple Ripeness Detection.v3i.yolov8/train/images/IMG_0976_JPG.rf.878986718bdef6746031cf98bc2778ce.jpg: ignoring corrupt image/label: Label class 1 exceeds dataset class count 1. Possible class labels are 0-0\n",
            "\u001b[34m\u001b[1mtrain: \u001b[0mWARNING ⚠️ /content/Pineapple Ripeness Detection.v3i.yolov8/train/images/IMG_0977_JPG.rf.395629ab412a213671e845bd76189e32.jpg: ignoring corrupt image/label: Label class 1 exceeds dataset class count 1. Possible class labels are 0-0\n",
            "\u001b[34m\u001b[1mtrain: \u001b[0mWARNING ⚠️ /content/Pineapple Ripeness Detection.v3i.yolov8/train/images/IMG_0977_JPG.rf.3c2daf537b9e2cd72b27ef176f2254b7.jpg: ignoring corrupt image/label: Label class 1 exceeds dataset class count 1. Possible class labels are 0-0\n",
            "\u001b[34m\u001b[1mtrain: \u001b[0mWARNING ⚠️ /content/Pineapple Ripeness Detection.v3i.yolov8/train/images/IMG_0977_JPG.rf.a62acf0a810739587a33caa6d4a4a28c.jpg: ignoring corrupt image/label: Label class 1 exceeds dataset class count 1. Possible class labels are 0-0\n",
            "\u001b[34m\u001b[1mtrain: \u001b[0mWARNING ⚠️ /content/Pineapple Ripeness Detection.v3i.yolov8/train/images/IMG_0979_JPG.rf.14f8a09566896afa6701497ee0036ef9.jpg: ignoring corrupt image/label: Label class 1 exceeds dataset class count 1. Possible class labels are 0-0\n",
            "\u001b[34m\u001b[1mtrain: \u001b[0mWARNING ⚠️ /content/Pineapple Ripeness Detection.v3i.yolov8/train/images/IMG_0979_JPG.rf.5dd6aa97f69789d0384359a9c3b9d81a.jpg: ignoring corrupt image/label: Label class 1 exceeds dataset class count 1. Possible class labels are 0-0\n",
            "\u001b[34m\u001b[1mtrain: \u001b[0mWARNING ⚠️ /content/Pineapple Ripeness Detection.v3i.yolov8/train/images/IMG_0979_JPG.rf.92968117b16bfee3379669cf574a2bc1.jpg: ignoring corrupt image/label: Label class 1 exceeds dataset class count 1. Possible class labels are 0-0\n",
            "\u001b[34m\u001b[1mtrain: \u001b[0mWARNING ⚠️ /content/Pineapple Ripeness Detection.v3i.yolov8/train/images/IMG_0980_JPG.rf.4a3f7f95fe49ac43ca8f4d9d6dbc6599.jpg: ignoring corrupt image/label: Label class 1 exceeds dataset class count 1. Possible class labels are 0-0\n",
            "\u001b[34m\u001b[1mtrain: \u001b[0mWARNING ⚠️ /content/Pineapple Ripeness Detection.v3i.yolov8/train/images/IMG_0980_JPG.rf.605132621a3dd3869536e3e004bd2905.jpg: ignoring corrupt image/label: Label class 1 exceeds dataset class count 1. Possible class labels are 0-0\n",
            "\u001b[34m\u001b[1mtrain: \u001b[0mWARNING ⚠️ /content/Pineapple Ripeness Detection.v3i.yolov8/train/images/IMG_0980_JPG.rf.872f23d8704e8b5f881b794ac2bc126c.jpg: ignoring corrupt image/label: Label class 1 exceeds dataset class count 1. Possible class labels are 0-0\n",
            "\u001b[34m\u001b[1mtrain: \u001b[0mWARNING ⚠️ /content/Pineapple Ripeness Detection.v3i.yolov8/train/images/IMG_0982_JPG.rf.7be2729a3a5231cc0daac3ce35beca28.jpg: ignoring corrupt image/label: Label class 1 exceeds dataset class count 1. Possible class labels are 0-0\n",
            "\u001b[34m\u001b[1mtrain: \u001b[0mWARNING ⚠️ /content/Pineapple Ripeness Detection.v3i.yolov8/train/images/IMG_0982_JPG.rf.bd67e1cd54b5f188da56523569153392.jpg: ignoring corrupt image/label: Label class 1 exceeds dataset class count 1. Possible class labels are 0-0\n",
            "\u001b[34m\u001b[1mtrain: \u001b[0mWARNING ⚠️ /content/Pineapple Ripeness Detection.v3i.yolov8/train/images/IMG_0982_JPG.rf.ee4d436aeef34337ee1e594baabdd649.jpg: ignoring corrupt image/label: Label class 1 exceeds dataset class count 1. Possible class labels are 0-0\n",
            "\u001b[34m\u001b[1mtrain: \u001b[0mWARNING ⚠️ /content/Pineapple Ripeness Detection.v3i.yolov8/train/images/IMG_0984_JPG.rf.22fb25a6156e7957054d183965fcdf6e.jpg: ignoring corrupt image/label: Label class 1 exceeds dataset class count 1. Possible class labels are 0-0\n",
            "\u001b[34m\u001b[1mtrain: \u001b[0mWARNING ⚠️ /content/Pineapple Ripeness Detection.v3i.yolov8/train/images/IMG_0984_JPG.rf.a89a3d7736d5ab48873842569456b2d9.jpg: ignoring corrupt image/label: Label class 1 exceeds dataset class count 1. Possible class labels are 0-0\n",
            "\u001b[34m\u001b[1mtrain: \u001b[0mWARNING ⚠️ /content/Pineapple Ripeness Detection.v3i.yolov8/train/images/IMG_0984_JPG.rf.d8c8d5c33c46d3b35cace053944da2c5.jpg: ignoring corrupt image/label: Label class 1 exceeds dataset class count 1. Possible class labels are 0-0\n",
            "\u001b[34m\u001b[1mtrain: \u001b[0mWARNING ⚠️ /content/Pineapple Ripeness Detection.v3i.yolov8/train/images/IMG_0985_JPG.rf.378911535598896674a4b1d7ebee8f7d.jpg: ignoring corrupt image/label: Label class 1 exceeds dataset class count 1. Possible class labels are 0-0\n",
            "\u001b[34m\u001b[1mtrain: \u001b[0mWARNING ⚠️ /content/Pineapple Ripeness Detection.v3i.yolov8/train/images/IMG_0985_JPG.rf.f2b8028b14e62b8b52ea4197cc3096a8.jpg: ignoring corrupt image/label: Label class 1 exceeds dataset class count 1. Possible class labels are 0-0\n",
            "\u001b[34m\u001b[1mtrain: \u001b[0mWARNING ⚠️ /content/Pineapple Ripeness Detection.v3i.yolov8/train/images/IMG_0985_JPG.rf.fb5de4d386deca76f41441778f5deddc.jpg: ignoring corrupt image/label: Label class 1 exceeds dataset class count 1. Possible class labels are 0-0\n",
            "\u001b[34m\u001b[1mtrain: \u001b[0mWARNING ⚠️ /content/Pineapple Ripeness Detection.v3i.yolov8/train/images/IMG_0986_JPG.rf.817128af985f0b25a8be572160d4d76a.jpg: ignoring corrupt image/label: Label class 1 exceeds dataset class count 1. Possible class labels are 0-0\n",
            "\u001b[34m\u001b[1mtrain: \u001b[0mWARNING ⚠️ /content/Pineapple Ripeness Detection.v3i.yolov8/train/images/IMG_0986_JPG.rf.a04fa979e9e96fe0023a9920009d9997.jpg: ignoring corrupt image/label: Label class 1 exceeds dataset class count 1. Possible class labels are 0-0\n",
            "\u001b[34m\u001b[1mtrain: \u001b[0mWARNING ⚠️ /content/Pineapple Ripeness Detection.v3i.yolov8/train/images/IMG_0986_JPG.rf.a1be45719e2236290c4dcee15eac9293.jpg: ignoring corrupt image/label: Label class 1 exceeds dataset class count 1. Possible class labels are 0-0\n",
            "\u001b[34m\u001b[1mtrain: \u001b[0mWARNING ⚠️ /content/Pineapple Ripeness Detection.v3i.yolov8/train/images/IMG_0988_JPG.rf.19dd2b2ce26304db72163103e83f2a38.jpg: ignoring corrupt image/label: Label class 1 exceeds dataset class count 1. Possible class labels are 0-0\n",
            "\u001b[34m\u001b[1mtrain: \u001b[0mWARNING ⚠️ /content/Pineapple Ripeness Detection.v3i.yolov8/train/images/IMG_0988_JPG.rf.2c6affae51f714294cf03d8e67a8163e.jpg: ignoring corrupt image/label: Label class 1 exceeds dataset class count 1. Possible class labels are 0-0\n",
            "\u001b[34m\u001b[1mtrain: \u001b[0mWARNING ⚠️ /content/Pineapple Ripeness Detection.v3i.yolov8/train/images/IMG_0988_JPG.rf.802aa8d8ec8c1e5f775b23e203820e05.jpg: ignoring corrupt image/label: Label class 1 exceeds dataset class count 1. Possible class labels are 0-0\n",
            "\u001b[34m\u001b[1mtrain: \u001b[0mWARNING ⚠️ /content/Pineapple Ripeness Detection.v3i.yolov8/train/images/IMG_0990_JPG.rf.90df4311de04dcef6d6d125e87b7b56a.jpg: ignoring corrupt image/label: Label class 1 exceeds dataset class count 1. Possible class labels are 0-0\n",
            "\u001b[34m\u001b[1mtrain: \u001b[0mWARNING ⚠️ /content/Pineapple Ripeness Detection.v3i.yolov8/train/images/IMG_0990_JPG.rf.968d75744b53e6ce5e751277e7ac1b37.jpg: ignoring corrupt image/label: Label class 1 exceeds dataset class count 1. Possible class labels are 0-0\n",
            "\u001b[34m\u001b[1mtrain: \u001b[0mWARNING ⚠️ /content/Pineapple Ripeness Detection.v3i.yolov8/train/images/IMG_0990_JPG.rf.e366a6ea1c41f897974472787eaf111f.jpg: ignoring corrupt image/label: Label class 1 exceeds dataset class count 1. Possible class labels are 0-0\n",
            "\u001b[34m\u001b[1mtrain: \u001b[0mWARNING ⚠️ /content/Pineapple Ripeness Detection.v3i.yolov8/train/images/IMG_0993_JPG.rf.14952e6b01078316a5d563102cbb15a7.jpg: ignoring corrupt image/label: Label class 1 exceeds dataset class count 1. Possible class labels are 0-0\n",
            "\u001b[34m\u001b[1mtrain: \u001b[0mWARNING ⚠️ /content/Pineapple Ripeness Detection.v3i.yolov8/train/images/IMG_0993_JPG.rf.5cfbb49a1f6dde096e6aa9145298ef22.jpg: ignoring corrupt image/label: Label class 1 exceeds dataset class count 1. Possible class labels are 0-0\n",
            "\u001b[34m\u001b[1mtrain: \u001b[0mWARNING ⚠️ /content/Pineapple Ripeness Detection.v3i.yolov8/train/images/IMG_0993_JPG.rf.9e006e2200e9283a454dde24357501c9.jpg: ignoring corrupt image/label: Label class 1 exceeds dataset class count 1. Possible class labels are 0-0\n",
            "\u001b[34m\u001b[1mtrain: \u001b[0mWARNING ⚠️ /content/Pineapple Ripeness Detection.v3i.yolov8/train/images/IMG_0994_JPG.rf.429c46bfb404acc3feaf844a2cd8037f.jpg: ignoring corrupt image/label: Label class 1 exceeds dataset class count 1. Possible class labels are 0-0\n",
            "\u001b[34m\u001b[1mtrain: \u001b[0mWARNING ⚠️ /content/Pineapple Ripeness Detection.v3i.yolov8/train/images/IMG_0994_JPG.rf.70d6a28ea6ce479b39779e6cd6df2df7.jpg: ignoring corrupt image/label: Label class 1 exceeds dataset class count 1. Possible class labels are 0-0\n",
            "\u001b[34m\u001b[1mtrain: \u001b[0mWARNING ⚠️ /content/Pineapple Ripeness Detection.v3i.yolov8/train/images/IMG_0994_JPG.rf.dad1a468c7d497b563fb4a326e9ab6ed.jpg: ignoring corrupt image/label: Label class 1 exceeds dataset class count 1. Possible class labels are 0-0\n",
            "\u001b[34m\u001b[1mtrain: \u001b[0mWARNING ⚠️ /content/Pineapple Ripeness Detection.v3i.yolov8/train/images/IMG_0995_JPG.rf.28c4f1334d2497f43d9e852539fb9dff.jpg: ignoring corrupt image/label: Label class 1 exceeds dataset class count 1. Possible class labels are 0-0\n",
            "\u001b[34m\u001b[1mtrain: \u001b[0mWARNING ⚠️ /content/Pineapple Ripeness Detection.v3i.yolov8/train/images/IMG_0995_JPG.rf.8d8eb3f7295a0eb963b3f7b5434d1ef0.jpg: ignoring corrupt image/label: Label class 1 exceeds dataset class count 1. Possible class labels are 0-0\n",
            "\u001b[34m\u001b[1mtrain: \u001b[0mWARNING ⚠️ /content/Pineapple Ripeness Detection.v3i.yolov8/train/images/IMG_0995_JPG.rf.979504b3fba46922b940a69a9c8df33b.jpg: ignoring corrupt image/label: Label class 1 exceeds dataset class count 1. Possible class labels are 0-0\n",
            "\u001b[34m\u001b[1mtrain: \u001b[0mWARNING ⚠️ /content/Pineapple Ripeness Detection.v3i.yolov8/train/images/IMG_0996_JPG.rf.29d9a726b105dc7d39ff11641bd6c3e5.jpg: ignoring corrupt image/label: Label class 1 exceeds dataset class count 1. Possible class labels are 0-0\n",
            "\u001b[34m\u001b[1mtrain: \u001b[0mWARNING ⚠️ /content/Pineapple Ripeness Detection.v3i.yolov8/train/images/IMG_0996_JPG.rf.32754b2f68281892af5a3d721d637b87.jpg: ignoring corrupt image/label: Label class 1 exceeds dataset class count 1. Possible class labels are 0-0\n",
            "\u001b[34m\u001b[1mtrain: \u001b[0mWARNING ⚠️ /content/Pineapple Ripeness Detection.v3i.yolov8/train/images/IMG_0996_JPG.rf.4f4e81de4366c331a4ca705afac54dd7.jpg: ignoring corrupt image/label: Label class 1 exceeds dataset class count 1. Possible class labels are 0-0\n",
            "\u001b[34m\u001b[1mtrain: \u001b[0mWARNING ⚠️ /content/Pineapple Ripeness Detection.v3i.yolov8/train/images/IMG_0999_JPG.rf.0b08a0b55812ea01e78d5afd8c5b04d7.jpg: ignoring corrupt image/label: Label class 1 exceeds dataset class count 1. Possible class labels are 0-0\n",
            "\u001b[34m\u001b[1mtrain: \u001b[0mWARNING ⚠️ /content/Pineapple Ripeness Detection.v3i.yolov8/train/images/IMG_0999_JPG.rf.17ff39d9c217f1adbb59f5a57a7a5830.jpg: ignoring corrupt image/label: Label class 1 exceeds dataset class count 1. Possible class labels are 0-0\n",
            "\u001b[34m\u001b[1mtrain: \u001b[0mWARNING ⚠️ /content/Pineapple Ripeness Detection.v3i.yolov8/train/images/IMG_0999_JPG.rf.44cdb6265d8eef6bb35fd13d34e2e86b.jpg: ignoring corrupt image/label: Label class 1 exceeds dataset class count 1. Possible class labels are 0-0\n",
            "\u001b[34m\u001b[1mtrain: \u001b[0mWARNING ⚠️ /content/Pineapple Ripeness Detection.v3i.yolov8/train/images/IMG_1001_JPG.rf.2faeff14bae700c333253259d9f1576f.jpg: ignoring corrupt image/label: Label class 1 exceeds dataset class count 1. Possible class labels are 0-0\n",
            "\u001b[34m\u001b[1mtrain: \u001b[0mWARNING ⚠️ /content/Pineapple Ripeness Detection.v3i.yolov8/train/images/IMG_1001_JPG.rf.9fc9adc09e1e465204717d44a347be13.jpg: ignoring corrupt image/label: Label class 1 exceeds dataset class count 1. Possible class labels are 0-0\n",
            "\u001b[34m\u001b[1mtrain: \u001b[0mWARNING ⚠️ /content/Pineapple Ripeness Detection.v3i.yolov8/train/images/IMG_1001_JPG.rf.e64fbd2d2fb03f14f428699b01244120.jpg: ignoring corrupt image/label: Label class 1 exceeds dataset class count 1. Possible class labels are 0-0\n",
            "\u001b[34m\u001b[1mtrain: \u001b[0mWARNING ⚠️ /content/Pineapple Ripeness Detection.v3i.yolov8/train/images/IMG_1003_JPG.rf.2ea6e909c397a082cd83db1a97dc7786.jpg: ignoring corrupt image/label: Label class 1 exceeds dataset class count 1. Possible class labels are 0-0\n",
            "\u001b[34m\u001b[1mtrain: \u001b[0mWARNING ⚠️ /content/Pineapple Ripeness Detection.v3i.yolov8/train/images/IMG_1003_JPG.rf.ac3a279fc347068686dcf8de6b4be44a.jpg: ignoring corrupt image/label: Label class 1 exceeds dataset class count 1. Possible class labels are 0-0\n",
            "\u001b[34m\u001b[1mtrain: \u001b[0mWARNING ⚠️ /content/Pineapple Ripeness Detection.v3i.yolov8/train/images/IMG_1003_JPG.rf.fb562115f97f9bad3abc45b27f57b21a.jpg: ignoring corrupt image/label: Label class 1 exceeds dataset class count 1. Possible class labels are 0-0\n",
            "\u001b[34m\u001b[1mtrain: \u001b[0mWARNING ⚠️ /content/Pineapple Ripeness Detection.v3i.yolov8/train/images/IMG_1004_JPG.rf.07e434ad2952c7ebac489bda3a6a2dca.jpg: ignoring corrupt image/label: Label class 1 exceeds dataset class count 1. Possible class labels are 0-0\n",
            "\u001b[34m\u001b[1mtrain: \u001b[0mWARNING ⚠️ /content/Pineapple Ripeness Detection.v3i.yolov8/train/images/IMG_1004_JPG.rf.3d4d67c483dd059f1f9f23696d46046d.jpg: ignoring corrupt image/label: Label class 1 exceeds dataset class count 1. Possible class labels are 0-0\n",
            "\u001b[34m\u001b[1mtrain: \u001b[0mWARNING ⚠️ /content/Pineapple Ripeness Detection.v3i.yolov8/train/images/IMG_1004_JPG.rf.ae563aa616c44fd89ead4e579d1a72a0.jpg: ignoring corrupt image/label: Label class 1 exceeds dataset class count 1. Possible class labels are 0-0\n",
            "\u001b[34m\u001b[1mtrain: \u001b[0mWARNING ⚠️ /content/Pineapple Ripeness Detection.v3i.yolov8/train/images/IMG_1005_JPG.rf.62f52ae3fbd82a54adcca58d34300842.jpg: ignoring corrupt image/label: Label class 1 exceeds dataset class count 1. Possible class labels are 0-0\n",
            "\u001b[34m\u001b[1mtrain: \u001b[0mWARNING ⚠️ /content/Pineapple Ripeness Detection.v3i.yolov8/train/images/IMG_1005_JPG.rf.727a45e1dc581728b9bc8222a0c59572.jpg: ignoring corrupt image/label: Label class 1 exceeds dataset class count 1. Possible class labels are 0-0\n",
            "\u001b[34m\u001b[1mtrain: \u001b[0mWARNING ⚠️ /content/Pineapple Ripeness Detection.v3i.yolov8/train/images/IMG_1005_JPG.rf.c59c6e02a788ee941de5338de530a397.jpg: ignoring corrupt image/label: Label class 1 exceeds dataset class count 1. Possible class labels are 0-0\n",
            "\u001b[34m\u001b[1mtrain: \u001b[0mWARNING ⚠️ /content/Pineapple Ripeness Detection.v3i.yolov8/train/images/gallery-1439330704-gettyimages-478140221_jpg.rf.2bbd0dd25aa7510e1d2a86a96c689783.jpg: ignoring corrupt image/label: Label class 1 exceeds dataset class count 1. Possible class labels are 0-0\n",
            "\u001b[34m\u001b[1mtrain: \u001b[0mWARNING ⚠️ /content/Pineapple Ripeness Detection.v3i.yolov8/train/images/gallery-1439330704-gettyimages-478140221_jpg.rf.31014b10bfa1e8b7904c962b76e7cd96.jpg: ignoring corrupt image/label: Label class 1 exceeds dataset class count 1. Possible class labels are 0-0\n",
            "\u001b[34m\u001b[1mtrain: \u001b[0mWARNING ⚠️ /content/Pineapple Ripeness Detection.v3i.yolov8/train/images/gallery-1439330704-gettyimages-478140221_jpg.rf.b86fef01c027b5c577fe690d8a9a9966.jpg: ignoring corrupt image/label: Label class 1 exceeds dataset class count 1. Possible class labels are 0-0\n",
            "\u001b[34m\u001b[1mtrain: \u001b[0mWARNING ⚠️ /content/Pineapple Ripeness Detection.v3i.yolov8/train/images/image25_jpeg.rf.0f5a595e7d4d1a178489f80534493e4f.jpg: ignoring corrupt image/label: Label class 1 exceeds dataset class count 1. Possible class labels are 0-0\n",
            "\u001b[34m\u001b[1mtrain: \u001b[0mWARNING ⚠️ /content/Pineapple Ripeness Detection.v3i.yolov8/train/images/image25_jpeg.rf.b0dc43697e00ce5e12ec0aaea12c98ad.jpg: ignoring corrupt image/label: Label class 1 exceeds dataset class count 1. Possible class labels are 0-0\n",
            "\u001b[34m\u001b[1mtrain: \u001b[0mWARNING ⚠️ /content/Pineapple Ripeness Detection.v3i.yolov8/train/images/image25_jpeg.rf.ba9f816d09c0b71eee07ad241c5578ab.jpg: ignoring corrupt image/label: Label class 1 exceeds dataset class count 1. Possible class labels are 0-0\n",
            "\u001b[34m\u001b[1mtrain: \u001b[0mWARNING ⚠️ /content/Pineapple Ripeness Detection.v3i.yolov8/train/images/images131_jpg.rf.0bb4ae3a692cf2e690a22b4bf7037956.jpg: ignoring corrupt image/label: Label class 1 exceeds dataset class count 1. Possible class labels are 0-0\n",
            "\u001b[34m\u001b[1mtrain: \u001b[0mWARNING ⚠️ /content/Pineapple Ripeness Detection.v3i.yolov8/train/images/images131_jpg.rf.6ed4406ae422f976b96ad842597f1764.jpg: ignoring corrupt image/label: Label class 1 exceeds dataset class count 1. Possible class labels are 0-0\n",
            "\u001b[34m\u001b[1mtrain: \u001b[0mWARNING ⚠️ /content/Pineapple Ripeness Detection.v3i.yolov8/train/images/images131_jpg.rf.94b0a74300fe01f31778d0448e1086ce.jpg: ignoring corrupt image/label: Label class 1 exceeds dataset class count 1. Possible class labels are 0-0\n",
            "\u001b[34m\u001b[1mtrain: \u001b[0mWARNING ⚠️ /content/Pineapple Ripeness Detection.v3i.yolov8/train/images/images136_jpg.rf.60dcf27b77cabbef0805428a1ef0b9ef.jpg: ignoring corrupt image/label: Label class 1 exceeds dataset class count 1. Possible class labels are 0-0\n",
            "\u001b[34m\u001b[1mtrain: \u001b[0mWARNING ⚠️ /content/Pineapple Ripeness Detection.v3i.yolov8/train/images/images136_jpg.rf.e6899b1f6a2cdb591f7dce489a19da0e.jpg: ignoring corrupt image/label: Label class 1 exceeds dataset class count 1. Possible class labels are 0-0\n",
            "\u001b[34m\u001b[1mtrain: \u001b[0mWARNING ⚠️ /content/Pineapple Ripeness Detection.v3i.yolov8/train/images/images136_jpg.rf.f7ad7237cde84412b177199a0cd704b1.jpg: ignoring corrupt image/label: Label class 1 exceeds dataset class count 1. Possible class labels are 0-0\n",
            "\u001b[34m\u001b[1mtrain: \u001b[0mWARNING ⚠️ /content/Pineapple Ripeness Detection.v3i.yolov8/train/images/images142_jpg.rf.0dfc960394f888fe0311ba1f61e5a47e.jpg: ignoring corrupt image/label: Label class 1 exceeds dataset class count 1. Possible class labels are 0-0\n",
            "\u001b[34m\u001b[1mtrain: \u001b[0mWARNING ⚠️ /content/Pineapple Ripeness Detection.v3i.yolov8/train/images/images142_jpg.rf.508471b7812edab5e10e8d57233c851a.jpg: ignoring corrupt image/label: Label class 1 exceeds dataset class count 1. Possible class labels are 0-0\n",
            "\u001b[34m\u001b[1mtrain: \u001b[0mWARNING ⚠️ /content/Pineapple Ripeness Detection.v3i.yolov8/train/images/images142_jpg.rf.7e1affdeded665b89b3f6085fa05534f.jpg: ignoring corrupt image/label: Label class 1 exceeds dataset class count 1. Possible class labels are 0-0\n",
            "\u001b[34m\u001b[1mtrain: \u001b[0mWARNING ⚠️ /content/Pineapple Ripeness Detection.v3i.yolov8/train/images/images143_jpg.rf.63a65211fbeb640c91f5a3e3a1299acc.jpg: ignoring corrupt image/label: Label class 1 exceeds dataset class count 1. Possible class labels are 0-0\n",
            "\u001b[34m\u001b[1mtrain: \u001b[0mWARNING ⚠️ /content/Pineapple Ripeness Detection.v3i.yolov8/train/images/images143_jpg.rf.9ba5bcc33dde07fd92b75b4ca10e940a.jpg: ignoring corrupt image/label: Label class 1 exceeds dataset class count 1. Possible class labels are 0-0\n",
            "\u001b[34m\u001b[1mtrain: \u001b[0mWARNING ⚠️ /content/Pineapple Ripeness Detection.v3i.yolov8/train/images/images143_jpg.rf.a998a7e25c77937780d75d455d58403b.jpg: ignoring corrupt image/label: Label class 1 exceeds dataset class count 1. Possible class labels are 0-0\n",
            "\u001b[34m\u001b[1mtrain: \u001b[0mWARNING ⚠️ /content/Pineapple Ripeness Detection.v3i.yolov8/train/images/images158_jpg.rf.4365766a88becbaf7e844377b2bda21c.jpg: ignoring corrupt image/label: Label class 1 exceeds dataset class count 1. Possible class labels are 0-0\n",
            "\u001b[34m\u001b[1mtrain: \u001b[0mWARNING ⚠️ /content/Pineapple Ripeness Detection.v3i.yolov8/train/images/images158_jpg.rf.5624161f884cacba7baaa0d8f299a4a6.jpg: ignoring corrupt image/label: Label class 1 exceeds dataset class count 1. Possible class labels are 0-0\n",
            "\u001b[34m\u001b[1mtrain: \u001b[0mWARNING ⚠️ /content/Pineapple Ripeness Detection.v3i.yolov8/train/images/images158_jpg.rf.8aaa8e77b55e646886eb7a9684ae6ab6.jpg: ignoring corrupt image/label: Label class 1 exceeds dataset class count 1. Possible class labels are 0-0\n",
            "\u001b[34m\u001b[1mtrain: \u001b[0mWARNING ⚠️ /content/Pineapple Ripeness Detection.v3i.yolov8/train/images/images165_jpg.rf.a927955e97187f4e080eb8170b464604.jpg: ignoring corrupt image/label: Label class 1 exceeds dataset class count 1. Possible class labels are 0-0\n",
            "\u001b[34m\u001b[1mtrain: \u001b[0mWARNING ⚠️ /content/Pineapple Ripeness Detection.v3i.yolov8/train/images/images165_jpg.rf.beeae3c51f52371d7ee5cee9521de6d9.jpg: ignoring corrupt image/label: Label class 1 exceeds dataset class count 1. Possible class labels are 0-0\n",
            "\u001b[34m\u001b[1mtrain: \u001b[0mWARNING ⚠️ /content/Pineapple Ripeness Detection.v3i.yolov8/train/images/images165_jpg.rf.d9355135474a80bfa9562d2fcd836653.jpg: ignoring corrupt image/label: Label class 1 exceeds dataset class count 1. Possible class labels are 0-0\n",
            "\u001b[34m\u001b[1mtrain: \u001b[0mWARNING ⚠️ /content/Pineapple Ripeness Detection.v3i.yolov8/train/images/images172_jpg.rf.1e47074bb542efe377a4facf6e383072.jpg: ignoring corrupt image/label: Label class 1 exceeds dataset class count 1. Possible class labels are 0-0\n",
            "\u001b[34m\u001b[1mtrain: \u001b[0mWARNING ⚠️ /content/Pineapple Ripeness Detection.v3i.yolov8/train/images/images172_jpg.rf.47f411f80f70cc7ab823c8444f628d00.jpg: ignoring corrupt image/label: Label class 1 exceeds dataset class count 1. Possible class labels are 0-0\n",
            "\u001b[34m\u001b[1mtrain: \u001b[0mWARNING ⚠️ /content/Pineapple Ripeness Detection.v3i.yolov8/train/images/images172_jpg.rf.c91fe3ae05184b2f190c7cee1af979c9.jpg: ignoring corrupt image/label: Label class 1 exceeds dataset class count 1. Possible class labels are 0-0\n",
            "\u001b[34m\u001b[1mtrain: \u001b[0mWARNING ⚠️ /content/Pineapple Ripeness Detection.v3i.yolov8/train/images/images17_jpg.rf.4b18f1b88b003e45d1cee15c2670d887.jpg: ignoring corrupt image/label: Label class 1 exceeds dataset class count 1. Possible class labels are 0-0\n",
            "\u001b[34m\u001b[1mtrain: \u001b[0mWARNING ⚠️ /content/Pineapple Ripeness Detection.v3i.yolov8/train/images/images17_jpg.rf.640cb31bcfca572ca34c7b2167dbc52b.jpg: ignoring corrupt image/label: Label class 1 exceeds dataset class count 1. Possible class labels are 0-0\n",
            "\u001b[34m\u001b[1mtrain: \u001b[0mWARNING ⚠️ /content/Pineapple Ripeness Detection.v3i.yolov8/train/images/images17_jpg.rf.6d660a211dd0ca0bc9cce4303d08808a.jpg: ignoring corrupt image/label: Label class 1 exceeds dataset class count 1. Possible class labels are 0-0\n",
            "\u001b[34m\u001b[1mtrain: \u001b[0mWARNING ⚠️ /content/Pineapple Ripeness Detection.v3i.yolov8/train/images/images199_jpg.rf.a96de3fb8379e4d19effdd5659818c99.jpg: ignoring corrupt image/label: Label class 1 exceeds dataset class count 1. Possible class labels are 0-0\n",
            "\u001b[34m\u001b[1mtrain: \u001b[0mWARNING ⚠️ /content/Pineapple Ripeness Detection.v3i.yolov8/train/images/images199_jpg.rf.d1f62f9809dfd5c0f8ec6b4eff57b67c.jpg: ignoring corrupt image/label: Label class 1 exceeds dataset class count 1. Possible class labels are 0-0\n",
            "\u001b[34m\u001b[1mtrain: \u001b[0mWARNING ⚠️ /content/Pineapple Ripeness Detection.v3i.yolov8/train/images/images199_jpg.rf.ef063cb848c8087f6305a598d28bba27.jpg: ignoring corrupt image/label: Label class 1 exceeds dataset class count 1. Possible class labels are 0-0\n",
            "\u001b[34m\u001b[1mtrain: \u001b[0mWARNING ⚠️ /content/Pineapple Ripeness Detection.v3i.yolov8/train/images/images203_jpg.rf.87c7c30b5e512c4dccf000319fea5f39.jpg: ignoring corrupt image/label: Label class 1 exceeds dataset class count 1. Possible class labels are 0-0\n",
            "\u001b[34m\u001b[1mtrain: \u001b[0mWARNING ⚠️ /content/Pineapple Ripeness Detection.v3i.yolov8/train/images/images203_jpg.rf.885162d60f867b64d09e2eba7ff9e7e5.jpg: ignoring corrupt image/label: Label class 1 exceeds dataset class count 1. Possible class labels are 0-0\n",
            "\u001b[34m\u001b[1mtrain: \u001b[0mWARNING ⚠️ /content/Pineapple Ripeness Detection.v3i.yolov8/train/images/images203_jpg.rf.d1551ba2f10217cf84b326b61fef0067.jpg: ignoring corrupt image/label: Label class 1 exceeds dataset class count 1. Possible class labels are 0-0\n",
            "\u001b[34m\u001b[1mtrain: \u001b[0mWARNING ⚠️ /content/Pineapple Ripeness Detection.v3i.yolov8/train/images/images206_jpg.rf.597ec1b50096b7b4768bdd9e14316055.jpg: ignoring corrupt image/label: Label class 1 exceeds dataset class count 1. Possible class labels are 0-0\n",
            "\u001b[34m\u001b[1mtrain: \u001b[0mWARNING ⚠️ /content/Pineapple Ripeness Detection.v3i.yolov8/train/images/images206_jpg.rf.5a01f46853978de7882a56fb5ad9e2ca.jpg: ignoring corrupt image/label: Label class 1 exceeds dataset class count 1. Possible class labels are 0-0\n",
            "\u001b[34m\u001b[1mtrain: \u001b[0mWARNING ⚠️ /content/Pineapple Ripeness Detection.v3i.yolov8/train/images/images206_jpg.rf.5e4485ef83738642a9ee944015a1ea30.jpg: ignoring corrupt image/label: Label class 1 exceeds dataset class count 1. Possible class labels are 0-0\n",
            "\u001b[34m\u001b[1mtrain: \u001b[0mWARNING ⚠️ /content/Pineapple Ripeness Detection.v3i.yolov8/train/images/images20_jpg.rf.12b194285256d28cc046264ac6782fdf.jpg: ignoring corrupt image/label: Label class 1 exceeds dataset class count 1. Possible class labels are 0-0\n",
            "\u001b[34m\u001b[1mtrain: \u001b[0mWARNING ⚠️ /content/Pineapple Ripeness Detection.v3i.yolov8/train/images/images20_jpg.rf.165a87875c44f3271b5572631d689598.jpg: ignoring corrupt image/label: Label class 1 exceeds dataset class count 1. Possible class labels are 0-0\n",
            "\u001b[34m\u001b[1mtrain: \u001b[0mWARNING ⚠️ /content/Pineapple Ripeness Detection.v3i.yolov8/train/images/images20_jpg.rf.5485f9a364aa1630a0afaa6cd61af6ab.jpg: ignoring corrupt image/label: Label class 1 exceeds dataset class count 1. Possible class labels are 0-0\n",
            "\u001b[34m\u001b[1mtrain: \u001b[0mWARNING ⚠️ /content/Pineapple Ripeness Detection.v3i.yolov8/train/images/images232_jpg.rf.48fc16b22a4eba56f8596ff6ce28e4a6.jpg: ignoring corrupt image/label: Label class 1 exceeds dataset class count 1. Possible class labels are 0-0\n",
            "\u001b[34m\u001b[1mtrain: \u001b[0mWARNING ⚠️ /content/Pineapple Ripeness Detection.v3i.yolov8/train/images/images232_jpg.rf.5b3fe4ee467ace8f6a6355703345066b.jpg: ignoring corrupt image/label: Label class 1 exceeds dataset class count 1. Possible class labels are 0-0\n",
            "\u001b[34m\u001b[1mtrain: \u001b[0mWARNING ⚠️ /content/Pineapple Ripeness Detection.v3i.yolov8/train/images/images232_jpg.rf.9222c1ba45fd1ee6515e7309b7c650f8.jpg: ignoring corrupt image/label: Label class 1 exceeds dataset class count 1. Possible class labels are 0-0\n",
            "\u001b[34m\u001b[1mtrain: \u001b[0mWARNING ⚠️ /content/Pineapple Ripeness Detection.v3i.yolov8/train/images/images238_jpg.rf.30f3b5a0eb340b8b7b973c973112c3bc.jpg: ignoring corrupt image/label: Label class 1 exceeds dataset class count 1. Possible class labels are 0-0\n",
            "\u001b[34m\u001b[1mtrain: \u001b[0mWARNING ⚠️ /content/Pineapple Ripeness Detection.v3i.yolov8/train/images/images238_jpg.rf.622712755e210626704d5093ca2fd82b.jpg: ignoring corrupt image/label: Label class 1 exceeds dataset class count 1. Possible class labels are 0-0\n",
            "\u001b[34m\u001b[1mtrain: \u001b[0mWARNING ⚠️ /content/Pineapple Ripeness Detection.v3i.yolov8/train/images/images238_jpg.rf.f319e0f8889f9044af7650e1769fd73e.jpg: ignoring corrupt image/label: Label class 1 exceeds dataset class count 1. Possible class labels are 0-0\n",
            "\u001b[34m\u001b[1mtrain: \u001b[0mWARNING ⚠️ /content/Pineapple Ripeness Detection.v3i.yolov8/train/images/images245_jpg.rf.7f48bbefb3ae35cb3d7e00882e4f379c.jpg: ignoring corrupt image/label: Label class 1 exceeds dataset class count 1. Possible class labels are 0-0\n",
            "\u001b[34m\u001b[1mtrain: \u001b[0mWARNING ⚠️ /content/Pineapple Ripeness Detection.v3i.yolov8/train/images/images245_jpg.rf.bced78f4455c656a179d4889e0a4d8de.jpg: ignoring corrupt image/label: Label class 1 exceeds dataset class count 1. Possible class labels are 0-0\n",
            "\u001b[34m\u001b[1mtrain: \u001b[0mWARNING ⚠️ /content/Pineapple Ripeness Detection.v3i.yolov8/train/images/images245_jpg.rf.f6ff4da0958e9b5cfdb0a1ac3dc226a7.jpg: ignoring corrupt image/label: Label class 1 exceeds dataset class count 1. Possible class labels are 0-0\n",
            "\u001b[34m\u001b[1mtrain: \u001b[0mWARNING ⚠️ /content/Pineapple Ripeness Detection.v3i.yolov8/train/images/images251_jpg.rf.74b576d6f9e776c593cb05c908e3243f.jpg: ignoring corrupt image/label: Label class 1 exceeds dataset class count 1. Possible class labels are 0-0\n",
            "\u001b[34m\u001b[1mtrain: \u001b[0mWARNING ⚠️ /content/Pineapple Ripeness Detection.v3i.yolov8/train/images/images251_jpg.rf.870bb8bcfc653da847f45a731eb0b0b7.jpg: ignoring corrupt image/label: Label class 1 exceeds dataset class count 1. Possible class labels are 0-0\n",
            "\u001b[34m\u001b[1mtrain: \u001b[0mWARNING ⚠️ /content/Pineapple Ripeness Detection.v3i.yolov8/train/images/images251_jpg.rf.8a44de5b7286536597964c8c09f91f63.jpg: ignoring corrupt image/label: Label class 1 exceeds dataset class count 1. Possible class labels are 0-0\n",
            "\u001b[34m\u001b[1mtrain: \u001b[0mWARNING ⚠️ /content/Pineapple Ripeness Detection.v3i.yolov8/train/images/images267_jpg.rf.320c4e1b431d07ca4bbd620b335dba04.jpg: ignoring corrupt image/label: Label class 1 exceeds dataset class count 1. Possible class labels are 0-0\n",
            "\u001b[34m\u001b[1mtrain: \u001b[0mWARNING ⚠️ /content/Pineapple Ripeness Detection.v3i.yolov8/train/images/images267_jpg.rf.4cbc2706cf68e1e967624c49cf9b4912.jpg: ignoring corrupt image/label: Label class 1 exceeds dataset class count 1. Possible class labels are 0-0\n",
            "\u001b[34m\u001b[1mtrain: \u001b[0mWARNING ⚠️ /content/Pineapple Ripeness Detection.v3i.yolov8/train/images/images267_jpg.rf.ce033f0523eaafbb904028273ad042b2.jpg: ignoring corrupt image/label: Label class 1 exceeds dataset class count 1. Possible class labels are 0-0\n",
            "\u001b[34m\u001b[1mtrain: \u001b[0mWARNING ⚠️ /content/Pineapple Ripeness Detection.v3i.yolov8/train/images/images275_jpg.rf.a0331d53d24f43cb690aaaf1c4fcccd2.jpg: ignoring corrupt image/label: Label class 1 exceeds dataset class count 1. Possible class labels are 0-0\n",
            "\u001b[34m\u001b[1mtrain: \u001b[0mWARNING ⚠️ /content/Pineapple Ripeness Detection.v3i.yolov8/train/images/images275_jpg.rf.ab7382d86e98e81f33478225ff85b985.jpg: ignoring corrupt image/label: Label class 1 exceeds dataset class count 1. Possible class labels are 0-0\n",
            "\u001b[34m\u001b[1mtrain: \u001b[0mWARNING ⚠️ /content/Pineapple Ripeness Detection.v3i.yolov8/train/images/images275_jpg.rf.fba50da1ab995098b707673f74adb92f.jpg: ignoring corrupt image/label: Label class 1 exceeds dataset class count 1. Possible class labels are 0-0\n",
            "\u001b[34m\u001b[1mtrain: \u001b[0mWARNING ⚠️ /content/Pineapple Ripeness Detection.v3i.yolov8/train/images/images279_jpg.rf.2de37c596172aa29573eee38d84f02d1.jpg: ignoring corrupt image/label: Label class 1 exceeds dataset class count 1. Possible class labels are 0-0\n",
            "\u001b[34m\u001b[1mtrain: \u001b[0mWARNING ⚠️ /content/Pineapple Ripeness Detection.v3i.yolov8/train/images/images279_jpg.rf.b8c552c8a7fa84c5a0663ce697268429.jpg: ignoring corrupt image/label: Label class 1 exceeds dataset class count 1. Possible class labels are 0-0\n",
            "\u001b[34m\u001b[1mtrain: \u001b[0mWARNING ⚠️ /content/Pineapple Ripeness Detection.v3i.yolov8/train/images/images279_jpg.rf.c52d85c2a686f26c4719761ead7a76d7.jpg: ignoring corrupt image/label: Label class 1 exceeds dataset class count 1. Possible class labels are 0-0\n",
            "\u001b[34m\u001b[1mtrain: \u001b[0mWARNING ⚠️ /content/Pineapple Ripeness Detection.v3i.yolov8/train/images/images285_jpg.rf.03b61c3bdac52a37f18250af8148ce60.jpg: ignoring corrupt image/label: Label class 1 exceeds dataset class count 1. Possible class labels are 0-0\n",
            "\u001b[34m\u001b[1mtrain: \u001b[0mWARNING ⚠️ /content/Pineapple Ripeness Detection.v3i.yolov8/train/images/images285_jpg.rf.19b5c71c9dd0ec4d0fc40ef82e33ac9c.jpg: ignoring corrupt image/label: Label class 1 exceeds dataset class count 1. Possible class labels are 0-0\n",
            "\u001b[34m\u001b[1mtrain: \u001b[0mWARNING ⚠️ /content/Pineapple Ripeness Detection.v3i.yolov8/train/images/images285_jpg.rf.1d875fa338589ca83e696eee47281ddb.jpg: ignoring corrupt image/label: Label class 1 exceeds dataset class count 1. Possible class labels are 0-0\n",
            "\u001b[34m\u001b[1mtrain: \u001b[0mWARNING ⚠️ /content/Pineapple Ripeness Detection.v3i.yolov8/train/images/images288_jpg.rf.84502d49e0929bc7bba3558b8d15e38f.jpg: ignoring corrupt image/label: Label class 1 exceeds dataset class count 1. Possible class labels are 0-0\n",
            "\u001b[34m\u001b[1mtrain: \u001b[0mWARNING ⚠️ /content/Pineapple Ripeness Detection.v3i.yolov8/train/images/images288_jpg.rf.bacea8f630aadcbe93fba7e93724de89.jpg: ignoring corrupt image/label: Label class 1 exceeds dataset class count 1. Possible class labels are 0-0\n",
            "\u001b[34m\u001b[1mtrain: \u001b[0mWARNING ⚠️ /content/Pineapple Ripeness Detection.v3i.yolov8/train/images/images288_jpg.rf.eef8b18742bf11d2e1220b838e9f92a7.jpg: ignoring corrupt image/label: Label class 1 exceeds dataset class count 1. Possible class labels are 0-0\n",
            "\u001b[34m\u001b[1mtrain: \u001b[0mWARNING ⚠️ /content/Pineapple Ripeness Detection.v3i.yolov8/train/images/images300_jpg.rf.ddd2944d5ce2b46ef397b5dc35f49b28.jpg: ignoring corrupt image/label: Label class 1 exceeds dataset class count 1. Possible class labels are 0-0\n",
            "\u001b[34m\u001b[1mtrain: \u001b[0mWARNING ⚠️ /content/Pineapple Ripeness Detection.v3i.yolov8/train/images/images300_jpg.rf.eccb49bd491a22671c4a17a1fdae91b2.jpg: ignoring corrupt image/label: Label class 1 exceeds dataset class count 1. Possible class labels are 0-0\n",
            "\u001b[34m\u001b[1mtrain: \u001b[0mWARNING ⚠️ /content/Pineapple Ripeness Detection.v3i.yolov8/train/images/images300_jpg.rf.fb911716a9b74fd37c279f4b12467e3d.jpg: ignoring corrupt image/label: Label class 1 exceeds dataset class count 1. Possible class labels are 0-0\n",
            "\u001b[34m\u001b[1mtrain: \u001b[0mWARNING ⚠️ /content/Pineapple Ripeness Detection.v3i.yolov8/train/images/images301_jpg.rf.9246428bea75b47755e8a115f6f3dc09.jpg: ignoring corrupt image/label: Label class 1 exceeds dataset class count 1. Possible class labels are 0-0\n",
            "\u001b[34m\u001b[1mtrain: \u001b[0mWARNING ⚠️ /content/Pineapple Ripeness Detection.v3i.yolov8/train/images/images301_jpg.rf.b581ce711b48d5e4235904d4394fad46.jpg: ignoring corrupt image/label: Label class 1 exceeds dataset class count 1. Possible class labels are 0-0\n",
            "\u001b[34m\u001b[1mtrain: \u001b[0mWARNING ⚠️ /content/Pineapple Ripeness Detection.v3i.yolov8/train/images/images301_jpg.rf.dc6eb23de47eafe01f836e121f92f0ec.jpg: ignoring corrupt image/label: Label class 1 exceeds dataset class count 1. Possible class labels are 0-0\n",
            "\u001b[34m\u001b[1mtrain: \u001b[0mWARNING ⚠️ /content/Pineapple Ripeness Detection.v3i.yolov8/train/images/images310_jpg.rf.58c2b87efafb9c2b5378c8b069011cee.jpg: ignoring corrupt image/label: Label class 1 exceeds dataset class count 1. Possible class labels are 0-0\n",
            "\u001b[34m\u001b[1mtrain: \u001b[0mWARNING ⚠️ /content/Pineapple Ripeness Detection.v3i.yolov8/train/images/images310_jpg.rf.dd46f59752af72c378045883b263758f.jpg: ignoring corrupt image/label: Label class 1 exceeds dataset class count 1. Possible class labels are 0-0\n",
            "\u001b[34m\u001b[1mtrain: \u001b[0mWARNING ⚠️ /content/Pineapple Ripeness Detection.v3i.yolov8/train/images/images310_jpg.rf.ee2ddbba9b4680a46827dfa1be6c6200.jpg: ignoring corrupt image/label: Label class 1 exceeds dataset class count 1. Possible class labels are 0-0\n",
            "\u001b[34m\u001b[1mtrain: \u001b[0mWARNING ⚠️ /content/Pineapple Ripeness Detection.v3i.yolov8/train/images/images326_jpg.rf.0656715b72b66366602b56fb28b29532.jpg: ignoring corrupt image/label: Label class 1 exceeds dataset class count 1. Possible class labels are 0-0\n",
            "\u001b[34m\u001b[1mtrain: \u001b[0mWARNING ⚠️ /content/Pineapple Ripeness Detection.v3i.yolov8/train/images/images326_jpg.rf.3128d15da09f9f425a90c82867f020c6.jpg: ignoring corrupt image/label: Label class 1 exceeds dataset class count 1. Possible class labels are 0-0\n",
            "\u001b[34m\u001b[1mtrain: \u001b[0mWARNING ⚠️ /content/Pineapple Ripeness Detection.v3i.yolov8/train/images/images326_jpg.rf.fe40ebc8f47c77873cd6b74cd39d1f64.jpg: ignoring corrupt image/label: Label class 1 exceeds dataset class count 1. Possible class labels are 0-0\n",
            "\u001b[34m\u001b[1mtrain: \u001b[0mWARNING ⚠️ /content/Pineapple Ripeness Detection.v3i.yolov8/train/images/images327_jpg.rf.a0cd79424a48df03ecd0486cbc045be3.jpg: ignoring corrupt image/label: Label class 1 exceeds dataset class count 1. Possible class labels are 0-0\n",
            "\u001b[34m\u001b[1mtrain: \u001b[0mWARNING ⚠️ /content/Pineapple Ripeness Detection.v3i.yolov8/train/images/images327_jpg.rf.d2670777b665a7daad2a326fe1d88c6f.jpg: ignoring corrupt image/label: Label class 1 exceeds dataset class count 1. Possible class labels are 0-0\n",
            "\u001b[34m\u001b[1mtrain: \u001b[0mWARNING ⚠️ /content/Pineapple Ripeness Detection.v3i.yolov8/train/images/images327_jpg.rf.f7c288287dcf7840b22acf7eb93bc238.jpg: ignoring corrupt image/label: Label class 1 exceeds dataset class count 1. Possible class labels are 0-0\n",
            "\u001b[34m\u001b[1mtrain: \u001b[0mWARNING ⚠️ /content/Pineapple Ripeness Detection.v3i.yolov8/train/images/images329_jpg.rf.496ef3e5e91bb5de4bfbcdb4a9a293d1.jpg: ignoring corrupt image/label: Label class 1 exceeds dataset class count 1. Possible class labels are 0-0\n",
            "\u001b[34m\u001b[1mtrain: \u001b[0mWARNING ⚠️ /content/Pineapple Ripeness Detection.v3i.yolov8/train/images/images329_jpg.rf.546db3ff6ccd746a673ac3f26384a6af.jpg: ignoring corrupt image/label: Label class 1 exceeds dataset class count 1. Possible class labels are 0-0\n",
            "\u001b[34m\u001b[1mtrain: \u001b[0mWARNING ⚠️ /content/Pineapple Ripeness Detection.v3i.yolov8/train/images/images329_jpg.rf.d982541f737c569d9aa589fc857142f1.jpg: ignoring corrupt image/label: Label class 1 exceeds dataset class count 1. Possible class labels are 0-0\n",
            "\u001b[34m\u001b[1mtrain: \u001b[0mWARNING ⚠️ /content/Pineapple Ripeness Detection.v3i.yolov8/train/images/images331_jpg.rf.82595c1e78fa012b748fcdf50021ee19.jpg: ignoring corrupt image/label: Label class 1 exceeds dataset class count 1. Possible class labels are 0-0\n",
            "\u001b[34m\u001b[1mtrain: \u001b[0mWARNING ⚠️ /content/Pineapple Ripeness Detection.v3i.yolov8/train/images/images331_jpg.rf.c3f7c10da33fb1c8e45cbfcf9c4c3abf.jpg: ignoring corrupt image/label: Label class 1 exceeds dataset class count 1. Possible class labels are 0-0\n",
            "\u001b[34m\u001b[1mtrain: \u001b[0mWARNING ⚠️ /content/Pineapple Ripeness Detection.v3i.yolov8/train/images/images331_jpg.rf.ec77bb9a1c7f431059e1d5e4ef5bb558.jpg: ignoring corrupt image/label: Label class 1 exceeds dataset class count 1. Possible class labels are 0-0\n",
            "\u001b[34m\u001b[1mtrain: \u001b[0mWARNING ⚠️ /content/Pineapple Ripeness Detection.v3i.yolov8/train/images/images333_jpg.rf.8ad421b75efa529072abb97928caebac.jpg: ignoring corrupt image/label: Label class 1 exceeds dataset class count 1. Possible class labels are 0-0\n",
            "\u001b[34m\u001b[1mtrain: \u001b[0mWARNING ⚠️ /content/Pineapple Ripeness Detection.v3i.yolov8/train/images/images333_jpg.rf.a6eda9e7cfd750cb59aa696c0e6a88bd.jpg: ignoring corrupt image/label: Label class 1 exceeds dataset class count 1. Possible class labels are 0-0\n",
            "\u001b[34m\u001b[1mtrain: \u001b[0mWARNING ⚠️ /content/Pineapple Ripeness Detection.v3i.yolov8/train/images/images333_jpg.rf.b0190cb48230e6ac5d37c2fa5e07fd35.jpg: ignoring corrupt image/label: Label class 1 exceeds dataset class count 1. Possible class labels are 0-0\n",
            "\u001b[34m\u001b[1mtrain: \u001b[0mWARNING ⚠️ /content/Pineapple Ripeness Detection.v3i.yolov8/train/images/images33_jpg.rf.1a3ed98a3e711b9fc5a131f710111883.jpg: ignoring corrupt image/label: Label class 1 exceeds dataset class count 1. Possible class labels are 0-0\n",
            "\u001b[34m\u001b[1mtrain: \u001b[0mWARNING ⚠️ /content/Pineapple Ripeness Detection.v3i.yolov8/train/images/images33_jpg.rf.3de2dfc5d2d0b620cc16bfdfe42fe802.jpg: ignoring corrupt image/label: Label class 1 exceeds dataset class count 1. Possible class labels are 0-0\n",
            "\u001b[34m\u001b[1mtrain: \u001b[0mWARNING ⚠️ /content/Pineapple Ripeness Detection.v3i.yolov8/train/images/images33_jpg.rf.cd576b4b8a2193a0a08c5feb3ee1c714.jpg: ignoring corrupt image/label: Label class 1 exceeds dataset class count 1. Possible class labels are 0-0\n",
            "\u001b[34m\u001b[1mtrain: \u001b[0mWARNING ⚠️ /content/Pineapple Ripeness Detection.v3i.yolov8/train/images/images342_jpg.rf.8d4466f010c953970a01450ab7bf2b00.jpg: ignoring corrupt image/label: Label class 1 exceeds dataset class count 1. Possible class labels are 0-0\n",
            "\u001b[34m\u001b[1mtrain: \u001b[0mWARNING ⚠️ /content/Pineapple Ripeness Detection.v3i.yolov8/train/images/images342_jpg.rf.f206622558674b9168c7553506fccb92.jpg: ignoring corrupt image/label: Label class 1 exceeds dataset class count 1. Possible class labels are 0-0\n",
            "\u001b[34m\u001b[1mtrain: \u001b[0mWARNING ⚠️ /content/Pineapple Ripeness Detection.v3i.yolov8/train/images/images342_jpg.rf.ffc65ea8617adaa69a57a45e5628fffe.jpg: ignoring corrupt image/label: Label class 1 exceeds dataset class count 1. Possible class labels are 0-0\n",
            "\u001b[34m\u001b[1mtrain: \u001b[0mWARNING ⚠️ /content/Pineapple Ripeness Detection.v3i.yolov8/train/images/images348_jpg.rf.2f14014ce50a8b78b3e6d44ce80085e2.jpg: ignoring corrupt image/label: Label class 1 exceeds dataset class count 1. Possible class labels are 0-0\n",
            "\u001b[34m\u001b[1mtrain: \u001b[0mWARNING ⚠️ /content/Pineapple Ripeness Detection.v3i.yolov8/train/images/images348_jpg.rf.d59739b1956f24075be336933c17d7f2.jpg: ignoring corrupt image/label: Label class 1 exceeds dataset class count 1. Possible class labels are 0-0\n",
            "\u001b[34m\u001b[1mtrain: \u001b[0mWARNING ⚠️ /content/Pineapple Ripeness Detection.v3i.yolov8/train/images/images348_jpg.rf.eb804c4b517b88623cfc47c6da5c76f3.jpg: ignoring corrupt image/label: Label class 1 exceeds dataset class count 1. Possible class labels are 0-0\n",
            "\u001b[34m\u001b[1mtrain: \u001b[0mWARNING ⚠️ /content/Pineapple Ripeness Detection.v3i.yolov8/train/images/images367_jpg.rf.00d43764ce2528138565c28f583e58c7.jpg: ignoring corrupt image/label: Label class 1 exceeds dataset class count 1. Possible class labels are 0-0\n",
            "\u001b[34m\u001b[1mtrain: \u001b[0mWARNING ⚠️ /content/Pineapple Ripeness Detection.v3i.yolov8/train/images/images367_jpg.rf.4feeb0d41c15fdabaeb39b3682ef1262.jpg: ignoring corrupt image/label: Label class 1 exceeds dataset class count 1. Possible class labels are 0-0\n",
            "\u001b[34m\u001b[1mtrain: \u001b[0mWARNING ⚠️ /content/Pineapple Ripeness Detection.v3i.yolov8/train/images/images367_jpg.rf.d0ba2f13c99651fe83020b84e60d6e95.jpg: ignoring corrupt image/label: Label class 1 exceeds dataset class count 1. Possible class labels are 0-0\n",
            "\u001b[34m\u001b[1mtrain: \u001b[0mWARNING ⚠️ /content/Pineapple Ripeness Detection.v3i.yolov8/train/images/images368_jpg.rf.8fe638c7e5f16dae2197bb0fccc845d9.jpg: ignoring corrupt image/label: Label class 1 exceeds dataset class count 1. Possible class labels are 0-0\n",
            "\u001b[34m\u001b[1mtrain: \u001b[0mWARNING ⚠️ /content/Pineapple Ripeness Detection.v3i.yolov8/train/images/images368_jpg.rf.b0355e892e58dd51160b20da1d4639fc.jpg: ignoring corrupt image/label: Label class 1 exceeds dataset class count 1. Possible class labels are 0-0\n",
            "\u001b[34m\u001b[1mtrain: \u001b[0mWARNING ⚠️ /content/Pineapple Ripeness Detection.v3i.yolov8/train/images/images368_jpg.rf.b29840655a74cdc4c1a66b1895842d3e.jpg: ignoring corrupt image/label: Label class 1 exceeds dataset class count 1. Possible class labels are 0-0\n",
            "\u001b[34m\u001b[1mtrain: \u001b[0mWARNING ⚠️ /content/Pineapple Ripeness Detection.v3i.yolov8/train/images/images36_jpg.rf.387777a282e71eab6b1448ead89ab12b.jpg: ignoring corrupt image/label: Label class 1 exceeds dataset class count 1. Possible class labels are 0-0\n",
            "\u001b[34m\u001b[1mtrain: \u001b[0mWARNING ⚠️ /content/Pineapple Ripeness Detection.v3i.yolov8/train/images/images36_jpg.rf.6d5ac543a4e1cb31e0e0fb0b0dee4ff2.jpg: ignoring corrupt image/label: Label class 1 exceeds dataset class count 1. Possible class labels are 0-0\n",
            "\u001b[34m\u001b[1mtrain: \u001b[0mWARNING ⚠️ /content/Pineapple Ripeness Detection.v3i.yolov8/train/images/images36_jpg.rf.abdf39cb5b272a5d320d7aa1ac7660a7.jpg: ignoring corrupt image/label: Label class 1 exceeds dataset class count 1. Possible class labels are 0-0\n",
            "\u001b[34m\u001b[1mtrain: \u001b[0mWARNING ⚠️ /content/Pineapple Ripeness Detection.v3i.yolov8/train/images/images388_jpg.rf.40521430385676bb5745a942faaf3c14.jpg: ignoring corrupt image/label: Label class 1 exceeds dataset class count 1. Possible class labels are 0-0\n",
            "\u001b[34m\u001b[1mtrain: \u001b[0mWARNING ⚠️ /content/Pineapple Ripeness Detection.v3i.yolov8/train/images/images388_jpg.rf.67b01a28013d85b7083bce552fdc0ead.jpg: ignoring corrupt image/label: Label class 1 exceeds dataset class count 1. Possible class labels are 0-0\n",
            "\u001b[34m\u001b[1mtrain: \u001b[0mWARNING ⚠️ /content/Pineapple Ripeness Detection.v3i.yolov8/train/images/images388_jpg.rf.91902c50f3f8c557734b6a588f9577ee.jpg: ignoring corrupt image/label: Label class 1 exceeds dataset class count 1. Possible class labels are 0-0\n",
            "\u001b[34m\u001b[1mtrain: \u001b[0mWARNING ⚠️ /content/Pineapple Ripeness Detection.v3i.yolov8/train/images/images392_jpg.rf.40929446bb31c1a6be378c52a6be78f8.jpg: ignoring corrupt image/label: Label class 1 exceeds dataset class count 1. Possible class labels are 0-0\n",
            "\u001b[34m\u001b[1mtrain: \u001b[0mWARNING ⚠️ /content/Pineapple Ripeness Detection.v3i.yolov8/train/images/images392_jpg.rf.7e33863368a984078855291f6b468574.jpg: ignoring corrupt image/label: Label class 1 exceeds dataset class count 1. Possible class labels are 0-0\n",
            "\u001b[34m\u001b[1mtrain: \u001b[0mWARNING ⚠️ /content/Pineapple Ripeness Detection.v3i.yolov8/train/images/images392_jpg.rf.8952f6593396a8725db3cd1540973a8b.jpg: ignoring corrupt image/label: Label class 1 exceeds dataset class count 1. Possible class labels are 0-0\n",
            "\u001b[34m\u001b[1mtrain: \u001b[0mWARNING ⚠️ /content/Pineapple Ripeness Detection.v3i.yolov8/train/images/images395_jpg.rf.01a8fb57f73e1e4b4e2bd963f8856d3f.jpg: ignoring corrupt image/label: Label class 1 exceeds dataset class count 1. Possible class labels are 0-0\n",
            "\u001b[34m\u001b[1mtrain: \u001b[0mWARNING ⚠️ /content/Pineapple Ripeness Detection.v3i.yolov8/train/images/images395_jpg.rf.2d7cd77bf63ae0d7ffe43c2221b5e8e7.jpg: ignoring corrupt image/label: Label class 1 exceeds dataset class count 1. Possible class labels are 0-0\n",
            "\u001b[34m\u001b[1mtrain: \u001b[0mWARNING ⚠️ /content/Pineapple Ripeness Detection.v3i.yolov8/train/images/images395_jpg.rf.d74a9d761975a080ee68db23737cb2a9.jpg: ignoring corrupt image/label: Label class 1 exceeds dataset class count 1. Possible class labels are 0-0\n",
            "\u001b[34m\u001b[1mtrain: \u001b[0mWARNING ⚠️ /content/Pineapple Ripeness Detection.v3i.yolov8/train/images/images54_jpg.rf.24159a9dfc434c713db11a3bb526ab7f.jpg: ignoring corrupt image/label: Label class 1 exceeds dataset class count 1. Possible class labels are 0-0\n",
            "\u001b[34m\u001b[1mtrain: \u001b[0mWARNING ⚠️ /content/Pineapple Ripeness Detection.v3i.yolov8/train/images/images54_jpg.rf.4b1428ba1a20ff1e8ecf782f826a67b1.jpg: ignoring corrupt image/label: Label class 1 exceeds dataset class count 1. Possible class labels are 0-0\n",
            "\u001b[34m\u001b[1mtrain: \u001b[0mWARNING ⚠️ /content/Pineapple Ripeness Detection.v3i.yolov8/train/images/images54_jpg.rf.f88b4f478e564e205990a06ed7b862bc.jpg: ignoring corrupt image/label: Label class 1 exceeds dataset class count 1. Possible class labels are 0-0\n",
            "\u001b[34m\u001b[1mtrain: \u001b[0mWARNING ⚠️ /content/Pineapple Ripeness Detection.v3i.yolov8/train/images/images60_jpg.rf.76cddaea6629b6780459ba09356d0d92.jpg: ignoring corrupt image/label: Label class 1 exceeds dataset class count 1. Possible class labels are 0-0\n",
            "\u001b[34m\u001b[1mtrain: \u001b[0mWARNING ⚠️ /content/Pineapple Ripeness Detection.v3i.yolov8/train/images/images60_jpg.rf.ba5372c8a54a1fc5c241595d9456992b.jpg: ignoring corrupt image/label: Label class 1 exceeds dataset class count 1. Possible class labels are 0-0\n",
            "\u001b[34m\u001b[1mtrain: \u001b[0mWARNING ⚠️ /content/Pineapple Ripeness Detection.v3i.yolov8/train/images/images60_jpg.rf.e4f3b109201d1527e144188d1efcd829.jpg: ignoring corrupt image/label: Label class 1 exceeds dataset class count 1. Possible class labels are 0-0\n",
            "\u001b[34m\u001b[1mtrain: \u001b[0mWARNING ⚠️ /content/Pineapple Ripeness Detection.v3i.yolov8/train/images/images62_jpg.rf.339f18e98d293108ef13d74c6182e501.jpg: ignoring corrupt image/label: Label class 1 exceeds dataset class count 1. Possible class labels are 0-0\n",
            "\u001b[34m\u001b[1mtrain: \u001b[0mWARNING ⚠️ /content/Pineapple Ripeness Detection.v3i.yolov8/train/images/images62_jpg.rf.a6ac3dcff64067e17bad9bfd24180ab4.jpg: ignoring corrupt image/label: Label class 1 exceeds dataset class count 1. Possible class labels are 0-0\n",
            "\u001b[34m\u001b[1mtrain: \u001b[0mWARNING ⚠️ /content/Pineapple Ripeness Detection.v3i.yolov8/train/images/images62_jpg.rf.e29aec89d442c8bea70ee55a6753fb96.jpg: ignoring corrupt image/label: Label class 1 exceeds dataset class count 1. Possible class labels are 0-0\n",
            "\u001b[34m\u001b[1mtrain: \u001b[0mWARNING ⚠️ /content/Pineapple Ripeness Detection.v3i.yolov8/train/images/images66_jpg.rf.04a6afb544cb30395bb0c97cdd3f014b.jpg: ignoring corrupt image/label: Label class 1 exceeds dataset class count 1. Possible class labels are 0-0\n",
            "\u001b[34m\u001b[1mtrain: \u001b[0mWARNING ⚠️ /content/Pineapple Ripeness Detection.v3i.yolov8/train/images/images66_jpg.rf.17360a3be92f4911421c91ad6b7cc645.jpg: ignoring corrupt image/label: Label class 1 exceeds dataset class count 1. Possible class labels are 0-0\n",
            "\u001b[34m\u001b[1mtrain: \u001b[0mWARNING ⚠️ /content/Pineapple Ripeness Detection.v3i.yolov8/train/images/images66_jpg.rf.47e8674e8a6bef9a0ecb86b53a2a01c1.jpg: ignoring corrupt image/label: Label class 1 exceeds dataset class count 1. Possible class labels are 0-0\n",
            "\u001b[34m\u001b[1mtrain: \u001b[0mWARNING ⚠️ /content/Pineapple Ripeness Detection.v3i.yolov8/train/images/images69_jpg.rf.904388d57b30dac40d2aa5642e39f9c3.jpg: ignoring corrupt image/label: Label class 1 exceeds dataset class count 1. Possible class labels are 0-0\n",
            "\u001b[34m\u001b[1mtrain: \u001b[0mWARNING ⚠️ /content/Pineapple Ripeness Detection.v3i.yolov8/train/images/images69_jpg.rf.d08ad66e21bc8b39ec892f991695f074.jpg: ignoring corrupt image/label: Label class 1 exceeds dataset class count 1. Possible class labels are 0-0\n",
            "\u001b[34m\u001b[1mtrain: \u001b[0mWARNING ⚠️ /content/Pineapple Ripeness Detection.v3i.yolov8/train/images/images69_jpg.rf.f7271e8cab6ec05c156a47b864ce42de.jpg: ignoring corrupt image/label: Label class 1 exceeds dataset class count 1. Possible class labels are 0-0\n",
            "\u001b[34m\u001b[1mtrain: \u001b[0mWARNING ⚠️ /content/Pineapple Ripeness Detection.v3i.yolov8/train/images/images75_jpg.rf.1d6281ba3645b4a238632ce8a1a1c478.jpg: ignoring corrupt image/label: Label class 1 exceeds dataset class count 1. Possible class labels are 0-0\n",
            "\u001b[34m\u001b[1mtrain: \u001b[0mWARNING ⚠️ /content/Pineapple Ripeness Detection.v3i.yolov8/train/images/images75_jpg.rf.68a609d8231b4a853a2137c4037e17e3.jpg: ignoring corrupt image/label: Label class 1 exceeds dataset class count 1. Possible class labels are 0-0\n",
            "\u001b[34m\u001b[1mtrain: \u001b[0mWARNING ⚠️ /content/Pineapple Ripeness Detection.v3i.yolov8/train/images/images75_jpg.rf.f9aeba40a1a485ab519683d47be05568.jpg: ignoring corrupt image/label: Label class 1 exceeds dataset class count 1. Possible class labels are 0-0\n",
            "\u001b[34m\u001b[1mtrain: \u001b[0mWARNING ⚠️ /content/Pineapple Ripeness Detection.v3i.yolov8/train/images/images83_jpg.rf.683dcaa44636fdc40b4464fde4ff9595.jpg: ignoring corrupt image/label: Label class 1 exceeds dataset class count 1. Possible class labels are 0-0\n",
            "\u001b[34m\u001b[1mtrain: \u001b[0mWARNING ⚠️ /content/Pineapple Ripeness Detection.v3i.yolov8/train/images/images83_jpg.rf.af6c268f81fb9da8ee90aab835bc1fbd.jpg: ignoring corrupt image/label: Label class 1 exceeds dataset class count 1. Possible class labels are 0-0\n",
            "\u001b[34m\u001b[1mtrain: \u001b[0mWARNING ⚠️ /content/Pineapple Ripeness Detection.v3i.yolov8/train/images/images83_jpg.rf.cd4e4bf47d633311b520d3ba3b8a4ea2.jpg: ignoring corrupt image/label: Label class 1 exceeds dataset class count 1. Possible class labels are 0-0\n",
            "\u001b[34m\u001b[1mtrain: \u001b[0mWARNING ⚠️ /content/Pineapple Ripeness Detection.v3i.yolov8/train/images/images90_jpg.rf.341c1bbd2bd03c8f349b58cdd112fc4d.jpg: ignoring corrupt image/label: Label class 1 exceeds dataset class count 1. Possible class labels are 0-0\n",
            "\u001b[34m\u001b[1mtrain: \u001b[0mWARNING ⚠️ /content/Pineapple Ripeness Detection.v3i.yolov8/train/images/images90_jpg.rf.c525cbc2da0b29e02c455aacc9df7431.jpg: ignoring corrupt image/label: Label class 1 exceeds dataset class count 1. Possible class labels are 0-0\n",
            "\u001b[34m\u001b[1mtrain: \u001b[0mWARNING ⚠️ /content/Pineapple Ripeness Detection.v3i.yolov8/train/images/images90_jpg.rf.d77b1bf37fce719d272227f0c4797b17.jpg: ignoring corrupt image/label: Label class 1 exceeds dataset class count 1. Possible class labels are 0-0\n",
            "\u001b[34m\u001b[1mtrain: \u001b[0mWARNING ⚠️ /content/Pineapple Ripeness Detection.v3i.yolov8/train/images/pineapple-harvest_jpg.rf.04969b8ff3a3c427f6fb5b776eef933e.jpg: ignoring corrupt image/label: Label class 1 exceeds dataset class count 1. Possible class labels are 0-0\n",
            "\u001b[34m\u001b[1mtrain: \u001b[0mWARNING ⚠️ /content/Pineapple Ripeness Detection.v3i.yolov8/train/images/pineapple-harvest_jpg.rf.595e19f9b100e036abe24e454865144f.jpg: ignoring corrupt image/label: Label class 1 exceeds dataset class count 1. Possible class labels are 0-0\n",
            "\u001b[34m\u001b[1mtrain: \u001b[0mWARNING ⚠️ /content/Pineapple Ripeness Detection.v3i.yolov8/train/images/pineapple-harvest_jpg.rf.d3bac43b3f92336a694bbc48e792ac15.jpg: ignoring corrupt image/label: Label class 1 exceeds dataset class count 1. Possible class labels are 0-0\n",
            "\u001b[34m\u001b[1mtrain: \u001b[0mNew cache created: /content/Pineapple Ripeness Detection.v3i.yolov8/train/labels.cache\n"
          ]
        },
        {
          "output_type": "stream",
          "name": "stderr",
          "text": [
            "\n"
          ]
        },
        {
          "output_type": "stream",
          "name": "stdout",
          "text": [
            "\u001b[34m\u001b[1malbumentations: \u001b[0mBlur(p=0.01, blur_limit=(3, 7)), MedianBlur(p=0.01, blur_limit=(3, 7)), ToGray(p=0.01, num_output_channels=3, method='weighted_average'), CLAHE(p=0.01, clip_limit=(1.0, 4.0), tile_grid_size=(8, 8))\n",
            "\u001b[34m\u001b[1mval: \u001b[0mFast image access ✅ (ping: 0.0±0.0 ms, read: 650.0±205.3 MB/s, size: 65.1 KB)\n"
          ]
        },
        {
          "output_type": "stream",
          "name": "stderr",
          "text": [
            "\u001b[34m\u001b[1mval: \u001b[0mScanning /content/Pineapple Ripeness Detection.v3i.yolov8/valid/labels... 143 images, 3 backgrounds, 61 corrupt: 100%|██████████| 143/143 [00:00<00:00, 2099.95it/s]"
          ]
        },
        {
          "output_type": "stream",
          "name": "stdout",
          "text": [
            "\u001b[34m\u001b[1mval: \u001b[0mWARNING ⚠️ /content/Pineapple Ripeness Detection.v3i.yolov8/valid/images/82535-004-4C2AF7BA_jpg.rf.5130611ae818279831b214c4c438422e.jpg: ignoring corrupt image/label: Label class 1 exceeds dataset class count 1. Possible class labels are 0-0\n",
            "\u001b[34m\u001b[1mval: \u001b[0mWARNING ⚠️ /content/Pineapple Ripeness Detection.v3i.yolov8/valid/images/IMG_0877_JPG.rf.babba7672e3945bfcd4e0172231017ca.jpg: ignoring corrupt image/label: Label class 1 exceeds dataset class count 1. Possible class labels are 0-0\n",
            "\u001b[34m\u001b[1mval: \u001b[0mWARNING ⚠️ /content/Pineapple Ripeness Detection.v3i.yolov8/valid/images/IMG_0879_JPG.rf.eda0ee4f93c53145c32d204e9e29fd7b.jpg: ignoring corrupt image/label: Label class 1 exceeds dataset class count 1. Possible class labels are 0-0\n",
            "\u001b[34m\u001b[1mval: \u001b[0mWARNING ⚠️ /content/Pineapple Ripeness Detection.v3i.yolov8/valid/images/IMG_0880_JPG.rf.514e383eba80b5fa9d20b549b2d3da3e.jpg: ignoring corrupt image/label: Label class 1 exceeds dataset class count 1. Possible class labels are 0-0\n",
            "\u001b[34m\u001b[1mval: \u001b[0mWARNING ⚠️ /content/Pineapple Ripeness Detection.v3i.yolov8/valid/images/IMG_0882_JPG.rf.7511156abc9a3657fbfd908eac723e88.jpg: ignoring corrupt image/label: Label class 1 exceeds dataset class count 1. Possible class labels are 0-0\n",
            "\u001b[34m\u001b[1mval: \u001b[0mWARNING ⚠️ /content/Pineapple Ripeness Detection.v3i.yolov8/valid/images/IMG_0883_JPG.rf.28dd01a09d35bf799f8ce1776c9fbbe7.jpg: ignoring corrupt image/label: Label class 1 exceeds dataset class count 1. Possible class labels are 0-0\n",
            "\u001b[34m\u001b[1mval: \u001b[0mWARNING ⚠️ /content/Pineapple Ripeness Detection.v3i.yolov8/valid/images/IMG_0885_JPG.rf.64b7ee81e4092e3e651e1cf7ab8a40e8.jpg: ignoring corrupt image/label: Label class 1 exceeds dataset class count 1. Possible class labels are 0-0\n",
            "\u001b[34m\u001b[1mval: \u001b[0mWARNING ⚠️ /content/Pineapple Ripeness Detection.v3i.yolov8/valid/images/IMG_0887_JPG.rf.8d595ea059af96200c06aa23f33a0cbd.jpg: ignoring corrupt image/label: Label class 1 exceeds dataset class count 1. Possible class labels are 0-0\n",
            "\u001b[34m\u001b[1mval: \u001b[0mWARNING ⚠️ /content/Pineapple Ripeness Detection.v3i.yolov8/valid/images/IMG_0889_JPG.rf.e03342cc91abb7296ee269bd4453d5a9.jpg: ignoring corrupt image/label: Label class 1 exceeds dataset class count 1. Possible class labels are 0-0\n",
            "\u001b[34m\u001b[1mval: \u001b[0mWARNING ⚠️ /content/Pineapple Ripeness Detection.v3i.yolov8/valid/images/IMG_0892_JPG.rf.5928c9217375e34c1a760eb6eb094ef3.jpg: ignoring corrupt image/label: Label class 1 exceeds dataset class count 1. Possible class labels are 0-0\n",
            "\u001b[34m\u001b[1mval: \u001b[0mWARNING ⚠️ /content/Pineapple Ripeness Detection.v3i.yolov8/valid/images/IMG_0895_JPG.rf.eae6568816b4c809f034f71293466458.jpg: ignoring corrupt image/label: Label class 1 exceeds dataset class count 1. Possible class labels are 0-0\n",
            "\u001b[34m\u001b[1mval: \u001b[0mWARNING ⚠️ /content/Pineapple Ripeness Detection.v3i.yolov8/valid/images/IMG_0896_JPG.rf.fdb24425f12c68f6b4150fe69cae5ce5.jpg: ignoring corrupt image/label: Label class 1 exceeds dataset class count 1. Possible class labels are 0-0\n",
            "\u001b[34m\u001b[1mval: \u001b[0mWARNING ⚠️ /content/Pineapple Ripeness Detection.v3i.yolov8/valid/images/IMG_0899_JPG.rf.cba02502326e7e360715a5af59817a52.jpg: ignoring corrupt image/label: Label class 1 exceeds dataset class count 1. Possible class labels are 0-0\n",
            "\u001b[34m\u001b[1mval: \u001b[0mWARNING ⚠️ /content/Pineapple Ripeness Detection.v3i.yolov8/valid/images/IMG_0901_JPG.rf.84c1f1f691314237507461605bc17bc9.jpg: ignoring corrupt image/label: Label class 1 exceeds dataset class count 1. Possible class labels are 0-0\n",
            "\u001b[34m\u001b[1mval: \u001b[0mWARNING ⚠️ /content/Pineapple Ripeness Detection.v3i.yolov8/valid/images/IMG_0903_JPG.rf.e38e7940b43b0e94ac80c24cbb851f0e.jpg: ignoring corrupt image/label: Label class 1 exceeds dataset class count 1. Possible class labels are 0-0\n",
            "\u001b[34m\u001b[1mval: \u001b[0mWARNING ⚠️ /content/Pineapple Ripeness Detection.v3i.yolov8/valid/images/IMG_0907_JPG.rf.89596470b25883d453dfc8e8f151b38a.jpg: ignoring corrupt image/label: Label class 1 exceeds dataset class count 1. Possible class labels are 0-0\n",
            "\u001b[34m\u001b[1mval: \u001b[0mWARNING ⚠️ /content/Pineapple Ripeness Detection.v3i.yolov8/valid/images/IMG_0908_JPG.rf.c0e379dd3baeedf967258598193e6d46.jpg: ignoring corrupt image/label: Label class 1 exceeds dataset class count 1. Possible class labels are 0-0\n",
            "\u001b[34m\u001b[1mval: \u001b[0mWARNING ⚠️ /content/Pineapple Ripeness Detection.v3i.yolov8/valid/images/IMG_0910_JPG.rf.38f409aa129c5587e4a8045555e49274.jpg: ignoring corrupt image/label: Label class 1 exceeds dataset class count 1. Possible class labels are 0-0\n",
            "\u001b[34m\u001b[1mval: \u001b[0mWARNING ⚠️ /content/Pineapple Ripeness Detection.v3i.yolov8/valid/images/IMG_0912_JPG.rf.c6eb4d0e45dfc40a0a95a8f7397265bc.jpg: ignoring corrupt image/label: Label class 1 exceeds dataset class count 1. Possible class labels are 0-0\n",
            "\u001b[34m\u001b[1mval: \u001b[0mWARNING ⚠️ /content/Pineapple Ripeness Detection.v3i.yolov8/valid/images/IMG_0915_JPG.rf.bb874e4f31619b8fc5f58fa232548c7d.jpg: ignoring corrupt image/label: Label class 1 exceeds dataset class count 1. Possible class labels are 0-0\n",
            "\u001b[34m\u001b[1mval: \u001b[0mWARNING ⚠️ /content/Pineapple Ripeness Detection.v3i.yolov8/valid/images/IMG_0917_JPG.rf.a67882f0c1a9b93612bcbe0b30d52423.jpg: ignoring corrupt image/label: Label class 1 exceeds dataset class count 1. Possible class labels are 0-0\n",
            "\u001b[34m\u001b[1mval: \u001b[0mWARNING ⚠️ /content/Pineapple Ripeness Detection.v3i.yolov8/valid/images/IMG_0925_JPG.rf.f813fae7e342bf0cb1256171aa5cb31e.jpg: ignoring corrupt image/label: Label class 1 exceeds dataset class count 1. Possible class labels are 0-0\n",
            "\u001b[34m\u001b[1mval: \u001b[0mWARNING ⚠️ /content/Pineapple Ripeness Detection.v3i.yolov8/valid/images/IMG_0926_JPG.rf.96687911df4ebeb09ef97153349ae250.jpg: ignoring corrupt image/label: Label class 1 exceeds dataset class count 1. Possible class labels are 0-0\n",
            "\u001b[34m\u001b[1mval: \u001b[0mWARNING ⚠️ /content/Pineapple Ripeness Detection.v3i.yolov8/valid/images/IMG_0927_JPG.rf.10fa7b3342c249888fb7e916314249f7.jpg: ignoring corrupt image/label: Label class 1 exceeds dataset class count 1. Possible class labels are 0-0\n",
            "\u001b[34m\u001b[1mval: \u001b[0mWARNING ⚠️ /content/Pineapple Ripeness Detection.v3i.yolov8/valid/images/IMG_0930_JPG.rf.c2795b94a69e2051e1a1f67ff2b556cc.jpg: ignoring corrupt image/label: Label class 1 exceeds dataset class count 1. Possible class labels are 0-0\n",
            "\u001b[34m\u001b[1mval: \u001b[0mWARNING ⚠️ /content/Pineapple Ripeness Detection.v3i.yolov8/valid/images/IMG_0931_JPG.rf.f884618b279e63b24ca0290797231642.jpg: ignoring corrupt image/label: Label class 1 exceeds dataset class count 1. Possible class labels are 0-0\n",
            "\u001b[34m\u001b[1mval: \u001b[0mWARNING ⚠️ /content/Pineapple Ripeness Detection.v3i.yolov8/valid/images/IMG_0933_JPG.rf.7eb81044e1e2b17178699f4e331c0cda.jpg: ignoring corrupt image/label: Label class 1 exceeds dataset class count 1. Possible class labels are 0-0\n",
            "\u001b[34m\u001b[1mval: \u001b[0mWARNING ⚠️ /content/Pineapple Ripeness Detection.v3i.yolov8/valid/images/IMG_0938_JPG.rf.c6245809f66834f4de923487d700b743.jpg: ignoring corrupt image/label: Label class 1 exceeds dataset class count 1. Possible class labels are 0-0\n",
            "\u001b[34m\u001b[1mval: \u001b[0mWARNING ⚠️ /content/Pineapple Ripeness Detection.v3i.yolov8/valid/images/IMG_0940_JPG.rf.5284365b33749f5416109a4effda0adc.jpg: ignoring corrupt image/label: Label class 1 exceeds dataset class count 1. Possible class labels are 0-0\n",
            "\u001b[34m\u001b[1mval: \u001b[0mWARNING ⚠️ /content/Pineapple Ripeness Detection.v3i.yolov8/valid/images/IMG_0941_JPG.rf.24d8d8208bdd996311c1afbac2072b60.jpg: ignoring corrupt image/label: Label class 1 exceeds dataset class count 1. Possible class labels are 0-0\n",
            "\u001b[34m\u001b[1mval: \u001b[0mWARNING ⚠️ /content/Pineapple Ripeness Detection.v3i.yolov8/valid/images/IMG_0943_JPG.rf.087b8ed00e42a604dd9eb501dd47f30f.jpg: ignoring corrupt image/label: Label class 1 exceeds dataset class count 1. Possible class labels are 0-0\n",
            "\u001b[34m\u001b[1mval: \u001b[0mWARNING ⚠️ /content/Pineapple Ripeness Detection.v3i.yolov8/valid/images/IMG_0945_JPG.rf.51f8680f920e17e4eaa5e180afd4b994.jpg: ignoring corrupt image/label: Label class 1 exceeds dataset class count 1. Possible class labels are 0-0\n",
            "\u001b[34m\u001b[1mval: \u001b[0mWARNING ⚠️ /content/Pineapple Ripeness Detection.v3i.yolov8/valid/images/IMG_0946_JPG.rf.6d0336307311f9039a8585b13ae4403f.jpg: ignoring corrupt image/label: Label class 1 exceeds dataset class count 1. Possible class labels are 0-0\n",
            "\u001b[34m\u001b[1mval: \u001b[0mWARNING ⚠️ /content/Pineapple Ripeness Detection.v3i.yolov8/valid/images/IMG_0947_JPG.rf.0b7e5dbfa0b180c298c39b2e8e9f4f69.jpg: ignoring corrupt image/label: Label class 1 exceeds dataset class count 1. Possible class labels are 0-0\n",
            "\u001b[34m\u001b[1mval: \u001b[0mWARNING ⚠️ /content/Pineapple Ripeness Detection.v3i.yolov8/valid/images/IMG_0949_JPG.rf.24dda2b0c02cf8fea44cc9a566b6e321.jpg: ignoring corrupt image/label: Label class 1 exceeds dataset class count 1. Possible class labels are 0-0\n",
            "\u001b[34m\u001b[1mval: \u001b[0mWARNING ⚠️ /content/Pineapple Ripeness Detection.v3i.yolov8/valid/images/IMG_0953_JPG.rf.977578843b340cd335a0c27ea210eb70.jpg: ignoring corrupt image/label: Label class 1 exceeds dataset class count 1. Possible class labels are 0-0\n",
            "\u001b[34m\u001b[1mval: \u001b[0mWARNING ⚠️ /content/Pineapple Ripeness Detection.v3i.yolov8/valid/images/IMG_0958_JPG.rf.53beb8f51b2b12e43a74b0eacd746e22.jpg: ignoring corrupt image/label: Label class 1 exceeds dataset class count 1. Possible class labels are 0-0\n",
            "\u001b[34m\u001b[1mval: \u001b[0mWARNING ⚠️ /content/Pineapple Ripeness Detection.v3i.yolov8/valid/images/IMG_0959_JPG.rf.d2b8accb0fcf89d9b0d91a46cf91b685.jpg: ignoring corrupt image/label: Label class 1 exceeds dataset class count 1. Possible class labels are 0-0\n",
            "\u001b[34m\u001b[1mval: \u001b[0mWARNING ⚠️ /content/Pineapple Ripeness Detection.v3i.yolov8/valid/images/IMG_0960_JPG.rf.9ed7b003486ff858a912db8576a63341.jpg: ignoring corrupt image/label: Label class 1 exceeds dataset class count 1. Possible class labels are 0-0\n",
            "\u001b[34m\u001b[1mval: \u001b[0mWARNING ⚠️ /content/Pineapple Ripeness Detection.v3i.yolov8/valid/images/IMG_0963_JPG.rf.3a03a09e4abec0a81f481368e6cc2650.jpg: ignoring corrupt image/label: Label class 1 exceeds dataset class count 1. Possible class labels are 0-0\n",
            "\u001b[34m\u001b[1mval: \u001b[0mWARNING ⚠️ /content/Pineapple Ripeness Detection.v3i.yolov8/valid/images/IMG_0966_JPG.rf.4c7ac5a5541ae3138102d7395091b08a.jpg: ignoring corrupt image/label: Label class 1 exceeds dataset class count 1. Possible class labels are 0-0\n",
            "\u001b[34m\u001b[1mval: \u001b[0mWARNING ⚠️ /content/Pineapple Ripeness Detection.v3i.yolov8/valid/images/IMG_0968_JPG.rf.793017b79dffe14ef7bf8492b1b434ff.jpg: ignoring corrupt image/label: Label class 1 exceeds dataset class count 1. Possible class labels are 0-0\n",
            "\u001b[34m\u001b[1mval: \u001b[0mWARNING ⚠️ /content/Pineapple Ripeness Detection.v3i.yolov8/valid/images/IMG_0969_JPG.rf.1819781521411aa2820464d94accf5fe.jpg: ignoring corrupt image/label: Label class 1 exceeds dataset class count 1. Possible class labels are 0-0\n",
            "\u001b[34m\u001b[1mval: \u001b[0mWARNING ⚠️ /content/Pineapple Ripeness Detection.v3i.yolov8/valid/images/IMG_0974_JPG.rf.2145e71a5503a3493ca4416e50fa5cea.jpg: ignoring corrupt image/label: Label class 1 exceeds dataset class count 1. Possible class labels are 0-0\n",
            "\u001b[34m\u001b[1mval: \u001b[0mWARNING ⚠️ /content/Pineapple Ripeness Detection.v3i.yolov8/valid/images/IMG_0978_JPG.rf.f7d8f92a0d6d52931c78255a805989d6.jpg: ignoring corrupt image/label: Label class 1 exceeds dataset class count 1. Possible class labels are 0-0\n",
            "\u001b[34m\u001b[1mval: \u001b[0mWARNING ⚠️ /content/Pineapple Ripeness Detection.v3i.yolov8/valid/images/IMG_0983_JPG.rf.865a7bee2ca871bfd9cb3b630cf5c329.jpg: ignoring corrupt image/label: Label class 1 exceeds dataset class count 1. Possible class labels are 0-0\n",
            "\u001b[34m\u001b[1mval: \u001b[0mWARNING ⚠️ /content/Pineapple Ripeness Detection.v3i.yolov8/valid/images/IMG_0987_JPG.rf.508055a176d71663428c1b5f019a3289.jpg: ignoring corrupt image/label: Label class 1 exceeds dataset class count 1. Possible class labels are 0-0\n",
            "\u001b[34m\u001b[1mval: \u001b[0mWARNING ⚠️ /content/Pineapple Ripeness Detection.v3i.yolov8/valid/images/IMG_0989_JPG.rf.8a31725e656e6948abaf6afffdfc20d3.jpg: ignoring corrupt image/label: Label class 1 exceeds dataset class count 1. Possible class labels are 0-0\n",
            "\u001b[34m\u001b[1mval: \u001b[0mWARNING ⚠️ /content/Pineapple Ripeness Detection.v3i.yolov8/valid/images/IMG_0991_JPG.rf.e5fff500265775295a576502c5b74e04.jpg: ignoring corrupt image/label: Label class 1 exceeds dataset class count 1. Possible class labels are 0-0\n",
            "\u001b[34m\u001b[1mval: \u001b[0mWARNING ⚠️ /content/Pineapple Ripeness Detection.v3i.yolov8/valid/images/IMG_0992_JPG.rf.9c8e1da3378db2629e674286e4ffb09e.jpg: ignoring corrupt image/label: Label class 1 exceeds dataset class count 1. Possible class labels are 0-0\n",
            "\u001b[34m\u001b[1mval: \u001b[0mWARNING ⚠️ /content/Pineapple Ripeness Detection.v3i.yolov8/valid/images/IMG_0997_JPG.rf.0a407a9374be3e9e5cc506593ce51e16.jpg: ignoring corrupt image/label: Label class 1 exceeds dataset class count 1. Possible class labels are 0-0\n",
            "\u001b[34m\u001b[1mval: \u001b[0mWARNING ⚠️ /content/Pineapple Ripeness Detection.v3i.yolov8/valid/images/IMG_0998_JPG.rf.04766e18a80cc362250ce6a7b409f811.jpg: ignoring corrupt image/label: Label class 1 exceeds dataset class count 1. Possible class labels are 0-0\n",
            "\u001b[34m\u001b[1mval: \u001b[0mWARNING ⚠️ /content/Pineapple Ripeness Detection.v3i.yolov8/valid/images/IMG_1007_JPG.rf.8d819c6043e71ab08693a2433e0a0c5a.jpg: ignoring corrupt image/label: Label class 1 exceeds dataset class count 1. Possible class labels are 0-0\n",
            "\u001b[34m\u001b[1mval: \u001b[0mWARNING ⚠️ /content/Pineapple Ripeness Detection.v3i.yolov8/valid/images/image22_jpeg.rf.342a9017fa71a1e5661290d9d96f06a8.jpg: ignoring corrupt image/label: Label class 1 exceeds dataset class count 1. Possible class labels are 0-0\n",
            "\u001b[34m\u001b[1mval: \u001b[0mWARNING ⚠️ /content/Pineapple Ripeness Detection.v3i.yolov8/valid/images/image24_jpeg.rf.7e7b86906a55095b37c18a77c62d33c5.jpg: ignoring corrupt image/label: Label class 1 exceeds dataset class count 1. Possible class labels are 0-0\n",
            "\u001b[34m\u001b[1mval: \u001b[0mWARNING ⚠️ /content/Pineapple Ripeness Detection.v3i.yolov8/valid/images/images119_jpg.rf.707b2b56446b8816f8e3062e6336442d.jpg: ignoring corrupt image/label: Label class 1 exceeds dataset class count 1. Possible class labels are 0-0\n",
            "\u001b[34m\u001b[1mval: \u001b[0mWARNING ⚠️ /content/Pineapple Ripeness Detection.v3i.yolov8/valid/images/images169_jpg.rf.5bb3e77109dbc7e1d2d47569e97b591f.jpg: ignoring corrupt image/label: Label class 1 exceeds dataset class count 1. Possible class labels are 0-0\n",
            "\u001b[34m\u001b[1mval: \u001b[0mWARNING ⚠️ /content/Pineapple Ripeness Detection.v3i.yolov8/valid/images/images255_jpg.rf.5cdf45865e5698342a5e82295da76df4.jpg: ignoring corrupt image/label: Label class 1 exceeds dataset class count 1. Possible class labels are 0-0\n",
            "\u001b[34m\u001b[1mval: \u001b[0mWARNING ⚠️ /content/Pineapple Ripeness Detection.v3i.yolov8/valid/images/images291_jpg.rf.2c2b15f45ed0d2d955538d3ab8d60225.jpg: ignoring corrupt image/label: Label class 1 exceeds dataset class count 1. Possible class labels are 0-0\n",
            "\u001b[34m\u001b[1mval: \u001b[0mWARNING ⚠️ /content/Pineapple Ripeness Detection.v3i.yolov8/valid/images/images303_jpg.rf.5841d0ee71d47def90159d7bc8c4600c.jpg: ignoring corrupt image/label: Label class 1 exceeds dataset class count 1. Possible class labels are 0-0\n",
            "\u001b[34m\u001b[1mval: \u001b[0mWARNING ⚠️ /content/Pineapple Ripeness Detection.v3i.yolov8/valid/images/images372_jpg.rf.3c01f95b063e5f59c8a88b4decb3454d.jpg: ignoring corrupt image/label: Label class 1 exceeds dataset class count 1. Possible class labels are 0-0\n",
            "\u001b[34m\u001b[1mval: \u001b[0mNew cache created: /content/Pineapple Ripeness Detection.v3i.yolov8/valid/labels.cache\n"
          ]
        },
        {
          "output_type": "stream",
          "name": "stderr",
          "text": [
            "\n"
          ]
        },
        {
          "output_type": "stream",
          "name": "stdout",
          "text": [
            "Plotting labels to runs/detect/train/labels.jpg... \n",
            "\u001b[34m\u001b[1moptimizer:\u001b[0m 'optimizer=auto' found, ignoring 'lr0=0.01' and 'momentum=0.937' and determining best 'optimizer', 'lr0' and 'momentum' automatically... \n",
            "\u001b[34m\u001b[1moptimizer:\u001b[0m AdamW(lr=0.002, momentum=0.9) with parameter groups 57 weight(decay=0.0), 64 weight(decay=0.0005), 63 bias(decay=0.0)\n",
            "Image sizes 640 train, 640 val\n",
            "Using 2 dataloader workers\n",
            "Logging results to \u001b[1mruns/detect/train\u001b[0m\n",
            "Starting training for 50 epochs...\n",
            "\n",
            "      Epoch    GPU_mem   box_loss   cls_loss   dfl_loss  Instances       Size\n"
          ]
        },
        {
          "output_type": "stream",
          "name": "stderr",
          "text": [
            "       1/50      2.07G      1.595      2.565      1.814         33        640: 100%|██████████| 24/24 [00:09<00:00,  2.65it/s]\n",
            "                 Class     Images  Instances      Box(P          R      mAP50  mAP50-95): 100%|██████████| 3/3 [00:01<00:00,  1.74it/s]"
          ]
        },
        {
          "output_type": "stream",
          "name": "stdout",
          "text": [
            "                   all         82         88    0.00354      0.989      0.403      0.171\n"
          ]
        },
        {
          "output_type": "stream",
          "name": "stderr",
          "text": [
            "\n"
          ]
        },
        {
          "output_type": "stream",
          "name": "stdout",
          "text": [
            "\n",
            "      Epoch    GPU_mem   box_loss   cls_loss   dfl_loss  Instances       Size\n"
          ]
        },
        {
          "output_type": "stream",
          "name": "stderr",
          "text": [
            "       2/50      2.55G       1.51      2.202      1.784         23        640: 100%|██████████| 24/24 [00:05<00:00,  4.06it/s]\n",
            "                 Class     Images  Instances      Box(P          R      mAP50  mAP50-95): 100%|██████████| 3/3 [00:01<00:00,  2.85it/s]"
          ]
        },
        {
          "output_type": "stream",
          "name": "stdout",
          "text": [
            "                   all         82         88     0.0562      0.659      0.195     0.0638\n"
          ]
        },
        {
          "output_type": "stream",
          "name": "stderr",
          "text": [
            "\n"
          ]
        },
        {
          "output_type": "stream",
          "name": "stdout",
          "text": [
            "\n",
            "      Epoch    GPU_mem   box_loss   cls_loss   dfl_loss  Instances       Size\n"
          ]
        },
        {
          "output_type": "stream",
          "name": "stderr",
          "text": [
            "       3/50      2.58G      1.596      2.117      1.815         26        640: 100%|██████████| 24/24 [00:06<00:00,  3.75it/s]\n",
            "                 Class     Images  Instances      Box(P          R      mAP50  mAP50-95): 100%|██████████| 3/3 [00:01<00:00,  2.98it/s]"
          ]
        },
        {
          "output_type": "stream",
          "name": "stdout",
          "text": [
            "                   all         82         88      0.288      0.443      0.272     0.0848\n"
          ]
        },
        {
          "output_type": "stream",
          "name": "stderr",
          "text": [
            "\n"
          ]
        },
        {
          "output_type": "stream",
          "name": "stdout",
          "text": [
            "\n",
            "      Epoch    GPU_mem   box_loss   cls_loss   dfl_loss  Instances       Size\n"
          ]
        },
        {
          "output_type": "stream",
          "name": "stderr",
          "text": [
            "       4/50      2.59G      1.597      2.096      1.809         24        640: 100%|██████████| 24/24 [00:06<00:00,  3.57it/s]\n",
            "                 Class     Images  Instances      Box(P          R      mAP50  mAP50-95): 100%|██████████| 3/3 [00:00<00:00,  3.23it/s]"
          ]
        },
        {
          "output_type": "stream",
          "name": "stdout",
          "text": [
            "                   all         82         88      0.238      0.273      0.182     0.0522\n"
          ]
        },
        {
          "output_type": "stream",
          "name": "stderr",
          "text": [
            "\n"
          ]
        },
        {
          "output_type": "stream",
          "name": "stdout",
          "text": [
            "\n",
            "      Epoch    GPU_mem   box_loss   cls_loss   dfl_loss  Instances       Size\n"
          ]
        },
        {
          "output_type": "stream",
          "name": "stderr",
          "text": [
            "       5/50      2.61G      1.602      1.993      1.825         26        640: 100%|██████████| 24/24 [00:05<00:00,  4.29it/s]\n",
            "                 Class     Images  Instances      Box(P          R      mAP50  mAP50-95): 100%|██████████| 3/3 [00:00<00:00,  3.51it/s]"
          ]
        },
        {
          "output_type": "stream",
          "name": "stdout",
          "text": [
            "                   all         82         88      0.287      0.466      0.256     0.0875\n"
          ]
        },
        {
          "output_type": "stream",
          "name": "stderr",
          "text": [
            "\n"
          ]
        },
        {
          "output_type": "stream",
          "name": "stdout",
          "text": [
            "\n",
            "      Epoch    GPU_mem   box_loss   cls_loss   dfl_loss  Instances       Size\n"
          ]
        },
        {
          "output_type": "stream",
          "name": "stderr",
          "text": [
            "       6/50      2.63G      1.667      1.937      1.846         32        640: 100%|██████████| 24/24 [00:07<00:00,  3.27it/s]\n",
            "                 Class     Images  Instances      Box(P          R      mAP50  mAP50-95): 100%|██████████| 3/3 [00:00<00:00,  3.41it/s]"
          ]
        },
        {
          "output_type": "stream",
          "name": "stdout",
          "text": [
            "                   all         82         88       0.13      0.114     0.0468     0.0117\n"
          ]
        },
        {
          "output_type": "stream",
          "name": "stderr",
          "text": [
            "\n"
          ]
        },
        {
          "output_type": "stream",
          "name": "stdout",
          "text": [
            "\n",
            "      Epoch    GPU_mem   box_loss   cls_loss   dfl_loss  Instances       Size\n"
          ]
        },
        {
          "output_type": "stream",
          "name": "stderr",
          "text": [
            "       7/50      2.64G      1.545      1.779      1.782         26        640: 100%|██████████| 24/24 [00:05<00:00,  4.38it/s]\n",
            "                 Class     Images  Instances      Box(P          R      mAP50  mAP50-95): 100%|██████████| 3/3 [00:00<00:00,  3.17it/s]"
          ]
        },
        {
          "output_type": "stream",
          "name": "stdout",
          "text": [
            "                   all         82         88      0.238      0.409      0.244     0.0724\n"
          ]
        },
        {
          "output_type": "stream",
          "name": "stderr",
          "text": [
            "\n"
          ]
        },
        {
          "output_type": "stream",
          "name": "stdout",
          "text": [
            "\n",
            "      Epoch    GPU_mem   box_loss   cls_loss   dfl_loss  Instances       Size\n"
          ]
        },
        {
          "output_type": "stream",
          "name": "stderr",
          "text": [
            "       8/50      2.66G      1.557      1.743      1.747         28        640: 100%|██████████| 24/24 [00:06<00:00,  3.66it/s]\n",
            "                 Class     Images  Instances      Box(P          R      mAP50  mAP50-95): 100%|██████████| 3/3 [00:00<00:00,  3.26it/s]\n"
          ]
        },
        {
          "output_type": "stream",
          "name": "stdout",
          "text": [
            "                   all         82         88      0.314      0.466      0.277     0.0881\n",
            "\n",
            "      Epoch    GPU_mem   box_loss   cls_loss   dfl_loss  Instances       Size\n"
          ]
        },
        {
          "output_type": "stream",
          "name": "stderr",
          "text": [
            "       9/50      2.68G      1.568      1.746      1.778         30        640: 100%|██████████| 24/24 [00:05<00:00,  4.05it/s]\n",
            "                 Class     Images  Instances      Box(P          R      mAP50  mAP50-95): 100%|██████████| 3/3 [00:01<00:00,  2.14it/s]"
          ]
        },
        {
          "output_type": "stream",
          "name": "stdout",
          "text": [
            "                   all         82         88       0.63      0.455      0.518       0.22\n"
          ]
        },
        {
          "output_type": "stream",
          "name": "stderr",
          "text": [
            "\n"
          ]
        },
        {
          "output_type": "stream",
          "name": "stdout",
          "text": [
            "\n",
            "      Epoch    GPU_mem   box_loss   cls_loss   dfl_loss  Instances       Size\n"
          ]
        },
        {
          "output_type": "stream",
          "name": "stderr",
          "text": [
            "      10/50       2.7G      1.582      1.704      1.719         26        640: 100%|██████████| 24/24 [00:05<00:00,  4.25it/s]\n",
            "                 Class     Images  Instances      Box(P          R      mAP50  mAP50-95): 100%|██████████| 3/3 [00:00<00:00,  4.01it/s]"
          ]
        },
        {
          "output_type": "stream",
          "name": "stdout",
          "text": [
            "                   all         82         88       0.49      0.693      0.524      0.183\n"
          ]
        },
        {
          "output_type": "stream",
          "name": "stderr",
          "text": [
            "\n"
          ]
        },
        {
          "output_type": "stream",
          "name": "stdout",
          "text": [
            "\n",
            "      Epoch    GPU_mem   box_loss   cls_loss   dfl_loss  Instances       Size\n"
          ]
        },
        {
          "output_type": "stream",
          "name": "stderr",
          "text": [
            "      11/50      2.71G      1.549      1.618      1.763         21        640: 100%|██████████| 24/24 [00:06<00:00,  3.50it/s]\n",
            "                 Class     Images  Instances      Box(P          R      mAP50  mAP50-95): 100%|██████████| 3/3 [00:00<00:00,  3.77it/s]"
          ]
        },
        {
          "output_type": "stream",
          "name": "stdout",
          "text": [
            "                   all         82         88       0.28      0.466      0.257     0.0764\n"
          ]
        },
        {
          "output_type": "stream",
          "name": "stderr",
          "text": [
            "\n"
          ]
        },
        {
          "output_type": "stream",
          "name": "stdout",
          "text": [
            "\n",
            "      Epoch    GPU_mem   box_loss   cls_loss   dfl_loss  Instances       Size\n"
          ]
        },
        {
          "output_type": "stream",
          "name": "stderr",
          "text": [
            "      12/50      2.73G      1.526      1.642      1.723         28        640: 100%|██████████| 24/24 [00:05<00:00,  4.13it/s]\n",
            "                 Class     Images  Instances      Box(P          R      mAP50  mAP50-95): 100%|██████████| 3/3 [00:00<00:00,  3.99it/s]"
          ]
        },
        {
          "output_type": "stream",
          "name": "stdout",
          "text": [
            "                   all         82         88      0.659      0.625      0.676      0.267\n"
          ]
        },
        {
          "output_type": "stream",
          "name": "stderr",
          "text": [
            "\n"
          ]
        },
        {
          "output_type": "stream",
          "name": "stdout",
          "text": [
            "\n",
            "      Epoch    GPU_mem   box_loss   cls_loss   dfl_loss  Instances       Size\n"
          ]
        },
        {
          "output_type": "stream",
          "name": "stderr",
          "text": [
            "      13/50      2.75G       1.48      1.514       1.67         24        640: 100%|██████████| 24/24 [00:06<00:00,  3.66it/s]\n",
            "                 Class     Images  Instances      Box(P          R      mAP50  mAP50-95): 100%|██████████| 3/3 [00:00<00:00,  3.41it/s]\n"
          ]
        },
        {
          "output_type": "stream",
          "name": "stdout",
          "text": [
            "                   all         82         88       0.29       0.51      0.294      0.129\n",
            "\n",
            "      Epoch    GPU_mem   box_loss   cls_loss   dfl_loss  Instances       Size\n"
          ]
        },
        {
          "output_type": "stream",
          "name": "stderr",
          "text": [
            "      14/50      2.76G      1.495      1.521      1.689         28        640: 100%|██████████| 24/24 [00:05<00:00,  4.27it/s]\n",
            "                 Class     Images  Instances      Box(P          R      mAP50  mAP50-95): 100%|██████████| 3/3 [00:00<00:00,  3.47it/s]"
          ]
        },
        {
          "output_type": "stream",
          "name": "stdout",
          "text": [
            "                   all         82         88      0.623      0.625      0.683      0.311\n"
          ]
        },
        {
          "output_type": "stream",
          "name": "stderr",
          "text": [
            "\n"
          ]
        },
        {
          "output_type": "stream",
          "name": "stdout",
          "text": [
            "\n",
            "      Epoch    GPU_mem   box_loss   cls_loss   dfl_loss  Instances       Size\n"
          ]
        },
        {
          "output_type": "stream",
          "name": "stderr",
          "text": [
            "      15/50      2.78G      1.479      1.492      1.684         34        640: 100%|██████████| 24/24 [00:06<00:00,  3.64it/s]\n",
            "                 Class     Images  Instances      Box(P          R      mAP50  mAP50-95): 100%|██████████| 3/3 [00:00<00:00,  3.29it/s]"
          ]
        },
        {
          "output_type": "stream",
          "name": "stdout",
          "text": [
            "                   all         82         88      0.489       0.67      0.639      0.286\n"
          ]
        },
        {
          "output_type": "stream",
          "name": "stderr",
          "text": [
            "\n"
          ]
        },
        {
          "output_type": "stream",
          "name": "stdout",
          "text": [
            "\n",
            "      Epoch    GPU_mem   box_loss   cls_loss   dfl_loss  Instances       Size\n"
          ]
        },
        {
          "output_type": "stream",
          "name": "stderr",
          "text": [
            "      16/50       2.8G      1.411      1.412       1.65         24        640: 100%|██████████| 24/24 [00:05<00:00,  4.17it/s]\n",
            "                 Class     Images  Instances      Box(P          R      mAP50  mAP50-95): 100%|██████████| 3/3 [00:01<00:00,  2.02it/s]"
          ]
        },
        {
          "output_type": "stream",
          "name": "stdout",
          "text": [
            "                   all         82         88      0.834      0.625      0.749      0.392\n"
          ]
        },
        {
          "output_type": "stream",
          "name": "stderr",
          "text": [
            "\n"
          ]
        },
        {
          "output_type": "stream",
          "name": "stdout",
          "text": [
            "\n",
            "      Epoch    GPU_mem   box_loss   cls_loss   dfl_loss  Instances       Size\n"
          ]
        },
        {
          "output_type": "stream",
          "name": "stderr",
          "text": [
            "      17/50      2.81G      1.426      1.433      1.646         27        640: 100%|██████████| 24/24 [00:05<00:00,  4.18it/s]\n",
            "                 Class     Images  Instances      Box(P          R      mAP50  mAP50-95): 100%|██████████| 3/3 [00:00<00:00,  3.52it/s]"
          ]
        },
        {
          "output_type": "stream",
          "name": "stdout",
          "text": [
            "                   all         82         88       0.76      0.705      0.761      0.338\n"
          ]
        },
        {
          "output_type": "stream",
          "name": "stderr",
          "text": [
            "\n"
          ]
        },
        {
          "output_type": "stream",
          "name": "stdout",
          "text": [
            "\n",
            "      Epoch    GPU_mem   box_loss   cls_loss   dfl_loss  Instances       Size\n"
          ]
        },
        {
          "output_type": "stream",
          "name": "stderr",
          "text": [
            "      18/50      2.83G      1.423      1.415      1.637         24        640: 100%|██████████| 24/24 [00:06<00:00,  3.56it/s]\n",
            "                 Class     Images  Instances      Box(P          R      mAP50  mAP50-95): 100%|██████████| 3/3 [00:00<00:00,  3.69it/s]"
          ]
        },
        {
          "output_type": "stream",
          "name": "stdout",
          "text": [
            "                   all         82         88      0.771      0.727      0.759      0.339\n"
          ]
        },
        {
          "output_type": "stream",
          "name": "stderr",
          "text": [
            "\n"
          ]
        },
        {
          "output_type": "stream",
          "name": "stdout",
          "text": [
            "\n",
            "      Epoch    GPU_mem   box_loss   cls_loss   dfl_loss  Instances       Size\n"
          ]
        },
        {
          "output_type": "stream",
          "name": "stderr",
          "text": [
            "      19/50      2.85G      1.417      1.406      1.608         26        640: 100%|██████████| 24/24 [00:05<00:00,  4.23it/s]\n",
            "                 Class     Images  Instances      Box(P          R      mAP50  mAP50-95): 100%|██████████| 3/3 [00:00<00:00,  3.68it/s]"
          ]
        },
        {
          "output_type": "stream",
          "name": "stdout",
          "text": [
            "                   all         82         88      0.621      0.659      0.681      0.351\n"
          ]
        },
        {
          "output_type": "stream",
          "name": "stderr",
          "text": [
            "\n"
          ]
        },
        {
          "output_type": "stream",
          "name": "stdout",
          "text": [
            "\n",
            "      Epoch    GPU_mem   box_loss   cls_loss   dfl_loss  Instances       Size\n"
          ]
        },
        {
          "output_type": "stream",
          "name": "stderr",
          "text": [
            "      20/50      2.87G      1.379      1.346      1.598         22        640: 100%|██████████| 24/24 [00:06<00:00,  3.57it/s]\n",
            "                 Class     Images  Instances      Box(P          R      mAP50  mAP50-95): 100%|██████████| 3/3 [00:00<00:00,  3.73it/s]"
          ]
        },
        {
          "output_type": "stream",
          "name": "stdout",
          "text": [
            "                   all         82         88      0.856      0.636      0.799      0.389\n"
          ]
        },
        {
          "output_type": "stream",
          "name": "stderr",
          "text": [
            "\n"
          ]
        },
        {
          "output_type": "stream",
          "name": "stdout",
          "text": [
            "\n",
            "      Epoch    GPU_mem   box_loss   cls_loss   dfl_loss  Instances       Size\n"
          ]
        },
        {
          "output_type": "stream",
          "name": "stderr",
          "text": [
            "      21/50      2.88G      1.393      1.306      1.593         24        640: 100%|██████████| 24/24 [00:05<00:00,  4.19it/s]\n",
            "                 Class     Images  Instances      Box(P          R      mAP50  mAP50-95): 100%|██████████| 3/3 [00:00<00:00,  3.49it/s]"
          ]
        },
        {
          "output_type": "stream",
          "name": "stdout",
          "text": [
            "                   all         82         88      0.699      0.634      0.659      0.284\n"
          ]
        },
        {
          "output_type": "stream",
          "name": "stderr",
          "text": [
            "\n"
          ]
        },
        {
          "output_type": "stream",
          "name": "stdout",
          "text": [
            "\n",
            "      Epoch    GPU_mem   box_loss   cls_loss   dfl_loss  Instances       Size\n"
          ]
        },
        {
          "output_type": "stream",
          "name": "stderr",
          "text": [
            "      22/50       2.9G      1.336      1.255      1.563         31        640: 100%|██████████| 24/24 [00:06<00:00,  3.78it/s]\n",
            "                 Class     Images  Instances      Box(P          R      mAP50  mAP50-95): 100%|██████████| 3/3 [00:00<00:00,  3.28it/s]"
          ]
        },
        {
          "output_type": "stream",
          "name": "stdout",
          "text": [
            "                   all         82         88      0.765      0.741      0.757      0.341\n"
          ]
        },
        {
          "output_type": "stream",
          "name": "stderr",
          "text": [
            "\n"
          ]
        },
        {
          "output_type": "stream",
          "name": "stdout",
          "text": [
            "\n",
            "      Epoch    GPU_mem   box_loss   cls_loss   dfl_loss  Instances       Size\n"
          ]
        },
        {
          "output_type": "stream",
          "name": "stderr",
          "text": [
            "      23/50      2.92G      1.367      1.295      1.592         26        640: 100%|██████████| 24/24 [00:06<00:00,  3.95it/s]\n",
            "                 Class     Images  Instances      Box(P          R      mAP50  mAP50-95): 100%|██████████| 3/3 [00:01<00:00,  2.11it/s]"
          ]
        },
        {
          "output_type": "stream",
          "name": "stdout",
          "text": [
            "                   all         82         88      0.787      0.716      0.802      0.351\n"
          ]
        },
        {
          "output_type": "stream",
          "name": "stderr",
          "text": [
            "\n"
          ]
        },
        {
          "output_type": "stream",
          "name": "stdout",
          "text": [
            "\n",
            "      Epoch    GPU_mem   box_loss   cls_loss   dfl_loss  Instances       Size\n"
          ]
        },
        {
          "output_type": "stream",
          "name": "stderr",
          "text": [
            "      24/50      2.93G      1.327      1.226      1.548         23        640: 100%|██████████| 24/24 [00:05<00:00,  4.22it/s]\n",
            "                 Class     Images  Instances      Box(P          R      mAP50  mAP50-95): 100%|██████████| 3/3 [00:00<00:00,  3.67it/s]"
          ]
        },
        {
          "output_type": "stream",
          "name": "stdout",
          "text": [
            "                   all         82         88      0.816       0.75      0.792      0.373\n"
          ]
        },
        {
          "output_type": "stream",
          "name": "stderr",
          "text": [
            "\n"
          ]
        },
        {
          "output_type": "stream",
          "name": "stdout",
          "text": [
            "\n",
            "      Epoch    GPU_mem   box_loss   cls_loss   dfl_loss  Instances       Size\n"
          ]
        },
        {
          "output_type": "stream",
          "name": "stderr",
          "text": [
            "      25/50      2.95G      1.271      1.194      1.494         31        640: 100%|██████████| 24/24 [00:06<00:00,  3.55it/s]\n",
            "                 Class     Images  Instances      Box(P          R      mAP50  mAP50-95): 100%|██████████| 3/3 [00:00<00:00,  3.65it/s]"
          ]
        },
        {
          "output_type": "stream",
          "name": "stdout",
          "text": [
            "                   all         82         88      0.845      0.716      0.799      0.375\n"
          ]
        },
        {
          "output_type": "stream",
          "name": "stderr",
          "text": [
            "\n"
          ]
        },
        {
          "output_type": "stream",
          "name": "stdout",
          "text": [
            "\n",
            "      Epoch    GPU_mem   box_loss   cls_loss   dfl_loss  Instances       Size\n"
          ]
        },
        {
          "output_type": "stream",
          "name": "stderr",
          "text": [
            "      26/50      2.97G      1.279      1.147      1.528         32        640: 100%|██████████| 24/24 [00:05<00:00,  4.08it/s]\n",
            "                 Class     Images  Instances      Box(P          R      mAP50  mAP50-95): 100%|██████████| 3/3 [00:00<00:00,  3.60it/s]"
          ]
        },
        {
          "output_type": "stream",
          "name": "stdout",
          "text": [
            "                   all         82         88      0.842      0.739      0.817      0.387\n"
          ]
        },
        {
          "output_type": "stream",
          "name": "stderr",
          "text": [
            "\n"
          ]
        },
        {
          "output_type": "stream",
          "name": "stdout",
          "text": [
            "\n",
            "      Epoch    GPU_mem   box_loss   cls_loss   dfl_loss  Instances       Size\n"
          ]
        },
        {
          "output_type": "stream",
          "name": "stderr",
          "text": [
            "      27/50      2.99G      1.267      1.181      1.497         25        640: 100%|██████████| 24/24 [00:06<00:00,  3.57it/s]\n",
            "                 Class     Images  Instances      Box(P          R      mAP50  mAP50-95): 100%|██████████| 3/3 [00:00<00:00,  3.83it/s]"
          ]
        },
        {
          "output_type": "stream",
          "name": "stdout",
          "text": [
            "                   all         82         88      0.677      0.788      0.728      0.365\n"
          ]
        },
        {
          "output_type": "stream",
          "name": "stderr",
          "text": [
            "\n"
          ]
        },
        {
          "output_type": "stream",
          "name": "stdout",
          "text": [
            "\n",
            "      Epoch    GPU_mem   box_loss   cls_loss   dfl_loss  Instances       Size\n"
          ]
        },
        {
          "output_type": "stream",
          "name": "stderr",
          "text": [
            "      28/50         3G      1.249      1.162      1.502         22        640: 100%|██████████| 24/24 [00:05<00:00,  4.14it/s]\n",
            "                 Class     Images  Instances      Box(P          R      mAP50  mAP50-95): 100%|██████████| 3/3 [00:01<00:00,  2.45it/s]"
          ]
        },
        {
          "output_type": "stream",
          "name": "stdout",
          "text": [
            "                   all         82         88      0.756      0.784      0.773       0.38\n"
          ]
        },
        {
          "output_type": "stream",
          "name": "stderr",
          "text": [
            "\n"
          ]
        },
        {
          "output_type": "stream",
          "name": "stdout",
          "text": [
            "\n",
            "      Epoch    GPU_mem   box_loss   cls_loss   dfl_loss  Instances       Size\n"
          ]
        },
        {
          "output_type": "stream",
          "name": "stderr",
          "text": [
            "      29/50      3.02G      1.225      1.119      1.444         29        640: 100%|██████████| 24/24 [00:05<00:00,  4.02it/s]\n",
            "                 Class     Images  Instances      Box(P          R      mAP50  mAP50-95): 100%|██████████| 3/3 [00:00<00:00,  3.82it/s]"
          ]
        },
        {
          "output_type": "stream",
          "name": "stdout",
          "text": [
            "                   all         82         88      0.761      0.636      0.714      0.354\n"
          ]
        },
        {
          "output_type": "stream",
          "name": "stderr",
          "text": [
            "\n"
          ]
        },
        {
          "output_type": "stream",
          "name": "stdout",
          "text": [
            "\n",
            "      Epoch    GPU_mem   box_loss   cls_loss   dfl_loss  Instances       Size\n"
          ]
        },
        {
          "output_type": "stream",
          "name": "stderr",
          "text": [
            "      30/50      3.04G      1.283      1.127      1.502         18        640: 100%|██████████| 24/24 [00:06<00:00,  3.51it/s]\n",
            "                 Class     Images  Instances      Box(P          R      mAP50  mAP50-95): 100%|██████████| 3/3 [00:00<00:00,  3.36it/s]"
          ]
        },
        {
          "output_type": "stream",
          "name": "stdout",
          "text": [
            "                   all         82         88       0.77      0.759      0.814      0.419\n"
          ]
        },
        {
          "output_type": "stream",
          "name": "stderr",
          "text": [
            "\n"
          ]
        },
        {
          "output_type": "stream",
          "name": "stdout",
          "text": [
            "\n",
            "      Epoch    GPU_mem   box_loss   cls_loss   dfl_loss  Instances       Size\n"
          ]
        },
        {
          "output_type": "stream",
          "name": "stderr",
          "text": [
            "      31/50      3.05G      1.279      1.103       1.51         19        640: 100%|██████████| 24/24 [00:05<00:00,  4.21it/s]\n",
            "                 Class     Images  Instances      Box(P          R      mAP50  mAP50-95): 100%|██████████| 3/3 [00:00<00:00,  3.87it/s]"
          ]
        },
        {
          "output_type": "stream",
          "name": "stdout",
          "text": [
            "                   all         82         88      0.901      0.727      0.844      0.442\n"
          ]
        },
        {
          "output_type": "stream",
          "name": "stderr",
          "text": [
            "\n"
          ]
        },
        {
          "output_type": "stream",
          "name": "stdout",
          "text": [
            "\n",
            "      Epoch    GPU_mem   box_loss   cls_loss   dfl_loss  Instances       Size\n"
          ]
        },
        {
          "output_type": "stream",
          "name": "stderr",
          "text": [
            "      32/50      3.08G      1.255      1.063      1.463         23        640: 100%|██████████| 24/24 [00:06<00:00,  3.50it/s]\n",
            "                 Class     Images  Instances      Box(P          R      mAP50  mAP50-95): 100%|██████████| 3/3 [00:00<00:00,  3.83it/s]"
          ]
        },
        {
          "output_type": "stream",
          "name": "stdout",
          "text": [
            "                   all         82         88      0.869      0.753      0.866      0.414\n"
          ]
        },
        {
          "output_type": "stream",
          "name": "stderr",
          "text": [
            "\n"
          ]
        },
        {
          "output_type": "stream",
          "name": "stdout",
          "text": [
            "\n",
            "      Epoch    GPU_mem   box_loss   cls_loss   dfl_loss  Instances       Size\n"
          ]
        },
        {
          "output_type": "stream",
          "name": "stderr",
          "text": [
            "      33/50      3.09G      1.229      1.059      1.457         36        640: 100%|██████████| 24/24 [00:05<00:00,  4.33it/s]\n",
            "                 Class     Images  Instances      Box(P          R      mAP50  mAP50-95): 100%|██████████| 3/3 [00:00<00:00,  3.60it/s]"
          ]
        },
        {
          "output_type": "stream",
          "name": "stdout",
          "text": [
            "                   all         82         88      0.778      0.784      0.851      0.457\n"
          ]
        },
        {
          "output_type": "stream",
          "name": "stderr",
          "text": [
            "\n"
          ]
        },
        {
          "output_type": "stream",
          "name": "stdout",
          "text": [
            "\n",
            "      Epoch    GPU_mem   box_loss   cls_loss   dfl_loss  Instances       Size\n"
          ]
        },
        {
          "output_type": "stream",
          "name": "stderr",
          "text": [
            "      34/50      3.11G      1.127      1.005      1.393         20        640: 100%|██████████| 24/24 [00:06<00:00,  3.65it/s]\n",
            "                 Class     Images  Instances      Box(P          R      mAP50  mAP50-95): 100%|██████████| 3/3 [00:00<00:00,  3.38it/s]"
          ]
        },
        {
          "output_type": "stream",
          "name": "stdout",
          "text": [
            "                   all         82         88      0.914      0.773      0.889      0.489\n"
          ]
        },
        {
          "output_type": "stream",
          "name": "stderr",
          "text": [
            "\n"
          ]
        },
        {
          "output_type": "stream",
          "name": "stdout",
          "text": [
            "\n",
            "      Epoch    GPU_mem   box_loss   cls_loss   dfl_loss  Instances       Size\n"
          ]
        },
        {
          "output_type": "stream",
          "name": "stderr",
          "text": [
            "      35/50      3.12G      1.133      1.013       1.39         20        640: 100%|██████████| 24/24 [00:05<00:00,  4.02it/s]\n",
            "                 Class     Images  Instances      Box(P          R      mAP50  mAP50-95): 100%|██████████| 3/3 [00:01<00:00,  2.06it/s]"
          ]
        },
        {
          "output_type": "stream",
          "name": "stdout",
          "text": [
            "                   all         82         88      0.856      0.761      0.838      0.447\n"
          ]
        },
        {
          "output_type": "stream",
          "name": "stderr",
          "text": [
            "\n"
          ]
        },
        {
          "output_type": "stream",
          "name": "stdout",
          "text": [
            "\n",
            "      Epoch    GPU_mem   box_loss   cls_loss   dfl_loss  Instances       Size\n"
          ]
        },
        {
          "output_type": "stream",
          "name": "stderr",
          "text": [
            "      36/50      3.14G      1.149      1.008       1.44         27        640: 100%|██████████| 24/24 [00:05<00:00,  4.14it/s]\n",
            "                 Class     Images  Instances      Box(P          R      mAP50  mAP50-95): 100%|██████████| 3/3 [00:00<00:00,  3.55it/s]"
          ]
        },
        {
          "output_type": "stream",
          "name": "stdout",
          "text": [
            "                   all         82         88      0.865      0.784      0.851      0.449\n"
          ]
        },
        {
          "output_type": "stream",
          "name": "stderr",
          "text": [
            "\n"
          ]
        },
        {
          "output_type": "stream",
          "name": "stdout",
          "text": [
            "\n",
            "      Epoch    GPU_mem   box_loss   cls_loss   dfl_loss  Instances       Size\n"
          ]
        },
        {
          "output_type": "stream",
          "name": "stderr",
          "text": [
            "      37/50      3.16G      1.126     0.9823      1.403         24        640: 100%|██████████| 24/24 [00:06<00:00,  3.58it/s]\n",
            "                 Class     Images  Instances      Box(P          R      mAP50  mAP50-95): 100%|██████████| 3/3 [00:00<00:00,  3.47it/s]"
          ]
        },
        {
          "output_type": "stream",
          "name": "stdout",
          "text": [
            "                   all         82         88      0.863      0.788       0.87      0.448\n"
          ]
        },
        {
          "output_type": "stream",
          "name": "stderr",
          "text": [
            "\n"
          ]
        },
        {
          "output_type": "stream",
          "name": "stdout",
          "text": [
            "\n",
            "      Epoch    GPU_mem   box_loss   cls_loss   dfl_loss  Instances       Size\n"
          ]
        },
        {
          "output_type": "stream",
          "name": "stderr",
          "text": [
            "      38/50      3.17G      1.137     0.9746      1.395         33        640: 100%|██████████| 24/24 [00:05<00:00,  4.25it/s]\n",
            "                 Class     Images  Instances      Box(P          R      mAP50  mAP50-95): 100%|██████████| 3/3 [00:00<00:00,  3.74it/s]"
          ]
        },
        {
          "output_type": "stream",
          "name": "stdout",
          "text": [
            "                   all         82         88      0.882      0.807      0.865      0.468\n"
          ]
        },
        {
          "output_type": "stream",
          "name": "stderr",
          "text": [
            "\n"
          ]
        },
        {
          "output_type": "stream",
          "name": "stdout",
          "text": [
            "\n",
            "      Epoch    GPU_mem   box_loss   cls_loss   dfl_loss  Instances       Size\n"
          ]
        },
        {
          "output_type": "stream",
          "name": "stderr",
          "text": [
            "      39/50      3.19G      1.147     0.9762        1.4         19        640: 100%|██████████| 24/24 [00:06<00:00,  3.60it/s]\n",
            "                 Class     Images  Instances      Box(P          R      mAP50  mAP50-95): 100%|██████████| 3/3 [00:00<00:00,  3.50it/s]"
          ]
        },
        {
          "output_type": "stream",
          "name": "stdout",
          "text": [
            "                   all         82         88      0.898      0.797      0.868      0.462\n"
          ]
        },
        {
          "output_type": "stream",
          "name": "stderr",
          "text": [
            "\n"
          ]
        },
        {
          "output_type": "stream",
          "name": "stdout",
          "text": [
            "\n",
            "      Epoch    GPU_mem   box_loss   cls_loss   dfl_loss  Instances       Size\n"
          ]
        },
        {
          "output_type": "stream",
          "name": "stderr",
          "text": [
            "      40/50      3.21G      1.084     0.9594      1.369         27        640: 100%|██████████| 24/24 [00:05<00:00,  4.24it/s]\n",
            "                 Class     Images  Instances      Box(P          R      mAP50  mAP50-95): 100%|██████████| 3/3 [00:01<00:00,  2.75it/s]"
          ]
        },
        {
          "output_type": "stream",
          "name": "stdout",
          "text": [
            "                   all         82         88      0.797      0.802      0.825      0.463\n"
          ]
        },
        {
          "output_type": "stream",
          "name": "stderr",
          "text": [
            "\n"
          ]
        },
        {
          "output_type": "stream",
          "name": "stdout",
          "text": [
            "Closing dataloader mosaic\n",
            "\u001b[34m\u001b[1malbumentations: \u001b[0mBlur(p=0.01, blur_limit=(3, 7)), MedianBlur(p=0.01, blur_limit=(3, 7)), ToGray(p=0.01, num_output_channels=3, method='weighted_average'), CLAHE(p=0.01, clip_limit=(1.0, 4.0), tile_grid_size=(8, 8))\n",
            "\n",
            "      Epoch    GPU_mem   box_loss   cls_loss   dfl_loss  Instances       Size\n"
          ]
        },
        {
          "output_type": "stream",
          "name": "stderr",
          "text": [
            "      41/50      3.23G      1.099     0.9419       1.48         11        640: 100%|██████████| 24/24 [00:07<00:00,  3.24it/s]\n",
            "                 Class     Images  Instances      Box(P          R      mAP50  mAP50-95): 100%|██████████| 3/3 [00:00<00:00,  4.09it/s]"
          ]
        },
        {
          "output_type": "stream",
          "name": "stdout",
          "text": [
            "                   all         82         88      0.828       0.82      0.845      0.466\n"
          ]
        },
        {
          "output_type": "stream",
          "name": "stderr",
          "text": [
            "\n"
          ]
        },
        {
          "output_type": "stream",
          "name": "stdout",
          "text": [
            "\n",
            "      Epoch    GPU_mem   box_loss   cls_loss   dfl_loss  Instances       Size\n"
          ]
        },
        {
          "output_type": "stream",
          "name": "stderr",
          "text": [
            "      42/50      3.24G      1.092     0.8945      1.469         10        640: 100%|██████████| 24/24 [00:06<00:00,  3.65it/s]\n",
            "                 Class     Images  Instances      Box(P          R      mAP50  mAP50-95): 100%|██████████| 3/3 [00:00<00:00,  3.85it/s]"
          ]
        },
        {
          "output_type": "stream",
          "name": "stdout",
          "text": [
            "                   all         82         88      0.837       0.83      0.866      0.474\n"
          ]
        },
        {
          "output_type": "stream",
          "name": "stderr",
          "text": [
            "\n"
          ]
        },
        {
          "output_type": "stream",
          "name": "stdout",
          "text": [
            "\n",
            "      Epoch    GPU_mem   box_loss   cls_loss   dfl_loss  Instances       Size\n"
          ]
        },
        {
          "output_type": "stream",
          "name": "stderr",
          "text": [
            "      43/50      3.26G      1.009     0.7792      1.415         17        640: 100%|██████████| 24/24 [00:05<00:00,  4.37it/s]\n",
            "                 Class     Images  Instances      Box(P          R      mAP50  mAP50-95): 100%|██████████| 3/3 [00:00<00:00,  3.71it/s]"
          ]
        },
        {
          "output_type": "stream",
          "name": "stdout",
          "text": [
            "                   all         82         88      0.849      0.767      0.845      0.482\n"
          ]
        },
        {
          "output_type": "stream",
          "name": "stderr",
          "text": [
            "\n"
          ]
        },
        {
          "output_type": "stream",
          "name": "stdout",
          "text": [
            "\n",
            "      Epoch    GPU_mem   box_loss   cls_loss   dfl_loss  Instances       Size\n"
          ]
        },
        {
          "output_type": "stream",
          "name": "stderr",
          "text": [
            "      44/50      3.28G     0.9821     0.7717      1.387         11        640: 100%|██████████| 24/24 [00:06<00:00,  3.55it/s]\n",
            "                 Class     Images  Instances      Box(P          R      mAP50  mAP50-95): 100%|██████████| 3/3 [00:00<00:00,  4.24it/s]"
          ]
        },
        {
          "output_type": "stream",
          "name": "stdout",
          "text": [
            "                   all         82         88      0.862       0.85       0.88      0.475\n"
          ]
        },
        {
          "output_type": "stream",
          "name": "stderr",
          "text": [
            "\n"
          ]
        },
        {
          "output_type": "stream",
          "name": "stdout",
          "text": [
            "\n",
            "      Epoch    GPU_mem   box_loss   cls_loss   dfl_loss  Instances       Size\n"
          ]
        },
        {
          "output_type": "stream",
          "name": "stderr",
          "text": [
            "      45/50      3.29G     0.9716     0.7599      1.355         11        640: 100%|██████████| 24/24 [00:05<00:00,  4.39it/s]\n",
            "                 Class     Images  Instances      Box(P          R      mAP50  mAP50-95): 100%|██████████| 3/3 [00:00<00:00,  4.23it/s]"
          ]
        },
        {
          "output_type": "stream",
          "name": "stdout",
          "text": [
            "                   all         82         88       0.79      0.818      0.851      0.433\n"
          ]
        },
        {
          "output_type": "stream",
          "name": "stderr",
          "text": [
            "\n"
          ]
        },
        {
          "output_type": "stream",
          "name": "stdout",
          "text": [
            "\n",
            "      Epoch    GPU_mem   box_loss   cls_loss   dfl_loss  Instances       Size\n"
          ]
        },
        {
          "output_type": "stream",
          "name": "stderr",
          "text": [
            "      46/50      3.31G     0.9887     0.7588      1.383          9        640: 100%|██████████| 24/24 [00:06<00:00,  3.77it/s]\n",
            "                 Class     Images  Instances      Box(P          R      mAP50  mAP50-95): 100%|██████████| 3/3 [00:00<00:00,  3.67it/s]"
          ]
        },
        {
          "output_type": "stream",
          "name": "stdout",
          "text": [
            "                   all         82         88      0.856      0.813       0.87      0.464\n"
          ]
        },
        {
          "output_type": "stream",
          "name": "stderr",
          "text": [
            "\n"
          ]
        },
        {
          "output_type": "stream",
          "name": "stdout",
          "text": [
            "\n",
            "      Epoch    GPU_mem   box_loss   cls_loss   dfl_loss  Instances       Size\n"
          ]
        },
        {
          "output_type": "stream",
          "name": "stderr",
          "text": [
            "      47/50      3.33G     0.9205      0.697      1.349         10        640: 100%|██████████| 24/24 [00:05<00:00,  4.44it/s]\n",
            "                 Class     Images  Instances      Box(P          R      mAP50  mAP50-95): 100%|██████████| 3/3 [00:01<00:00,  2.46it/s]"
          ]
        },
        {
          "output_type": "stream",
          "name": "stdout",
          "text": [
            "                   all         82         88      0.845      0.806       0.88      0.477\n"
          ]
        },
        {
          "output_type": "stream",
          "name": "stderr",
          "text": [
            "\n"
          ]
        },
        {
          "output_type": "stream",
          "name": "stdout",
          "text": [
            "\n",
            "      Epoch    GPU_mem   box_loss   cls_loss   dfl_loss  Instances       Size\n"
          ]
        },
        {
          "output_type": "stream",
          "name": "stderr",
          "text": [
            "      48/50      3.35G      0.938     0.7207      1.371         10        640: 100%|██████████| 24/24 [00:05<00:00,  4.17it/s]\n",
            "                 Class     Images  Instances      Box(P          R      mAP50  mAP50-95): 100%|██████████| 3/3 [00:00<00:00,  3.45it/s]"
          ]
        },
        {
          "output_type": "stream",
          "name": "stdout",
          "text": [
            "                   all         82         88      0.878      0.818       0.86      0.488\n"
          ]
        },
        {
          "output_type": "stream",
          "name": "stderr",
          "text": [
            "\n"
          ]
        },
        {
          "output_type": "stream",
          "name": "stdout",
          "text": [
            "\n",
            "      Epoch    GPU_mem   box_loss   cls_loss   dfl_loss  Instances       Size\n"
          ]
        },
        {
          "output_type": "stream",
          "name": "stderr",
          "text": [
            "      49/50      3.36G     0.9111     0.6804      1.331         12        640: 100%|██████████| 24/24 [00:06<00:00,  4.00it/s]\n",
            "                 Class     Images  Instances      Box(P          R      mAP50  mAP50-95): 100%|██████████| 3/3 [00:01<00:00,  2.27it/s]"
          ]
        },
        {
          "output_type": "stream",
          "name": "stdout",
          "text": [
            "                   all         82         88      0.878       0.82      0.851      0.477\n"
          ]
        },
        {
          "output_type": "stream",
          "name": "stderr",
          "text": [
            "\n"
          ]
        },
        {
          "output_type": "stream",
          "name": "stdout",
          "text": [
            "\n",
            "      Epoch    GPU_mem   box_loss   cls_loss   dfl_loss  Instances       Size\n"
          ]
        },
        {
          "output_type": "stream",
          "name": "stderr",
          "text": [
            "      50/50      3.38G     0.8866     0.6791      1.337         10        640: 100%|██████████| 24/24 [00:05<00:00,  4.07it/s]\n",
            "                 Class     Images  Instances      Box(P          R      mAP50  mAP50-95): 100%|██████████| 3/3 [00:00<00:00,  3.96it/s]"
          ]
        },
        {
          "output_type": "stream",
          "name": "stdout",
          "text": [
            "                   all         82         88      0.887      0.818      0.866      0.482\n"
          ]
        },
        {
          "output_type": "stream",
          "name": "stderr",
          "text": [
            "\n"
          ]
        },
        {
          "output_type": "stream",
          "name": "stdout",
          "text": [
            "\n",
            "50 epochs completed in 0.105 hours.\n",
            "Optimizer stripped from runs/detect/train/weights/last.pt, 6.2MB\n",
            "Optimizer stripped from runs/detect/train/weights/best.pt, 6.2MB\n",
            "\n",
            "Validating runs/detect/train/weights/best.pt...\n",
            "Ultralytics 8.3.111 🚀 Python-3.11.12 torch-2.6.0+cu124 CUDA:0 (Tesla T4, 15095MiB)\n",
            "Model summary (fused): 72 layers, 3,005,843 parameters, 0 gradients, 8.1 GFLOPs\n"
          ]
        },
        {
          "output_type": "stream",
          "name": "stderr",
          "text": [
            "                 Class     Images  Instances      Box(P          R      mAP50  mAP50-95): 100%|██████████| 3/3 [00:01<00:00,  2.20it/s]\n"
          ]
        },
        {
          "output_type": "stream",
          "name": "stdout",
          "text": [
            "                   all         82         88      0.914      0.773      0.889      0.489\n",
            "Speed: 0.2ms preprocess, 2.4ms inference, 0.0ms loss, 2.7ms postprocess per image\n",
            "Results saved to \u001b[1mruns/detect/train\u001b[0m\n"
          ]
        },
        {
          "output_type": "execute_result",
          "data": {
            "text/plain": [
              "ultralytics.utils.metrics.DetMetrics object with attributes:\n",
              "\n",
              "ap_class_index: array([0])\n",
              "box: ultralytics.utils.metrics.Metric object\n",
              "confusion_matrix: <ultralytics.utils.metrics.ConfusionMatrix object at 0x7effd5fb6390>\n",
              "curves: ['Precision-Recall(B)', 'F1-Confidence(B)', 'Precision-Confidence(B)', 'Recall-Confidence(B)']\n",
              "curves_results: [[array([          0,    0.001001,    0.002002,    0.003003,    0.004004,    0.005005,    0.006006,    0.007007,    0.008008,    0.009009,     0.01001,    0.011011,    0.012012,    0.013013,    0.014014,    0.015015,    0.016016,    0.017017,    0.018018,    0.019019,     0.02002,    0.021021,    0.022022,    0.023023,\n",
              "          0.024024,    0.025025,    0.026026,    0.027027,    0.028028,    0.029029,     0.03003,    0.031031,    0.032032,    0.033033,    0.034034,    0.035035,    0.036036,    0.037037,    0.038038,    0.039039,     0.04004,    0.041041,    0.042042,    0.043043,    0.044044,    0.045045,    0.046046,    0.047047,\n",
              "          0.048048,    0.049049,     0.05005,    0.051051,    0.052052,    0.053053,    0.054054,    0.055055,    0.056056,    0.057057,    0.058058,    0.059059,     0.06006,    0.061061,    0.062062,    0.063063,    0.064064,    0.065065,    0.066066,    0.067067,    0.068068,    0.069069,     0.07007,    0.071071,\n",
              "          0.072072,    0.073073,    0.074074,    0.075075,    0.076076,    0.077077,    0.078078,    0.079079,     0.08008,    0.081081,    0.082082,    0.083083,    0.084084,    0.085085,    0.086086,    0.087087,    0.088088,    0.089089,     0.09009,    0.091091,    0.092092,    0.093093,    0.094094,    0.095095,\n",
              "          0.096096,    0.097097,    0.098098,    0.099099,      0.1001,      0.1011,      0.1021,      0.1031,      0.1041,     0.10511,     0.10611,     0.10711,     0.10811,     0.10911,     0.11011,     0.11111,     0.11211,     0.11311,     0.11411,     0.11512,     0.11612,     0.11712,     0.11812,     0.11912,\n",
              "           0.12012,     0.12112,     0.12212,     0.12312,     0.12412,     0.12513,     0.12613,     0.12713,     0.12813,     0.12913,     0.13013,     0.13113,     0.13213,     0.13313,     0.13413,     0.13514,     0.13614,     0.13714,     0.13814,     0.13914,     0.14014,     0.14114,     0.14214,     0.14314,\n",
              "           0.14414,     0.14515,     0.14615,     0.14715,     0.14815,     0.14915,     0.15015,     0.15115,     0.15215,     0.15315,     0.15415,     0.15516,     0.15616,     0.15716,     0.15816,     0.15916,     0.16016,     0.16116,     0.16216,     0.16316,     0.16416,     0.16517,     0.16617,     0.16717,\n",
              "           0.16817,     0.16917,     0.17017,     0.17117,     0.17217,     0.17317,     0.17417,     0.17518,     0.17618,     0.17718,     0.17818,     0.17918,     0.18018,     0.18118,     0.18218,     0.18318,     0.18418,     0.18519,     0.18619,     0.18719,     0.18819,     0.18919,     0.19019,     0.19119,\n",
              "           0.19219,     0.19319,     0.19419,      0.1952,      0.1962,      0.1972,      0.1982,      0.1992,      0.2002,      0.2012,      0.2022,      0.2032,      0.2042,     0.20521,     0.20621,     0.20721,     0.20821,     0.20921,     0.21021,     0.21121,     0.21221,     0.21321,     0.21421,     0.21522,\n",
              "           0.21622,     0.21722,     0.21822,     0.21922,     0.22022,     0.22122,     0.22222,     0.22322,     0.22422,     0.22523,     0.22623,     0.22723,     0.22823,     0.22923,     0.23023,     0.23123,     0.23223,     0.23323,     0.23423,     0.23524,     0.23624,     0.23724,     0.23824,     0.23924,\n",
              "           0.24024,     0.24124,     0.24224,     0.24324,     0.24424,     0.24525,     0.24625,     0.24725,     0.24825,     0.24925,     0.25025,     0.25125,     0.25225,     0.25325,     0.25425,     0.25526,     0.25626,     0.25726,     0.25826,     0.25926,     0.26026,     0.26126,     0.26226,     0.26326,\n",
              "           0.26426,     0.26527,     0.26627,     0.26727,     0.26827,     0.26927,     0.27027,     0.27127,     0.27227,     0.27327,     0.27427,     0.27528,     0.27628,     0.27728,     0.27828,     0.27928,     0.28028,     0.28128,     0.28228,     0.28328,     0.28428,     0.28529,     0.28629,     0.28729,\n",
              "           0.28829,     0.28929,     0.29029,     0.29129,     0.29229,     0.29329,     0.29429,      0.2953,      0.2963,      0.2973,      0.2983,      0.2993,      0.3003,      0.3013,      0.3023,      0.3033,      0.3043,     0.30531,     0.30631,     0.30731,     0.30831,     0.30931,     0.31031,     0.31131,\n",
              "           0.31231,     0.31331,     0.31431,     0.31532,     0.31632,     0.31732,     0.31832,     0.31932,     0.32032,     0.32132,     0.32232,     0.32332,     0.32432,     0.32533,     0.32633,     0.32733,     0.32833,     0.32933,     0.33033,     0.33133,     0.33233,     0.33333,     0.33433,     0.33534,\n",
              "           0.33634,     0.33734,     0.33834,     0.33934,     0.34034,     0.34134,     0.34234,     0.34334,     0.34434,     0.34535,     0.34635,     0.34735,     0.34835,     0.34935,     0.35035,     0.35135,     0.35235,     0.35335,     0.35435,     0.35536,     0.35636,     0.35736,     0.35836,     0.35936,\n",
              "           0.36036,     0.36136,     0.36236,     0.36336,     0.36436,     0.36537,     0.36637,     0.36737,     0.36837,     0.36937,     0.37037,     0.37137,     0.37237,     0.37337,     0.37437,     0.37538,     0.37638,     0.37738,     0.37838,     0.37938,     0.38038,     0.38138,     0.38238,     0.38338,\n",
              "           0.38438,     0.38539,     0.38639,     0.38739,     0.38839,     0.38939,     0.39039,     0.39139,     0.39239,     0.39339,     0.39439,      0.3954,      0.3964,      0.3974,      0.3984,      0.3994,      0.4004,      0.4014,      0.4024,      0.4034,      0.4044,     0.40541,     0.40641,     0.40741,\n",
              "           0.40841,     0.40941,     0.41041,     0.41141,     0.41241,     0.41341,     0.41441,     0.41542,     0.41642,     0.41742,     0.41842,     0.41942,     0.42042,     0.42142,     0.42242,     0.42342,     0.42442,     0.42543,     0.42643,     0.42743,     0.42843,     0.42943,     0.43043,     0.43143,\n",
              "           0.43243,     0.43343,     0.43443,     0.43544,     0.43644,     0.43744,     0.43844,     0.43944,     0.44044,     0.44144,     0.44244,     0.44344,     0.44444,     0.44545,     0.44645,     0.44745,     0.44845,     0.44945,     0.45045,     0.45145,     0.45245,     0.45345,     0.45445,     0.45546,\n",
              "           0.45646,     0.45746,     0.45846,     0.45946,     0.46046,     0.46146,     0.46246,     0.46346,     0.46446,     0.46547,     0.46647,     0.46747,     0.46847,     0.46947,     0.47047,     0.47147,     0.47247,     0.47347,     0.47447,     0.47548,     0.47648,     0.47748,     0.47848,     0.47948,\n",
              "           0.48048,     0.48148,     0.48248,     0.48348,     0.48448,     0.48549,     0.48649,     0.48749,     0.48849,     0.48949,     0.49049,     0.49149,     0.49249,     0.49349,     0.49449,      0.4955,      0.4965,      0.4975,      0.4985,      0.4995,      0.5005,      0.5015,      0.5025,      0.5035,\n",
              "            0.5045,     0.50551,     0.50651,     0.50751,     0.50851,     0.50951,     0.51051,     0.51151,     0.51251,     0.51351,     0.51451,     0.51552,     0.51652,     0.51752,     0.51852,     0.51952,     0.52052,     0.52152,     0.52252,     0.52352,     0.52452,     0.52553,     0.52653,     0.52753,\n",
              "           0.52853,     0.52953,     0.53053,     0.53153,     0.53253,     0.53353,     0.53453,     0.53554,     0.53654,     0.53754,     0.53854,     0.53954,     0.54054,     0.54154,     0.54254,     0.54354,     0.54454,     0.54555,     0.54655,     0.54755,     0.54855,     0.54955,     0.55055,     0.55155,\n",
              "           0.55255,     0.55355,     0.55455,     0.55556,     0.55656,     0.55756,     0.55856,     0.55956,     0.56056,     0.56156,     0.56256,     0.56356,     0.56456,     0.56557,     0.56657,     0.56757,     0.56857,     0.56957,     0.57057,     0.57157,     0.57257,     0.57357,     0.57457,     0.57558,\n",
              "           0.57658,     0.57758,     0.57858,     0.57958,     0.58058,     0.58158,     0.58258,     0.58358,     0.58458,     0.58559,     0.58659,     0.58759,     0.58859,     0.58959,     0.59059,     0.59159,     0.59259,     0.59359,     0.59459,      0.5956,      0.5966,      0.5976,      0.5986,      0.5996,\n",
              "            0.6006,      0.6016,      0.6026,      0.6036,      0.6046,     0.60561,     0.60661,     0.60761,     0.60861,     0.60961,     0.61061,     0.61161,     0.61261,     0.61361,     0.61461,     0.61562,     0.61662,     0.61762,     0.61862,     0.61962,     0.62062,     0.62162,     0.62262,     0.62362,\n",
              "           0.62462,     0.62563,     0.62663,     0.62763,     0.62863,     0.62963,     0.63063,     0.63163,     0.63263,     0.63363,     0.63463,     0.63564,     0.63664,     0.63764,     0.63864,     0.63964,     0.64064,     0.64164,     0.64264,     0.64364,     0.64464,     0.64565,     0.64665,     0.64765,\n",
              "           0.64865,     0.64965,     0.65065,     0.65165,     0.65265,     0.65365,     0.65465,     0.65566,     0.65666,     0.65766,     0.65866,     0.65966,     0.66066,     0.66166,     0.66266,     0.66366,     0.66466,     0.66567,     0.66667,     0.66767,     0.66867,     0.66967,     0.67067,     0.67167,\n",
              "           0.67267,     0.67367,     0.67467,     0.67568,     0.67668,     0.67768,     0.67868,     0.67968,     0.68068,     0.68168,     0.68268,     0.68368,     0.68468,     0.68569,     0.68669,     0.68769,     0.68869,     0.68969,     0.69069,     0.69169,     0.69269,     0.69369,     0.69469,      0.6957,\n",
              "            0.6967,      0.6977,      0.6987,      0.6997,      0.7007,      0.7017,      0.7027,      0.7037,      0.7047,     0.70571,     0.70671,     0.70771,     0.70871,     0.70971,     0.71071,     0.71171,     0.71271,     0.71371,     0.71471,     0.71572,     0.71672,     0.71772,     0.71872,     0.71972,\n",
              "           0.72072,     0.72172,     0.72272,     0.72372,     0.72472,     0.72573,     0.72673,     0.72773,     0.72873,     0.72973,     0.73073,     0.73173,     0.73273,     0.73373,     0.73473,     0.73574,     0.73674,     0.73774,     0.73874,     0.73974,     0.74074,     0.74174,     0.74274,     0.74374,\n",
              "           0.74474,     0.74575,     0.74675,     0.74775,     0.74875,     0.74975,     0.75075,     0.75175,     0.75275,     0.75375,     0.75475,     0.75576,     0.75676,     0.75776,     0.75876,     0.75976,     0.76076,     0.76176,     0.76276,     0.76376,     0.76476,     0.76577,     0.76677,     0.76777,\n",
              "           0.76877,     0.76977,     0.77077,     0.77177,     0.77277,     0.77377,     0.77477,     0.77578,     0.77678,     0.77778,     0.77878,     0.77978,     0.78078,     0.78178,     0.78278,     0.78378,     0.78478,     0.78579,     0.78679,     0.78779,     0.78879,     0.78979,     0.79079,     0.79179,\n",
              "           0.79279,     0.79379,     0.79479,      0.7958,      0.7968,      0.7978,      0.7988,      0.7998,      0.8008,      0.8018,      0.8028,      0.8038,      0.8048,     0.80581,     0.80681,     0.80781,     0.80881,     0.80981,     0.81081,     0.81181,     0.81281,     0.81381,     0.81481,     0.81582,\n",
              "           0.81682,     0.81782,     0.81882,     0.81982,     0.82082,     0.82182,     0.82282,     0.82382,     0.82482,     0.82583,     0.82683,     0.82783,     0.82883,     0.82983,     0.83083,     0.83183,     0.83283,     0.83383,     0.83483,     0.83584,     0.83684,     0.83784,     0.83884,     0.83984,\n",
              "           0.84084,     0.84184,     0.84284,     0.84384,     0.84484,     0.84585,     0.84685,     0.84785,     0.84885,     0.84985,     0.85085,     0.85185,     0.85285,     0.85385,     0.85485,     0.85586,     0.85686,     0.85786,     0.85886,     0.85986,     0.86086,     0.86186,     0.86286,     0.86386,\n",
              "           0.86486,     0.86587,     0.86687,     0.86787,     0.86887,     0.86987,     0.87087,     0.87187,     0.87287,     0.87387,     0.87487,     0.87588,     0.87688,     0.87788,     0.87888,     0.87988,     0.88088,     0.88188,     0.88288,     0.88388,     0.88488,     0.88589,     0.88689,     0.88789,\n",
              "           0.88889,     0.88989,     0.89089,     0.89189,     0.89289,     0.89389,     0.89489,      0.8959,      0.8969,      0.8979,      0.8989,      0.8999,      0.9009,      0.9019,      0.9029,      0.9039,      0.9049,     0.90591,     0.90691,     0.90791,     0.90891,     0.90991,     0.91091,     0.91191,\n",
              "           0.91291,     0.91391,     0.91491,     0.91592,     0.91692,     0.91792,     0.91892,     0.91992,     0.92092,     0.92192,     0.92292,     0.92392,     0.92492,     0.92593,     0.92693,     0.92793,     0.92893,     0.92993,     0.93093,     0.93193,     0.93293,     0.93393,     0.93493,     0.93594,\n",
              "           0.93694,     0.93794,     0.93894,     0.93994,     0.94094,     0.94194,     0.94294,     0.94394,     0.94494,     0.94595,     0.94695,     0.94795,     0.94895,     0.94995,     0.95095,     0.95195,     0.95295,     0.95395,     0.95495,     0.95596,     0.95696,     0.95796,     0.95896,     0.95996,\n",
              "           0.96096,     0.96196,     0.96296,     0.96396,     0.96496,     0.96597,     0.96697,     0.96797,     0.96897,     0.96997,     0.97097,     0.97197,     0.97297,     0.97397,     0.97497,     0.97598,     0.97698,     0.97798,     0.97898,     0.97998,     0.98098,     0.98198,     0.98298,     0.98398,\n",
              "           0.98498,     0.98599,     0.98699,     0.98799,     0.98899,     0.98999,     0.99099,     0.99199,     0.99299,     0.99399,     0.99499,       0.996,       0.997,       0.998,       0.999,           1]), array([[          1,           1,           1,           1,           1,           1,           1,           1,           1,           1,           1,           1,           1,           1,           1,           1,           1,           1,           1,           1,           1,           1,           1,\n",
              "                  1,           1,           1,           1,           1,           1,           1,           1,           1,           1,           1,           1,           1,           1,           1,           1,           1,           1,           1,           1,           1,           1,           1,\n",
              "                  1,           1,           1,           1,           1,           1,           1,           1,           1,           1,           1,           1,           1,           1,           1,           1,           1,           1,           1,           1,           1,           1,           1,\n",
              "                  1,           1,           1,           1,           1,           1,           1,           1,           1,           1,           1,           1,           1,           1,           1,           1,           1,           1,           1,           1,           1,           1,           1,\n",
              "                  1,           1,           1,           1,           1,           1,           1,           1,           1,           1,           1,           1,           1,           1,           1,           1,           1,           1,           1,           1,           1,           1,     0.98387,\n",
              "            0.98387,     0.98387,     0.98387,     0.98387,     0.98387,     0.98387,     0.98387,     0.98387,     0.98387,     0.98387,     0.98387,     0.98387,     0.98387,     0.98387,     0.98387,     0.98387,     0.98387,     0.98387,     0.98387,     0.98387,     0.98387,     0.98387,     0.98387,\n",
              "            0.98387,     0.98387,     0.98387,     0.98387,     0.98387,     0.98387,     0.98387,     0.98387,     0.98387,     0.98387,     0.98387,     0.98387,     0.98387,     0.98387,     0.98387,     0.98387,     0.98387,     0.98387,     0.98387,     0.98387,     0.98387,     0.98387,     0.98387,\n",
              "            0.98387,     0.98387,     0.98387,     0.98387,     0.98387,     0.98387,     0.98387,     0.98387,     0.98387,     0.98387,     0.98387,     0.98387,     0.98387,     0.98387,     0.98387,     0.98387,     0.98387,     0.98387,     0.98387,     0.98387,     0.98387,     0.98387,     0.98387,\n",
              "            0.98387,     0.98387,     0.98387,     0.98387,     0.98387,     0.98387,     0.98387,     0.98387,     0.98387,     0.98387,     0.98387,     0.98387,     0.98387,     0.98387,     0.98387,     0.98387,     0.98387,     0.98387,     0.98387,     0.98387,     0.98387,     0.98387,     0.98387,\n",
              "            0.98387,     0.98387,     0.98387,     0.98387,     0.98387,     0.98387,     0.98387,     0.98387,     0.98387,     0.98387,     0.98387,     0.98387,     0.98387,     0.98387,     0.98387,     0.98387,     0.98387,     0.98387,     0.98387,     0.98387,     0.98387,     0.98387,     0.98387,\n",
              "            0.98387,     0.98387,     0.98387,     0.98387,     0.98387,     0.98387,     0.98387,     0.98387,     0.98387,     0.98387,     0.98387,     0.98387,     0.98387,     0.98387,     0.98387,     0.98387,     0.98387,     0.98387,     0.98387,     0.98387,     0.98387,     0.98387,     0.98387,\n",
              "            0.98387,     0.98387,     0.98387,     0.98387,     0.98387,     0.98387,     0.98387,     0.98387,     0.98387,     0.98387,     0.98387,     0.98387,     0.98387,     0.98387,     0.98387,     0.98387,     0.98387,     0.98387,     0.98387,     0.98387,     0.98387,     0.98387,     0.98387,\n",
              "            0.98387,     0.98387,     0.98387,     0.98387,     0.98387,     0.98387,     0.98387,     0.98387,     0.98387,     0.98387,     0.98387,     0.98387,     0.98387,     0.98387,     0.98387,     0.98387,     0.98387,     0.98387,     0.98387,     0.98387,     0.98387,     0.98387,     0.98387,\n",
              "            0.98387,     0.98387,     0.98387,     0.98387,     0.98387,     0.98387,     0.98387,     0.98387,     0.98387,     0.98387,     0.98387,     0.98387,     0.98387,     0.98387,     0.98387,     0.98387,     0.98387,     0.98387,     0.98387,     0.98387,     0.98387,     0.98387,     0.98387,\n",
              "            0.98387,     0.98387,     0.98387,     0.98387,     0.98387,     0.98387,     0.98387,     0.98387,     0.98387,     0.98387,     0.98387,     0.98387,     0.98387,     0.98387,     0.98387,     0.98387,     0.98387,     0.98387,     0.98387,     0.98387,     0.98387,     0.98387,     0.98387,\n",
              "            0.98387,     0.98387,     0.98387,     0.98387,     0.98387,     0.98387,     0.98387,     0.98387,     0.98387,     0.98387,     0.98387,     0.98387,     0.98387,     0.98387,     0.98387,     0.98387,     0.98387,     0.98387,     0.98387,     0.98387,     0.98387,     0.98387,     0.98387,\n",
              "            0.98387,     0.98387,     0.98387,     0.98387,     0.98387,     0.98387,     0.98387,     0.98387,     0.98387,     0.98387,     0.98387,     0.98387,     0.98387,     0.98387,     0.98387,     0.98387,     0.98387,     0.98387,     0.98387,     0.98387,     0.98387,     0.98387,     0.98387,\n",
              "            0.98387,     0.98387,     0.98387,     0.98387,     0.98387,     0.98387,     0.98387,     0.98387,     0.98387,     0.98387,     0.98387,     0.98387,     0.98387,     0.98387,     0.98387,     0.98387,     0.98387,     0.98387,     0.98387,     0.98387,     0.98387,     0.98387,     0.98387,\n",
              "            0.98387,     0.98387,     0.98387,     0.98387,     0.98387,     0.98387,     0.98387,     0.98387,     0.98387,     0.98387,     0.98387,     0.98387,     0.98387,     0.98387,     0.98387,     0.98387,     0.98387,     0.98387,     0.98387,     0.98387,     0.98387,     0.98387,     0.98387,\n",
              "            0.98387,     0.98387,     0.98387,     0.98387,     0.98387,     0.98387,     0.98387,     0.98387,     0.98387,     0.98387,     0.98387,     0.98387,     0.98387,     0.98387,     0.98387,     0.98387,     0.98387,     0.98387,     0.98387,     0.98387,     0.98387,     0.98387,     0.98387,\n",
              "            0.98387,     0.98387,     0.98387,     0.98387,     0.98387,     0.98387,     0.98387,     0.98387,     0.98387,     0.98387,     0.98387,     0.98387,     0.98387,     0.98387,     0.98387,     0.98387,     0.98387,     0.98387,     0.98387,     0.98387,     0.98387,     0.98387,     0.98387,\n",
              "            0.98387,     0.98387,     0.98387,     0.98387,     0.98387,     0.98387,     0.98387,     0.98387,     0.98387,     0.98387,     0.98387,     0.98387,     0.98387,     0.98387,     0.98387,     0.98387,     0.98387,     0.98387,     0.98387,     0.98387,     0.98387,     0.98387,     0.98387,\n",
              "            0.98387,     0.98387,     0.98387,     0.98387,     0.98387,     0.98387,     0.98387,     0.98387,     0.98387,     0.98387,     0.98387,     0.98387,     0.98387,     0.98387,     0.98387,     0.98387,     0.98387,     0.98387,     0.98387,     0.98387,     0.98387,     0.98387,     0.98387,\n",
              "            0.98387,     0.98387,     0.98387,     0.98387,     0.98387,     0.98387,     0.98387,     0.98387,     0.98387,     0.98387,     0.98387,     0.98387,     0.98387,     0.98387,     0.98387,     0.98387,     0.98387,     0.98387,     0.98387,     0.98387,     0.98387,     0.98387,     0.98387,\n",
              "            0.98387,     0.98387,     0.98387,     0.98387,     0.98387,     0.98387,     0.98387,     0.98387,     0.98387,     0.98387,     0.98387,     0.98387,     0.98387,     0.98387,     0.98387,     0.98387,     0.98387,     0.98387,     0.98387,     0.98387,     0.98387,     0.98387,     0.98387,\n",
              "            0.98387,     0.98387,     0.98387,     0.98387,     0.98387,     0.98387,     0.98387,     0.98387,     0.98387,     0.98387,     0.98387,     0.98387,     0.98387,     0.98387,     0.98387,     0.98387,     0.98387,     0.98387,     0.98387,     0.98387,     0.98387,     0.98387,     0.98387,\n",
              "            0.98387,     0.98387,     0.98387,     0.98387,     0.98387,     0.98387,     0.98387,     0.98387,     0.98387,     0.98387,     0.98387,     0.98387,     0.98387,     0.98387,     0.98387,     0.98387,     0.98387,     0.98387,     0.98387,     0.98387,     0.98387,     0.98387,     0.98387,\n",
              "            0.98387,     0.98387,     0.98387,     0.98387,     0.98387,     0.98387,     0.98387,     0.98387,     0.98387,     0.98387,     0.98387,     0.98387,     0.98387,     0.98387,     0.98387,     0.98387,     0.98387,     0.98387,     0.98387,     0.98387,     0.98387,     0.98387,     0.98387,\n",
              "            0.98387,     0.98387,     0.98387,     0.98387,     0.98387,     0.98387,     0.98387,     0.98387,     0.98387,     0.98387,     0.98387,     0.98387,     0.98387,     0.98387,     0.98387,     0.98387,     0.98387,     0.98387,     0.98387,     0.98387,     0.98387,     0.98387,     0.98387,\n",
              "            0.98387,     0.98387,     0.98387,     0.98387,     0.98387,     0.98387,     0.98387,     0.98387,     0.98387,     0.98387,     0.98387,     0.98387,     0.98387,     0.98387,     0.98387,     0.98387,     0.98387,     0.98387,     0.98387,     0.98387,     0.98387,     0.98387,     0.98387,\n",
              "            0.98387,     0.98387,     0.98387,     0.96875,     0.96875,     0.96875,     0.96875,     0.96875,     0.96875,     0.96875,     0.96875,     0.96875,     0.96875,     0.96875,     0.95588,     0.95588,     0.95588,     0.95588,     0.95588,     0.95588,     0.95588,     0.95588,     0.95588,\n",
              "            0.95588,     0.95588,     0.95588,     0.95588,     0.95588,     0.95588,     0.95588,     0.95588,     0.95588,     0.95588,     0.95588,     0.95588,     0.95588,     0.95588,     0.95588,     0.95588,     0.95588,     0.95588,     0.95588,     0.95588,     0.95588,     0.95588,     0.95588,\n",
              "            0.95588,     0.95588,     0.94286,     0.94286,     0.94286,     0.94286,     0.94286,     0.94286,     0.94286,     0.94286,     0.94286,     0.94286,     0.94286,     0.94286,     0.93151,     0.93151,     0.93151,     0.93151,     0.93151,     0.93151,     0.93151,     0.93151,     0.93151,\n",
              "            0.93151,     0.93151,     0.93151,     0.93151,     0.93151,     0.93151,     0.93151,     0.93151,     0.93151,     0.93151,     0.93151,     0.93151,     0.93151,     0.90789,     0.90789,     0.90789,     0.90789,     0.90789,     0.90789,     0.90789,     0.90789,     0.90789,     0.90789,\n",
              "            0.90789,     0.90789,     0.89744,     0.89744,     0.89744,     0.89744,     0.89744,     0.89744,     0.89744,     0.89744,     0.89744,     0.89744,     0.89744,     0.85542,     0.85542,     0.85542,     0.85542,     0.85542,     0.85542,     0.85542,     0.85542,     0.85542,     0.85542,\n",
              "            0.85542,     0.85542,     0.80899,     0.80899,     0.80899,     0.80899,     0.80899,     0.80899,     0.80899,     0.80899,     0.80899,     0.80899,     0.80899,      0.7551,      0.7551,      0.7551,      0.7551,      0.7551,      0.7551,      0.7551,      0.7551,      0.7551,      0.7551,\n",
              "             0.7551,      0.7551,      0.7551,      0.7551,      0.7551,      0.7551,      0.7551,      0.7551,      0.7551,      0.7551,      0.7551,      0.7551,      0.7551,     0.73529,     0.73529,     0.73529,     0.73529,     0.73529,     0.73529,     0.73529,     0.73529,     0.73529,     0.73529,\n",
              "            0.73529,      0.7037,      0.7037,      0.7037,      0.7037,      0.7037,      0.7037,      0.7037,      0.7037,      0.7037,      0.7037,      0.7037,     0.58647,     0.58647,     0.58647,     0.58647,     0.58647,     0.58647,     0.58647,     0.58647,     0.58647,     0.58647,     0.58647,\n",
              "            0.58647,     0.58647,     0.58647,     0.58647,     0.58647,     0.58647,     0.58647,     0.58647,     0.58647,     0.58647,     0.58647,     0.58647,     0.57664,     0.57664,     0.57664,     0.57664,     0.57664,     0.57664,     0.57664,     0.57664,     0.57664,     0.57664,     0.57664,\n",
              "            0.57143,     0.57143,     0.57143,     0.57143,     0.57143,     0.57143,     0.57143,     0.57143,     0.57143,     0.57143,     0.57143,     0.57143,        0.54,        0.54,        0.54,        0.54,        0.54,        0.54,        0.54,        0.54,        0.54,        0.54,        0.54,\n",
              "                0.5,         0.5,         0.5,         0.5,         0.5,         0.5,         0.5,         0.5,         0.5,         0.5,         0.5,     0.46369,     0.46369,     0.46369,     0.46369,     0.46369,     0.46369,     0.46369,     0.46369,     0.46369,     0.46369,     0.46369,     0.46369,\n",
              "            0.34426,     0.34426,     0.34426,     0.34426,     0.34426,     0.34426,     0.34426,     0.34426,     0.34426,     0.34426,     0.34426,      0.2568,      0.2568,      0.2568,      0.2568,      0.2568,      0.2568,      0.2568,      0.2568,      0.2568,      0.2568,      0.2568,     0.25444,\n",
              "            0.25444,     0.25444,     0.25444,     0.25444,     0.25444,     0.25444,     0.25444,     0.25444,     0.25444,     0.25444,     0.25444,     0.19818,     0.19818,     0.19818,     0.19818,     0.19818,     0.19818,     0.19818,     0.19818,     0.19818,     0.19818,     0.19818,     0.18182,\n",
              "            0.18182,     0.18182,     0.18182,     0.18182,     0.18182,     0.18182,     0.18182,     0.18182,     0.18182,     0.18182,           0]]), 'Recall', 'Precision'], [array([          0,    0.001001,    0.002002,    0.003003,    0.004004,    0.005005,    0.006006,    0.007007,    0.008008,    0.009009,     0.01001,    0.011011,    0.012012,    0.013013,    0.014014,    0.015015,    0.016016,    0.017017,    0.018018,    0.019019,     0.02002,    0.021021,    0.022022,    0.023023,\n",
              "          0.024024,    0.025025,    0.026026,    0.027027,    0.028028,    0.029029,     0.03003,    0.031031,    0.032032,    0.033033,    0.034034,    0.035035,    0.036036,    0.037037,    0.038038,    0.039039,     0.04004,    0.041041,    0.042042,    0.043043,    0.044044,    0.045045,    0.046046,    0.047047,\n",
              "          0.048048,    0.049049,     0.05005,    0.051051,    0.052052,    0.053053,    0.054054,    0.055055,    0.056056,    0.057057,    0.058058,    0.059059,     0.06006,    0.061061,    0.062062,    0.063063,    0.064064,    0.065065,    0.066066,    0.067067,    0.068068,    0.069069,     0.07007,    0.071071,\n",
              "          0.072072,    0.073073,    0.074074,    0.075075,    0.076076,    0.077077,    0.078078,    0.079079,     0.08008,    0.081081,    0.082082,    0.083083,    0.084084,    0.085085,    0.086086,    0.087087,    0.088088,    0.089089,     0.09009,    0.091091,    0.092092,    0.093093,    0.094094,    0.095095,\n",
              "          0.096096,    0.097097,    0.098098,    0.099099,      0.1001,      0.1011,      0.1021,      0.1031,      0.1041,     0.10511,     0.10611,     0.10711,     0.10811,     0.10911,     0.11011,     0.11111,     0.11211,     0.11311,     0.11411,     0.11512,     0.11612,     0.11712,     0.11812,     0.11912,\n",
              "           0.12012,     0.12112,     0.12212,     0.12312,     0.12412,     0.12513,     0.12613,     0.12713,     0.12813,     0.12913,     0.13013,     0.13113,     0.13213,     0.13313,     0.13413,     0.13514,     0.13614,     0.13714,     0.13814,     0.13914,     0.14014,     0.14114,     0.14214,     0.14314,\n",
              "           0.14414,     0.14515,     0.14615,     0.14715,     0.14815,     0.14915,     0.15015,     0.15115,     0.15215,     0.15315,     0.15415,     0.15516,     0.15616,     0.15716,     0.15816,     0.15916,     0.16016,     0.16116,     0.16216,     0.16316,     0.16416,     0.16517,     0.16617,     0.16717,\n",
              "           0.16817,     0.16917,     0.17017,     0.17117,     0.17217,     0.17317,     0.17417,     0.17518,     0.17618,     0.17718,     0.17818,     0.17918,     0.18018,     0.18118,     0.18218,     0.18318,     0.18418,     0.18519,     0.18619,     0.18719,     0.18819,     0.18919,     0.19019,     0.19119,\n",
              "           0.19219,     0.19319,     0.19419,      0.1952,      0.1962,      0.1972,      0.1982,      0.1992,      0.2002,      0.2012,      0.2022,      0.2032,      0.2042,     0.20521,     0.20621,     0.20721,     0.20821,     0.20921,     0.21021,     0.21121,     0.21221,     0.21321,     0.21421,     0.21522,\n",
              "           0.21622,     0.21722,     0.21822,     0.21922,     0.22022,     0.22122,     0.22222,     0.22322,     0.22422,     0.22523,     0.22623,     0.22723,     0.22823,     0.22923,     0.23023,     0.23123,     0.23223,     0.23323,     0.23423,     0.23524,     0.23624,     0.23724,     0.23824,     0.23924,\n",
              "           0.24024,     0.24124,     0.24224,     0.24324,     0.24424,     0.24525,     0.24625,     0.24725,     0.24825,     0.24925,     0.25025,     0.25125,     0.25225,     0.25325,     0.25425,     0.25526,     0.25626,     0.25726,     0.25826,     0.25926,     0.26026,     0.26126,     0.26226,     0.26326,\n",
              "           0.26426,     0.26527,     0.26627,     0.26727,     0.26827,     0.26927,     0.27027,     0.27127,     0.27227,     0.27327,     0.27427,     0.27528,     0.27628,     0.27728,     0.27828,     0.27928,     0.28028,     0.28128,     0.28228,     0.28328,     0.28428,     0.28529,     0.28629,     0.28729,\n",
              "           0.28829,     0.28929,     0.29029,     0.29129,     0.29229,     0.29329,     0.29429,      0.2953,      0.2963,      0.2973,      0.2983,      0.2993,      0.3003,      0.3013,      0.3023,      0.3033,      0.3043,     0.30531,     0.30631,     0.30731,     0.30831,     0.30931,     0.31031,     0.31131,\n",
              "           0.31231,     0.31331,     0.31431,     0.31532,     0.31632,     0.31732,     0.31832,     0.31932,     0.32032,     0.32132,     0.32232,     0.32332,     0.32432,     0.32533,     0.32633,     0.32733,     0.32833,     0.32933,     0.33033,     0.33133,     0.33233,     0.33333,     0.33433,     0.33534,\n",
              "           0.33634,     0.33734,     0.33834,     0.33934,     0.34034,     0.34134,     0.34234,     0.34334,     0.34434,     0.34535,     0.34635,     0.34735,     0.34835,     0.34935,     0.35035,     0.35135,     0.35235,     0.35335,     0.35435,     0.35536,     0.35636,     0.35736,     0.35836,     0.35936,\n",
              "           0.36036,     0.36136,     0.36236,     0.36336,     0.36436,     0.36537,     0.36637,     0.36737,     0.36837,     0.36937,     0.37037,     0.37137,     0.37237,     0.37337,     0.37437,     0.37538,     0.37638,     0.37738,     0.37838,     0.37938,     0.38038,     0.38138,     0.38238,     0.38338,\n",
              "           0.38438,     0.38539,     0.38639,     0.38739,     0.38839,     0.38939,     0.39039,     0.39139,     0.39239,     0.39339,     0.39439,      0.3954,      0.3964,      0.3974,      0.3984,      0.3994,      0.4004,      0.4014,      0.4024,      0.4034,      0.4044,     0.40541,     0.40641,     0.40741,\n",
              "           0.40841,     0.40941,     0.41041,     0.41141,     0.41241,     0.41341,     0.41441,     0.41542,     0.41642,     0.41742,     0.41842,     0.41942,     0.42042,     0.42142,     0.42242,     0.42342,     0.42442,     0.42543,     0.42643,     0.42743,     0.42843,     0.42943,     0.43043,     0.43143,\n",
              "           0.43243,     0.43343,     0.43443,     0.43544,     0.43644,     0.43744,     0.43844,     0.43944,     0.44044,     0.44144,     0.44244,     0.44344,     0.44444,     0.44545,     0.44645,     0.44745,     0.44845,     0.44945,     0.45045,     0.45145,     0.45245,     0.45345,     0.45445,     0.45546,\n",
              "           0.45646,     0.45746,     0.45846,     0.45946,     0.46046,     0.46146,     0.46246,     0.46346,     0.46446,     0.46547,     0.46647,     0.46747,     0.46847,     0.46947,     0.47047,     0.47147,     0.47247,     0.47347,     0.47447,     0.47548,     0.47648,     0.47748,     0.47848,     0.47948,\n",
              "           0.48048,     0.48148,     0.48248,     0.48348,     0.48448,     0.48549,     0.48649,     0.48749,     0.48849,     0.48949,     0.49049,     0.49149,     0.49249,     0.49349,     0.49449,      0.4955,      0.4965,      0.4975,      0.4985,      0.4995,      0.5005,      0.5015,      0.5025,      0.5035,\n",
              "            0.5045,     0.50551,     0.50651,     0.50751,     0.50851,     0.50951,     0.51051,     0.51151,     0.51251,     0.51351,     0.51451,     0.51552,     0.51652,     0.51752,     0.51852,     0.51952,     0.52052,     0.52152,     0.52252,     0.52352,     0.52452,     0.52553,     0.52653,     0.52753,\n",
              "           0.52853,     0.52953,     0.53053,     0.53153,     0.53253,     0.53353,     0.53453,     0.53554,     0.53654,     0.53754,     0.53854,     0.53954,     0.54054,     0.54154,     0.54254,     0.54354,     0.54454,     0.54555,     0.54655,     0.54755,     0.54855,     0.54955,     0.55055,     0.55155,\n",
              "           0.55255,     0.55355,     0.55455,     0.55556,     0.55656,     0.55756,     0.55856,     0.55956,     0.56056,     0.56156,     0.56256,     0.56356,     0.56456,     0.56557,     0.56657,     0.56757,     0.56857,     0.56957,     0.57057,     0.57157,     0.57257,     0.57357,     0.57457,     0.57558,\n",
              "           0.57658,     0.57758,     0.57858,     0.57958,     0.58058,     0.58158,     0.58258,     0.58358,     0.58458,     0.58559,     0.58659,     0.58759,     0.58859,     0.58959,     0.59059,     0.59159,     0.59259,     0.59359,     0.59459,      0.5956,      0.5966,      0.5976,      0.5986,      0.5996,\n",
              "            0.6006,      0.6016,      0.6026,      0.6036,      0.6046,     0.60561,     0.60661,     0.60761,     0.60861,     0.60961,     0.61061,     0.61161,     0.61261,     0.61361,     0.61461,     0.61562,     0.61662,     0.61762,     0.61862,     0.61962,     0.62062,     0.62162,     0.62262,     0.62362,\n",
              "           0.62462,     0.62563,     0.62663,     0.62763,     0.62863,     0.62963,     0.63063,     0.63163,     0.63263,     0.63363,     0.63463,     0.63564,     0.63664,     0.63764,     0.63864,     0.63964,     0.64064,     0.64164,     0.64264,     0.64364,     0.64464,     0.64565,     0.64665,     0.64765,\n",
              "           0.64865,     0.64965,     0.65065,     0.65165,     0.65265,     0.65365,     0.65465,     0.65566,     0.65666,     0.65766,     0.65866,     0.65966,     0.66066,     0.66166,     0.66266,     0.66366,     0.66466,     0.66567,     0.66667,     0.66767,     0.66867,     0.66967,     0.67067,     0.67167,\n",
              "           0.67267,     0.67367,     0.67467,     0.67568,     0.67668,     0.67768,     0.67868,     0.67968,     0.68068,     0.68168,     0.68268,     0.68368,     0.68468,     0.68569,     0.68669,     0.68769,     0.68869,     0.68969,     0.69069,     0.69169,     0.69269,     0.69369,     0.69469,      0.6957,\n",
              "            0.6967,      0.6977,      0.6987,      0.6997,      0.7007,      0.7017,      0.7027,      0.7037,      0.7047,     0.70571,     0.70671,     0.70771,     0.70871,     0.70971,     0.71071,     0.71171,     0.71271,     0.71371,     0.71471,     0.71572,     0.71672,     0.71772,     0.71872,     0.71972,\n",
              "           0.72072,     0.72172,     0.72272,     0.72372,     0.72472,     0.72573,     0.72673,     0.72773,     0.72873,     0.72973,     0.73073,     0.73173,     0.73273,     0.73373,     0.73473,     0.73574,     0.73674,     0.73774,     0.73874,     0.73974,     0.74074,     0.74174,     0.74274,     0.74374,\n",
              "           0.74474,     0.74575,     0.74675,     0.74775,     0.74875,     0.74975,     0.75075,     0.75175,     0.75275,     0.75375,     0.75475,     0.75576,     0.75676,     0.75776,     0.75876,     0.75976,     0.76076,     0.76176,     0.76276,     0.76376,     0.76476,     0.76577,     0.76677,     0.76777,\n",
              "           0.76877,     0.76977,     0.77077,     0.77177,     0.77277,     0.77377,     0.77477,     0.77578,     0.77678,     0.77778,     0.77878,     0.77978,     0.78078,     0.78178,     0.78278,     0.78378,     0.78478,     0.78579,     0.78679,     0.78779,     0.78879,     0.78979,     0.79079,     0.79179,\n",
              "           0.79279,     0.79379,     0.79479,      0.7958,      0.7968,      0.7978,      0.7988,      0.7998,      0.8008,      0.8018,      0.8028,      0.8038,      0.8048,     0.80581,     0.80681,     0.80781,     0.80881,     0.80981,     0.81081,     0.81181,     0.81281,     0.81381,     0.81481,     0.81582,\n",
              "           0.81682,     0.81782,     0.81882,     0.81982,     0.82082,     0.82182,     0.82282,     0.82382,     0.82482,     0.82583,     0.82683,     0.82783,     0.82883,     0.82983,     0.83083,     0.83183,     0.83283,     0.83383,     0.83483,     0.83584,     0.83684,     0.83784,     0.83884,     0.83984,\n",
              "           0.84084,     0.84184,     0.84284,     0.84384,     0.84484,     0.84585,     0.84685,     0.84785,     0.84885,     0.84985,     0.85085,     0.85185,     0.85285,     0.85385,     0.85485,     0.85586,     0.85686,     0.85786,     0.85886,     0.85986,     0.86086,     0.86186,     0.86286,     0.86386,\n",
              "           0.86486,     0.86587,     0.86687,     0.86787,     0.86887,     0.86987,     0.87087,     0.87187,     0.87287,     0.87387,     0.87487,     0.87588,     0.87688,     0.87788,     0.87888,     0.87988,     0.88088,     0.88188,     0.88288,     0.88388,     0.88488,     0.88589,     0.88689,     0.88789,\n",
              "           0.88889,     0.88989,     0.89089,     0.89189,     0.89289,     0.89389,     0.89489,      0.8959,      0.8969,      0.8979,      0.8989,      0.8999,      0.9009,      0.9019,      0.9029,      0.9039,      0.9049,     0.90591,     0.90691,     0.90791,     0.90891,     0.90991,     0.91091,     0.91191,\n",
              "           0.91291,     0.91391,     0.91491,     0.91592,     0.91692,     0.91792,     0.91892,     0.91992,     0.92092,     0.92192,     0.92292,     0.92392,     0.92492,     0.92593,     0.92693,     0.92793,     0.92893,     0.92993,     0.93093,     0.93193,     0.93293,     0.93393,     0.93493,     0.93594,\n",
              "           0.93694,     0.93794,     0.93894,     0.93994,     0.94094,     0.94194,     0.94294,     0.94394,     0.94494,     0.94595,     0.94695,     0.94795,     0.94895,     0.94995,     0.95095,     0.95195,     0.95295,     0.95395,     0.95495,     0.95596,     0.95696,     0.95796,     0.95896,     0.95996,\n",
              "           0.96096,     0.96196,     0.96296,     0.96396,     0.96496,     0.96597,     0.96697,     0.96797,     0.96897,     0.96997,     0.97097,     0.97197,     0.97297,     0.97397,     0.97497,     0.97598,     0.97698,     0.97798,     0.97898,     0.97998,     0.98098,     0.98198,     0.98298,     0.98398,\n",
              "           0.98498,     0.98599,     0.98699,     0.98799,     0.98899,     0.98999,     0.99099,     0.99199,     0.99299,     0.99399,     0.99499,       0.996,       0.997,       0.998,       0.999,           1]), array([[   0.054966,    0.054966,     0.10692,     0.14192,     0.17169,     0.19303,     0.21442,     0.22588,     0.24046,     0.25405,     0.26365,     0.27523,     0.28435,     0.29275,     0.30195,     0.30767,     0.31013,     0.31403,     0.31688,     0.32585,     0.32841,     0.32827,     0.33351,\n",
              "            0.33694,     0.34084,     0.34726,     0.35005,      0.3538,     0.36138,     0.36353,     0.36643,     0.37009,     0.37412,      0.3775,     0.38147,     0.38773,     0.39364,     0.39629,     0.40188,     0.40338,     0.40061,     0.40304,     0.40912,     0.41143,     0.41343,     0.41754,\n",
              "            0.42322,     0.42723,     0.42988,     0.43524,     0.43922,     0.44199,     0.44418,     0.44738,     0.45568,       0.463,     0.46672,     0.46924,     0.47236,     0.47604,     0.47782,     0.48075,     0.48323,     0.48411,     0.49165,     0.49377,     0.49468,     0.49528,     0.50003,\n",
              "            0.50558,     0.50284,      0.5025,     0.50655,      0.5089,      0.5125,     0.51402,     0.51548,     0.52141,     0.52552,     0.52707,     0.53138,      0.5338,     0.53521,      0.5374,     0.53979,     0.54102,     0.54152,     0.54202,     0.54257,     0.54369,     0.54467,     0.54551,\n",
              "            0.54671,     0.54927,     0.55066,     0.55351,     0.55423,     0.55496,     0.55736,     0.55781,     0.55826,     0.55871,     0.55972,     0.56216,     0.56375,     0.56549,     0.57008,     0.57314,      0.5739,     0.57515,     0.57982,     0.58466,     0.58645,     0.58855,     0.59536,\n",
              "            0.59608,     0.59679,      0.6012,     0.60481,     0.60621,     0.60728,     0.60948,     0.61439,     0.61527,     0.61584,     0.61641,     0.61698,     0.62146,     0.61725,     0.61883,     0.62613,     0.62686,     0.62759,     0.62832,     0.62981,     0.63095,     0.63145,     0.63195,\n",
              "            0.63245,     0.63295,     0.63814,     0.63971,     0.64328,     0.64408,     0.64487,     0.64567,     0.64672,     0.64777,     0.64845,     0.64885,     0.64924,     0.64964,     0.65004,     0.65044,     0.65073,     0.65013,     0.64953,     0.64892,     0.64832,     0.64771,     0.64711,\n",
              "            0.64651,      0.6459,     0.64753,     0.64885,     0.64974,     0.65091,     0.65566,     0.65948,     0.66086,     0.66183,     0.66265,     0.66348,     0.66535,     0.66762,     0.66923,     0.67592,     0.67795,     0.67866,     0.67937,     0.68007,     0.68018,     0.67692,     0.67626,\n",
              "            0.67811,     0.67854,     0.67896,     0.67938,      0.6798,     0.68023,     0.68065,     0.68167,     0.68326,     0.68468,     0.68602,     0.68706,     0.68779,     0.68853,     0.68926,     0.69011,     0.69109,     0.69207,     0.69344,     0.69534,     0.69825,     0.70126,     0.70069,\n",
              "            0.70012,     0.69955,     0.69898,     0.69841,     0.69783,     0.69726,     0.69669,     0.69612,     0.69694,     0.69799,     0.69904,     0.69968,     0.70029,      0.7009,      0.7015,     0.70211,      0.7002,      0.6977,     0.69717,     0.69868,     0.70033,     0.70217,     0.70309,\n",
              "            0.70364,     0.70418,     0.70472,     0.70526,     0.70581,     0.70312,     0.69422,     0.69747,       0.698,     0.69853,     0.69905,     0.69958,     0.70011,      0.7006,     0.70105,     0.70149,     0.70194,     0.70238,     0.70282,     0.70326,     0.70371,     0.70416,      0.7046,\n",
              "            0.70505,      0.7055,     0.70595,     0.70639,     0.70684,     0.70802,     0.70952,     0.71064,     0.71136,     0.71208,      0.7128,     0.71351,     0.71658,     0.71852,     0.72026,     0.72158,     0.72285,     0.72396,     0.72458,      0.7252,     0.72582,     0.72644,     0.72705,\n",
              "            0.73034,     0.73242,     0.73422,     0.73504,     0.73581,     0.73658,     0.73735,     0.73813,     0.73895,     0.73977,     0.74059,     0.74141,     0.74228,     0.74316,     0.74404,     0.74491,     0.74584,     0.74678,     0.74772,     0.74866,     0.74989,     0.75116,     0.75242,\n",
              "            0.75312,     0.75379,     0.75445,     0.75512,     0.75579,     0.75682,     0.75855,     0.76019,     0.76139,      0.7626,      0.7638,     0.76555,     0.76731,     0.77227,     0.77457,     0.77434,     0.77236,     0.77038,     0.77021,     0.77254,     0.77516,     0.77773,      0.7798,\n",
              "            0.78377,     0.78574,     0.78622,     0.78671,     0.78719,     0.78768,     0.78816,     0.78864,     0.78912,     0.78827,     0.78389,     0.78446,     0.78617,     0.78885,     0.79492,     0.79084,     0.78546,     0.78353,     0.78548,     0.78694,     0.78714,     0.78734,     0.78753,\n",
              "            0.78773,     0.78793,     0.78813,     0.78832,     0.78852,     0.78872,     0.78891,     0.78911,     0.78931,     0.78951,      0.7897,      0.7899,      0.7901,     0.79029,     0.79049,     0.79068,     0.79088,     0.79108,     0.80299,     0.80465,     0.80486,     0.80507,     0.80528,\n",
              "            0.80549,      0.8057,     0.80591,     0.80613,     0.80634,     0.80655,     0.80676,     0.80697,     0.80718,     0.80739,      0.8076,     0.80781,     0.80802,     0.80823,     0.80844,     0.80865,     0.80886,     0.81134,     0.80912,     0.80737,     0.80819,     0.80902,     0.80984,\n",
              "            0.81066,     0.81153,     0.81327,     0.81501,       0.817,     0.81942,     0.82289,     0.82573,     0.82605,     0.82637,     0.82669,     0.82701,     0.82733,     0.82765,     0.82797,     0.82829,     0.82861,     0.82892,     0.82924,     0.82956,     0.82988,      0.8302,     0.82811,\n",
              "            0.82367,     0.82407,     0.82447,     0.82487,     0.82528,     0.82568,     0.82608,     0.82647,     0.82687,     0.82727,     0.82767,     0.82807,     0.82845,     0.82878,      0.8291,     0.82942,     0.82974,     0.83006,     0.83039,     0.83071,     0.83103,     0.83135,     0.83167,\n",
              "            0.83199,     0.83231,     0.83263,     0.83295,     0.83327,     0.83469,      0.8364,     0.83809,     0.84057,     0.84315,     0.84286,      0.8423,     0.84174,     0.84118,     0.84061,     0.84005,     0.83949,     0.83892,     0.83836,     0.83779,     0.83723,     0.83666,     0.83761,\n",
              "            0.84022,     0.84092,     0.83988,     0.83885,     0.83781,     0.83676,     0.83572,     0.83468,     0.83446,     0.83461,     0.83476,     0.83492,     0.83507,     0.83522,     0.83537,     0.83552,     0.83567,     0.83583,     0.83598,     0.83613,     0.83628,     0.83643,     0.83658,\n",
              "            0.83673,     0.83688,     0.83703,     0.83718,     0.83734,     0.83749,     0.83764,     0.83779,     0.83794,     0.83809,     0.83824,     0.83839,     0.83854,     0.83869,     0.83884,     0.83899,     0.83914,     0.83929,     0.83944,     0.84049,     0.84228,     0.84405,     0.84319,\n",
              "            0.84073,     0.83826,     0.83707,     0.83645,     0.83582,      0.8352,     0.83458,     0.83395,     0.83333,      0.8327,     0.83208,     0.83145,     0.83082,      0.8302,     0.83078,     0.83139,     0.83199,     0.83259,     0.83318,     0.83378,     0.83438,     0.83497,     0.83492,\n",
              "            0.83239,     0.82985,      0.8288,     0.83152,     0.83326,     0.83305,     0.83283,     0.83261,      0.8324,     0.83218,     0.83196,     0.83175,     0.83153,     0.83131,      0.8311,     0.83088,     0.83066,     0.83045,     0.83023,     0.83001,      0.8298,     0.82958,     0.82936,\n",
              "            0.82914,     0.82893,     0.82871,     0.82849,     0.82827,     0.82806,     0.82784,     0.82762,      0.8274,     0.82718,     0.82696,     0.82675,     0.82653,     0.82631,     0.82609,     0.82587,     0.82553,     0.82513,     0.82473,     0.82433,     0.82393,     0.82353,     0.82313,\n",
              "            0.82273,     0.82233,     0.82193,     0.82153,     0.82113,     0.82073,     0.82033,     0.81992,     0.81952,     0.81912,     0.81872,     0.81831,     0.81752,     0.81653,     0.81555,     0.81456,     0.81357,     0.81258,     0.81158,     0.81059,     0.81237,     0.81455,     0.81465,\n",
              "            0.81197,     0.80929,     0.81073,     0.81296,     0.81226,     0.81155,     0.81084,     0.81013,     0.80942,     0.80871,       0.808,     0.80729,     0.80658,     0.80586,     0.80498,     0.80371,     0.80244,     0.80117,      0.7999,     0.79862,     0.79734,     0.79645,     0.79557,\n",
              "            0.79469,     0.79381,     0.79293,     0.79204,     0.79116,     0.79027,     0.78938,     0.78862,     0.78792,     0.78721,     0.78651,      0.7858,     0.78509,     0.78438,     0.78367,     0.78296,     0.78225,     0.78154,     0.78083,     0.77893,     0.77702,     0.77511,     0.77318,\n",
              "            0.76333,      0.7624,     0.76147,     0.76054,     0.75961,     0.75868,     0.75774,     0.75681,     0.75587,     0.75499,     0.75421,     0.75343,     0.75265,     0.75187,     0.75109,     0.75031,     0.74953,     0.74875,     0.74796,     0.74718,     0.74633,     0.74504,     0.74374,\n",
              "            0.74244,     0.74114,     0.73983,     0.73853,     0.73715,     0.73562,     0.73408,     0.73254,       0.731,     0.72945,     0.72656,     0.72187,     0.71889,     0.71778,     0.71666,     0.71555,     0.71443,     0.71331,     0.71218,     0.71106,     0.70835,     0.69935,     0.69283,\n",
              "            0.68375,      0.6737,     0.66349,     0.64864,     0.64513,     0.64159,     0.63963,     0.63785,     0.63607,     0.63428,     0.63249,     0.63032,     0.61871,     0.59712,     0.59484,     0.59257,     0.59028,     0.58799,     0.58407,     0.57944,     0.57447,      0.5686,     0.54533,\n",
              "            0.51861,     0.51308,     0.50882,     0.50455,     0.50156,     0.49868,     0.49579,     0.49289,     0.48688,     0.47686,     0.45072,      0.4482,     0.44568,     0.44314,      0.4406,     0.43832,     0.43705,     0.43577,     0.43448,      0.4332,     0.43191,     0.43063,     0.42933,\n",
              "            0.42804,     0.42675,     0.42545,      0.4234,     0.42053,     0.41765,     0.41477,     0.41187,     0.40631,     0.39897,     0.39552,     0.39417,     0.39282,     0.39146,     0.39011,     0.38875,     0.38739,     0.38603,     0.38466,      0.3833,     0.38193,     0.36781,     0.34898,\n",
              "            0.34268,     0.33586,     0.31788,     0.31243,     0.30694,     0.26976,     0.26631,     0.26284,     0.25936,     0.25586,     0.24851,     0.23963,     0.21798,     0.21536,     0.21273,      0.2101,     0.20746,     0.20482,     0.20216,     0.20402,     0.19886,     0.19344,       0.188,\n",
              "            0.18393,     0.18097,       0.178,     0.17502,     0.17203,     0.16903,     0.16387,     0.15068,     0.14235,     0.13563,     0.12886,     0.12579,     0.12351,     0.12123,     0.11894,     0.11665,     0.11435,     0.11205,     0.10974,     0.10747,     0.10612,     0.10477,     0.10342,\n",
              "            0.10207,     0.10071,    0.099358,       0.098,     0.09664,    0.095278,    0.093913,    0.092547,    0.091179,    0.089809,    0.088437,    0.087063,    0.086567,    0.086145,    0.085722,      0.0853,    0.084877,    0.084454,     0.08403,    0.083607,    0.083183,    0.082759,    0.082335,\n",
              "           0.081911,    0.081487,    0.081062,    0.080637,    0.080213,    0.079787,    0.079362,    0.078937,    0.078511,    0.078085,    0.077659,    0.077233,    0.076806,    0.076379,    0.075953,    0.075526,    0.075098,    0.074671,    0.074243,    0.073816,    0.073388,    0.072959,    0.072531,\n",
              "           0.072103,    0.071674,    0.071245,    0.070816,    0.070386,    0.069957,    0.069527,    0.069097,    0.068667,    0.068237,    0.067807,    0.067376,    0.066945,    0.066514,    0.066083,    0.051553,    0.043067,    0.041038,    0.039004,    0.036966,    0.034923,    0.032877,    0.030826,\n",
              "            0.02877,    0.026711,    0.024647,    0.022579,           0,           0,           0,           0,           0,           0,           0,           0,           0,           0,           0,           0,           0,           0,           0,           0,           0,           0,           0,\n",
              "                  0,           0,           0,           0,           0,           0,           0,           0,           0,           0,           0,           0,           0,           0,           0,           0,           0,           0,           0,           0,           0,           0,           0,\n",
              "                  0,           0,           0,           0,           0,           0,           0,           0,           0,           0,           0,           0,           0,           0,           0,           0,           0,           0,           0,           0,           0,           0,           0,\n",
              "                  0,           0,           0,           0,           0,           0,           0,           0,           0,           0,           0,           0,           0,           0,           0,           0,           0,           0,           0,           0,           0,           0,           0,\n",
              "                  0,           0,           0,           0,           0,           0,           0,           0,           0,           0,           0,           0,           0,           0,           0,           0,           0,           0,           0,           0,           0,           0,           0,\n",
              "                  0,           0,           0,           0,           0,           0,           0,           0,           0,           0,           0]]), 'Confidence', 'F1'], [array([          0,    0.001001,    0.002002,    0.003003,    0.004004,    0.005005,    0.006006,    0.007007,    0.008008,    0.009009,     0.01001,    0.011011,    0.012012,    0.013013,    0.014014,    0.015015,    0.016016,    0.017017,    0.018018,    0.019019,     0.02002,    0.021021,    0.022022,    0.023023,\n",
              "          0.024024,    0.025025,    0.026026,    0.027027,    0.028028,    0.029029,     0.03003,    0.031031,    0.032032,    0.033033,    0.034034,    0.035035,    0.036036,    0.037037,    0.038038,    0.039039,     0.04004,    0.041041,    0.042042,    0.043043,    0.044044,    0.045045,    0.046046,    0.047047,\n",
              "          0.048048,    0.049049,     0.05005,    0.051051,    0.052052,    0.053053,    0.054054,    0.055055,    0.056056,    0.057057,    0.058058,    0.059059,     0.06006,    0.061061,    0.062062,    0.063063,    0.064064,    0.065065,    0.066066,    0.067067,    0.068068,    0.069069,     0.07007,    0.071071,\n",
              "          0.072072,    0.073073,    0.074074,    0.075075,    0.076076,    0.077077,    0.078078,    0.079079,     0.08008,    0.081081,    0.082082,    0.083083,    0.084084,    0.085085,    0.086086,    0.087087,    0.088088,    0.089089,     0.09009,    0.091091,    0.092092,    0.093093,    0.094094,    0.095095,\n",
              "          0.096096,    0.097097,    0.098098,    0.099099,      0.1001,      0.1011,      0.1021,      0.1031,      0.1041,     0.10511,     0.10611,     0.10711,     0.10811,     0.10911,     0.11011,     0.11111,     0.11211,     0.11311,     0.11411,     0.11512,     0.11612,     0.11712,     0.11812,     0.11912,\n",
              "           0.12012,     0.12112,     0.12212,     0.12312,     0.12412,     0.12513,     0.12613,     0.12713,     0.12813,     0.12913,     0.13013,     0.13113,     0.13213,     0.13313,     0.13413,     0.13514,     0.13614,     0.13714,     0.13814,     0.13914,     0.14014,     0.14114,     0.14214,     0.14314,\n",
              "           0.14414,     0.14515,     0.14615,     0.14715,     0.14815,     0.14915,     0.15015,     0.15115,     0.15215,     0.15315,     0.15415,     0.15516,     0.15616,     0.15716,     0.15816,     0.15916,     0.16016,     0.16116,     0.16216,     0.16316,     0.16416,     0.16517,     0.16617,     0.16717,\n",
              "           0.16817,     0.16917,     0.17017,     0.17117,     0.17217,     0.17317,     0.17417,     0.17518,     0.17618,     0.17718,     0.17818,     0.17918,     0.18018,     0.18118,     0.18218,     0.18318,     0.18418,     0.18519,     0.18619,     0.18719,     0.18819,     0.18919,     0.19019,     0.19119,\n",
              "           0.19219,     0.19319,     0.19419,      0.1952,      0.1962,      0.1972,      0.1982,      0.1992,      0.2002,      0.2012,      0.2022,      0.2032,      0.2042,     0.20521,     0.20621,     0.20721,     0.20821,     0.20921,     0.21021,     0.21121,     0.21221,     0.21321,     0.21421,     0.21522,\n",
              "           0.21622,     0.21722,     0.21822,     0.21922,     0.22022,     0.22122,     0.22222,     0.22322,     0.22422,     0.22523,     0.22623,     0.22723,     0.22823,     0.22923,     0.23023,     0.23123,     0.23223,     0.23323,     0.23423,     0.23524,     0.23624,     0.23724,     0.23824,     0.23924,\n",
              "           0.24024,     0.24124,     0.24224,     0.24324,     0.24424,     0.24525,     0.24625,     0.24725,     0.24825,     0.24925,     0.25025,     0.25125,     0.25225,     0.25325,     0.25425,     0.25526,     0.25626,     0.25726,     0.25826,     0.25926,     0.26026,     0.26126,     0.26226,     0.26326,\n",
              "           0.26426,     0.26527,     0.26627,     0.26727,     0.26827,     0.26927,     0.27027,     0.27127,     0.27227,     0.27327,     0.27427,     0.27528,     0.27628,     0.27728,     0.27828,     0.27928,     0.28028,     0.28128,     0.28228,     0.28328,     0.28428,     0.28529,     0.28629,     0.28729,\n",
              "           0.28829,     0.28929,     0.29029,     0.29129,     0.29229,     0.29329,     0.29429,      0.2953,      0.2963,      0.2973,      0.2983,      0.2993,      0.3003,      0.3013,      0.3023,      0.3033,      0.3043,     0.30531,     0.30631,     0.30731,     0.30831,     0.30931,     0.31031,     0.31131,\n",
              "           0.31231,     0.31331,     0.31431,     0.31532,     0.31632,     0.31732,     0.31832,     0.31932,     0.32032,     0.32132,     0.32232,     0.32332,     0.32432,     0.32533,     0.32633,     0.32733,     0.32833,     0.32933,     0.33033,     0.33133,     0.33233,     0.33333,     0.33433,     0.33534,\n",
              "           0.33634,     0.33734,     0.33834,     0.33934,     0.34034,     0.34134,     0.34234,     0.34334,     0.34434,     0.34535,     0.34635,     0.34735,     0.34835,     0.34935,     0.35035,     0.35135,     0.35235,     0.35335,     0.35435,     0.35536,     0.35636,     0.35736,     0.35836,     0.35936,\n",
              "           0.36036,     0.36136,     0.36236,     0.36336,     0.36436,     0.36537,     0.36637,     0.36737,     0.36837,     0.36937,     0.37037,     0.37137,     0.37237,     0.37337,     0.37437,     0.37538,     0.37638,     0.37738,     0.37838,     0.37938,     0.38038,     0.38138,     0.38238,     0.38338,\n",
              "           0.38438,     0.38539,     0.38639,     0.38739,     0.38839,     0.38939,     0.39039,     0.39139,     0.39239,     0.39339,     0.39439,      0.3954,      0.3964,      0.3974,      0.3984,      0.3994,      0.4004,      0.4014,      0.4024,      0.4034,      0.4044,     0.40541,     0.40641,     0.40741,\n",
              "           0.40841,     0.40941,     0.41041,     0.41141,     0.41241,     0.41341,     0.41441,     0.41542,     0.41642,     0.41742,     0.41842,     0.41942,     0.42042,     0.42142,     0.42242,     0.42342,     0.42442,     0.42543,     0.42643,     0.42743,     0.42843,     0.42943,     0.43043,     0.43143,\n",
              "           0.43243,     0.43343,     0.43443,     0.43544,     0.43644,     0.43744,     0.43844,     0.43944,     0.44044,     0.44144,     0.44244,     0.44344,     0.44444,     0.44545,     0.44645,     0.44745,     0.44845,     0.44945,     0.45045,     0.45145,     0.45245,     0.45345,     0.45445,     0.45546,\n",
              "           0.45646,     0.45746,     0.45846,     0.45946,     0.46046,     0.46146,     0.46246,     0.46346,     0.46446,     0.46547,     0.46647,     0.46747,     0.46847,     0.46947,     0.47047,     0.47147,     0.47247,     0.47347,     0.47447,     0.47548,     0.47648,     0.47748,     0.47848,     0.47948,\n",
              "           0.48048,     0.48148,     0.48248,     0.48348,     0.48448,     0.48549,     0.48649,     0.48749,     0.48849,     0.48949,     0.49049,     0.49149,     0.49249,     0.49349,     0.49449,      0.4955,      0.4965,      0.4975,      0.4985,      0.4995,      0.5005,      0.5015,      0.5025,      0.5035,\n",
              "            0.5045,     0.50551,     0.50651,     0.50751,     0.50851,     0.50951,     0.51051,     0.51151,     0.51251,     0.51351,     0.51451,     0.51552,     0.51652,     0.51752,     0.51852,     0.51952,     0.52052,     0.52152,     0.52252,     0.52352,     0.52452,     0.52553,     0.52653,     0.52753,\n",
              "           0.52853,     0.52953,     0.53053,     0.53153,     0.53253,     0.53353,     0.53453,     0.53554,     0.53654,     0.53754,     0.53854,     0.53954,     0.54054,     0.54154,     0.54254,     0.54354,     0.54454,     0.54555,     0.54655,     0.54755,     0.54855,     0.54955,     0.55055,     0.55155,\n",
              "           0.55255,     0.55355,     0.55455,     0.55556,     0.55656,     0.55756,     0.55856,     0.55956,     0.56056,     0.56156,     0.56256,     0.56356,     0.56456,     0.56557,     0.56657,     0.56757,     0.56857,     0.56957,     0.57057,     0.57157,     0.57257,     0.57357,     0.57457,     0.57558,\n",
              "           0.57658,     0.57758,     0.57858,     0.57958,     0.58058,     0.58158,     0.58258,     0.58358,     0.58458,     0.58559,     0.58659,     0.58759,     0.58859,     0.58959,     0.59059,     0.59159,     0.59259,     0.59359,     0.59459,      0.5956,      0.5966,      0.5976,      0.5986,      0.5996,\n",
              "            0.6006,      0.6016,      0.6026,      0.6036,      0.6046,     0.60561,     0.60661,     0.60761,     0.60861,     0.60961,     0.61061,     0.61161,     0.61261,     0.61361,     0.61461,     0.61562,     0.61662,     0.61762,     0.61862,     0.61962,     0.62062,     0.62162,     0.62262,     0.62362,\n",
              "           0.62462,     0.62563,     0.62663,     0.62763,     0.62863,     0.62963,     0.63063,     0.63163,     0.63263,     0.63363,     0.63463,     0.63564,     0.63664,     0.63764,     0.63864,     0.63964,     0.64064,     0.64164,     0.64264,     0.64364,     0.64464,     0.64565,     0.64665,     0.64765,\n",
              "           0.64865,     0.64965,     0.65065,     0.65165,     0.65265,     0.65365,     0.65465,     0.65566,     0.65666,     0.65766,     0.65866,     0.65966,     0.66066,     0.66166,     0.66266,     0.66366,     0.66466,     0.66567,     0.66667,     0.66767,     0.66867,     0.66967,     0.67067,     0.67167,\n",
              "           0.67267,     0.67367,     0.67467,     0.67568,     0.67668,     0.67768,     0.67868,     0.67968,     0.68068,     0.68168,     0.68268,     0.68368,     0.68468,     0.68569,     0.68669,     0.68769,     0.68869,     0.68969,     0.69069,     0.69169,     0.69269,     0.69369,     0.69469,      0.6957,\n",
              "            0.6967,      0.6977,      0.6987,      0.6997,      0.7007,      0.7017,      0.7027,      0.7037,      0.7047,     0.70571,     0.70671,     0.70771,     0.70871,     0.70971,     0.71071,     0.71171,     0.71271,     0.71371,     0.71471,     0.71572,     0.71672,     0.71772,     0.71872,     0.71972,\n",
              "           0.72072,     0.72172,     0.72272,     0.72372,     0.72472,     0.72573,     0.72673,     0.72773,     0.72873,     0.72973,     0.73073,     0.73173,     0.73273,     0.73373,     0.73473,     0.73574,     0.73674,     0.73774,     0.73874,     0.73974,     0.74074,     0.74174,     0.74274,     0.74374,\n",
              "           0.74474,     0.74575,     0.74675,     0.74775,     0.74875,     0.74975,     0.75075,     0.75175,     0.75275,     0.75375,     0.75475,     0.75576,     0.75676,     0.75776,     0.75876,     0.75976,     0.76076,     0.76176,     0.76276,     0.76376,     0.76476,     0.76577,     0.76677,     0.76777,\n",
              "           0.76877,     0.76977,     0.77077,     0.77177,     0.77277,     0.77377,     0.77477,     0.77578,     0.77678,     0.77778,     0.77878,     0.77978,     0.78078,     0.78178,     0.78278,     0.78378,     0.78478,     0.78579,     0.78679,     0.78779,     0.78879,     0.78979,     0.79079,     0.79179,\n",
              "           0.79279,     0.79379,     0.79479,      0.7958,      0.7968,      0.7978,      0.7988,      0.7998,      0.8008,      0.8018,      0.8028,      0.8038,      0.8048,     0.80581,     0.80681,     0.80781,     0.80881,     0.80981,     0.81081,     0.81181,     0.81281,     0.81381,     0.81481,     0.81582,\n",
              "           0.81682,     0.81782,     0.81882,     0.81982,     0.82082,     0.82182,     0.82282,     0.82382,     0.82482,     0.82583,     0.82683,     0.82783,     0.82883,     0.82983,     0.83083,     0.83183,     0.83283,     0.83383,     0.83483,     0.83584,     0.83684,     0.83784,     0.83884,     0.83984,\n",
              "           0.84084,     0.84184,     0.84284,     0.84384,     0.84484,     0.84585,     0.84685,     0.84785,     0.84885,     0.84985,     0.85085,     0.85185,     0.85285,     0.85385,     0.85485,     0.85586,     0.85686,     0.85786,     0.85886,     0.85986,     0.86086,     0.86186,     0.86286,     0.86386,\n",
              "           0.86486,     0.86587,     0.86687,     0.86787,     0.86887,     0.86987,     0.87087,     0.87187,     0.87287,     0.87387,     0.87487,     0.87588,     0.87688,     0.87788,     0.87888,     0.87988,     0.88088,     0.88188,     0.88288,     0.88388,     0.88488,     0.88589,     0.88689,     0.88789,\n",
              "           0.88889,     0.88989,     0.89089,     0.89189,     0.89289,     0.89389,     0.89489,      0.8959,      0.8969,      0.8979,      0.8989,      0.8999,      0.9009,      0.9019,      0.9029,      0.9039,      0.9049,     0.90591,     0.90691,     0.90791,     0.90891,     0.90991,     0.91091,     0.91191,\n",
              "           0.91291,     0.91391,     0.91491,     0.91592,     0.91692,     0.91792,     0.91892,     0.91992,     0.92092,     0.92192,     0.92292,     0.92392,     0.92492,     0.92593,     0.92693,     0.92793,     0.92893,     0.92993,     0.93093,     0.93193,     0.93293,     0.93393,     0.93493,     0.93594,\n",
              "           0.93694,     0.93794,     0.93894,     0.93994,     0.94094,     0.94194,     0.94294,     0.94394,     0.94494,     0.94595,     0.94695,     0.94795,     0.94895,     0.94995,     0.95095,     0.95195,     0.95295,     0.95395,     0.95495,     0.95596,     0.95696,     0.95796,     0.95896,     0.95996,\n",
              "           0.96096,     0.96196,     0.96296,     0.96396,     0.96496,     0.96597,     0.96697,     0.96797,     0.96897,     0.96997,     0.97097,     0.97197,     0.97297,     0.97397,     0.97497,     0.97598,     0.97698,     0.97798,     0.97898,     0.97998,     0.98098,     0.98198,     0.98298,     0.98398,\n",
              "           0.98498,     0.98599,     0.98699,     0.98799,     0.98899,     0.98999,     0.99099,     0.99199,     0.99299,     0.99399,     0.99499,       0.996,       0.997,       0.998,       0.999,           1]), array([[   0.028259,    0.028259,    0.056479,    0.076383,    0.093907,     0.10682,     0.12008,     0.12732,     0.13666,     0.14551,     0.15184,     0.15958,     0.16574,     0.17148,     0.17782,     0.18181,     0.18391,     0.18666,     0.18868,     0.19508,     0.19691,     0.19727,     0.20107,\n",
              "            0.20356,     0.20642,     0.21114,     0.21321,       0.216,     0.22168,      0.2233,     0.22549,     0.22827,     0.23134,     0.23393,     0.23699,     0.24184,     0.24646,     0.24854,     0.25295,     0.25421,     0.25271,     0.25545,     0.26036,     0.26223,     0.26385,     0.26721,\n",
              "            0.27188,     0.27521,      0.2774,     0.28189,     0.28524,     0.28758,     0.28943,     0.29216,     0.29927,     0.30562,     0.30887,     0.31108,     0.31383,     0.31709,     0.31867,     0.32128,      0.3235,     0.32429,      0.3311,     0.33301,     0.33385,     0.33439,     0.33874,\n",
              "              0.344,     0.34236,     0.34248,     0.34626,     0.34845,     0.35184,     0.35328,     0.35465,     0.36029,     0.36423,     0.36572,     0.36989,     0.37223,     0.37361,     0.37574,     0.37808,      0.3793,     0.37979,     0.38028,     0.38082,     0.38192,      0.3829,     0.38372,\n",
              "            0.38491,     0.38745,     0.38884,     0.39169,     0.39241,     0.39314,     0.39555,     0.39601,     0.39646,     0.39692,     0.39793,      0.4004,     0.40202,      0.4038,     0.40849,     0.41164,     0.41242,     0.41371,     0.41857,     0.42363,     0.42551,     0.42773,     0.43496,\n",
              "            0.43572,     0.43649,     0.44122,     0.44512,     0.44664,      0.4478,      0.4502,     0.45558,     0.45655,     0.45718,      0.4578,     0.45843,     0.46339,     0.46146,     0.46324,     0.47147,      0.4723,     0.47312,     0.47395,     0.47565,     0.47696,     0.47753,      0.4781,\n",
              "            0.47867,     0.47924,     0.48521,     0.48704,     0.49118,     0.49211,     0.49305,     0.49398,     0.49521,     0.49644,     0.49723,      0.4977,     0.49817,     0.49864,     0.49911,     0.49958,     0.49997,     0.49962,     0.49928,     0.49893,     0.49859,     0.49824,      0.4979,\n",
              "            0.49755,     0.49721,     0.49944,     0.50101,     0.50207,     0.50347,     0.50918,     0.51381,     0.51548,     0.51666,     0.51767,     0.51867,     0.52097,     0.52375,     0.52574,     0.53404,     0.53658,     0.53747,     0.53836,     0.53925,     0.53973,     0.53792,     0.53838,\n",
              "            0.54073,     0.54127,      0.5418,     0.54234,     0.54288,     0.54342,     0.54396,     0.54527,     0.54731,     0.54913,     0.55085,     0.55219,     0.55315,      0.5541,     0.55505,     0.55615,     0.55743,      0.5587,     0.56048,     0.56297,      0.5668,     0.57116,     0.57086,\n",
              "            0.57055,     0.57024,     0.56993,     0.56962,     0.56931,     0.56901,      0.5687,     0.56839,     0.56955,     0.57096,     0.57237,     0.57322,     0.57404,     0.57486,     0.57567,     0.57649,     0.57555,     0.57421,     0.57454,     0.57659,     0.57884,     0.58136,     0.58262,\n",
              "            0.58337,     0.58412,     0.58487,     0.58561,     0.58636,     0.58499,     0.58037,     0.58493,     0.58567,     0.58641,     0.58716,      0.5879,     0.58864,     0.58935,     0.58998,     0.59061,     0.59124,     0.59187,      0.5925,     0.59312,     0.59375,     0.59439,     0.59503,\n",
              "            0.59567,     0.59631,     0.59695,     0.59759,     0.59823,     0.59992,     0.60208,     0.60369,     0.60473,     0.60577,     0.60681,     0.60785,     0.61232,     0.61516,     0.61772,     0.61965,     0.62154,     0.62318,      0.6241,     0.62502,     0.62593,     0.62685,     0.62777,\n",
              "            0.63268,     0.63581,     0.63854,     0.63977,     0.64094,     0.64211,     0.64328,     0.64447,     0.64573,     0.64698,     0.64824,     0.64949,     0.65083,     0.65218,     0.65353,     0.65489,     0.65632,     0.65778,     0.65924,      0.6607,     0.66262,      0.6646,     0.66658,\n",
              "            0.66767,     0.66873,     0.66978,     0.67083,     0.67188,     0.67352,     0.67626,     0.67887,      0.6808,     0.68272,     0.68465,     0.68747,     0.69031,     0.69838,     0.70216,     0.70319,     0.70231,     0.70144,     0.70257,     0.70644,     0.71084,     0.71517,     0.71869,\n",
              "            0.72547,     0.72884,     0.72967,     0.73051,     0.73134,     0.73218,     0.73302,     0.73385,     0.73469,      0.7348,     0.73301,     0.73512,     0.73812,     0.74287,      0.7537,     0.75322,     0.75112,      0.7517,     0.75529,       0.758,     0.75836,     0.75873,      0.7591,\n",
              "            0.75947,     0.75983,      0.7602,     0.76057,     0.76093,      0.7613,     0.76167,     0.76204,      0.7624,     0.76277,     0.76314,     0.76351,     0.76387,     0.76424,     0.76461,     0.76498,     0.76534,     0.76571,     0.78836,     0.79155,     0.79196,     0.79237,     0.79278,\n",
              "            0.79319,      0.7936,     0.79401,     0.79442,     0.79483,     0.79524,     0.79565,     0.79606,     0.79647,     0.79688,     0.79729,      0.7977,     0.79811,     0.79852,     0.79892,     0.79933,     0.79974,     0.80461,     0.80756,     0.80792,     0.80958,     0.81123,     0.81288,\n",
              "            0.81454,      0.8163,     0.81984,     0.82337,     0.82745,     0.83243,     0.83962,     0.84554,     0.84621,     0.84689,     0.84756,     0.84823,     0.84891,     0.84958,     0.85025,     0.85093,      0.8516,     0.85227,     0.85295,     0.85362,      0.8543,     0.85497,     0.85483,\n",
              "            0.85396,     0.85483,     0.85569,     0.85656,     0.85742,     0.85828,     0.85915,     0.86001,     0.86088,     0.86174,      0.8626,     0.86347,     0.86431,     0.86501,     0.86571,     0.86642,     0.86712,     0.86782,     0.86853,     0.86923,     0.86993,     0.87064,     0.87134,\n",
              "            0.87204,     0.87274,     0.87345,     0.87415,     0.87485,     0.87799,     0.88178,     0.88556,     0.89111,     0.89693,     0.89734,     0.89723,     0.89712,     0.89702,     0.89691,      0.8968,      0.8967,     0.89659,     0.89648,     0.89637,     0.89627,     0.89616,     0.89897,\n",
              "            0.90501,      0.9078,     0.90762,     0.90744,     0.90726,     0.90708,      0.9069,     0.90672,     0.90692,     0.90727,     0.90763,     0.90799,     0.90835,     0.90871,     0.90907,     0.90943,     0.90979,     0.91015,      0.9105,     0.91086,     0.91122,     0.91158,     0.91194,\n",
              "             0.9123,     0.91266,     0.91302,     0.91337,     0.91373,     0.91409,     0.91445,     0.91481,     0.91517,     0.91553,     0.91589,     0.91625,      0.9166,     0.91696,     0.91732,     0.91768,     0.91804,      0.9184,     0.91876,     0.92128,     0.92558,     0.92988,      0.9313,\n",
              "            0.93098,     0.93065,      0.9305,     0.93041,     0.93033,     0.93025,     0.93016,     0.93008,        0.93,     0.92991,     0.92983,     0.92975,     0.92966,     0.92958,     0.93107,     0.93258,      0.9341,     0.93561,     0.93712,     0.93863,     0.94015,     0.94166,      0.9428,\n",
              "            0.94252,     0.94223,     0.94403,     0.95113,     0.95588,     0.95586,     0.95584,     0.95582,      0.9558,     0.95578,     0.95576,     0.95574,     0.95572,      0.9557,     0.95569,     0.95567,     0.95565,     0.95563,     0.95561,     0.95559,     0.95557,     0.95555,     0.95553,\n",
              "            0.95551,      0.9555,     0.95548,     0.95546,     0.95544,     0.95542,      0.9554,     0.95538,     0.95536,     0.95534,     0.95532,     0.95531,     0.95529,     0.95527,     0.95525,     0.95523,      0.9552,     0.95516,     0.95513,     0.95509,     0.95506,     0.95502,     0.95499,\n",
              "            0.95495,     0.95491,     0.95488,     0.95484,     0.95481,     0.95477,     0.95474,      0.9547,     0.95466,     0.95463,     0.95459,     0.95456,     0.95449,      0.9544,     0.95431,     0.95422,     0.95413,     0.95404,     0.95395,     0.95386,     0.95915,     0.96526,     0.96868,\n",
              "            0.96851,     0.96834,      0.9763,     0.98386,     0.98383,     0.98381,     0.98379,     0.98376,     0.98374,     0.98372,     0.98369,     0.98367,     0.98365,     0.98362,     0.98359,     0.98355,     0.98351,     0.98346,     0.98342,     0.98338,     0.98333,      0.9833,     0.98327,\n",
              "            0.98324,     0.98321,     0.98318,     0.98315,     0.98312,     0.98309,     0.98306,     0.98303,     0.98301,     0.98298,     0.98296,     0.98293,     0.98291,     0.98288,     0.98286,     0.98283,     0.98281,     0.98278,     0.98276,     0.98269,     0.98262,     0.98255,     0.98248,\n",
              "            0.98212,     0.98209,     0.98205,     0.98202,     0.98198,     0.98195,     0.98191,     0.98188,     0.98184,     0.98181,     0.98178,     0.98175,     0.98172,     0.98169,     0.98166,     0.98163,      0.9816,     0.98157,     0.98154,     0.98151,     0.98148,     0.98142,     0.98137,\n",
              "            0.98132,     0.98127,     0.98122,     0.98117,     0.98111,     0.98105,     0.98099,     0.98093,     0.98087,      0.9808,     0.98069,     0.98049,     0.98037,     0.98032,     0.98027,     0.98023,     0.98018,     0.98013,     0.98009,     0.98004,     0.97992,     0.97953,     0.97924,\n",
              "            0.97883,     0.97836,     0.97787,     0.97712,     0.97694,     0.97676,     0.97666,     0.97656,     0.97647,     0.97638,     0.97628,     0.97617,     0.97553,     0.97428,     0.97414,       0.974,     0.97386,     0.97373,     0.97348,     0.97319,     0.97287,     0.97249,     0.97089,\n",
              "             0.9689,     0.96846,     0.96811,     0.96777,     0.96752,     0.96727,     0.96703,     0.96678,     0.96625,     0.96535,     0.96281,     0.96254,     0.96228,     0.96201,     0.96175,     0.96151,     0.96136,     0.96122,     0.96108,     0.96093,     0.96079,     0.96065,      0.9605,\n",
              "            0.96036,     0.96022,     0.96007,     0.95984,     0.95949,     0.95915,     0.95881,     0.95847,     0.95777,     0.95684,      0.9564,     0.95622,     0.95603,     0.95585,     0.95566,     0.95548,      0.9553,     0.95511,     0.95493,     0.95474,     0.95456,      0.9525,     0.94951,\n",
              "            0.94843,     0.94726,     0.94385,     0.94274,     0.94162,     0.93274,     0.93177,     0.93079,     0.92982,     0.92884,     0.92653,     0.92371,     0.91581,      0.9147,     0.91359,     0.91248,     0.91137,     0.91026,     0.90915,     0.99722,           1,           1,           1,\n",
              "                  1,           1,           1,           1,           1,           1,           1,           1,           1,           1,           1,           1,           1,           1,           1,           1,           1,           1,           1,           1,           1,           1,           1,\n",
              "                  1,           1,           1,           1,           1,           1,           1,           1,           1,           1,           1,           1,           1,           1,           1,           1,           1,           1,           1,           1,           1,           1,           1,\n",
              "                  1,           1,           1,           1,           1,           1,           1,           1,           1,           1,           1,           1,           1,           1,           1,           1,           1,           1,           1,           1,           1,           1,           1,\n",
              "                  1,           1,           1,           1,           1,           1,           1,           1,           1,           1,           1,           1,           1,           1,           1,           1,           1,           1,           1,           1,           1,           1,           1,\n",
              "                  1,           1,           1,           1,           1,           1,           1,           1,           1,           1,           1,           1,           1,           1,           1,           1,           1,           1,           1,           1,           1,           1,           1,\n",
              "                  1,           1,           1,           1,           1,           1,           1,           1,           1,           1,           1,           1,           1,           1,           1,           1,           1,           1,           1,           1,           1,           1,           1,\n",
              "                  1,           1,           1,           1,           1,           1,           1,           1,           1,           1,           1,           1,           1,           1,           1,           1,           1,           1,           1,           1,           1,           1,           1,\n",
              "                  1,           1,           1,           1,           1,           1,           1,           1,           1,           1,           1,           1,           1,           1,           1,           1,           1,           1,           1,           1,           1,           1,           1,\n",
              "                  1,           1,           1,           1,           1,           1,           1,           1,           1,           1,           1,           1,           1,           1,           1,           1,           1,           1,           1,           1,           1,           1,           1,\n",
              "                  1,           1,           1,           1,           1,           1,           1,           1,           1,           1,           1]]), 'Confidence', 'Precision'], [array([          0,    0.001001,    0.002002,    0.003003,    0.004004,    0.005005,    0.006006,    0.007007,    0.008008,    0.009009,     0.01001,    0.011011,    0.012012,    0.013013,    0.014014,    0.015015,    0.016016,    0.017017,    0.018018,    0.019019,     0.02002,    0.021021,    0.022022,    0.023023,\n",
              "          0.024024,    0.025025,    0.026026,    0.027027,    0.028028,    0.029029,     0.03003,    0.031031,    0.032032,    0.033033,    0.034034,    0.035035,    0.036036,    0.037037,    0.038038,    0.039039,     0.04004,    0.041041,    0.042042,    0.043043,    0.044044,    0.045045,    0.046046,    0.047047,\n",
              "          0.048048,    0.049049,     0.05005,    0.051051,    0.052052,    0.053053,    0.054054,    0.055055,    0.056056,    0.057057,    0.058058,    0.059059,     0.06006,    0.061061,    0.062062,    0.063063,    0.064064,    0.065065,    0.066066,    0.067067,    0.068068,    0.069069,     0.07007,    0.071071,\n",
              "          0.072072,    0.073073,    0.074074,    0.075075,    0.076076,    0.077077,    0.078078,    0.079079,     0.08008,    0.081081,    0.082082,    0.083083,    0.084084,    0.085085,    0.086086,    0.087087,    0.088088,    0.089089,     0.09009,    0.091091,    0.092092,    0.093093,    0.094094,    0.095095,\n",
              "          0.096096,    0.097097,    0.098098,    0.099099,      0.1001,      0.1011,      0.1021,      0.1031,      0.1041,     0.10511,     0.10611,     0.10711,     0.10811,     0.10911,     0.11011,     0.11111,     0.11211,     0.11311,     0.11411,     0.11512,     0.11612,     0.11712,     0.11812,     0.11912,\n",
              "           0.12012,     0.12112,     0.12212,     0.12312,     0.12412,     0.12513,     0.12613,     0.12713,     0.12813,     0.12913,     0.13013,     0.13113,     0.13213,     0.13313,     0.13413,     0.13514,     0.13614,     0.13714,     0.13814,     0.13914,     0.14014,     0.14114,     0.14214,     0.14314,\n",
              "           0.14414,     0.14515,     0.14615,     0.14715,     0.14815,     0.14915,     0.15015,     0.15115,     0.15215,     0.15315,     0.15415,     0.15516,     0.15616,     0.15716,     0.15816,     0.15916,     0.16016,     0.16116,     0.16216,     0.16316,     0.16416,     0.16517,     0.16617,     0.16717,\n",
              "           0.16817,     0.16917,     0.17017,     0.17117,     0.17217,     0.17317,     0.17417,     0.17518,     0.17618,     0.17718,     0.17818,     0.17918,     0.18018,     0.18118,     0.18218,     0.18318,     0.18418,     0.18519,     0.18619,     0.18719,     0.18819,     0.18919,     0.19019,     0.19119,\n",
              "           0.19219,     0.19319,     0.19419,      0.1952,      0.1962,      0.1972,      0.1982,      0.1992,      0.2002,      0.2012,      0.2022,      0.2032,      0.2042,     0.20521,     0.20621,     0.20721,     0.20821,     0.20921,     0.21021,     0.21121,     0.21221,     0.21321,     0.21421,     0.21522,\n",
              "           0.21622,     0.21722,     0.21822,     0.21922,     0.22022,     0.22122,     0.22222,     0.22322,     0.22422,     0.22523,     0.22623,     0.22723,     0.22823,     0.22923,     0.23023,     0.23123,     0.23223,     0.23323,     0.23423,     0.23524,     0.23624,     0.23724,     0.23824,     0.23924,\n",
              "           0.24024,     0.24124,     0.24224,     0.24324,     0.24424,     0.24525,     0.24625,     0.24725,     0.24825,     0.24925,     0.25025,     0.25125,     0.25225,     0.25325,     0.25425,     0.25526,     0.25626,     0.25726,     0.25826,     0.25926,     0.26026,     0.26126,     0.26226,     0.26326,\n",
              "           0.26426,     0.26527,     0.26627,     0.26727,     0.26827,     0.26927,     0.27027,     0.27127,     0.27227,     0.27327,     0.27427,     0.27528,     0.27628,     0.27728,     0.27828,     0.27928,     0.28028,     0.28128,     0.28228,     0.28328,     0.28428,     0.28529,     0.28629,     0.28729,\n",
              "           0.28829,     0.28929,     0.29029,     0.29129,     0.29229,     0.29329,     0.29429,      0.2953,      0.2963,      0.2973,      0.2983,      0.2993,      0.3003,      0.3013,      0.3023,      0.3033,      0.3043,     0.30531,     0.30631,     0.30731,     0.30831,     0.30931,     0.31031,     0.31131,\n",
              "           0.31231,     0.31331,     0.31431,     0.31532,     0.31632,     0.31732,     0.31832,     0.31932,     0.32032,     0.32132,     0.32232,     0.32332,     0.32432,     0.32533,     0.32633,     0.32733,     0.32833,     0.32933,     0.33033,     0.33133,     0.33233,     0.33333,     0.33433,     0.33534,\n",
              "           0.33634,     0.33734,     0.33834,     0.33934,     0.34034,     0.34134,     0.34234,     0.34334,     0.34434,     0.34535,     0.34635,     0.34735,     0.34835,     0.34935,     0.35035,     0.35135,     0.35235,     0.35335,     0.35435,     0.35536,     0.35636,     0.35736,     0.35836,     0.35936,\n",
              "           0.36036,     0.36136,     0.36236,     0.36336,     0.36436,     0.36537,     0.36637,     0.36737,     0.36837,     0.36937,     0.37037,     0.37137,     0.37237,     0.37337,     0.37437,     0.37538,     0.37638,     0.37738,     0.37838,     0.37938,     0.38038,     0.38138,     0.38238,     0.38338,\n",
              "           0.38438,     0.38539,     0.38639,     0.38739,     0.38839,     0.38939,     0.39039,     0.39139,     0.39239,     0.39339,     0.39439,      0.3954,      0.3964,      0.3974,      0.3984,      0.3994,      0.4004,      0.4014,      0.4024,      0.4034,      0.4044,     0.40541,     0.40641,     0.40741,\n",
              "           0.40841,     0.40941,     0.41041,     0.41141,     0.41241,     0.41341,     0.41441,     0.41542,     0.41642,     0.41742,     0.41842,     0.41942,     0.42042,     0.42142,     0.42242,     0.42342,     0.42442,     0.42543,     0.42643,     0.42743,     0.42843,     0.42943,     0.43043,     0.43143,\n",
              "           0.43243,     0.43343,     0.43443,     0.43544,     0.43644,     0.43744,     0.43844,     0.43944,     0.44044,     0.44144,     0.44244,     0.44344,     0.44444,     0.44545,     0.44645,     0.44745,     0.44845,     0.44945,     0.45045,     0.45145,     0.45245,     0.45345,     0.45445,     0.45546,\n",
              "           0.45646,     0.45746,     0.45846,     0.45946,     0.46046,     0.46146,     0.46246,     0.46346,     0.46446,     0.46547,     0.46647,     0.46747,     0.46847,     0.46947,     0.47047,     0.47147,     0.47247,     0.47347,     0.47447,     0.47548,     0.47648,     0.47748,     0.47848,     0.47948,\n",
              "           0.48048,     0.48148,     0.48248,     0.48348,     0.48448,     0.48549,     0.48649,     0.48749,     0.48849,     0.48949,     0.49049,     0.49149,     0.49249,     0.49349,     0.49449,      0.4955,      0.4965,      0.4975,      0.4985,      0.4995,      0.5005,      0.5015,      0.5025,      0.5035,\n",
              "            0.5045,     0.50551,     0.50651,     0.50751,     0.50851,     0.50951,     0.51051,     0.51151,     0.51251,     0.51351,     0.51451,     0.51552,     0.51652,     0.51752,     0.51852,     0.51952,     0.52052,     0.52152,     0.52252,     0.52352,     0.52452,     0.52553,     0.52653,     0.52753,\n",
              "           0.52853,     0.52953,     0.53053,     0.53153,     0.53253,     0.53353,     0.53453,     0.53554,     0.53654,     0.53754,     0.53854,     0.53954,     0.54054,     0.54154,     0.54254,     0.54354,     0.54454,     0.54555,     0.54655,     0.54755,     0.54855,     0.54955,     0.55055,     0.55155,\n",
              "           0.55255,     0.55355,     0.55455,     0.55556,     0.55656,     0.55756,     0.55856,     0.55956,     0.56056,     0.56156,     0.56256,     0.56356,     0.56456,     0.56557,     0.56657,     0.56757,     0.56857,     0.56957,     0.57057,     0.57157,     0.57257,     0.57357,     0.57457,     0.57558,\n",
              "           0.57658,     0.57758,     0.57858,     0.57958,     0.58058,     0.58158,     0.58258,     0.58358,     0.58458,     0.58559,     0.58659,     0.58759,     0.58859,     0.58959,     0.59059,     0.59159,     0.59259,     0.59359,     0.59459,      0.5956,      0.5966,      0.5976,      0.5986,      0.5996,\n",
              "            0.6006,      0.6016,      0.6026,      0.6036,      0.6046,     0.60561,     0.60661,     0.60761,     0.60861,     0.60961,     0.61061,     0.61161,     0.61261,     0.61361,     0.61461,     0.61562,     0.61662,     0.61762,     0.61862,     0.61962,     0.62062,     0.62162,     0.62262,     0.62362,\n",
              "           0.62462,     0.62563,     0.62663,     0.62763,     0.62863,     0.62963,     0.63063,     0.63163,     0.63263,     0.63363,     0.63463,     0.63564,     0.63664,     0.63764,     0.63864,     0.63964,     0.64064,     0.64164,     0.64264,     0.64364,     0.64464,     0.64565,     0.64665,     0.64765,\n",
              "           0.64865,     0.64965,     0.65065,     0.65165,     0.65265,     0.65365,     0.65465,     0.65566,     0.65666,     0.65766,     0.65866,     0.65966,     0.66066,     0.66166,     0.66266,     0.66366,     0.66466,     0.66567,     0.66667,     0.66767,     0.66867,     0.66967,     0.67067,     0.67167,\n",
              "           0.67267,     0.67367,     0.67467,     0.67568,     0.67668,     0.67768,     0.67868,     0.67968,     0.68068,     0.68168,     0.68268,     0.68368,     0.68468,     0.68569,     0.68669,     0.68769,     0.68869,     0.68969,     0.69069,     0.69169,     0.69269,     0.69369,     0.69469,      0.6957,\n",
              "            0.6967,      0.6977,      0.6987,      0.6997,      0.7007,      0.7017,      0.7027,      0.7037,      0.7047,     0.70571,     0.70671,     0.70771,     0.70871,     0.70971,     0.71071,     0.71171,     0.71271,     0.71371,     0.71471,     0.71572,     0.71672,     0.71772,     0.71872,     0.71972,\n",
              "           0.72072,     0.72172,     0.72272,     0.72372,     0.72472,     0.72573,     0.72673,     0.72773,     0.72873,     0.72973,     0.73073,     0.73173,     0.73273,     0.73373,     0.73473,     0.73574,     0.73674,     0.73774,     0.73874,     0.73974,     0.74074,     0.74174,     0.74274,     0.74374,\n",
              "           0.74474,     0.74575,     0.74675,     0.74775,     0.74875,     0.74975,     0.75075,     0.75175,     0.75275,     0.75375,     0.75475,     0.75576,     0.75676,     0.75776,     0.75876,     0.75976,     0.76076,     0.76176,     0.76276,     0.76376,     0.76476,     0.76577,     0.76677,     0.76777,\n",
              "           0.76877,     0.76977,     0.77077,     0.77177,     0.77277,     0.77377,     0.77477,     0.77578,     0.77678,     0.77778,     0.77878,     0.77978,     0.78078,     0.78178,     0.78278,     0.78378,     0.78478,     0.78579,     0.78679,     0.78779,     0.78879,     0.78979,     0.79079,     0.79179,\n",
              "           0.79279,     0.79379,     0.79479,      0.7958,      0.7968,      0.7978,      0.7988,      0.7998,      0.8008,      0.8018,      0.8028,      0.8038,      0.8048,     0.80581,     0.80681,     0.80781,     0.80881,     0.80981,     0.81081,     0.81181,     0.81281,     0.81381,     0.81481,     0.81582,\n",
              "           0.81682,     0.81782,     0.81882,     0.81982,     0.82082,     0.82182,     0.82282,     0.82382,     0.82482,     0.82583,     0.82683,     0.82783,     0.82883,     0.82983,     0.83083,     0.83183,     0.83283,     0.83383,     0.83483,     0.83584,     0.83684,     0.83784,     0.83884,     0.83984,\n",
              "           0.84084,     0.84184,     0.84284,     0.84384,     0.84484,     0.84585,     0.84685,     0.84785,     0.84885,     0.84985,     0.85085,     0.85185,     0.85285,     0.85385,     0.85485,     0.85586,     0.85686,     0.85786,     0.85886,     0.85986,     0.86086,     0.86186,     0.86286,     0.86386,\n",
              "           0.86486,     0.86587,     0.86687,     0.86787,     0.86887,     0.86987,     0.87087,     0.87187,     0.87287,     0.87387,     0.87487,     0.87588,     0.87688,     0.87788,     0.87888,     0.87988,     0.88088,     0.88188,     0.88288,     0.88388,     0.88488,     0.88589,     0.88689,     0.88789,\n",
              "           0.88889,     0.88989,     0.89089,     0.89189,     0.89289,     0.89389,     0.89489,      0.8959,      0.8969,      0.8979,      0.8989,      0.8999,      0.9009,      0.9019,      0.9029,      0.9039,      0.9049,     0.90591,     0.90691,     0.90791,     0.90891,     0.90991,     0.91091,     0.91191,\n",
              "           0.91291,     0.91391,     0.91491,     0.91592,     0.91692,     0.91792,     0.91892,     0.91992,     0.92092,     0.92192,     0.92292,     0.92392,     0.92492,     0.92593,     0.92693,     0.92793,     0.92893,     0.92993,     0.93093,     0.93193,     0.93293,     0.93393,     0.93493,     0.93594,\n",
              "           0.93694,     0.93794,     0.93894,     0.93994,     0.94094,     0.94194,     0.94294,     0.94394,     0.94494,     0.94595,     0.94695,     0.94795,     0.94895,     0.94995,     0.95095,     0.95195,     0.95295,     0.95395,     0.95495,     0.95596,     0.95696,     0.95796,     0.95896,     0.95996,\n",
              "           0.96096,     0.96196,     0.96296,     0.96396,     0.96496,     0.96597,     0.96697,     0.96797,     0.96897,     0.96997,     0.97097,     0.97197,     0.97297,     0.97397,     0.97497,     0.97598,     0.97698,     0.97798,     0.97898,     0.97998,     0.98098,     0.98198,     0.98298,     0.98398,\n",
              "           0.98498,     0.98599,     0.98699,     0.98799,     0.98899,     0.98999,     0.99099,     0.99199,     0.99299,     0.99399,     0.99499,       0.996,       0.997,       0.998,       0.999,           1]), array([[          1,           1,           1,           1,           1,           1,           1,           1,           1,           1,           1,           1,           1,           1,           1,     0.99993,     0.98864,     0.98864,     0.98864,     0.98864,     0.98864,     0.97727,     0.97727,\n",
              "            0.97727,     0.97727,     0.97727,     0.97727,     0.97727,     0.97727,     0.97727,     0.97727,     0.97727,     0.97727,     0.97727,     0.97727,     0.97727,     0.97727,     0.97727,     0.97727,     0.97612,     0.96591,     0.95455,     0.95455,     0.95455,     0.95455,     0.95455,\n",
              "            0.95455,     0.95455,     0.95455,     0.95455,     0.95455,     0.95455,     0.95455,     0.95455,     0.95455,     0.95455,     0.95455,     0.95455,     0.95455,     0.95455,     0.95455,     0.95455,     0.95455,     0.95455,     0.95455,     0.95455,     0.95455,     0.95455,     0.95455,\n",
              "            0.95344,     0.94654,     0.94318,     0.94318,     0.94318,     0.94318,     0.94318,     0.94318,     0.94318,     0.94318,     0.94318,     0.94318,     0.94318,     0.94318,     0.94318,     0.94318,     0.94318,     0.94318,     0.94318,     0.94318,     0.94318,     0.94318,     0.94318,\n",
              "            0.94318,     0.94318,     0.94318,     0.94318,     0.94318,     0.94318,     0.94318,     0.94318,     0.94318,     0.94318,     0.94318,     0.94318,     0.94318,     0.94318,     0.94318,     0.94318,     0.94318,     0.94318,     0.94318,     0.94318,     0.94318,     0.94318,     0.94318,\n",
              "            0.94318,     0.94318,     0.94318,     0.94318,     0.94318,     0.94318,     0.94318,     0.94318,     0.94318,     0.94318,     0.94318,     0.94318,     0.94318,     0.93182,     0.93182,     0.93182,     0.93182,     0.93182,     0.93182,     0.93182,     0.93182,     0.93182,     0.93182,\n",
              "            0.93182,     0.93182,     0.93182,     0.93182,     0.93182,     0.93182,     0.93182,     0.93182,     0.93182,     0.93182,     0.93182,     0.93182,     0.93182,     0.93182,     0.93182,     0.93182,     0.93169,     0.93041,     0.92914,     0.92786,     0.92658,     0.92531,     0.92403,\n",
              "            0.92275,     0.92148,     0.92045,     0.92045,     0.92045,     0.92045,     0.92045,     0.92045,     0.92045,     0.92045,     0.92045,     0.92045,     0.92045,     0.92045,     0.92045,     0.92045,     0.92045,     0.92045,     0.92045,     0.92045,     0.91945,      0.9128,     0.90909,\n",
              "            0.90909,     0.90909,     0.90909,     0.90909,     0.90909,     0.90909,     0.90909,     0.90909,     0.90909,     0.90909,     0.90909,     0.90909,     0.90909,     0.90909,     0.90909,     0.90909,     0.90909,     0.90909,     0.90909,     0.90909,     0.90909,     0.90812,     0.90698,\n",
              "            0.90584,     0.90471,     0.90357,     0.90243,      0.9013,     0.90016,     0.89902,     0.89789,     0.89773,     0.89773,     0.89773,     0.89773,     0.89773,     0.89773,     0.89773,     0.89773,     0.89375,     0.88885,     0.88636,     0.88636,     0.88636,     0.88636,     0.88636,\n",
              "            0.88636,     0.88636,     0.88636,     0.88636,     0.88636,     0.88102,     0.86364,     0.86364,     0.86364,     0.86364,     0.86364,     0.86364,     0.86364,     0.86364,     0.86364,     0.86364,     0.86364,     0.86364,     0.86364,     0.86364,     0.86364,     0.86364,     0.86364,\n",
              "            0.86364,     0.86364,     0.86364,     0.86364,     0.86364,     0.86364,     0.86364,     0.86364,     0.86364,     0.86364,     0.86364,     0.86364,     0.86364,     0.86364,     0.86364,     0.86364,     0.86364,     0.86364,     0.86364,     0.86364,     0.86364,     0.86364,     0.86364,\n",
              "            0.86364,     0.86364,     0.86364,     0.86364,     0.86364,     0.86364,     0.86364,     0.86364,     0.86364,     0.86364,     0.86364,     0.86364,     0.86364,     0.86364,     0.86364,     0.86364,     0.86364,     0.86364,     0.86364,     0.86364,     0.86364,     0.86364,     0.86364,\n",
              "            0.86364,     0.86364,     0.86364,     0.86364,     0.86364,     0.86364,     0.86364,     0.86364,     0.86364,     0.86364,     0.86364,     0.86364,     0.86364,     0.86364,     0.86364,     0.86151,     0.85793,     0.85434,     0.85227,     0.85227,     0.85227,     0.85227,     0.85227,\n",
              "            0.85227,     0.85227,     0.85227,     0.85227,     0.85227,     0.85227,     0.85227,     0.85227,     0.85227,     0.85013,     0.84236,     0.84091,     0.84091,     0.84091,     0.84091,     0.83242,      0.8231,     0.81818,     0.81818,     0.81818,     0.81818,     0.81818,     0.81818,\n",
              "            0.81818,     0.81818,     0.81818,     0.81818,     0.81818,     0.81818,     0.81818,     0.81818,     0.81818,     0.81818,     0.81818,     0.81818,     0.81818,     0.81818,     0.81818,     0.81818,     0.81818,     0.81818,     0.81818,     0.81818,     0.81818,     0.81818,     0.81818,\n",
              "            0.81818,     0.81818,     0.81818,     0.81818,     0.81818,     0.81818,     0.81818,     0.81818,     0.81818,     0.81818,     0.81818,     0.81818,     0.81818,     0.81818,     0.81818,     0.81818,     0.81818,     0.81818,     0.81069,     0.80682,     0.80682,     0.80682,     0.80682,\n",
              "            0.80682,     0.80682,     0.80682,     0.80682,     0.80682,     0.80682,     0.80682,     0.80682,     0.80682,     0.80682,     0.80682,     0.80682,     0.80682,     0.80682,     0.80682,     0.80682,     0.80682,     0.80682,     0.80682,     0.80682,     0.80682,     0.80682,     0.80301,\n",
              "            0.79545,     0.79545,     0.79545,     0.79545,     0.79545,     0.79545,     0.79545,     0.79545,     0.79545,     0.79545,     0.79545,     0.79545,     0.79545,     0.79545,     0.79545,     0.79545,     0.79545,     0.79545,     0.79545,     0.79545,     0.79545,     0.79545,     0.79545,\n",
              "            0.79545,     0.79545,     0.79545,     0.79545,     0.79545,     0.79545,     0.79545,     0.79545,     0.79545,     0.79545,     0.79462,     0.79371,     0.79279,     0.79188,     0.79097,     0.79005,     0.78914,     0.78823,     0.78731,      0.7864,     0.78548,     0.78457,     0.78409,\n",
              "            0.78409,     0.78322,     0.78156,     0.77989,     0.77823,     0.77656,      0.7749,     0.77324,     0.77273,     0.77273,     0.77273,     0.77273,     0.77273,     0.77273,     0.77273,     0.77273,     0.77273,     0.77273,     0.77273,     0.77273,     0.77273,     0.77273,     0.77273,\n",
              "            0.77273,     0.77273,     0.77273,     0.77273,     0.77273,     0.77273,     0.77273,     0.77273,     0.77273,     0.77273,     0.77273,     0.77273,     0.77273,     0.77273,     0.77273,     0.77273,     0.77273,     0.77273,     0.77273,     0.77273,     0.77273,     0.77273,     0.77031,\n",
              "            0.76643,     0.76255,     0.76069,     0.75972,     0.75875,     0.75778,     0.75681,     0.75584,     0.75486,     0.75389,     0.75292,     0.75195,     0.75098,     0.75001,        0.75,        0.75,        0.75,        0.75,        0.75,        0.75,        0.75,        0.75,     0.74919,\n",
              "            0.74531,     0.74143,     0.73864,     0.73864,     0.73853,      0.7382,     0.73787,     0.73754,     0.73722,     0.73689,     0.73656,     0.73623,      0.7359,     0.73558,     0.73525,     0.73492,     0.73459,     0.73426,     0.73393,     0.73361,     0.73328,     0.73295,     0.73262,\n",
              "            0.73229,     0.73197,     0.73164,     0.73131,     0.73098,     0.73065,     0.73033,        0.73,     0.72967,     0.72934,     0.72901,     0.72868,     0.72836,     0.72803,      0.7277,     0.72737,     0.72686,     0.72626,     0.72566,     0.72506,     0.72447,     0.72387,     0.72327,\n",
              "            0.72268,     0.72208,     0.72148,     0.72088,     0.72029,     0.71969,     0.71909,     0.71849,      0.7179,      0.7173,      0.7167,      0.7161,     0.71493,     0.71347,     0.71202,     0.71056,     0.70911,     0.70765,     0.70619,     0.70474,     0.70455,     0.70455,     0.70288,\n",
              "              0.699,     0.69511,     0.69318,     0.69265,     0.69164,     0.69062,     0.68961,      0.6886,     0.68758,     0.68657,     0.68556,     0.68455,     0.68353,     0.68252,     0.68127,     0.67947,     0.67768,     0.67589,      0.6741,     0.67231,     0.67051,     0.66927,     0.66804,\n",
              "            0.66682,     0.66559,     0.66437,     0.66314,     0.66191,     0.66069,     0.65946,     0.65841,     0.65744,     0.65647,      0.6555,     0.65453,     0.65356,     0.65259,     0.65162,     0.65065,     0.64968,     0.64871,     0.64774,     0.64516,     0.64257,     0.63998,      0.6374,\n",
              "            0.62426,     0.62304,     0.62181,     0.62058,     0.61936,     0.61813,     0.61691,     0.61568,     0.61445,      0.6133,     0.61229,     0.61127,     0.61026,     0.60925,     0.60823,     0.60722,     0.60621,      0.6052,     0.60418,     0.60317,     0.60208,     0.60042,     0.59876,\n",
              "            0.59709,     0.59543,     0.59376,      0.5921,     0.59036,     0.58842,     0.58647,     0.58453,     0.58259,     0.58065,     0.57703,     0.57121,     0.56752,     0.56615,     0.56478,     0.56341,     0.56204,     0.56067,      0.5593,     0.55793,     0.55463,     0.54381,     0.53604,\n",
              "            0.52537,     0.51372,     0.50208,     0.48545,     0.48156,     0.47768,     0.47554,     0.47359,     0.47165,     0.46971,     0.46777,     0.46543,     0.45301,     0.43047,     0.42814,     0.42581,     0.42348,     0.42115,     0.41719,     0.41253,     0.40757,     0.40175,     0.37914,\n",
              "            0.35406,     0.34899,      0.3451,     0.34122,     0.33853,     0.33594,     0.33335,     0.33076,     0.32543,     0.31663,     0.29423,     0.29211,     0.28999,     0.28788,     0.28576,     0.28387,     0.28281,     0.28175,     0.28069,     0.27963,     0.27857,     0.27751,     0.27645,\n",
              "            0.27539,     0.27434,     0.27328,     0.27161,     0.26928,     0.26695,     0.26462,     0.26229,     0.25785,     0.25202,     0.24931,     0.24825,     0.24719,     0.24613,     0.24507,     0.24401,     0.24296,      0.2419,     0.24084,     0.23978,     0.23872,     0.22791,     0.21378,\n",
              "            0.20912,     0.20411,     0.19112,     0.18724,     0.18336,     0.15768,     0.15535,     0.15302,      0.1507,     0.14837,      0.1435,     0.13767,     0.12371,     0.12205,     0.12038,     0.11872,     0.11705,     0.11539,     0.11373,     0.11364,     0.11041,     0.10708,     0.10375,\n",
              "            0.10128,    0.099485,    0.097693,    0.095901,    0.094109,    0.092317,    0.089245,    0.081479,     0.07663,    0.072747,    0.068864,    0.067115,    0.065821,    0.064527,    0.063232,    0.061938,    0.060644,     0.05935,    0.058056,    0.056785,    0.056034,    0.055282,    0.054531,\n",
              "           0.053779,    0.053028,    0.052276,    0.051525,    0.050773,    0.050022,     0.04927,    0.048519,    0.047767,    0.047016,    0.046264,    0.045513,    0.045242,    0.045011,     0.04478,     0.04455,    0.044319,    0.044089,    0.043858,    0.043627,    0.043397,    0.043166,    0.042935,\n",
              "           0.042705,    0.042474,    0.042243,    0.042013,    0.041782,    0.041551,    0.041321,     0.04109,    0.040859,    0.040629,    0.040398,    0.040167,    0.039937,    0.039706,    0.039475,    0.039245,    0.039014,    0.038783,    0.038553,    0.038322,    0.038092,    0.037861,     0.03763,\n",
              "             0.0374,    0.037169,    0.036938,    0.036708,    0.036477,    0.036246,    0.036016,    0.035785,    0.035554,    0.035324,    0.035093,    0.034862,    0.034632,    0.034401,     0.03417,    0.026458,    0.022008,    0.020949,     0.01989,    0.018831,    0.017772,    0.016713,    0.015654,\n",
              "           0.014595,    0.013536,    0.012477,    0.011418,           0,           0,           0,           0,           0,           0,           0,           0,           0,           0,           0,           0,           0,           0,           0,           0,           0,           0,           0,\n",
              "                  0,           0,           0,           0,           0,           0,           0,           0,           0,           0,           0,           0,           0,           0,           0,           0,           0,           0,           0,           0,           0,           0,           0,\n",
              "                  0,           0,           0,           0,           0,           0,           0,           0,           0,           0,           0,           0,           0,           0,           0,           0,           0,           0,           0,           0,           0,           0,           0,\n",
              "                  0,           0,           0,           0,           0,           0,           0,           0,           0,           0,           0,           0,           0,           0,           0,           0,           0,           0,           0,           0,           0,           0,           0,\n",
              "                  0,           0,           0,           0,           0,           0,           0,           0,           0,           0,           0,           0,           0,           0,           0,           0,           0,           0,           0,           0,           0,           0,           0,\n",
              "                  0,           0,           0,           0,           0,           0,           0,           0,           0,           0,           0]]), 'Confidence', 'Recall']]\n",
              "fitness: np.float64(0.5292323653273096)\n",
              "keys: ['metrics/precision(B)', 'metrics/recall(B)', 'metrics/mAP50(B)', 'metrics/mAP50-95(B)']\n",
              "maps: array([    0.48924])\n",
              "names: {0: 'pineapple'}\n",
              "plot: True\n",
              "results_dict: {'metrics/precision(B)': np.float64(0.9140923059481618), 'metrics/recall(B)': np.float64(0.7727272727272727), 'metrics/mAP50(B)': np.float64(0.8891251990272965), 'metrics/mAP50-95(B)': np.float64(0.4892442726939777), 'fitness': np.float64(0.5292323653273096)}\n",
              "save_dir: PosixPath('runs/detect/train')\n",
              "speed: {'preprocess': 0.20011870731750384, 'inference': 2.413828524390183, 'loss': 0.00045057317226853295, 'postprocess': 2.6501924999997866}\n",
              "task: 'detect'"
            ]
          },
          "metadata": {},
          "execution_count": 5
        }
      ]
    },
    {
      "cell_type": "code",
      "source": [
        "      results = model.predict(\"/content/Pineapple Ripeness Detection.v3i.yolov8/test/images/IMG_0749_JPG.rf.02ee24fca2a32c5324f9957eb8585b26.jpg\", save=True)"
      ],
      "metadata": {
        "colab": {
          "base_uri": "https://localhost:8080/"
        },
        "id": "-RfTir-hEtmF",
        "outputId": "f1afba0a-8a73-431b-8cb2-56c9e9628ee4"
      },
      "execution_count": 6,
      "outputs": [
        {
          "output_type": "stream",
          "name": "stdout",
          "text": [
            "\n",
            "image 1/1 /content/Pineapple Ripeness Detection.v3i.yolov8/test/images/IMG_0749_JPG.rf.02ee24fca2a32c5324f9957eb8585b26.jpg: 640x640 1 pineapple, 7.2ms\n",
            "Speed: 2.0ms preprocess, 7.2ms inference, 1.3ms postprocess per image at shape (1, 3, 640, 640)\n",
            "Results saved to \u001b[1mruns/detect/train2\u001b[0m\n"
          ]
        }
      ]
    },
    {
      "cell_type": "code",
      "source": [
        "model.predict(source='/content/Pineapple Ripeness Detection.v3i.yolov8/test/images/IMG_0749_JPG.rf.02ee24fca2a32c5324f9957eb8585b26.jpg', conf=0.5, save=True)"
      ],
      "metadata": {
        "colab": {
          "base_uri": "https://localhost:8080/"
        },
        "id": "g9h4GzFwGSo3",
        "outputId": "6b290c1f-cfe7-479b-f17d-5a2b8b8d0ac7"
      },
      "execution_count": 7,
      "outputs": [
        {
          "output_type": "stream",
          "name": "stdout",
          "text": [
            "\n",
            "image 1/1 /content/Pineapple Ripeness Detection.v3i.yolov8/test/images/IMG_0749_JPG.rf.02ee24fca2a32c5324f9957eb8585b26.jpg: 640x640 1 pineapple, 12.1ms\n",
            "Speed: 3.5ms preprocess, 12.1ms inference, 1.6ms postprocess per image at shape (1, 3, 640, 640)\n",
            "Results saved to \u001b[1mruns/detect/train3\u001b[0m\n"
          ]
        },
        {
          "output_type": "execute_result",
          "data": {
            "text/plain": [
              "[ultralytics.engine.results.Results object with attributes:\n",
              " \n",
              " boxes: ultralytics.engine.results.Boxes object\n",
              " keypoints: None\n",
              " masks: None\n",
              " names: {0: 'pineapple'}\n",
              " obb: None\n",
              " orig_img: array([[[217, 222, 221],\n",
              "         [217, 222, 221],\n",
              "         [217, 222, 221],\n",
              "         ...,\n",
              "         [  0,  58,  90],\n",
              "         [  2,  63,  95],\n",
              "         [  9,  70, 102]],\n",
              " \n",
              "        [[219, 224, 223],\n",
              "         [219, 224, 223],\n",
              "         [219, 224, 223],\n",
              "         ...,\n",
              "         [  2,  63,  95],\n",
              "         [  4,  65,  97],\n",
              "         [  5,  66,  98]],\n",
              " \n",
              "        [[221, 226, 225],\n",
              "         [221, 226, 225],\n",
              "         [221, 226, 225],\n",
              "         ...,\n",
              "         [  6,  67,  99],\n",
              "         [  5,  66,  98],\n",
              "         [  1,  62,  94]],\n",
              " \n",
              "        ...,\n",
              " \n",
              "        [[239, 243, 237],\n",
              "         [239, 243, 237],\n",
              "         [239, 243, 237],\n",
              "         ...,\n",
              "         [  8,  67, 106],\n",
              "         [ 24,  83, 122],\n",
              "         [ 29,  88, 127]],\n",
              " \n",
              "        [[237, 241, 235],\n",
              "         [237, 241, 235],\n",
              "         [237, 241, 235],\n",
              "         ...,\n",
              "         [  5,  64, 103],\n",
              "         [ 20,  79, 118],\n",
              "         [ 24,  83, 122]],\n",
              " \n",
              "        [[235, 239, 233],\n",
              "         [236, 240, 234],\n",
              "         [236, 240, 234],\n",
              "         ...,\n",
              "         [  8,  67, 106],\n",
              "         [ 22,  81, 120],\n",
              "         [ 24,  83, 122]]], dtype=uint8)\n",
              " orig_shape: (640, 640)\n",
              " path: '/content/Pineapple Ripeness Detection.v3i.yolov8/test/images/IMG_0749_JPG.rf.02ee24fca2a32c5324f9957eb8585b26.jpg'\n",
              " probs: None\n",
              " save_dir: 'runs/detect/train3'\n",
              " speed: {'preprocess': 3.4685650000483292, 'inference': 12.069617000179278, 'postprocess': 1.635341000110202}]"
            ]
          },
          "metadata": {},
          "execution_count": 7
        }
      ]
    },
    {
      "cell_type": "code",
      "source": [
        "from ultralytics import YOLO\n",
        "\n",
        "model = YOLO('yolov8n.pt')  # or yolov8s.pt for a slightly better model\n",
        "model.train(data='pineapple.yaml', epochs=50, imgsz=640)"
      ],
      "metadata": {
        "colab": {
          "base_uri": "https://localhost:8080/"
        },
        "id": "TfLSS5OmGUUl",
        "outputId": "e63643b7-eeef-40d8-de84-e10417437925"
      },
      "execution_count": 8,
      "outputs": [
        {
          "output_type": "stream",
          "name": "stdout",
          "text": [
            "Ultralytics 8.3.111 🚀 Python-3.11.12 torch-2.6.0+cu124 CUDA:0 (Tesla T4, 15095MiB)\n",
            "\u001b[34m\u001b[1mengine/trainer: \u001b[0mtask=detect, mode=train, model=yolov8n.pt, data=pineapple.yaml, epochs=50, time=None, patience=100, batch=16, imgsz=640, save=True, save_period=-1, cache=False, device=None, workers=8, project=None, name=train4, exist_ok=False, pretrained=True, optimizer=auto, verbose=True, seed=0, deterministic=True, single_cls=False, rect=False, cos_lr=False, close_mosaic=10, resume=False, amp=True, fraction=1.0, profile=False, freeze=None, multi_scale=False, overlap_mask=True, mask_ratio=4, dropout=0.0, val=True, split=val, save_json=False, conf=None, iou=0.7, max_det=300, half=False, dnn=False, plots=True, source=None, vid_stride=1, stream_buffer=False, visualize=False, augment=False, agnostic_nms=False, classes=None, retina_masks=False, embed=None, show=False, save_frames=False, save_txt=False, save_conf=False, save_crop=False, show_labels=True, show_conf=True, show_boxes=True, line_width=None, format=torchscript, keras=False, optimize=False, int8=False, dynamic=False, simplify=True, opset=None, workspace=None, nms=False, lr0=0.01, lrf=0.01, momentum=0.937, weight_decay=0.0005, warmup_epochs=3.0, warmup_momentum=0.8, warmup_bias_lr=0.1, box=7.5, cls=0.5, dfl=1.5, pose=12.0, kobj=1.0, nbs=64, hsv_h=0.015, hsv_s=0.7, hsv_v=0.4, degrees=0.0, translate=0.1, scale=0.5, shear=0.0, perspective=0.0, flipud=0.0, fliplr=0.5, bgr=0.0, mosaic=1.0, mixup=0.0, copy_paste=0.0, copy_paste_mode=flip, auto_augment=randaugment, erasing=0.4, cfg=None, tracker=botsort.yaml, save_dir=runs/detect/train4\n",
            "Overriding model.yaml nc=80 with nc=1\n",
            "\n",
            "                   from  n    params  module                                       arguments                     \n",
            "  0                  -1  1       464  ultralytics.nn.modules.conv.Conv             [3, 16, 3, 2]                 \n",
            "  1                  -1  1      4672  ultralytics.nn.modules.conv.Conv             [16, 32, 3, 2]                \n",
            "  2                  -1  1      7360  ultralytics.nn.modules.block.C2f             [32, 32, 1, True]             \n",
            "  3                  -1  1     18560  ultralytics.nn.modules.conv.Conv             [32, 64, 3, 2]                \n",
            "  4                  -1  2     49664  ultralytics.nn.modules.block.C2f             [64, 64, 2, True]             \n",
            "  5                  -1  1     73984  ultralytics.nn.modules.conv.Conv             [64, 128, 3, 2]               \n",
            "  6                  -1  2    197632  ultralytics.nn.modules.block.C2f             [128, 128, 2, True]           \n",
            "  7                  -1  1    295424  ultralytics.nn.modules.conv.Conv             [128, 256, 3, 2]              \n",
            "  8                  -1  1    460288  ultralytics.nn.modules.block.C2f             [256, 256, 1, True]           \n",
            "  9                  -1  1    164608  ultralytics.nn.modules.block.SPPF            [256, 256, 5]                 \n",
            " 10                  -1  1         0  torch.nn.modules.upsampling.Upsample         [None, 2, 'nearest']          \n",
            " 11             [-1, 6]  1         0  ultralytics.nn.modules.conv.Concat           [1]                           \n",
            " 12                  -1  1    148224  ultralytics.nn.modules.block.C2f             [384, 128, 1]                 \n",
            " 13                  -1  1         0  torch.nn.modules.upsampling.Upsample         [None, 2, 'nearest']          \n",
            " 14             [-1, 4]  1         0  ultralytics.nn.modules.conv.Concat           [1]                           \n",
            " 15                  -1  1     37248  ultralytics.nn.modules.block.C2f             [192, 64, 1]                  \n",
            " 16                  -1  1     36992  ultralytics.nn.modules.conv.Conv             [64, 64, 3, 2]                \n",
            " 17            [-1, 12]  1         0  ultralytics.nn.modules.conv.Concat           [1]                           \n",
            " 18                  -1  1    123648  ultralytics.nn.modules.block.C2f             [192, 128, 1]                 \n",
            " 19                  -1  1    147712  ultralytics.nn.modules.conv.Conv             [128, 128, 3, 2]              \n",
            " 20             [-1, 9]  1         0  ultralytics.nn.modules.conv.Concat           [1]                           \n",
            " 21                  -1  1    493056  ultralytics.nn.modules.block.C2f             [384, 256, 1]                 \n",
            " 22        [15, 18, 21]  1    751507  ultralytics.nn.modules.head.Detect           [1, [64, 128, 256]]           \n",
            "Model summary: 129 layers, 3,011,043 parameters, 3,011,027 gradients, 8.2 GFLOPs\n",
            "\n",
            "Transferred 319/355 items from pretrained weights\n",
            "Freezing layer 'model.22.dfl.conv.weight'\n",
            "\u001b[34m\u001b[1mAMP: \u001b[0mrunning Automatic Mixed Precision (AMP) checks...\n",
            "\u001b[34m\u001b[1mAMP: \u001b[0mchecks passed ✅\n",
            "\u001b[34m\u001b[1mtrain: \u001b[0mFast image access ✅ (ping: 0.0±0.0 ms, read: 1548.5±340.0 MB/s, size: 109.7 KB)\n"
          ]
        },
        {
          "output_type": "stream",
          "name": "stderr",
          "text": [
            "\u001b[34m\u001b[1mtrain: \u001b[0mScanning /content/Pineapple Ripeness Detection.v3i.yolov8/train/labels.cache... 726 images, 9 backgrounds, 348 corrupt: 100%|██████████| 726/726 [00:00<?, ?it/s]"
          ]
        },
        {
          "output_type": "stream",
          "name": "stdout",
          "text": [
            "\u001b[34m\u001b[1mtrain: \u001b[0mWARNING ⚠️ /content/Pineapple Ripeness Detection.v3i.yolov8/train/images/1518211407458_jpeg.rf.084be1853fbc6ad14fd51129417538d2.jpg: ignoring corrupt image/label: Label class 1 exceeds dataset class count 1. Possible class labels are 0-0\n",
            "\u001b[34m\u001b[1mtrain: \u001b[0mWARNING ⚠️ /content/Pineapple Ripeness Detection.v3i.yolov8/train/images/1518211407458_jpeg.rf.262dda379d32102137995360c54d20b5.jpg: ignoring corrupt image/label: Label class 1 exceeds dataset class count 1. Possible class labels are 0-0\n",
            "\u001b[34m\u001b[1mtrain: \u001b[0mWARNING ⚠️ /content/Pineapple Ripeness Detection.v3i.yolov8/train/images/1518211407458_jpeg.rf.ac83d58067bd2183df1c173db689cf4e.jpg: ignoring corrupt image/label: Label class 1 exceeds dataset class count 1. Possible class labels are 0-0\n",
            "\u001b[34m\u001b[1mtrain: \u001b[0mWARNING ⚠️ /content/Pineapple Ripeness Detection.v3i.yolov8/train/images/1589314049479_jpeg.rf.925fdf6ab1cf7a252ba2a9c853c68e98.jpg: ignoring corrupt image/label: Label class 1 exceeds dataset class count 1. Possible class labels are 0-0\n",
            "\u001b[34m\u001b[1mtrain: \u001b[0mWARNING ⚠️ /content/Pineapple Ripeness Detection.v3i.yolov8/train/images/1589314049479_jpeg.rf.94e7602453bc22064f9cdf1397283c22.jpg: ignoring corrupt image/label: Label class 1 exceeds dataset class count 1. Possible class labels are 0-0\n",
            "\u001b[34m\u001b[1mtrain: \u001b[0mWARNING ⚠️ /content/Pineapple Ripeness Detection.v3i.yolov8/train/images/1589314049479_jpeg.rf.d069156ed386cd720a66383f349aa22c.jpg: ignoring corrupt image/label: Label class 1 exceeds dataset class count 1. Possible class labels are 0-0\n",
            "\u001b[34m\u001b[1mtrain: \u001b[0mWARNING ⚠️ /content/Pineapple Ripeness Detection.v3i.yolov8/train/images/IMG_0878_JPG.rf.0b6f8df42e0db26bbd369af07bc23488.jpg: ignoring corrupt image/label: Label class 1 exceeds dataset class count 1. Possible class labels are 0-0\n",
            "\u001b[34m\u001b[1mtrain: \u001b[0mWARNING ⚠️ /content/Pineapple Ripeness Detection.v3i.yolov8/train/images/IMG_0878_JPG.rf.366c477b45a0d443dd11e3708efbc45c.jpg: ignoring corrupt image/label: Label class 1 exceeds dataset class count 1. Possible class labels are 0-0\n",
            "\u001b[34m\u001b[1mtrain: \u001b[0mWARNING ⚠️ /content/Pineapple Ripeness Detection.v3i.yolov8/train/images/IMG_0878_JPG.rf.401efb9919d05524863108260b93ad0a.jpg: ignoring corrupt image/label: Label class 1 exceeds dataset class count 1. Possible class labels are 0-0\n",
            "\u001b[34m\u001b[1mtrain: \u001b[0mWARNING ⚠️ /content/Pineapple Ripeness Detection.v3i.yolov8/train/images/IMG_0881_JPG.rf.279815f0be09e7f7031dde8108a6ec7a.jpg: ignoring corrupt image/label: Label class 1 exceeds dataset class count 1. Possible class labels are 0-0\n",
            "\u001b[34m\u001b[1mtrain: \u001b[0mWARNING ⚠️ /content/Pineapple Ripeness Detection.v3i.yolov8/train/images/IMG_0881_JPG.rf.46bdaa964e1258b4dd9f8f3d7980cbe5.jpg: ignoring corrupt image/label: Label class 1 exceeds dataset class count 1. Possible class labels are 0-0\n",
            "\u001b[34m\u001b[1mtrain: \u001b[0mWARNING ⚠️ /content/Pineapple Ripeness Detection.v3i.yolov8/train/images/IMG_0881_JPG.rf.bc816eda8585b5731c0d8fe95f0eaedd.jpg: ignoring corrupt image/label: Label class 1 exceeds dataset class count 1. Possible class labels are 0-0\n",
            "\u001b[34m\u001b[1mtrain: \u001b[0mWARNING ⚠️ /content/Pineapple Ripeness Detection.v3i.yolov8/train/images/IMG_0884_JPG.rf.6c85a43900a21c2e3dfb4733be796e2d.jpg: ignoring corrupt image/label: Label class 1 exceeds dataset class count 1. Possible class labels are 0-0\n",
            "\u001b[34m\u001b[1mtrain: \u001b[0mWARNING ⚠️ /content/Pineapple Ripeness Detection.v3i.yolov8/train/images/IMG_0884_JPG.rf.eb1ba77eda522d2c7aff11622ddb69e4.jpg: ignoring corrupt image/label: Label class 1 exceeds dataset class count 1. Possible class labels are 0-0\n",
            "\u001b[34m\u001b[1mtrain: \u001b[0mWARNING ⚠️ /content/Pineapple Ripeness Detection.v3i.yolov8/train/images/IMG_0884_JPG.rf.f44e98f72767c4d3e094b03c3e46a57e.jpg: ignoring corrupt image/label: Label class 1 exceeds dataset class count 1. Possible class labels are 0-0\n",
            "\u001b[34m\u001b[1mtrain: \u001b[0mWARNING ⚠️ /content/Pineapple Ripeness Detection.v3i.yolov8/train/images/IMG_0886_JPG.rf.04ca6945334dfbc306bafd79fea2845f.jpg: ignoring corrupt image/label: Label class 1 exceeds dataset class count 1. Possible class labels are 0-0\n",
            "\u001b[34m\u001b[1mtrain: \u001b[0mWARNING ⚠️ /content/Pineapple Ripeness Detection.v3i.yolov8/train/images/IMG_0886_JPG.rf.6880c222c000bb93684297f1295aef9f.jpg: ignoring corrupt image/label: Label class 1 exceeds dataset class count 1. Possible class labels are 0-0\n",
            "\u001b[34m\u001b[1mtrain: \u001b[0mWARNING ⚠️ /content/Pineapple Ripeness Detection.v3i.yolov8/train/images/IMG_0886_JPG.rf.7d08f24435380300608fe0fb6ee18af4.jpg: ignoring corrupt image/label: Label class 1 exceeds dataset class count 1. Possible class labels are 0-0\n",
            "\u001b[34m\u001b[1mtrain: \u001b[0mWARNING ⚠️ /content/Pineapple Ripeness Detection.v3i.yolov8/train/images/IMG_0888_JPG.rf.07534bbc4bcb48f805d317ec67126aaf.jpg: ignoring corrupt image/label: Label class 1 exceeds dataset class count 1. Possible class labels are 0-0\n",
            "\u001b[34m\u001b[1mtrain: \u001b[0mWARNING ⚠️ /content/Pineapple Ripeness Detection.v3i.yolov8/train/images/IMG_0888_JPG.rf.ac6a85b68ff39b97b59cc8c1964b8435.jpg: ignoring corrupt image/label: Label class 1 exceeds dataset class count 1. Possible class labels are 0-0\n",
            "\u001b[34m\u001b[1mtrain: \u001b[0mWARNING ⚠️ /content/Pineapple Ripeness Detection.v3i.yolov8/train/images/IMG_0888_JPG.rf.aec6f5693f107afcdf9aa664ccbe319c.jpg: ignoring corrupt image/label: Label class 1 exceeds dataset class count 1. Possible class labels are 0-0\n",
            "\u001b[34m\u001b[1mtrain: \u001b[0mWARNING ⚠️ /content/Pineapple Ripeness Detection.v3i.yolov8/train/images/IMG_0891_JPG.rf.020fa0b73c7696baad52497a3eae8c27.jpg: ignoring corrupt image/label: Label class 1 exceeds dataset class count 1. Possible class labels are 0-0\n",
            "\u001b[34m\u001b[1mtrain: \u001b[0mWARNING ⚠️ /content/Pineapple Ripeness Detection.v3i.yolov8/train/images/IMG_0891_JPG.rf.58fd03aec42a3ce15b1e03e440f0e023.jpg: ignoring corrupt image/label: Label class 1 exceeds dataset class count 1. Possible class labels are 0-0\n",
            "\u001b[34m\u001b[1mtrain: \u001b[0mWARNING ⚠️ /content/Pineapple Ripeness Detection.v3i.yolov8/train/images/IMG_0891_JPG.rf.b2cf87475931d63313838acfe2ad962b.jpg: ignoring corrupt image/label: Label class 1 exceeds dataset class count 1. Possible class labels are 0-0\n",
            "\u001b[34m\u001b[1mtrain: \u001b[0mWARNING ⚠️ /content/Pineapple Ripeness Detection.v3i.yolov8/train/images/IMG_0893_JPG.rf.36cc39d1ba120ea097761d7d69a2b402.jpg: ignoring corrupt image/label: Label class 1 exceeds dataset class count 1. Possible class labels are 0-0\n",
            "\u001b[34m\u001b[1mtrain: \u001b[0mWARNING ⚠️ /content/Pineapple Ripeness Detection.v3i.yolov8/train/images/IMG_0893_JPG.rf.386d73bb176d214170d681be52ef96af.jpg: ignoring corrupt image/label: Label class 1 exceeds dataset class count 1. Possible class labels are 0-0\n",
            "\u001b[34m\u001b[1mtrain: \u001b[0mWARNING ⚠️ /content/Pineapple Ripeness Detection.v3i.yolov8/train/images/IMG_0893_JPG.rf.404eb1b5582e7d99a9dd17d08d453e75.jpg: ignoring corrupt image/label: Label class 1 exceeds dataset class count 1. Possible class labels are 0-0\n",
            "\u001b[34m\u001b[1mtrain: \u001b[0mWARNING ⚠️ /content/Pineapple Ripeness Detection.v3i.yolov8/train/images/IMG_0894_JPG.rf.0e58fa9299331c8a11fba4f34944a15b.jpg: ignoring corrupt image/label: Label class 1 exceeds dataset class count 1. Possible class labels are 0-0\n",
            "\u001b[34m\u001b[1mtrain: \u001b[0mWARNING ⚠️ /content/Pineapple Ripeness Detection.v3i.yolov8/train/images/IMG_0894_JPG.rf.2231bcf90b863ba667a48a5aad0df0cc.jpg: ignoring corrupt image/label: Label class 1 exceeds dataset class count 1. Possible class labels are 0-0\n",
            "\u001b[34m\u001b[1mtrain: \u001b[0mWARNING ⚠️ /content/Pineapple Ripeness Detection.v3i.yolov8/train/images/IMG_0894_JPG.rf.b9a7c6c50b6eaf5d0f924abea17f5b6f.jpg: ignoring corrupt image/label: Label class 1 exceeds dataset class count 1. Possible class labels are 0-0\n",
            "\u001b[34m\u001b[1mtrain: \u001b[0mWARNING ⚠️ /content/Pineapple Ripeness Detection.v3i.yolov8/train/images/IMG_0897_JPG.rf.034dcc161e32847e9eda967c959430e1.jpg: ignoring corrupt image/label: Label class 1 exceeds dataset class count 1. Possible class labels are 0-0\n",
            "\u001b[34m\u001b[1mtrain: \u001b[0mWARNING ⚠️ /content/Pineapple Ripeness Detection.v3i.yolov8/train/images/IMG_0897_JPG.rf.708bebec6623ac2eca9864ef342970ab.jpg: ignoring corrupt image/label: Label class 1 exceeds dataset class count 1. Possible class labels are 0-0\n",
            "\u001b[34m\u001b[1mtrain: \u001b[0mWARNING ⚠️ /content/Pineapple Ripeness Detection.v3i.yolov8/train/images/IMG_0897_JPG.rf.a2da2a64363f0d01704ef761b428c350.jpg: ignoring corrupt image/label: Label class 1 exceeds dataset class count 1. Possible class labels are 0-0\n",
            "\u001b[34m\u001b[1mtrain: \u001b[0mWARNING ⚠️ /content/Pineapple Ripeness Detection.v3i.yolov8/train/images/IMG_0898_JPG.rf.2f401fe78d73c4094f5c7aeb4a46ad76.jpg: ignoring corrupt image/label: Label class 1 exceeds dataset class count 1. Possible class labels are 0-0\n",
            "\u001b[34m\u001b[1mtrain: \u001b[0mWARNING ⚠️ /content/Pineapple Ripeness Detection.v3i.yolov8/train/images/IMG_0898_JPG.rf.4eff6775ff5173bc3b2780cf2f9d21d6.jpg: ignoring corrupt image/label: Label class 1 exceeds dataset class count 1. Possible class labels are 0-0\n",
            "\u001b[34m\u001b[1mtrain: \u001b[0mWARNING ⚠️ /content/Pineapple Ripeness Detection.v3i.yolov8/train/images/IMG_0898_JPG.rf.5d3d8f8008096b575526600b2e834275.jpg: ignoring corrupt image/label: Label class 1 exceeds dataset class count 1. Possible class labels are 0-0\n",
            "\u001b[34m\u001b[1mtrain: \u001b[0mWARNING ⚠️ /content/Pineapple Ripeness Detection.v3i.yolov8/train/images/IMG_0900_JPG.rf.37d06ed98d6101da667c6ec690d735ef.jpg: ignoring corrupt image/label: Label class 1 exceeds dataset class count 1. Possible class labels are 0-0\n",
            "\u001b[34m\u001b[1mtrain: \u001b[0mWARNING ⚠️ /content/Pineapple Ripeness Detection.v3i.yolov8/train/images/IMG_0900_JPG.rf.5c09afc7f17142a21728153c24410c6a.jpg: ignoring corrupt image/label: Label class 1 exceeds dataset class count 1. Possible class labels are 0-0\n",
            "\u001b[34m\u001b[1mtrain: \u001b[0mWARNING ⚠️ /content/Pineapple Ripeness Detection.v3i.yolov8/train/images/IMG_0900_JPG.rf.c237743ddec4b2d8d95ce473fe82d98d.jpg: ignoring corrupt image/label: Label class 1 exceeds dataset class count 1. Possible class labels are 0-0\n",
            "\u001b[34m\u001b[1mtrain: \u001b[0mWARNING ⚠️ /content/Pineapple Ripeness Detection.v3i.yolov8/train/images/IMG_0904_JPG.rf.0b719df75b0c9bd6ec958ebdf13e2fcd.jpg: ignoring corrupt image/label: Label class 1 exceeds dataset class count 1. Possible class labels are 0-0\n",
            "\u001b[34m\u001b[1mtrain: \u001b[0mWARNING ⚠️ /content/Pineapple Ripeness Detection.v3i.yolov8/train/images/IMG_0904_JPG.rf.409358d83995aea9fd4e2adfc05bf963.jpg: ignoring corrupt image/label: Label class 1 exceeds dataset class count 1. Possible class labels are 0-0\n",
            "\u001b[34m\u001b[1mtrain: \u001b[0mWARNING ⚠️ /content/Pineapple Ripeness Detection.v3i.yolov8/train/images/IMG_0904_JPG.rf.db9e48c740df062e32f8defe4a21d78b.jpg: ignoring corrupt image/label: Label class 1 exceeds dataset class count 1. Possible class labels are 0-0\n",
            "\u001b[34m\u001b[1mtrain: \u001b[0mWARNING ⚠️ /content/Pineapple Ripeness Detection.v3i.yolov8/train/images/IMG_0905_JPG.rf.599c849e278bc6f2f744b8057248052c.jpg: ignoring corrupt image/label: Label class 1 exceeds dataset class count 1. Possible class labels are 0-0\n",
            "\u001b[34m\u001b[1mtrain: \u001b[0mWARNING ⚠️ /content/Pineapple Ripeness Detection.v3i.yolov8/train/images/IMG_0905_JPG.rf.88a49659717ee3f00cce905e22aca1ad.jpg: ignoring corrupt image/label: Label class 1 exceeds dataset class count 1. Possible class labels are 0-0\n",
            "\u001b[34m\u001b[1mtrain: \u001b[0mWARNING ⚠️ /content/Pineapple Ripeness Detection.v3i.yolov8/train/images/IMG_0905_JPG.rf.bbfe544887778f18473eade8bf789568.jpg: ignoring corrupt image/label: Label class 1 exceeds dataset class count 1. Possible class labels are 0-0\n",
            "\u001b[34m\u001b[1mtrain: \u001b[0mWARNING ⚠️ /content/Pineapple Ripeness Detection.v3i.yolov8/train/images/IMG_0906_JPG.rf.90bfc33463dc8966ba3bed8bcbd9a0a9.jpg: ignoring corrupt image/label: Label class 1 exceeds dataset class count 1. Possible class labels are 0-0\n",
            "\u001b[34m\u001b[1mtrain: \u001b[0mWARNING ⚠️ /content/Pineapple Ripeness Detection.v3i.yolov8/train/images/IMG_0906_JPG.rf.a794303b3399b88082d4cc8a84c0a07b.jpg: ignoring corrupt image/label: Label class 1 exceeds dataset class count 1. Possible class labels are 0-0\n",
            "\u001b[34m\u001b[1mtrain: \u001b[0mWARNING ⚠️ /content/Pineapple Ripeness Detection.v3i.yolov8/train/images/IMG_0906_JPG.rf.e5bc64e8f0d3641f26881f0d10fb66cf.jpg: ignoring corrupt image/label: Label class 1 exceeds dataset class count 1. Possible class labels are 0-0\n",
            "\u001b[34m\u001b[1mtrain: \u001b[0mWARNING ⚠️ /content/Pineapple Ripeness Detection.v3i.yolov8/train/images/IMG_0909_JPG.rf.0822f856a50557594d07f70f2b22927f.jpg: ignoring corrupt image/label: Label class 1 exceeds dataset class count 1. Possible class labels are 0-0\n",
            "\u001b[34m\u001b[1mtrain: \u001b[0mWARNING ⚠️ /content/Pineapple Ripeness Detection.v3i.yolov8/train/images/IMG_0909_JPG.rf.22fce9f21255b7ad85bcc5f2f0f21e04.jpg: ignoring corrupt image/label: Label class 1 exceeds dataset class count 1. Possible class labels are 0-0\n",
            "\u001b[34m\u001b[1mtrain: \u001b[0mWARNING ⚠️ /content/Pineapple Ripeness Detection.v3i.yolov8/train/images/IMG_0909_JPG.rf.357ac72309f969a8f8810f01f5350b77.jpg: ignoring corrupt image/label: Label class 1 exceeds dataset class count 1. Possible class labels are 0-0\n",
            "\u001b[34m\u001b[1mtrain: \u001b[0mWARNING ⚠️ /content/Pineapple Ripeness Detection.v3i.yolov8/train/images/IMG_0911_JPG.rf.0f544ec58a5e65fed2798597acd5dbd2.jpg: ignoring corrupt image/label: Label class 1 exceeds dataset class count 1. Possible class labels are 0-0\n",
            "\u001b[34m\u001b[1mtrain: \u001b[0mWARNING ⚠️ /content/Pineapple Ripeness Detection.v3i.yolov8/train/images/IMG_0911_JPG.rf.8238a8e3507683022809d3efb108643e.jpg: ignoring corrupt image/label: Label class 1 exceeds dataset class count 1. Possible class labels are 0-0\n",
            "\u001b[34m\u001b[1mtrain: \u001b[0mWARNING ⚠️ /content/Pineapple Ripeness Detection.v3i.yolov8/train/images/IMG_0911_JPG.rf.e169a6b4ad209284b5ac09efa6b349fe.jpg: ignoring corrupt image/label: Label class 1 exceeds dataset class count 1. Possible class labels are 0-0\n",
            "\u001b[34m\u001b[1mtrain: \u001b[0mWARNING ⚠️ /content/Pineapple Ripeness Detection.v3i.yolov8/train/images/IMG_0913_JPG.rf.8c750ebd0c195379c5d32de96b0549cf.jpg: ignoring corrupt image/label: Label class 1 exceeds dataset class count 1. Possible class labels are 0-0\n",
            "\u001b[34m\u001b[1mtrain: \u001b[0mWARNING ⚠️ /content/Pineapple Ripeness Detection.v3i.yolov8/train/images/IMG_0913_JPG.rf.adb98fe95152733166753ff78ac83abf.jpg: ignoring corrupt image/label: Label class 1 exceeds dataset class count 1. Possible class labels are 0-0\n",
            "\u001b[34m\u001b[1mtrain: \u001b[0mWARNING ⚠️ /content/Pineapple Ripeness Detection.v3i.yolov8/train/images/IMG_0913_JPG.rf.f0a2d0d9d71c1b61bb8a31a739455af0.jpg: ignoring corrupt image/label: Label class 1 exceeds dataset class count 1. Possible class labels are 0-0\n",
            "\u001b[34m\u001b[1mtrain: \u001b[0mWARNING ⚠️ /content/Pineapple Ripeness Detection.v3i.yolov8/train/images/IMG_0916_JPG.rf.8c872604a2bebc805f597353487e6a7b.jpg: ignoring corrupt image/label: Label class 1 exceeds dataset class count 1. Possible class labels are 0-0\n",
            "\u001b[34m\u001b[1mtrain: \u001b[0mWARNING ⚠️ /content/Pineapple Ripeness Detection.v3i.yolov8/train/images/IMG_0916_JPG.rf.c7479b098273bc0f8c916df5c4728dda.jpg: ignoring corrupt image/label: Label class 1 exceeds dataset class count 1. Possible class labels are 0-0\n",
            "\u001b[34m\u001b[1mtrain: \u001b[0mWARNING ⚠️ /content/Pineapple Ripeness Detection.v3i.yolov8/train/images/IMG_0916_JPG.rf.ff149146cd616cafcc5a1e6ba1a886c3.jpg: ignoring corrupt image/label: Label class 1 exceeds dataset class count 1. Possible class labels are 0-0\n",
            "\u001b[34m\u001b[1mtrain: \u001b[0mWARNING ⚠️ /content/Pineapple Ripeness Detection.v3i.yolov8/train/images/IMG_0918_JPG.rf.357e2dd142353c7ca67d6dc8f8f93923.jpg: ignoring corrupt image/label: Label class 1 exceeds dataset class count 1. Possible class labels are 0-0\n",
            "\u001b[34m\u001b[1mtrain: \u001b[0mWARNING ⚠️ /content/Pineapple Ripeness Detection.v3i.yolov8/train/images/IMG_0918_JPG.rf.6334e33e02c0c440d9eeee41ed7e5328.jpg: ignoring corrupt image/label: Label class 1 exceeds dataset class count 1. Possible class labels are 0-0\n",
            "\u001b[34m\u001b[1mtrain: \u001b[0mWARNING ⚠️ /content/Pineapple Ripeness Detection.v3i.yolov8/train/images/IMG_0918_JPG.rf.b1d32a140c5529d04f47d334b17c9ff7.jpg: ignoring corrupt image/label: Label class 1 exceeds dataset class count 1. Possible class labels are 0-0\n",
            "\u001b[34m\u001b[1mtrain: \u001b[0mWARNING ⚠️ /content/Pineapple Ripeness Detection.v3i.yolov8/train/images/IMG_0919_JPG.rf.4abc5ed625a37169af75edc840eaa2e5.jpg: ignoring corrupt image/label: Label class 1 exceeds dataset class count 1. Possible class labels are 0-0\n",
            "\u001b[34m\u001b[1mtrain: \u001b[0mWARNING ⚠️ /content/Pineapple Ripeness Detection.v3i.yolov8/train/images/IMG_0919_JPG.rf.65949db5657860bbb002ed4715a937cb.jpg: ignoring corrupt image/label: Label class 1 exceeds dataset class count 1. Possible class labels are 0-0\n",
            "\u001b[34m\u001b[1mtrain: \u001b[0mWARNING ⚠️ /content/Pineapple Ripeness Detection.v3i.yolov8/train/images/IMG_0919_JPG.rf.7e2d83caab731f182f05a1c9c5d507dd.jpg: ignoring corrupt image/label: Label class 1 exceeds dataset class count 1. Possible class labels are 0-0\n",
            "\u001b[34m\u001b[1mtrain: \u001b[0mWARNING ⚠️ /content/Pineapple Ripeness Detection.v3i.yolov8/train/images/IMG_0920_JPG.rf.36904fe56dcffcffc5ba8a8c0c87f44b.jpg: ignoring corrupt image/label: Label class 1 exceeds dataset class count 1. Possible class labels are 0-0\n",
            "\u001b[34m\u001b[1mtrain: \u001b[0mWARNING ⚠️ /content/Pineapple Ripeness Detection.v3i.yolov8/train/images/IMG_0920_JPG.rf.59b297f3eaab4b251708bf7e4dd0fb64.jpg: ignoring corrupt image/label: Label class 1 exceeds dataset class count 1. Possible class labels are 0-0\n",
            "\u001b[34m\u001b[1mtrain: \u001b[0mWARNING ⚠️ /content/Pineapple Ripeness Detection.v3i.yolov8/train/images/IMG_0920_JPG.rf.d9b23d9a84c849e24c368fadf3c210a0.jpg: ignoring corrupt image/label: Label class 1 exceeds dataset class count 1. Possible class labels are 0-0\n",
            "\u001b[34m\u001b[1mtrain: \u001b[0mWARNING ⚠️ /content/Pineapple Ripeness Detection.v3i.yolov8/train/images/IMG_0921_JPG.rf.11fb5cfaf694d8067bc68b23e579ab32.jpg: ignoring corrupt image/label: Label class 1 exceeds dataset class count 1. Possible class labels are 0-0\n",
            "\u001b[34m\u001b[1mtrain: \u001b[0mWARNING ⚠️ /content/Pineapple Ripeness Detection.v3i.yolov8/train/images/IMG_0921_JPG.rf.4a67378e9e99687d3308bdd9a8e502fb.jpg: ignoring corrupt image/label: Label class 1 exceeds dataset class count 1. Possible class labels are 0-0\n",
            "\u001b[34m\u001b[1mtrain: \u001b[0mWARNING ⚠️ /content/Pineapple Ripeness Detection.v3i.yolov8/train/images/IMG_0921_JPG.rf.bd12032fd71c9e789d40a9ae584d0cfa.jpg: ignoring corrupt image/label: Label class 1 exceeds dataset class count 1. Possible class labels are 0-0\n",
            "\u001b[34m\u001b[1mtrain: \u001b[0mWARNING ⚠️ /content/Pineapple Ripeness Detection.v3i.yolov8/train/images/IMG_0922_JPG.rf.555d5411706399d009a8d5e96bb7d82d.jpg: ignoring corrupt image/label: Label class 1 exceeds dataset class count 1. Possible class labels are 0-0\n",
            "\u001b[34m\u001b[1mtrain: \u001b[0mWARNING ⚠️ /content/Pineapple Ripeness Detection.v3i.yolov8/train/images/IMG_0922_JPG.rf.e05f25e270fe5d067cb2cc030f1d78ae.jpg: ignoring corrupt image/label: Label class 1 exceeds dataset class count 1. Possible class labels are 0-0\n",
            "\u001b[34m\u001b[1mtrain: \u001b[0mWARNING ⚠️ /content/Pineapple Ripeness Detection.v3i.yolov8/train/images/IMG_0922_JPG.rf.f1f4269cb82c08fb0bb7c2b31fec7e4a.jpg: ignoring corrupt image/label: Label class 1 exceeds dataset class count 1. Possible class labels are 0-0\n",
            "\u001b[34m\u001b[1mtrain: \u001b[0mWARNING ⚠️ /content/Pineapple Ripeness Detection.v3i.yolov8/train/images/IMG_0923_JPG.rf.07c10d919a3887d8f444bbe6a35bd0ef.jpg: ignoring corrupt image/label: Label class 1 exceeds dataset class count 1. Possible class labels are 0-0\n",
            "\u001b[34m\u001b[1mtrain: \u001b[0mWARNING ⚠️ /content/Pineapple Ripeness Detection.v3i.yolov8/train/images/IMG_0923_JPG.rf.427f403e94d046cf8f579c8c64a47933.jpg: ignoring corrupt image/label: Label class 1 exceeds dataset class count 1. Possible class labels are 0-0\n",
            "\u001b[34m\u001b[1mtrain: \u001b[0mWARNING ⚠️ /content/Pineapple Ripeness Detection.v3i.yolov8/train/images/IMG_0923_JPG.rf.604c6652d4b6d7f8a262816b00a4d35e.jpg: ignoring corrupt image/label: Label class 1 exceeds dataset class count 1. Possible class labels are 0-0\n",
            "\u001b[34m\u001b[1mtrain: \u001b[0mWARNING ⚠️ /content/Pineapple Ripeness Detection.v3i.yolov8/train/images/IMG_0928_JPG.rf.193b83071d8f216a98541dfb2d05ddcd.jpg: ignoring corrupt image/label: Label class 1 exceeds dataset class count 1. Possible class labels are 0-0\n",
            "\u001b[34m\u001b[1mtrain: \u001b[0mWARNING ⚠️ /content/Pineapple Ripeness Detection.v3i.yolov8/train/images/IMG_0928_JPG.rf.6f3e27d0db0855db5c345701ec90626e.jpg: ignoring corrupt image/label: Label class 1 exceeds dataset class count 1. Possible class labels are 0-0\n",
            "\u001b[34m\u001b[1mtrain: \u001b[0mWARNING ⚠️ /content/Pineapple Ripeness Detection.v3i.yolov8/train/images/IMG_0928_JPG.rf.7f88c858dbcb02b884b5a2dae40e1edf.jpg: ignoring corrupt image/label: Label class 1 exceeds dataset class count 1. Possible class labels are 0-0\n",
            "\u001b[34m\u001b[1mtrain: \u001b[0mWARNING ⚠️ /content/Pineapple Ripeness Detection.v3i.yolov8/train/images/IMG_0929_JPG.rf.1f3620ae255a5580c3fff6d2e83eef1b.jpg: ignoring corrupt image/label: Label class 1 exceeds dataset class count 1. Possible class labels are 0-0\n",
            "\u001b[34m\u001b[1mtrain: \u001b[0mWARNING ⚠️ /content/Pineapple Ripeness Detection.v3i.yolov8/train/images/IMG_0929_JPG.rf.b275d51a0fbcfb2fe8e5d75fa21c7112.jpg: ignoring corrupt image/label: Label class 1 exceeds dataset class count 1. Possible class labels are 0-0\n",
            "\u001b[34m\u001b[1mtrain: \u001b[0mWARNING ⚠️ /content/Pineapple Ripeness Detection.v3i.yolov8/train/images/IMG_0929_JPG.rf.f9fca7429098f5ee6807fe591bc669fb.jpg: ignoring corrupt image/label: Label class 1 exceeds dataset class count 1. Possible class labels are 0-0\n",
            "\u001b[34m\u001b[1mtrain: \u001b[0mWARNING ⚠️ /content/Pineapple Ripeness Detection.v3i.yolov8/train/images/IMG_0932_JPG.rf.46eb7e09524bc555f97d45a39250229e.jpg: ignoring corrupt image/label: Label class 1 exceeds dataset class count 1. Possible class labels are 0-0\n",
            "\u001b[34m\u001b[1mtrain: \u001b[0mWARNING ⚠️ /content/Pineapple Ripeness Detection.v3i.yolov8/train/images/IMG_0932_JPG.rf.ac75799f819a35d7231b6c06a5489695.jpg: ignoring corrupt image/label: Label class 1 exceeds dataset class count 1. Possible class labels are 0-0\n",
            "\u001b[34m\u001b[1mtrain: \u001b[0mWARNING ⚠️ /content/Pineapple Ripeness Detection.v3i.yolov8/train/images/IMG_0932_JPG.rf.d1c3c28a5e74ff5881626bfdf2694d92.jpg: ignoring corrupt image/label: Label class 1 exceeds dataset class count 1. Possible class labels are 0-0\n",
            "\u001b[34m\u001b[1mtrain: \u001b[0mWARNING ⚠️ /content/Pineapple Ripeness Detection.v3i.yolov8/train/images/IMG_0935_JPG.rf.0faf32fcbe28ca37e5b405d784043bc5.jpg: ignoring corrupt image/label: Label class 1 exceeds dataset class count 1. Possible class labels are 0-0\n",
            "\u001b[34m\u001b[1mtrain: \u001b[0mWARNING ⚠️ /content/Pineapple Ripeness Detection.v3i.yolov8/train/images/IMG_0935_JPG.rf.5baa86a7265631231dac6a2af3e97705.jpg: ignoring corrupt image/label: Label class 1 exceeds dataset class count 1. Possible class labels are 0-0\n",
            "\u001b[34m\u001b[1mtrain: \u001b[0mWARNING ⚠️ /content/Pineapple Ripeness Detection.v3i.yolov8/train/images/IMG_0935_JPG.rf.ed7f7413a7e5a11639e7a1069f461984.jpg: ignoring corrupt image/label: Label class 1 exceeds dataset class count 1. Possible class labels are 0-0\n",
            "\u001b[34m\u001b[1mtrain: \u001b[0mWARNING ⚠️ /content/Pineapple Ripeness Detection.v3i.yolov8/train/images/IMG_0936_JPG.rf.080e1fb12f2863e5aabaa7404b0b7375.jpg: ignoring corrupt image/label: Label class 1 exceeds dataset class count 1. Possible class labels are 0-0\n",
            "\u001b[34m\u001b[1mtrain: \u001b[0mWARNING ⚠️ /content/Pineapple Ripeness Detection.v3i.yolov8/train/images/IMG_0936_JPG.rf.80157a1ff312f7fc1f8ef1dd5e3a1e23.jpg: ignoring corrupt image/label: Label class 1 exceeds dataset class count 1. Possible class labels are 0-0\n",
            "\u001b[34m\u001b[1mtrain: \u001b[0mWARNING ⚠️ /content/Pineapple Ripeness Detection.v3i.yolov8/train/images/IMG_0936_JPG.rf.ee1c49a6dc0fbefe5a68ab391502d393.jpg: ignoring corrupt image/label: Label class 1 exceeds dataset class count 1. Possible class labels are 0-0\n",
            "\u001b[34m\u001b[1mtrain: \u001b[0mWARNING ⚠️ /content/Pineapple Ripeness Detection.v3i.yolov8/train/images/IMG_0937_JPG.rf.0b4f08a35046e483ed89069ec20816c7.jpg: ignoring corrupt image/label: Label class 1 exceeds dataset class count 1. Possible class labels are 0-0\n",
            "\u001b[34m\u001b[1mtrain: \u001b[0mWARNING ⚠️ /content/Pineapple Ripeness Detection.v3i.yolov8/train/images/IMG_0937_JPG.rf.167a689735ffc06aecb8ab57a158e038.jpg: ignoring corrupt image/label: Label class 1 exceeds dataset class count 1. Possible class labels are 0-0\n",
            "\u001b[34m\u001b[1mtrain: \u001b[0mWARNING ⚠️ /content/Pineapple Ripeness Detection.v3i.yolov8/train/images/IMG_0937_JPG.rf.7b39cf864c9f362c489033af636402b7.jpg: ignoring corrupt image/label: Label class 1 exceeds dataset class count 1. Possible class labels are 0-0\n",
            "\u001b[34m\u001b[1mtrain: \u001b[0mWARNING ⚠️ /content/Pineapple Ripeness Detection.v3i.yolov8/train/images/IMG_0944_JPG.rf.72dfc07d4a79038021ec6dfba0193845.jpg: ignoring corrupt image/label: Label class 1 exceeds dataset class count 1. Possible class labels are 0-0\n",
            "\u001b[34m\u001b[1mtrain: \u001b[0mWARNING ⚠️ /content/Pineapple Ripeness Detection.v3i.yolov8/train/images/IMG_0944_JPG.rf.7eaa43f2a5f72877ed62d0bc942f5505.jpg: ignoring corrupt image/label: Label class 1 exceeds dataset class count 1. Possible class labels are 0-0\n",
            "\u001b[34m\u001b[1mtrain: \u001b[0mWARNING ⚠️ /content/Pineapple Ripeness Detection.v3i.yolov8/train/images/IMG_0944_JPG.rf.944a7ec7ebcfff6ab29f8abc2414bfe3.jpg: ignoring corrupt image/label: Label class 1 exceeds dataset class count 1. Possible class labels are 0-0\n",
            "\u001b[34m\u001b[1mtrain: \u001b[0mWARNING ⚠️ /content/Pineapple Ripeness Detection.v3i.yolov8/train/images/IMG_0950_JPG.rf.0047ca76663e1256276ab49343818112.jpg: ignoring corrupt image/label: Label class 1 exceeds dataset class count 1. Possible class labels are 0-0\n",
            "\u001b[34m\u001b[1mtrain: \u001b[0mWARNING ⚠️ /content/Pineapple Ripeness Detection.v3i.yolov8/train/images/IMG_0950_JPG.rf.4a1a577ebf00b741673cac54f4a6634f.jpg: ignoring corrupt image/label: Label class 1 exceeds dataset class count 1. Possible class labels are 0-0\n",
            "\u001b[34m\u001b[1mtrain: \u001b[0mWARNING ⚠️ /content/Pineapple Ripeness Detection.v3i.yolov8/train/images/IMG_0950_JPG.rf.5a966bc8755387e0c5eb64f6709c75b9.jpg: ignoring corrupt image/label: Label class 1 exceeds dataset class count 1. Possible class labels are 0-0\n",
            "\u001b[34m\u001b[1mtrain: \u001b[0mWARNING ⚠️ /content/Pineapple Ripeness Detection.v3i.yolov8/train/images/IMG_0951_JPG.rf.82f43e51321b1d550367510957f0d45f.jpg: ignoring corrupt image/label: Label class 1 exceeds dataset class count 1. Possible class labels are 0-0\n",
            "\u001b[34m\u001b[1mtrain: \u001b[0mWARNING ⚠️ /content/Pineapple Ripeness Detection.v3i.yolov8/train/images/IMG_0951_JPG.rf.a9c824481cc42f903b3ac5f6c9acfa96.jpg: ignoring corrupt image/label: Label class 1 exceeds dataset class count 1. Possible class labels are 0-0\n",
            "\u001b[34m\u001b[1mtrain: \u001b[0mWARNING ⚠️ /content/Pineapple Ripeness Detection.v3i.yolov8/train/images/IMG_0951_JPG.rf.e81a1b195be0e6e649840d73d9e5be25.jpg: ignoring corrupt image/label: Label class 1 exceeds dataset class count 1. Possible class labels are 0-0\n",
            "\u001b[34m\u001b[1mtrain: \u001b[0mWARNING ⚠️ /content/Pineapple Ripeness Detection.v3i.yolov8/train/images/IMG_0952_JPG.rf.20bd5d3104ac80a06f18e7ff12319a8e.jpg: ignoring corrupt image/label: Label class 1 exceeds dataset class count 1. Possible class labels are 0-0\n",
            "\u001b[34m\u001b[1mtrain: \u001b[0mWARNING ⚠️ /content/Pineapple Ripeness Detection.v3i.yolov8/train/images/IMG_0952_JPG.rf.27d3f5ba8cde111880f04cbd2c678861.jpg: ignoring corrupt image/label: Label class 1 exceeds dataset class count 1. Possible class labels are 0-0\n",
            "\u001b[34m\u001b[1mtrain: \u001b[0mWARNING ⚠️ /content/Pineapple Ripeness Detection.v3i.yolov8/train/images/IMG_0952_JPG.rf.bd7697260cd9dfd29fda4963ab76f485.jpg: ignoring corrupt image/label: Label class 1 exceeds dataset class count 1. Possible class labels are 0-0\n",
            "\u001b[34m\u001b[1mtrain: \u001b[0mWARNING ⚠️ /content/Pineapple Ripeness Detection.v3i.yolov8/train/images/IMG_0954_JPG.rf.54fd2d8b9ec6093d50da7501b4f28a44.jpg: ignoring corrupt image/label: Label class 1 exceeds dataset class count 1. Possible class labels are 0-0\n",
            "\u001b[34m\u001b[1mtrain: \u001b[0mWARNING ⚠️ /content/Pineapple Ripeness Detection.v3i.yolov8/train/images/IMG_0954_JPG.rf.63b56ff8d9c1fdfd4de52ca846083b6a.jpg: ignoring corrupt image/label: Label class 1 exceeds dataset class count 1. Possible class labels are 0-0\n",
            "\u001b[34m\u001b[1mtrain: \u001b[0mWARNING ⚠️ /content/Pineapple Ripeness Detection.v3i.yolov8/train/images/IMG_0954_JPG.rf.7ad054efa2dff1c1f04810eaa9bf4fc8.jpg: ignoring corrupt image/label: Label class 1 exceeds dataset class count 1. Possible class labels are 0-0\n",
            "\u001b[34m\u001b[1mtrain: \u001b[0mWARNING ⚠️ /content/Pineapple Ripeness Detection.v3i.yolov8/train/images/IMG_0956_JPG.rf.29e3cde7da43b21ee07f551f6d2dec3b.jpg: ignoring corrupt image/label: Label class 1 exceeds dataset class count 1. Possible class labels are 0-0\n",
            "\u001b[34m\u001b[1mtrain: \u001b[0mWARNING ⚠️ /content/Pineapple Ripeness Detection.v3i.yolov8/train/images/IMG_0956_JPG.rf.afd61636492feddff75170d2afa20b2b.jpg: ignoring corrupt image/label: Label class 1 exceeds dataset class count 1. Possible class labels are 0-0\n",
            "\u001b[34m\u001b[1mtrain: \u001b[0mWARNING ⚠️ /content/Pineapple Ripeness Detection.v3i.yolov8/train/images/IMG_0956_JPG.rf.f9efc99158b0ab603fc0d60cccf0e6bf.jpg: ignoring corrupt image/label: Label class 1 exceeds dataset class count 1. Possible class labels are 0-0\n",
            "\u001b[34m\u001b[1mtrain: \u001b[0mWARNING ⚠️ /content/Pineapple Ripeness Detection.v3i.yolov8/train/images/IMG_0957_JPG.rf.a436fbc9b577e8d45e8776264a0beb1d.jpg: ignoring corrupt image/label: Label class 1 exceeds dataset class count 1. Possible class labels are 0-0\n",
            "\u001b[34m\u001b[1mtrain: \u001b[0mWARNING ⚠️ /content/Pineapple Ripeness Detection.v3i.yolov8/train/images/IMG_0957_JPG.rf.cf9490bc6b523a88f2e07e6db17538b3.jpg: ignoring corrupt image/label: Label class 1 exceeds dataset class count 1. Possible class labels are 0-0\n",
            "\u001b[34m\u001b[1mtrain: \u001b[0mWARNING ⚠️ /content/Pineapple Ripeness Detection.v3i.yolov8/train/images/IMG_0957_JPG.rf.f58b8431bbc67caac37554420e6fb4ca.jpg: ignoring corrupt image/label: Label class 1 exceeds dataset class count 1. Possible class labels are 0-0\n",
            "\u001b[34m\u001b[1mtrain: \u001b[0mWARNING ⚠️ /content/Pineapple Ripeness Detection.v3i.yolov8/train/images/IMG_0961_JPG.rf.3b681eeaa3a345a7c91200a71c1b4e0b.jpg: ignoring corrupt image/label: Label class 1 exceeds dataset class count 1. Possible class labels are 0-0\n",
            "\u001b[34m\u001b[1mtrain: \u001b[0mWARNING ⚠️ /content/Pineapple Ripeness Detection.v3i.yolov8/train/images/IMG_0961_JPG.rf.966e3195468c6188916e0198632a5f4a.jpg: ignoring corrupt image/label: Label class 1 exceeds dataset class count 1. Possible class labels are 0-0\n",
            "\u001b[34m\u001b[1mtrain: \u001b[0mWARNING ⚠️ /content/Pineapple Ripeness Detection.v3i.yolov8/train/images/IMG_0961_JPG.rf.f8674b36533da4bbd20c27c90f344b3b.jpg: ignoring corrupt image/label: Label class 1 exceeds dataset class count 1. Possible class labels are 0-0\n",
            "\u001b[34m\u001b[1mtrain: \u001b[0mWARNING ⚠️ /content/Pineapple Ripeness Detection.v3i.yolov8/train/images/IMG_0962_JPG.rf.752ea0ccd84b22aaf031472ec8b25626.jpg: ignoring corrupt image/label: Label class 1 exceeds dataset class count 1. Possible class labels are 0-0\n",
            "\u001b[34m\u001b[1mtrain: \u001b[0mWARNING ⚠️ /content/Pineapple Ripeness Detection.v3i.yolov8/train/images/IMG_0962_JPG.rf.ab78f4aa0ba4e0b070dabaec5a76590f.jpg: ignoring corrupt image/label: Label class 1 exceeds dataset class count 1. Possible class labels are 0-0\n",
            "\u001b[34m\u001b[1mtrain: \u001b[0mWARNING ⚠️ /content/Pineapple Ripeness Detection.v3i.yolov8/train/images/IMG_0962_JPG.rf.cc64ccc75060948b50cd26d954ddc1e5.jpg: ignoring corrupt image/label: Label class 1 exceeds dataset class count 1. Possible class labels are 0-0\n",
            "\u001b[34m\u001b[1mtrain: \u001b[0mWARNING ⚠️ /content/Pineapple Ripeness Detection.v3i.yolov8/train/images/IMG_0964_JPG.rf.12fbbea2bfe6b2694ac5dd4ef71557b5.jpg: ignoring corrupt image/label: Label class 1 exceeds dataset class count 1. Possible class labels are 0-0\n",
            "\u001b[34m\u001b[1mtrain: \u001b[0mWARNING ⚠️ /content/Pineapple Ripeness Detection.v3i.yolov8/train/images/IMG_0964_JPG.rf.362f19d1c62c0350632e3884dbc5e1e7.jpg: ignoring corrupt image/label: Label class 1 exceeds dataset class count 1. Possible class labels are 0-0\n",
            "\u001b[34m\u001b[1mtrain: \u001b[0mWARNING ⚠️ /content/Pineapple Ripeness Detection.v3i.yolov8/train/images/IMG_0964_JPG.rf.887b46e7ada301956e6646ba8e6eac3e.jpg: ignoring corrupt image/label: Label class 1 exceeds dataset class count 1. Possible class labels are 0-0\n",
            "\u001b[34m\u001b[1mtrain: \u001b[0mWARNING ⚠️ /content/Pineapple Ripeness Detection.v3i.yolov8/train/images/IMG_0965_JPG.rf.3db905935d90e5aafb8bf5f5e0c4b517.jpg: ignoring corrupt image/label: Label class 1 exceeds dataset class count 1. Possible class labels are 0-0\n",
            "\u001b[34m\u001b[1mtrain: \u001b[0mWARNING ⚠️ /content/Pineapple Ripeness Detection.v3i.yolov8/train/images/IMG_0965_JPG.rf.660c1f0645222d7bdacf0681a2bf7b1e.jpg: ignoring corrupt image/label: Label class 1 exceeds dataset class count 1. Possible class labels are 0-0\n",
            "\u001b[34m\u001b[1mtrain: \u001b[0mWARNING ⚠️ /content/Pineapple Ripeness Detection.v3i.yolov8/train/images/IMG_0965_JPG.rf.d343b3c7429087bb2a102afe82e72a27.jpg: ignoring corrupt image/label: Label class 1 exceeds dataset class count 1. Possible class labels are 0-0\n",
            "\u001b[34m\u001b[1mtrain: \u001b[0mWARNING ⚠️ /content/Pineapple Ripeness Detection.v3i.yolov8/train/images/IMG_0970_JPG.rf.08241550b5f028896f8e713195c80ae3.jpg: ignoring corrupt image/label: Label class 1 exceeds dataset class count 1. Possible class labels are 0-0\n",
            "\u001b[34m\u001b[1mtrain: \u001b[0mWARNING ⚠️ /content/Pineapple Ripeness Detection.v3i.yolov8/train/images/IMG_0970_JPG.rf.3c76d3c308c166c20e4e9eefc88adb49.jpg: ignoring corrupt image/label: Label class 1 exceeds dataset class count 1. Possible class labels are 0-0\n",
            "\u001b[34m\u001b[1mtrain: \u001b[0mWARNING ⚠️ /content/Pineapple Ripeness Detection.v3i.yolov8/train/images/IMG_0970_JPG.rf.47edb7e371d4c581e1d87e53fd4108be.jpg: ignoring corrupt image/label: Label class 1 exceeds dataset class count 1. Possible class labels are 0-0\n",
            "\u001b[34m\u001b[1mtrain: \u001b[0mWARNING ⚠️ /content/Pineapple Ripeness Detection.v3i.yolov8/train/images/IMG_0971_JPG.rf.1e8eb8a6d70a2e1bba3356d20775b546.jpg: ignoring corrupt image/label: Label class 1 exceeds dataset class count 1. Possible class labels are 0-0\n",
            "\u001b[34m\u001b[1mtrain: \u001b[0mWARNING ⚠️ /content/Pineapple Ripeness Detection.v3i.yolov8/train/images/IMG_0971_JPG.rf.4040e68dd85413076e43a110c12462c1.jpg: ignoring corrupt image/label: Label class 1 exceeds dataset class count 1. Possible class labels are 0-0\n",
            "\u001b[34m\u001b[1mtrain: \u001b[0mWARNING ⚠️ /content/Pineapple Ripeness Detection.v3i.yolov8/train/images/IMG_0971_JPG.rf.ffe4f6903b89665845cd464563a8e08e.jpg: ignoring corrupt image/label: Label class 1 exceeds dataset class count 1. Possible class labels are 0-0\n",
            "\u001b[34m\u001b[1mtrain: \u001b[0mWARNING ⚠️ /content/Pineapple Ripeness Detection.v3i.yolov8/train/images/IMG_0972_JPG.rf.552b453ee62b7e56e468429ec1cbc818.jpg: ignoring corrupt image/label: Label class 1 exceeds dataset class count 1. Possible class labels are 0-0\n",
            "\u001b[34m\u001b[1mtrain: \u001b[0mWARNING ⚠️ /content/Pineapple Ripeness Detection.v3i.yolov8/train/images/IMG_0972_JPG.rf.a015afa0f9ebdc2a2cd5369b6c5969b5.jpg: ignoring corrupt image/label: Label class 1 exceeds dataset class count 1. Possible class labels are 0-0\n",
            "\u001b[34m\u001b[1mtrain: \u001b[0mWARNING ⚠️ /content/Pineapple Ripeness Detection.v3i.yolov8/train/images/IMG_0972_JPG.rf.db955fface77bb4c286218f1f42ac282.jpg: ignoring corrupt image/label: Label class 1 exceeds dataset class count 1. Possible class labels are 0-0\n",
            "\u001b[34m\u001b[1mtrain: \u001b[0mWARNING ⚠️ /content/Pineapple Ripeness Detection.v3i.yolov8/train/images/IMG_0973_JPG.rf.0fe07beefc31443656e9c710c674d519.jpg: ignoring corrupt image/label: Label class 1 exceeds dataset class count 1. Possible class labels are 0-0\n",
            "\u001b[34m\u001b[1mtrain: \u001b[0mWARNING ⚠️ /content/Pineapple Ripeness Detection.v3i.yolov8/train/images/IMG_0973_JPG.rf.3b02fac669ce65a0b1ec2886e8c435f6.jpg: ignoring corrupt image/label: Label class 1 exceeds dataset class count 1. Possible class labels are 0-0\n",
            "\u001b[34m\u001b[1mtrain: \u001b[0mWARNING ⚠️ /content/Pineapple Ripeness Detection.v3i.yolov8/train/images/IMG_0973_JPG.rf.4cab51b3b099a4fd4e1b3ede8fc564d0.jpg: ignoring corrupt image/label: Label class 1 exceeds dataset class count 1. Possible class labels are 0-0\n",
            "\u001b[34m\u001b[1mtrain: \u001b[0mWARNING ⚠️ /content/Pineapple Ripeness Detection.v3i.yolov8/train/images/IMG_0975_JPG.rf.04aa9ba88d47a5c2445b056678ebad54.jpg: ignoring corrupt image/label: Label class 1 exceeds dataset class count 1. Possible class labels are 0-0\n",
            "\u001b[34m\u001b[1mtrain: \u001b[0mWARNING ⚠️ /content/Pineapple Ripeness Detection.v3i.yolov8/train/images/IMG_0975_JPG.rf.083eda51dbf5685d1cef78e0cdfab49b.jpg: ignoring corrupt image/label: Label class 1 exceeds dataset class count 1. Possible class labels are 0-0\n",
            "\u001b[34m\u001b[1mtrain: \u001b[0mWARNING ⚠️ /content/Pineapple Ripeness Detection.v3i.yolov8/train/images/IMG_0975_JPG.rf.32bd591be9982e6edf8960de1fd69570.jpg: ignoring corrupt image/label: Label class 1 exceeds dataset class count 1. Possible class labels are 0-0\n",
            "\u001b[34m\u001b[1mtrain: \u001b[0mWARNING ⚠️ /content/Pineapple Ripeness Detection.v3i.yolov8/train/images/IMG_0976_JPG.rf.3625c16c918484d98ef24b56d3049ceb.jpg: ignoring corrupt image/label: Label class 1 exceeds dataset class count 1. Possible class labels are 0-0\n",
            "\u001b[34m\u001b[1mtrain: \u001b[0mWARNING ⚠️ /content/Pineapple Ripeness Detection.v3i.yolov8/train/images/IMG_0976_JPG.rf.4192016d794f2cd44365b8c14cdcac38.jpg: ignoring corrupt image/label: Label class 1 exceeds dataset class count 1. Possible class labels are 0-0\n",
            "\u001b[34m\u001b[1mtrain: \u001b[0mWARNING ⚠️ /content/Pineapple Ripeness Detection.v3i.yolov8/train/images/IMG_0976_JPG.rf.878986718bdef6746031cf98bc2778ce.jpg: ignoring corrupt image/label: Label class 1 exceeds dataset class count 1. Possible class labels are 0-0\n",
            "\u001b[34m\u001b[1mtrain: \u001b[0mWARNING ⚠️ /content/Pineapple Ripeness Detection.v3i.yolov8/train/images/IMG_0977_JPG.rf.395629ab412a213671e845bd76189e32.jpg: ignoring corrupt image/label: Label class 1 exceeds dataset class count 1. Possible class labels are 0-0\n",
            "\u001b[34m\u001b[1mtrain: \u001b[0mWARNING ⚠️ /content/Pineapple Ripeness Detection.v3i.yolov8/train/images/IMG_0977_JPG.rf.3c2daf537b9e2cd72b27ef176f2254b7.jpg: ignoring corrupt image/label: Label class 1 exceeds dataset class count 1. Possible class labels are 0-0\n",
            "\u001b[34m\u001b[1mtrain: \u001b[0mWARNING ⚠️ /content/Pineapple Ripeness Detection.v3i.yolov8/train/images/IMG_0977_JPG.rf.a62acf0a810739587a33caa6d4a4a28c.jpg: ignoring corrupt image/label: Label class 1 exceeds dataset class count 1. Possible class labels are 0-0\n",
            "\u001b[34m\u001b[1mtrain: \u001b[0mWARNING ⚠️ /content/Pineapple Ripeness Detection.v3i.yolov8/train/images/IMG_0979_JPG.rf.14f8a09566896afa6701497ee0036ef9.jpg: ignoring corrupt image/label: Label class 1 exceeds dataset class count 1. Possible class labels are 0-0\n",
            "\u001b[34m\u001b[1mtrain: \u001b[0mWARNING ⚠️ /content/Pineapple Ripeness Detection.v3i.yolov8/train/images/IMG_0979_JPG.rf.5dd6aa97f69789d0384359a9c3b9d81a.jpg: ignoring corrupt image/label: Label class 1 exceeds dataset class count 1. Possible class labels are 0-0\n",
            "\u001b[34m\u001b[1mtrain: \u001b[0mWARNING ⚠️ /content/Pineapple Ripeness Detection.v3i.yolov8/train/images/IMG_0979_JPG.rf.92968117b16bfee3379669cf574a2bc1.jpg: ignoring corrupt image/label: Label class 1 exceeds dataset class count 1. Possible class labels are 0-0\n",
            "\u001b[34m\u001b[1mtrain: \u001b[0mWARNING ⚠️ /content/Pineapple Ripeness Detection.v3i.yolov8/train/images/IMG_0980_JPG.rf.4a3f7f95fe49ac43ca8f4d9d6dbc6599.jpg: ignoring corrupt image/label: Label class 1 exceeds dataset class count 1. Possible class labels are 0-0\n",
            "\u001b[34m\u001b[1mtrain: \u001b[0mWARNING ⚠️ /content/Pineapple Ripeness Detection.v3i.yolov8/train/images/IMG_0980_JPG.rf.605132621a3dd3869536e3e004bd2905.jpg: ignoring corrupt image/label: Label class 1 exceeds dataset class count 1. Possible class labels are 0-0\n",
            "\u001b[34m\u001b[1mtrain: \u001b[0mWARNING ⚠️ /content/Pineapple Ripeness Detection.v3i.yolov8/train/images/IMG_0980_JPG.rf.872f23d8704e8b5f881b794ac2bc126c.jpg: ignoring corrupt image/label: Label class 1 exceeds dataset class count 1. Possible class labels are 0-0\n",
            "\u001b[34m\u001b[1mtrain: \u001b[0mWARNING ⚠️ /content/Pineapple Ripeness Detection.v3i.yolov8/train/images/IMG_0982_JPG.rf.7be2729a3a5231cc0daac3ce35beca28.jpg: ignoring corrupt image/label: Label class 1 exceeds dataset class count 1. Possible class labels are 0-0\n",
            "\u001b[34m\u001b[1mtrain: \u001b[0mWARNING ⚠️ /content/Pineapple Ripeness Detection.v3i.yolov8/train/images/IMG_0982_JPG.rf.bd67e1cd54b5f188da56523569153392.jpg: ignoring corrupt image/label: Label class 1 exceeds dataset class count 1. Possible class labels are 0-0\n",
            "\u001b[34m\u001b[1mtrain: \u001b[0mWARNING ⚠️ /content/Pineapple Ripeness Detection.v3i.yolov8/train/images/IMG_0982_JPG.rf.ee4d436aeef34337ee1e594baabdd649.jpg: ignoring corrupt image/label: Label class 1 exceeds dataset class count 1. Possible class labels are 0-0\n",
            "\u001b[34m\u001b[1mtrain: \u001b[0mWARNING ⚠️ /content/Pineapple Ripeness Detection.v3i.yolov8/train/images/IMG_0984_JPG.rf.22fb25a6156e7957054d183965fcdf6e.jpg: ignoring corrupt image/label: Label class 1 exceeds dataset class count 1. Possible class labels are 0-0\n",
            "\u001b[34m\u001b[1mtrain: \u001b[0mWARNING ⚠️ /content/Pineapple Ripeness Detection.v3i.yolov8/train/images/IMG_0984_JPG.rf.a89a3d7736d5ab48873842569456b2d9.jpg: ignoring corrupt image/label: Label class 1 exceeds dataset class count 1. Possible class labels are 0-0\n",
            "\u001b[34m\u001b[1mtrain: \u001b[0mWARNING ⚠️ /content/Pineapple Ripeness Detection.v3i.yolov8/train/images/IMG_0984_JPG.rf.d8c8d5c33c46d3b35cace053944da2c5.jpg: ignoring corrupt image/label: Label class 1 exceeds dataset class count 1. Possible class labels are 0-0\n",
            "\u001b[34m\u001b[1mtrain: \u001b[0mWARNING ⚠️ /content/Pineapple Ripeness Detection.v3i.yolov8/train/images/IMG_0985_JPG.rf.378911535598896674a4b1d7ebee8f7d.jpg: ignoring corrupt image/label: Label class 1 exceeds dataset class count 1. Possible class labels are 0-0\n",
            "\u001b[34m\u001b[1mtrain: \u001b[0mWARNING ⚠️ /content/Pineapple Ripeness Detection.v3i.yolov8/train/images/IMG_0985_JPG.rf.f2b8028b14e62b8b52ea4197cc3096a8.jpg: ignoring corrupt image/label: Label class 1 exceeds dataset class count 1. Possible class labels are 0-0\n",
            "\u001b[34m\u001b[1mtrain: \u001b[0mWARNING ⚠️ /content/Pineapple Ripeness Detection.v3i.yolov8/train/images/IMG_0985_JPG.rf.fb5de4d386deca76f41441778f5deddc.jpg: ignoring corrupt image/label: Label class 1 exceeds dataset class count 1. Possible class labels are 0-0\n",
            "\u001b[34m\u001b[1mtrain: \u001b[0mWARNING ⚠️ /content/Pineapple Ripeness Detection.v3i.yolov8/train/images/IMG_0986_JPG.rf.817128af985f0b25a8be572160d4d76a.jpg: ignoring corrupt image/label: Label class 1 exceeds dataset class count 1. Possible class labels are 0-0\n",
            "\u001b[34m\u001b[1mtrain: \u001b[0mWARNING ⚠️ /content/Pineapple Ripeness Detection.v3i.yolov8/train/images/IMG_0986_JPG.rf.a04fa979e9e96fe0023a9920009d9997.jpg: ignoring corrupt image/label: Label class 1 exceeds dataset class count 1. Possible class labels are 0-0\n",
            "\u001b[34m\u001b[1mtrain: \u001b[0mWARNING ⚠️ /content/Pineapple Ripeness Detection.v3i.yolov8/train/images/IMG_0986_JPG.rf.a1be45719e2236290c4dcee15eac9293.jpg: ignoring corrupt image/label: Label class 1 exceeds dataset class count 1. Possible class labels are 0-0\n",
            "\u001b[34m\u001b[1mtrain: \u001b[0mWARNING ⚠️ /content/Pineapple Ripeness Detection.v3i.yolov8/train/images/IMG_0988_JPG.rf.19dd2b2ce26304db72163103e83f2a38.jpg: ignoring corrupt image/label: Label class 1 exceeds dataset class count 1. Possible class labels are 0-0\n",
            "\u001b[34m\u001b[1mtrain: \u001b[0mWARNING ⚠️ /content/Pineapple Ripeness Detection.v3i.yolov8/train/images/IMG_0988_JPG.rf.2c6affae51f714294cf03d8e67a8163e.jpg: ignoring corrupt image/label: Label class 1 exceeds dataset class count 1. Possible class labels are 0-0\n",
            "\u001b[34m\u001b[1mtrain: \u001b[0mWARNING ⚠️ /content/Pineapple Ripeness Detection.v3i.yolov8/train/images/IMG_0988_JPG.rf.802aa8d8ec8c1e5f775b23e203820e05.jpg: ignoring corrupt image/label: Label class 1 exceeds dataset class count 1. Possible class labels are 0-0\n",
            "\u001b[34m\u001b[1mtrain: \u001b[0mWARNING ⚠️ /content/Pineapple Ripeness Detection.v3i.yolov8/train/images/IMG_0990_JPG.rf.90df4311de04dcef6d6d125e87b7b56a.jpg: ignoring corrupt image/label: Label class 1 exceeds dataset class count 1. Possible class labels are 0-0\n",
            "\u001b[34m\u001b[1mtrain: \u001b[0mWARNING ⚠️ /content/Pineapple Ripeness Detection.v3i.yolov8/train/images/IMG_0990_JPG.rf.968d75744b53e6ce5e751277e7ac1b37.jpg: ignoring corrupt image/label: Label class 1 exceeds dataset class count 1. Possible class labels are 0-0\n",
            "\u001b[34m\u001b[1mtrain: \u001b[0mWARNING ⚠️ /content/Pineapple Ripeness Detection.v3i.yolov8/train/images/IMG_0990_JPG.rf.e366a6ea1c41f897974472787eaf111f.jpg: ignoring corrupt image/label: Label class 1 exceeds dataset class count 1. Possible class labels are 0-0\n",
            "\u001b[34m\u001b[1mtrain: \u001b[0mWARNING ⚠️ /content/Pineapple Ripeness Detection.v3i.yolov8/train/images/IMG_0993_JPG.rf.14952e6b01078316a5d563102cbb15a7.jpg: ignoring corrupt image/label: Label class 1 exceeds dataset class count 1. Possible class labels are 0-0\n",
            "\u001b[34m\u001b[1mtrain: \u001b[0mWARNING ⚠️ /content/Pineapple Ripeness Detection.v3i.yolov8/train/images/IMG_0993_JPG.rf.5cfbb49a1f6dde096e6aa9145298ef22.jpg: ignoring corrupt image/label: Label class 1 exceeds dataset class count 1. Possible class labels are 0-0\n",
            "\u001b[34m\u001b[1mtrain: \u001b[0mWARNING ⚠️ /content/Pineapple Ripeness Detection.v3i.yolov8/train/images/IMG_0993_JPG.rf.9e006e2200e9283a454dde24357501c9.jpg: ignoring corrupt image/label: Label class 1 exceeds dataset class count 1. Possible class labels are 0-0\n",
            "\u001b[34m\u001b[1mtrain: \u001b[0mWARNING ⚠️ /content/Pineapple Ripeness Detection.v3i.yolov8/train/images/IMG_0994_JPG.rf.429c46bfb404acc3feaf844a2cd8037f.jpg: ignoring corrupt image/label: Label class 1 exceeds dataset class count 1. Possible class labels are 0-0\n",
            "\u001b[34m\u001b[1mtrain: \u001b[0mWARNING ⚠️ /content/Pineapple Ripeness Detection.v3i.yolov8/train/images/IMG_0994_JPG.rf.70d6a28ea6ce479b39779e6cd6df2df7.jpg: ignoring corrupt image/label: Label class 1 exceeds dataset class count 1. Possible class labels are 0-0\n",
            "\u001b[34m\u001b[1mtrain: \u001b[0mWARNING ⚠️ /content/Pineapple Ripeness Detection.v3i.yolov8/train/images/IMG_0994_JPG.rf.dad1a468c7d497b563fb4a326e9ab6ed.jpg: ignoring corrupt image/label: Label class 1 exceeds dataset class count 1. Possible class labels are 0-0\n",
            "\u001b[34m\u001b[1mtrain: \u001b[0mWARNING ⚠️ /content/Pineapple Ripeness Detection.v3i.yolov8/train/images/IMG_0995_JPG.rf.28c4f1334d2497f43d9e852539fb9dff.jpg: ignoring corrupt image/label: Label class 1 exceeds dataset class count 1. Possible class labels are 0-0\n",
            "\u001b[34m\u001b[1mtrain: \u001b[0mWARNING ⚠️ /content/Pineapple Ripeness Detection.v3i.yolov8/train/images/IMG_0995_JPG.rf.8d8eb3f7295a0eb963b3f7b5434d1ef0.jpg: ignoring corrupt image/label: Label class 1 exceeds dataset class count 1. Possible class labels are 0-0\n",
            "\u001b[34m\u001b[1mtrain: \u001b[0mWARNING ⚠️ /content/Pineapple Ripeness Detection.v3i.yolov8/train/images/IMG_0995_JPG.rf.979504b3fba46922b940a69a9c8df33b.jpg: ignoring corrupt image/label: Label class 1 exceeds dataset class count 1. Possible class labels are 0-0\n",
            "\u001b[34m\u001b[1mtrain: \u001b[0mWARNING ⚠️ /content/Pineapple Ripeness Detection.v3i.yolov8/train/images/IMG_0996_JPG.rf.29d9a726b105dc7d39ff11641bd6c3e5.jpg: ignoring corrupt image/label: Label class 1 exceeds dataset class count 1. Possible class labels are 0-0\n",
            "\u001b[34m\u001b[1mtrain: \u001b[0mWARNING ⚠️ /content/Pineapple Ripeness Detection.v3i.yolov8/train/images/IMG_0996_JPG.rf.32754b2f68281892af5a3d721d637b87.jpg: ignoring corrupt image/label: Label class 1 exceeds dataset class count 1. Possible class labels are 0-0\n",
            "\u001b[34m\u001b[1mtrain: \u001b[0mWARNING ⚠️ /content/Pineapple Ripeness Detection.v3i.yolov8/train/images/IMG_0996_JPG.rf.4f4e81de4366c331a4ca705afac54dd7.jpg: ignoring corrupt image/label: Label class 1 exceeds dataset class count 1. Possible class labels are 0-0\n",
            "\u001b[34m\u001b[1mtrain: \u001b[0mWARNING ⚠️ /content/Pineapple Ripeness Detection.v3i.yolov8/train/images/IMG_0999_JPG.rf.0b08a0b55812ea01e78d5afd8c5b04d7.jpg: ignoring corrupt image/label: Label class 1 exceeds dataset class count 1. Possible class labels are 0-0\n",
            "\u001b[34m\u001b[1mtrain: \u001b[0mWARNING ⚠️ /content/Pineapple Ripeness Detection.v3i.yolov8/train/images/IMG_0999_JPG.rf.17ff39d9c217f1adbb59f5a57a7a5830.jpg: ignoring corrupt image/label: Label class 1 exceeds dataset class count 1. Possible class labels are 0-0\n",
            "\u001b[34m\u001b[1mtrain: \u001b[0mWARNING ⚠️ /content/Pineapple Ripeness Detection.v3i.yolov8/train/images/IMG_0999_JPG.rf.44cdb6265d8eef6bb35fd13d34e2e86b.jpg: ignoring corrupt image/label: Label class 1 exceeds dataset class count 1. Possible class labels are 0-0\n",
            "\u001b[34m\u001b[1mtrain: \u001b[0mWARNING ⚠️ /content/Pineapple Ripeness Detection.v3i.yolov8/train/images/IMG_1001_JPG.rf.2faeff14bae700c333253259d9f1576f.jpg: ignoring corrupt image/label: Label class 1 exceeds dataset class count 1. Possible class labels are 0-0\n",
            "\u001b[34m\u001b[1mtrain: \u001b[0mWARNING ⚠️ /content/Pineapple Ripeness Detection.v3i.yolov8/train/images/IMG_1001_JPG.rf.9fc9adc09e1e465204717d44a347be13.jpg: ignoring corrupt image/label: Label class 1 exceeds dataset class count 1. Possible class labels are 0-0\n",
            "\u001b[34m\u001b[1mtrain: \u001b[0mWARNING ⚠️ /content/Pineapple Ripeness Detection.v3i.yolov8/train/images/IMG_1001_JPG.rf.e64fbd2d2fb03f14f428699b01244120.jpg: ignoring corrupt image/label: Label class 1 exceeds dataset class count 1. Possible class labels are 0-0\n",
            "\u001b[34m\u001b[1mtrain: \u001b[0mWARNING ⚠️ /content/Pineapple Ripeness Detection.v3i.yolov8/train/images/IMG_1003_JPG.rf.2ea6e909c397a082cd83db1a97dc7786.jpg: ignoring corrupt image/label: Label class 1 exceeds dataset class count 1. Possible class labels are 0-0\n",
            "\u001b[34m\u001b[1mtrain: \u001b[0mWARNING ⚠️ /content/Pineapple Ripeness Detection.v3i.yolov8/train/images/IMG_1003_JPG.rf.ac3a279fc347068686dcf8de6b4be44a.jpg: ignoring corrupt image/label: Label class 1 exceeds dataset class count 1. Possible class labels are 0-0\n",
            "\u001b[34m\u001b[1mtrain: \u001b[0mWARNING ⚠️ /content/Pineapple Ripeness Detection.v3i.yolov8/train/images/IMG_1003_JPG.rf.fb562115f97f9bad3abc45b27f57b21a.jpg: ignoring corrupt image/label: Label class 1 exceeds dataset class count 1. Possible class labels are 0-0\n",
            "\u001b[34m\u001b[1mtrain: \u001b[0mWARNING ⚠️ /content/Pineapple Ripeness Detection.v3i.yolov8/train/images/IMG_1004_JPG.rf.07e434ad2952c7ebac489bda3a6a2dca.jpg: ignoring corrupt image/label: Label class 1 exceeds dataset class count 1. Possible class labels are 0-0\n",
            "\u001b[34m\u001b[1mtrain: \u001b[0mWARNING ⚠️ /content/Pineapple Ripeness Detection.v3i.yolov8/train/images/IMG_1004_JPG.rf.3d4d67c483dd059f1f9f23696d46046d.jpg: ignoring corrupt image/label: Label class 1 exceeds dataset class count 1. Possible class labels are 0-0\n",
            "\u001b[34m\u001b[1mtrain: \u001b[0mWARNING ⚠️ /content/Pineapple Ripeness Detection.v3i.yolov8/train/images/IMG_1004_JPG.rf.ae563aa616c44fd89ead4e579d1a72a0.jpg: ignoring corrupt image/label: Label class 1 exceeds dataset class count 1. Possible class labels are 0-0\n",
            "\u001b[34m\u001b[1mtrain: \u001b[0mWARNING ⚠️ /content/Pineapple Ripeness Detection.v3i.yolov8/train/images/IMG_1005_JPG.rf.62f52ae3fbd82a54adcca58d34300842.jpg: ignoring corrupt image/label: Label class 1 exceeds dataset class count 1. Possible class labels are 0-0\n",
            "\u001b[34m\u001b[1mtrain: \u001b[0mWARNING ⚠️ /content/Pineapple Ripeness Detection.v3i.yolov8/train/images/IMG_1005_JPG.rf.727a45e1dc581728b9bc8222a0c59572.jpg: ignoring corrupt image/label: Label class 1 exceeds dataset class count 1. Possible class labels are 0-0\n",
            "\u001b[34m\u001b[1mtrain: \u001b[0mWARNING ⚠️ /content/Pineapple Ripeness Detection.v3i.yolov8/train/images/IMG_1005_JPG.rf.c59c6e02a788ee941de5338de530a397.jpg: ignoring corrupt image/label: Label class 1 exceeds dataset class count 1. Possible class labels are 0-0\n",
            "\u001b[34m\u001b[1mtrain: \u001b[0mWARNING ⚠️ /content/Pineapple Ripeness Detection.v3i.yolov8/train/images/gallery-1439330704-gettyimages-478140221_jpg.rf.2bbd0dd25aa7510e1d2a86a96c689783.jpg: ignoring corrupt image/label: Label class 1 exceeds dataset class count 1. Possible class labels are 0-0\n",
            "\u001b[34m\u001b[1mtrain: \u001b[0mWARNING ⚠️ /content/Pineapple Ripeness Detection.v3i.yolov8/train/images/gallery-1439330704-gettyimages-478140221_jpg.rf.31014b10bfa1e8b7904c962b76e7cd96.jpg: ignoring corrupt image/label: Label class 1 exceeds dataset class count 1. Possible class labels are 0-0\n",
            "\u001b[34m\u001b[1mtrain: \u001b[0mWARNING ⚠️ /content/Pineapple Ripeness Detection.v3i.yolov8/train/images/gallery-1439330704-gettyimages-478140221_jpg.rf.b86fef01c027b5c577fe690d8a9a9966.jpg: ignoring corrupt image/label: Label class 1 exceeds dataset class count 1. Possible class labels are 0-0\n",
            "\u001b[34m\u001b[1mtrain: \u001b[0mWARNING ⚠️ /content/Pineapple Ripeness Detection.v3i.yolov8/train/images/image25_jpeg.rf.0f5a595e7d4d1a178489f80534493e4f.jpg: ignoring corrupt image/label: Label class 1 exceeds dataset class count 1. Possible class labels are 0-0\n",
            "\u001b[34m\u001b[1mtrain: \u001b[0mWARNING ⚠️ /content/Pineapple Ripeness Detection.v3i.yolov8/train/images/image25_jpeg.rf.b0dc43697e00ce5e12ec0aaea12c98ad.jpg: ignoring corrupt image/label: Label class 1 exceeds dataset class count 1. Possible class labels are 0-0\n",
            "\u001b[34m\u001b[1mtrain: \u001b[0mWARNING ⚠️ /content/Pineapple Ripeness Detection.v3i.yolov8/train/images/image25_jpeg.rf.ba9f816d09c0b71eee07ad241c5578ab.jpg: ignoring corrupt image/label: Label class 1 exceeds dataset class count 1. Possible class labels are 0-0\n",
            "\u001b[34m\u001b[1mtrain: \u001b[0mWARNING ⚠️ /content/Pineapple Ripeness Detection.v3i.yolov8/train/images/images131_jpg.rf.0bb4ae3a692cf2e690a22b4bf7037956.jpg: ignoring corrupt image/label: Label class 1 exceeds dataset class count 1. Possible class labels are 0-0\n",
            "\u001b[34m\u001b[1mtrain: \u001b[0mWARNING ⚠️ /content/Pineapple Ripeness Detection.v3i.yolov8/train/images/images131_jpg.rf.6ed4406ae422f976b96ad842597f1764.jpg: ignoring corrupt image/label: Label class 1 exceeds dataset class count 1. Possible class labels are 0-0\n",
            "\u001b[34m\u001b[1mtrain: \u001b[0mWARNING ⚠️ /content/Pineapple Ripeness Detection.v3i.yolov8/train/images/images131_jpg.rf.94b0a74300fe01f31778d0448e1086ce.jpg: ignoring corrupt image/label: Label class 1 exceeds dataset class count 1. Possible class labels are 0-0\n",
            "\u001b[34m\u001b[1mtrain: \u001b[0mWARNING ⚠️ /content/Pineapple Ripeness Detection.v3i.yolov8/train/images/images136_jpg.rf.60dcf27b77cabbef0805428a1ef0b9ef.jpg: ignoring corrupt image/label: Label class 1 exceeds dataset class count 1. Possible class labels are 0-0\n",
            "\u001b[34m\u001b[1mtrain: \u001b[0mWARNING ⚠️ /content/Pineapple Ripeness Detection.v3i.yolov8/train/images/images136_jpg.rf.e6899b1f6a2cdb591f7dce489a19da0e.jpg: ignoring corrupt image/label: Label class 1 exceeds dataset class count 1. Possible class labels are 0-0\n",
            "\u001b[34m\u001b[1mtrain: \u001b[0mWARNING ⚠️ /content/Pineapple Ripeness Detection.v3i.yolov8/train/images/images136_jpg.rf.f7ad7237cde84412b177199a0cd704b1.jpg: ignoring corrupt image/label: Label class 1 exceeds dataset class count 1. Possible class labels are 0-0\n",
            "\u001b[34m\u001b[1mtrain: \u001b[0mWARNING ⚠️ /content/Pineapple Ripeness Detection.v3i.yolov8/train/images/images142_jpg.rf.0dfc960394f888fe0311ba1f61e5a47e.jpg: ignoring corrupt image/label: Label class 1 exceeds dataset class count 1. Possible class labels are 0-0\n",
            "\u001b[34m\u001b[1mtrain: \u001b[0mWARNING ⚠️ /content/Pineapple Ripeness Detection.v3i.yolov8/train/images/images142_jpg.rf.508471b7812edab5e10e8d57233c851a.jpg: ignoring corrupt image/label: Label class 1 exceeds dataset class count 1. Possible class labels are 0-0\n",
            "\u001b[34m\u001b[1mtrain: \u001b[0mWARNING ⚠️ /content/Pineapple Ripeness Detection.v3i.yolov8/train/images/images142_jpg.rf.7e1affdeded665b89b3f6085fa05534f.jpg: ignoring corrupt image/label: Label class 1 exceeds dataset class count 1. Possible class labels are 0-0\n",
            "\u001b[34m\u001b[1mtrain: \u001b[0mWARNING ⚠️ /content/Pineapple Ripeness Detection.v3i.yolov8/train/images/images143_jpg.rf.63a65211fbeb640c91f5a3e3a1299acc.jpg: ignoring corrupt image/label: Label class 1 exceeds dataset class count 1. Possible class labels are 0-0\n",
            "\u001b[34m\u001b[1mtrain: \u001b[0mWARNING ⚠️ /content/Pineapple Ripeness Detection.v3i.yolov8/train/images/images143_jpg.rf.9ba5bcc33dde07fd92b75b4ca10e940a.jpg: ignoring corrupt image/label: Label class 1 exceeds dataset class count 1. Possible class labels are 0-0\n",
            "\u001b[34m\u001b[1mtrain: \u001b[0mWARNING ⚠️ /content/Pineapple Ripeness Detection.v3i.yolov8/train/images/images143_jpg.rf.a998a7e25c77937780d75d455d58403b.jpg: ignoring corrupt image/label: Label class 1 exceeds dataset class count 1. Possible class labels are 0-0\n",
            "\u001b[34m\u001b[1mtrain: \u001b[0mWARNING ⚠️ /content/Pineapple Ripeness Detection.v3i.yolov8/train/images/images158_jpg.rf.4365766a88becbaf7e844377b2bda21c.jpg: ignoring corrupt image/label: Label class 1 exceeds dataset class count 1. Possible class labels are 0-0\n",
            "\u001b[34m\u001b[1mtrain: \u001b[0mWARNING ⚠️ /content/Pineapple Ripeness Detection.v3i.yolov8/train/images/images158_jpg.rf.5624161f884cacba7baaa0d8f299a4a6.jpg: ignoring corrupt image/label: Label class 1 exceeds dataset class count 1. Possible class labels are 0-0\n",
            "\u001b[34m\u001b[1mtrain: \u001b[0mWARNING ⚠️ /content/Pineapple Ripeness Detection.v3i.yolov8/train/images/images158_jpg.rf.8aaa8e77b55e646886eb7a9684ae6ab6.jpg: ignoring corrupt image/label: Label class 1 exceeds dataset class count 1. Possible class labels are 0-0\n",
            "\u001b[34m\u001b[1mtrain: \u001b[0mWARNING ⚠️ /content/Pineapple Ripeness Detection.v3i.yolov8/train/images/images165_jpg.rf.a927955e97187f4e080eb8170b464604.jpg: ignoring corrupt image/label: Label class 1 exceeds dataset class count 1. Possible class labels are 0-0\n",
            "\u001b[34m\u001b[1mtrain: \u001b[0mWARNING ⚠️ /content/Pineapple Ripeness Detection.v3i.yolov8/train/images/images165_jpg.rf.beeae3c51f52371d7ee5cee9521de6d9.jpg: ignoring corrupt image/label: Label class 1 exceeds dataset class count 1. Possible class labels are 0-0\n",
            "\u001b[34m\u001b[1mtrain: \u001b[0mWARNING ⚠️ /content/Pineapple Ripeness Detection.v3i.yolov8/train/images/images165_jpg.rf.d9355135474a80bfa9562d2fcd836653.jpg: ignoring corrupt image/label: Label class 1 exceeds dataset class count 1. Possible class labels are 0-0\n",
            "\u001b[34m\u001b[1mtrain: \u001b[0mWARNING ⚠️ /content/Pineapple Ripeness Detection.v3i.yolov8/train/images/images172_jpg.rf.1e47074bb542efe377a4facf6e383072.jpg: ignoring corrupt image/label: Label class 1 exceeds dataset class count 1. Possible class labels are 0-0\n",
            "\u001b[34m\u001b[1mtrain: \u001b[0mWARNING ⚠️ /content/Pineapple Ripeness Detection.v3i.yolov8/train/images/images172_jpg.rf.47f411f80f70cc7ab823c8444f628d00.jpg: ignoring corrupt image/label: Label class 1 exceeds dataset class count 1. Possible class labels are 0-0\n",
            "\u001b[34m\u001b[1mtrain: \u001b[0mWARNING ⚠️ /content/Pineapple Ripeness Detection.v3i.yolov8/train/images/images172_jpg.rf.c91fe3ae05184b2f190c7cee1af979c9.jpg: ignoring corrupt image/label: Label class 1 exceeds dataset class count 1. Possible class labels are 0-0\n",
            "\u001b[34m\u001b[1mtrain: \u001b[0mWARNING ⚠️ /content/Pineapple Ripeness Detection.v3i.yolov8/train/images/images17_jpg.rf.4b18f1b88b003e45d1cee15c2670d887.jpg: ignoring corrupt image/label: Label class 1 exceeds dataset class count 1. Possible class labels are 0-0\n",
            "\u001b[34m\u001b[1mtrain: \u001b[0mWARNING ⚠️ /content/Pineapple Ripeness Detection.v3i.yolov8/train/images/images17_jpg.rf.640cb31bcfca572ca34c7b2167dbc52b.jpg: ignoring corrupt image/label: Label class 1 exceeds dataset class count 1. Possible class labels are 0-0\n",
            "\u001b[34m\u001b[1mtrain: \u001b[0mWARNING ⚠️ /content/Pineapple Ripeness Detection.v3i.yolov8/train/images/images17_jpg.rf.6d660a211dd0ca0bc9cce4303d08808a.jpg: ignoring corrupt image/label: Label class 1 exceeds dataset class count 1. Possible class labels are 0-0\n",
            "\u001b[34m\u001b[1mtrain: \u001b[0mWARNING ⚠️ /content/Pineapple Ripeness Detection.v3i.yolov8/train/images/images199_jpg.rf.a96de3fb8379e4d19effdd5659818c99.jpg: ignoring corrupt image/label: Label class 1 exceeds dataset class count 1. Possible class labels are 0-0\n",
            "\u001b[34m\u001b[1mtrain: \u001b[0mWARNING ⚠️ /content/Pineapple Ripeness Detection.v3i.yolov8/train/images/images199_jpg.rf.d1f62f9809dfd5c0f8ec6b4eff57b67c.jpg: ignoring corrupt image/label: Label class 1 exceeds dataset class count 1. Possible class labels are 0-0\n",
            "\u001b[34m\u001b[1mtrain: \u001b[0mWARNING ⚠️ /content/Pineapple Ripeness Detection.v3i.yolov8/train/images/images199_jpg.rf.ef063cb848c8087f6305a598d28bba27.jpg: ignoring corrupt image/label: Label class 1 exceeds dataset class count 1. Possible class labels are 0-0\n",
            "\u001b[34m\u001b[1mtrain: \u001b[0mWARNING ⚠️ /content/Pineapple Ripeness Detection.v3i.yolov8/train/images/images203_jpg.rf.87c7c30b5e512c4dccf000319fea5f39.jpg: ignoring corrupt image/label: Label class 1 exceeds dataset class count 1. Possible class labels are 0-0\n",
            "\u001b[34m\u001b[1mtrain: \u001b[0mWARNING ⚠️ /content/Pineapple Ripeness Detection.v3i.yolov8/train/images/images203_jpg.rf.885162d60f867b64d09e2eba7ff9e7e5.jpg: ignoring corrupt image/label: Label class 1 exceeds dataset class count 1. Possible class labels are 0-0\n",
            "\u001b[34m\u001b[1mtrain: \u001b[0mWARNING ⚠️ /content/Pineapple Ripeness Detection.v3i.yolov8/train/images/images203_jpg.rf.d1551ba2f10217cf84b326b61fef0067.jpg: ignoring corrupt image/label: Label class 1 exceeds dataset class count 1. Possible class labels are 0-0\n",
            "\u001b[34m\u001b[1mtrain: \u001b[0mWARNING ⚠️ /content/Pineapple Ripeness Detection.v3i.yolov8/train/images/images206_jpg.rf.597ec1b50096b7b4768bdd9e14316055.jpg: ignoring corrupt image/label: Label class 1 exceeds dataset class count 1. Possible class labels are 0-0\n",
            "\u001b[34m\u001b[1mtrain: \u001b[0mWARNING ⚠️ /content/Pineapple Ripeness Detection.v3i.yolov8/train/images/images206_jpg.rf.5a01f46853978de7882a56fb5ad9e2ca.jpg: ignoring corrupt image/label: Label class 1 exceeds dataset class count 1. Possible class labels are 0-0\n",
            "\u001b[34m\u001b[1mtrain: \u001b[0mWARNING ⚠️ /content/Pineapple Ripeness Detection.v3i.yolov8/train/images/images206_jpg.rf.5e4485ef83738642a9ee944015a1ea30.jpg: ignoring corrupt image/label: Label class 1 exceeds dataset class count 1. Possible class labels are 0-0\n",
            "\u001b[34m\u001b[1mtrain: \u001b[0mWARNING ⚠️ /content/Pineapple Ripeness Detection.v3i.yolov8/train/images/images20_jpg.rf.12b194285256d28cc046264ac6782fdf.jpg: ignoring corrupt image/label: Label class 1 exceeds dataset class count 1. Possible class labels are 0-0\n",
            "\u001b[34m\u001b[1mtrain: \u001b[0mWARNING ⚠️ /content/Pineapple Ripeness Detection.v3i.yolov8/train/images/images20_jpg.rf.165a87875c44f3271b5572631d689598.jpg: ignoring corrupt image/label: Label class 1 exceeds dataset class count 1. Possible class labels are 0-0\n",
            "\u001b[34m\u001b[1mtrain: \u001b[0mWARNING ⚠️ /content/Pineapple Ripeness Detection.v3i.yolov8/train/images/images20_jpg.rf.5485f9a364aa1630a0afaa6cd61af6ab.jpg: ignoring corrupt image/label: Label class 1 exceeds dataset class count 1. Possible class labels are 0-0\n",
            "\u001b[34m\u001b[1mtrain: \u001b[0mWARNING ⚠️ /content/Pineapple Ripeness Detection.v3i.yolov8/train/images/images232_jpg.rf.48fc16b22a4eba56f8596ff6ce28e4a6.jpg: ignoring corrupt image/label: Label class 1 exceeds dataset class count 1. Possible class labels are 0-0\n",
            "\u001b[34m\u001b[1mtrain: \u001b[0mWARNING ⚠️ /content/Pineapple Ripeness Detection.v3i.yolov8/train/images/images232_jpg.rf.5b3fe4ee467ace8f6a6355703345066b.jpg: ignoring corrupt image/label: Label class 1 exceeds dataset class count 1. Possible class labels are 0-0\n",
            "\u001b[34m\u001b[1mtrain: \u001b[0mWARNING ⚠️ /content/Pineapple Ripeness Detection.v3i.yolov8/train/images/images232_jpg.rf.9222c1ba45fd1ee6515e7309b7c650f8.jpg: ignoring corrupt image/label: Label class 1 exceeds dataset class count 1. Possible class labels are 0-0\n",
            "\u001b[34m\u001b[1mtrain: \u001b[0mWARNING ⚠️ /content/Pineapple Ripeness Detection.v3i.yolov8/train/images/images238_jpg.rf.30f3b5a0eb340b8b7b973c973112c3bc.jpg: ignoring corrupt image/label: Label class 1 exceeds dataset class count 1. Possible class labels are 0-0\n",
            "\u001b[34m\u001b[1mtrain: \u001b[0mWARNING ⚠️ /content/Pineapple Ripeness Detection.v3i.yolov8/train/images/images238_jpg.rf.622712755e210626704d5093ca2fd82b.jpg: ignoring corrupt image/label: Label class 1 exceeds dataset class count 1. Possible class labels are 0-0\n",
            "\u001b[34m\u001b[1mtrain: \u001b[0mWARNING ⚠️ /content/Pineapple Ripeness Detection.v3i.yolov8/train/images/images238_jpg.rf.f319e0f8889f9044af7650e1769fd73e.jpg: ignoring corrupt image/label: Label class 1 exceeds dataset class count 1. Possible class labels are 0-0\n",
            "\u001b[34m\u001b[1mtrain: \u001b[0mWARNING ⚠️ /content/Pineapple Ripeness Detection.v3i.yolov8/train/images/images245_jpg.rf.7f48bbefb3ae35cb3d7e00882e4f379c.jpg: ignoring corrupt image/label: Label class 1 exceeds dataset class count 1. Possible class labels are 0-0\n",
            "\u001b[34m\u001b[1mtrain: \u001b[0mWARNING ⚠️ /content/Pineapple Ripeness Detection.v3i.yolov8/train/images/images245_jpg.rf.bced78f4455c656a179d4889e0a4d8de.jpg: ignoring corrupt image/label: Label class 1 exceeds dataset class count 1. Possible class labels are 0-0\n",
            "\u001b[34m\u001b[1mtrain: \u001b[0mWARNING ⚠️ /content/Pineapple Ripeness Detection.v3i.yolov8/train/images/images245_jpg.rf.f6ff4da0958e9b5cfdb0a1ac3dc226a7.jpg: ignoring corrupt image/label: Label class 1 exceeds dataset class count 1. Possible class labels are 0-0\n",
            "\u001b[34m\u001b[1mtrain: \u001b[0mWARNING ⚠️ /content/Pineapple Ripeness Detection.v3i.yolov8/train/images/images251_jpg.rf.74b576d6f9e776c593cb05c908e3243f.jpg: ignoring corrupt image/label: Label class 1 exceeds dataset class count 1. Possible class labels are 0-0\n",
            "\u001b[34m\u001b[1mtrain: \u001b[0mWARNING ⚠️ /content/Pineapple Ripeness Detection.v3i.yolov8/train/images/images251_jpg.rf.870bb8bcfc653da847f45a731eb0b0b7.jpg: ignoring corrupt image/label: Label class 1 exceeds dataset class count 1. Possible class labels are 0-0\n",
            "\u001b[34m\u001b[1mtrain: \u001b[0mWARNING ⚠️ /content/Pineapple Ripeness Detection.v3i.yolov8/train/images/images251_jpg.rf.8a44de5b7286536597964c8c09f91f63.jpg: ignoring corrupt image/label: Label class 1 exceeds dataset class count 1. Possible class labels are 0-0\n",
            "\u001b[34m\u001b[1mtrain: \u001b[0mWARNING ⚠️ /content/Pineapple Ripeness Detection.v3i.yolov8/train/images/images267_jpg.rf.320c4e1b431d07ca4bbd620b335dba04.jpg: ignoring corrupt image/label: Label class 1 exceeds dataset class count 1. Possible class labels are 0-0\n",
            "\u001b[34m\u001b[1mtrain: \u001b[0mWARNING ⚠️ /content/Pineapple Ripeness Detection.v3i.yolov8/train/images/images267_jpg.rf.4cbc2706cf68e1e967624c49cf9b4912.jpg: ignoring corrupt image/label: Label class 1 exceeds dataset class count 1. Possible class labels are 0-0\n",
            "\u001b[34m\u001b[1mtrain: \u001b[0mWARNING ⚠️ /content/Pineapple Ripeness Detection.v3i.yolov8/train/images/images267_jpg.rf.ce033f0523eaafbb904028273ad042b2.jpg: ignoring corrupt image/label: Label class 1 exceeds dataset class count 1. Possible class labels are 0-0\n",
            "\u001b[34m\u001b[1mtrain: \u001b[0mWARNING ⚠️ /content/Pineapple Ripeness Detection.v3i.yolov8/train/images/images275_jpg.rf.a0331d53d24f43cb690aaaf1c4fcccd2.jpg: ignoring corrupt image/label: Label class 1 exceeds dataset class count 1. Possible class labels are 0-0\n",
            "\u001b[34m\u001b[1mtrain: \u001b[0mWARNING ⚠️ /content/Pineapple Ripeness Detection.v3i.yolov8/train/images/images275_jpg.rf.ab7382d86e98e81f33478225ff85b985.jpg: ignoring corrupt image/label: Label class 1 exceeds dataset class count 1. Possible class labels are 0-0\n",
            "\u001b[34m\u001b[1mtrain: \u001b[0mWARNING ⚠️ /content/Pineapple Ripeness Detection.v3i.yolov8/train/images/images275_jpg.rf.fba50da1ab995098b707673f74adb92f.jpg: ignoring corrupt image/label: Label class 1 exceeds dataset class count 1. Possible class labels are 0-0\n",
            "\u001b[34m\u001b[1mtrain: \u001b[0mWARNING ⚠️ /content/Pineapple Ripeness Detection.v3i.yolov8/train/images/images279_jpg.rf.2de37c596172aa29573eee38d84f02d1.jpg: ignoring corrupt image/label: Label class 1 exceeds dataset class count 1. Possible class labels are 0-0\n",
            "\u001b[34m\u001b[1mtrain: \u001b[0mWARNING ⚠️ /content/Pineapple Ripeness Detection.v3i.yolov8/train/images/images279_jpg.rf.b8c552c8a7fa84c5a0663ce697268429.jpg: ignoring corrupt image/label: Label class 1 exceeds dataset class count 1. Possible class labels are 0-0\n",
            "\u001b[34m\u001b[1mtrain: \u001b[0mWARNING ⚠️ /content/Pineapple Ripeness Detection.v3i.yolov8/train/images/images279_jpg.rf.c52d85c2a686f26c4719761ead7a76d7.jpg: ignoring corrupt image/label: Label class 1 exceeds dataset class count 1. Possible class labels are 0-0\n",
            "\u001b[34m\u001b[1mtrain: \u001b[0mWARNING ⚠️ /content/Pineapple Ripeness Detection.v3i.yolov8/train/images/images285_jpg.rf.03b61c3bdac52a37f18250af8148ce60.jpg: ignoring corrupt image/label: Label class 1 exceeds dataset class count 1. Possible class labels are 0-0\n",
            "\u001b[34m\u001b[1mtrain: \u001b[0mWARNING ⚠️ /content/Pineapple Ripeness Detection.v3i.yolov8/train/images/images285_jpg.rf.19b5c71c9dd0ec4d0fc40ef82e33ac9c.jpg: ignoring corrupt image/label: Label class 1 exceeds dataset class count 1. Possible class labels are 0-0\n",
            "\u001b[34m\u001b[1mtrain: \u001b[0mWARNING ⚠️ /content/Pineapple Ripeness Detection.v3i.yolov8/train/images/images285_jpg.rf.1d875fa338589ca83e696eee47281ddb.jpg: ignoring corrupt image/label: Label class 1 exceeds dataset class count 1. Possible class labels are 0-0\n",
            "\u001b[34m\u001b[1mtrain: \u001b[0mWARNING ⚠️ /content/Pineapple Ripeness Detection.v3i.yolov8/train/images/images288_jpg.rf.84502d49e0929bc7bba3558b8d15e38f.jpg: ignoring corrupt image/label: Label class 1 exceeds dataset class count 1. Possible class labels are 0-0\n",
            "\u001b[34m\u001b[1mtrain: \u001b[0mWARNING ⚠️ /content/Pineapple Ripeness Detection.v3i.yolov8/train/images/images288_jpg.rf.bacea8f630aadcbe93fba7e93724de89.jpg: ignoring corrupt image/label: Label class 1 exceeds dataset class count 1. Possible class labels are 0-0\n",
            "\u001b[34m\u001b[1mtrain: \u001b[0mWARNING ⚠️ /content/Pineapple Ripeness Detection.v3i.yolov8/train/images/images288_jpg.rf.eef8b18742bf11d2e1220b838e9f92a7.jpg: ignoring corrupt image/label: Label class 1 exceeds dataset class count 1. Possible class labels are 0-0\n",
            "\u001b[34m\u001b[1mtrain: \u001b[0mWARNING ⚠️ /content/Pineapple Ripeness Detection.v3i.yolov8/train/images/images300_jpg.rf.ddd2944d5ce2b46ef397b5dc35f49b28.jpg: ignoring corrupt image/label: Label class 1 exceeds dataset class count 1. Possible class labels are 0-0\n",
            "\u001b[34m\u001b[1mtrain: \u001b[0mWARNING ⚠️ /content/Pineapple Ripeness Detection.v3i.yolov8/train/images/images300_jpg.rf.eccb49bd491a22671c4a17a1fdae91b2.jpg: ignoring corrupt image/label: Label class 1 exceeds dataset class count 1. Possible class labels are 0-0\n",
            "\u001b[34m\u001b[1mtrain: \u001b[0mWARNING ⚠️ /content/Pineapple Ripeness Detection.v3i.yolov8/train/images/images300_jpg.rf.fb911716a9b74fd37c279f4b12467e3d.jpg: ignoring corrupt image/label: Label class 1 exceeds dataset class count 1. Possible class labels are 0-0\n",
            "\u001b[34m\u001b[1mtrain: \u001b[0mWARNING ⚠️ /content/Pineapple Ripeness Detection.v3i.yolov8/train/images/images301_jpg.rf.9246428bea75b47755e8a115f6f3dc09.jpg: ignoring corrupt image/label: Label class 1 exceeds dataset class count 1. Possible class labels are 0-0\n",
            "\u001b[34m\u001b[1mtrain: \u001b[0mWARNING ⚠️ /content/Pineapple Ripeness Detection.v3i.yolov8/train/images/images301_jpg.rf.b581ce711b48d5e4235904d4394fad46.jpg: ignoring corrupt image/label: Label class 1 exceeds dataset class count 1. Possible class labels are 0-0\n",
            "\u001b[34m\u001b[1mtrain: \u001b[0mWARNING ⚠️ /content/Pineapple Ripeness Detection.v3i.yolov8/train/images/images301_jpg.rf.dc6eb23de47eafe01f836e121f92f0ec.jpg: ignoring corrupt image/label: Label class 1 exceeds dataset class count 1. Possible class labels are 0-0\n",
            "\u001b[34m\u001b[1mtrain: \u001b[0mWARNING ⚠️ /content/Pineapple Ripeness Detection.v3i.yolov8/train/images/images310_jpg.rf.58c2b87efafb9c2b5378c8b069011cee.jpg: ignoring corrupt image/label: Label class 1 exceeds dataset class count 1. Possible class labels are 0-0\n",
            "\u001b[34m\u001b[1mtrain: \u001b[0mWARNING ⚠️ /content/Pineapple Ripeness Detection.v3i.yolov8/train/images/images310_jpg.rf.dd46f59752af72c378045883b263758f.jpg: ignoring corrupt image/label: Label class 1 exceeds dataset class count 1. Possible class labels are 0-0\n",
            "\u001b[34m\u001b[1mtrain: \u001b[0mWARNING ⚠️ /content/Pineapple Ripeness Detection.v3i.yolov8/train/images/images310_jpg.rf.ee2ddbba9b4680a46827dfa1be6c6200.jpg: ignoring corrupt image/label: Label class 1 exceeds dataset class count 1. Possible class labels are 0-0\n",
            "\u001b[34m\u001b[1mtrain: \u001b[0mWARNING ⚠️ /content/Pineapple Ripeness Detection.v3i.yolov8/train/images/images326_jpg.rf.0656715b72b66366602b56fb28b29532.jpg: ignoring corrupt image/label: Label class 1 exceeds dataset class count 1. Possible class labels are 0-0\n",
            "\u001b[34m\u001b[1mtrain: \u001b[0mWARNING ⚠️ /content/Pineapple Ripeness Detection.v3i.yolov8/train/images/images326_jpg.rf.3128d15da09f9f425a90c82867f020c6.jpg: ignoring corrupt image/label: Label class 1 exceeds dataset class count 1. Possible class labels are 0-0\n",
            "\u001b[34m\u001b[1mtrain: \u001b[0mWARNING ⚠️ /content/Pineapple Ripeness Detection.v3i.yolov8/train/images/images326_jpg.rf.fe40ebc8f47c77873cd6b74cd39d1f64.jpg: ignoring corrupt image/label: Label class 1 exceeds dataset class count 1. Possible class labels are 0-0\n",
            "\u001b[34m\u001b[1mtrain: \u001b[0mWARNING ⚠️ /content/Pineapple Ripeness Detection.v3i.yolov8/train/images/images327_jpg.rf.a0cd79424a48df03ecd0486cbc045be3.jpg: ignoring corrupt image/label: Label class 1 exceeds dataset class count 1. Possible class labels are 0-0\n",
            "\u001b[34m\u001b[1mtrain: \u001b[0mWARNING ⚠️ /content/Pineapple Ripeness Detection.v3i.yolov8/train/images/images327_jpg.rf.d2670777b665a7daad2a326fe1d88c6f.jpg: ignoring corrupt image/label: Label class 1 exceeds dataset class count 1. Possible class labels are 0-0\n",
            "\u001b[34m\u001b[1mtrain: \u001b[0mWARNING ⚠️ /content/Pineapple Ripeness Detection.v3i.yolov8/train/images/images327_jpg.rf.f7c288287dcf7840b22acf7eb93bc238.jpg: ignoring corrupt image/label: Label class 1 exceeds dataset class count 1. Possible class labels are 0-0\n",
            "\u001b[34m\u001b[1mtrain: \u001b[0mWARNING ⚠️ /content/Pineapple Ripeness Detection.v3i.yolov8/train/images/images329_jpg.rf.496ef3e5e91bb5de4bfbcdb4a9a293d1.jpg: ignoring corrupt image/label: Label class 1 exceeds dataset class count 1. Possible class labels are 0-0\n",
            "\u001b[34m\u001b[1mtrain: \u001b[0mWARNING ⚠️ /content/Pineapple Ripeness Detection.v3i.yolov8/train/images/images329_jpg.rf.546db3ff6ccd746a673ac3f26384a6af.jpg: ignoring corrupt image/label: Label class 1 exceeds dataset class count 1. Possible class labels are 0-0\n",
            "\u001b[34m\u001b[1mtrain: \u001b[0mWARNING ⚠️ /content/Pineapple Ripeness Detection.v3i.yolov8/train/images/images329_jpg.rf.d982541f737c569d9aa589fc857142f1.jpg: ignoring corrupt image/label: Label class 1 exceeds dataset class count 1. Possible class labels are 0-0\n",
            "\u001b[34m\u001b[1mtrain: \u001b[0mWARNING ⚠️ /content/Pineapple Ripeness Detection.v3i.yolov8/train/images/images331_jpg.rf.82595c1e78fa012b748fcdf50021ee19.jpg: ignoring corrupt image/label: Label class 1 exceeds dataset class count 1. Possible class labels are 0-0\n",
            "\u001b[34m\u001b[1mtrain: \u001b[0mWARNING ⚠️ /content/Pineapple Ripeness Detection.v3i.yolov8/train/images/images331_jpg.rf.c3f7c10da33fb1c8e45cbfcf9c4c3abf.jpg: ignoring corrupt image/label: Label class 1 exceeds dataset class count 1. Possible class labels are 0-0\n",
            "\u001b[34m\u001b[1mtrain: \u001b[0mWARNING ⚠️ /content/Pineapple Ripeness Detection.v3i.yolov8/train/images/images331_jpg.rf.ec77bb9a1c7f431059e1d5e4ef5bb558.jpg: ignoring corrupt image/label: Label class 1 exceeds dataset class count 1. Possible class labels are 0-0\n",
            "\u001b[34m\u001b[1mtrain: \u001b[0mWARNING ⚠️ /content/Pineapple Ripeness Detection.v3i.yolov8/train/images/images333_jpg.rf.8ad421b75efa529072abb97928caebac.jpg: ignoring corrupt image/label: Label class 1 exceeds dataset class count 1. Possible class labels are 0-0\n",
            "\u001b[34m\u001b[1mtrain: \u001b[0mWARNING ⚠️ /content/Pineapple Ripeness Detection.v3i.yolov8/train/images/images333_jpg.rf.a6eda9e7cfd750cb59aa696c0e6a88bd.jpg: ignoring corrupt image/label: Label class 1 exceeds dataset class count 1. Possible class labels are 0-0\n",
            "\u001b[34m\u001b[1mtrain: \u001b[0mWARNING ⚠️ /content/Pineapple Ripeness Detection.v3i.yolov8/train/images/images333_jpg.rf.b0190cb48230e6ac5d37c2fa5e07fd35.jpg: ignoring corrupt image/label: Label class 1 exceeds dataset class count 1. Possible class labels are 0-0\n",
            "\u001b[34m\u001b[1mtrain: \u001b[0mWARNING ⚠️ /content/Pineapple Ripeness Detection.v3i.yolov8/train/images/images33_jpg.rf.1a3ed98a3e711b9fc5a131f710111883.jpg: ignoring corrupt image/label: Label class 1 exceeds dataset class count 1. Possible class labels are 0-0\n",
            "\u001b[34m\u001b[1mtrain: \u001b[0mWARNING ⚠️ /content/Pineapple Ripeness Detection.v3i.yolov8/train/images/images33_jpg.rf.3de2dfc5d2d0b620cc16bfdfe42fe802.jpg: ignoring corrupt image/label: Label class 1 exceeds dataset class count 1. Possible class labels are 0-0\n",
            "\u001b[34m\u001b[1mtrain: \u001b[0mWARNING ⚠️ /content/Pineapple Ripeness Detection.v3i.yolov8/train/images/images33_jpg.rf.cd576b4b8a2193a0a08c5feb3ee1c714.jpg: ignoring corrupt image/label: Label class 1 exceeds dataset class count 1. Possible class labels are 0-0\n",
            "\u001b[34m\u001b[1mtrain: \u001b[0mWARNING ⚠️ /content/Pineapple Ripeness Detection.v3i.yolov8/train/images/images342_jpg.rf.8d4466f010c953970a01450ab7bf2b00.jpg: ignoring corrupt image/label: Label class 1 exceeds dataset class count 1. Possible class labels are 0-0\n",
            "\u001b[34m\u001b[1mtrain: \u001b[0mWARNING ⚠️ /content/Pineapple Ripeness Detection.v3i.yolov8/train/images/images342_jpg.rf.f206622558674b9168c7553506fccb92.jpg: ignoring corrupt image/label: Label class 1 exceeds dataset class count 1. Possible class labels are 0-0\n",
            "\u001b[34m\u001b[1mtrain: \u001b[0mWARNING ⚠️ /content/Pineapple Ripeness Detection.v3i.yolov8/train/images/images342_jpg.rf.ffc65ea8617adaa69a57a45e5628fffe.jpg: ignoring corrupt image/label: Label class 1 exceeds dataset class count 1. Possible class labels are 0-0\n",
            "\u001b[34m\u001b[1mtrain: \u001b[0mWARNING ⚠️ /content/Pineapple Ripeness Detection.v3i.yolov8/train/images/images348_jpg.rf.2f14014ce50a8b78b3e6d44ce80085e2.jpg: ignoring corrupt image/label: Label class 1 exceeds dataset class count 1. Possible class labels are 0-0\n",
            "\u001b[34m\u001b[1mtrain: \u001b[0mWARNING ⚠️ /content/Pineapple Ripeness Detection.v3i.yolov8/train/images/images348_jpg.rf.d59739b1956f24075be336933c17d7f2.jpg: ignoring corrupt image/label: Label class 1 exceeds dataset class count 1. Possible class labels are 0-0\n",
            "\u001b[34m\u001b[1mtrain: \u001b[0mWARNING ⚠️ /content/Pineapple Ripeness Detection.v3i.yolov8/train/images/images348_jpg.rf.eb804c4b517b88623cfc47c6da5c76f3.jpg: ignoring corrupt image/label: Label class 1 exceeds dataset class count 1. Possible class labels are 0-0\n",
            "\u001b[34m\u001b[1mtrain: \u001b[0mWARNING ⚠️ /content/Pineapple Ripeness Detection.v3i.yolov8/train/images/images367_jpg.rf.00d43764ce2528138565c28f583e58c7.jpg: ignoring corrupt image/label: Label class 1 exceeds dataset class count 1. Possible class labels are 0-0\n",
            "\u001b[34m\u001b[1mtrain: \u001b[0mWARNING ⚠️ /content/Pineapple Ripeness Detection.v3i.yolov8/train/images/images367_jpg.rf.4feeb0d41c15fdabaeb39b3682ef1262.jpg: ignoring corrupt image/label: Label class 1 exceeds dataset class count 1. Possible class labels are 0-0\n",
            "\u001b[34m\u001b[1mtrain: \u001b[0mWARNING ⚠️ /content/Pineapple Ripeness Detection.v3i.yolov8/train/images/images367_jpg.rf.d0ba2f13c99651fe83020b84e60d6e95.jpg: ignoring corrupt image/label: Label class 1 exceeds dataset class count 1. Possible class labels are 0-0\n",
            "\u001b[34m\u001b[1mtrain: \u001b[0mWARNING ⚠️ /content/Pineapple Ripeness Detection.v3i.yolov8/train/images/images368_jpg.rf.8fe638c7e5f16dae2197bb0fccc845d9.jpg: ignoring corrupt image/label: Label class 1 exceeds dataset class count 1. Possible class labels are 0-0\n",
            "\u001b[34m\u001b[1mtrain: \u001b[0mWARNING ⚠️ /content/Pineapple Ripeness Detection.v3i.yolov8/train/images/images368_jpg.rf.b0355e892e58dd51160b20da1d4639fc.jpg: ignoring corrupt image/label: Label class 1 exceeds dataset class count 1. Possible class labels are 0-0\n",
            "\u001b[34m\u001b[1mtrain: \u001b[0mWARNING ⚠️ /content/Pineapple Ripeness Detection.v3i.yolov8/train/images/images368_jpg.rf.b29840655a74cdc4c1a66b1895842d3e.jpg: ignoring corrupt image/label: Label class 1 exceeds dataset class count 1. Possible class labels are 0-0\n",
            "\u001b[34m\u001b[1mtrain: \u001b[0mWARNING ⚠️ /content/Pineapple Ripeness Detection.v3i.yolov8/train/images/images36_jpg.rf.387777a282e71eab6b1448ead89ab12b.jpg: ignoring corrupt image/label: Label class 1 exceeds dataset class count 1. Possible class labels are 0-0\n",
            "\u001b[34m\u001b[1mtrain: \u001b[0mWARNING ⚠️ /content/Pineapple Ripeness Detection.v3i.yolov8/train/images/images36_jpg.rf.6d5ac543a4e1cb31e0e0fb0b0dee4ff2.jpg: ignoring corrupt image/label: Label class 1 exceeds dataset class count 1. Possible class labels are 0-0\n",
            "\u001b[34m\u001b[1mtrain: \u001b[0mWARNING ⚠️ /content/Pineapple Ripeness Detection.v3i.yolov8/train/images/images36_jpg.rf.abdf39cb5b272a5d320d7aa1ac7660a7.jpg: ignoring corrupt image/label: Label class 1 exceeds dataset class count 1. Possible class labels are 0-0\n",
            "\u001b[34m\u001b[1mtrain: \u001b[0mWARNING ⚠️ /content/Pineapple Ripeness Detection.v3i.yolov8/train/images/images388_jpg.rf.40521430385676bb5745a942faaf3c14.jpg: ignoring corrupt image/label: Label class 1 exceeds dataset class count 1. Possible class labels are 0-0\n",
            "\u001b[34m\u001b[1mtrain: \u001b[0mWARNING ⚠️ /content/Pineapple Ripeness Detection.v3i.yolov8/train/images/images388_jpg.rf.67b01a28013d85b7083bce552fdc0ead.jpg: ignoring corrupt image/label: Label class 1 exceeds dataset class count 1. Possible class labels are 0-0\n",
            "\u001b[34m\u001b[1mtrain: \u001b[0mWARNING ⚠️ /content/Pineapple Ripeness Detection.v3i.yolov8/train/images/images388_jpg.rf.91902c50f3f8c557734b6a588f9577ee.jpg: ignoring corrupt image/label: Label class 1 exceeds dataset class count 1. Possible class labels are 0-0\n",
            "\u001b[34m\u001b[1mtrain: \u001b[0mWARNING ⚠️ /content/Pineapple Ripeness Detection.v3i.yolov8/train/images/images392_jpg.rf.40929446bb31c1a6be378c52a6be78f8.jpg: ignoring corrupt image/label: Label class 1 exceeds dataset class count 1. Possible class labels are 0-0\n",
            "\u001b[34m\u001b[1mtrain: \u001b[0mWARNING ⚠️ /content/Pineapple Ripeness Detection.v3i.yolov8/train/images/images392_jpg.rf.7e33863368a984078855291f6b468574.jpg: ignoring corrupt image/label: Label class 1 exceeds dataset class count 1. Possible class labels are 0-0\n",
            "\u001b[34m\u001b[1mtrain: \u001b[0mWARNING ⚠️ /content/Pineapple Ripeness Detection.v3i.yolov8/train/images/images392_jpg.rf.8952f6593396a8725db3cd1540973a8b.jpg: ignoring corrupt image/label: Label class 1 exceeds dataset class count 1. Possible class labels are 0-0\n",
            "\u001b[34m\u001b[1mtrain: \u001b[0mWARNING ⚠️ /content/Pineapple Ripeness Detection.v3i.yolov8/train/images/images395_jpg.rf.01a8fb57f73e1e4b4e2bd963f8856d3f.jpg: ignoring corrupt image/label: Label class 1 exceeds dataset class count 1. Possible class labels are 0-0\n",
            "\u001b[34m\u001b[1mtrain: \u001b[0mWARNING ⚠️ /content/Pineapple Ripeness Detection.v3i.yolov8/train/images/images395_jpg.rf.2d7cd77bf63ae0d7ffe43c2221b5e8e7.jpg: ignoring corrupt image/label: Label class 1 exceeds dataset class count 1. Possible class labels are 0-0\n",
            "\u001b[34m\u001b[1mtrain: \u001b[0mWARNING ⚠️ /content/Pineapple Ripeness Detection.v3i.yolov8/train/images/images395_jpg.rf.d74a9d761975a080ee68db23737cb2a9.jpg: ignoring corrupt image/label: Label class 1 exceeds dataset class count 1. Possible class labels are 0-0\n",
            "\u001b[34m\u001b[1mtrain: \u001b[0mWARNING ⚠️ /content/Pineapple Ripeness Detection.v3i.yolov8/train/images/images54_jpg.rf.24159a9dfc434c713db11a3bb526ab7f.jpg: ignoring corrupt image/label: Label class 1 exceeds dataset class count 1. Possible class labels are 0-0\n",
            "\u001b[34m\u001b[1mtrain: \u001b[0mWARNING ⚠️ /content/Pineapple Ripeness Detection.v3i.yolov8/train/images/images54_jpg.rf.4b1428ba1a20ff1e8ecf782f826a67b1.jpg: ignoring corrupt image/label: Label class 1 exceeds dataset class count 1. Possible class labels are 0-0\n",
            "\u001b[34m\u001b[1mtrain: \u001b[0mWARNING ⚠️ /content/Pineapple Ripeness Detection.v3i.yolov8/train/images/images54_jpg.rf.f88b4f478e564e205990a06ed7b862bc.jpg: ignoring corrupt image/label: Label class 1 exceeds dataset class count 1. Possible class labels are 0-0\n",
            "\u001b[34m\u001b[1mtrain: \u001b[0mWARNING ⚠️ /content/Pineapple Ripeness Detection.v3i.yolov8/train/images/images60_jpg.rf.76cddaea6629b6780459ba09356d0d92.jpg: ignoring corrupt image/label: Label class 1 exceeds dataset class count 1. Possible class labels are 0-0\n",
            "\u001b[34m\u001b[1mtrain: \u001b[0mWARNING ⚠️ /content/Pineapple Ripeness Detection.v3i.yolov8/train/images/images60_jpg.rf.ba5372c8a54a1fc5c241595d9456992b.jpg: ignoring corrupt image/label: Label class 1 exceeds dataset class count 1. Possible class labels are 0-0\n",
            "\u001b[34m\u001b[1mtrain: \u001b[0mWARNING ⚠️ /content/Pineapple Ripeness Detection.v3i.yolov8/train/images/images60_jpg.rf.e4f3b109201d1527e144188d1efcd829.jpg: ignoring corrupt image/label: Label class 1 exceeds dataset class count 1. Possible class labels are 0-0\n",
            "\u001b[34m\u001b[1mtrain: \u001b[0mWARNING ⚠️ /content/Pineapple Ripeness Detection.v3i.yolov8/train/images/images62_jpg.rf.339f18e98d293108ef13d74c6182e501.jpg: ignoring corrupt image/label: Label class 1 exceeds dataset class count 1. Possible class labels are 0-0\n",
            "\u001b[34m\u001b[1mtrain: \u001b[0mWARNING ⚠️ /content/Pineapple Ripeness Detection.v3i.yolov8/train/images/images62_jpg.rf.a6ac3dcff64067e17bad9bfd24180ab4.jpg: ignoring corrupt image/label: Label class 1 exceeds dataset class count 1. Possible class labels are 0-0\n",
            "\u001b[34m\u001b[1mtrain: \u001b[0mWARNING ⚠️ /content/Pineapple Ripeness Detection.v3i.yolov8/train/images/images62_jpg.rf.e29aec89d442c8bea70ee55a6753fb96.jpg: ignoring corrupt image/label: Label class 1 exceeds dataset class count 1. Possible class labels are 0-0\n",
            "\u001b[34m\u001b[1mtrain: \u001b[0mWARNING ⚠️ /content/Pineapple Ripeness Detection.v3i.yolov8/train/images/images66_jpg.rf.04a6afb544cb30395bb0c97cdd3f014b.jpg: ignoring corrupt image/label: Label class 1 exceeds dataset class count 1. Possible class labels are 0-0\n",
            "\u001b[34m\u001b[1mtrain: \u001b[0mWARNING ⚠️ /content/Pineapple Ripeness Detection.v3i.yolov8/train/images/images66_jpg.rf.17360a3be92f4911421c91ad6b7cc645.jpg: ignoring corrupt image/label: Label class 1 exceeds dataset class count 1. Possible class labels are 0-0\n",
            "\u001b[34m\u001b[1mtrain: \u001b[0mWARNING ⚠️ /content/Pineapple Ripeness Detection.v3i.yolov8/train/images/images66_jpg.rf.47e8674e8a6bef9a0ecb86b53a2a01c1.jpg: ignoring corrupt image/label: Label class 1 exceeds dataset class count 1. Possible class labels are 0-0\n",
            "\u001b[34m\u001b[1mtrain: \u001b[0mWARNING ⚠️ /content/Pineapple Ripeness Detection.v3i.yolov8/train/images/images69_jpg.rf.904388d57b30dac40d2aa5642e39f9c3.jpg: ignoring corrupt image/label: Label class 1 exceeds dataset class count 1. Possible class labels are 0-0\n",
            "\u001b[34m\u001b[1mtrain: \u001b[0mWARNING ⚠️ /content/Pineapple Ripeness Detection.v3i.yolov8/train/images/images69_jpg.rf.d08ad66e21bc8b39ec892f991695f074.jpg: ignoring corrupt image/label: Label class 1 exceeds dataset class count 1. Possible class labels are 0-0\n",
            "\u001b[34m\u001b[1mtrain: \u001b[0mWARNING ⚠️ /content/Pineapple Ripeness Detection.v3i.yolov8/train/images/images69_jpg.rf.f7271e8cab6ec05c156a47b864ce42de.jpg: ignoring corrupt image/label: Label class 1 exceeds dataset class count 1. Possible class labels are 0-0\n",
            "\u001b[34m\u001b[1mtrain: \u001b[0mWARNING ⚠️ /content/Pineapple Ripeness Detection.v3i.yolov8/train/images/images75_jpg.rf.1d6281ba3645b4a238632ce8a1a1c478.jpg: ignoring corrupt image/label: Label class 1 exceeds dataset class count 1. Possible class labels are 0-0\n",
            "\u001b[34m\u001b[1mtrain: \u001b[0mWARNING ⚠️ /content/Pineapple Ripeness Detection.v3i.yolov8/train/images/images75_jpg.rf.68a609d8231b4a853a2137c4037e17e3.jpg: ignoring corrupt image/label: Label class 1 exceeds dataset class count 1. Possible class labels are 0-0\n",
            "\u001b[34m\u001b[1mtrain: \u001b[0mWARNING ⚠️ /content/Pineapple Ripeness Detection.v3i.yolov8/train/images/images75_jpg.rf.f9aeba40a1a485ab519683d47be05568.jpg: ignoring corrupt image/label: Label class 1 exceeds dataset class count 1. Possible class labels are 0-0\n",
            "\u001b[34m\u001b[1mtrain: \u001b[0mWARNING ⚠️ /content/Pineapple Ripeness Detection.v3i.yolov8/train/images/images83_jpg.rf.683dcaa44636fdc40b4464fde4ff9595.jpg: ignoring corrupt image/label: Label class 1 exceeds dataset class count 1. Possible class labels are 0-0\n",
            "\u001b[34m\u001b[1mtrain: \u001b[0mWARNING ⚠️ /content/Pineapple Ripeness Detection.v3i.yolov8/train/images/images83_jpg.rf.af6c268f81fb9da8ee90aab835bc1fbd.jpg: ignoring corrupt image/label: Label class 1 exceeds dataset class count 1. Possible class labels are 0-0\n",
            "\u001b[34m\u001b[1mtrain: \u001b[0mWARNING ⚠️ /content/Pineapple Ripeness Detection.v3i.yolov8/train/images/images83_jpg.rf.cd4e4bf47d633311b520d3ba3b8a4ea2.jpg: ignoring corrupt image/label: Label class 1 exceeds dataset class count 1. Possible class labels are 0-0\n",
            "\u001b[34m\u001b[1mtrain: \u001b[0mWARNING ⚠️ /content/Pineapple Ripeness Detection.v3i.yolov8/train/images/images90_jpg.rf.341c1bbd2bd03c8f349b58cdd112fc4d.jpg: ignoring corrupt image/label: Label class 1 exceeds dataset class count 1. Possible class labels are 0-0\n",
            "\u001b[34m\u001b[1mtrain: \u001b[0mWARNING ⚠️ /content/Pineapple Ripeness Detection.v3i.yolov8/train/images/images90_jpg.rf.c525cbc2da0b29e02c455aacc9df7431.jpg: ignoring corrupt image/label: Label class 1 exceeds dataset class count 1. Possible class labels are 0-0\n",
            "\u001b[34m\u001b[1mtrain: \u001b[0mWARNING ⚠️ /content/Pineapple Ripeness Detection.v3i.yolov8/train/images/images90_jpg.rf.d77b1bf37fce719d272227f0c4797b17.jpg: ignoring corrupt image/label: Label class 1 exceeds dataset class count 1. Possible class labels are 0-0\n",
            "\u001b[34m\u001b[1mtrain: \u001b[0mWARNING ⚠️ /content/Pineapple Ripeness Detection.v3i.yolov8/train/images/pineapple-harvest_jpg.rf.04969b8ff3a3c427f6fb5b776eef933e.jpg: ignoring corrupt image/label: Label class 1 exceeds dataset class count 1. Possible class labels are 0-0\n",
            "\u001b[34m\u001b[1mtrain: \u001b[0mWARNING ⚠️ /content/Pineapple Ripeness Detection.v3i.yolov8/train/images/pineapple-harvest_jpg.rf.595e19f9b100e036abe24e454865144f.jpg: ignoring corrupt image/label: Label class 1 exceeds dataset class count 1. Possible class labels are 0-0\n",
            "\u001b[34m\u001b[1mtrain: \u001b[0mWARNING ⚠️ /content/Pineapple Ripeness Detection.v3i.yolov8/train/images/pineapple-harvest_jpg.rf.d3bac43b3f92336a694bbc48e792ac15.jpg: ignoring corrupt image/label: Label class 1 exceeds dataset class count 1. Possible class labels are 0-0\n",
            "\u001b[34m\u001b[1malbumentations: \u001b[0mBlur(p=0.01, blur_limit=(3, 7)), MedianBlur(p=0.01, blur_limit=(3, 7)), ToGray(p=0.01, num_output_channels=3, method='weighted_average'), CLAHE(p=0.01, clip_limit=(1.0, 4.0), tile_grid_size=(8, 8))\n"
          ]
        },
        {
          "output_type": "stream",
          "name": "stderr",
          "text": [
            "\n"
          ]
        },
        {
          "output_type": "stream",
          "name": "stdout",
          "text": [
            "\u001b[34m\u001b[1mval: \u001b[0mFast image access ✅ (ping: 0.0±0.0 ms, read: 406.9±109.9 MB/s, size: 65.1 KB)\n"
          ]
        },
        {
          "output_type": "stream",
          "name": "stderr",
          "text": [
            "\u001b[34m\u001b[1mval: \u001b[0mScanning /content/Pineapple Ripeness Detection.v3i.yolov8/valid/labels.cache... 143 images, 3 backgrounds, 61 corrupt: 100%|██████████| 143/143 [00:00<?, ?it/s]"
          ]
        },
        {
          "output_type": "stream",
          "name": "stdout",
          "text": [
            "\u001b[34m\u001b[1mval: \u001b[0mWARNING ⚠️ /content/Pineapple Ripeness Detection.v3i.yolov8/valid/images/82535-004-4C2AF7BA_jpg.rf.5130611ae818279831b214c4c438422e.jpg: ignoring corrupt image/label: Label class 1 exceeds dataset class count 1. Possible class labels are 0-0\n",
            "\u001b[34m\u001b[1mval: \u001b[0mWARNING ⚠️ /content/Pineapple Ripeness Detection.v3i.yolov8/valid/images/IMG_0877_JPG.rf.babba7672e3945bfcd4e0172231017ca.jpg: ignoring corrupt image/label: Label class 1 exceeds dataset class count 1. Possible class labels are 0-0\n",
            "\u001b[34m\u001b[1mval: \u001b[0mWARNING ⚠️ /content/Pineapple Ripeness Detection.v3i.yolov8/valid/images/IMG_0879_JPG.rf.eda0ee4f93c53145c32d204e9e29fd7b.jpg: ignoring corrupt image/label: Label class 1 exceeds dataset class count 1. Possible class labels are 0-0\n",
            "\u001b[34m\u001b[1mval: \u001b[0mWARNING ⚠️ /content/Pineapple Ripeness Detection.v3i.yolov8/valid/images/IMG_0880_JPG.rf.514e383eba80b5fa9d20b549b2d3da3e.jpg: ignoring corrupt image/label: Label class 1 exceeds dataset class count 1. Possible class labels are 0-0\n",
            "\u001b[34m\u001b[1mval: \u001b[0mWARNING ⚠️ /content/Pineapple Ripeness Detection.v3i.yolov8/valid/images/IMG_0882_JPG.rf.7511156abc9a3657fbfd908eac723e88.jpg: ignoring corrupt image/label: Label class 1 exceeds dataset class count 1. Possible class labels are 0-0\n",
            "\u001b[34m\u001b[1mval: \u001b[0mWARNING ⚠️ /content/Pineapple Ripeness Detection.v3i.yolov8/valid/images/IMG_0883_JPG.rf.28dd01a09d35bf799f8ce1776c9fbbe7.jpg: ignoring corrupt image/label: Label class 1 exceeds dataset class count 1. Possible class labels are 0-0\n",
            "\u001b[34m\u001b[1mval: \u001b[0mWARNING ⚠️ /content/Pineapple Ripeness Detection.v3i.yolov8/valid/images/IMG_0885_JPG.rf.64b7ee81e4092e3e651e1cf7ab8a40e8.jpg: ignoring corrupt image/label: Label class 1 exceeds dataset class count 1. Possible class labels are 0-0\n",
            "\u001b[34m\u001b[1mval: \u001b[0mWARNING ⚠️ /content/Pineapple Ripeness Detection.v3i.yolov8/valid/images/IMG_0887_JPG.rf.8d595ea059af96200c06aa23f33a0cbd.jpg: ignoring corrupt image/label: Label class 1 exceeds dataset class count 1. Possible class labels are 0-0\n",
            "\u001b[34m\u001b[1mval: \u001b[0mWARNING ⚠️ /content/Pineapple Ripeness Detection.v3i.yolov8/valid/images/IMG_0889_JPG.rf.e03342cc91abb7296ee269bd4453d5a9.jpg: ignoring corrupt image/label: Label class 1 exceeds dataset class count 1. Possible class labels are 0-0\n",
            "\u001b[34m\u001b[1mval: \u001b[0mWARNING ⚠️ /content/Pineapple Ripeness Detection.v3i.yolov8/valid/images/IMG_0892_JPG.rf.5928c9217375e34c1a760eb6eb094ef3.jpg: ignoring corrupt image/label: Label class 1 exceeds dataset class count 1. Possible class labels are 0-0\n",
            "\u001b[34m\u001b[1mval: \u001b[0mWARNING ⚠️ /content/Pineapple Ripeness Detection.v3i.yolov8/valid/images/IMG_0895_JPG.rf.eae6568816b4c809f034f71293466458.jpg: ignoring corrupt image/label: Label class 1 exceeds dataset class count 1. Possible class labels are 0-0\n",
            "\u001b[34m\u001b[1mval: \u001b[0mWARNING ⚠️ /content/Pineapple Ripeness Detection.v3i.yolov8/valid/images/IMG_0896_JPG.rf.fdb24425f12c68f6b4150fe69cae5ce5.jpg: ignoring corrupt image/label: Label class 1 exceeds dataset class count 1. Possible class labels are 0-0\n",
            "\u001b[34m\u001b[1mval: \u001b[0mWARNING ⚠️ /content/Pineapple Ripeness Detection.v3i.yolov8/valid/images/IMG_0899_JPG.rf.cba02502326e7e360715a5af59817a52.jpg: ignoring corrupt image/label: Label class 1 exceeds dataset class count 1. Possible class labels are 0-0\n",
            "\u001b[34m\u001b[1mval: \u001b[0mWARNING ⚠️ /content/Pineapple Ripeness Detection.v3i.yolov8/valid/images/IMG_0901_JPG.rf.84c1f1f691314237507461605bc17bc9.jpg: ignoring corrupt image/label: Label class 1 exceeds dataset class count 1. Possible class labels are 0-0\n",
            "\u001b[34m\u001b[1mval: \u001b[0mWARNING ⚠️ /content/Pineapple Ripeness Detection.v3i.yolov8/valid/images/IMG_0903_JPG.rf.e38e7940b43b0e94ac80c24cbb851f0e.jpg: ignoring corrupt image/label: Label class 1 exceeds dataset class count 1. Possible class labels are 0-0\n",
            "\u001b[34m\u001b[1mval: \u001b[0mWARNING ⚠️ /content/Pineapple Ripeness Detection.v3i.yolov8/valid/images/IMG_0907_JPG.rf.89596470b25883d453dfc8e8f151b38a.jpg: ignoring corrupt image/label: Label class 1 exceeds dataset class count 1. Possible class labels are 0-0\n",
            "\u001b[34m\u001b[1mval: \u001b[0mWARNING ⚠️ /content/Pineapple Ripeness Detection.v3i.yolov8/valid/images/IMG_0908_JPG.rf.c0e379dd3baeedf967258598193e6d46.jpg: ignoring corrupt image/label: Label class 1 exceeds dataset class count 1. Possible class labels are 0-0\n",
            "\u001b[34m\u001b[1mval: \u001b[0mWARNING ⚠️ /content/Pineapple Ripeness Detection.v3i.yolov8/valid/images/IMG_0910_JPG.rf.38f409aa129c5587e4a8045555e49274.jpg: ignoring corrupt image/label: Label class 1 exceeds dataset class count 1. Possible class labels are 0-0\n",
            "\u001b[34m\u001b[1mval: \u001b[0mWARNING ⚠️ /content/Pineapple Ripeness Detection.v3i.yolov8/valid/images/IMG_0912_JPG.rf.c6eb4d0e45dfc40a0a95a8f7397265bc.jpg: ignoring corrupt image/label: Label class 1 exceeds dataset class count 1. Possible class labels are 0-0\n",
            "\u001b[34m\u001b[1mval: \u001b[0mWARNING ⚠️ /content/Pineapple Ripeness Detection.v3i.yolov8/valid/images/IMG_0915_JPG.rf.bb874e4f31619b8fc5f58fa232548c7d.jpg: ignoring corrupt image/label: Label class 1 exceeds dataset class count 1. Possible class labels are 0-0\n",
            "\u001b[34m\u001b[1mval: \u001b[0mWARNING ⚠️ /content/Pineapple Ripeness Detection.v3i.yolov8/valid/images/IMG_0917_JPG.rf.a67882f0c1a9b93612bcbe0b30d52423.jpg: ignoring corrupt image/label: Label class 1 exceeds dataset class count 1. Possible class labels are 0-0\n",
            "\u001b[34m\u001b[1mval: \u001b[0mWARNING ⚠️ /content/Pineapple Ripeness Detection.v3i.yolov8/valid/images/IMG_0925_JPG.rf.f813fae7e342bf0cb1256171aa5cb31e.jpg: ignoring corrupt image/label: Label class 1 exceeds dataset class count 1. Possible class labels are 0-0\n",
            "\u001b[34m\u001b[1mval: \u001b[0mWARNING ⚠️ /content/Pineapple Ripeness Detection.v3i.yolov8/valid/images/IMG_0926_JPG.rf.96687911df4ebeb09ef97153349ae250.jpg: ignoring corrupt image/label: Label class 1 exceeds dataset class count 1. Possible class labels are 0-0\n",
            "\u001b[34m\u001b[1mval: \u001b[0mWARNING ⚠️ /content/Pineapple Ripeness Detection.v3i.yolov8/valid/images/IMG_0927_JPG.rf.10fa7b3342c249888fb7e916314249f7.jpg: ignoring corrupt image/label: Label class 1 exceeds dataset class count 1. Possible class labels are 0-0\n",
            "\u001b[34m\u001b[1mval: \u001b[0mWARNING ⚠️ /content/Pineapple Ripeness Detection.v3i.yolov8/valid/images/IMG_0930_JPG.rf.c2795b94a69e2051e1a1f67ff2b556cc.jpg: ignoring corrupt image/label: Label class 1 exceeds dataset class count 1. Possible class labels are 0-0\n",
            "\u001b[34m\u001b[1mval: \u001b[0mWARNING ⚠️ /content/Pineapple Ripeness Detection.v3i.yolov8/valid/images/IMG_0931_JPG.rf.f884618b279e63b24ca0290797231642.jpg: ignoring corrupt image/label: Label class 1 exceeds dataset class count 1. Possible class labels are 0-0\n",
            "\u001b[34m\u001b[1mval: \u001b[0mWARNING ⚠️ /content/Pineapple Ripeness Detection.v3i.yolov8/valid/images/IMG_0933_JPG.rf.7eb81044e1e2b17178699f4e331c0cda.jpg: ignoring corrupt image/label: Label class 1 exceeds dataset class count 1. Possible class labels are 0-0\n",
            "\u001b[34m\u001b[1mval: \u001b[0mWARNING ⚠️ /content/Pineapple Ripeness Detection.v3i.yolov8/valid/images/IMG_0938_JPG.rf.c6245809f66834f4de923487d700b743.jpg: ignoring corrupt image/label: Label class 1 exceeds dataset class count 1. Possible class labels are 0-0\n",
            "\u001b[34m\u001b[1mval: \u001b[0mWARNING ⚠️ /content/Pineapple Ripeness Detection.v3i.yolov8/valid/images/IMG_0940_JPG.rf.5284365b33749f5416109a4effda0adc.jpg: ignoring corrupt image/label: Label class 1 exceeds dataset class count 1. Possible class labels are 0-0\n",
            "\u001b[34m\u001b[1mval: \u001b[0mWARNING ⚠️ /content/Pineapple Ripeness Detection.v3i.yolov8/valid/images/IMG_0941_JPG.rf.24d8d8208bdd996311c1afbac2072b60.jpg: ignoring corrupt image/label: Label class 1 exceeds dataset class count 1. Possible class labels are 0-0\n",
            "\u001b[34m\u001b[1mval: \u001b[0mWARNING ⚠️ /content/Pineapple Ripeness Detection.v3i.yolov8/valid/images/IMG_0943_JPG.rf.087b8ed00e42a604dd9eb501dd47f30f.jpg: ignoring corrupt image/label: Label class 1 exceeds dataset class count 1. Possible class labels are 0-0\n",
            "\u001b[34m\u001b[1mval: \u001b[0mWARNING ⚠️ /content/Pineapple Ripeness Detection.v3i.yolov8/valid/images/IMG_0945_JPG.rf.51f8680f920e17e4eaa5e180afd4b994.jpg: ignoring corrupt image/label: Label class 1 exceeds dataset class count 1. Possible class labels are 0-0\n",
            "\u001b[34m\u001b[1mval: \u001b[0mWARNING ⚠️ /content/Pineapple Ripeness Detection.v3i.yolov8/valid/images/IMG_0946_JPG.rf.6d0336307311f9039a8585b13ae4403f.jpg: ignoring corrupt image/label: Label class 1 exceeds dataset class count 1. Possible class labels are 0-0\n",
            "\u001b[34m\u001b[1mval: \u001b[0mWARNING ⚠️ /content/Pineapple Ripeness Detection.v3i.yolov8/valid/images/IMG_0947_JPG.rf.0b7e5dbfa0b180c298c39b2e8e9f4f69.jpg: ignoring corrupt image/label: Label class 1 exceeds dataset class count 1. Possible class labels are 0-0\n",
            "\u001b[34m\u001b[1mval: \u001b[0mWARNING ⚠️ /content/Pineapple Ripeness Detection.v3i.yolov8/valid/images/IMG_0949_JPG.rf.24dda2b0c02cf8fea44cc9a566b6e321.jpg: ignoring corrupt image/label: Label class 1 exceeds dataset class count 1. Possible class labels are 0-0\n",
            "\u001b[34m\u001b[1mval: \u001b[0mWARNING ⚠️ /content/Pineapple Ripeness Detection.v3i.yolov8/valid/images/IMG_0953_JPG.rf.977578843b340cd335a0c27ea210eb70.jpg: ignoring corrupt image/label: Label class 1 exceeds dataset class count 1. Possible class labels are 0-0\n",
            "\u001b[34m\u001b[1mval: \u001b[0mWARNING ⚠️ /content/Pineapple Ripeness Detection.v3i.yolov8/valid/images/IMG_0958_JPG.rf.53beb8f51b2b12e43a74b0eacd746e22.jpg: ignoring corrupt image/label: Label class 1 exceeds dataset class count 1. Possible class labels are 0-0\n",
            "\u001b[34m\u001b[1mval: \u001b[0mWARNING ⚠️ /content/Pineapple Ripeness Detection.v3i.yolov8/valid/images/IMG_0959_JPG.rf.d2b8accb0fcf89d9b0d91a46cf91b685.jpg: ignoring corrupt image/label: Label class 1 exceeds dataset class count 1. Possible class labels are 0-0\n",
            "\u001b[34m\u001b[1mval: \u001b[0mWARNING ⚠️ /content/Pineapple Ripeness Detection.v3i.yolov8/valid/images/IMG_0960_JPG.rf.9ed7b003486ff858a912db8576a63341.jpg: ignoring corrupt image/label: Label class 1 exceeds dataset class count 1. Possible class labels are 0-0\n",
            "\u001b[34m\u001b[1mval: \u001b[0mWARNING ⚠️ /content/Pineapple Ripeness Detection.v3i.yolov8/valid/images/IMG_0963_JPG.rf.3a03a09e4abec0a81f481368e6cc2650.jpg: ignoring corrupt image/label: Label class 1 exceeds dataset class count 1. Possible class labels are 0-0\n",
            "\u001b[34m\u001b[1mval: \u001b[0mWARNING ⚠️ /content/Pineapple Ripeness Detection.v3i.yolov8/valid/images/IMG_0966_JPG.rf.4c7ac5a5541ae3138102d7395091b08a.jpg: ignoring corrupt image/label: Label class 1 exceeds dataset class count 1. Possible class labels are 0-0\n",
            "\u001b[34m\u001b[1mval: \u001b[0mWARNING ⚠️ /content/Pineapple Ripeness Detection.v3i.yolov8/valid/images/IMG_0968_JPG.rf.793017b79dffe14ef7bf8492b1b434ff.jpg: ignoring corrupt image/label: Label class 1 exceeds dataset class count 1. Possible class labels are 0-0\n",
            "\u001b[34m\u001b[1mval: \u001b[0mWARNING ⚠️ /content/Pineapple Ripeness Detection.v3i.yolov8/valid/images/IMG_0969_JPG.rf.1819781521411aa2820464d94accf5fe.jpg: ignoring corrupt image/label: Label class 1 exceeds dataset class count 1. Possible class labels are 0-0\n",
            "\u001b[34m\u001b[1mval: \u001b[0mWARNING ⚠️ /content/Pineapple Ripeness Detection.v3i.yolov8/valid/images/IMG_0974_JPG.rf.2145e71a5503a3493ca4416e50fa5cea.jpg: ignoring corrupt image/label: Label class 1 exceeds dataset class count 1. Possible class labels are 0-0\n",
            "\u001b[34m\u001b[1mval: \u001b[0mWARNING ⚠️ /content/Pineapple Ripeness Detection.v3i.yolov8/valid/images/IMG_0978_JPG.rf.f7d8f92a0d6d52931c78255a805989d6.jpg: ignoring corrupt image/label: Label class 1 exceeds dataset class count 1. Possible class labels are 0-0\n",
            "\u001b[34m\u001b[1mval: \u001b[0mWARNING ⚠️ /content/Pineapple Ripeness Detection.v3i.yolov8/valid/images/IMG_0983_JPG.rf.865a7bee2ca871bfd9cb3b630cf5c329.jpg: ignoring corrupt image/label: Label class 1 exceeds dataset class count 1. Possible class labels are 0-0\n",
            "\u001b[34m\u001b[1mval: \u001b[0mWARNING ⚠️ /content/Pineapple Ripeness Detection.v3i.yolov8/valid/images/IMG_0987_JPG.rf.508055a176d71663428c1b5f019a3289.jpg: ignoring corrupt image/label: Label class 1 exceeds dataset class count 1. Possible class labels are 0-0\n",
            "\u001b[34m\u001b[1mval: \u001b[0mWARNING ⚠️ /content/Pineapple Ripeness Detection.v3i.yolov8/valid/images/IMG_0989_JPG.rf.8a31725e656e6948abaf6afffdfc20d3.jpg: ignoring corrupt image/label: Label class 1 exceeds dataset class count 1. Possible class labels are 0-0\n",
            "\u001b[34m\u001b[1mval: \u001b[0mWARNING ⚠️ /content/Pineapple Ripeness Detection.v3i.yolov8/valid/images/IMG_0991_JPG.rf.e5fff500265775295a576502c5b74e04.jpg: ignoring corrupt image/label: Label class 1 exceeds dataset class count 1. Possible class labels are 0-0\n",
            "\u001b[34m\u001b[1mval: \u001b[0mWARNING ⚠️ /content/Pineapple Ripeness Detection.v3i.yolov8/valid/images/IMG_0992_JPG.rf.9c8e1da3378db2629e674286e4ffb09e.jpg: ignoring corrupt image/label: Label class 1 exceeds dataset class count 1. Possible class labels are 0-0\n",
            "\u001b[34m\u001b[1mval: \u001b[0mWARNING ⚠️ /content/Pineapple Ripeness Detection.v3i.yolov8/valid/images/IMG_0997_JPG.rf.0a407a9374be3e9e5cc506593ce51e16.jpg: ignoring corrupt image/label: Label class 1 exceeds dataset class count 1. Possible class labels are 0-0\n",
            "\u001b[34m\u001b[1mval: \u001b[0mWARNING ⚠️ /content/Pineapple Ripeness Detection.v3i.yolov8/valid/images/IMG_0998_JPG.rf.04766e18a80cc362250ce6a7b409f811.jpg: ignoring corrupt image/label: Label class 1 exceeds dataset class count 1. Possible class labels are 0-0\n",
            "\u001b[34m\u001b[1mval: \u001b[0mWARNING ⚠️ /content/Pineapple Ripeness Detection.v3i.yolov8/valid/images/IMG_1007_JPG.rf.8d819c6043e71ab08693a2433e0a0c5a.jpg: ignoring corrupt image/label: Label class 1 exceeds dataset class count 1. Possible class labels are 0-0\n",
            "\u001b[34m\u001b[1mval: \u001b[0mWARNING ⚠️ /content/Pineapple Ripeness Detection.v3i.yolov8/valid/images/image22_jpeg.rf.342a9017fa71a1e5661290d9d96f06a8.jpg: ignoring corrupt image/label: Label class 1 exceeds dataset class count 1. Possible class labels are 0-0\n",
            "\u001b[34m\u001b[1mval: \u001b[0mWARNING ⚠️ /content/Pineapple Ripeness Detection.v3i.yolov8/valid/images/image24_jpeg.rf.7e7b86906a55095b37c18a77c62d33c5.jpg: ignoring corrupt image/label: Label class 1 exceeds dataset class count 1. Possible class labels are 0-0\n",
            "\u001b[34m\u001b[1mval: \u001b[0mWARNING ⚠️ /content/Pineapple Ripeness Detection.v3i.yolov8/valid/images/images119_jpg.rf.707b2b56446b8816f8e3062e6336442d.jpg: ignoring corrupt image/label: Label class 1 exceeds dataset class count 1. Possible class labels are 0-0\n",
            "\u001b[34m\u001b[1mval: \u001b[0mWARNING ⚠️ /content/Pineapple Ripeness Detection.v3i.yolov8/valid/images/images169_jpg.rf.5bb3e77109dbc7e1d2d47569e97b591f.jpg: ignoring corrupt image/label: Label class 1 exceeds dataset class count 1. Possible class labels are 0-0\n",
            "\u001b[34m\u001b[1mval: \u001b[0mWARNING ⚠️ /content/Pineapple Ripeness Detection.v3i.yolov8/valid/images/images255_jpg.rf.5cdf45865e5698342a5e82295da76df4.jpg: ignoring corrupt image/label: Label class 1 exceeds dataset class count 1. Possible class labels are 0-0\n",
            "\u001b[34m\u001b[1mval: \u001b[0mWARNING ⚠️ /content/Pineapple Ripeness Detection.v3i.yolov8/valid/images/images291_jpg.rf.2c2b15f45ed0d2d955538d3ab8d60225.jpg: ignoring corrupt image/label: Label class 1 exceeds dataset class count 1. Possible class labels are 0-0\n",
            "\u001b[34m\u001b[1mval: \u001b[0mWARNING ⚠️ /content/Pineapple Ripeness Detection.v3i.yolov8/valid/images/images303_jpg.rf.5841d0ee71d47def90159d7bc8c4600c.jpg: ignoring corrupt image/label: Label class 1 exceeds dataset class count 1. Possible class labels are 0-0\n",
            "\u001b[34m\u001b[1mval: \u001b[0mWARNING ⚠️ /content/Pineapple Ripeness Detection.v3i.yolov8/valid/images/images372_jpg.rf.3c01f95b063e5f59c8a88b4decb3454d.jpg: ignoring corrupt image/label: Label class 1 exceeds dataset class count 1. Possible class labels are 0-0\n"
          ]
        },
        {
          "output_type": "stream",
          "name": "stderr",
          "text": [
            "\n"
          ]
        },
        {
          "output_type": "stream",
          "name": "stdout",
          "text": [
            "Plotting labels to runs/detect/train4/labels.jpg... \n",
            "\u001b[34m\u001b[1moptimizer:\u001b[0m 'optimizer=auto' found, ignoring 'lr0=0.01' and 'momentum=0.937' and determining best 'optimizer', 'lr0' and 'momentum' automatically... \n",
            "\u001b[34m\u001b[1moptimizer:\u001b[0m AdamW(lr=0.002, momentum=0.9) with parameter groups 57 weight(decay=0.0), 64 weight(decay=0.0005), 63 bias(decay=0.0)\n",
            "Image sizes 640 train, 640 val\n",
            "Using 2 dataloader workers\n",
            "Logging results to \u001b[1mruns/detect/train4\u001b[0m\n",
            "Starting training for 50 epochs...\n",
            "\n",
            "      Epoch    GPU_mem   box_loss   cls_loss   dfl_loss  Instances       Size\n"
          ]
        },
        {
          "output_type": "stream",
          "name": "stderr",
          "text": [
            "       1/50      2.39G      1.595      2.565      1.814         33        640: 100%|██████████| 24/24 [00:06<00:00,  3.45it/s]\n",
            "                 Class     Images  Instances      Box(P          R      mAP50  mAP50-95): 100%|██████████| 3/3 [00:01<00:00,  1.99it/s]"
          ]
        },
        {
          "output_type": "stream",
          "name": "stdout",
          "text": [
            "                   all         82         88    0.00354      0.989      0.403      0.171\n"
          ]
        },
        {
          "output_type": "stream",
          "name": "stderr",
          "text": [
            "\n"
          ]
        },
        {
          "output_type": "stream",
          "name": "stdout",
          "text": [
            "\n",
            "      Epoch    GPU_mem   box_loss   cls_loss   dfl_loss  Instances       Size\n"
          ]
        },
        {
          "output_type": "stream",
          "name": "stderr",
          "text": [
            "       2/50      2.85G       1.51      2.202      1.784         23        640: 100%|██████████| 24/24 [00:05<00:00,  4.01it/s]\n",
            "                 Class     Images  Instances      Box(P          R      mAP50  mAP50-95): 100%|██████████| 3/3 [00:00<00:00,  3.23it/s]"
          ]
        },
        {
          "output_type": "stream",
          "name": "stdout",
          "text": [
            "                   all         82         88     0.0562      0.659      0.195     0.0638\n"
          ]
        },
        {
          "output_type": "stream",
          "name": "stderr",
          "text": [
            "\n"
          ]
        },
        {
          "output_type": "stream",
          "name": "stdout",
          "text": [
            "\n",
            "      Epoch    GPU_mem   box_loss   cls_loss   dfl_loss  Instances       Size\n"
          ]
        },
        {
          "output_type": "stream",
          "name": "stderr",
          "text": [
            "       3/50      2.85G      1.596      2.117      1.815         26        640: 100%|██████████| 24/24 [00:07<00:00,  3.36it/s]\n",
            "                 Class     Images  Instances      Box(P          R      mAP50  mAP50-95): 100%|██████████| 3/3 [00:00<00:00,  3.34it/s]"
          ]
        },
        {
          "output_type": "stream",
          "name": "stdout",
          "text": [
            "                   all         82         88      0.288      0.443      0.272     0.0848\n"
          ]
        },
        {
          "output_type": "stream",
          "name": "stderr",
          "text": [
            "\n"
          ]
        },
        {
          "output_type": "stream",
          "name": "stdout",
          "text": [
            "\n",
            "      Epoch    GPU_mem   box_loss   cls_loss   dfl_loss  Instances       Size\n"
          ]
        },
        {
          "output_type": "stream",
          "name": "stderr",
          "text": [
            "       4/50      2.85G      1.597      2.096      1.809         24        640: 100%|██████████| 24/24 [00:05<00:00,  4.18it/s]\n",
            "                 Class     Images  Instances      Box(P          R      mAP50  mAP50-95): 100%|██████████| 3/3 [00:00<00:00,  3.60it/s]"
          ]
        },
        {
          "output_type": "stream",
          "name": "stdout",
          "text": [
            "                   all         82         88      0.238      0.273      0.182     0.0522\n"
          ]
        },
        {
          "output_type": "stream",
          "name": "stderr",
          "text": [
            "\n"
          ]
        },
        {
          "output_type": "stream",
          "name": "stdout",
          "text": [
            "\n",
            "      Epoch    GPU_mem   box_loss   cls_loss   dfl_loss  Instances       Size\n"
          ]
        },
        {
          "output_type": "stream",
          "name": "stderr",
          "text": [
            "       5/50      2.85G      1.602      1.993      1.825         26        640: 100%|██████████| 24/24 [00:06<00:00,  3.46it/s]\n",
            "                 Class     Images  Instances      Box(P          R      mAP50  mAP50-95): 100%|██████████| 3/3 [00:00<00:00,  3.65it/s]"
          ]
        },
        {
          "output_type": "stream",
          "name": "stdout",
          "text": [
            "                   all         82         88      0.287      0.466      0.256     0.0875\n"
          ]
        },
        {
          "output_type": "stream",
          "name": "stderr",
          "text": [
            "\n"
          ]
        },
        {
          "output_type": "stream",
          "name": "stdout",
          "text": [
            "\n",
            "      Epoch    GPU_mem   box_loss   cls_loss   dfl_loss  Instances       Size\n"
          ]
        },
        {
          "output_type": "stream",
          "name": "stderr",
          "text": [
            "       6/50      2.85G      1.667      1.937      1.846         32        640: 100%|██████████| 24/24 [00:05<00:00,  4.22it/s]\n",
            "                 Class     Images  Instances      Box(P          R      mAP50  mAP50-95): 100%|██████████| 3/3 [00:00<00:00,  3.03it/s]"
          ]
        },
        {
          "output_type": "stream",
          "name": "stdout",
          "text": [
            "                   all         82         88       0.13      0.114     0.0468     0.0117\n"
          ]
        },
        {
          "output_type": "stream",
          "name": "stderr",
          "text": [
            "\n"
          ]
        },
        {
          "output_type": "stream",
          "name": "stdout",
          "text": [
            "\n",
            "      Epoch    GPU_mem   box_loss   cls_loss   dfl_loss  Instances       Size\n"
          ]
        },
        {
          "output_type": "stream",
          "name": "stderr",
          "text": [
            "       7/50      2.85G      1.545      1.779      1.782         26        640: 100%|██████████| 24/24 [00:06<00:00,  3.68it/s]\n",
            "                 Class     Images  Instances      Box(P          R      mAP50  mAP50-95): 100%|██████████| 3/3 [00:00<00:00,  3.47it/s]"
          ]
        },
        {
          "output_type": "stream",
          "name": "stdout",
          "text": [
            "                   all         82         88      0.238      0.409      0.244     0.0724\n"
          ]
        },
        {
          "output_type": "stream",
          "name": "stderr",
          "text": [
            "\n"
          ]
        },
        {
          "output_type": "stream",
          "name": "stdout",
          "text": [
            "\n",
            "      Epoch    GPU_mem   box_loss   cls_loss   dfl_loss  Instances       Size\n"
          ]
        },
        {
          "output_type": "stream",
          "name": "stderr",
          "text": [
            "       8/50      2.85G      1.557      1.743      1.747         28        640: 100%|██████████| 24/24 [00:07<00:00,  3.20it/s]\n",
            "                 Class     Images  Instances      Box(P          R      mAP50  mAP50-95): 100%|██████████| 3/3 [00:00<00:00,  3.45it/s]"
          ]
        },
        {
          "output_type": "stream",
          "name": "stdout",
          "text": [
            "                   all         82         88      0.314      0.466      0.277     0.0881\n"
          ]
        },
        {
          "output_type": "stream",
          "name": "stderr",
          "text": [
            "\n"
          ]
        },
        {
          "output_type": "stream",
          "name": "stdout",
          "text": [
            "\n",
            "      Epoch    GPU_mem   box_loss   cls_loss   dfl_loss  Instances       Size\n"
          ]
        },
        {
          "output_type": "stream",
          "name": "stderr",
          "text": [
            "       9/50      2.85G      1.568      1.746      1.778         30        640: 100%|██████████| 24/24 [00:05<00:00,  4.12it/s]\n",
            "                 Class     Images  Instances      Box(P          R      mAP50  mAP50-95): 100%|██████████| 3/3 [00:00<00:00,  3.66it/s]"
          ]
        },
        {
          "output_type": "stream",
          "name": "stdout",
          "text": [
            "                   all         82         88       0.63      0.455      0.518       0.22\n"
          ]
        },
        {
          "output_type": "stream",
          "name": "stderr",
          "text": [
            "\n"
          ]
        },
        {
          "output_type": "stream",
          "name": "stdout",
          "text": [
            "\n",
            "      Epoch    GPU_mem   box_loss   cls_loss   dfl_loss  Instances       Size\n"
          ]
        },
        {
          "output_type": "stream",
          "name": "stderr",
          "text": [
            "      10/50      2.85G      1.582      1.704      1.719         26        640: 100%|██████████| 24/24 [00:06<00:00,  3.53it/s]\n",
            "                 Class     Images  Instances      Box(P          R      mAP50  mAP50-95): 100%|██████████| 3/3 [00:00<00:00,  4.05it/s]"
          ]
        },
        {
          "output_type": "stream",
          "name": "stdout",
          "text": [
            "                   all         82         88       0.49      0.693      0.524      0.183\n"
          ]
        },
        {
          "output_type": "stream",
          "name": "stderr",
          "text": [
            "\n"
          ]
        },
        {
          "output_type": "stream",
          "name": "stdout",
          "text": [
            "\n",
            "      Epoch    GPU_mem   box_loss   cls_loss   dfl_loss  Instances       Size\n"
          ]
        },
        {
          "output_type": "stream",
          "name": "stderr",
          "text": [
            "      11/50      2.85G      1.549      1.618      1.763         21        640: 100%|██████████| 24/24 [00:05<00:00,  4.01it/s]\n",
            "                 Class     Images  Instances      Box(P          R      mAP50  mAP50-95): 100%|██████████| 3/3 [00:00<00:00,  3.60it/s]"
          ]
        },
        {
          "output_type": "stream",
          "name": "stdout",
          "text": [
            "                   all         82         88       0.28      0.466      0.257     0.0764\n"
          ]
        },
        {
          "output_type": "stream",
          "name": "stderr",
          "text": [
            "\n"
          ]
        },
        {
          "output_type": "stream",
          "name": "stdout",
          "text": [
            "\n",
            "      Epoch    GPU_mem   box_loss   cls_loss   dfl_loss  Instances       Size\n"
          ]
        },
        {
          "output_type": "stream",
          "name": "stderr",
          "text": [
            "      12/50      2.85G      1.526      1.642      1.723         28        640: 100%|██████████| 24/24 [00:06<00:00,  3.71it/s]\n",
            "                 Class     Images  Instances      Box(P          R      mAP50  mAP50-95): 100%|██████████| 3/3 [00:00<00:00,  3.44it/s]"
          ]
        },
        {
          "output_type": "stream",
          "name": "stdout",
          "text": [
            "                   all         82         88      0.659      0.625      0.676      0.267\n"
          ]
        },
        {
          "output_type": "stream",
          "name": "stderr",
          "text": [
            "\n"
          ]
        },
        {
          "output_type": "stream",
          "name": "stdout",
          "text": [
            "\n",
            "      Epoch    GPU_mem   box_loss   cls_loss   dfl_loss  Instances       Size\n"
          ]
        },
        {
          "output_type": "stream",
          "name": "stderr",
          "text": [
            "      13/50      2.85G       1.48      1.514       1.67         24        640: 100%|██████████| 24/24 [00:07<00:00,  3.24it/s]\n",
            "                 Class     Images  Instances      Box(P          R      mAP50  mAP50-95): 100%|██████████| 3/3 [00:00<00:00,  3.56it/s]"
          ]
        },
        {
          "output_type": "stream",
          "name": "stdout",
          "text": [
            "                   all         82         88       0.29       0.51      0.294      0.129\n"
          ]
        },
        {
          "output_type": "stream",
          "name": "stderr",
          "text": [
            "\n"
          ]
        },
        {
          "output_type": "stream",
          "name": "stdout",
          "text": [
            "\n",
            "      Epoch    GPU_mem   box_loss   cls_loss   dfl_loss  Instances       Size\n"
          ]
        },
        {
          "output_type": "stream",
          "name": "stderr",
          "text": [
            "      14/50      2.85G      1.495      1.521      1.689         28        640: 100%|██████████| 24/24 [00:05<00:00,  4.26it/s]\n",
            "                 Class     Images  Instances      Box(P          R      mAP50  mAP50-95): 100%|██████████| 3/3 [00:00<00:00,  3.36it/s]"
          ]
        },
        {
          "output_type": "stream",
          "name": "stdout",
          "text": [
            "                   all         82         88      0.623      0.625      0.683      0.311\n"
          ]
        },
        {
          "output_type": "stream",
          "name": "stderr",
          "text": [
            "\n"
          ]
        },
        {
          "output_type": "stream",
          "name": "stdout",
          "text": [
            "\n",
            "      Epoch    GPU_mem   box_loss   cls_loss   dfl_loss  Instances       Size\n"
          ]
        },
        {
          "output_type": "stream",
          "name": "stderr",
          "text": [
            "      15/50      2.85G      1.479      1.492      1.684         34        640: 100%|██████████| 24/24 [00:06<00:00,  3.45it/s]\n",
            "                 Class     Images  Instances      Box(P          R      mAP50  mAP50-95): 100%|██████████| 3/3 [00:00<00:00,  3.24it/s]"
          ]
        },
        {
          "output_type": "stream",
          "name": "stdout",
          "text": [
            "                   all         82         88      0.489       0.67      0.639      0.286\n"
          ]
        },
        {
          "output_type": "stream",
          "name": "stderr",
          "text": [
            "\n"
          ]
        },
        {
          "output_type": "stream",
          "name": "stdout",
          "text": [
            "\n",
            "      Epoch    GPU_mem   box_loss   cls_loss   dfl_loss  Instances       Size\n"
          ]
        },
        {
          "output_type": "stream",
          "name": "stderr",
          "text": [
            "      16/50      2.85G      1.411      1.412       1.65         24        640: 100%|██████████| 24/24 [00:05<00:00,  4.33it/s]\n",
            "                 Class     Images  Instances      Box(P          R      mAP50  mAP50-95): 100%|██████████| 3/3 [00:00<00:00,  3.59it/s]"
          ]
        },
        {
          "output_type": "stream",
          "name": "stdout",
          "text": [
            "                   all         82         88      0.834      0.625      0.749      0.392\n"
          ]
        },
        {
          "output_type": "stream",
          "name": "stderr",
          "text": [
            "\n"
          ]
        },
        {
          "output_type": "stream",
          "name": "stdout",
          "text": [
            "\n",
            "      Epoch    GPU_mem   box_loss   cls_loss   dfl_loss  Instances       Size\n"
          ]
        },
        {
          "output_type": "stream",
          "name": "stderr",
          "text": [
            "      17/50      2.85G      1.426      1.433      1.646         27        640: 100%|██████████| 24/24 [00:06<00:00,  3.52it/s]\n",
            "                 Class     Images  Instances      Box(P          R      mAP50  mAP50-95): 100%|██████████| 3/3 [00:00<00:00,  3.33it/s]"
          ]
        },
        {
          "output_type": "stream",
          "name": "stdout",
          "text": [
            "                   all         82         88       0.76      0.705      0.761      0.338\n"
          ]
        },
        {
          "output_type": "stream",
          "name": "stderr",
          "text": [
            "\n"
          ]
        },
        {
          "output_type": "stream",
          "name": "stdout",
          "text": [
            "\n",
            "      Epoch    GPU_mem   box_loss   cls_loss   dfl_loss  Instances       Size\n"
          ]
        },
        {
          "output_type": "stream",
          "name": "stderr",
          "text": [
            "      18/50      2.85G      1.423      1.415      1.637         24        640: 100%|██████████| 24/24 [00:05<00:00,  4.12it/s]\n",
            "                 Class     Images  Instances      Box(P          R      mAP50  mAP50-95): 100%|██████████| 3/3 [00:01<00:00,  2.04it/s]"
          ]
        },
        {
          "output_type": "stream",
          "name": "stdout",
          "text": [
            "                   all         82         88      0.771      0.727      0.759      0.339\n"
          ]
        },
        {
          "output_type": "stream",
          "name": "stderr",
          "text": [
            "\n"
          ]
        },
        {
          "output_type": "stream",
          "name": "stdout",
          "text": [
            "\n",
            "      Epoch    GPU_mem   box_loss   cls_loss   dfl_loss  Instances       Size\n"
          ]
        },
        {
          "output_type": "stream",
          "name": "stderr",
          "text": [
            "      19/50      2.85G      1.417      1.406      1.608         26        640: 100%|██████████| 24/24 [00:06<00:00,  3.92it/s]\n",
            "                 Class     Images  Instances      Box(P          R      mAP50  mAP50-95): 100%|██████████| 3/3 [00:00<00:00,  4.33it/s]"
          ]
        },
        {
          "output_type": "stream",
          "name": "stdout",
          "text": [
            "                   all         82         88      0.621      0.659      0.681      0.351\n"
          ]
        },
        {
          "output_type": "stream",
          "name": "stderr",
          "text": [
            "\n"
          ]
        },
        {
          "output_type": "stream",
          "name": "stdout",
          "text": [
            "\n",
            "      Epoch    GPU_mem   box_loss   cls_loss   dfl_loss  Instances       Size\n"
          ]
        },
        {
          "output_type": "stream",
          "name": "stderr",
          "text": [
            "      20/50      2.85G      1.379      1.346      1.598         22        640: 100%|██████████| 24/24 [00:06<00:00,  3.62it/s]\n",
            "                 Class     Images  Instances      Box(P          R      mAP50  mAP50-95): 100%|██████████| 3/3 [00:00<00:00,  3.09it/s]"
          ]
        },
        {
          "output_type": "stream",
          "name": "stdout",
          "text": [
            "                   all         82         88      0.856      0.636      0.799      0.389\n"
          ]
        },
        {
          "output_type": "stream",
          "name": "stderr",
          "text": [
            "\n"
          ]
        },
        {
          "output_type": "stream",
          "name": "stdout",
          "text": [
            "\n",
            "      Epoch    GPU_mem   box_loss   cls_loss   dfl_loss  Instances       Size\n"
          ]
        },
        {
          "output_type": "stream",
          "name": "stderr",
          "text": [
            "      21/50      2.85G      1.393      1.306      1.593         24        640: 100%|██████████| 24/24 [00:05<00:00,  4.21it/s]\n",
            "                 Class     Images  Instances      Box(P          R      mAP50  mAP50-95): 100%|██████████| 3/3 [00:00<00:00,  3.66it/s]"
          ]
        },
        {
          "output_type": "stream",
          "name": "stdout",
          "text": [
            "                   all         82         88      0.699      0.634      0.659      0.284\n"
          ]
        },
        {
          "output_type": "stream",
          "name": "stderr",
          "text": [
            "\n"
          ]
        },
        {
          "output_type": "stream",
          "name": "stdout",
          "text": [
            "\n",
            "      Epoch    GPU_mem   box_loss   cls_loss   dfl_loss  Instances       Size\n"
          ]
        },
        {
          "output_type": "stream",
          "name": "stderr",
          "text": [
            "      22/50      2.85G      1.336      1.255      1.563         31        640: 100%|██████████| 24/24 [00:06<00:00,  3.44it/s]\n",
            "                 Class     Images  Instances      Box(P          R      mAP50  mAP50-95): 100%|██████████| 3/3 [00:00<00:00,  3.33it/s]"
          ]
        },
        {
          "output_type": "stream",
          "name": "stdout",
          "text": [
            "                   all         82         88      0.765      0.741      0.757      0.341\n"
          ]
        },
        {
          "output_type": "stream",
          "name": "stderr",
          "text": [
            "\n"
          ]
        },
        {
          "output_type": "stream",
          "name": "stdout",
          "text": [
            "\n",
            "      Epoch    GPU_mem   box_loss   cls_loss   dfl_loss  Instances       Size\n"
          ]
        },
        {
          "output_type": "stream",
          "name": "stderr",
          "text": [
            "      23/50      2.85G      1.367      1.295      1.592         26        640: 100%|██████████| 24/24 [00:05<00:00,  4.05it/s]\n",
            "                 Class     Images  Instances      Box(P          R      mAP50  mAP50-95): 100%|██████████| 3/3 [00:01<00:00,  2.33it/s]"
          ]
        },
        {
          "output_type": "stream",
          "name": "stdout",
          "text": [
            "                   all         82         88      0.787      0.716      0.802      0.351\n"
          ]
        },
        {
          "output_type": "stream",
          "name": "stderr",
          "text": [
            "\n"
          ]
        },
        {
          "output_type": "stream",
          "name": "stdout",
          "text": [
            "\n",
            "      Epoch    GPU_mem   box_loss   cls_loss   dfl_loss  Instances       Size\n"
          ]
        },
        {
          "output_type": "stream",
          "name": "stderr",
          "text": [
            "      24/50      2.85G      1.327      1.226      1.548         23        640: 100%|██████████| 24/24 [00:05<00:00,  4.00it/s]\n",
            "                 Class     Images  Instances      Box(P          R      mAP50  mAP50-95): 100%|██████████| 3/3 [00:00<00:00,  3.41it/s]"
          ]
        },
        {
          "output_type": "stream",
          "name": "stdout",
          "text": [
            "                   all         82         88      0.816       0.75      0.792      0.373\n"
          ]
        },
        {
          "output_type": "stream",
          "name": "stderr",
          "text": [
            "\n"
          ]
        },
        {
          "output_type": "stream",
          "name": "stdout",
          "text": [
            "\n",
            "      Epoch    GPU_mem   box_loss   cls_loss   dfl_loss  Instances       Size\n"
          ]
        },
        {
          "output_type": "stream",
          "name": "stderr",
          "text": [
            "      25/50      2.85G      1.271      1.194      1.494         31        640: 100%|██████████| 24/24 [00:06<00:00,  3.51it/s]\n",
            "                 Class     Images  Instances      Box(P          R      mAP50  mAP50-95): 100%|██████████| 3/3 [00:00<00:00,  3.56it/s]"
          ]
        },
        {
          "output_type": "stream",
          "name": "stdout",
          "text": [
            "                   all         82         88      0.845      0.716      0.799      0.375\n"
          ]
        },
        {
          "output_type": "stream",
          "name": "stderr",
          "text": [
            "\n"
          ]
        },
        {
          "output_type": "stream",
          "name": "stdout",
          "text": [
            "\n",
            "      Epoch    GPU_mem   box_loss   cls_loss   dfl_loss  Instances       Size\n"
          ]
        },
        {
          "output_type": "stream",
          "name": "stderr",
          "text": [
            "      26/50      2.85G      1.279      1.147      1.528         32        640: 100%|██████████| 24/24 [00:05<00:00,  4.24it/s]\n",
            "                 Class     Images  Instances      Box(P          R      mAP50  mAP50-95): 100%|██████████| 3/3 [00:00<00:00,  3.49it/s]"
          ]
        },
        {
          "output_type": "stream",
          "name": "stdout",
          "text": [
            "                   all         82         88      0.842      0.739      0.817      0.387\n"
          ]
        },
        {
          "output_type": "stream",
          "name": "stderr",
          "text": [
            "\n"
          ]
        },
        {
          "output_type": "stream",
          "name": "stdout",
          "text": [
            "\n",
            "      Epoch    GPU_mem   box_loss   cls_loss   dfl_loss  Instances       Size\n"
          ]
        },
        {
          "output_type": "stream",
          "name": "stderr",
          "text": [
            "      27/50      2.85G      1.267      1.181      1.497         25        640: 100%|██████████| 24/24 [00:06<00:00,  3.47it/s]\n",
            "                 Class     Images  Instances      Box(P          R      mAP50  mAP50-95): 100%|██████████| 3/3 [00:00<00:00,  3.63it/s]"
          ]
        },
        {
          "output_type": "stream",
          "name": "stdout",
          "text": [
            "                   all         82         88      0.677      0.788      0.728      0.365\n"
          ]
        },
        {
          "output_type": "stream",
          "name": "stderr",
          "text": [
            "\n"
          ]
        },
        {
          "output_type": "stream",
          "name": "stdout",
          "text": [
            "\n",
            "      Epoch    GPU_mem   box_loss   cls_loss   dfl_loss  Instances       Size\n"
          ]
        },
        {
          "output_type": "stream",
          "name": "stderr",
          "text": [
            "      28/50      2.85G      1.249      1.162      1.502         22        640: 100%|██████████| 24/24 [00:06<00:00,  3.80it/s]\n",
            "                 Class     Images  Instances      Box(P          R      mAP50  mAP50-95): 100%|██████████| 3/3 [00:01<00:00,  2.30it/s]"
          ]
        },
        {
          "output_type": "stream",
          "name": "stdout",
          "text": [
            "                   all         82         88      0.756      0.784      0.773       0.38\n"
          ]
        },
        {
          "output_type": "stream",
          "name": "stderr",
          "text": [
            "\n"
          ]
        },
        {
          "output_type": "stream",
          "name": "stdout",
          "text": [
            "\n",
            "      Epoch    GPU_mem   box_loss   cls_loss   dfl_loss  Instances       Size\n"
          ]
        },
        {
          "output_type": "stream",
          "name": "stderr",
          "text": [
            "      29/50      2.85G      1.225      1.119      1.444         29        640: 100%|██████████| 24/24 [00:06<00:00,  3.97it/s]\n",
            "                 Class     Images  Instances      Box(P          R      mAP50  mAP50-95): 100%|██████████| 3/3 [00:00<00:00,  3.56it/s]"
          ]
        },
        {
          "output_type": "stream",
          "name": "stdout",
          "text": [
            "                   all         82         88      0.761      0.636      0.714      0.354\n"
          ]
        },
        {
          "output_type": "stream",
          "name": "stderr",
          "text": [
            "\n"
          ]
        },
        {
          "output_type": "stream",
          "name": "stdout",
          "text": [
            "\n",
            "      Epoch    GPU_mem   box_loss   cls_loss   dfl_loss  Instances       Size\n"
          ]
        },
        {
          "output_type": "stream",
          "name": "stderr",
          "text": [
            "      30/50      2.85G      1.283      1.127      1.502         18        640: 100%|██████████| 24/24 [00:06<00:00,  3.45it/s]\n",
            "                 Class     Images  Instances      Box(P          R      mAP50  mAP50-95): 100%|██████████| 3/3 [00:00<00:00,  3.50it/s]"
          ]
        },
        {
          "output_type": "stream",
          "name": "stdout",
          "text": [
            "                   all         82         88       0.77      0.759      0.814      0.419\n"
          ]
        },
        {
          "output_type": "stream",
          "name": "stderr",
          "text": [
            "\n"
          ]
        },
        {
          "output_type": "stream",
          "name": "stdout",
          "text": [
            "\n",
            "      Epoch    GPU_mem   box_loss   cls_loss   dfl_loss  Instances       Size\n"
          ]
        },
        {
          "output_type": "stream",
          "name": "stderr",
          "text": [
            "      31/50      2.85G      1.279      1.103       1.51         19        640: 100%|██████████| 24/24 [00:05<00:00,  4.08it/s]\n",
            "                 Class     Images  Instances      Box(P          R      mAP50  mAP50-95): 100%|██████████| 3/3 [00:00<00:00,  3.25it/s]"
          ]
        },
        {
          "output_type": "stream",
          "name": "stdout",
          "text": [
            "                   all         82         88      0.901      0.727      0.844      0.442\n"
          ]
        },
        {
          "output_type": "stream",
          "name": "stderr",
          "text": [
            "\n"
          ]
        },
        {
          "output_type": "stream",
          "name": "stdout",
          "text": [
            "\n",
            "      Epoch    GPU_mem   box_loss   cls_loss   dfl_loss  Instances       Size\n"
          ]
        },
        {
          "output_type": "stream",
          "name": "stderr",
          "text": [
            "      32/50      2.85G      1.255      1.063      1.463         23        640: 100%|██████████| 24/24 [00:06<00:00,  3.51it/s]\n",
            "                 Class     Images  Instances      Box(P          R      mAP50  mAP50-95): 100%|██████████| 3/3 [00:00<00:00,  3.51it/s]"
          ]
        },
        {
          "output_type": "stream",
          "name": "stdout",
          "text": [
            "                   all         82         88      0.869      0.753      0.866      0.414\n"
          ]
        },
        {
          "output_type": "stream",
          "name": "stderr",
          "text": [
            "\n"
          ]
        },
        {
          "output_type": "stream",
          "name": "stdout",
          "text": [
            "\n",
            "      Epoch    GPU_mem   box_loss   cls_loss   dfl_loss  Instances       Size\n"
          ]
        },
        {
          "output_type": "stream",
          "name": "stderr",
          "text": [
            "      33/50      2.85G      1.229      1.059      1.457         36        640: 100%|██████████| 24/24 [00:05<00:00,  4.08it/s]\n",
            "                 Class     Images  Instances      Box(P          R      mAP50  mAP50-95): 100%|██████████| 3/3 [00:01<00:00,  2.59it/s]"
          ]
        },
        {
          "output_type": "stream",
          "name": "stdout",
          "text": [
            "                   all         82         88      0.778      0.784      0.851      0.457\n"
          ]
        },
        {
          "output_type": "stream",
          "name": "stderr",
          "text": [
            "\n"
          ]
        },
        {
          "output_type": "stream",
          "name": "stdout",
          "text": [
            "\n",
            "      Epoch    GPU_mem   box_loss   cls_loss   dfl_loss  Instances       Size\n"
          ]
        },
        {
          "output_type": "stream",
          "name": "stderr",
          "text": [
            "      34/50      2.85G      1.127      1.005      1.393         20        640: 100%|██████████| 24/24 [00:06<00:00,  3.88it/s]\n",
            "                 Class     Images  Instances      Box(P          R      mAP50  mAP50-95): 100%|██████████| 3/3 [00:00<00:00,  3.63it/s]"
          ]
        },
        {
          "output_type": "stream",
          "name": "stdout",
          "text": [
            "                   all         82         88      0.914      0.773      0.889      0.489\n"
          ]
        },
        {
          "output_type": "stream",
          "name": "stderr",
          "text": [
            "\n"
          ]
        },
        {
          "output_type": "stream",
          "name": "stdout",
          "text": [
            "\n",
            "      Epoch    GPU_mem   box_loss   cls_loss   dfl_loss  Instances       Size\n"
          ]
        },
        {
          "output_type": "stream",
          "name": "stderr",
          "text": [
            "      35/50      2.85G      1.133      1.013       1.39         20        640: 100%|██████████| 24/24 [00:06<00:00,  3.52it/s]\n",
            "                 Class     Images  Instances      Box(P          R      mAP50  mAP50-95): 100%|██████████| 3/3 [00:00<00:00,  3.37it/s]"
          ]
        },
        {
          "output_type": "stream",
          "name": "stdout",
          "text": [
            "                   all         82         88      0.856      0.761      0.838      0.447\n"
          ]
        },
        {
          "output_type": "stream",
          "name": "stderr",
          "text": [
            "\n"
          ]
        },
        {
          "output_type": "stream",
          "name": "stdout",
          "text": [
            "\n",
            "      Epoch    GPU_mem   box_loss   cls_loss   dfl_loss  Instances       Size\n"
          ]
        },
        {
          "output_type": "stream",
          "name": "stderr",
          "text": [
            "      36/50      2.85G      1.149      1.008       1.44         27        640: 100%|██████████| 24/24 [00:05<00:00,  4.13it/s]\n",
            "                 Class     Images  Instances      Box(P          R      mAP50  mAP50-95): 100%|██████████| 3/3 [00:00<00:00,  3.63it/s]"
          ]
        },
        {
          "output_type": "stream",
          "name": "stdout",
          "text": [
            "                   all         82         88      0.865      0.784      0.851      0.449\n"
          ]
        },
        {
          "output_type": "stream",
          "name": "stderr",
          "text": [
            "\n"
          ]
        },
        {
          "output_type": "stream",
          "name": "stdout",
          "text": [
            "\n",
            "      Epoch    GPU_mem   box_loss   cls_loss   dfl_loss  Instances       Size\n"
          ]
        },
        {
          "output_type": "stream",
          "name": "stderr",
          "text": [
            "      37/50      2.85G      1.126     0.9823      1.403         24        640: 100%|██████████| 24/24 [00:06<00:00,  3.45it/s]\n",
            "                 Class     Images  Instances      Box(P          R      mAP50  mAP50-95): 100%|██████████| 3/3 [00:00<00:00,  3.48it/s]"
          ]
        },
        {
          "output_type": "stream",
          "name": "stdout",
          "text": [
            "                   all         82         88      0.863      0.788       0.87      0.448\n"
          ]
        },
        {
          "output_type": "stream",
          "name": "stderr",
          "text": [
            "\n"
          ]
        },
        {
          "output_type": "stream",
          "name": "stdout",
          "text": [
            "\n",
            "      Epoch    GPU_mem   box_loss   cls_loss   dfl_loss  Instances       Size\n"
          ]
        },
        {
          "output_type": "stream",
          "name": "stderr",
          "text": [
            "      38/50      2.85G      1.137     0.9746      1.395         33        640: 100%|██████████| 24/24 [00:05<00:00,  4.11it/s]\n",
            "                 Class     Images  Instances      Box(P          R      mAP50  mAP50-95): 100%|██████████| 3/3 [00:01<00:00,  2.77it/s]"
          ]
        },
        {
          "output_type": "stream",
          "name": "stdout",
          "text": [
            "                   all         82         88      0.882      0.807      0.865      0.468\n"
          ]
        },
        {
          "output_type": "stream",
          "name": "stderr",
          "text": [
            "\n"
          ]
        },
        {
          "output_type": "stream",
          "name": "stdout",
          "text": [
            "\n",
            "      Epoch    GPU_mem   box_loss   cls_loss   dfl_loss  Instances       Size\n"
          ]
        },
        {
          "output_type": "stream",
          "name": "stderr",
          "text": [
            "      39/50      2.85G      1.147     0.9762        1.4         19        640: 100%|██████████| 24/24 [00:06<00:00,  3.77it/s]\n",
            "                 Class     Images  Instances      Box(P          R      mAP50  mAP50-95): 100%|██████████| 3/3 [00:00<00:00,  3.48it/s]"
          ]
        },
        {
          "output_type": "stream",
          "name": "stdout",
          "text": [
            "                   all         82         88      0.898      0.797      0.868      0.462\n"
          ]
        },
        {
          "output_type": "stream",
          "name": "stderr",
          "text": [
            "\n"
          ]
        },
        {
          "output_type": "stream",
          "name": "stdout",
          "text": [
            "\n",
            "      Epoch    GPU_mem   box_loss   cls_loss   dfl_loss  Instances       Size\n"
          ]
        },
        {
          "output_type": "stream",
          "name": "stderr",
          "text": [
            "      40/50      2.85G      1.084     0.9594      1.369         27        640: 100%|██████████| 24/24 [00:06<00:00,  3.77it/s]\n",
            "                 Class     Images  Instances      Box(P          R      mAP50  mAP50-95): 100%|██████████| 3/3 [00:01<00:00,  2.37it/s]"
          ]
        },
        {
          "output_type": "stream",
          "name": "stdout",
          "text": [
            "                   all         82         88      0.797      0.802      0.825      0.463\n"
          ]
        },
        {
          "output_type": "stream",
          "name": "stderr",
          "text": [
            "\n"
          ]
        },
        {
          "output_type": "stream",
          "name": "stdout",
          "text": [
            "Closing dataloader mosaic\n",
            "\u001b[34m\u001b[1malbumentations: \u001b[0mBlur(p=0.01, blur_limit=(3, 7)), MedianBlur(p=0.01, blur_limit=(3, 7)), ToGray(p=0.01, num_output_channels=3, method='weighted_average'), CLAHE(p=0.01, clip_limit=(1.0, 4.0), tile_grid_size=(8, 8))\n",
            "\n",
            "      Epoch    GPU_mem   box_loss   cls_loss   dfl_loss  Instances       Size\n"
          ]
        },
        {
          "output_type": "stream",
          "name": "stderr",
          "text": [
            "      41/50      2.85G      1.099     0.9419       1.48         11        640: 100%|██████████| 24/24 [00:07<00:00,  3.39it/s]\n",
            "                 Class     Images  Instances      Box(P          R      mAP50  mAP50-95): 100%|██████████| 3/3 [00:00<00:00,  3.88it/s]"
          ]
        },
        {
          "output_type": "stream",
          "name": "stdout",
          "text": [
            "                   all         82         88      0.828       0.82      0.845      0.466\n"
          ]
        },
        {
          "output_type": "stream",
          "name": "stderr",
          "text": [
            "\n"
          ]
        },
        {
          "output_type": "stream",
          "name": "stdout",
          "text": [
            "\n",
            "      Epoch    GPU_mem   box_loss   cls_loss   dfl_loss  Instances       Size\n"
          ]
        },
        {
          "output_type": "stream",
          "name": "stderr",
          "text": [
            "      42/50      2.85G      1.092     0.8945      1.469         10        640: 100%|██████████| 24/24 [00:06<00:00,  3.61it/s]\n",
            "                 Class     Images  Instances      Box(P          R      mAP50  mAP50-95): 100%|██████████| 3/3 [00:00<00:00,  3.46it/s]"
          ]
        },
        {
          "output_type": "stream",
          "name": "stdout",
          "text": [
            "                   all         82         88      0.837       0.83      0.866      0.474\n"
          ]
        },
        {
          "output_type": "stream",
          "name": "stderr",
          "text": [
            "\n"
          ]
        },
        {
          "output_type": "stream",
          "name": "stdout",
          "text": [
            "\n",
            "      Epoch    GPU_mem   box_loss   cls_loss   dfl_loss  Instances       Size\n"
          ]
        },
        {
          "output_type": "stream",
          "name": "stderr",
          "text": [
            "      43/50      2.85G      1.009     0.7792      1.415         17        640: 100%|██████████| 24/24 [00:05<00:00,  4.33it/s]\n",
            "                 Class     Images  Instances      Box(P          R      mAP50  mAP50-95): 100%|██████████| 3/3 [00:01<00:00,  2.91it/s]"
          ]
        },
        {
          "output_type": "stream",
          "name": "stdout",
          "text": [
            "                   all         82         88      0.849      0.767      0.845      0.482\n"
          ]
        },
        {
          "output_type": "stream",
          "name": "stderr",
          "text": [
            "\n"
          ]
        },
        {
          "output_type": "stream",
          "name": "stdout",
          "text": [
            "\n",
            "      Epoch    GPU_mem   box_loss   cls_loss   dfl_loss  Instances       Size\n"
          ]
        },
        {
          "output_type": "stream",
          "name": "stderr",
          "text": [
            "      44/50      2.85G     0.9821     0.7717      1.387         11        640: 100%|██████████| 24/24 [00:06<00:00,  3.89it/s]\n",
            "                 Class     Images  Instances      Box(P          R      mAP50  mAP50-95): 100%|██████████| 3/3 [00:00<00:00,  3.96it/s]"
          ]
        },
        {
          "output_type": "stream",
          "name": "stdout",
          "text": [
            "                   all         82         88      0.862       0.85       0.88      0.475\n"
          ]
        },
        {
          "output_type": "stream",
          "name": "stderr",
          "text": [
            "\n"
          ]
        },
        {
          "output_type": "stream",
          "name": "stdout",
          "text": [
            "\n",
            "      Epoch    GPU_mem   box_loss   cls_loss   dfl_loss  Instances       Size\n"
          ]
        },
        {
          "output_type": "stream",
          "name": "stderr",
          "text": [
            "      45/50      2.85G     0.9716     0.7599      1.355         11        640: 100%|██████████| 24/24 [00:05<00:00,  4.09it/s]\n",
            "                 Class     Images  Instances      Box(P          R      mAP50  mAP50-95): 100%|██████████| 3/3 [00:01<00:00,  1.99it/s]"
          ]
        },
        {
          "output_type": "stream",
          "name": "stdout",
          "text": [
            "                   all         82         88       0.79      0.818      0.851      0.433\n"
          ]
        },
        {
          "output_type": "stream",
          "name": "stderr",
          "text": [
            "\n"
          ]
        },
        {
          "output_type": "stream",
          "name": "stdout",
          "text": [
            "\n",
            "      Epoch    GPU_mem   box_loss   cls_loss   dfl_loss  Instances       Size\n"
          ]
        },
        {
          "output_type": "stream",
          "name": "stderr",
          "text": [
            "      46/50      2.85G     0.9887     0.7588      1.383          9        640: 100%|██████████| 24/24 [00:05<00:00,  4.41it/s]\n",
            "                 Class     Images  Instances      Box(P          R      mAP50  mAP50-95): 100%|██████████| 3/3 [00:00<00:00,  3.63it/s]"
          ]
        },
        {
          "output_type": "stream",
          "name": "stdout",
          "text": [
            "                   all         82         88      0.856      0.813       0.87      0.464\n"
          ]
        },
        {
          "output_type": "stream",
          "name": "stderr",
          "text": [
            "\n"
          ]
        },
        {
          "output_type": "stream",
          "name": "stdout",
          "text": [
            "\n",
            "      Epoch    GPU_mem   box_loss   cls_loss   dfl_loss  Instances       Size\n"
          ]
        },
        {
          "output_type": "stream",
          "name": "stderr",
          "text": [
            "      47/50      2.85G     0.9205      0.697      1.349         10        640: 100%|██████████| 24/24 [00:06<00:00,  3.65it/s]\n",
            "                 Class     Images  Instances      Box(P          R      mAP50  mAP50-95): 100%|██████████| 3/3 [00:00<00:00,  3.76it/s]"
          ]
        },
        {
          "output_type": "stream",
          "name": "stdout",
          "text": [
            "                   all         82         88      0.845      0.806       0.88      0.477\n"
          ]
        },
        {
          "output_type": "stream",
          "name": "stderr",
          "text": [
            "\n"
          ]
        },
        {
          "output_type": "stream",
          "name": "stdout",
          "text": [
            "\n",
            "      Epoch    GPU_mem   box_loss   cls_loss   dfl_loss  Instances       Size\n"
          ]
        },
        {
          "output_type": "stream",
          "name": "stderr",
          "text": [
            "      48/50      2.85G      0.938     0.7207      1.371         10        640: 100%|██████████| 24/24 [00:05<00:00,  4.30it/s]\n",
            "                 Class     Images  Instances      Box(P          R      mAP50  mAP50-95): 100%|██████████| 3/3 [00:00<00:00,  3.95it/s]"
          ]
        },
        {
          "output_type": "stream",
          "name": "stdout",
          "text": [
            "                   all         82         88      0.878      0.818       0.86      0.488\n"
          ]
        },
        {
          "output_type": "stream",
          "name": "stderr",
          "text": [
            "\n"
          ]
        },
        {
          "output_type": "stream",
          "name": "stdout",
          "text": [
            "\n",
            "      Epoch    GPU_mem   box_loss   cls_loss   dfl_loss  Instances       Size\n"
          ]
        },
        {
          "output_type": "stream",
          "name": "stderr",
          "text": [
            "      49/50      2.85G     0.9111     0.6804      1.331         12        640: 100%|██████████| 24/24 [00:06<00:00,  3.64it/s]\n",
            "                 Class     Images  Instances      Box(P          R      mAP50  mAP50-95): 100%|██████████| 3/3 [00:00<00:00,  3.48it/s]"
          ]
        },
        {
          "output_type": "stream",
          "name": "stdout",
          "text": [
            "                   all         82         88      0.878       0.82      0.851      0.477\n"
          ]
        },
        {
          "output_type": "stream",
          "name": "stderr",
          "text": [
            "\n"
          ]
        },
        {
          "output_type": "stream",
          "name": "stdout",
          "text": [
            "\n",
            "      Epoch    GPU_mem   box_loss   cls_loss   dfl_loss  Instances       Size\n"
          ]
        },
        {
          "output_type": "stream",
          "name": "stderr",
          "text": [
            "      50/50      2.85G     0.8866     0.6791      1.337         10        640: 100%|██████████| 24/24 [00:05<00:00,  4.46it/s]\n",
            "                 Class     Images  Instances      Box(P          R      mAP50  mAP50-95): 100%|██████████| 3/3 [00:00<00:00,  3.57it/s]"
          ]
        },
        {
          "output_type": "stream",
          "name": "stdout",
          "text": [
            "                   all         82         88      0.887      0.818      0.866      0.482\n"
          ]
        },
        {
          "output_type": "stream",
          "name": "stderr",
          "text": [
            "\n"
          ]
        },
        {
          "output_type": "stream",
          "name": "stdout",
          "text": [
            "\n",
            "50 epochs completed in 0.106 hours.\n",
            "Optimizer stripped from runs/detect/train4/weights/last.pt, 6.2MB\n",
            "Optimizer stripped from runs/detect/train4/weights/best.pt, 6.2MB\n",
            "\n",
            "Validating runs/detect/train4/weights/best.pt...\n",
            "Ultralytics 8.3.111 🚀 Python-3.11.12 torch-2.6.0+cu124 CUDA:0 (Tesla T4, 15095MiB)\n",
            "Model summary (fused): 72 layers, 3,005,843 parameters, 0 gradients, 8.1 GFLOPs\n"
          ]
        },
        {
          "output_type": "stream",
          "name": "stderr",
          "text": [
            "                 Class     Images  Instances      Box(P          R      mAP50  mAP50-95): 100%|██████████| 3/3 [00:01<00:00,  1.65it/s]\n"
          ]
        },
        {
          "output_type": "stream",
          "name": "stdout",
          "text": [
            "                   all         82         88      0.914      0.773      0.889      0.489\n",
            "Speed: 0.4ms preprocess, 2.3ms inference, 0.0ms loss, 5.5ms postprocess per image\n",
            "Results saved to \u001b[1mruns/detect/train4\u001b[0m\n"
          ]
        },
        {
          "output_type": "execute_result",
          "data": {
            "text/plain": [
              "ultralytics.utils.metrics.DetMetrics object with attributes:\n",
              "\n",
              "ap_class_index: array([0])\n",
              "box: ultralytics.utils.metrics.Metric object\n",
              "confusion_matrix: <ultralytics.utils.metrics.ConfusionMatrix object at 0x7effcf343dd0>\n",
              "curves: ['Precision-Recall(B)', 'F1-Confidence(B)', 'Precision-Confidence(B)', 'Recall-Confidence(B)']\n",
              "curves_results: [[array([          0,    0.001001,    0.002002,    0.003003,    0.004004,    0.005005,    0.006006,    0.007007,    0.008008,    0.009009,     0.01001,    0.011011,    0.012012,    0.013013,    0.014014,    0.015015,    0.016016,    0.017017,    0.018018,    0.019019,     0.02002,    0.021021,    0.022022,    0.023023,\n",
              "          0.024024,    0.025025,    0.026026,    0.027027,    0.028028,    0.029029,     0.03003,    0.031031,    0.032032,    0.033033,    0.034034,    0.035035,    0.036036,    0.037037,    0.038038,    0.039039,     0.04004,    0.041041,    0.042042,    0.043043,    0.044044,    0.045045,    0.046046,    0.047047,\n",
              "          0.048048,    0.049049,     0.05005,    0.051051,    0.052052,    0.053053,    0.054054,    0.055055,    0.056056,    0.057057,    0.058058,    0.059059,     0.06006,    0.061061,    0.062062,    0.063063,    0.064064,    0.065065,    0.066066,    0.067067,    0.068068,    0.069069,     0.07007,    0.071071,\n",
              "          0.072072,    0.073073,    0.074074,    0.075075,    0.076076,    0.077077,    0.078078,    0.079079,     0.08008,    0.081081,    0.082082,    0.083083,    0.084084,    0.085085,    0.086086,    0.087087,    0.088088,    0.089089,     0.09009,    0.091091,    0.092092,    0.093093,    0.094094,    0.095095,\n",
              "          0.096096,    0.097097,    0.098098,    0.099099,      0.1001,      0.1011,      0.1021,      0.1031,      0.1041,     0.10511,     0.10611,     0.10711,     0.10811,     0.10911,     0.11011,     0.11111,     0.11211,     0.11311,     0.11411,     0.11512,     0.11612,     0.11712,     0.11812,     0.11912,\n",
              "           0.12012,     0.12112,     0.12212,     0.12312,     0.12412,     0.12513,     0.12613,     0.12713,     0.12813,     0.12913,     0.13013,     0.13113,     0.13213,     0.13313,     0.13413,     0.13514,     0.13614,     0.13714,     0.13814,     0.13914,     0.14014,     0.14114,     0.14214,     0.14314,\n",
              "           0.14414,     0.14515,     0.14615,     0.14715,     0.14815,     0.14915,     0.15015,     0.15115,     0.15215,     0.15315,     0.15415,     0.15516,     0.15616,     0.15716,     0.15816,     0.15916,     0.16016,     0.16116,     0.16216,     0.16316,     0.16416,     0.16517,     0.16617,     0.16717,\n",
              "           0.16817,     0.16917,     0.17017,     0.17117,     0.17217,     0.17317,     0.17417,     0.17518,     0.17618,     0.17718,     0.17818,     0.17918,     0.18018,     0.18118,     0.18218,     0.18318,     0.18418,     0.18519,     0.18619,     0.18719,     0.18819,     0.18919,     0.19019,     0.19119,\n",
              "           0.19219,     0.19319,     0.19419,      0.1952,      0.1962,      0.1972,      0.1982,      0.1992,      0.2002,      0.2012,      0.2022,      0.2032,      0.2042,     0.20521,     0.20621,     0.20721,     0.20821,     0.20921,     0.21021,     0.21121,     0.21221,     0.21321,     0.21421,     0.21522,\n",
              "           0.21622,     0.21722,     0.21822,     0.21922,     0.22022,     0.22122,     0.22222,     0.22322,     0.22422,     0.22523,     0.22623,     0.22723,     0.22823,     0.22923,     0.23023,     0.23123,     0.23223,     0.23323,     0.23423,     0.23524,     0.23624,     0.23724,     0.23824,     0.23924,\n",
              "           0.24024,     0.24124,     0.24224,     0.24324,     0.24424,     0.24525,     0.24625,     0.24725,     0.24825,     0.24925,     0.25025,     0.25125,     0.25225,     0.25325,     0.25425,     0.25526,     0.25626,     0.25726,     0.25826,     0.25926,     0.26026,     0.26126,     0.26226,     0.26326,\n",
              "           0.26426,     0.26527,     0.26627,     0.26727,     0.26827,     0.26927,     0.27027,     0.27127,     0.27227,     0.27327,     0.27427,     0.27528,     0.27628,     0.27728,     0.27828,     0.27928,     0.28028,     0.28128,     0.28228,     0.28328,     0.28428,     0.28529,     0.28629,     0.28729,\n",
              "           0.28829,     0.28929,     0.29029,     0.29129,     0.29229,     0.29329,     0.29429,      0.2953,      0.2963,      0.2973,      0.2983,      0.2993,      0.3003,      0.3013,      0.3023,      0.3033,      0.3043,     0.30531,     0.30631,     0.30731,     0.30831,     0.30931,     0.31031,     0.31131,\n",
              "           0.31231,     0.31331,     0.31431,     0.31532,     0.31632,     0.31732,     0.31832,     0.31932,     0.32032,     0.32132,     0.32232,     0.32332,     0.32432,     0.32533,     0.32633,     0.32733,     0.32833,     0.32933,     0.33033,     0.33133,     0.33233,     0.33333,     0.33433,     0.33534,\n",
              "           0.33634,     0.33734,     0.33834,     0.33934,     0.34034,     0.34134,     0.34234,     0.34334,     0.34434,     0.34535,     0.34635,     0.34735,     0.34835,     0.34935,     0.35035,     0.35135,     0.35235,     0.35335,     0.35435,     0.35536,     0.35636,     0.35736,     0.35836,     0.35936,\n",
              "           0.36036,     0.36136,     0.36236,     0.36336,     0.36436,     0.36537,     0.36637,     0.36737,     0.36837,     0.36937,     0.37037,     0.37137,     0.37237,     0.37337,     0.37437,     0.37538,     0.37638,     0.37738,     0.37838,     0.37938,     0.38038,     0.38138,     0.38238,     0.38338,\n",
              "           0.38438,     0.38539,     0.38639,     0.38739,     0.38839,     0.38939,     0.39039,     0.39139,     0.39239,     0.39339,     0.39439,      0.3954,      0.3964,      0.3974,      0.3984,      0.3994,      0.4004,      0.4014,      0.4024,      0.4034,      0.4044,     0.40541,     0.40641,     0.40741,\n",
              "           0.40841,     0.40941,     0.41041,     0.41141,     0.41241,     0.41341,     0.41441,     0.41542,     0.41642,     0.41742,     0.41842,     0.41942,     0.42042,     0.42142,     0.42242,     0.42342,     0.42442,     0.42543,     0.42643,     0.42743,     0.42843,     0.42943,     0.43043,     0.43143,\n",
              "           0.43243,     0.43343,     0.43443,     0.43544,     0.43644,     0.43744,     0.43844,     0.43944,     0.44044,     0.44144,     0.44244,     0.44344,     0.44444,     0.44545,     0.44645,     0.44745,     0.44845,     0.44945,     0.45045,     0.45145,     0.45245,     0.45345,     0.45445,     0.45546,\n",
              "           0.45646,     0.45746,     0.45846,     0.45946,     0.46046,     0.46146,     0.46246,     0.46346,     0.46446,     0.46547,     0.46647,     0.46747,     0.46847,     0.46947,     0.47047,     0.47147,     0.47247,     0.47347,     0.47447,     0.47548,     0.47648,     0.47748,     0.47848,     0.47948,\n",
              "           0.48048,     0.48148,     0.48248,     0.48348,     0.48448,     0.48549,     0.48649,     0.48749,     0.48849,     0.48949,     0.49049,     0.49149,     0.49249,     0.49349,     0.49449,      0.4955,      0.4965,      0.4975,      0.4985,      0.4995,      0.5005,      0.5015,      0.5025,      0.5035,\n",
              "            0.5045,     0.50551,     0.50651,     0.50751,     0.50851,     0.50951,     0.51051,     0.51151,     0.51251,     0.51351,     0.51451,     0.51552,     0.51652,     0.51752,     0.51852,     0.51952,     0.52052,     0.52152,     0.52252,     0.52352,     0.52452,     0.52553,     0.52653,     0.52753,\n",
              "           0.52853,     0.52953,     0.53053,     0.53153,     0.53253,     0.53353,     0.53453,     0.53554,     0.53654,     0.53754,     0.53854,     0.53954,     0.54054,     0.54154,     0.54254,     0.54354,     0.54454,     0.54555,     0.54655,     0.54755,     0.54855,     0.54955,     0.55055,     0.55155,\n",
              "           0.55255,     0.55355,     0.55455,     0.55556,     0.55656,     0.55756,     0.55856,     0.55956,     0.56056,     0.56156,     0.56256,     0.56356,     0.56456,     0.56557,     0.56657,     0.56757,     0.56857,     0.56957,     0.57057,     0.57157,     0.57257,     0.57357,     0.57457,     0.57558,\n",
              "           0.57658,     0.57758,     0.57858,     0.57958,     0.58058,     0.58158,     0.58258,     0.58358,     0.58458,     0.58559,     0.58659,     0.58759,     0.58859,     0.58959,     0.59059,     0.59159,     0.59259,     0.59359,     0.59459,      0.5956,      0.5966,      0.5976,      0.5986,      0.5996,\n",
              "            0.6006,      0.6016,      0.6026,      0.6036,      0.6046,     0.60561,     0.60661,     0.60761,     0.60861,     0.60961,     0.61061,     0.61161,     0.61261,     0.61361,     0.61461,     0.61562,     0.61662,     0.61762,     0.61862,     0.61962,     0.62062,     0.62162,     0.62262,     0.62362,\n",
              "           0.62462,     0.62563,     0.62663,     0.62763,     0.62863,     0.62963,     0.63063,     0.63163,     0.63263,     0.63363,     0.63463,     0.63564,     0.63664,     0.63764,     0.63864,     0.63964,     0.64064,     0.64164,     0.64264,     0.64364,     0.64464,     0.64565,     0.64665,     0.64765,\n",
              "           0.64865,     0.64965,     0.65065,     0.65165,     0.65265,     0.65365,     0.65465,     0.65566,     0.65666,     0.65766,     0.65866,     0.65966,     0.66066,     0.66166,     0.66266,     0.66366,     0.66466,     0.66567,     0.66667,     0.66767,     0.66867,     0.66967,     0.67067,     0.67167,\n",
              "           0.67267,     0.67367,     0.67467,     0.67568,     0.67668,     0.67768,     0.67868,     0.67968,     0.68068,     0.68168,     0.68268,     0.68368,     0.68468,     0.68569,     0.68669,     0.68769,     0.68869,     0.68969,     0.69069,     0.69169,     0.69269,     0.69369,     0.69469,      0.6957,\n",
              "            0.6967,      0.6977,      0.6987,      0.6997,      0.7007,      0.7017,      0.7027,      0.7037,      0.7047,     0.70571,     0.70671,     0.70771,     0.70871,     0.70971,     0.71071,     0.71171,     0.71271,     0.71371,     0.71471,     0.71572,     0.71672,     0.71772,     0.71872,     0.71972,\n",
              "           0.72072,     0.72172,     0.72272,     0.72372,     0.72472,     0.72573,     0.72673,     0.72773,     0.72873,     0.72973,     0.73073,     0.73173,     0.73273,     0.73373,     0.73473,     0.73574,     0.73674,     0.73774,     0.73874,     0.73974,     0.74074,     0.74174,     0.74274,     0.74374,\n",
              "           0.74474,     0.74575,     0.74675,     0.74775,     0.74875,     0.74975,     0.75075,     0.75175,     0.75275,     0.75375,     0.75475,     0.75576,     0.75676,     0.75776,     0.75876,     0.75976,     0.76076,     0.76176,     0.76276,     0.76376,     0.76476,     0.76577,     0.76677,     0.76777,\n",
              "           0.76877,     0.76977,     0.77077,     0.77177,     0.77277,     0.77377,     0.77477,     0.77578,     0.77678,     0.77778,     0.77878,     0.77978,     0.78078,     0.78178,     0.78278,     0.78378,     0.78478,     0.78579,     0.78679,     0.78779,     0.78879,     0.78979,     0.79079,     0.79179,\n",
              "           0.79279,     0.79379,     0.79479,      0.7958,      0.7968,      0.7978,      0.7988,      0.7998,      0.8008,      0.8018,      0.8028,      0.8038,      0.8048,     0.80581,     0.80681,     0.80781,     0.80881,     0.80981,     0.81081,     0.81181,     0.81281,     0.81381,     0.81481,     0.81582,\n",
              "           0.81682,     0.81782,     0.81882,     0.81982,     0.82082,     0.82182,     0.82282,     0.82382,     0.82482,     0.82583,     0.82683,     0.82783,     0.82883,     0.82983,     0.83083,     0.83183,     0.83283,     0.83383,     0.83483,     0.83584,     0.83684,     0.83784,     0.83884,     0.83984,\n",
              "           0.84084,     0.84184,     0.84284,     0.84384,     0.84484,     0.84585,     0.84685,     0.84785,     0.84885,     0.84985,     0.85085,     0.85185,     0.85285,     0.85385,     0.85485,     0.85586,     0.85686,     0.85786,     0.85886,     0.85986,     0.86086,     0.86186,     0.86286,     0.86386,\n",
              "           0.86486,     0.86587,     0.86687,     0.86787,     0.86887,     0.86987,     0.87087,     0.87187,     0.87287,     0.87387,     0.87487,     0.87588,     0.87688,     0.87788,     0.87888,     0.87988,     0.88088,     0.88188,     0.88288,     0.88388,     0.88488,     0.88589,     0.88689,     0.88789,\n",
              "           0.88889,     0.88989,     0.89089,     0.89189,     0.89289,     0.89389,     0.89489,      0.8959,      0.8969,      0.8979,      0.8989,      0.8999,      0.9009,      0.9019,      0.9029,      0.9039,      0.9049,     0.90591,     0.90691,     0.90791,     0.90891,     0.90991,     0.91091,     0.91191,\n",
              "           0.91291,     0.91391,     0.91491,     0.91592,     0.91692,     0.91792,     0.91892,     0.91992,     0.92092,     0.92192,     0.92292,     0.92392,     0.92492,     0.92593,     0.92693,     0.92793,     0.92893,     0.92993,     0.93093,     0.93193,     0.93293,     0.93393,     0.93493,     0.93594,\n",
              "           0.93694,     0.93794,     0.93894,     0.93994,     0.94094,     0.94194,     0.94294,     0.94394,     0.94494,     0.94595,     0.94695,     0.94795,     0.94895,     0.94995,     0.95095,     0.95195,     0.95295,     0.95395,     0.95495,     0.95596,     0.95696,     0.95796,     0.95896,     0.95996,\n",
              "           0.96096,     0.96196,     0.96296,     0.96396,     0.96496,     0.96597,     0.96697,     0.96797,     0.96897,     0.96997,     0.97097,     0.97197,     0.97297,     0.97397,     0.97497,     0.97598,     0.97698,     0.97798,     0.97898,     0.97998,     0.98098,     0.98198,     0.98298,     0.98398,\n",
              "           0.98498,     0.98599,     0.98699,     0.98799,     0.98899,     0.98999,     0.99099,     0.99199,     0.99299,     0.99399,     0.99499,       0.996,       0.997,       0.998,       0.999,           1]), array([[          1,           1,           1,           1,           1,           1,           1,           1,           1,           1,           1,           1,           1,           1,           1,           1,           1,           1,           1,           1,           1,           1,           1,\n",
              "                  1,           1,           1,           1,           1,           1,           1,           1,           1,           1,           1,           1,           1,           1,           1,           1,           1,           1,           1,           1,           1,           1,           1,\n",
              "                  1,           1,           1,           1,           1,           1,           1,           1,           1,           1,           1,           1,           1,           1,           1,           1,           1,           1,           1,           1,           1,           1,           1,\n",
              "                  1,           1,           1,           1,           1,           1,           1,           1,           1,           1,           1,           1,           1,           1,           1,           1,           1,           1,           1,           1,           1,           1,           1,\n",
              "                  1,           1,           1,           1,           1,           1,           1,           1,           1,           1,           1,           1,           1,           1,           1,           1,           1,           1,           1,           1,           1,           1,     0.98387,\n",
              "            0.98387,     0.98387,     0.98387,     0.98387,     0.98387,     0.98387,     0.98387,     0.98387,     0.98387,     0.98387,     0.98387,     0.98387,     0.98387,     0.98387,     0.98387,     0.98387,     0.98387,     0.98387,     0.98387,     0.98387,     0.98387,     0.98387,     0.98387,\n",
              "            0.98387,     0.98387,     0.98387,     0.98387,     0.98387,     0.98387,     0.98387,     0.98387,     0.98387,     0.98387,     0.98387,     0.98387,     0.98387,     0.98387,     0.98387,     0.98387,     0.98387,     0.98387,     0.98387,     0.98387,     0.98387,     0.98387,     0.98387,\n",
              "            0.98387,     0.98387,     0.98387,     0.98387,     0.98387,     0.98387,     0.98387,     0.98387,     0.98387,     0.98387,     0.98387,     0.98387,     0.98387,     0.98387,     0.98387,     0.98387,     0.98387,     0.98387,     0.98387,     0.98387,     0.98387,     0.98387,     0.98387,\n",
              "            0.98387,     0.98387,     0.98387,     0.98387,     0.98387,     0.98387,     0.98387,     0.98387,     0.98387,     0.98387,     0.98387,     0.98387,     0.98387,     0.98387,     0.98387,     0.98387,     0.98387,     0.98387,     0.98387,     0.98387,     0.98387,     0.98387,     0.98387,\n",
              "            0.98387,     0.98387,     0.98387,     0.98387,     0.98387,     0.98387,     0.98387,     0.98387,     0.98387,     0.98387,     0.98387,     0.98387,     0.98387,     0.98387,     0.98387,     0.98387,     0.98387,     0.98387,     0.98387,     0.98387,     0.98387,     0.98387,     0.98387,\n",
              "            0.98387,     0.98387,     0.98387,     0.98387,     0.98387,     0.98387,     0.98387,     0.98387,     0.98387,     0.98387,     0.98387,     0.98387,     0.98387,     0.98387,     0.98387,     0.98387,     0.98387,     0.98387,     0.98387,     0.98387,     0.98387,     0.98387,     0.98387,\n",
              "            0.98387,     0.98387,     0.98387,     0.98387,     0.98387,     0.98387,     0.98387,     0.98387,     0.98387,     0.98387,     0.98387,     0.98387,     0.98387,     0.98387,     0.98387,     0.98387,     0.98387,     0.98387,     0.98387,     0.98387,     0.98387,     0.98387,     0.98387,\n",
              "            0.98387,     0.98387,     0.98387,     0.98387,     0.98387,     0.98387,     0.98387,     0.98387,     0.98387,     0.98387,     0.98387,     0.98387,     0.98387,     0.98387,     0.98387,     0.98387,     0.98387,     0.98387,     0.98387,     0.98387,     0.98387,     0.98387,     0.98387,\n",
              "            0.98387,     0.98387,     0.98387,     0.98387,     0.98387,     0.98387,     0.98387,     0.98387,     0.98387,     0.98387,     0.98387,     0.98387,     0.98387,     0.98387,     0.98387,     0.98387,     0.98387,     0.98387,     0.98387,     0.98387,     0.98387,     0.98387,     0.98387,\n",
              "            0.98387,     0.98387,     0.98387,     0.98387,     0.98387,     0.98387,     0.98387,     0.98387,     0.98387,     0.98387,     0.98387,     0.98387,     0.98387,     0.98387,     0.98387,     0.98387,     0.98387,     0.98387,     0.98387,     0.98387,     0.98387,     0.98387,     0.98387,\n",
              "            0.98387,     0.98387,     0.98387,     0.98387,     0.98387,     0.98387,     0.98387,     0.98387,     0.98387,     0.98387,     0.98387,     0.98387,     0.98387,     0.98387,     0.98387,     0.98387,     0.98387,     0.98387,     0.98387,     0.98387,     0.98387,     0.98387,     0.98387,\n",
              "            0.98387,     0.98387,     0.98387,     0.98387,     0.98387,     0.98387,     0.98387,     0.98387,     0.98387,     0.98387,     0.98387,     0.98387,     0.98387,     0.98387,     0.98387,     0.98387,     0.98387,     0.98387,     0.98387,     0.98387,     0.98387,     0.98387,     0.98387,\n",
              "            0.98387,     0.98387,     0.98387,     0.98387,     0.98387,     0.98387,     0.98387,     0.98387,     0.98387,     0.98387,     0.98387,     0.98387,     0.98387,     0.98387,     0.98387,     0.98387,     0.98387,     0.98387,     0.98387,     0.98387,     0.98387,     0.98387,     0.98387,\n",
              "            0.98387,     0.98387,     0.98387,     0.98387,     0.98387,     0.98387,     0.98387,     0.98387,     0.98387,     0.98387,     0.98387,     0.98387,     0.98387,     0.98387,     0.98387,     0.98387,     0.98387,     0.98387,     0.98387,     0.98387,     0.98387,     0.98387,     0.98387,\n",
              "            0.98387,     0.98387,     0.98387,     0.98387,     0.98387,     0.98387,     0.98387,     0.98387,     0.98387,     0.98387,     0.98387,     0.98387,     0.98387,     0.98387,     0.98387,     0.98387,     0.98387,     0.98387,     0.98387,     0.98387,     0.98387,     0.98387,     0.98387,\n",
              "            0.98387,     0.98387,     0.98387,     0.98387,     0.98387,     0.98387,     0.98387,     0.98387,     0.98387,     0.98387,     0.98387,     0.98387,     0.98387,     0.98387,     0.98387,     0.98387,     0.98387,     0.98387,     0.98387,     0.98387,     0.98387,     0.98387,     0.98387,\n",
              "            0.98387,     0.98387,     0.98387,     0.98387,     0.98387,     0.98387,     0.98387,     0.98387,     0.98387,     0.98387,     0.98387,     0.98387,     0.98387,     0.98387,     0.98387,     0.98387,     0.98387,     0.98387,     0.98387,     0.98387,     0.98387,     0.98387,     0.98387,\n",
              "            0.98387,     0.98387,     0.98387,     0.98387,     0.98387,     0.98387,     0.98387,     0.98387,     0.98387,     0.98387,     0.98387,     0.98387,     0.98387,     0.98387,     0.98387,     0.98387,     0.98387,     0.98387,     0.98387,     0.98387,     0.98387,     0.98387,     0.98387,\n",
              "            0.98387,     0.98387,     0.98387,     0.98387,     0.98387,     0.98387,     0.98387,     0.98387,     0.98387,     0.98387,     0.98387,     0.98387,     0.98387,     0.98387,     0.98387,     0.98387,     0.98387,     0.98387,     0.98387,     0.98387,     0.98387,     0.98387,     0.98387,\n",
              "            0.98387,     0.98387,     0.98387,     0.98387,     0.98387,     0.98387,     0.98387,     0.98387,     0.98387,     0.98387,     0.98387,     0.98387,     0.98387,     0.98387,     0.98387,     0.98387,     0.98387,     0.98387,     0.98387,     0.98387,     0.98387,     0.98387,     0.98387,\n",
              "            0.98387,     0.98387,     0.98387,     0.98387,     0.98387,     0.98387,     0.98387,     0.98387,     0.98387,     0.98387,     0.98387,     0.98387,     0.98387,     0.98387,     0.98387,     0.98387,     0.98387,     0.98387,     0.98387,     0.98387,     0.98387,     0.98387,     0.98387,\n",
              "            0.98387,     0.98387,     0.98387,     0.98387,     0.98387,     0.98387,     0.98387,     0.98387,     0.98387,     0.98387,     0.98387,     0.98387,     0.98387,     0.98387,     0.98387,     0.98387,     0.98387,     0.98387,     0.98387,     0.98387,     0.98387,     0.98387,     0.98387,\n",
              "            0.98387,     0.98387,     0.98387,     0.98387,     0.98387,     0.98387,     0.98387,     0.98387,     0.98387,     0.98387,     0.98387,     0.98387,     0.98387,     0.98387,     0.98387,     0.98387,     0.98387,     0.98387,     0.98387,     0.98387,     0.98387,     0.98387,     0.98387,\n",
              "            0.98387,     0.98387,     0.98387,     0.98387,     0.98387,     0.98387,     0.98387,     0.98387,     0.98387,     0.98387,     0.98387,     0.98387,     0.98387,     0.98387,     0.98387,     0.98387,     0.98387,     0.98387,     0.98387,     0.98387,     0.98387,     0.98387,     0.98387,\n",
              "            0.98387,     0.98387,     0.98387,     0.98387,     0.98387,     0.98387,     0.98387,     0.98387,     0.98387,     0.98387,     0.98387,     0.98387,     0.98387,     0.98387,     0.98387,     0.98387,     0.98387,     0.98387,     0.98387,     0.98387,     0.98387,     0.98387,     0.98387,\n",
              "            0.98387,     0.98387,     0.98387,     0.96875,     0.96875,     0.96875,     0.96875,     0.96875,     0.96875,     0.96875,     0.96875,     0.96875,     0.96875,     0.96875,     0.95588,     0.95588,     0.95588,     0.95588,     0.95588,     0.95588,     0.95588,     0.95588,     0.95588,\n",
              "            0.95588,     0.95588,     0.95588,     0.95588,     0.95588,     0.95588,     0.95588,     0.95588,     0.95588,     0.95588,     0.95588,     0.95588,     0.95588,     0.95588,     0.95588,     0.95588,     0.95588,     0.95588,     0.95588,     0.95588,     0.95588,     0.95588,     0.95588,\n",
              "            0.95588,     0.95588,     0.94286,     0.94286,     0.94286,     0.94286,     0.94286,     0.94286,     0.94286,     0.94286,     0.94286,     0.94286,     0.94286,     0.94286,     0.93151,     0.93151,     0.93151,     0.93151,     0.93151,     0.93151,     0.93151,     0.93151,     0.93151,\n",
              "            0.93151,     0.93151,     0.93151,     0.93151,     0.93151,     0.93151,     0.93151,     0.93151,     0.93151,     0.93151,     0.93151,     0.93151,     0.93151,     0.90789,     0.90789,     0.90789,     0.90789,     0.90789,     0.90789,     0.90789,     0.90789,     0.90789,     0.90789,\n",
              "            0.90789,     0.90789,     0.89744,     0.89744,     0.89744,     0.89744,     0.89744,     0.89744,     0.89744,     0.89744,     0.89744,     0.89744,     0.89744,     0.85542,     0.85542,     0.85542,     0.85542,     0.85542,     0.85542,     0.85542,     0.85542,     0.85542,     0.85542,\n",
              "            0.85542,     0.85542,     0.80899,     0.80899,     0.80899,     0.80899,     0.80899,     0.80899,     0.80899,     0.80899,     0.80899,     0.80899,     0.80899,      0.7551,      0.7551,      0.7551,      0.7551,      0.7551,      0.7551,      0.7551,      0.7551,      0.7551,      0.7551,\n",
              "             0.7551,      0.7551,      0.7551,      0.7551,      0.7551,      0.7551,      0.7551,      0.7551,      0.7551,      0.7551,      0.7551,      0.7551,      0.7551,     0.73529,     0.73529,     0.73529,     0.73529,     0.73529,     0.73529,     0.73529,     0.73529,     0.73529,     0.73529,\n",
              "            0.73529,      0.7037,      0.7037,      0.7037,      0.7037,      0.7037,      0.7037,      0.7037,      0.7037,      0.7037,      0.7037,      0.7037,     0.58647,     0.58647,     0.58647,     0.58647,     0.58647,     0.58647,     0.58647,     0.58647,     0.58647,     0.58647,     0.58647,\n",
              "            0.58647,     0.58647,     0.58647,     0.58647,     0.58647,     0.58647,     0.58647,     0.58647,     0.58647,     0.58647,     0.58647,     0.58647,     0.57664,     0.57664,     0.57664,     0.57664,     0.57664,     0.57664,     0.57664,     0.57664,     0.57664,     0.57664,     0.57664,\n",
              "            0.57143,     0.57143,     0.57143,     0.57143,     0.57143,     0.57143,     0.57143,     0.57143,     0.57143,     0.57143,     0.57143,     0.57143,        0.54,        0.54,        0.54,        0.54,        0.54,        0.54,        0.54,        0.54,        0.54,        0.54,        0.54,\n",
              "                0.5,         0.5,         0.5,         0.5,         0.5,         0.5,         0.5,         0.5,         0.5,         0.5,         0.5,     0.46369,     0.46369,     0.46369,     0.46369,     0.46369,     0.46369,     0.46369,     0.46369,     0.46369,     0.46369,     0.46369,     0.46369,\n",
              "            0.34426,     0.34426,     0.34426,     0.34426,     0.34426,     0.34426,     0.34426,     0.34426,     0.34426,     0.34426,     0.34426,      0.2568,      0.2568,      0.2568,      0.2568,      0.2568,      0.2568,      0.2568,      0.2568,      0.2568,      0.2568,      0.2568,     0.25444,\n",
              "            0.25444,     0.25444,     0.25444,     0.25444,     0.25444,     0.25444,     0.25444,     0.25444,     0.25444,     0.25444,     0.25444,     0.19818,     0.19818,     0.19818,     0.19818,     0.19818,     0.19818,     0.19818,     0.19818,     0.19818,     0.19818,     0.19818,     0.18182,\n",
              "            0.18182,     0.18182,     0.18182,     0.18182,     0.18182,     0.18182,     0.18182,     0.18182,     0.18182,     0.18182,           0]]), 'Recall', 'Precision'], [array([          0,    0.001001,    0.002002,    0.003003,    0.004004,    0.005005,    0.006006,    0.007007,    0.008008,    0.009009,     0.01001,    0.011011,    0.012012,    0.013013,    0.014014,    0.015015,    0.016016,    0.017017,    0.018018,    0.019019,     0.02002,    0.021021,    0.022022,    0.023023,\n",
              "          0.024024,    0.025025,    0.026026,    0.027027,    0.028028,    0.029029,     0.03003,    0.031031,    0.032032,    0.033033,    0.034034,    0.035035,    0.036036,    0.037037,    0.038038,    0.039039,     0.04004,    0.041041,    0.042042,    0.043043,    0.044044,    0.045045,    0.046046,    0.047047,\n",
              "          0.048048,    0.049049,     0.05005,    0.051051,    0.052052,    0.053053,    0.054054,    0.055055,    0.056056,    0.057057,    0.058058,    0.059059,     0.06006,    0.061061,    0.062062,    0.063063,    0.064064,    0.065065,    0.066066,    0.067067,    0.068068,    0.069069,     0.07007,    0.071071,\n",
              "          0.072072,    0.073073,    0.074074,    0.075075,    0.076076,    0.077077,    0.078078,    0.079079,     0.08008,    0.081081,    0.082082,    0.083083,    0.084084,    0.085085,    0.086086,    0.087087,    0.088088,    0.089089,     0.09009,    0.091091,    0.092092,    0.093093,    0.094094,    0.095095,\n",
              "          0.096096,    0.097097,    0.098098,    0.099099,      0.1001,      0.1011,      0.1021,      0.1031,      0.1041,     0.10511,     0.10611,     0.10711,     0.10811,     0.10911,     0.11011,     0.11111,     0.11211,     0.11311,     0.11411,     0.11512,     0.11612,     0.11712,     0.11812,     0.11912,\n",
              "           0.12012,     0.12112,     0.12212,     0.12312,     0.12412,     0.12513,     0.12613,     0.12713,     0.12813,     0.12913,     0.13013,     0.13113,     0.13213,     0.13313,     0.13413,     0.13514,     0.13614,     0.13714,     0.13814,     0.13914,     0.14014,     0.14114,     0.14214,     0.14314,\n",
              "           0.14414,     0.14515,     0.14615,     0.14715,     0.14815,     0.14915,     0.15015,     0.15115,     0.15215,     0.15315,     0.15415,     0.15516,     0.15616,     0.15716,     0.15816,     0.15916,     0.16016,     0.16116,     0.16216,     0.16316,     0.16416,     0.16517,     0.16617,     0.16717,\n",
              "           0.16817,     0.16917,     0.17017,     0.17117,     0.17217,     0.17317,     0.17417,     0.17518,     0.17618,     0.17718,     0.17818,     0.17918,     0.18018,     0.18118,     0.18218,     0.18318,     0.18418,     0.18519,     0.18619,     0.18719,     0.18819,     0.18919,     0.19019,     0.19119,\n",
              "           0.19219,     0.19319,     0.19419,      0.1952,      0.1962,      0.1972,      0.1982,      0.1992,      0.2002,      0.2012,      0.2022,      0.2032,      0.2042,     0.20521,     0.20621,     0.20721,     0.20821,     0.20921,     0.21021,     0.21121,     0.21221,     0.21321,     0.21421,     0.21522,\n",
              "           0.21622,     0.21722,     0.21822,     0.21922,     0.22022,     0.22122,     0.22222,     0.22322,     0.22422,     0.22523,     0.22623,     0.22723,     0.22823,     0.22923,     0.23023,     0.23123,     0.23223,     0.23323,     0.23423,     0.23524,     0.23624,     0.23724,     0.23824,     0.23924,\n",
              "           0.24024,     0.24124,     0.24224,     0.24324,     0.24424,     0.24525,     0.24625,     0.24725,     0.24825,     0.24925,     0.25025,     0.25125,     0.25225,     0.25325,     0.25425,     0.25526,     0.25626,     0.25726,     0.25826,     0.25926,     0.26026,     0.26126,     0.26226,     0.26326,\n",
              "           0.26426,     0.26527,     0.26627,     0.26727,     0.26827,     0.26927,     0.27027,     0.27127,     0.27227,     0.27327,     0.27427,     0.27528,     0.27628,     0.27728,     0.27828,     0.27928,     0.28028,     0.28128,     0.28228,     0.28328,     0.28428,     0.28529,     0.28629,     0.28729,\n",
              "           0.28829,     0.28929,     0.29029,     0.29129,     0.29229,     0.29329,     0.29429,      0.2953,      0.2963,      0.2973,      0.2983,      0.2993,      0.3003,      0.3013,      0.3023,      0.3033,      0.3043,     0.30531,     0.30631,     0.30731,     0.30831,     0.30931,     0.31031,     0.31131,\n",
              "           0.31231,     0.31331,     0.31431,     0.31532,     0.31632,     0.31732,     0.31832,     0.31932,     0.32032,     0.32132,     0.32232,     0.32332,     0.32432,     0.32533,     0.32633,     0.32733,     0.32833,     0.32933,     0.33033,     0.33133,     0.33233,     0.33333,     0.33433,     0.33534,\n",
              "           0.33634,     0.33734,     0.33834,     0.33934,     0.34034,     0.34134,     0.34234,     0.34334,     0.34434,     0.34535,     0.34635,     0.34735,     0.34835,     0.34935,     0.35035,     0.35135,     0.35235,     0.35335,     0.35435,     0.35536,     0.35636,     0.35736,     0.35836,     0.35936,\n",
              "           0.36036,     0.36136,     0.36236,     0.36336,     0.36436,     0.36537,     0.36637,     0.36737,     0.36837,     0.36937,     0.37037,     0.37137,     0.37237,     0.37337,     0.37437,     0.37538,     0.37638,     0.37738,     0.37838,     0.37938,     0.38038,     0.38138,     0.38238,     0.38338,\n",
              "           0.38438,     0.38539,     0.38639,     0.38739,     0.38839,     0.38939,     0.39039,     0.39139,     0.39239,     0.39339,     0.39439,      0.3954,      0.3964,      0.3974,      0.3984,      0.3994,      0.4004,      0.4014,      0.4024,      0.4034,      0.4044,     0.40541,     0.40641,     0.40741,\n",
              "           0.40841,     0.40941,     0.41041,     0.41141,     0.41241,     0.41341,     0.41441,     0.41542,     0.41642,     0.41742,     0.41842,     0.41942,     0.42042,     0.42142,     0.42242,     0.42342,     0.42442,     0.42543,     0.42643,     0.42743,     0.42843,     0.42943,     0.43043,     0.43143,\n",
              "           0.43243,     0.43343,     0.43443,     0.43544,     0.43644,     0.43744,     0.43844,     0.43944,     0.44044,     0.44144,     0.44244,     0.44344,     0.44444,     0.44545,     0.44645,     0.44745,     0.44845,     0.44945,     0.45045,     0.45145,     0.45245,     0.45345,     0.45445,     0.45546,\n",
              "           0.45646,     0.45746,     0.45846,     0.45946,     0.46046,     0.46146,     0.46246,     0.46346,     0.46446,     0.46547,     0.46647,     0.46747,     0.46847,     0.46947,     0.47047,     0.47147,     0.47247,     0.47347,     0.47447,     0.47548,     0.47648,     0.47748,     0.47848,     0.47948,\n",
              "           0.48048,     0.48148,     0.48248,     0.48348,     0.48448,     0.48549,     0.48649,     0.48749,     0.48849,     0.48949,     0.49049,     0.49149,     0.49249,     0.49349,     0.49449,      0.4955,      0.4965,      0.4975,      0.4985,      0.4995,      0.5005,      0.5015,      0.5025,      0.5035,\n",
              "            0.5045,     0.50551,     0.50651,     0.50751,     0.50851,     0.50951,     0.51051,     0.51151,     0.51251,     0.51351,     0.51451,     0.51552,     0.51652,     0.51752,     0.51852,     0.51952,     0.52052,     0.52152,     0.52252,     0.52352,     0.52452,     0.52553,     0.52653,     0.52753,\n",
              "           0.52853,     0.52953,     0.53053,     0.53153,     0.53253,     0.53353,     0.53453,     0.53554,     0.53654,     0.53754,     0.53854,     0.53954,     0.54054,     0.54154,     0.54254,     0.54354,     0.54454,     0.54555,     0.54655,     0.54755,     0.54855,     0.54955,     0.55055,     0.55155,\n",
              "           0.55255,     0.55355,     0.55455,     0.55556,     0.55656,     0.55756,     0.55856,     0.55956,     0.56056,     0.56156,     0.56256,     0.56356,     0.56456,     0.56557,     0.56657,     0.56757,     0.56857,     0.56957,     0.57057,     0.57157,     0.57257,     0.57357,     0.57457,     0.57558,\n",
              "           0.57658,     0.57758,     0.57858,     0.57958,     0.58058,     0.58158,     0.58258,     0.58358,     0.58458,     0.58559,     0.58659,     0.58759,     0.58859,     0.58959,     0.59059,     0.59159,     0.59259,     0.59359,     0.59459,      0.5956,      0.5966,      0.5976,      0.5986,      0.5996,\n",
              "            0.6006,      0.6016,      0.6026,      0.6036,      0.6046,     0.60561,     0.60661,     0.60761,     0.60861,     0.60961,     0.61061,     0.61161,     0.61261,     0.61361,     0.61461,     0.61562,     0.61662,     0.61762,     0.61862,     0.61962,     0.62062,     0.62162,     0.62262,     0.62362,\n",
              "           0.62462,     0.62563,     0.62663,     0.62763,     0.62863,     0.62963,     0.63063,     0.63163,     0.63263,     0.63363,     0.63463,     0.63564,     0.63664,     0.63764,     0.63864,     0.63964,     0.64064,     0.64164,     0.64264,     0.64364,     0.64464,     0.64565,     0.64665,     0.64765,\n",
              "           0.64865,     0.64965,     0.65065,     0.65165,     0.65265,     0.65365,     0.65465,     0.65566,     0.65666,     0.65766,     0.65866,     0.65966,     0.66066,     0.66166,     0.66266,     0.66366,     0.66466,     0.66567,     0.66667,     0.66767,     0.66867,     0.66967,     0.67067,     0.67167,\n",
              "           0.67267,     0.67367,     0.67467,     0.67568,     0.67668,     0.67768,     0.67868,     0.67968,     0.68068,     0.68168,     0.68268,     0.68368,     0.68468,     0.68569,     0.68669,     0.68769,     0.68869,     0.68969,     0.69069,     0.69169,     0.69269,     0.69369,     0.69469,      0.6957,\n",
              "            0.6967,      0.6977,      0.6987,      0.6997,      0.7007,      0.7017,      0.7027,      0.7037,      0.7047,     0.70571,     0.70671,     0.70771,     0.70871,     0.70971,     0.71071,     0.71171,     0.71271,     0.71371,     0.71471,     0.71572,     0.71672,     0.71772,     0.71872,     0.71972,\n",
              "           0.72072,     0.72172,     0.72272,     0.72372,     0.72472,     0.72573,     0.72673,     0.72773,     0.72873,     0.72973,     0.73073,     0.73173,     0.73273,     0.73373,     0.73473,     0.73574,     0.73674,     0.73774,     0.73874,     0.73974,     0.74074,     0.74174,     0.74274,     0.74374,\n",
              "           0.74474,     0.74575,     0.74675,     0.74775,     0.74875,     0.74975,     0.75075,     0.75175,     0.75275,     0.75375,     0.75475,     0.75576,     0.75676,     0.75776,     0.75876,     0.75976,     0.76076,     0.76176,     0.76276,     0.76376,     0.76476,     0.76577,     0.76677,     0.76777,\n",
              "           0.76877,     0.76977,     0.77077,     0.77177,     0.77277,     0.77377,     0.77477,     0.77578,     0.77678,     0.77778,     0.77878,     0.77978,     0.78078,     0.78178,     0.78278,     0.78378,     0.78478,     0.78579,     0.78679,     0.78779,     0.78879,     0.78979,     0.79079,     0.79179,\n",
              "           0.79279,     0.79379,     0.79479,      0.7958,      0.7968,      0.7978,      0.7988,      0.7998,      0.8008,      0.8018,      0.8028,      0.8038,      0.8048,     0.80581,     0.80681,     0.80781,     0.80881,     0.80981,     0.81081,     0.81181,     0.81281,     0.81381,     0.81481,     0.81582,\n",
              "           0.81682,     0.81782,     0.81882,     0.81982,     0.82082,     0.82182,     0.82282,     0.82382,     0.82482,     0.82583,     0.82683,     0.82783,     0.82883,     0.82983,     0.83083,     0.83183,     0.83283,     0.83383,     0.83483,     0.83584,     0.83684,     0.83784,     0.83884,     0.83984,\n",
              "           0.84084,     0.84184,     0.84284,     0.84384,     0.84484,     0.84585,     0.84685,     0.84785,     0.84885,     0.84985,     0.85085,     0.85185,     0.85285,     0.85385,     0.85485,     0.85586,     0.85686,     0.85786,     0.85886,     0.85986,     0.86086,     0.86186,     0.86286,     0.86386,\n",
              "           0.86486,     0.86587,     0.86687,     0.86787,     0.86887,     0.86987,     0.87087,     0.87187,     0.87287,     0.87387,     0.87487,     0.87588,     0.87688,     0.87788,     0.87888,     0.87988,     0.88088,     0.88188,     0.88288,     0.88388,     0.88488,     0.88589,     0.88689,     0.88789,\n",
              "           0.88889,     0.88989,     0.89089,     0.89189,     0.89289,     0.89389,     0.89489,      0.8959,      0.8969,      0.8979,      0.8989,      0.8999,      0.9009,      0.9019,      0.9029,      0.9039,      0.9049,     0.90591,     0.90691,     0.90791,     0.90891,     0.90991,     0.91091,     0.91191,\n",
              "           0.91291,     0.91391,     0.91491,     0.91592,     0.91692,     0.91792,     0.91892,     0.91992,     0.92092,     0.92192,     0.92292,     0.92392,     0.92492,     0.92593,     0.92693,     0.92793,     0.92893,     0.92993,     0.93093,     0.93193,     0.93293,     0.93393,     0.93493,     0.93594,\n",
              "           0.93694,     0.93794,     0.93894,     0.93994,     0.94094,     0.94194,     0.94294,     0.94394,     0.94494,     0.94595,     0.94695,     0.94795,     0.94895,     0.94995,     0.95095,     0.95195,     0.95295,     0.95395,     0.95495,     0.95596,     0.95696,     0.95796,     0.95896,     0.95996,\n",
              "           0.96096,     0.96196,     0.96296,     0.96396,     0.96496,     0.96597,     0.96697,     0.96797,     0.96897,     0.96997,     0.97097,     0.97197,     0.97297,     0.97397,     0.97497,     0.97598,     0.97698,     0.97798,     0.97898,     0.97998,     0.98098,     0.98198,     0.98298,     0.98398,\n",
              "           0.98498,     0.98599,     0.98699,     0.98799,     0.98899,     0.98999,     0.99099,     0.99199,     0.99299,     0.99399,     0.99499,       0.996,       0.997,       0.998,       0.999,           1]), array([[   0.054966,    0.054966,     0.10692,     0.14192,     0.17169,     0.19303,     0.21442,     0.22588,     0.24046,     0.25405,     0.26365,     0.27523,     0.28435,     0.29275,     0.30195,     0.30767,     0.31013,     0.31403,     0.31688,     0.32585,     0.32841,     0.32827,     0.33351,\n",
              "            0.33694,     0.34084,     0.34726,     0.35005,      0.3538,     0.36138,     0.36353,     0.36643,     0.37009,     0.37412,      0.3775,     0.38147,     0.38773,     0.39364,     0.39629,     0.40188,     0.40338,     0.40061,     0.40304,     0.40912,     0.41143,     0.41343,     0.41754,\n",
              "            0.42322,     0.42723,     0.42988,     0.43524,     0.43922,     0.44199,     0.44418,     0.44738,     0.45568,       0.463,     0.46672,     0.46924,     0.47236,     0.47604,     0.47782,     0.48075,     0.48323,     0.48411,     0.49165,     0.49377,     0.49468,     0.49528,     0.50003,\n",
              "            0.50558,     0.50284,      0.5025,     0.50655,      0.5089,      0.5125,     0.51402,     0.51548,     0.52141,     0.52552,     0.52707,     0.53138,      0.5338,     0.53521,      0.5374,     0.53979,     0.54102,     0.54152,     0.54202,     0.54257,     0.54369,     0.54467,     0.54551,\n",
              "            0.54671,     0.54927,     0.55066,     0.55351,     0.55423,     0.55496,     0.55736,     0.55781,     0.55826,     0.55871,     0.55972,     0.56216,     0.56375,     0.56549,     0.57008,     0.57314,      0.5739,     0.57515,     0.57982,     0.58466,     0.58645,     0.58855,     0.59536,\n",
              "            0.59608,     0.59679,      0.6012,     0.60481,     0.60621,     0.60728,     0.60948,     0.61439,     0.61527,     0.61584,     0.61641,     0.61698,     0.62146,     0.61725,     0.61883,     0.62613,     0.62686,     0.62759,     0.62832,     0.62981,     0.63095,     0.63145,     0.63195,\n",
              "            0.63245,     0.63295,     0.63814,     0.63971,     0.64328,     0.64408,     0.64487,     0.64567,     0.64672,     0.64777,     0.64845,     0.64885,     0.64924,     0.64964,     0.65004,     0.65044,     0.65073,     0.65013,     0.64953,     0.64892,     0.64832,     0.64771,     0.64711,\n",
              "            0.64651,      0.6459,     0.64753,     0.64885,     0.64974,     0.65091,     0.65566,     0.65948,     0.66086,     0.66183,     0.66265,     0.66348,     0.66535,     0.66762,     0.66923,     0.67592,     0.67795,     0.67866,     0.67937,     0.68007,     0.68018,     0.67692,     0.67626,\n",
              "            0.67811,     0.67854,     0.67896,     0.67938,      0.6798,     0.68023,     0.68065,     0.68167,     0.68326,     0.68468,     0.68602,     0.68706,     0.68779,     0.68853,     0.68926,     0.69011,     0.69109,     0.69207,     0.69344,     0.69534,     0.69825,     0.70126,     0.70069,\n",
              "            0.70012,     0.69955,     0.69898,     0.69841,     0.69783,     0.69726,     0.69669,     0.69612,     0.69694,     0.69799,     0.69904,     0.69968,     0.70029,      0.7009,      0.7015,     0.70211,      0.7002,      0.6977,     0.69717,     0.69868,     0.70033,     0.70217,     0.70309,\n",
              "            0.70364,     0.70418,     0.70472,     0.70526,     0.70581,     0.70312,     0.69422,     0.69747,       0.698,     0.69853,     0.69905,     0.69958,     0.70011,      0.7006,     0.70105,     0.70149,     0.70194,     0.70238,     0.70282,     0.70326,     0.70371,     0.70416,      0.7046,\n",
              "            0.70505,      0.7055,     0.70595,     0.70639,     0.70684,     0.70802,     0.70952,     0.71064,     0.71136,     0.71208,      0.7128,     0.71351,     0.71658,     0.71852,     0.72026,     0.72158,     0.72285,     0.72396,     0.72458,      0.7252,     0.72582,     0.72644,     0.72705,\n",
              "            0.73034,     0.73242,     0.73422,     0.73504,     0.73581,     0.73658,     0.73735,     0.73813,     0.73895,     0.73977,     0.74059,     0.74141,     0.74228,     0.74316,     0.74404,     0.74491,     0.74584,     0.74678,     0.74772,     0.74866,     0.74989,     0.75116,     0.75242,\n",
              "            0.75312,     0.75379,     0.75445,     0.75512,     0.75579,     0.75682,     0.75855,     0.76019,     0.76139,      0.7626,      0.7638,     0.76555,     0.76731,     0.77227,     0.77457,     0.77434,     0.77236,     0.77038,     0.77021,     0.77254,     0.77516,     0.77773,      0.7798,\n",
              "            0.78377,     0.78574,     0.78622,     0.78671,     0.78719,     0.78768,     0.78816,     0.78864,     0.78912,     0.78827,     0.78389,     0.78446,     0.78617,     0.78885,     0.79492,     0.79084,     0.78546,     0.78353,     0.78548,     0.78694,     0.78714,     0.78734,     0.78753,\n",
              "            0.78773,     0.78793,     0.78813,     0.78832,     0.78852,     0.78872,     0.78891,     0.78911,     0.78931,     0.78951,      0.7897,      0.7899,      0.7901,     0.79029,     0.79049,     0.79068,     0.79088,     0.79108,     0.80299,     0.80465,     0.80486,     0.80507,     0.80528,\n",
              "            0.80549,      0.8057,     0.80591,     0.80613,     0.80634,     0.80655,     0.80676,     0.80697,     0.80718,     0.80739,      0.8076,     0.80781,     0.80802,     0.80823,     0.80844,     0.80865,     0.80886,     0.81134,     0.80912,     0.80737,     0.80819,     0.80902,     0.80984,\n",
              "            0.81066,     0.81153,     0.81327,     0.81501,       0.817,     0.81942,     0.82289,     0.82573,     0.82605,     0.82637,     0.82669,     0.82701,     0.82733,     0.82765,     0.82797,     0.82829,     0.82861,     0.82892,     0.82924,     0.82956,     0.82988,      0.8302,     0.82811,\n",
              "            0.82367,     0.82407,     0.82447,     0.82487,     0.82528,     0.82568,     0.82608,     0.82647,     0.82687,     0.82727,     0.82767,     0.82807,     0.82845,     0.82878,      0.8291,     0.82942,     0.82974,     0.83006,     0.83039,     0.83071,     0.83103,     0.83135,     0.83167,\n",
              "            0.83199,     0.83231,     0.83263,     0.83295,     0.83327,     0.83469,      0.8364,     0.83809,     0.84057,     0.84315,     0.84286,      0.8423,     0.84174,     0.84118,     0.84061,     0.84005,     0.83949,     0.83892,     0.83836,     0.83779,     0.83723,     0.83666,     0.83761,\n",
              "            0.84022,     0.84092,     0.83988,     0.83885,     0.83781,     0.83676,     0.83572,     0.83468,     0.83446,     0.83461,     0.83476,     0.83492,     0.83507,     0.83522,     0.83537,     0.83552,     0.83567,     0.83583,     0.83598,     0.83613,     0.83628,     0.83643,     0.83658,\n",
              "            0.83673,     0.83688,     0.83703,     0.83718,     0.83734,     0.83749,     0.83764,     0.83779,     0.83794,     0.83809,     0.83824,     0.83839,     0.83854,     0.83869,     0.83884,     0.83899,     0.83914,     0.83929,     0.83944,     0.84049,     0.84228,     0.84405,     0.84319,\n",
              "            0.84073,     0.83826,     0.83707,     0.83645,     0.83582,      0.8352,     0.83458,     0.83395,     0.83333,      0.8327,     0.83208,     0.83145,     0.83082,      0.8302,     0.83078,     0.83139,     0.83199,     0.83259,     0.83318,     0.83378,     0.83438,     0.83497,     0.83492,\n",
              "            0.83239,     0.82985,      0.8288,     0.83152,     0.83326,     0.83305,     0.83283,     0.83261,      0.8324,     0.83218,     0.83196,     0.83175,     0.83153,     0.83131,      0.8311,     0.83088,     0.83066,     0.83045,     0.83023,     0.83001,      0.8298,     0.82958,     0.82936,\n",
              "            0.82914,     0.82893,     0.82871,     0.82849,     0.82827,     0.82806,     0.82784,     0.82762,      0.8274,     0.82718,     0.82696,     0.82675,     0.82653,     0.82631,     0.82609,     0.82587,     0.82553,     0.82513,     0.82473,     0.82433,     0.82393,     0.82353,     0.82313,\n",
              "            0.82273,     0.82233,     0.82193,     0.82153,     0.82113,     0.82073,     0.82033,     0.81992,     0.81952,     0.81912,     0.81872,     0.81831,     0.81752,     0.81653,     0.81555,     0.81456,     0.81357,     0.81258,     0.81158,     0.81059,     0.81237,     0.81455,     0.81465,\n",
              "            0.81197,     0.80929,     0.81073,     0.81296,     0.81226,     0.81155,     0.81084,     0.81013,     0.80942,     0.80871,       0.808,     0.80729,     0.80658,     0.80586,     0.80498,     0.80371,     0.80244,     0.80117,      0.7999,     0.79862,     0.79734,     0.79645,     0.79557,\n",
              "            0.79469,     0.79381,     0.79293,     0.79204,     0.79116,     0.79027,     0.78938,     0.78862,     0.78792,     0.78721,     0.78651,      0.7858,     0.78509,     0.78438,     0.78367,     0.78296,     0.78225,     0.78154,     0.78083,     0.77893,     0.77702,     0.77511,     0.77318,\n",
              "            0.76333,      0.7624,     0.76147,     0.76054,     0.75961,     0.75868,     0.75774,     0.75681,     0.75587,     0.75499,     0.75421,     0.75343,     0.75265,     0.75187,     0.75109,     0.75031,     0.74953,     0.74875,     0.74796,     0.74718,     0.74633,     0.74504,     0.74374,\n",
              "            0.74244,     0.74114,     0.73983,     0.73853,     0.73715,     0.73562,     0.73408,     0.73254,       0.731,     0.72945,     0.72656,     0.72187,     0.71889,     0.71778,     0.71666,     0.71555,     0.71443,     0.71331,     0.71218,     0.71106,     0.70835,     0.69935,     0.69283,\n",
              "            0.68375,      0.6737,     0.66349,     0.64864,     0.64513,     0.64159,     0.63963,     0.63785,     0.63607,     0.63428,     0.63249,     0.63032,     0.61871,     0.59712,     0.59484,     0.59257,     0.59028,     0.58799,     0.58407,     0.57944,     0.57447,      0.5686,     0.54533,\n",
              "            0.51861,     0.51308,     0.50882,     0.50455,     0.50156,     0.49868,     0.49579,     0.49289,     0.48688,     0.47686,     0.45072,      0.4482,     0.44568,     0.44314,      0.4406,     0.43832,     0.43705,     0.43577,     0.43448,      0.4332,     0.43191,     0.43063,     0.42933,\n",
              "            0.42804,     0.42675,     0.42545,      0.4234,     0.42053,     0.41765,     0.41477,     0.41187,     0.40631,     0.39897,     0.39552,     0.39417,     0.39282,     0.39146,     0.39011,     0.38875,     0.38739,     0.38603,     0.38466,      0.3833,     0.38193,     0.36781,     0.34898,\n",
              "            0.34268,     0.33586,     0.31788,     0.31243,     0.30694,     0.26976,     0.26631,     0.26284,     0.25936,     0.25586,     0.24851,     0.23963,     0.21798,     0.21536,     0.21273,      0.2101,     0.20746,     0.20482,     0.20216,     0.20402,     0.19886,     0.19344,       0.188,\n",
              "            0.18393,     0.18097,       0.178,     0.17502,     0.17203,     0.16903,     0.16387,     0.15068,     0.14235,     0.13563,     0.12886,     0.12579,     0.12351,     0.12123,     0.11894,     0.11665,     0.11435,     0.11205,     0.10974,     0.10747,     0.10612,     0.10477,     0.10342,\n",
              "            0.10207,     0.10071,    0.099358,       0.098,     0.09664,    0.095278,    0.093913,    0.092547,    0.091179,    0.089809,    0.088437,    0.087063,    0.086567,    0.086145,    0.085722,      0.0853,    0.084877,    0.084454,     0.08403,    0.083607,    0.083183,    0.082759,    0.082335,\n",
              "           0.081911,    0.081487,    0.081062,    0.080637,    0.080213,    0.079787,    0.079362,    0.078937,    0.078511,    0.078085,    0.077659,    0.077233,    0.076806,    0.076379,    0.075953,    0.075526,    0.075098,    0.074671,    0.074243,    0.073816,    0.073388,    0.072959,    0.072531,\n",
              "           0.072103,    0.071674,    0.071245,    0.070816,    0.070386,    0.069957,    0.069527,    0.069097,    0.068667,    0.068237,    0.067807,    0.067376,    0.066945,    0.066514,    0.066083,    0.051553,    0.043067,    0.041038,    0.039004,    0.036966,    0.034923,    0.032877,    0.030826,\n",
              "            0.02877,    0.026711,    0.024647,    0.022579,           0,           0,           0,           0,           0,           0,           0,           0,           0,           0,           0,           0,           0,           0,           0,           0,           0,           0,           0,\n",
              "                  0,           0,           0,           0,           0,           0,           0,           0,           0,           0,           0,           0,           0,           0,           0,           0,           0,           0,           0,           0,           0,           0,           0,\n",
              "                  0,           0,           0,           0,           0,           0,           0,           0,           0,           0,           0,           0,           0,           0,           0,           0,           0,           0,           0,           0,           0,           0,           0,\n",
              "                  0,           0,           0,           0,           0,           0,           0,           0,           0,           0,           0,           0,           0,           0,           0,           0,           0,           0,           0,           0,           0,           0,           0,\n",
              "                  0,           0,           0,           0,           0,           0,           0,           0,           0,           0,           0,           0,           0,           0,           0,           0,           0,           0,           0,           0,           0,           0,           0,\n",
              "                  0,           0,           0,           0,           0,           0,           0,           0,           0,           0,           0]]), 'Confidence', 'F1'], [array([          0,    0.001001,    0.002002,    0.003003,    0.004004,    0.005005,    0.006006,    0.007007,    0.008008,    0.009009,     0.01001,    0.011011,    0.012012,    0.013013,    0.014014,    0.015015,    0.016016,    0.017017,    0.018018,    0.019019,     0.02002,    0.021021,    0.022022,    0.023023,\n",
              "          0.024024,    0.025025,    0.026026,    0.027027,    0.028028,    0.029029,     0.03003,    0.031031,    0.032032,    0.033033,    0.034034,    0.035035,    0.036036,    0.037037,    0.038038,    0.039039,     0.04004,    0.041041,    0.042042,    0.043043,    0.044044,    0.045045,    0.046046,    0.047047,\n",
              "          0.048048,    0.049049,     0.05005,    0.051051,    0.052052,    0.053053,    0.054054,    0.055055,    0.056056,    0.057057,    0.058058,    0.059059,     0.06006,    0.061061,    0.062062,    0.063063,    0.064064,    0.065065,    0.066066,    0.067067,    0.068068,    0.069069,     0.07007,    0.071071,\n",
              "          0.072072,    0.073073,    0.074074,    0.075075,    0.076076,    0.077077,    0.078078,    0.079079,     0.08008,    0.081081,    0.082082,    0.083083,    0.084084,    0.085085,    0.086086,    0.087087,    0.088088,    0.089089,     0.09009,    0.091091,    0.092092,    0.093093,    0.094094,    0.095095,\n",
              "          0.096096,    0.097097,    0.098098,    0.099099,      0.1001,      0.1011,      0.1021,      0.1031,      0.1041,     0.10511,     0.10611,     0.10711,     0.10811,     0.10911,     0.11011,     0.11111,     0.11211,     0.11311,     0.11411,     0.11512,     0.11612,     0.11712,     0.11812,     0.11912,\n",
              "           0.12012,     0.12112,     0.12212,     0.12312,     0.12412,     0.12513,     0.12613,     0.12713,     0.12813,     0.12913,     0.13013,     0.13113,     0.13213,     0.13313,     0.13413,     0.13514,     0.13614,     0.13714,     0.13814,     0.13914,     0.14014,     0.14114,     0.14214,     0.14314,\n",
              "           0.14414,     0.14515,     0.14615,     0.14715,     0.14815,     0.14915,     0.15015,     0.15115,     0.15215,     0.15315,     0.15415,     0.15516,     0.15616,     0.15716,     0.15816,     0.15916,     0.16016,     0.16116,     0.16216,     0.16316,     0.16416,     0.16517,     0.16617,     0.16717,\n",
              "           0.16817,     0.16917,     0.17017,     0.17117,     0.17217,     0.17317,     0.17417,     0.17518,     0.17618,     0.17718,     0.17818,     0.17918,     0.18018,     0.18118,     0.18218,     0.18318,     0.18418,     0.18519,     0.18619,     0.18719,     0.18819,     0.18919,     0.19019,     0.19119,\n",
              "           0.19219,     0.19319,     0.19419,      0.1952,      0.1962,      0.1972,      0.1982,      0.1992,      0.2002,      0.2012,      0.2022,      0.2032,      0.2042,     0.20521,     0.20621,     0.20721,     0.20821,     0.20921,     0.21021,     0.21121,     0.21221,     0.21321,     0.21421,     0.21522,\n",
              "           0.21622,     0.21722,     0.21822,     0.21922,     0.22022,     0.22122,     0.22222,     0.22322,     0.22422,     0.22523,     0.22623,     0.22723,     0.22823,     0.22923,     0.23023,     0.23123,     0.23223,     0.23323,     0.23423,     0.23524,     0.23624,     0.23724,     0.23824,     0.23924,\n",
              "           0.24024,     0.24124,     0.24224,     0.24324,     0.24424,     0.24525,     0.24625,     0.24725,     0.24825,     0.24925,     0.25025,     0.25125,     0.25225,     0.25325,     0.25425,     0.25526,     0.25626,     0.25726,     0.25826,     0.25926,     0.26026,     0.26126,     0.26226,     0.26326,\n",
              "           0.26426,     0.26527,     0.26627,     0.26727,     0.26827,     0.26927,     0.27027,     0.27127,     0.27227,     0.27327,     0.27427,     0.27528,     0.27628,     0.27728,     0.27828,     0.27928,     0.28028,     0.28128,     0.28228,     0.28328,     0.28428,     0.28529,     0.28629,     0.28729,\n",
              "           0.28829,     0.28929,     0.29029,     0.29129,     0.29229,     0.29329,     0.29429,      0.2953,      0.2963,      0.2973,      0.2983,      0.2993,      0.3003,      0.3013,      0.3023,      0.3033,      0.3043,     0.30531,     0.30631,     0.30731,     0.30831,     0.30931,     0.31031,     0.31131,\n",
              "           0.31231,     0.31331,     0.31431,     0.31532,     0.31632,     0.31732,     0.31832,     0.31932,     0.32032,     0.32132,     0.32232,     0.32332,     0.32432,     0.32533,     0.32633,     0.32733,     0.32833,     0.32933,     0.33033,     0.33133,     0.33233,     0.33333,     0.33433,     0.33534,\n",
              "           0.33634,     0.33734,     0.33834,     0.33934,     0.34034,     0.34134,     0.34234,     0.34334,     0.34434,     0.34535,     0.34635,     0.34735,     0.34835,     0.34935,     0.35035,     0.35135,     0.35235,     0.35335,     0.35435,     0.35536,     0.35636,     0.35736,     0.35836,     0.35936,\n",
              "           0.36036,     0.36136,     0.36236,     0.36336,     0.36436,     0.36537,     0.36637,     0.36737,     0.36837,     0.36937,     0.37037,     0.37137,     0.37237,     0.37337,     0.37437,     0.37538,     0.37638,     0.37738,     0.37838,     0.37938,     0.38038,     0.38138,     0.38238,     0.38338,\n",
              "           0.38438,     0.38539,     0.38639,     0.38739,     0.38839,     0.38939,     0.39039,     0.39139,     0.39239,     0.39339,     0.39439,      0.3954,      0.3964,      0.3974,      0.3984,      0.3994,      0.4004,      0.4014,      0.4024,      0.4034,      0.4044,     0.40541,     0.40641,     0.40741,\n",
              "           0.40841,     0.40941,     0.41041,     0.41141,     0.41241,     0.41341,     0.41441,     0.41542,     0.41642,     0.41742,     0.41842,     0.41942,     0.42042,     0.42142,     0.42242,     0.42342,     0.42442,     0.42543,     0.42643,     0.42743,     0.42843,     0.42943,     0.43043,     0.43143,\n",
              "           0.43243,     0.43343,     0.43443,     0.43544,     0.43644,     0.43744,     0.43844,     0.43944,     0.44044,     0.44144,     0.44244,     0.44344,     0.44444,     0.44545,     0.44645,     0.44745,     0.44845,     0.44945,     0.45045,     0.45145,     0.45245,     0.45345,     0.45445,     0.45546,\n",
              "           0.45646,     0.45746,     0.45846,     0.45946,     0.46046,     0.46146,     0.46246,     0.46346,     0.46446,     0.46547,     0.46647,     0.46747,     0.46847,     0.46947,     0.47047,     0.47147,     0.47247,     0.47347,     0.47447,     0.47548,     0.47648,     0.47748,     0.47848,     0.47948,\n",
              "           0.48048,     0.48148,     0.48248,     0.48348,     0.48448,     0.48549,     0.48649,     0.48749,     0.48849,     0.48949,     0.49049,     0.49149,     0.49249,     0.49349,     0.49449,      0.4955,      0.4965,      0.4975,      0.4985,      0.4995,      0.5005,      0.5015,      0.5025,      0.5035,\n",
              "            0.5045,     0.50551,     0.50651,     0.50751,     0.50851,     0.50951,     0.51051,     0.51151,     0.51251,     0.51351,     0.51451,     0.51552,     0.51652,     0.51752,     0.51852,     0.51952,     0.52052,     0.52152,     0.52252,     0.52352,     0.52452,     0.52553,     0.52653,     0.52753,\n",
              "           0.52853,     0.52953,     0.53053,     0.53153,     0.53253,     0.53353,     0.53453,     0.53554,     0.53654,     0.53754,     0.53854,     0.53954,     0.54054,     0.54154,     0.54254,     0.54354,     0.54454,     0.54555,     0.54655,     0.54755,     0.54855,     0.54955,     0.55055,     0.55155,\n",
              "           0.55255,     0.55355,     0.55455,     0.55556,     0.55656,     0.55756,     0.55856,     0.55956,     0.56056,     0.56156,     0.56256,     0.56356,     0.56456,     0.56557,     0.56657,     0.56757,     0.56857,     0.56957,     0.57057,     0.57157,     0.57257,     0.57357,     0.57457,     0.57558,\n",
              "           0.57658,     0.57758,     0.57858,     0.57958,     0.58058,     0.58158,     0.58258,     0.58358,     0.58458,     0.58559,     0.58659,     0.58759,     0.58859,     0.58959,     0.59059,     0.59159,     0.59259,     0.59359,     0.59459,      0.5956,      0.5966,      0.5976,      0.5986,      0.5996,\n",
              "            0.6006,      0.6016,      0.6026,      0.6036,      0.6046,     0.60561,     0.60661,     0.60761,     0.60861,     0.60961,     0.61061,     0.61161,     0.61261,     0.61361,     0.61461,     0.61562,     0.61662,     0.61762,     0.61862,     0.61962,     0.62062,     0.62162,     0.62262,     0.62362,\n",
              "           0.62462,     0.62563,     0.62663,     0.62763,     0.62863,     0.62963,     0.63063,     0.63163,     0.63263,     0.63363,     0.63463,     0.63564,     0.63664,     0.63764,     0.63864,     0.63964,     0.64064,     0.64164,     0.64264,     0.64364,     0.64464,     0.64565,     0.64665,     0.64765,\n",
              "           0.64865,     0.64965,     0.65065,     0.65165,     0.65265,     0.65365,     0.65465,     0.65566,     0.65666,     0.65766,     0.65866,     0.65966,     0.66066,     0.66166,     0.66266,     0.66366,     0.66466,     0.66567,     0.66667,     0.66767,     0.66867,     0.66967,     0.67067,     0.67167,\n",
              "           0.67267,     0.67367,     0.67467,     0.67568,     0.67668,     0.67768,     0.67868,     0.67968,     0.68068,     0.68168,     0.68268,     0.68368,     0.68468,     0.68569,     0.68669,     0.68769,     0.68869,     0.68969,     0.69069,     0.69169,     0.69269,     0.69369,     0.69469,      0.6957,\n",
              "            0.6967,      0.6977,      0.6987,      0.6997,      0.7007,      0.7017,      0.7027,      0.7037,      0.7047,     0.70571,     0.70671,     0.70771,     0.70871,     0.70971,     0.71071,     0.71171,     0.71271,     0.71371,     0.71471,     0.71572,     0.71672,     0.71772,     0.71872,     0.71972,\n",
              "           0.72072,     0.72172,     0.72272,     0.72372,     0.72472,     0.72573,     0.72673,     0.72773,     0.72873,     0.72973,     0.73073,     0.73173,     0.73273,     0.73373,     0.73473,     0.73574,     0.73674,     0.73774,     0.73874,     0.73974,     0.74074,     0.74174,     0.74274,     0.74374,\n",
              "           0.74474,     0.74575,     0.74675,     0.74775,     0.74875,     0.74975,     0.75075,     0.75175,     0.75275,     0.75375,     0.75475,     0.75576,     0.75676,     0.75776,     0.75876,     0.75976,     0.76076,     0.76176,     0.76276,     0.76376,     0.76476,     0.76577,     0.76677,     0.76777,\n",
              "           0.76877,     0.76977,     0.77077,     0.77177,     0.77277,     0.77377,     0.77477,     0.77578,     0.77678,     0.77778,     0.77878,     0.77978,     0.78078,     0.78178,     0.78278,     0.78378,     0.78478,     0.78579,     0.78679,     0.78779,     0.78879,     0.78979,     0.79079,     0.79179,\n",
              "           0.79279,     0.79379,     0.79479,      0.7958,      0.7968,      0.7978,      0.7988,      0.7998,      0.8008,      0.8018,      0.8028,      0.8038,      0.8048,     0.80581,     0.80681,     0.80781,     0.80881,     0.80981,     0.81081,     0.81181,     0.81281,     0.81381,     0.81481,     0.81582,\n",
              "           0.81682,     0.81782,     0.81882,     0.81982,     0.82082,     0.82182,     0.82282,     0.82382,     0.82482,     0.82583,     0.82683,     0.82783,     0.82883,     0.82983,     0.83083,     0.83183,     0.83283,     0.83383,     0.83483,     0.83584,     0.83684,     0.83784,     0.83884,     0.83984,\n",
              "           0.84084,     0.84184,     0.84284,     0.84384,     0.84484,     0.84585,     0.84685,     0.84785,     0.84885,     0.84985,     0.85085,     0.85185,     0.85285,     0.85385,     0.85485,     0.85586,     0.85686,     0.85786,     0.85886,     0.85986,     0.86086,     0.86186,     0.86286,     0.86386,\n",
              "           0.86486,     0.86587,     0.86687,     0.86787,     0.86887,     0.86987,     0.87087,     0.87187,     0.87287,     0.87387,     0.87487,     0.87588,     0.87688,     0.87788,     0.87888,     0.87988,     0.88088,     0.88188,     0.88288,     0.88388,     0.88488,     0.88589,     0.88689,     0.88789,\n",
              "           0.88889,     0.88989,     0.89089,     0.89189,     0.89289,     0.89389,     0.89489,      0.8959,      0.8969,      0.8979,      0.8989,      0.8999,      0.9009,      0.9019,      0.9029,      0.9039,      0.9049,     0.90591,     0.90691,     0.90791,     0.90891,     0.90991,     0.91091,     0.91191,\n",
              "           0.91291,     0.91391,     0.91491,     0.91592,     0.91692,     0.91792,     0.91892,     0.91992,     0.92092,     0.92192,     0.92292,     0.92392,     0.92492,     0.92593,     0.92693,     0.92793,     0.92893,     0.92993,     0.93093,     0.93193,     0.93293,     0.93393,     0.93493,     0.93594,\n",
              "           0.93694,     0.93794,     0.93894,     0.93994,     0.94094,     0.94194,     0.94294,     0.94394,     0.94494,     0.94595,     0.94695,     0.94795,     0.94895,     0.94995,     0.95095,     0.95195,     0.95295,     0.95395,     0.95495,     0.95596,     0.95696,     0.95796,     0.95896,     0.95996,\n",
              "           0.96096,     0.96196,     0.96296,     0.96396,     0.96496,     0.96597,     0.96697,     0.96797,     0.96897,     0.96997,     0.97097,     0.97197,     0.97297,     0.97397,     0.97497,     0.97598,     0.97698,     0.97798,     0.97898,     0.97998,     0.98098,     0.98198,     0.98298,     0.98398,\n",
              "           0.98498,     0.98599,     0.98699,     0.98799,     0.98899,     0.98999,     0.99099,     0.99199,     0.99299,     0.99399,     0.99499,       0.996,       0.997,       0.998,       0.999,           1]), array([[   0.028259,    0.028259,    0.056479,    0.076383,    0.093907,     0.10682,     0.12008,     0.12732,     0.13666,     0.14551,     0.15184,     0.15958,     0.16574,     0.17148,     0.17782,     0.18181,     0.18391,     0.18666,     0.18868,     0.19508,     0.19691,     0.19727,     0.20107,\n",
              "            0.20356,     0.20642,     0.21114,     0.21321,       0.216,     0.22168,      0.2233,     0.22549,     0.22827,     0.23134,     0.23393,     0.23699,     0.24184,     0.24646,     0.24854,     0.25295,     0.25421,     0.25271,     0.25545,     0.26036,     0.26223,     0.26385,     0.26721,\n",
              "            0.27188,     0.27521,      0.2774,     0.28189,     0.28524,     0.28758,     0.28943,     0.29216,     0.29927,     0.30562,     0.30887,     0.31108,     0.31383,     0.31709,     0.31867,     0.32128,      0.3235,     0.32429,      0.3311,     0.33301,     0.33385,     0.33439,     0.33874,\n",
              "              0.344,     0.34236,     0.34248,     0.34626,     0.34845,     0.35184,     0.35328,     0.35465,     0.36029,     0.36423,     0.36572,     0.36989,     0.37223,     0.37361,     0.37574,     0.37808,      0.3793,     0.37979,     0.38028,     0.38082,     0.38192,      0.3829,     0.38372,\n",
              "            0.38491,     0.38745,     0.38884,     0.39169,     0.39241,     0.39314,     0.39555,     0.39601,     0.39646,     0.39692,     0.39793,      0.4004,     0.40202,      0.4038,     0.40849,     0.41164,     0.41242,     0.41371,     0.41857,     0.42363,     0.42551,     0.42773,     0.43496,\n",
              "            0.43572,     0.43649,     0.44122,     0.44512,     0.44664,      0.4478,      0.4502,     0.45558,     0.45655,     0.45718,      0.4578,     0.45843,     0.46339,     0.46146,     0.46324,     0.47147,      0.4723,     0.47312,     0.47395,     0.47565,     0.47696,     0.47753,      0.4781,\n",
              "            0.47867,     0.47924,     0.48521,     0.48704,     0.49118,     0.49211,     0.49305,     0.49398,     0.49521,     0.49644,     0.49723,      0.4977,     0.49817,     0.49864,     0.49911,     0.49958,     0.49997,     0.49962,     0.49928,     0.49893,     0.49859,     0.49824,      0.4979,\n",
              "            0.49755,     0.49721,     0.49944,     0.50101,     0.50207,     0.50347,     0.50918,     0.51381,     0.51548,     0.51666,     0.51767,     0.51867,     0.52097,     0.52375,     0.52574,     0.53404,     0.53658,     0.53747,     0.53836,     0.53925,     0.53973,     0.53792,     0.53838,\n",
              "            0.54073,     0.54127,      0.5418,     0.54234,     0.54288,     0.54342,     0.54396,     0.54527,     0.54731,     0.54913,     0.55085,     0.55219,     0.55315,      0.5541,     0.55505,     0.55615,     0.55743,      0.5587,     0.56048,     0.56297,      0.5668,     0.57116,     0.57086,\n",
              "            0.57055,     0.57024,     0.56993,     0.56962,     0.56931,     0.56901,      0.5687,     0.56839,     0.56955,     0.57096,     0.57237,     0.57322,     0.57404,     0.57486,     0.57567,     0.57649,     0.57555,     0.57421,     0.57454,     0.57659,     0.57884,     0.58136,     0.58262,\n",
              "            0.58337,     0.58412,     0.58487,     0.58561,     0.58636,     0.58499,     0.58037,     0.58493,     0.58567,     0.58641,     0.58716,      0.5879,     0.58864,     0.58935,     0.58998,     0.59061,     0.59124,     0.59187,      0.5925,     0.59312,     0.59375,     0.59439,     0.59503,\n",
              "            0.59567,     0.59631,     0.59695,     0.59759,     0.59823,     0.59992,     0.60208,     0.60369,     0.60473,     0.60577,     0.60681,     0.60785,     0.61232,     0.61516,     0.61772,     0.61965,     0.62154,     0.62318,      0.6241,     0.62502,     0.62593,     0.62685,     0.62777,\n",
              "            0.63268,     0.63581,     0.63854,     0.63977,     0.64094,     0.64211,     0.64328,     0.64447,     0.64573,     0.64698,     0.64824,     0.64949,     0.65083,     0.65218,     0.65353,     0.65489,     0.65632,     0.65778,     0.65924,      0.6607,     0.66262,      0.6646,     0.66658,\n",
              "            0.66767,     0.66873,     0.66978,     0.67083,     0.67188,     0.67352,     0.67626,     0.67887,      0.6808,     0.68272,     0.68465,     0.68747,     0.69031,     0.69838,     0.70216,     0.70319,     0.70231,     0.70144,     0.70257,     0.70644,     0.71084,     0.71517,     0.71869,\n",
              "            0.72547,     0.72884,     0.72967,     0.73051,     0.73134,     0.73218,     0.73302,     0.73385,     0.73469,      0.7348,     0.73301,     0.73512,     0.73812,     0.74287,      0.7537,     0.75322,     0.75112,      0.7517,     0.75529,       0.758,     0.75836,     0.75873,      0.7591,\n",
              "            0.75947,     0.75983,      0.7602,     0.76057,     0.76093,      0.7613,     0.76167,     0.76204,      0.7624,     0.76277,     0.76314,     0.76351,     0.76387,     0.76424,     0.76461,     0.76498,     0.76534,     0.76571,     0.78836,     0.79155,     0.79196,     0.79237,     0.79278,\n",
              "            0.79319,      0.7936,     0.79401,     0.79442,     0.79483,     0.79524,     0.79565,     0.79606,     0.79647,     0.79688,     0.79729,      0.7977,     0.79811,     0.79852,     0.79892,     0.79933,     0.79974,     0.80461,     0.80756,     0.80792,     0.80958,     0.81123,     0.81288,\n",
              "            0.81454,      0.8163,     0.81984,     0.82337,     0.82745,     0.83243,     0.83962,     0.84554,     0.84621,     0.84689,     0.84756,     0.84823,     0.84891,     0.84958,     0.85025,     0.85093,      0.8516,     0.85227,     0.85295,     0.85362,      0.8543,     0.85497,     0.85483,\n",
              "            0.85396,     0.85483,     0.85569,     0.85656,     0.85742,     0.85828,     0.85915,     0.86001,     0.86088,     0.86174,      0.8626,     0.86347,     0.86431,     0.86501,     0.86571,     0.86642,     0.86712,     0.86782,     0.86853,     0.86923,     0.86993,     0.87064,     0.87134,\n",
              "            0.87204,     0.87274,     0.87345,     0.87415,     0.87485,     0.87799,     0.88178,     0.88556,     0.89111,     0.89693,     0.89734,     0.89723,     0.89712,     0.89702,     0.89691,      0.8968,      0.8967,     0.89659,     0.89648,     0.89637,     0.89627,     0.89616,     0.89897,\n",
              "            0.90501,      0.9078,     0.90762,     0.90744,     0.90726,     0.90708,      0.9069,     0.90672,     0.90692,     0.90727,     0.90763,     0.90799,     0.90835,     0.90871,     0.90907,     0.90943,     0.90979,     0.91015,      0.9105,     0.91086,     0.91122,     0.91158,     0.91194,\n",
              "             0.9123,     0.91266,     0.91302,     0.91337,     0.91373,     0.91409,     0.91445,     0.91481,     0.91517,     0.91553,     0.91589,     0.91625,      0.9166,     0.91696,     0.91732,     0.91768,     0.91804,      0.9184,     0.91876,     0.92128,     0.92558,     0.92988,      0.9313,\n",
              "            0.93098,     0.93065,      0.9305,     0.93041,     0.93033,     0.93025,     0.93016,     0.93008,        0.93,     0.92991,     0.92983,     0.92975,     0.92966,     0.92958,     0.93107,     0.93258,      0.9341,     0.93561,     0.93712,     0.93863,     0.94015,     0.94166,      0.9428,\n",
              "            0.94252,     0.94223,     0.94403,     0.95113,     0.95588,     0.95586,     0.95584,     0.95582,      0.9558,     0.95578,     0.95576,     0.95574,     0.95572,      0.9557,     0.95569,     0.95567,     0.95565,     0.95563,     0.95561,     0.95559,     0.95557,     0.95555,     0.95553,\n",
              "            0.95551,      0.9555,     0.95548,     0.95546,     0.95544,     0.95542,      0.9554,     0.95538,     0.95536,     0.95534,     0.95532,     0.95531,     0.95529,     0.95527,     0.95525,     0.95523,      0.9552,     0.95516,     0.95513,     0.95509,     0.95506,     0.95502,     0.95499,\n",
              "            0.95495,     0.95491,     0.95488,     0.95484,     0.95481,     0.95477,     0.95474,      0.9547,     0.95466,     0.95463,     0.95459,     0.95456,     0.95449,      0.9544,     0.95431,     0.95422,     0.95413,     0.95404,     0.95395,     0.95386,     0.95915,     0.96526,     0.96868,\n",
              "            0.96851,     0.96834,      0.9763,     0.98386,     0.98383,     0.98381,     0.98379,     0.98376,     0.98374,     0.98372,     0.98369,     0.98367,     0.98365,     0.98362,     0.98359,     0.98355,     0.98351,     0.98346,     0.98342,     0.98338,     0.98333,      0.9833,     0.98327,\n",
              "            0.98324,     0.98321,     0.98318,     0.98315,     0.98312,     0.98309,     0.98306,     0.98303,     0.98301,     0.98298,     0.98296,     0.98293,     0.98291,     0.98288,     0.98286,     0.98283,     0.98281,     0.98278,     0.98276,     0.98269,     0.98262,     0.98255,     0.98248,\n",
              "            0.98212,     0.98209,     0.98205,     0.98202,     0.98198,     0.98195,     0.98191,     0.98188,     0.98184,     0.98181,     0.98178,     0.98175,     0.98172,     0.98169,     0.98166,     0.98163,      0.9816,     0.98157,     0.98154,     0.98151,     0.98148,     0.98142,     0.98137,\n",
              "            0.98132,     0.98127,     0.98122,     0.98117,     0.98111,     0.98105,     0.98099,     0.98093,     0.98087,      0.9808,     0.98069,     0.98049,     0.98037,     0.98032,     0.98027,     0.98023,     0.98018,     0.98013,     0.98009,     0.98004,     0.97992,     0.97953,     0.97924,\n",
              "            0.97883,     0.97836,     0.97787,     0.97712,     0.97694,     0.97676,     0.97666,     0.97656,     0.97647,     0.97638,     0.97628,     0.97617,     0.97553,     0.97428,     0.97414,       0.974,     0.97386,     0.97373,     0.97348,     0.97319,     0.97287,     0.97249,     0.97089,\n",
              "             0.9689,     0.96846,     0.96811,     0.96777,     0.96752,     0.96727,     0.96703,     0.96678,     0.96625,     0.96535,     0.96281,     0.96254,     0.96228,     0.96201,     0.96175,     0.96151,     0.96136,     0.96122,     0.96108,     0.96093,     0.96079,     0.96065,      0.9605,\n",
              "            0.96036,     0.96022,     0.96007,     0.95984,     0.95949,     0.95915,     0.95881,     0.95847,     0.95777,     0.95684,      0.9564,     0.95622,     0.95603,     0.95585,     0.95566,     0.95548,      0.9553,     0.95511,     0.95493,     0.95474,     0.95456,      0.9525,     0.94951,\n",
              "            0.94843,     0.94726,     0.94385,     0.94274,     0.94162,     0.93274,     0.93177,     0.93079,     0.92982,     0.92884,     0.92653,     0.92371,     0.91581,      0.9147,     0.91359,     0.91248,     0.91137,     0.91026,     0.90915,     0.99722,           1,           1,           1,\n",
              "                  1,           1,           1,           1,           1,           1,           1,           1,           1,           1,           1,           1,           1,           1,           1,           1,           1,           1,           1,           1,           1,           1,           1,\n",
              "                  1,           1,           1,           1,           1,           1,           1,           1,           1,           1,           1,           1,           1,           1,           1,           1,           1,           1,           1,           1,           1,           1,           1,\n",
              "                  1,           1,           1,           1,           1,           1,           1,           1,           1,           1,           1,           1,           1,           1,           1,           1,           1,           1,           1,           1,           1,           1,           1,\n",
              "                  1,           1,           1,           1,           1,           1,           1,           1,           1,           1,           1,           1,           1,           1,           1,           1,           1,           1,           1,           1,           1,           1,           1,\n",
              "                  1,           1,           1,           1,           1,           1,           1,           1,           1,           1,           1,           1,           1,           1,           1,           1,           1,           1,           1,           1,           1,           1,           1,\n",
              "                  1,           1,           1,           1,           1,           1,           1,           1,           1,           1,           1,           1,           1,           1,           1,           1,           1,           1,           1,           1,           1,           1,           1,\n",
              "                  1,           1,           1,           1,           1,           1,           1,           1,           1,           1,           1,           1,           1,           1,           1,           1,           1,           1,           1,           1,           1,           1,           1,\n",
              "                  1,           1,           1,           1,           1,           1,           1,           1,           1,           1,           1,           1,           1,           1,           1,           1,           1,           1,           1,           1,           1,           1,           1,\n",
              "                  1,           1,           1,           1,           1,           1,           1,           1,           1,           1,           1,           1,           1,           1,           1,           1,           1,           1,           1,           1,           1,           1,           1,\n",
              "                  1,           1,           1,           1,           1,           1,           1,           1,           1,           1,           1]]), 'Confidence', 'Precision'], [array([          0,    0.001001,    0.002002,    0.003003,    0.004004,    0.005005,    0.006006,    0.007007,    0.008008,    0.009009,     0.01001,    0.011011,    0.012012,    0.013013,    0.014014,    0.015015,    0.016016,    0.017017,    0.018018,    0.019019,     0.02002,    0.021021,    0.022022,    0.023023,\n",
              "          0.024024,    0.025025,    0.026026,    0.027027,    0.028028,    0.029029,     0.03003,    0.031031,    0.032032,    0.033033,    0.034034,    0.035035,    0.036036,    0.037037,    0.038038,    0.039039,     0.04004,    0.041041,    0.042042,    0.043043,    0.044044,    0.045045,    0.046046,    0.047047,\n",
              "          0.048048,    0.049049,     0.05005,    0.051051,    0.052052,    0.053053,    0.054054,    0.055055,    0.056056,    0.057057,    0.058058,    0.059059,     0.06006,    0.061061,    0.062062,    0.063063,    0.064064,    0.065065,    0.066066,    0.067067,    0.068068,    0.069069,     0.07007,    0.071071,\n",
              "          0.072072,    0.073073,    0.074074,    0.075075,    0.076076,    0.077077,    0.078078,    0.079079,     0.08008,    0.081081,    0.082082,    0.083083,    0.084084,    0.085085,    0.086086,    0.087087,    0.088088,    0.089089,     0.09009,    0.091091,    0.092092,    0.093093,    0.094094,    0.095095,\n",
              "          0.096096,    0.097097,    0.098098,    0.099099,      0.1001,      0.1011,      0.1021,      0.1031,      0.1041,     0.10511,     0.10611,     0.10711,     0.10811,     0.10911,     0.11011,     0.11111,     0.11211,     0.11311,     0.11411,     0.11512,     0.11612,     0.11712,     0.11812,     0.11912,\n",
              "           0.12012,     0.12112,     0.12212,     0.12312,     0.12412,     0.12513,     0.12613,     0.12713,     0.12813,     0.12913,     0.13013,     0.13113,     0.13213,     0.13313,     0.13413,     0.13514,     0.13614,     0.13714,     0.13814,     0.13914,     0.14014,     0.14114,     0.14214,     0.14314,\n",
              "           0.14414,     0.14515,     0.14615,     0.14715,     0.14815,     0.14915,     0.15015,     0.15115,     0.15215,     0.15315,     0.15415,     0.15516,     0.15616,     0.15716,     0.15816,     0.15916,     0.16016,     0.16116,     0.16216,     0.16316,     0.16416,     0.16517,     0.16617,     0.16717,\n",
              "           0.16817,     0.16917,     0.17017,     0.17117,     0.17217,     0.17317,     0.17417,     0.17518,     0.17618,     0.17718,     0.17818,     0.17918,     0.18018,     0.18118,     0.18218,     0.18318,     0.18418,     0.18519,     0.18619,     0.18719,     0.18819,     0.18919,     0.19019,     0.19119,\n",
              "           0.19219,     0.19319,     0.19419,      0.1952,      0.1962,      0.1972,      0.1982,      0.1992,      0.2002,      0.2012,      0.2022,      0.2032,      0.2042,     0.20521,     0.20621,     0.20721,     0.20821,     0.20921,     0.21021,     0.21121,     0.21221,     0.21321,     0.21421,     0.21522,\n",
              "           0.21622,     0.21722,     0.21822,     0.21922,     0.22022,     0.22122,     0.22222,     0.22322,     0.22422,     0.22523,     0.22623,     0.22723,     0.22823,     0.22923,     0.23023,     0.23123,     0.23223,     0.23323,     0.23423,     0.23524,     0.23624,     0.23724,     0.23824,     0.23924,\n",
              "           0.24024,     0.24124,     0.24224,     0.24324,     0.24424,     0.24525,     0.24625,     0.24725,     0.24825,     0.24925,     0.25025,     0.25125,     0.25225,     0.25325,     0.25425,     0.25526,     0.25626,     0.25726,     0.25826,     0.25926,     0.26026,     0.26126,     0.26226,     0.26326,\n",
              "           0.26426,     0.26527,     0.26627,     0.26727,     0.26827,     0.26927,     0.27027,     0.27127,     0.27227,     0.27327,     0.27427,     0.27528,     0.27628,     0.27728,     0.27828,     0.27928,     0.28028,     0.28128,     0.28228,     0.28328,     0.28428,     0.28529,     0.28629,     0.28729,\n",
              "           0.28829,     0.28929,     0.29029,     0.29129,     0.29229,     0.29329,     0.29429,      0.2953,      0.2963,      0.2973,      0.2983,      0.2993,      0.3003,      0.3013,      0.3023,      0.3033,      0.3043,     0.30531,     0.30631,     0.30731,     0.30831,     0.30931,     0.31031,     0.31131,\n",
              "           0.31231,     0.31331,     0.31431,     0.31532,     0.31632,     0.31732,     0.31832,     0.31932,     0.32032,     0.32132,     0.32232,     0.32332,     0.32432,     0.32533,     0.32633,     0.32733,     0.32833,     0.32933,     0.33033,     0.33133,     0.33233,     0.33333,     0.33433,     0.33534,\n",
              "           0.33634,     0.33734,     0.33834,     0.33934,     0.34034,     0.34134,     0.34234,     0.34334,     0.34434,     0.34535,     0.34635,     0.34735,     0.34835,     0.34935,     0.35035,     0.35135,     0.35235,     0.35335,     0.35435,     0.35536,     0.35636,     0.35736,     0.35836,     0.35936,\n",
              "           0.36036,     0.36136,     0.36236,     0.36336,     0.36436,     0.36537,     0.36637,     0.36737,     0.36837,     0.36937,     0.37037,     0.37137,     0.37237,     0.37337,     0.37437,     0.37538,     0.37638,     0.37738,     0.37838,     0.37938,     0.38038,     0.38138,     0.38238,     0.38338,\n",
              "           0.38438,     0.38539,     0.38639,     0.38739,     0.38839,     0.38939,     0.39039,     0.39139,     0.39239,     0.39339,     0.39439,      0.3954,      0.3964,      0.3974,      0.3984,      0.3994,      0.4004,      0.4014,      0.4024,      0.4034,      0.4044,     0.40541,     0.40641,     0.40741,\n",
              "           0.40841,     0.40941,     0.41041,     0.41141,     0.41241,     0.41341,     0.41441,     0.41542,     0.41642,     0.41742,     0.41842,     0.41942,     0.42042,     0.42142,     0.42242,     0.42342,     0.42442,     0.42543,     0.42643,     0.42743,     0.42843,     0.42943,     0.43043,     0.43143,\n",
              "           0.43243,     0.43343,     0.43443,     0.43544,     0.43644,     0.43744,     0.43844,     0.43944,     0.44044,     0.44144,     0.44244,     0.44344,     0.44444,     0.44545,     0.44645,     0.44745,     0.44845,     0.44945,     0.45045,     0.45145,     0.45245,     0.45345,     0.45445,     0.45546,\n",
              "           0.45646,     0.45746,     0.45846,     0.45946,     0.46046,     0.46146,     0.46246,     0.46346,     0.46446,     0.46547,     0.46647,     0.46747,     0.46847,     0.46947,     0.47047,     0.47147,     0.47247,     0.47347,     0.47447,     0.47548,     0.47648,     0.47748,     0.47848,     0.47948,\n",
              "           0.48048,     0.48148,     0.48248,     0.48348,     0.48448,     0.48549,     0.48649,     0.48749,     0.48849,     0.48949,     0.49049,     0.49149,     0.49249,     0.49349,     0.49449,      0.4955,      0.4965,      0.4975,      0.4985,      0.4995,      0.5005,      0.5015,      0.5025,      0.5035,\n",
              "            0.5045,     0.50551,     0.50651,     0.50751,     0.50851,     0.50951,     0.51051,     0.51151,     0.51251,     0.51351,     0.51451,     0.51552,     0.51652,     0.51752,     0.51852,     0.51952,     0.52052,     0.52152,     0.52252,     0.52352,     0.52452,     0.52553,     0.52653,     0.52753,\n",
              "           0.52853,     0.52953,     0.53053,     0.53153,     0.53253,     0.53353,     0.53453,     0.53554,     0.53654,     0.53754,     0.53854,     0.53954,     0.54054,     0.54154,     0.54254,     0.54354,     0.54454,     0.54555,     0.54655,     0.54755,     0.54855,     0.54955,     0.55055,     0.55155,\n",
              "           0.55255,     0.55355,     0.55455,     0.55556,     0.55656,     0.55756,     0.55856,     0.55956,     0.56056,     0.56156,     0.56256,     0.56356,     0.56456,     0.56557,     0.56657,     0.56757,     0.56857,     0.56957,     0.57057,     0.57157,     0.57257,     0.57357,     0.57457,     0.57558,\n",
              "           0.57658,     0.57758,     0.57858,     0.57958,     0.58058,     0.58158,     0.58258,     0.58358,     0.58458,     0.58559,     0.58659,     0.58759,     0.58859,     0.58959,     0.59059,     0.59159,     0.59259,     0.59359,     0.59459,      0.5956,      0.5966,      0.5976,      0.5986,      0.5996,\n",
              "            0.6006,      0.6016,      0.6026,      0.6036,      0.6046,     0.60561,     0.60661,     0.60761,     0.60861,     0.60961,     0.61061,     0.61161,     0.61261,     0.61361,     0.61461,     0.61562,     0.61662,     0.61762,     0.61862,     0.61962,     0.62062,     0.62162,     0.62262,     0.62362,\n",
              "           0.62462,     0.62563,     0.62663,     0.62763,     0.62863,     0.62963,     0.63063,     0.63163,     0.63263,     0.63363,     0.63463,     0.63564,     0.63664,     0.63764,     0.63864,     0.63964,     0.64064,     0.64164,     0.64264,     0.64364,     0.64464,     0.64565,     0.64665,     0.64765,\n",
              "           0.64865,     0.64965,     0.65065,     0.65165,     0.65265,     0.65365,     0.65465,     0.65566,     0.65666,     0.65766,     0.65866,     0.65966,     0.66066,     0.66166,     0.66266,     0.66366,     0.66466,     0.66567,     0.66667,     0.66767,     0.66867,     0.66967,     0.67067,     0.67167,\n",
              "           0.67267,     0.67367,     0.67467,     0.67568,     0.67668,     0.67768,     0.67868,     0.67968,     0.68068,     0.68168,     0.68268,     0.68368,     0.68468,     0.68569,     0.68669,     0.68769,     0.68869,     0.68969,     0.69069,     0.69169,     0.69269,     0.69369,     0.69469,      0.6957,\n",
              "            0.6967,      0.6977,      0.6987,      0.6997,      0.7007,      0.7017,      0.7027,      0.7037,      0.7047,     0.70571,     0.70671,     0.70771,     0.70871,     0.70971,     0.71071,     0.71171,     0.71271,     0.71371,     0.71471,     0.71572,     0.71672,     0.71772,     0.71872,     0.71972,\n",
              "           0.72072,     0.72172,     0.72272,     0.72372,     0.72472,     0.72573,     0.72673,     0.72773,     0.72873,     0.72973,     0.73073,     0.73173,     0.73273,     0.73373,     0.73473,     0.73574,     0.73674,     0.73774,     0.73874,     0.73974,     0.74074,     0.74174,     0.74274,     0.74374,\n",
              "           0.74474,     0.74575,     0.74675,     0.74775,     0.74875,     0.74975,     0.75075,     0.75175,     0.75275,     0.75375,     0.75475,     0.75576,     0.75676,     0.75776,     0.75876,     0.75976,     0.76076,     0.76176,     0.76276,     0.76376,     0.76476,     0.76577,     0.76677,     0.76777,\n",
              "           0.76877,     0.76977,     0.77077,     0.77177,     0.77277,     0.77377,     0.77477,     0.77578,     0.77678,     0.77778,     0.77878,     0.77978,     0.78078,     0.78178,     0.78278,     0.78378,     0.78478,     0.78579,     0.78679,     0.78779,     0.78879,     0.78979,     0.79079,     0.79179,\n",
              "           0.79279,     0.79379,     0.79479,      0.7958,      0.7968,      0.7978,      0.7988,      0.7998,      0.8008,      0.8018,      0.8028,      0.8038,      0.8048,     0.80581,     0.80681,     0.80781,     0.80881,     0.80981,     0.81081,     0.81181,     0.81281,     0.81381,     0.81481,     0.81582,\n",
              "           0.81682,     0.81782,     0.81882,     0.81982,     0.82082,     0.82182,     0.82282,     0.82382,     0.82482,     0.82583,     0.82683,     0.82783,     0.82883,     0.82983,     0.83083,     0.83183,     0.83283,     0.83383,     0.83483,     0.83584,     0.83684,     0.83784,     0.83884,     0.83984,\n",
              "           0.84084,     0.84184,     0.84284,     0.84384,     0.84484,     0.84585,     0.84685,     0.84785,     0.84885,     0.84985,     0.85085,     0.85185,     0.85285,     0.85385,     0.85485,     0.85586,     0.85686,     0.85786,     0.85886,     0.85986,     0.86086,     0.86186,     0.86286,     0.86386,\n",
              "           0.86486,     0.86587,     0.86687,     0.86787,     0.86887,     0.86987,     0.87087,     0.87187,     0.87287,     0.87387,     0.87487,     0.87588,     0.87688,     0.87788,     0.87888,     0.87988,     0.88088,     0.88188,     0.88288,     0.88388,     0.88488,     0.88589,     0.88689,     0.88789,\n",
              "           0.88889,     0.88989,     0.89089,     0.89189,     0.89289,     0.89389,     0.89489,      0.8959,      0.8969,      0.8979,      0.8989,      0.8999,      0.9009,      0.9019,      0.9029,      0.9039,      0.9049,     0.90591,     0.90691,     0.90791,     0.90891,     0.90991,     0.91091,     0.91191,\n",
              "           0.91291,     0.91391,     0.91491,     0.91592,     0.91692,     0.91792,     0.91892,     0.91992,     0.92092,     0.92192,     0.92292,     0.92392,     0.92492,     0.92593,     0.92693,     0.92793,     0.92893,     0.92993,     0.93093,     0.93193,     0.93293,     0.93393,     0.93493,     0.93594,\n",
              "           0.93694,     0.93794,     0.93894,     0.93994,     0.94094,     0.94194,     0.94294,     0.94394,     0.94494,     0.94595,     0.94695,     0.94795,     0.94895,     0.94995,     0.95095,     0.95195,     0.95295,     0.95395,     0.95495,     0.95596,     0.95696,     0.95796,     0.95896,     0.95996,\n",
              "           0.96096,     0.96196,     0.96296,     0.96396,     0.96496,     0.96597,     0.96697,     0.96797,     0.96897,     0.96997,     0.97097,     0.97197,     0.97297,     0.97397,     0.97497,     0.97598,     0.97698,     0.97798,     0.97898,     0.97998,     0.98098,     0.98198,     0.98298,     0.98398,\n",
              "           0.98498,     0.98599,     0.98699,     0.98799,     0.98899,     0.98999,     0.99099,     0.99199,     0.99299,     0.99399,     0.99499,       0.996,       0.997,       0.998,       0.999,           1]), array([[          1,           1,           1,           1,           1,           1,           1,           1,           1,           1,           1,           1,           1,           1,           1,     0.99993,     0.98864,     0.98864,     0.98864,     0.98864,     0.98864,     0.97727,     0.97727,\n",
              "            0.97727,     0.97727,     0.97727,     0.97727,     0.97727,     0.97727,     0.97727,     0.97727,     0.97727,     0.97727,     0.97727,     0.97727,     0.97727,     0.97727,     0.97727,     0.97727,     0.97612,     0.96591,     0.95455,     0.95455,     0.95455,     0.95455,     0.95455,\n",
              "            0.95455,     0.95455,     0.95455,     0.95455,     0.95455,     0.95455,     0.95455,     0.95455,     0.95455,     0.95455,     0.95455,     0.95455,     0.95455,     0.95455,     0.95455,     0.95455,     0.95455,     0.95455,     0.95455,     0.95455,     0.95455,     0.95455,     0.95455,\n",
              "            0.95344,     0.94654,     0.94318,     0.94318,     0.94318,     0.94318,     0.94318,     0.94318,     0.94318,     0.94318,     0.94318,     0.94318,     0.94318,     0.94318,     0.94318,     0.94318,     0.94318,     0.94318,     0.94318,     0.94318,     0.94318,     0.94318,     0.94318,\n",
              "            0.94318,     0.94318,     0.94318,     0.94318,     0.94318,     0.94318,     0.94318,     0.94318,     0.94318,     0.94318,     0.94318,     0.94318,     0.94318,     0.94318,     0.94318,     0.94318,     0.94318,     0.94318,     0.94318,     0.94318,     0.94318,     0.94318,     0.94318,\n",
              "            0.94318,     0.94318,     0.94318,     0.94318,     0.94318,     0.94318,     0.94318,     0.94318,     0.94318,     0.94318,     0.94318,     0.94318,     0.94318,     0.93182,     0.93182,     0.93182,     0.93182,     0.93182,     0.93182,     0.93182,     0.93182,     0.93182,     0.93182,\n",
              "            0.93182,     0.93182,     0.93182,     0.93182,     0.93182,     0.93182,     0.93182,     0.93182,     0.93182,     0.93182,     0.93182,     0.93182,     0.93182,     0.93182,     0.93182,     0.93182,     0.93169,     0.93041,     0.92914,     0.92786,     0.92658,     0.92531,     0.92403,\n",
              "            0.92275,     0.92148,     0.92045,     0.92045,     0.92045,     0.92045,     0.92045,     0.92045,     0.92045,     0.92045,     0.92045,     0.92045,     0.92045,     0.92045,     0.92045,     0.92045,     0.92045,     0.92045,     0.92045,     0.92045,     0.91945,      0.9128,     0.90909,\n",
              "            0.90909,     0.90909,     0.90909,     0.90909,     0.90909,     0.90909,     0.90909,     0.90909,     0.90909,     0.90909,     0.90909,     0.90909,     0.90909,     0.90909,     0.90909,     0.90909,     0.90909,     0.90909,     0.90909,     0.90909,     0.90909,     0.90812,     0.90698,\n",
              "            0.90584,     0.90471,     0.90357,     0.90243,      0.9013,     0.90016,     0.89902,     0.89789,     0.89773,     0.89773,     0.89773,     0.89773,     0.89773,     0.89773,     0.89773,     0.89773,     0.89375,     0.88885,     0.88636,     0.88636,     0.88636,     0.88636,     0.88636,\n",
              "            0.88636,     0.88636,     0.88636,     0.88636,     0.88636,     0.88102,     0.86364,     0.86364,     0.86364,     0.86364,     0.86364,     0.86364,     0.86364,     0.86364,     0.86364,     0.86364,     0.86364,     0.86364,     0.86364,     0.86364,     0.86364,     0.86364,     0.86364,\n",
              "            0.86364,     0.86364,     0.86364,     0.86364,     0.86364,     0.86364,     0.86364,     0.86364,     0.86364,     0.86364,     0.86364,     0.86364,     0.86364,     0.86364,     0.86364,     0.86364,     0.86364,     0.86364,     0.86364,     0.86364,     0.86364,     0.86364,     0.86364,\n",
              "            0.86364,     0.86364,     0.86364,     0.86364,     0.86364,     0.86364,     0.86364,     0.86364,     0.86364,     0.86364,     0.86364,     0.86364,     0.86364,     0.86364,     0.86364,     0.86364,     0.86364,     0.86364,     0.86364,     0.86364,     0.86364,     0.86364,     0.86364,\n",
              "            0.86364,     0.86364,     0.86364,     0.86364,     0.86364,     0.86364,     0.86364,     0.86364,     0.86364,     0.86364,     0.86364,     0.86364,     0.86364,     0.86364,     0.86364,     0.86151,     0.85793,     0.85434,     0.85227,     0.85227,     0.85227,     0.85227,     0.85227,\n",
              "            0.85227,     0.85227,     0.85227,     0.85227,     0.85227,     0.85227,     0.85227,     0.85227,     0.85227,     0.85013,     0.84236,     0.84091,     0.84091,     0.84091,     0.84091,     0.83242,      0.8231,     0.81818,     0.81818,     0.81818,     0.81818,     0.81818,     0.81818,\n",
              "            0.81818,     0.81818,     0.81818,     0.81818,     0.81818,     0.81818,     0.81818,     0.81818,     0.81818,     0.81818,     0.81818,     0.81818,     0.81818,     0.81818,     0.81818,     0.81818,     0.81818,     0.81818,     0.81818,     0.81818,     0.81818,     0.81818,     0.81818,\n",
              "            0.81818,     0.81818,     0.81818,     0.81818,     0.81818,     0.81818,     0.81818,     0.81818,     0.81818,     0.81818,     0.81818,     0.81818,     0.81818,     0.81818,     0.81818,     0.81818,     0.81818,     0.81818,     0.81069,     0.80682,     0.80682,     0.80682,     0.80682,\n",
              "            0.80682,     0.80682,     0.80682,     0.80682,     0.80682,     0.80682,     0.80682,     0.80682,     0.80682,     0.80682,     0.80682,     0.80682,     0.80682,     0.80682,     0.80682,     0.80682,     0.80682,     0.80682,     0.80682,     0.80682,     0.80682,     0.80682,     0.80301,\n",
              "            0.79545,     0.79545,     0.79545,     0.79545,     0.79545,     0.79545,     0.79545,     0.79545,     0.79545,     0.79545,     0.79545,     0.79545,     0.79545,     0.79545,     0.79545,     0.79545,     0.79545,     0.79545,     0.79545,     0.79545,     0.79545,     0.79545,     0.79545,\n",
              "            0.79545,     0.79545,     0.79545,     0.79545,     0.79545,     0.79545,     0.79545,     0.79545,     0.79545,     0.79545,     0.79462,     0.79371,     0.79279,     0.79188,     0.79097,     0.79005,     0.78914,     0.78823,     0.78731,      0.7864,     0.78548,     0.78457,     0.78409,\n",
              "            0.78409,     0.78322,     0.78156,     0.77989,     0.77823,     0.77656,      0.7749,     0.77324,     0.77273,     0.77273,     0.77273,     0.77273,     0.77273,     0.77273,     0.77273,     0.77273,     0.77273,     0.77273,     0.77273,     0.77273,     0.77273,     0.77273,     0.77273,\n",
              "            0.77273,     0.77273,     0.77273,     0.77273,     0.77273,     0.77273,     0.77273,     0.77273,     0.77273,     0.77273,     0.77273,     0.77273,     0.77273,     0.77273,     0.77273,     0.77273,     0.77273,     0.77273,     0.77273,     0.77273,     0.77273,     0.77273,     0.77031,\n",
              "            0.76643,     0.76255,     0.76069,     0.75972,     0.75875,     0.75778,     0.75681,     0.75584,     0.75486,     0.75389,     0.75292,     0.75195,     0.75098,     0.75001,        0.75,        0.75,        0.75,        0.75,        0.75,        0.75,        0.75,        0.75,     0.74919,\n",
              "            0.74531,     0.74143,     0.73864,     0.73864,     0.73853,      0.7382,     0.73787,     0.73754,     0.73722,     0.73689,     0.73656,     0.73623,      0.7359,     0.73558,     0.73525,     0.73492,     0.73459,     0.73426,     0.73393,     0.73361,     0.73328,     0.73295,     0.73262,\n",
              "            0.73229,     0.73197,     0.73164,     0.73131,     0.73098,     0.73065,     0.73033,        0.73,     0.72967,     0.72934,     0.72901,     0.72868,     0.72836,     0.72803,      0.7277,     0.72737,     0.72686,     0.72626,     0.72566,     0.72506,     0.72447,     0.72387,     0.72327,\n",
              "            0.72268,     0.72208,     0.72148,     0.72088,     0.72029,     0.71969,     0.71909,     0.71849,      0.7179,      0.7173,      0.7167,      0.7161,     0.71493,     0.71347,     0.71202,     0.71056,     0.70911,     0.70765,     0.70619,     0.70474,     0.70455,     0.70455,     0.70288,\n",
              "              0.699,     0.69511,     0.69318,     0.69265,     0.69164,     0.69062,     0.68961,      0.6886,     0.68758,     0.68657,     0.68556,     0.68455,     0.68353,     0.68252,     0.68127,     0.67947,     0.67768,     0.67589,      0.6741,     0.67231,     0.67051,     0.66927,     0.66804,\n",
              "            0.66682,     0.66559,     0.66437,     0.66314,     0.66191,     0.66069,     0.65946,     0.65841,     0.65744,     0.65647,      0.6555,     0.65453,     0.65356,     0.65259,     0.65162,     0.65065,     0.64968,     0.64871,     0.64774,     0.64516,     0.64257,     0.63998,      0.6374,\n",
              "            0.62426,     0.62304,     0.62181,     0.62058,     0.61936,     0.61813,     0.61691,     0.61568,     0.61445,      0.6133,     0.61229,     0.61127,     0.61026,     0.60925,     0.60823,     0.60722,     0.60621,      0.6052,     0.60418,     0.60317,     0.60208,     0.60042,     0.59876,\n",
              "            0.59709,     0.59543,     0.59376,      0.5921,     0.59036,     0.58842,     0.58647,     0.58453,     0.58259,     0.58065,     0.57703,     0.57121,     0.56752,     0.56615,     0.56478,     0.56341,     0.56204,     0.56067,      0.5593,     0.55793,     0.55463,     0.54381,     0.53604,\n",
              "            0.52537,     0.51372,     0.50208,     0.48545,     0.48156,     0.47768,     0.47554,     0.47359,     0.47165,     0.46971,     0.46777,     0.46543,     0.45301,     0.43047,     0.42814,     0.42581,     0.42348,     0.42115,     0.41719,     0.41253,     0.40757,     0.40175,     0.37914,\n",
              "            0.35406,     0.34899,      0.3451,     0.34122,     0.33853,     0.33594,     0.33335,     0.33076,     0.32543,     0.31663,     0.29423,     0.29211,     0.28999,     0.28788,     0.28576,     0.28387,     0.28281,     0.28175,     0.28069,     0.27963,     0.27857,     0.27751,     0.27645,\n",
              "            0.27539,     0.27434,     0.27328,     0.27161,     0.26928,     0.26695,     0.26462,     0.26229,     0.25785,     0.25202,     0.24931,     0.24825,     0.24719,     0.24613,     0.24507,     0.24401,     0.24296,      0.2419,     0.24084,     0.23978,     0.23872,     0.22791,     0.21378,\n",
              "            0.20912,     0.20411,     0.19112,     0.18724,     0.18336,     0.15768,     0.15535,     0.15302,      0.1507,     0.14837,      0.1435,     0.13767,     0.12371,     0.12205,     0.12038,     0.11872,     0.11705,     0.11539,     0.11373,     0.11364,     0.11041,     0.10708,     0.10375,\n",
              "            0.10128,    0.099485,    0.097693,    0.095901,    0.094109,    0.092317,    0.089245,    0.081479,     0.07663,    0.072747,    0.068864,    0.067115,    0.065821,    0.064527,    0.063232,    0.061938,    0.060644,     0.05935,    0.058056,    0.056785,    0.056034,    0.055282,    0.054531,\n",
              "           0.053779,    0.053028,    0.052276,    0.051525,    0.050773,    0.050022,     0.04927,    0.048519,    0.047767,    0.047016,    0.046264,    0.045513,    0.045242,    0.045011,     0.04478,     0.04455,    0.044319,    0.044089,    0.043858,    0.043627,    0.043397,    0.043166,    0.042935,\n",
              "           0.042705,    0.042474,    0.042243,    0.042013,    0.041782,    0.041551,    0.041321,     0.04109,    0.040859,    0.040629,    0.040398,    0.040167,    0.039937,    0.039706,    0.039475,    0.039245,    0.039014,    0.038783,    0.038553,    0.038322,    0.038092,    0.037861,     0.03763,\n",
              "             0.0374,    0.037169,    0.036938,    0.036708,    0.036477,    0.036246,    0.036016,    0.035785,    0.035554,    0.035324,    0.035093,    0.034862,    0.034632,    0.034401,     0.03417,    0.026458,    0.022008,    0.020949,     0.01989,    0.018831,    0.017772,    0.016713,    0.015654,\n",
              "           0.014595,    0.013536,    0.012477,    0.011418,           0,           0,           0,           0,           0,           0,           0,           0,           0,           0,           0,           0,           0,           0,           0,           0,           0,           0,           0,\n",
              "                  0,           0,           0,           0,           0,           0,           0,           0,           0,           0,           0,           0,           0,           0,           0,           0,           0,           0,           0,           0,           0,           0,           0,\n",
              "                  0,           0,           0,           0,           0,           0,           0,           0,           0,           0,           0,           0,           0,           0,           0,           0,           0,           0,           0,           0,           0,           0,           0,\n",
              "                  0,           0,           0,           0,           0,           0,           0,           0,           0,           0,           0,           0,           0,           0,           0,           0,           0,           0,           0,           0,           0,           0,           0,\n",
              "                  0,           0,           0,           0,           0,           0,           0,           0,           0,           0,           0,           0,           0,           0,           0,           0,           0,           0,           0,           0,           0,           0,           0,\n",
              "                  0,           0,           0,           0,           0,           0,           0,           0,           0,           0,           0]]), 'Confidence', 'Recall']]\n",
              "fitness: np.float64(0.5292323653273096)\n",
              "keys: ['metrics/precision(B)', 'metrics/recall(B)', 'metrics/mAP50(B)', 'metrics/mAP50-95(B)']\n",
              "maps: array([    0.48924])\n",
              "names: {0: 'pineapple'}\n",
              "plot: True\n",
              "results_dict: {'metrics/precision(B)': np.float64(0.9140923059481618), 'metrics/recall(B)': np.float64(0.7727272727272727), 'metrics/mAP50(B)': np.float64(0.8891251990272965), 'metrics/mAP50-95(B)': np.float64(0.4892442726939777), 'fitness': np.float64(0.5292323653273096)}\n",
              "save_dir: PosixPath('runs/detect/train4')\n",
              "speed: {'preprocess': 0.3734245365832266, 'inference': 2.348280085362692, 'loss': 0.0004396951220680821, 'postprocess': 5.542556658536053}\n",
              "task: 'detect'"
            ]
          },
          "metadata": {},
          "execution_count": 8
        }
      ]
    },
    {
      "cell_type": "code",
      "source": [
        "from ultralytics import YOLO\n",
        "import os\n",
        "\n",
        "# Load a pre-trained model (if you haven't trained one yet)\n",
        "model = YOLO('yolov8n.pt')  # or any other pre-trained YOLOv8 model\n",
        "\n",
        "# Train the model (if 'best.pt' doesn't exist or you want to retrain)\n",
        "# Make sure your data and paths are configured correctly in 'pineapple.yaml'\n",
        "model.train(data='pineapple.yaml', epochs=50, imgsz=640, project='runs/detect')  # Specify project to save results\n",
        "\n",
        "# Now, 'best.pt' should be saved in 'runs/detect/train/weights/'\n",
        "# Load the trained model if training was successful\n",
        "if os.path.exists('runs/detect/train/weights/best.pt'):\n",
        "    model = YOLO('runs/detect/train/weights/best.pt')\n",
        "    # Replace 'your_image_or_video_path' with the actual path to your image or video\n",
        "    results = model.predict(source='/content/Pineapple Ripeness Detection.v3i.yolov8/test/images/IMG_0749_JPG.rf.02ee24fca2a32c5324f9957eb8585b26.jpg', conf=0.4, save=True)\n",
        "else:\n",
        "    print(\"Error: 'best.pt' not found. Training might have failed or not completed.\")"
      ],
      "metadata": {
        "colab": {
          "base_uri": "https://localhost:8080/"
        },
        "id": "2zHGN_BrGbUF",
        "outputId": "fa5de9d9-c2c0-493c-b928-199c84fadf2d"
      },
      "execution_count": 9,
      "outputs": [
        {
          "output_type": "stream",
          "name": "stdout",
          "text": [
            "Ultralytics 8.3.111 🚀 Python-3.11.12 torch-2.6.0+cu124 CUDA:0 (Tesla T4, 15095MiB)\n",
            "\u001b[34m\u001b[1mengine/trainer: \u001b[0mtask=detect, mode=train, model=yolov8n.pt, data=pineapple.yaml, epochs=50, time=None, patience=100, batch=16, imgsz=640, save=True, save_period=-1, cache=False, device=None, workers=8, project=runs/detect, name=train5, exist_ok=False, pretrained=True, optimizer=auto, verbose=True, seed=0, deterministic=True, single_cls=False, rect=False, cos_lr=False, close_mosaic=10, resume=False, amp=True, fraction=1.0, profile=False, freeze=None, multi_scale=False, overlap_mask=True, mask_ratio=4, dropout=0.0, val=True, split=val, save_json=False, conf=None, iou=0.7, max_det=300, half=False, dnn=False, plots=True, source=None, vid_stride=1, stream_buffer=False, visualize=False, augment=False, agnostic_nms=False, classes=None, retina_masks=False, embed=None, show=False, save_frames=False, save_txt=False, save_conf=False, save_crop=False, show_labels=True, show_conf=True, show_boxes=True, line_width=None, format=torchscript, keras=False, optimize=False, int8=False, dynamic=False, simplify=True, opset=None, workspace=None, nms=False, lr0=0.01, lrf=0.01, momentum=0.937, weight_decay=0.0005, warmup_epochs=3.0, warmup_momentum=0.8, warmup_bias_lr=0.1, box=7.5, cls=0.5, dfl=1.5, pose=12.0, kobj=1.0, nbs=64, hsv_h=0.015, hsv_s=0.7, hsv_v=0.4, degrees=0.0, translate=0.1, scale=0.5, shear=0.0, perspective=0.0, flipud=0.0, fliplr=0.5, bgr=0.0, mosaic=1.0, mixup=0.0, copy_paste=0.0, copy_paste_mode=flip, auto_augment=randaugment, erasing=0.4, cfg=None, tracker=botsort.yaml, save_dir=runs/detect/train5\n",
            "Overriding model.yaml nc=80 with nc=1\n",
            "\n",
            "                   from  n    params  module                                       arguments                     \n",
            "  0                  -1  1       464  ultralytics.nn.modules.conv.Conv             [3, 16, 3, 2]                 \n",
            "  1                  -1  1      4672  ultralytics.nn.modules.conv.Conv             [16, 32, 3, 2]                \n",
            "  2                  -1  1      7360  ultralytics.nn.modules.block.C2f             [32, 32, 1, True]             \n",
            "  3                  -1  1     18560  ultralytics.nn.modules.conv.Conv             [32, 64, 3, 2]                \n",
            "  4                  -1  2     49664  ultralytics.nn.modules.block.C2f             [64, 64, 2, True]             \n",
            "  5                  -1  1     73984  ultralytics.nn.modules.conv.Conv             [64, 128, 3, 2]               \n",
            "  6                  -1  2    197632  ultralytics.nn.modules.block.C2f             [128, 128, 2, True]           \n",
            "  7                  -1  1    295424  ultralytics.nn.modules.conv.Conv             [128, 256, 3, 2]              \n",
            "  8                  -1  1    460288  ultralytics.nn.modules.block.C2f             [256, 256, 1, True]           \n",
            "  9                  -1  1    164608  ultralytics.nn.modules.block.SPPF            [256, 256, 5]                 \n",
            " 10                  -1  1         0  torch.nn.modules.upsampling.Upsample         [None, 2, 'nearest']          \n",
            " 11             [-1, 6]  1         0  ultralytics.nn.modules.conv.Concat           [1]                           \n",
            " 12                  -1  1    148224  ultralytics.nn.modules.block.C2f             [384, 128, 1]                 \n",
            " 13                  -1  1         0  torch.nn.modules.upsampling.Upsample         [None, 2, 'nearest']          \n",
            " 14             [-1, 4]  1         0  ultralytics.nn.modules.conv.Concat           [1]                           \n",
            " 15                  -1  1     37248  ultralytics.nn.modules.block.C2f             [192, 64, 1]                  \n",
            " 16                  -1  1     36992  ultralytics.nn.modules.conv.Conv             [64, 64, 3, 2]                \n",
            " 17            [-1, 12]  1         0  ultralytics.nn.modules.conv.Concat           [1]                           \n",
            " 18                  -1  1    123648  ultralytics.nn.modules.block.C2f             [192, 128, 1]                 \n",
            " 19                  -1  1    147712  ultralytics.nn.modules.conv.Conv             [128, 128, 3, 2]              \n",
            " 20             [-1, 9]  1         0  ultralytics.nn.modules.conv.Concat           [1]                           \n",
            " 21                  -1  1    493056  ultralytics.nn.modules.block.C2f             [384, 256, 1]                 \n",
            " 22        [15, 18, 21]  1    751507  ultralytics.nn.modules.head.Detect           [1, [64, 128, 256]]           \n",
            "Model summary: 129 layers, 3,011,043 parameters, 3,011,027 gradients, 8.2 GFLOPs\n",
            "\n",
            "Transferred 319/355 items from pretrained weights\n",
            "Freezing layer 'model.22.dfl.conv.weight'\n",
            "\u001b[34m\u001b[1mAMP: \u001b[0mrunning Automatic Mixed Precision (AMP) checks...\n",
            "\u001b[34m\u001b[1mAMP: \u001b[0mchecks passed ✅\n",
            "\u001b[34m\u001b[1mtrain: \u001b[0mFast image access ✅ (ping: 0.0±0.0 ms, read: 1474.7±666.0 MB/s, size: 109.7 KB)\n"
          ]
        },
        {
          "output_type": "stream",
          "name": "stderr",
          "text": [
            "\u001b[34m\u001b[1mtrain: \u001b[0mScanning /content/Pineapple Ripeness Detection.v3i.yolov8/train/labels.cache... 726 images, 9 backgrounds, 348 corrupt: 100%|██████████| 726/726 [00:00<?, ?it/s]"
          ]
        },
        {
          "output_type": "stream",
          "name": "stdout",
          "text": [
            "\u001b[34m\u001b[1mtrain: \u001b[0mWARNING ⚠️ /content/Pineapple Ripeness Detection.v3i.yolov8/train/images/1518211407458_jpeg.rf.084be1853fbc6ad14fd51129417538d2.jpg: ignoring corrupt image/label: Label class 1 exceeds dataset class count 1. Possible class labels are 0-0\n",
            "\u001b[34m\u001b[1mtrain: \u001b[0mWARNING ⚠️ /content/Pineapple Ripeness Detection.v3i.yolov8/train/images/1518211407458_jpeg.rf.262dda379d32102137995360c54d20b5.jpg: ignoring corrupt image/label: Label class 1 exceeds dataset class count 1. Possible class labels are 0-0\n",
            "\u001b[34m\u001b[1mtrain: \u001b[0mWARNING ⚠️ /content/Pineapple Ripeness Detection.v3i.yolov8/train/images/1518211407458_jpeg.rf.ac83d58067bd2183df1c173db689cf4e.jpg: ignoring corrupt image/label: Label class 1 exceeds dataset class count 1. Possible class labels are 0-0\n",
            "\u001b[34m\u001b[1mtrain: \u001b[0mWARNING ⚠️ /content/Pineapple Ripeness Detection.v3i.yolov8/train/images/1589314049479_jpeg.rf.925fdf6ab1cf7a252ba2a9c853c68e98.jpg: ignoring corrupt image/label: Label class 1 exceeds dataset class count 1. Possible class labels are 0-0\n",
            "\u001b[34m\u001b[1mtrain: \u001b[0mWARNING ⚠️ /content/Pineapple Ripeness Detection.v3i.yolov8/train/images/1589314049479_jpeg.rf.94e7602453bc22064f9cdf1397283c22.jpg: ignoring corrupt image/label: Label class 1 exceeds dataset class count 1. Possible class labels are 0-0\n",
            "\u001b[34m\u001b[1mtrain: \u001b[0mWARNING ⚠️ /content/Pineapple Ripeness Detection.v3i.yolov8/train/images/1589314049479_jpeg.rf.d069156ed386cd720a66383f349aa22c.jpg: ignoring corrupt image/label: Label class 1 exceeds dataset class count 1. Possible class labels are 0-0\n",
            "\u001b[34m\u001b[1mtrain: \u001b[0mWARNING ⚠️ /content/Pineapple Ripeness Detection.v3i.yolov8/train/images/IMG_0878_JPG.rf.0b6f8df42e0db26bbd369af07bc23488.jpg: ignoring corrupt image/label: Label class 1 exceeds dataset class count 1. Possible class labels are 0-0\n",
            "\u001b[34m\u001b[1mtrain: \u001b[0mWARNING ⚠️ /content/Pineapple Ripeness Detection.v3i.yolov8/train/images/IMG_0878_JPG.rf.366c477b45a0d443dd11e3708efbc45c.jpg: ignoring corrupt image/label: Label class 1 exceeds dataset class count 1. Possible class labels are 0-0\n",
            "\u001b[34m\u001b[1mtrain: \u001b[0mWARNING ⚠️ /content/Pineapple Ripeness Detection.v3i.yolov8/train/images/IMG_0878_JPG.rf.401efb9919d05524863108260b93ad0a.jpg: ignoring corrupt image/label: Label class 1 exceeds dataset class count 1. Possible class labels are 0-0\n",
            "\u001b[34m\u001b[1mtrain: \u001b[0mWARNING ⚠️ /content/Pineapple Ripeness Detection.v3i.yolov8/train/images/IMG_0881_JPG.rf.279815f0be09e7f7031dde8108a6ec7a.jpg: ignoring corrupt image/label: Label class 1 exceeds dataset class count 1. Possible class labels are 0-0\n",
            "\u001b[34m\u001b[1mtrain: \u001b[0mWARNING ⚠️ /content/Pineapple Ripeness Detection.v3i.yolov8/train/images/IMG_0881_JPG.rf.46bdaa964e1258b4dd9f8f3d7980cbe5.jpg: ignoring corrupt image/label: Label class 1 exceeds dataset class count 1. Possible class labels are 0-0\n",
            "\u001b[34m\u001b[1mtrain: \u001b[0mWARNING ⚠️ /content/Pineapple Ripeness Detection.v3i.yolov8/train/images/IMG_0881_JPG.rf.bc816eda8585b5731c0d8fe95f0eaedd.jpg: ignoring corrupt image/label: Label class 1 exceeds dataset class count 1. Possible class labels are 0-0\n",
            "\u001b[34m\u001b[1mtrain: \u001b[0mWARNING ⚠️ /content/Pineapple Ripeness Detection.v3i.yolov8/train/images/IMG_0884_JPG.rf.6c85a43900a21c2e3dfb4733be796e2d.jpg: ignoring corrupt image/label: Label class 1 exceeds dataset class count 1. Possible class labels are 0-0\n",
            "\u001b[34m\u001b[1mtrain: \u001b[0mWARNING ⚠️ /content/Pineapple Ripeness Detection.v3i.yolov8/train/images/IMG_0884_JPG.rf.eb1ba77eda522d2c7aff11622ddb69e4.jpg: ignoring corrupt image/label: Label class 1 exceeds dataset class count 1. Possible class labels are 0-0\n",
            "\u001b[34m\u001b[1mtrain: \u001b[0mWARNING ⚠️ /content/Pineapple Ripeness Detection.v3i.yolov8/train/images/IMG_0884_JPG.rf.f44e98f72767c4d3e094b03c3e46a57e.jpg: ignoring corrupt image/label: Label class 1 exceeds dataset class count 1. Possible class labels are 0-0\n",
            "\u001b[34m\u001b[1mtrain: \u001b[0mWARNING ⚠️ /content/Pineapple Ripeness Detection.v3i.yolov8/train/images/IMG_0886_JPG.rf.04ca6945334dfbc306bafd79fea2845f.jpg: ignoring corrupt image/label: Label class 1 exceeds dataset class count 1. Possible class labels are 0-0\n",
            "\u001b[34m\u001b[1mtrain: \u001b[0mWARNING ⚠️ /content/Pineapple Ripeness Detection.v3i.yolov8/train/images/IMG_0886_JPG.rf.6880c222c000bb93684297f1295aef9f.jpg: ignoring corrupt image/label: Label class 1 exceeds dataset class count 1. Possible class labels are 0-0\n",
            "\u001b[34m\u001b[1mtrain: \u001b[0mWARNING ⚠️ /content/Pineapple Ripeness Detection.v3i.yolov8/train/images/IMG_0886_JPG.rf.7d08f24435380300608fe0fb6ee18af4.jpg: ignoring corrupt image/label: Label class 1 exceeds dataset class count 1. Possible class labels are 0-0\n",
            "\u001b[34m\u001b[1mtrain: \u001b[0mWARNING ⚠️ /content/Pineapple Ripeness Detection.v3i.yolov8/train/images/IMG_0888_JPG.rf.07534bbc4bcb48f805d317ec67126aaf.jpg: ignoring corrupt image/label: Label class 1 exceeds dataset class count 1. Possible class labels are 0-0\n",
            "\u001b[34m\u001b[1mtrain: \u001b[0mWARNING ⚠️ /content/Pineapple Ripeness Detection.v3i.yolov8/train/images/IMG_0888_JPG.rf.ac6a85b68ff39b97b59cc8c1964b8435.jpg: ignoring corrupt image/label: Label class 1 exceeds dataset class count 1. Possible class labels are 0-0\n",
            "\u001b[34m\u001b[1mtrain: \u001b[0mWARNING ⚠️ /content/Pineapple Ripeness Detection.v3i.yolov8/train/images/IMG_0888_JPG.rf.aec6f5693f107afcdf9aa664ccbe319c.jpg: ignoring corrupt image/label: Label class 1 exceeds dataset class count 1. Possible class labels are 0-0\n",
            "\u001b[34m\u001b[1mtrain: \u001b[0mWARNING ⚠️ /content/Pineapple Ripeness Detection.v3i.yolov8/train/images/IMG_0891_JPG.rf.020fa0b73c7696baad52497a3eae8c27.jpg: ignoring corrupt image/label: Label class 1 exceeds dataset class count 1. Possible class labels are 0-0\n",
            "\u001b[34m\u001b[1mtrain: \u001b[0mWARNING ⚠️ /content/Pineapple Ripeness Detection.v3i.yolov8/train/images/IMG_0891_JPG.rf.58fd03aec42a3ce15b1e03e440f0e023.jpg: ignoring corrupt image/label: Label class 1 exceeds dataset class count 1. Possible class labels are 0-0\n",
            "\u001b[34m\u001b[1mtrain: \u001b[0mWARNING ⚠️ /content/Pineapple Ripeness Detection.v3i.yolov8/train/images/IMG_0891_JPG.rf.b2cf87475931d63313838acfe2ad962b.jpg: ignoring corrupt image/label: Label class 1 exceeds dataset class count 1. Possible class labels are 0-0\n",
            "\u001b[34m\u001b[1mtrain: \u001b[0mWARNING ⚠️ /content/Pineapple Ripeness Detection.v3i.yolov8/train/images/IMG_0893_JPG.rf.36cc39d1ba120ea097761d7d69a2b402.jpg: ignoring corrupt image/label: Label class 1 exceeds dataset class count 1. Possible class labels are 0-0\n",
            "\u001b[34m\u001b[1mtrain: \u001b[0mWARNING ⚠️ /content/Pineapple Ripeness Detection.v3i.yolov8/train/images/IMG_0893_JPG.rf.386d73bb176d214170d681be52ef96af.jpg: ignoring corrupt image/label: Label class 1 exceeds dataset class count 1. Possible class labels are 0-0\n",
            "\u001b[34m\u001b[1mtrain: \u001b[0mWARNING ⚠️ /content/Pineapple Ripeness Detection.v3i.yolov8/train/images/IMG_0893_JPG.rf.404eb1b5582e7d99a9dd17d08d453e75.jpg: ignoring corrupt image/label: Label class 1 exceeds dataset class count 1. Possible class labels are 0-0\n",
            "\u001b[34m\u001b[1mtrain: \u001b[0mWARNING ⚠️ /content/Pineapple Ripeness Detection.v3i.yolov8/train/images/IMG_0894_JPG.rf.0e58fa9299331c8a11fba4f34944a15b.jpg: ignoring corrupt image/label: Label class 1 exceeds dataset class count 1. Possible class labels are 0-0\n",
            "\u001b[34m\u001b[1mtrain: \u001b[0mWARNING ⚠️ /content/Pineapple Ripeness Detection.v3i.yolov8/train/images/IMG_0894_JPG.rf.2231bcf90b863ba667a48a5aad0df0cc.jpg: ignoring corrupt image/label: Label class 1 exceeds dataset class count 1. Possible class labels are 0-0\n",
            "\u001b[34m\u001b[1mtrain: \u001b[0mWARNING ⚠️ /content/Pineapple Ripeness Detection.v3i.yolov8/train/images/IMG_0894_JPG.rf.b9a7c6c50b6eaf5d0f924abea17f5b6f.jpg: ignoring corrupt image/label: Label class 1 exceeds dataset class count 1. Possible class labels are 0-0\n",
            "\u001b[34m\u001b[1mtrain: \u001b[0mWARNING ⚠️ /content/Pineapple Ripeness Detection.v3i.yolov8/train/images/IMG_0897_JPG.rf.034dcc161e32847e9eda967c959430e1.jpg: ignoring corrupt image/label: Label class 1 exceeds dataset class count 1. Possible class labels are 0-0\n",
            "\u001b[34m\u001b[1mtrain: \u001b[0mWARNING ⚠️ /content/Pineapple Ripeness Detection.v3i.yolov8/train/images/IMG_0897_JPG.rf.708bebec6623ac2eca9864ef342970ab.jpg: ignoring corrupt image/label: Label class 1 exceeds dataset class count 1. Possible class labels are 0-0\n",
            "\u001b[34m\u001b[1mtrain: \u001b[0mWARNING ⚠️ /content/Pineapple Ripeness Detection.v3i.yolov8/train/images/IMG_0897_JPG.rf.a2da2a64363f0d01704ef761b428c350.jpg: ignoring corrupt image/label: Label class 1 exceeds dataset class count 1. Possible class labels are 0-0\n",
            "\u001b[34m\u001b[1mtrain: \u001b[0mWARNING ⚠️ /content/Pineapple Ripeness Detection.v3i.yolov8/train/images/IMG_0898_JPG.rf.2f401fe78d73c4094f5c7aeb4a46ad76.jpg: ignoring corrupt image/label: Label class 1 exceeds dataset class count 1. Possible class labels are 0-0\n",
            "\u001b[34m\u001b[1mtrain: \u001b[0mWARNING ⚠️ /content/Pineapple Ripeness Detection.v3i.yolov8/train/images/IMG_0898_JPG.rf.4eff6775ff5173bc3b2780cf2f9d21d6.jpg: ignoring corrupt image/label: Label class 1 exceeds dataset class count 1. Possible class labels are 0-0\n",
            "\u001b[34m\u001b[1mtrain: \u001b[0mWARNING ⚠️ /content/Pineapple Ripeness Detection.v3i.yolov8/train/images/IMG_0898_JPG.rf.5d3d8f8008096b575526600b2e834275.jpg: ignoring corrupt image/label: Label class 1 exceeds dataset class count 1. Possible class labels are 0-0\n",
            "\u001b[34m\u001b[1mtrain: \u001b[0mWARNING ⚠️ /content/Pineapple Ripeness Detection.v3i.yolov8/train/images/IMG_0900_JPG.rf.37d06ed98d6101da667c6ec690d735ef.jpg: ignoring corrupt image/label: Label class 1 exceeds dataset class count 1. Possible class labels are 0-0\n",
            "\u001b[34m\u001b[1mtrain: \u001b[0mWARNING ⚠️ /content/Pineapple Ripeness Detection.v3i.yolov8/train/images/IMG_0900_JPG.rf.5c09afc7f17142a21728153c24410c6a.jpg: ignoring corrupt image/label: Label class 1 exceeds dataset class count 1. Possible class labels are 0-0\n",
            "\u001b[34m\u001b[1mtrain: \u001b[0mWARNING ⚠️ /content/Pineapple Ripeness Detection.v3i.yolov8/train/images/IMG_0900_JPG.rf.c237743ddec4b2d8d95ce473fe82d98d.jpg: ignoring corrupt image/label: Label class 1 exceeds dataset class count 1. Possible class labels are 0-0\n",
            "\u001b[34m\u001b[1mtrain: \u001b[0mWARNING ⚠️ /content/Pineapple Ripeness Detection.v3i.yolov8/train/images/IMG_0904_JPG.rf.0b719df75b0c9bd6ec958ebdf13e2fcd.jpg: ignoring corrupt image/label: Label class 1 exceeds dataset class count 1. Possible class labels are 0-0\n",
            "\u001b[34m\u001b[1mtrain: \u001b[0mWARNING ⚠️ /content/Pineapple Ripeness Detection.v3i.yolov8/train/images/IMG_0904_JPG.rf.409358d83995aea9fd4e2adfc05bf963.jpg: ignoring corrupt image/label: Label class 1 exceeds dataset class count 1. Possible class labels are 0-0\n",
            "\u001b[34m\u001b[1mtrain: \u001b[0mWARNING ⚠️ /content/Pineapple Ripeness Detection.v3i.yolov8/train/images/IMG_0904_JPG.rf.db9e48c740df062e32f8defe4a21d78b.jpg: ignoring corrupt image/label: Label class 1 exceeds dataset class count 1. Possible class labels are 0-0\n",
            "\u001b[34m\u001b[1mtrain: \u001b[0mWARNING ⚠️ /content/Pineapple Ripeness Detection.v3i.yolov8/train/images/IMG_0905_JPG.rf.599c849e278bc6f2f744b8057248052c.jpg: ignoring corrupt image/label: Label class 1 exceeds dataset class count 1. Possible class labels are 0-0\n",
            "\u001b[34m\u001b[1mtrain: \u001b[0mWARNING ⚠️ /content/Pineapple Ripeness Detection.v3i.yolov8/train/images/IMG_0905_JPG.rf.88a49659717ee3f00cce905e22aca1ad.jpg: ignoring corrupt image/label: Label class 1 exceeds dataset class count 1. Possible class labels are 0-0\n",
            "\u001b[34m\u001b[1mtrain: \u001b[0mWARNING ⚠️ /content/Pineapple Ripeness Detection.v3i.yolov8/train/images/IMG_0905_JPG.rf.bbfe544887778f18473eade8bf789568.jpg: ignoring corrupt image/label: Label class 1 exceeds dataset class count 1. Possible class labels are 0-0\n",
            "\u001b[34m\u001b[1mtrain: \u001b[0mWARNING ⚠️ /content/Pineapple Ripeness Detection.v3i.yolov8/train/images/IMG_0906_JPG.rf.90bfc33463dc8966ba3bed8bcbd9a0a9.jpg: ignoring corrupt image/label: Label class 1 exceeds dataset class count 1. Possible class labels are 0-0\n",
            "\u001b[34m\u001b[1mtrain: \u001b[0mWARNING ⚠️ /content/Pineapple Ripeness Detection.v3i.yolov8/train/images/IMG_0906_JPG.rf.a794303b3399b88082d4cc8a84c0a07b.jpg: ignoring corrupt image/label: Label class 1 exceeds dataset class count 1. Possible class labels are 0-0\n",
            "\u001b[34m\u001b[1mtrain: \u001b[0mWARNING ⚠️ /content/Pineapple Ripeness Detection.v3i.yolov8/train/images/IMG_0906_JPG.rf.e5bc64e8f0d3641f26881f0d10fb66cf.jpg: ignoring corrupt image/label: Label class 1 exceeds dataset class count 1. Possible class labels are 0-0\n",
            "\u001b[34m\u001b[1mtrain: \u001b[0mWARNING ⚠️ /content/Pineapple Ripeness Detection.v3i.yolov8/train/images/IMG_0909_JPG.rf.0822f856a50557594d07f70f2b22927f.jpg: ignoring corrupt image/label: Label class 1 exceeds dataset class count 1. Possible class labels are 0-0\n",
            "\u001b[34m\u001b[1mtrain: \u001b[0mWARNING ⚠️ /content/Pineapple Ripeness Detection.v3i.yolov8/train/images/IMG_0909_JPG.rf.22fce9f21255b7ad85bcc5f2f0f21e04.jpg: ignoring corrupt image/label: Label class 1 exceeds dataset class count 1. Possible class labels are 0-0\n",
            "\u001b[34m\u001b[1mtrain: \u001b[0mWARNING ⚠️ /content/Pineapple Ripeness Detection.v3i.yolov8/train/images/IMG_0909_JPG.rf.357ac72309f969a8f8810f01f5350b77.jpg: ignoring corrupt image/label: Label class 1 exceeds dataset class count 1. Possible class labels are 0-0\n",
            "\u001b[34m\u001b[1mtrain: \u001b[0mWARNING ⚠️ /content/Pineapple Ripeness Detection.v3i.yolov8/train/images/IMG_0911_JPG.rf.0f544ec58a5e65fed2798597acd5dbd2.jpg: ignoring corrupt image/label: Label class 1 exceeds dataset class count 1. Possible class labels are 0-0\n",
            "\u001b[34m\u001b[1mtrain: \u001b[0mWARNING ⚠️ /content/Pineapple Ripeness Detection.v3i.yolov8/train/images/IMG_0911_JPG.rf.8238a8e3507683022809d3efb108643e.jpg: ignoring corrupt image/label: Label class 1 exceeds dataset class count 1. Possible class labels are 0-0\n",
            "\u001b[34m\u001b[1mtrain: \u001b[0mWARNING ⚠️ /content/Pineapple Ripeness Detection.v3i.yolov8/train/images/IMG_0911_JPG.rf.e169a6b4ad209284b5ac09efa6b349fe.jpg: ignoring corrupt image/label: Label class 1 exceeds dataset class count 1. Possible class labels are 0-0\n",
            "\u001b[34m\u001b[1mtrain: \u001b[0mWARNING ⚠️ /content/Pineapple Ripeness Detection.v3i.yolov8/train/images/IMG_0913_JPG.rf.8c750ebd0c195379c5d32de96b0549cf.jpg: ignoring corrupt image/label: Label class 1 exceeds dataset class count 1. Possible class labels are 0-0\n",
            "\u001b[34m\u001b[1mtrain: \u001b[0mWARNING ⚠️ /content/Pineapple Ripeness Detection.v3i.yolov8/train/images/IMG_0913_JPG.rf.adb98fe95152733166753ff78ac83abf.jpg: ignoring corrupt image/label: Label class 1 exceeds dataset class count 1. Possible class labels are 0-0\n",
            "\u001b[34m\u001b[1mtrain: \u001b[0mWARNING ⚠️ /content/Pineapple Ripeness Detection.v3i.yolov8/train/images/IMG_0913_JPG.rf.f0a2d0d9d71c1b61bb8a31a739455af0.jpg: ignoring corrupt image/label: Label class 1 exceeds dataset class count 1. Possible class labels are 0-0\n",
            "\u001b[34m\u001b[1mtrain: \u001b[0mWARNING ⚠️ /content/Pineapple Ripeness Detection.v3i.yolov8/train/images/IMG_0916_JPG.rf.8c872604a2bebc805f597353487e6a7b.jpg: ignoring corrupt image/label: Label class 1 exceeds dataset class count 1. Possible class labels are 0-0\n",
            "\u001b[34m\u001b[1mtrain: \u001b[0mWARNING ⚠️ /content/Pineapple Ripeness Detection.v3i.yolov8/train/images/IMG_0916_JPG.rf.c7479b098273bc0f8c916df5c4728dda.jpg: ignoring corrupt image/label: Label class 1 exceeds dataset class count 1. Possible class labels are 0-0\n",
            "\u001b[34m\u001b[1mtrain: \u001b[0mWARNING ⚠️ /content/Pineapple Ripeness Detection.v3i.yolov8/train/images/IMG_0916_JPG.rf.ff149146cd616cafcc5a1e6ba1a886c3.jpg: ignoring corrupt image/label: Label class 1 exceeds dataset class count 1. Possible class labels are 0-0\n",
            "\u001b[34m\u001b[1mtrain: \u001b[0mWARNING ⚠️ /content/Pineapple Ripeness Detection.v3i.yolov8/train/images/IMG_0918_JPG.rf.357e2dd142353c7ca67d6dc8f8f93923.jpg: ignoring corrupt image/label: Label class 1 exceeds dataset class count 1. Possible class labels are 0-0\n",
            "\u001b[34m\u001b[1mtrain: \u001b[0mWARNING ⚠️ /content/Pineapple Ripeness Detection.v3i.yolov8/train/images/IMG_0918_JPG.rf.6334e33e02c0c440d9eeee41ed7e5328.jpg: ignoring corrupt image/label: Label class 1 exceeds dataset class count 1. Possible class labels are 0-0\n",
            "\u001b[34m\u001b[1mtrain: \u001b[0mWARNING ⚠️ /content/Pineapple Ripeness Detection.v3i.yolov8/train/images/IMG_0918_JPG.rf.b1d32a140c5529d04f47d334b17c9ff7.jpg: ignoring corrupt image/label: Label class 1 exceeds dataset class count 1. Possible class labels are 0-0\n",
            "\u001b[34m\u001b[1mtrain: \u001b[0mWARNING ⚠️ /content/Pineapple Ripeness Detection.v3i.yolov8/train/images/IMG_0919_JPG.rf.4abc5ed625a37169af75edc840eaa2e5.jpg: ignoring corrupt image/label: Label class 1 exceeds dataset class count 1. Possible class labels are 0-0\n",
            "\u001b[34m\u001b[1mtrain: \u001b[0mWARNING ⚠️ /content/Pineapple Ripeness Detection.v3i.yolov8/train/images/IMG_0919_JPG.rf.65949db5657860bbb002ed4715a937cb.jpg: ignoring corrupt image/label: Label class 1 exceeds dataset class count 1. Possible class labels are 0-0\n",
            "\u001b[34m\u001b[1mtrain: \u001b[0mWARNING ⚠️ /content/Pineapple Ripeness Detection.v3i.yolov8/train/images/IMG_0919_JPG.rf.7e2d83caab731f182f05a1c9c5d507dd.jpg: ignoring corrupt image/label: Label class 1 exceeds dataset class count 1. Possible class labels are 0-0\n",
            "\u001b[34m\u001b[1mtrain: \u001b[0mWARNING ⚠️ /content/Pineapple Ripeness Detection.v3i.yolov8/train/images/IMG_0920_JPG.rf.36904fe56dcffcffc5ba8a8c0c87f44b.jpg: ignoring corrupt image/label: Label class 1 exceeds dataset class count 1. Possible class labels are 0-0\n",
            "\u001b[34m\u001b[1mtrain: \u001b[0mWARNING ⚠️ /content/Pineapple Ripeness Detection.v3i.yolov8/train/images/IMG_0920_JPG.rf.59b297f3eaab4b251708bf7e4dd0fb64.jpg: ignoring corrupt image/label: Label class 1 exceeds dataset class count 1. Possible class labels are 0-0\n",
            "\u001b[34m\u001b[1mtrain: \u001b[0mWARNING ⚠️ /content/Pineapple Ripeness Detection.v3i.yolov8/train/images/IMG_0920_JPG.rf.d9b23d9a84c849e24c368fadf3c210a0.jpg: ignoring corrupt image/label: Label class 1 exceeds dataset class count 1. Possible class labels are 0-0\n",
            "\u001b[34m\u001b[1mtrain: \u001b[0mWARNING ⚠️ /content/Pineapple Ripeness Detection.v3i.yolov8/train/images/IMG_0921_JPG.rf.11fb5cfaf694d8067bc68b23e579ab32.jpg: ignoring corrupt image/label: Label class 1 exceeds dataset class count 1. Possible class labels are 0-0\n",
            "\u001b[34m\u001b[1mtrain: \u001b[0mWARNING ⚠️ /content/Pineapple Ripeness Detection.v3i.yolov8/train/images/IMG_0921_JPG.rf.4a67378e9e99687d3308bdd9a8e502fb.jpg: ignoring corrupt image/label: Label class 1 exceeds dataset class count 1. Possible class labels are 0-0\n",
            "\u001b[34m\u001b[1mtrain: \u001b[0mWARNING ⚠️ /content/Pineapple Ripeness Detection.v3i.yolov8/train/images/IMG_0921_JPG.rf.bd12032fd71c9e789d40a9ae584d0cfa.jpg: ignoring corrupt image/label: Label class 1 exceeds dataset class count 1. Possible class labels are 0-0\n",
            "\u001b[34m\u001b[1mtrain: \u001b[0mWARNING ⚠️ /content/Pineapple Ripeness Detection.v3i.yolov8/train/images/IMG_0922_JPG.rf.555d5411706399d009a8d5e96bb7d82d.jpg: ignoring corrupt image/label: Label class 1 exceeds dataset class count 1. Possible class labels are 0-0\n",
            "\u001b[34m\u001b[1mtrain: \u001b[0mWARNING ⚠️ /content/Pineapple Ripeness Detection.v3i.yolov8/train/images/IMG_0922_JPG.rf.e05f25e270fe5d067cb2cc030f1d78ae.jpg: ignoring corrupt image/label: Label class 1 exceeds dataset class count 1. Possible class labels are 0-0\n",
            "\u001b[34m\u001b[1mtrain: \u001b[0mWARNING ⚠️ /content/Pineapple Ripeness Detection.v3i.yolov8/train/images/IMG_0922_JPG.rf.f1f4269cb82c08fb0bb7c2b31fec7e4a.jpg: ignoring corrupt image/label: Label class 1 exceeds dataset class count 1. Possible class labels are 0-0\n",
            "\u001b[34m\u001b[1mtrain: \u001b[0mWARNING ⚠️ /content/Pineapple Ripeness Detection.v3i.yolov8/train/images/IMG_0923_JPG.rf.07c10d919a3887d8f444bbe6a35bd0ef.jpg: ignoring corrupt image/label: Label class 1 exceeds dataset class count 1. Possible class labels are 0-0\n",
            "\u001b[34m\u001b[1mtrain: \u001b[0mWARNING ⚠️ /content/Pineapple Ripeness Detection.v3i.yolov8/train/images/IMG_0923_JPG.rf.427f403e94d046cf8f579c8c64a47933.jpg: ignoring corrupt image/label: Label class 1 exceeds dataset class count 1. Possible class labels are 0-0\n",
            "\u001b[34m\u001b[1mtrain: \u001b[0mWARNING ⚠️ /content/Pineapple Ripeness Detection.v3i.yolov8/train/images/IMG_0923_JPG.rf.604c6652d4b6d7f8a262816b00a4d35e.jpg: ignoring corrupt image/label: Label class 1 exceeds dataset class count 1. Possible class labels are 0-0\n",
            "\u001b[34m\u001b[1mtrain: \u001b[0mWARNING ⚠️ /content/Pineapple Ripeness Detection.v3i.yolov8/train/images/IMG_0928_JPG.rf.193b83071d8f216a98541dfb2d05ddcd.jpg: ignoring corrupt image/label: Label class 1 exceeds dataset class count 1. Possible class labels are 0-0\n",
            "\u001b[34m\u001b[1mtrain: \u001b[0mWARNING ⚠️ /content/Pineapple Ripeness Detection.v3i.yolov8/train/images/IMG_0928_JPG.rf.6f3e27d0db0855db5c345701ec90626e.jpg: ignoring corrupt image/label: Label class 1 exceeds dataset class count 1. Possible class labels are 0-0\n",
            "\u001b[34m\u001b[1mtrain: \u001b[0mWARNING ⚠️ /content/Pineapple Ripeness Detection.v3i.yolov8/train/images/IMG_0928_JPG.rf.7f88c858dbcb02b884b5a2dae40e1edf.jpg: ignoring corrupt image/label: Label class 1 exceeds dataset class count 1. Possible class labels are 0-0\n",
            "\u001b[34m\u001b[1mtrain: \u001b[0mWARNING ⚠️ /content/Pineapple Ripeness Detection.v3i.yolov8/train/images/IMG_0929_JPG.rf.1f3620ae255a5580c3fff6d2e83eef1b.jpg: ignoring corrupt image/label: Label class 1 exceeds dataset class count 1. Possible class labels are 0-0\n",
            "\u001b[34m\u001b[1mtrain: \u001b[0mWARNING ⚠️ /content/Pineapple Ripeness Detection.v3i.yolov8/train/images/IMG_0929_JPG.rf.b275d51a0fbcfb2fe8e5d75fa21c7112.jpg: ignoring corrupt image/label: Label class 1 exceeds dataset class count 1. Possible class labels are 0-0\n",
            "\u001b[34m\u001b[1mtrain: \u001b[0mWARNING ⚠️ /content/Pineapple Ripeness Detection.v3i.yolov8/train/images/IMG_0929_JPG.rf.f9fca7429098f5ee6807fe591bc669fb.jpg: ignoring corrupt image/label: Label class 1 exceeds dataset class count 1. Possible class labels are 0-0\n",
            "\u001b[34m\u001b[1mtrain: \u001b[0mWARNING ⚠️ /content/Pineapple Ripeness Detection.v3i.yolov8/train/images/IMG_0932_JPG.rf.46eb7e09524bc555f97d45a39250229e.jpg: ignoring corrupt image/label: Label class 1 exceeds dataset class count 1. Possible class labels are 0-0\n",
            "\u001b[34m\u001b[1mtrain: \u001b[0mWARNING ⚠️ /content/Pineapple Ripeness Detection.v3i.yolov8/train/images/IMG_0932_JPG.rf.ac75799f819a35d7231b6c06a5489695.jpg: ignoring corrupt image/label: Label class 1 exceeds dataset class count 1. Possible class labels are 0-0\n",
            "\u001b[34m\u001b[1mtrain: \u001b[0mWARNING ⚠️ /content/Pineapple Ripeness Detection.v3i.yolov8/train/images/IMG_0932_JPG.rf.d1c3c28a5e74ff5881626bfdf2694d92.jpg: ignoring corrupt image/label: Label class 1 exceeds dataset class count 1. Possible class labels are 0-0\n",
            "\u001b[34m\u001b[1mtrain: \u001b[0mWARNING ⚠️ /content/Pineapple Ripeness Detection.v3i.yolov8/train/images/IMG_0935_JPG.rf.0faf32fcbe28ca37e5b405d784043bc5.jpg: ignoring corrupt image/label: Label class 1 exceeds dataset class count 1. Possible class labels are 0-0\n",
            "\u001b[34m\u001b[1mtrain: \u001b[0mWARNING ⚠️ /content/Pineapple Ripeness Detection.v3i.yolov8/train/images/IMG_0935_JPG.rf.5baa86a7265631231dac6a2af3e97705.jpg: ignoring corrupt image/label: Label class 1 exceeds dataset class count 1. Possible class labels are 0-0\n",
            "\u001b[34m\u001b[1mtrain: \u001b[0mWARNING ⚠️ /content/Pineapple Ripeness Detection.v3i.yolov8/train/images/IMG_0935_JPG.rf.ed7f7413a7e5a11639e7a1069f461984.jpg: ignoring corrupt image/label: Label class 1 exceeds dataset class count 1. Possible class labels are 0-0\n",
            "\u001b[34m\u001b[1mtrain: \u001b[0mWARNING ⚠️ /content/Pineapple Ripeness Detection.v3i.yolov8/train/images/IMG_0936_JPG.rf.080e1fb12f2863e5aabaa7404b0b7375.jpg: ignoring corrupt image/label: Label class 1 exceeds dataset class count 1. Possible class labels are 0-0\n",
            "\u001b[34m\u001b[1mtrain: \u001b[0mWARNING ⚠️ /content/Pineapple Ripeness Detection.v3i.yolov8/train/images/IMG_0936_JPG.rf.80157a1ff312f7fc1f8ef1dd5e3a1e23.jpg: ignoring corrupt image/label: Label class 1 exceeds dataset class count 1. Possible class labels are 0-0\n",
            "\u001b[34m\u001b[1mtrain: \u001b[0mWARNING ⚠️ /content/Pineapple Ripeness Detection.v3i.yolov8/train/images/IMG_0936_JPG.rf.ee1c49a6dc0fbefe5a68ab391502d393.jpg: ignoring corrupt image/label: Label class 1 exceeds dataset class count 1. Possible class labels are 0-0\n",
            "\u001b[34m\u001b[1mtrain: \u001b[0mWARNING ⚠️ /content/Pineapple Ripeness Detection.v3i.yolov8/train/images/IMG_0937_JPG.rf.0b4f08a35046e483ed89069ec20816c7.jpg: ignoring corrupt image/label: Label class 1 exceeds dataset class count 1. Possible class labels are 0-0\n",
            "\u001b[34m\u001b[1mtrain: \u001b[0mWARNING ⚠️ /content/Pineapple Ripeness Detection.v3i.yolov8/train/images/IMG_0937_JPG.rf.167a689735ffc06aecb8ab57a158e038.jpg: ignoring corrupt image/label: Label class 1 exceeds dataset class count 1. Possible class labels are 0-0\n",
            "\u001b[34m\u001b[1mtrain: \u001b[0mWARNING ⚠️ /content/Pineapple Ripeness Detection.v3i.yolov8/train/images/IMG_0937_JPG.rf.7b39cf864c9f362c489033af636402b7.jpg: ignoring corrupt image/label: Label class 1 exceeds dataset class count 1. Possible class labels are 0-0\n",
            "\u001b[34m\u001b[1mtrain: \u001b[0mWARNING ⚠️ /content/Pineapple Ripeness Detection.v3i.yolov8/train/images/IMG_0944_JPG.rf.72dfc07d4a79038021ec6dfba0193845.jpg: ignoring corrupt image/label: Label class 1 exceeds dataset class count 1. Possible class labels are 0-0\n",
            "\u001b[34m\u001b[1mtrain: \u001b[0mWARNING ⚠️ /content/Pineapple Ripeness Detection.v3i.yolov8/train/images/IMG_0944_JPG.rf.7eaa43f2a5f72877ed62d0bc942f5505.jpg: ignoring corrupt image/label: Label class 1 exceeds dataset class count 1. Possible class labels are 0-0\n",
            "\u001b[34m\u001b[1mtrain: \u001b[0mWARNING ⚠️ /content/Pineapple Ripeness Detection.v3i.yolov8/train/images/IMG_0944_JPG.rf.944a7ec7ebcfff6ab29f8abc2414bfe3.jpg: ignoring corrupt image/label: Label class 1 exceeds dataset class count 1. Possible class labels are 0-0\n",
            "\u001b[34m\u001b[1mtrain: \u001b[0mWARNING ⚠️ /content/Pineapple Ripeness Detection.v3i.yolov8/train/images/IMG_0950_JPG.rf.0047ca76663e1256276ab49343818112.jpg: ignoring corrupt image/label: Label class 1 exceeds dataset class count 1. Possible class labels are 0-0\n",
            "\u001b[34m\u001b[1mtrain: \u001b[0mWARNING ⚠️ /content/Pineapple Ripeness Detection.v3i.yolov8/train/images/IMG_0950_JPG.rf.4a1a577ebf00b741673cac54f4a6634f.jpg: ignoring corrupt image/label: Label class 1 exceeds dataset class count 1. Possible class labels are 0-0\n",
            "\u001b[34m\u001b[1mtrain: \u001b[0mWARNING ⚠️ /content/Pineapple Ripeness Detection.v3i.yolov8/train/images/IMG_0950_JPG.rf.5a966bc8755387e0c5eb64f6709c75b9.jpg: ignoring corrupt image/label: Label class 1 exceeds dataset class count 1. Possible class labels are 0-0\n",
            "\u001b[34m\u001b[1mtrain: \u001b[0mWARNING ⚠️ /content/Pineapple Ripeness Detection.v3i.yolov8/train/images/IMG_0951_JPG.rf.82f43e51321b1d550367510957f0d45f.jpg: ignoring corrupt image/label: Label class 1 exceeds dataset class count 1. Possible class labels are 0-0\n",
            "\u001b[34m\u001b[1mtrain: \u001b[0mWARNING ⚠️ /content/Pineapple Ripeness Detection.v3i.yolov8/train/images/IMG_0951_JPG.rf.a9c824481cc42f903b3ac5f6c9acfa96.jpg: ignoring corrupt image/label: Label class 1 exceeds dataset class count 1. Possible class labels are 0-0\n",
            "\u001b[34m\u001b[1mtrain: \u001b[0mWARNING ⚠️ /content/Pineapple Ripeness Detection.v3i.yolov8/train/images/IMG_0951_JPG.rf.e81a1b195be0e6e649840d73d9e5be25.jpg: ignoring corrupt image/label: Label class 1 exceeds dataset class count 1. Possible class labels are 0-0\n",
            "\u001b[34m\u001b[1mtrain: \u001b[0mWARNING ⚠️ /content/Pineapple Ripeness Detection.v3i.yolov8/train/images/IMG_0952_JPG.rf.20bd5d3104ac80a06f18e7ff12319a8e.jpg: ignoring corrupt image/label: Label class 1 exceeds dataset class count 1. Possible class labels are 0-0\n",
            "\u001b[34m\u001b[1mtrain: \u001b[0mWARNING ⚠️ /content/Pineapple Ripeness Detection.v3i.yolov8/train/images/IMG_0952_JPG.rf.27d3f5ba8cde111880f04cbd2c678861.jpg: ignoring corrupt image/label: Label class 1 exceeds dataset class count 1. Possible class labels are 0-0\n",
            "\u001b[34m\u001b[1mtrain: \u001b[0mWARNING ⚠️ /content/Pineapple Ripeness Detection.v3i.yolov8/train/images/IMG_0952_JPG.rf.bd7697260cd9dfd29fda4963ab76f485.jpg: ignoring corrupt image/label: Label class 1 exceeds dataset class count 1. Possible class labels are 0-0\n",
            "\u001b[34m\u001b[1mtrain: \u001b[0mWARNING ⚠️ /content/Pineapple Ripeness Detection.v3i.yolov8/train/images/IMG_0954_JPG.rf.54fd2d8b9ec6093d50da7501b4f28a44.jpg: ignoring corrupt image/label: Label class 1 exceeds dataset class count 1. Possible class labels are 0-0\n",
            "\u001b[34m\u001b[1mtrain: \u001b[0mWARNING ⚠️ /content/Pineapple Ripeness Detection.v3i.yolov8/train/images/IMG_0954_JPG.rf.63b56ff8d9c1fdfd4de52ca846083b6a.jpg: ignoring corrupt image/label: Label class 1 exceeds dataset class count 1. Possible class labels are 0-0\n",
            "\u001b[34m\u001b[1mtrain: \u001b[0mWARNING ⚠️ /content/Pineapple Ripeness Detection.v3i.yolov8/train/images/IMG_0954_JPG.rf.7ad054efa2dff1c1f04810eaa9bf4fc8.jpg: ignoring corrupt image/label: Label class 1 exceeds dataset class count 1. Possible class labels are 0-0\n",
            "\u001b[34m\u001b[1mtrain: \u001b[0mWARNING ⚠️ /content/Pineapple Ripeness Detection.v3i.yolov8/train/images/IMG_0956_JPG.rf.29e3cde7da43b21ee07f551f6d2dec3b.jpg: ignoring corrupt image/label: Label class 1 exceeds dataset class count 1. Possible class labels are 0-0\n",
            "\u001b[34m\u001b[1mtrain: \u001b[0mWARNING ⚠️ /content/Pineapple Ripeness Detection.v3i.yolov8/train/images/IMG_0956_JPG.rf.afd61636492feddff75170d2afa20b2b.jpg: ignoring corrupt image/label: Label class 1 exceeds dataset class count 1. Possible class labels are 0-0\n",
            "\u001b[34m\u001b[1mtrain: \u001b[0mWARNING ⚠️ /content/Pineapple Ripeness Detection.v3i.yolov8/train/images/IMG_0956_JPG.rf.f9efc99158b0ab603fc0d60cccf0e6bf.jpg: ignoring corrupt image/label: Label class 1 exceeds dataset class count 1. Possible class labels are 0-0\n",
            "\u001b[34m\u001b[1mtrain: \u001b[0mWARNING ⚠️ /content/Pineapple Ripeness Detection.v3i.yolov8/train/images/IMG_0957_JPG.rf.a436fbc9b577e8d45e8776264a0beb1d.jpg: ignoring corrupt image/label: Label class 1 exceeds dataset class count 1. Possible class labels are 0-0\n",
            "\u001b[34m\u001b[1mtrain: \u001b[0mWARNING ⚠️ /content/Pineapple Ripeness Detection.v3i.yolov8/train/images/IMG_0957_JPG.rf.cf9490bc6b523a88f2e07e6db17538b3.jpg: ignoring corrupt image/label: Label class 1 exceeds dataset class count 1. Possible class labels are 0-0\n",
            "\u001b[34m\u001b[1mtrain: \u001b[0mWARNING ⚠️ /content/Pineapple Ripeness Detection.v3i.yolov8/train/images/IMG_0957_JPG.rf.f58b8431bbc67caac37554420e6fb4ca.jpg: ignoring corrupt image/label: Label class 1 exceeds dataset class count 1. Possible class labels are 0-0\n",
            "\u001b[34m\u001b[1mtrain: \u001b[0mWARNING ⚠️ /content/Pineapple Ripeness Detection.v3i.yolov8/train/images/IMG_0961_JPG.rf.3b681eeaa3a345a7c91200a71c1b4e0b.jpg: ignoring corrupt image/label: Label class 1 exceeds dataset class count 1. Possible class labels are 0-0\n",
            "\u001b[34m\u001b[1mtrain: \u001b[0mWARNING ⚠️ /content/Pineapple Ripeness Detection.v3i.yolov8/train/images/IMG_0961_JPG.rf.966e3195468c6188916e0198632a5f4a.jpg: ignoring corrupt image/label: Label class 1 exceeds dataset class count 1. Possible class labels are 0-0\n",
            "\u001b[34m\u001b[1mtrain: \u001b[0mWARNING ⚠️ /content/Pineapple Ripeness Detection.v3i.yolov8/train/images/IMG_0961_JPG.rf.f8674b36533da4bbd20c27c90f344b3b.jpg: ignoring corrupt image/label: Label class 1 exceeds dataset class count 1. Possible class labels are 0-0\n",
            "\u001b[34m\u001b[1mtrain: \u001b[0mWARNING ⚠️ /content/Pineapple Ripeness Detection.v3i.yolov8/train/images/IMG_0962_JPG.rf.752ea0ccd84b22aaf031472ec8b25626.jpg: ignoring corrupt image/label: Label class 1 exceeds dataset class count 1. Possible class labels are 0-0\n",
            "\u001b[34m\u001b[1mtrain: \u001b[0mWARNING ⚠️ /content/Pineapple Ripeness Detection.v3i.yolov8/train/images/IMG_0962_JPG.rf.ab78f4aa0ba4e0b070dabaec5a76590f.jpg: ignoring corrupt image/label: Label class 1 exceeds dataset class count 1. Possible class labels are 0-0\n",
            "\u001b[34m\u001b[1mtrain: \u001b[0mWARNING ⚠️ /content/Pineapple Ripeness Detection.v3i.yolov8/train/images/IMG_0962_JPG.rf.cc64ccc75060948b50cd26d954ddc1e5.jpg: ignoring corrupt image/label: Label class 1 exceeds dataset class count 1. Possible class labels are 0-0\n",
            "\u001b[34m\u001b[1mtrain: \u001b[0mWARNING ⚠️ /content/Pineapple Ripeness Detection.v3i.yolov8/train/images/IMG_0964_JPG.rf.12fbbea2bfe6b2694ac5dd4ef71557b5.jpg: ignoring corrupt image/label: Label class 1 exceeds dataset class count 1. Possible class labels are 0-0\n",
            "\u001b[34m\u001b[1mtrain: \u001b[0mWARNING ⚠️ /content/Pineapple Ripeness Detection.v3i.yolov8/train/images/IMG_0964_JPG.rf.362f19d1c62c0350632e3884dbc5e1e7.jpg: ignoring corrupt image/label: Label class 1 exceeds dataset class count 1. Possible class labels are 0-0\n",
            "\u001b[34m\u001b[1mtrain: \u001b[0mWARNING ⚠️ /content/Pineapple Ripeness Detection.v3i.yolov8/train/images/IMG_0964_JPG.rf.887b46e7ada301956e6646ba8e6eac3e.jpg: ignoring corrupt image/label: Label class 1 exceeds dataset class count 1. Possible class labels are 0-0\n",
            "\u001b[34m\u001b[1mtrain: \u001b[0mWARNING ⚠️ /content/Pineapple Ripeness Detection.v3i.yolov8/train/images/IMG_0965_JPG.rf.3db905935d90e5aafb8bf5f5e0c4b517.jpg: ignoring corrupt image/label: Label class 1 exceeds dataset class count 1. Possible class labels are 0-0\n",
            "\u001b[34m\u001b[1mtrain: \u001b[0mWARNING ⚠️ /content/Pineapple Ripeness Detection.v3i.yolov8/train/images/IMG_0965_JPG.rf.660c1f0645222d7bdacf0681a2bf7b1e.jpg: ignoring corrupt image/label: Label class 1 exceeds dataset class count 1. Possible class labels are 0-0\n",
            "\u001b[34m\u001b[1mtrain: \u001b[0mWARNING ⚠️ /content/Pineapple Ripeness Detection.v3i.yolov8/train/images/IMG_0965_JPG.rf.d343b3c7429087bb2a102afe82e72a27.jpg: ignoring corrupt image/label: Label class 1 exceeds dataset class count 1. Possible class labels are 0-0\n",
            "\u001b[34m\u001b[1mtrain: \u001b[0mWARNING ⚠️ /content/Pineapple Ripeness Detection.v3i.yolov8/train/images/IMG_0970_JPG.rf.08241550b5f028896f8e713195c80ae3.jpg: ignoring corrupt image/label: Label class 1 exceeds dataset class count 1. Possible class labels are 0-0\n",
            "\u001b[34m\u001b[1mtrain: \u001b[0mWARNING ⚠️ /content/Pineapple Ripeness Detection.v3i.yolov8/train/images/IMG_0970_JPG.rf.3c76d3c308c166c20e4e9eefc88adb49.jpg: ignoring corrupt image/label: Label class 1 exceeds dataset class count 1. Possible class labels are 0-0\n",
            "\u001b[34m\u001b[1mtrain: \u001b[0mWARNING ⚠️ /content/Pineapple Ripeness Detection.v3i.yolov8/train/images/IMG_0970_JPG.rf.47edb7e371d4c581e1d87e53fd4108be.jpg: ignoring corrupt image/label: Label class 1 exceeds dataset class count 1. Possible class labels are 0-0\n",
            "\u001b[34m\u001b[1mtrain: \u001b[0mWARNING ⚠️ /content/Pineapple Ripeness Detection.v3i.yolov8/train/images/IMG_0971_JPG.rf.1e8eb8a6d70a2e1bba3356d20775b546.jpg: ignoring corrupt image/label: Label class 1 exceeds dataset class count 1. Possible class labels are 0-0\n",
            "\u001b[34m\u001b[1mtrain: \u001b[0mWARNING ⚠️ /content/Pineapple Ripeness Detection.v3i.yolov8/train/images/IMG_0971_JPG.rf.4040e68dd85413076e43a110c12462c1.jpg: ignoring corrupt image/label: Label class 1 exceeds dataset class count 1. Possible class labels are 0-0\n",
            "\u001b[34m\u001b[1mtrain: \u001b[0mWARNING ⚠️ /content/Pineapple Ripeness Detection.v3i.yolov8/train/images/IMG_0971_JPG.rf.ffe4f6903b89665845cd464563a8e08e.jpg: ignoring corrupt image/label: Label class 1 exceeds dataset class count 1. Possible class labels are 0-0\n",
            "\u001b[34m\u001b[1mtrain: \u001b[0mWARNING ⚠️ /content/Pineapple Ripeness Detection.v3i.yolov8/train/images/IMG_0972_JPG.rf.552b453ee62b7e56e468429ec1cbc818.jpg: ignoring corrupt image/label: Label class 1 exceeds dataset class count 1. Possible class labels are 0-0\n",
            "\u001b[34m\u001b[1mtrain: \u001b[0mWARNING ⚠️ /content/Pineapple Ripeness Detection.v3i.yolov8/train/images/IMG_0972_JPG.rf.a015afa0f9ebdc2a2cd5369b6c5969b5.jpg: ignoring corrupt image/label: Label class 1 exceeds dataset class count 1. Possible class labels are 0-0\n",
            "\u001b[34m\u001b[1mtrain: \u001b[0mWARNING ⚠️ /content/Pineapple Ripeness Detection.v3i.yolov8/train/images/IMG_0972_JPG.rf.db955fface77bb4c286218f1f42ac282.jpg: ignoring corrupt image/label: Label class 1 exceeds dataset class count 1. Possible class labels are 0-0\n",
            "\u001b[34m\u001b[1mtrain: \u001b[0mWARNING ⚠️ /content/Pineapple Ripeness Detection.v3i.yolov8/train/images/IMG_0973_JPG.rf.0fe07beefc31443656e9c710c674d519.jpg: ignoring corrupt image/label: Label class 1 exceeds dataset class count 1. Possible class labels are 0-0\n",
            "\u001b[34m\u001b[1mtrain: \u001b[0mWARNING ⚠️ /content/Pineapple Ripeness Detection.v3i.yolov8/train/images/IMG_0973_JPG.rf.3b02fac669ce65a0b1ec2886e8c435f6.jpg: ignoring corrupt image/label: Label class 1 exceeds dataset class count 1. Possible class labels are 0-0\n",
            "\u001b[34m\u001b[1mtrain: \u001b[0mWARNING ⚠️ /content/Pineapple Ripeness Detection.v3i.yolov8/train/images/IMG_0973_JPG.rf.4cab51b3b099a4fd4e1b3ede8fc564d0.jpg: ignoring corrupt image/label: Label class 1 exceeds dataset class count 1. Possible class labels are 0-0\n",
            "\u001b[34m\u001b[1mtrain: \u001b[0mWARNING ⚠️ /content/Pineapple Ripeness Detection.v3i.yolov8/train/images/IMG_0975_JPG.rf.04aa9ba88d47a5c2445b056678ebad54.jpg: ignoring corrupt image/label: Label class 1 exceeds dataset class count 1. Possible class labels are 0-0\n",
            "\u001b[34m\u001b[1mtrain: \u001b[0mWARNING ⚠️ /content/Pineapple Ripeness Detection.v3i.yolov8/train/images/IMG_0975_JPG.rf.083eda51dbf5685d1cef78e0cdfab49b.jpg: ignoring corrupt image/label: Label class 1 exceeds dataset class count 1. Possible class labels are 0-0\n",
            "\u001b[34m\u001b[1mtrain: \u001b[0mWARNING ⚠️ /content/Pineapple Ripeness Detection.v3i.yolov8/train/images/IMG_0975_JPG.rf.32bd591be9982e6edf8960de1fd69570.jpg: ignoring corrupt image/label: Label class 1 exceeds dataset class count 1. Possible class labels are 0-0\n",
            "\u001b[34m\u001b[1mtrain: \u001b[0mWARNING ⚠️ /content/Pineapple Ripeness Detection.v3i.yolov8/train/images/IMG_0976_JPG.rf.3625c16c918484d98ef24b56d3049ceb.jpg: ignoring corrupt image/label: Label class 1 exceeds dataset class count 1. Possible class labels are 0-0\n",
            "\u001b[34m\u001b[1mtrain: \u001b[0mWARNING ⚠️ /content/Pineapple Ripeness Detection.v3i.yolov8/train/images/IMG_0976_JPG.rf.4192016d794f2cd44365b8c14cdcac38.jpg: ignoring corrupt image/label: Label class 1 exceeds dataset class count 1. Possible class labels are 0-0\n",
            "\u001b[34m\u001b[1mtrain: \u001b[0mWARNING ⚠️ /content/Pineapple Ripeness Detection.v3i.yolov8/train/images/IMG_0976_JPG.rf.878986718bdef6746031cf98bc2778ce.jpg: ignoring corrupt image/label: Label class 1 exceeds dataset class count 1. Possible class labels are 0-0\n",
            "\u001b[34m\u001b[1mtrain: \u001b[0mWARNING ⚠️ /content/Pineapple Ripeness Detection.v3i.yolov8/train/images/IMG_0977_JPG.rf.395629ab412a213671e845bd76189e32.jpg: ignoring corrupt image/label: Label class 1 exceeds dataset class count 1. Possible class labels are 0-0\n",
            "\u001b[34m\u001b[1mtrain: \u001b[0mWARNING ⚠️ /content/Pineapple Ripeness Detection.v3i.yolov8/train/images/IMG_0977_JPG.rf.3c2daf537b9e2cd72b27ef176f2254b7.jpg: ignoring corrupt image/label: Label class 1 exceeds dataset class count 1. Possible class labels are 0-0\n",
            "\u001b[34m\u001b[1mtrain: \u001b[0mWARNING ⚠️ /content/Pineapple Ripeness Detection.v3i.yolov8/train/images/IMG_0977_JPG.rf.a62acf0a810739587a33caa6d4a4a28c.jpg: ignoring corrupt image/label: Label class 1 exceeds dataset class count 1. Possible class labels are 0-0\n",
            "\u001b[34m\u001b[1mtrain: \u001b[0mWARNING ⚠️ /content/Pineapple Ripeness Detection.v3i.yolov8/train/images/IMG_0979_JPG.rf.14f8a09566896afa6701497ee0036ef9.jpg: ignoring corrupt image/label: Label class 1 exceeds dataset class count 1. Possible class labels are 0-0\n",
            "\u001b[34m\u001b[1mtrain: \u001b[0mWARNING ⚠️ /content/Pineapple Ripeness Detection.v3i.yolov8/train/images/IMG_0979_JPG.rf.5dd6aa97f69789d0384359a9c3b9d81a.jpg: ignoring corrupt image/label: Label class 1 exceeds dataset class count 1. Possible class labels are 0-0\n",
            "\u001b[34m\u001b[1mtrain: \u001b[0mWARNING ⚠️ /content/Pineapple Ripeness Detection.v3i.yolov8/train/images/IMG_0979_JPG.rf.92968117b16bfee3379669cf574a2bc1.jpg: ignoring corrupt image/label: Label class 1 exceeds dataset class count 1. Possible class labels are 0-0\n",
            "\u001b[34m\u001b[1mtrain: \u001b[0mWARNING ⚠️ /content/Pineapple Ripeness Detection.v3i.yolov8/train/images/IMG_0980_JPG.rf.4a3f7f95fe49ac43ca8f4d9d6dbc6599.jpg: ignoring corrupt image/label: Label class 1 exceeds dataset class count 1. Possible class labels are 0-0\n",
            "\u001b[34m\u001b[1mtrain: \u001b[0mWARNING ⚠️ /content/Pineapple Ripeness Detection.v3i.yolov8/train/images/IMG_0980_JPG.rf.605132621a3dd3869536e3e004bd2905.jpg: ignoring corrupt image/label: Label class 1 exceeds dataset class count 1. Possible class labels are 0-0\n",
            "\u001b[34m\u001b[1mtrain: \u001b[0mWARNING ⚠️ /content/Pineapple Ripeness Detection.v3i.yolov8/train/images/IMG_0980_JPG.rf.872f23d8704e8b5f881b794ac2bc126c.jpg: ignoring corrupt image/label: Label class 1 exceeds dataset class count 1. Possible class labels are 0-0\n",
            "\u001b[34m\u001b[1mtrain: \u001b[0mWARNING ⚠️ /content/Pineapple Ripeness Detection.v3i.yolov8/train/images/IMG_0982_JPG.rf.7be2729a3a5231cc0daac3ce35beca28.jpg: ignoring corrupt image/label: Label class 1 exceeds dataset class count 1. Possible class labels are 0-0\n",
            "\u001b[34m\u001b[1mtrain: \u001b[0mWARNING ⚠️ /content/Pineapple Ripeness Detection.v3i.yolov8/train/images/IMG_0982_JPG.rf.bd67e1cd54b5f188da56523569153392.jpg: ignoring corrupt image/label: Label class 1 exceeds dataset class count 1. Possible class labels are 0-0\n",
            "\u001b[34m\u001b[1mtrain: \u001b[0mWARNING ⚠️ /content/Pineapple Ripeness Detection.v3i.yolov8/train/images/IMG_0982_JPG.rf.ee4d436aeef34337ee1e594baabdd649.jpg: ignoring corrupt image/label: Label class 1 exceeds dataset class count 1. Possible class labels are 0-0\n",
            "\u001b[34m\u001b[1mtrain: \u001b[0mWARNING ⚠️ /content/Pineapple Ripeness Detection.v3i.yolov8/train/images/IMG_0984_JPG.rf.22fb25a6156e7957054d183965fcdf6e.jpg: ignoring corrupt image/label: Label class 1 exceeds dataset class count 1. Possible class labels are 0-0\n",
            "\u001b[34m\u001b[1mtrain: \u001b[0mWARNING ⚠️ /content/Pineapple Ripeness Detection.v3i.yolov8/train/images/IMG_0984_JPG.rf.a89a3d7736d5ab48873842569456b2d9.jpg: ignoring corrupt image/label: Label class 1 exceeds dataset class count 1. Possible class labels are 0-0\n",
            "\u001b[34m\u001b[1mtrain: \u001b[0mWARNING ⚠️ /content/Pineapple Ripeness Detection.v3i.yolov8/train/images/IMG_0984_JPG.rf.d8c8d5c33c46d3b35cace053944da2c5.jpg: ignoring corrupt image/label: Label class 1 exceeds dataset class count 1. Possible class labels are 0-0\n",
            "\u001b[34m\u001b[1mtrain: \u001b[0mWARNING ⚠️ /content/Pineapple Ripeness Detection.v3i.yolov8/train/images/IMG_0985_JPG.rf.378911535598896674a4b1d7ebee8f7d.jpg: ignoring corrupt image/label: Label class 1 exceeds dataset class count 1. Possible class labels are 0-0\n",
            "\u001b[34m\u001b[1mtrain: \u001b[0mWARNING ⚠️ /content/Pineapple Ripeness Detection.v3i.yolov8/train/images/IMG_0985_JPG.rf.f2b8028b14e62b8b52ea4197cc3096a8.jpg: ignoring corrupt image/label: Label class 1 exceeds dataset class count 1. Possible class labels are 0-0\n",
            "\u001b[34m\u001b[1mtrain: \u001b[0mWARNING ⚠️ /content/Pineapple Ripeness Detection.v3i.yolov8/train/images/IMG_0985_JPG.rf.fb5de4d386deca76f41441778f5deddc.jpg: ignoring corrupt image/label: Label class 1 exceeds dataset class count 1. Possible class labels are 0-0\n",
            "\u001b[34m\u001b[1mtrain: \u001b[0mWARNING ⚠️ /content/Pineapple Ripeness Detection.v3i.yolov8/train/images/IMG_0986_JPG.rf.817128af985f0b25a8be572160d4d76a.jpg: ignoring corrupt image/label: Label class 1 exceeds dataset class count 1. Possible class labels are 0-0\n",
            "\u001b[34m\u001b[1mtrain: \u001b[0mWARNING ⚠️ /content/Pineapple Ripeness Detection.v3i.yolov8/train/images/IMG_0986_JPG.rf.a04fa979e9e96fe0023a9920009d9997.jpg: ignoring corrupt image/label: Label class 1 exceeds dataset class count 1. Possible class labels are 0-0\n",
            "\u001b[34m\u001b[1mtrain: \u001b[0mWARNING ⚠️ /content/Pineapple Ripeness Detection.v3i.yolov8/train/images/IMG_0986_JPG.rf.a1be45719e2236290c4dcee15eac9293.jpg: ignoring corrupt image/label: Label class 1 exceeds dataset class count 1. Possible class labels are 0-0\n",
            "\u001b[34m\u001b[1mtrain: \u001b[0mWARNING ⚠️ /content/Pineapple Ripeness Detection.v3i.yolov8/train/images/IMG_0988_JPG.rf.19dd2b2ce26304db72163103e83f2a38.jpg: ignoring corrupt image/label: Label class 1 exceeds dataset class count 1. Possible class labels are 0-0\n",
            "\u001b[34m\u001b[1mtrain: \u001b[0mWARNING ⚠️ /content/Pineapple Ripeness Detection.v3i.yolov8/train/images/IMG_0988_JPG.rf.2c6affae51f714294cf03d8e67a8163e.jpg: ignoring corrupt image/label: Label class 1 exceeds dataset class count 1. Possible class labels are 0-0\n",
            "\u001b[34m\u001b[1mtrain: \u001b[0mWARNING ⚠️ /content/Pineapple Ripeness Detection.v3i.yolov8/train/images/IMG_0988_JPG.rf.802aa8d8ec8c1e5f775b23e203820e05.jpg: ignoring corrupt image/label: Label class 1 exceeds dataset class count 1. Possible class labels are 0-0\n",
            "\u001b[34m\u001b[1mtrain: \u001b[0mWARNING ⚠️ /content/Pineapple Ripeness Detection.v3i.yolov8/train/images/IMG_0990_JPG.rf.90df4311de04dcef6d6d125e87b7b56a.jpg: ignoring corrupt image/label: Label class 1 exceeds dataset class count 1. Possible class labels are 0-0\n",
            "\u001b[34m\u001b[1mtrain: \u001b[0mWARNING ⚠️ /content/Pineapple Ripeness Detection.v3i.yolov8/train/images/IMG_0990_JPG.rf.968d75744b53e6ce5e751277e7ac1b37.jpg: ignoring corrupt image/label: Label class 1 exceeds dataset class count 1. Possible class labels are 0-0\n",
            "\u001b[34m\u001b[1mtrain: \u001b[0mWARNING ⚠️ /content/Pineapple Ripeness Detection.v3i.yolov8/train/images/IMG_0990_JPG.rf.e366a6ea1c41f897974472787eaf111f.jpg: ignoring corrupt image/label: Label class 1 exceeds dataset class count 1. Possible class labels are 0-0\n",
            "\u001b[34m\u001b[1mtrain: \u001b[0mWARNING ⚠️ /content/Pineapple Ripeness Detection.v3i.yolov8/train/images/IMG_0993_JPG.rf.14952e6b01078316a5d563102cbb15a7.jpg: ignoring corrupt image/label: Label class 1 exceeds dataset class count 1. Possible class labels are 0-0\n",
            "\u001b[34m\u001b[1mtrain: \u001b[0mWARNING ⚠️ /content/Pineapple Ripeness Detection.v3i.yolov8/train/images/IMG_0993_JPG.rf.5cfbb49a1f6dde096e6aa9145298ef22.jpg: ignoring corrupt image/label: Label class 1 exceeds dataset class count 1. Possible class labels are 0-0\n",
            "\u001b[34m\u001b[1mtrain: \u001b[0mWARNING ⚠️ /content/Pineapple Ripeness Detection.v3i.yolov8/train/images/IMG_0993_JPG.rf.9e006e2200e9283a454dde24357501c9.jpg: ignoring corrupt image/label: Label class 1 exceeds dataset class count 1. Possible class labels are 0-0\n",
            "\u001b[34m\u001b[1mtrain: \u001b[0mWARNING ⚠️ /content/Pineapple Ripeness Detection.v3i.yolov8/train/images/IMG_0994_JPG.rf.429c46bfb404acc3feaf844a2cd8037f.jpg: ignoring corrupt image/label: Label class 1 exceeds dataset class count 1. Possible class labels are 0-0\n",
            "\u001b[34m\u001b[1mtrain: \u001b[0mWARNING ⚠️ /content/Pineapple Ripeness Detection.v3i.yolov8/train/images/IMG_0994_JPG.rf.70d6a28ea6ce479b39779e6cd6df2df7.jpg: ignoring corrupt image/label: Label class 1 exceeds dataset class count 1. Possible class labels are 0-0\n",
            "\u001b[34m\u001b[1mtrain: \u001b[0mWARNING ⚠️ /content/Pineapple Ripeness Detection.v3i.yolov8/train/images/IMG_0994_JPG.rf.dad1a468c7d497b563fb4a326e9ab6ed.jpg: ignoring corrupt image/label: Label class 1 exceeds dataset class count 1. Possible class labels are 0-0\n",
            "\u001b[34m\u001b[1mtrain: \u001b[0mWARNING ⚠️ /content/Pineapple Ripeness Detection.v3i.yolov8/train/images/IMG_0995_JPG.rf.28c4f1334d2497f43d9e852539fb9dff.jpg: ignoring corrupt image/label: Label class 1 exceeds dataset class count 1. Possible class labels are 0-0\n",
            "\u001b[34m\u001b[1mtrain: \u001b[0mWARNING ⚠️ /content/Pineapple Ripeness Detection.v3i.yolov8/train/images/IMG_0995_JPG.rf.8d8eb3f7295a0eb963b3f7b5434d1ef0.jpg: ignoring corrupt image/label: Label class 1 exceeds dataset class count 1. Possible class labels are 0-0\n",
            "\u001b[34m\u001b[1mtrain: \u001b[0mWARNING ⚠️ /content/Pineapple Ripeness Detection.v3i.yolov8/train/images/IMG_0995_JPG.rf.979504b3fba46922b940a69a9c8df33b.jpg: ignoring corrupt image/label: Label class 1 exceeds dataset class count 1. Possible class labels are 0-0\n",
            "\u001b[34m\u001b[1mtrain: \u001b[0mWARNING ⚠️ /content/Pineapple Ripeness Detection.v3i.yolov8/train/images/IMG_0996_JPG.rf.29d9a726b105dc7d39ff11641bd6c3e5.jpg: ignoring corrupt image/label: Label class 1 exceeds dataset class count 1. Possible class labels are 0-0\n",
            "\u001b[34m\u001b[1mtrain: \u001b[0mWARNING ⚠️ /content/Pineapple Ripeness Detection.v3i.yolov8/train/images/IMG_0996_JPG.rf.32754b2f68281892af5a3d721d637b87.jpg: ignoring corrupt image/label: Label class 1 exceeds dataset class count 1. Possible class labels are 0-0\n",
            "\u001b[34m\u001b[1mtrain: \u001b[0mWARNING ⚠️ /content/Pineapple Ripeness Detection.v3i.yolov8/train/images/IMG_0996_JPG.rf.4f4e81de4366c331a4ca705afac54dd7.jpg: ignoring corrupt image/label: Label class 1 exceeds dataset class count 1. Possible class labels are 0-0\n",
            "\u001b[34m\u001b[1mtrain: \u001b[0mWARNING ⚠️ /content/Pineapple Ripeness Detection.v3i.yolov8/train/images/IMG_0999_JPG.rf.0b08a0b55812ea01e78d5afd8c5b04d7.jpg: ignoring corrupt image/label: Label class 1 exceeds dataset class count 1. Possible class labels are 0-0\n",
            "\u001b[34m\u001b[1mtrain: \u001b[0mWARNING ⚠️ /content/Pineapple Ripeness Detection.v3i.yolov8/train/images/IMG_0999_JPG.rf.17ff39d9c217f1adbb59f5a57a7a5830.jpg: ignoring corrupt image/label: Label class 1 exceeds dataset class count 1. Possible class labels are 0-0\n",
            "\u001b[34m\u001b[1mtrain: \u001b[0mWARNING ⚠️ /content/Pineapple Ripeness Detection.v3i.yolov8/train/images/IMG_0999_JPG.rf.44cdb6265d8eef6bb35fd13d34e2e86b.jpg: ignoring corrupt image/label: Label class 1 exceeds dataset class count 1. Possible class labels are 0-0\n",
            "\u001b[34m\u001b[1mtrain: \u001b[0mWARNING ⚠️ /content/Pineapple Ripeness Detection.v3i.yolov8/train/images/IMG_1001_JPG.rf.2faeff14bae700c333253259d9f1576f.jpg: ignoring corrupt image/label: Label class 1 exceeds dataset class count 1. Possible class labels are 0-0\n",
            "\u001b[34m\u001b[1mtrain: \u001b[0mWARNING ⚠️ /content/Pineapple Ripeness Detection.v3i.yolov8/train/images/IMG_1001_JPG.rf.9fc9adc09e1e465204717d44a347be13.jpg: ignoring corrupt image/label: Label class 1 exceeds dataset class count 1. Possible class labels are 0-0\n",
            "\u001b[34m\u001b[1mtrain: \u001b[0mWARNING ⚠️ /content/Pineapple Ripeness Detection.v3i.yolov8/train/images/IMG_1001_JPG.rf.e64fbd2d2fb03f14f428699b01244120.jpg: ignoring corrupt image/label: Label class 1 exceeds dataset class count 1. Possible class labels are 0-0\n",
            "\u001b[34m\u001b[1mtrain: \u001b[0mWARNING ⚠️ /content/Pineapple Ripeness Detection.v3i.yolov8/train/images/IMG_1003_JPG.rf.2ea6e909c397a082cd83db1a97dc7786.jpg: ignoring corrupt image/label: Label class 1 exceeds dataset class count 1. Possible class labels are 0-0\n",
            "\u001b[34m\u001b[1mtrain: \u001b[0mWARNING ⚠️ /content/Pineapple Ripeness Detection.v3i.yolov8/train/images/IMG_1003_JPG.rf.ac3a279fc347068686dcf8de6b4be44a.jpg: ignoring corrupt image/label: Label class 1 exceeds dataset class count 1. Possible class labels are 0-0\n",
            "\u001b[34m\u001b[1mtrain: \u001b[0mWARNING ⚠️ /content/Pineapple Ripeness Detection.v3i.yolov8/train/images/IMG_1003_JPG.rf.fb562115f97f9bad3abc45b27f57b21a.jpg: ignoring corrupt image/label: Label class 1 exceeds dataset class count 1. Possible class labels are 0-0\n",
            "\u001b[34m\u001b[1mtrain: \u001b[0mWARNING ⚠️ /content/Pineapple Ripeness Detection.v3i.yolov8/train/images/IMG_1004_JPG.rf.07e434ad2952c7ebac489bda3a6a2dca.jpg: ignoring corrupt image/label: Label class 1 exceeds dataset class count 1. Possible class labels are 0-0\n",
            "\u001b[34m\u001b[1mtrain: \u001b[0mWARNING ⚠️ /content/Pineapple Ripeness Detection.v3i.yolov8/train/images/IMG_1004_JPG.rf.3d4d67c483dd059f1f9f23696d46046d.jpg: ignoring corrupt image/label: Label class 1 exceeds dataset class count 1. Possible class labels are 0-0\n",
            "\u001b[34m\u001b[1mtrain: \u001b[0mWARNING ⚠️ /content/Pineapple Ripeness Detection.v3i.yolov8/train/images/IMG_1004_JPG.rf.ae563aa616c44fd89ead4e579d1a72a0.jpg: ignoring corrupt image/label: Label class 1 exceeds dataset class count 1. Possible class labels are 0-0\n",
            "\u001b[34m\u001b[1mtrain: \u001b[0mWARNING ⚠️ /content/Pineapple Ripeness Detection.v3i.yolov8/train/images/IMG_1005_JPG.rf.62f52ae3fbd82a54adcca58d34300842.jpg: ignoring corrupt image/label: Label class 1 exceeds dataset class count 1. Possible class labels are 0-0\n",
            "\u001b[34m\u001b[1mtrain: \u001b[0mWARNING ⚠️ /content/Pineapple Ripeness Detection.v3i.yolov8/train/images/IMG_1005_JPG.rf.727a45e1dc581728b9bc8222a0c59572.jpg: ignoring corrupt image/label: Label class 1 exceeds dataset class count 1. Possible class labels are 0-0\n",
            "\u001b[34m\u001b[1mtrain: \u001b[0mWARNING ⚠️ /content/Pineapple Ripeness Detection.v3i.yolov8/train/images/IMG_1005_JPG.rf.c59c6e02a788ee941de5338de530a397.jpg: ignoring corrupt image/label: Label class 1 exceeds dataset class count 1. Possible class labels are 0-0\n",
            "\u001b[34m\u001b[1mtrain: \u001b[0mWARNING ⚠️ /content/Pineapple Ripeness Detection.v3i.yolov8/train/images/gallery-1439330704-gettyimages-478140221_jpg.rf.2bbd0dd25aa7510e1d2a86a96c689783.jpg: ignoring corrupt image/label: Label class 1 exceeds dataset class count 1. Possible class labels are 0-0\n",
            "\u001b[34m\u001b[1mtrain: \u001b[0mWARNING ⚠️ /content/Pineapple Ripeness Detection.v3i.yolov8/train/images/gallery-1439330704-gettyimages-478140221_jpg.rf.31014b10bfa1e8b7904c962b76e7cd96.jpg: ignoring corrupt image/label: Label class 1 exceeds dataset class count 1. Possible class labels are 0-0\n",
            "\u001b[34m\u001b[1mtrain: \u001b[0mWARNING ⚠️ /content/Pineapple Ripeness Detection.v3i.yolov8/train/images/gallery-1439330704-gettyimages-478140221_jpg.rf.b86fef01c027b5c577fe690d8a9a9966.jpg: ignoring corrupt image/label: Label class 1 exceeds dataset class count 1. Possible class labels are 0-0\n",
            "\u001b[34m\u001b[1mtrain: \u001b[0mWARNING ⚠️ /content/Pineapple Ripeness Detection.v3i.yolov8/train/images/image25_jpeg.rf.0f5a595e7d4d1a178489f80534493e4f.jpg: ignoring corrupt image/label: Label class 1 exceeds dataset class count 1. Possible class labels are 0-0\n",
            "\u001b[34m\u001b[1mtrain: \u001b[0mWARNING ⚠️ /content/Pineapple Ripeness Detection.v3i.yolov8/train/images/image25_jpeg.rf.b0dc43697e00ce5e12ec0aaea12c98ad.jpg: ignoring corrupt image/label: Label class 1 exceeds dataset class count 1. Possible class labels are 0-0\n",
            "\u001b[34m\u001b[1mtrain: \u001b[0mWARNING ⚠️ /content/Pineapple Ripeness Detection.v3i.yolov8/train/images/image25_jpeg.rf.ba9f816d09c0b71eee07ad241c5578ab.jpg: ignoring corrupt image/label: Label class 1 exceeds dataset class count 1. Possible class labels are 0-0\n",
            "\u001b[34m\u001b[1mtrain: \u001b[0mWARNING ⚠️ /content/Pineapple Ripeness Detection.v3i.yolov8/train/images/images131_jpg.rf.0bb4ae3a692cf2e690a22b4bf7037956.jpg: ignoring corrupt image/label: Label class 1 exceeds dataset class count 1. Possible class labels are 0-0\n",
            "\u001b[34m\u001b[1mtrain: \u001b[0mWARNING ⚠️ /content/Pineapple Ripeness Detection.v3i.yolov8/train/images/images131_jpg.rf.6ed4406ae422f976b96ad842597f1764.jpg: ignoring corrupt image/label: Label class 1 exceeds dataset class count 1. Possible class labels are 0-0\n",
            "\u001b[34m\u001b[1mtrain: \u001b[0mWARNING ⚠️ /content/Pineapple Ripeness Detection.v3i.yolov8/train/images/images131_jpg.rf.94b0a74300fe01f31778d0448e1086ce.jpg: ignoring corrupt image/label: Label class 1 exceeds dataset class count 1. Possible class labels are 0-0\n",
            "\u001b[34m\u001b[1mtrain: \u001b[0mWARNING ⚠️ /content/Pineapple Ripeness Detection.v3i.yolov8/train/images/images136_jpg.rf.60dcf27b77cabbef0805428a1ef0b9ef.jpg: ignoring corrupt image/label: Label class 1 exceeds dataset class count 1. Possible class labels are 0-0\n",
            "\u001b[34m\u001b[1mtrain: \u001b[0mWARNING ⚠️ /content/Pineapple Ripeness Detection.v3i.yolov8/train/images/images136_jpg.rf.e6899b1f6a2cdb591f7dce489a19da0e.jpg: ignoring corrupt image/label: Label class 1 exceeds dataset class count 1. Possible class labels are 0-0\n",
            "\u001b[34m\u001b[1mtrain: \u001b[0mWARNING ⚠️ /content/Pineapple Ripeness Detection.v3i.yolov8/train/images/images136_jpg.rf.f7ad7237cde84412b177199a0cd704b1.jpg: ignoring corrupt image/label: Label class 1 exceeds dataset class count 1. Possible class labels are 0-0\n",
            "\u001b[34m\u001b[1mtrain: \u001b[0mWARNING ⚠️ /content/Pineapple Ripeness Detection.v3i.yolov8/train/images/images142_jpg.rf.0dfc960394f888fe0311ba1f61e5a47e.jpg: ignoring corrupt image/label: Label class 1 exceeds dataset class count 1. Possible class labels are 0-0\n",
            "\u001b[34m\u001b[1mtrain: \u001b[0mWARNING ⚠️ /content/Pineapple Ripeness Detection.v3i.yolov8/train/images/images142_jpg.rf.508471b7812edab5e10e8d57233c851a.jpg: ignoring corrupt image/label: Label class 1 exceeds dataset class count 1. Possible class labels are 0-0\n",
            "\u001b[34m\u001b[1mtrain: \u001b[0mWARNING ⚠️ /content/Pineapple Ripeness Detection.v3i.yolov8/train/images/images142_jpg.rf.7e1affdeded665b89b3f6085fa05534f.jpg: ignoring corrupt image/label: Label class 1 exceeds dataset class count 1. Possible class labels are 0-0\n",
            "\u001b[34m\u001b[1mtrain: \u001b[0mWARNING ⚠️ /content/Pineapple Ripeness Detection.v3i.yolov8/train/images/images143_jpg.rf.63a65211fbeb640c91f5a3e3a1299acc.jpg: ignoring corrupt image/label: Label class 1 exceeds dataset class count 1. Possible class labels are 0-0\n",
            "\u001b[34m\u001b[1mtrain: \u001b[0mWARNING ⚠️ /content/Pineapple Ripeness Detection.v3i.yolov8/train/images/images143_jpg.rf.9ba5bcc33dde07fd92b75b4ca10e940a.jpg: ignoring corrupt image/label: Label class 1 exceeds dataset class count 1. Possible class labels are 0-0\n",
            "\u001b[34m\u001b[1mtrain: \u001b[0mWARNING ⚠️ /content/Pineapple Ripeness Detection.v3i.yolov8/train/images/images143_jpg.rf.a998a7e25c77937780d75d455d58403b.jpg: ignoring corrupt image/label: Label class 1 exceeds dataset class count 1. Possible class labels are 0-0\n",
            "\u001b[34m\u001b[1mtrain: \u001b[0mWARNING ⚠️ /content/Pineapple Ripeness Detection.v3i.yolov8/train/images/images158_jpg.rf.4365766a88becbaf7e844377b2bda21c.jpg: ignoring corrupt image/label: Label class 1 exceeds dataset class count 1. Possible class labels are 0-0\n",
            "\u001b[34m\u001b[1mtrain: \u001b[0mWARNING ⚠️ /content/Pineapple Ripeness Detection.v3i.yolov8/train/images/images158_jpg.rf.5624161f884cacba7baaa0d8f299a4a6.jpg: ignoring corrupt image/label: Label class 1 exceeds dataset class count 1. Possible class labels are 0-0\n",
            "\u001b[34m\u001b[1mtrain: \u001b[0mWARNING ⚠️ /content/Pineapple Ripeness Detection.v3i.yolov8/train/images/images158_jpg.rf.8aaa8e77b55e646886eb7a9684ae6ab6.jpg: ignoring corrupt image/label: Label class 1 exceeds dataset class count 1. Possible class labels are 0-0\n",
            "\u001b[34m\u001b[1mtrain: \u001b[0mWARNING ⚠️ /content/Pineapple Ripeness Detection.v3i.yolov8/train/images/images165_jpg.rf.a927955e97187f4e080eb8170b464604.jpg: ignoring corrupt image/label: Label class 1 exceeds dataset class count 1. Possible class labels are 0-0\n",
            "\u001b[34m\u001b[1mtrain: \u001b[0mWARNING ⚠️ /content/Pineapple Ripeness Detection.v3i.yolov8/train/images/images165_jpg.rf.beeae3c51f52371d7ee5cee9521de6d9.jpg: ignoring corrupt image/label: Label class 1 exceeds dataset class count 1. Possible class labels are 0-0\n",
            "\u001b[34m\u001b[1mtrain: \u001b[0mWARNING ⚠️ /content/Pineapple Ripeness Detection.v3i.yolov8/train/images/images165_jpg.rf.d9355135474a80bfa9562d2fcd836653.jpg: ignoring corrupt image/label: Label class 1 exceeds dataset class count 1. Possible class labels are 0-0\n",
            "\u001b[34m\u001b[1mtrain: \u001b[0mWARNING ⚠️ /content/Pineapple Ripeness Detection.v3i.yolov8/train/images/images172_jpg.rf.1e47074bb542efe377a4facf6e383072.jpg: ignoring corrupt image/label: Label class 1 exceeds dataset class count 1. Possible class labels are 0-0\n",
            "\u001b[34m\u001b[1mtrain: \u001b[0mWARNING ⚠️ /content/Pineapple Ripeness Detection.v3i.yolov8/train/images/images172_jpg.rf.47f411f80f70cc7ab823c8444f628d00.jpg: ignoring corrupt image/label: Label class 1 exceeds dataset class count 1. Possible class labels are 0-0\n",
            "\u001b[34m\u001b[1mtrain: \u001b[0mWARNING ⚠️ /content/Pineapple Ripeness Detection.v3i.yolov8/train/images/images172_jpg.rf.c91fe3ae05184b2f190c7cee1af979c9.jpg: ignoring corrupt image/label: Label class 1 exceeds dataset class count 1. Possible class labels are 0-0\n",
            "\u001b[34m\u001b[1mtrain: \u001b[0mWARNING ⚠️ /content/Pineapple Ripeness Detection.v3i.yolov8/train/images/images17_jpg.rf.4b18f1b88b003e45d1cee15c2670d887.jpg: ignoring corrupt image/label: Label class 1 exceeds dataset class count 1. Possible class labels are 0-0\n",
            "\u001b[34m\u001b[1mtrain: \u001b[0mWARNING ⚠️ /content/Pineapple Ripeness Detection.v3i.yolov8/train/images/images17_jpg.rf.640cb31bcfca572ca34c7b2167dbc52b.jpg: ignoring corrupt image/label: Label class 1 exceeds dataset class count 1. Possible class labels are 0-0\n",
            "\u001b[34m\u001b[1mtrain: \u001b[0mWARNING ⚠️ /content/Pineapple Ripeness Detection.v3i.yolov8/train/images/images17_jpg.rf.6d660a211dd0ca0bc9cce4303d08808a.jpg: ignoring corrupt image/label: Label class 1 exceeds dataset class count 1. Possible class labels are 0-0\n",
            "\u001b[34m\u001b[1mtrain: \u001b[0mWARNING ⚠️ /content/Pineapple Ripeness Detection.v3i.yolov8/train/images/images199_jpg.rf.a96de3fb8379e4d19effdd5659818c99.jpg: ignoring corrupt image/label: Label class 1 exceeds dataset class count 1. Possible class labels are 0-0\n",
            "\u001b[34m\u001b[1mtrain: \u001b[0mWARNING ⚠️ /content/Pineapple Ripeness Detection.v3i.yolov8/train/images/images199_jpg.rf.d1f62f9809dfd5c0f8ec6b4eff57b67c.jpg: ignoring corrupt image/label: Label class 1 exceeds dataset class count 1. Possible class labels are 0-0\n",
            "\u001b[34m\u001b[1mtrain: \u001b[0mWARNING ⚠️ /content/Pineapple Ripeness Detection.v3i.yolov8/train/images/images199_jpg.rf.ef063cb848c8087f6305a598d28bba27.jpg: ignoring corrupt image/label: Label class 1 exceeds dataset class count 1. Possible class labels are 0-0\n",
            "\u001b[34m\u001b[1mtrain: \u001b[0mWARNING ⚠️ /content/Pineapple Ripeness Detection.v3i.yolov8/train/images/images203_jpg.rf.87c7c30b5e512c4dccf000319fea5f39.jpg: ignoring corrupt image/label: Label class 1 exceeds dataset class count 1. Possible class labels are 0-0\n",
            "\u001b[34m\u001b[1mtrain: \u001b[0mWARNING ⚠️ /content/Pineapple Ripeness Detection.v3i.yolov8/train/images/images203_jpg.rf.885162d60f867b64d09e2eba7ff9e7e5.jpg: ignoring corrupt image/label: Label class 1 exceeds dataset class count 1. Possible class labels are 0-0\n",
            "\u001b[34m\u001b[1mtrain: \u001b[0mWARNING ⚠️ /content/Pineapple Ripeness Detection.v3i.yolov8/train/images/images203_jpg.rf.d1551ba2f10217cf84b326b61fef0067.jpg: ignoring corrupt image/label: Label class 1 exceeds dataset class count 1. Possible class labels are 0-0\n",
            "\u001b[34m\u001b[1mtrain: \u001b[0mWARNING ⚠️ /content/Pineapple Ripeness Detection.v3i.yolov8/train/images/images206_jpg.rf.597ec1b50096b7b4768bdd9e14316055.jpg: ignoring corrupt image/label: Label class 1 exceeds dataset class count 1. Possible class labels are 0-0\n",
            "\u001b[34m\u001b[1mtrain: \u001b[0mWARNING ⚠️ /content/Pineapple Ripeness Detection.v3i.yolov8/train/images/images206_jpg.rf.5a01f46853978de7882a56fb5ad9e2ca.jpg: ignoring corrupt image/label: Label class 1 exceeds dataset class count 1. Possible class labels are 0-0\n",
            "\u001b[34m\u001b[1mtrain: \u001b[0mWARNING ⚠️ /content/Pineapple Ripeness Detection.v3i.yolov8/train/images/images206_jpg.rf.5e4485ef83738642a9ee944015a1ea30.jpg: ignoring corrupt image/label: Label class 1 exceeds dataset class count 1. Possible class labels are 0-0\n",
            "\u001b[34m\u001b[1mtrain: \u001b[0mWARNING ⚠️ /content/Pineapple Ripeness Detection.v3i.yolov8/train/images/images20_jpg.rf.12b194285256d28cc046264ac6782fdf.jpg: ignoring corrupt image/label: Label class 1 exceeds dataset class count 1. Possible class labels are 0-0\n",
            "\u001b[34m\u001b[1mtrain: \u001b[0mWARNING ⚠️ /content/Pineapple Ripeness Detection.v3i.yolov8/train/images/images20_jpg.rf.165a87875c44f3271b5572631d689598.jpg: ignoring corrupt image/label: Label class 1 exceeds dataset class count 1. Possible class labels are 0-0\n",
            "\u001b[34m\u001b[1mtrain: \u001b[0mWARNING ⚠️ /content/Pineapple Ripeness Detection.v3i.yolov8/train/images/images20_jpg.rf.5485f9a364aa1630a0afaa6cd61af6ab.jpg: ignoring corrupt image/label: Label class 1 exceeds dataset class count 1. Possible class labels are 0-0\n",
            "\u001b[34m\u001b[1mtrain: \u001b[0mWARNING ⚠️ /content/Pineapple Ripeness Detection.v3i.yolov8/train/images/images232_jpg.rf.48fc16b22a4eba56f8596ff6ce28e4a6.jpg: ignoring corrupt image/label: Label class 1 exceeds dataset class count 1. Possible class labels are 0-0\n",
            "\u001b[34m\u001b[1mtrain: \u001b[0mWARNING ⚠️ /content/Pineapple Ripeness Detection.v3i.yolov8/train/images/images232_jpg.rf.5b3fe4ee467ace8f6a6355703345066b.jpg: ignoring corrupt image/label: Label class 1 exceeds dataset class count 1. Possible class labels are 0-0\n",
            "\u001b[34m\u001b[1mtrain: \u001b[0mWARNING ⚠️ /content/Pineapple Ripeness Detection.v3i.yolov8/train/images/images232_jpg.rf.9222c1ba45fd1ee6515e7309b7c650f8.jpg: ignoring corrupt image/label: Label class 1 exceeds dataset class count 1. Possible class labels are 0-0\n",
            "\u001b[34m\u001b[1mtrain: \u001b[0mWARNING ⚠️ /content/Pineapple Ripeness Detection.v3i.yolov8/train/images/images238_jpg.rf.30f3b5a0eb340b8b7b973c973112c3bc.jpg: ignoring corrupt image/label: Label class 1 exceeds dataset class count 1. Possible class labels are 0-0\n",
            "\u001b[34m\u001b[1mtrain: \u001b[0mWARNING ⚠️ /content/Pineapple Ripeness Detection.v3i.yolov8/train/images/images238_jpg.rf.622712755e210626704d5093ca2fd82b.jpg: ignoring corrupt image/label: Label class 1 exceeds dataset class count 1. Possible class labels are 0-0\n",
            "\u001b[34m\u001b[1mtrain: \u001b[0mWARNING ⚠️ /content/Pineapple Ripeness Detection.v3i.yolov8/train/images/images238_jpg.rf.f319e0f8889f9044af7650e1769fd73e.jpg: ignoring corrupt image/label: Label class 1 exceeds dataset class count 1. Possible class labels are 0-0\n",
            "\u001b[34m\u001b[1mtrain: \u001b[0mWARNING ⚠️ /content/Pineapple Ripeness Detection.v3i.yolov8/train/images/images245_jpg.rf.7f48bbefb3ae35cb3d7e00882e4f379c.jpg: ignoring corrupt image/label: Label class 1 exceeds dataset class count 1. Possible class labels are 0-0\n",
            "\u001b[34m\u001b[1mtrain: \u001b[0mWARNING ⚠️ /content/Pineapple Ripeness Detection.v3i.yolov8/train/images/images245_jpg.rf.bced78f4455c656a179d4889e0a4d8de.jpg: ignoring corrupt image/label: Label class 1 exceeds dataset class count 1. Possible class labels are 0-0\n",
            "\u001b[34m\u001b[1mtrain: \u001b[0mWARNING ⚠️ /content/Pineapple Ripeness Detection.v3i.yolov8/train/images/images245_jpg.rf.f6ff4da0958e9b5cfdb0a1ac3dc226a7.jpg: ignoring corrupt image/label: Label class 1 exceeds dataset class count 1. Possible class labels are 0-0\n",
            "\u001b[34m\u001b[1mtrain: \u001b[0mWARNING ⚠️ /content/Pineapple Ripeness Detection.v3i.yolov8/train/images/images251_jpg.rf.74b576d6f9e776c593cb05c908e3243f.jpg: ignoring corrupt image/label: Label class 1 exceeds dataset class count 1. Possible class labels are 0-0\n",
            "\u001b[34m\u001b[1mtrain: \u001b[0mWARNING ⚠️ /content/Pineapple Ripeness Detection.v3i.yolov8/train/images/images251_jpg.rf.870bb8bcfc653da847f45a731eb0b0b7.jpg: ignoring corrupt image/label: Label class 1 exceeds dataset class count 1. Possible class labels are 0-0\n",
            "\u001b[34m\u001b[1mtrain: \u001b[0mWARNING ⚠️ /content/Pineapple Ripeness Detection.v3i.yolov8/train/images/images251_jpg.rf.8a44de5b7286536597964c8c09f91f63.jpg: ignoring corrupt image/label: Label class 1 exceeds dataset class count 1. Possible class labels are 0-0\n",
            "\u001b[34m\u001b[1mtrain: \u001b[0mWARNING ⚠️ /content/Pineapple Ripeness Detection.v3i.yolov8/train/images/images267_jpg.rf.320c4e1b431d07ca4bbd620b335dba04.jpg: ignoring corrupt image/label: Label class 1 exceeds dataset class count 1. Possible class labels are 0-0\n",
            "\u001b[34m\u001b[1mtrain: \u001b[0mWARNING ⚠️ /content/Pineapple Ripeness Detection.v3i.yolov8/train/images/images267_jpg.rf.4cbc2706cf68e1e967624c49cf9b4912.jpg: ignoring corrupt image/label: Label class 1 exceeds dataset class count 1. Possible class labels are 0-0\n",
            "\u001b[34m\u001b[1mtrain: \u001b[0mWARNING ⚠️ /content/Pineapple Ripeness Detection.v3i.yolov8/train/images/images267_jpg.rf.ce033f0523eaafbb904028273ad042b2.jpg: ignoring corrupt image/label: Label class 1 exceeds dataset class count 1. Possible class labels are 0-0\n",
            "\u001b[34m\u001b[1mtrain: \u001b[0mWARNING ⚠️ /content/Pineapple Ripeness Detection.v3i.yolov8/train/images/images275_jpg.rf.a0331d53d24f43cb690aaaf1c4fcccd2.jpg: ignoring corrupt image/label: Label class 1 exceeds dataset class count 1. Possible class labels are 0-0\n",
            "\u001b[34m\u001b[1mtrain: \u001b[0mWARNING ⚠️ /content/Pineapple Ripeness Detection.v3i.yolov8/train/images/images275_jpg.rf.ab7382d86e98e81f33478225ff85b985.jpg: ignoring corrupt image/label: Label class 1 exceeds dataset class count 1. Possible class labels are 0-0\n",
            "\u001b[34m\u001b[1mtrain: \u001b[0mWARNING ⚠️ /content/Pineapple Ripeness Detection.v3i.yolov8/train/images/images275_jpg.rf.fba50da1ab995098b707673f74adb92f.jpg: ignoring corrupt image/label: Label class 1 exceeds dataset class count 1. Possible class labels are 0-0\n",
            "\u001b[34m\u001b[1mtrain: \u001b[0mWARNING ⚠️ /content/Pineapple Ripeness Detection.v3i.yolov8/train/images/images279_jpg.rf.2de37c596172aa29573eee38d84f02d1.jpg: ignoring corrupt image/label: Label class 1 exceeds dataset class count 1. Possible class labels are 0-0\n",
            "\u001b[34m\u001b[1mtrain: \u001b[0mWARNING ⚠️ /content/Pineapple Ripeness Detection.v3i.yolov8/train/images/images279_jpg.rf.b8c552c8a7fa84c5a0663ce697268429.jpg: ignoring corrupt image/label: Label class 1 exceeds dataset class count 1. Possible class labels are 0-0\n",
            "\u001b[34m\u001b[1mtrain: \u001b[0mWARNING ⚠️ /content/Pineapple Ripeness Detection.v3i.yolov8/train/images/images279_jpg.rf.c52d85c2a686f26c4719761ead7a76d7.jpg: ignoring corrupt image/label: Label class 1 exceeds dataset class count 1. Possible class labels are 0-0\n",
            "\u001b[34m\u001b[1mtrain: \u001b[0mWARNING ⚠️ /content/Pineapple Ripeness Detection.v3i.yolov8/train/images/images285_jpg.rf.03b61c3bdac52a37f18250af8148ce60.jpg: ignoring corrupt image/label: Label class 1 exceeds dataset class count 1. Possible class labels are 0-0\n",
            "\u001b[34m\u001b[1mtrain: \u001b[0mWARNING ⚠️ /content/Pineapple Ripeness Detection.v3i.yolov8/train/images/images285_jpg.rf.19b5c71c9dd0ec4d0fc40ef82e33ac9c.jpg: ignoring corrupt image/label: Label class 1 exceeds dataset class count 1. Possible class labels are 0-0\n",
            "\u001b[34m\u001b[1mtrain: \u001b[0mWARNING ⚠️ /content/Pineapple Ripeness Detection.v3i.yolov8/train/images/images285_jpg.rf.1d875fa338589ca83e696eee47281ddb.jpg: ignoring corrupt image/label: Label class 1 exceeds dataset class count 1. Possible class labels are 0-0\n",
            "\u001b[34m\u001b[1mtrain: \u001b[0mWARNING ⚠️ /content/Pineapple Ripeness Detection.v3i.yolov8/train/images/images288_jpg.rf.84502d49e0929bc7bba3558b8d15e38f.jpg: ignoring corrupt image/label: Label class 1 exceeds dataset class count 1. Possible class labels are 0-0\n",
            "\u001b[34m\u001b[1mtrain: \u001b[0mWARNING ⚠️ /content/Pineapple Ripeness Detection.v3i.yolov8/train/images/images288_jpg.rf.bacea8f630aadcbe93fba7e93724de89.jpg: ignoring corrupt image/label: Label class 1 exceeds dataset class count 1. Possible class labels are 0-0\n",
            "\u001b[34m\u001b[1mtrain: \u001b[0mWARNING ⚠️ /content/Pineapple Ripeness Detection.v3i.yolov8/train/images/images288_jpg.rf.eef8b18742bf11d2e1220b838e9f92a7.jpg: ignoring corrupt image/label: Label class 1 exceeds dataset class count 1. Possible class labels are 0-0\n",
            "\u001b[34m\u001b[1mtrain: \u001b[0mWARNING ⚠️ /content/Pineapple Ripeness Detection.v3i.yolov8/train/images/images300_jpg.rf.ddd2944d5ce2b46ef397b5dc35f49b28.jpg: ignoring corrupt image/label: Label class 1 exceeds dataset class count 1. Possible class labels are 0-0\n",
            "\u001b[34m\u001b[1mtrain: \u001b[0mWARNING ⚠️ /content/Pineapple Ripeness Detection.v3i.yolov8/train/images/images300_jpg.rf.eccb49bd491a22671c4a17a1fdae91b2.jpg: ignoring corrupt image/label: Label class 1 exceeds dataset class count 1. Possible class labels are 0-0\n",
            "\u001b[34m\u001b[1mtrain: \u001b[0mWARNING ⚠️ /content/Pineapple Ripeness Detection.v3i.yolov8/train/images/images300_jpg.rf.fb911716a9b74fd37c279f4b12467e3d.jpg: ignoring corrupt image/label: Label class 1 exceeds dataset class count 1. Possible class labels are 0-0\n",
            "\u001b[34m\u001b[1mtrain: \u001b[0mWARNING ⚠️ /content/Pineapple Ripeness Detection.v3i.yolov8/train/images/images301_jpg.rf.9246428bea75b47755e8a115f6f3dc09.jpg: ignoring corrupt image/label: Label class 1 exceeds dataset class count 1. Possible class labels are 0-0\n",
            "\u001b[34m\u001b[1mtrain: \u001b[0mWARNING ⚠️ /content/Pineapple Ripeness Detection.v3i.yolov8/train/images/images301_jpg.rf.b581ce711b48d5e4235904d4394fad46.jpg: ignoring corrupt image/label: Label class 1 exceeds dataset class count 1. Possible class labels are 0-0\n",
            "\u001b[34m\u001b[1mtrain: \u001b[0mWARNING ⚠️ /content/Pineapple Ripeness Detection.v3i.yolov8/train/images/images301_jpg.rf.dc6eb23de47eafe01f836e121f92f0ec.jpg: ignoring corrupt image/label: Label class 1 exceeds dataset class count 1. Possible class labels are 0-0\n",
            "\u001b[34m\u001b[1mtrain: \u001b[0mWARNING ⚠️ /content/Pineapple Ripeness Detection.v3i.yolov8/train/images/images310_jpg.rf.58c2b87efafb9c2b5378c8b069011cee.jpg: ignoring corrupt image/label: Label class 1 exceeds dataset class count 1. Possible class labels are 0-0\n",
            "\u001b[34m\u001b[1mtrain: \u001b[0mWARNING ⚠️ /content/Pineapple Ripeness Detection.v3i.yolov8/train/images/images310_jpg.rf.dd46f59752af72c378045883b263758f.jpg: ignoring corrupt image/label: Label class 1 exceeds dataset class count 1. Possible class labels are 0-0\n",
            "\u001b[34m\u001b[1mtrain: \u001b[0mWARNING ⚠️ /content/Pineapple Ripeness Detection.v3i.yolov8/train/images/images310_jpg.rf.ee2ddbba9b4680a46827dfa1be6c6200.jpg: ignoring corrupt image/label: Label class 1 exceeds dataset class count 1. Possible class labels are 0-0\n",
            "\u001b[34m\u001b[1mtrain: \u001b[0mWARNING ⚠️ /content/Pineapple Ripeness Detection.v3i.yolov8/train/images/images326_jpg.rf.0656715b72b66366602b56fb28b29532.jpg: ignoring corrupt image/label: Label class 1 exceeds dataset class count 1. Possible class labels are 0-0\n",
            "\u001b[34m\u001b[1mtrain: \u001b[0mWARNING ⚠️ /content/Pineapple Ripeness Detection.v3i.yolov8/train/images/images326_jpg.rf.3128d15da09f9f425a90c82867f020c6.jpg: ignoring corrupt image/label: Label class 1 exceeds dataset class count 1. Possible class labels are 0-0\n",
            "\u001b[34m\u001b[1mtrain: \u001b[0mWARNING ⚠️ /content/Pineapple Ripeness Detection.v3i.yolov8/train/images/images326_jpg.rf.fe40ebc8f47c77873cd6b74cd39d1f64.jpg: ignoring corrupt image/label: Label class 1 exceeds dataset class count 1. Possible class labels are 0-0\n",
            "\u001b[34m\u001b[1mtrain: \u001b[0mWARNING ⚠️ /content/Pineapple Ripeness Detection.v3i.yolov8/train/images/images327_jpg.rf.a0cd79424a48df03ecd0486cbc045be3.jpg: ignoring corrupt image/label: Label class 1 exceeds dataset class count 1. Possible class labels are 0-0\n",
            "\u001b[34m\u001b[1mtrain: \u001b[0mWARNING ⚠️ /content/Pineapple Ripeness Detection.v3i.yolov8/train/images/images327_jpg.rf.d2670777b665a7daad2a326fe1d88c6f.jpg: ignoring corrupt image/label: Label class 1 exceeds dataset class count 1. Possible class labels are 0-0\n",
            "\u001b[34m\u001b[1mtrain: \u001b[0mWARNING ⚠️ /content/Pineapple Ripeness Detection.v3i.yolov8/train/images/images327_jpg.rf.f7c288287dcf7840b22acf7eb93bc238.jpg: ignoring corrupt image/label: Label class 1 exceeds dataset class count 1. Possible class labels are 0-0\n",
            "\u001b[34m\u001b[1mtrain: \u001b[0mWARNING ⚠️ /content/Pineapple Ripeness Detection.v3i.yolov8/train/images/images329_jpg.rf.496ef3e5e91bb5de4bfbcdb4a9a293d1.jpg: ignoring corrupt image/label: Label class 1 exceeds dataset class count 1. Possible class labels are 0-0\n",
            "\u001b[34m\u001b[1mtrain: \u001b[0mWARNING ⚠️ /content/Pineapple Ripeness Detection.v3i.yolov8/train/images/images329_jpg.rf.546db3ff6ccd746a673ac3f26384a6af.jpg: ignoring corrupt image/label: Label class 1 exceeds dataset class count 1. Possible class labels are 0-0\n",
            "\u001b[34m\u001b[1mtrain: \u001b[0mWARNING ⚠️ /content/Pineapple Ripeness Detection.v3i.yolov8/train/images/images329_jpg.rf.d982541f737c569d9aa589fc857142f1.jpg: ignoring corrupt image/label: Label class 1 exceeds dataset class count 1. Possible class labels are 0-0\n",
            "\u001b[34m\u001b[1mtrain: \u001b[0mWARNING ⚠️ /content/Pineapple Ripeness Detection.v3i.yolov8/train/images/images331_jpg.rf.82595c1e78fa012b748fcdf50021ee19.jpg: ignoring corrupt image/label: Label class 1 exceeds dataset class count 1. Possible class labels are 0-0\n",
            "\u001b[34m\u001b[1mtrain: \u001b[0mWARNING ⚠️ /content/Pineapple Ripeness Detection.v3i.yolov8/train/images/images331_jpg.rf.c3f7c10da33fb1c8e45cbfcf9c4c3abf.jpg: ignoring corrupt image/label: Label class 1 exceeds dataset class count 1. Possible class labels are 0-0\n",
            "\u001b[34m\u001b[1mtrain: \u001b[0mWARNING ⚠️ /content/Pineapple Ripeness Detection.v3i.yolov8/train/images/images331_jpg.rf.ec77bb9a1c7f431059e1d5e4ef5bb558.jpg: ignoring corrupt image/label: Label class 1 exceeds dataset class count 1. Possible class labels are 0-0\n",
            "\u001b[34m\u001b[1mtrain: \u001b[0mWARNING ⚠️ /content/Pineapple Ripeness Detection.v3i.yolov8/train/images/images333_jpg.rf.8ad421b75efa529072abb97928caebac.jpg: ignoring corrupt image/label: Label class 1 exceeds dataset class count 1. Possible class labels are 0-0\n",
            "\u001b[34m\u001b[1mtrain: \u001b[0mWARNING ⚠️ /content/Pineapple Ripeness Detection.v3i.yolov8/train/images/images333_jpg.rf.a6eda9e7cfd750cb59aa696c0e6a88bd.jpg: ignoring corrupt image/label: Label class 1 exceeds dataset class count 1. Possible class labels are 0-0\n",
            "\u001b[34m\u001b[1mtrain: \u001b[0mWARNING ⚠️ /content/Pineapple Ripeness Detection.v3i.yolov8/train/images/images333_jpg.rf.b0190cb48230e6ac5d37c2fa5e07fd35.jpg: ignoring corrupt image/label: Label class 1 exceeds dataset class count 1. Possible class labels are 0-0\n",
            "\u001b[34m\u001b[1mtrain: \u001b[0mWARNING ⚠️ /content/Pineapple Ripeness Detection.v3i.yolov8/train/images/images33_jpg.rf.1a3ed98a3e711b9fc5a131f710111883.jpg: ignoring corrupt image/label: Label class 1 exceeds dataset class count 1. Possible class labels are 0-0\n",
            "\u001b[34m\u001b[1mtrain: \u001b[0mWARNING ⚠️ /content/Pineapple Ripeness Detection.v3i.yolov8/train/images/images33_jpg.rf.3de2dfc5d2d0b620cc16bfdfe42fe802.jpg: ignoring corrupt image/label: Label class 1 exceeds dataset class count 1. Possible class labels are 0-0\n",
            "\u001b[34m\u001b[1mtrain: \u001b[0mWARNING ⚠️ /content/Pineapple Ripeness Detection.v3i.yolov8/train/images/images33_jpg.rf.cd576b4b8a2193a0a08c5feb3ee1c714.jpg: ignoring corrupt image/label: Label class 1 exceeds dataset class count 1. Possible class labels are 0-0\n",
            "\u001b[34m\u001b[1mtrain: \u001b[0mWARNING ⚠️ /content/Pineapple Ripeness Detection.v3i.yolov8/train/images/images342_jpg.rf.8d4466f010c953970a01450ab7bf2b00.jpg: ignoring corrupt image/label: Label class 1 exceeds dataset class count 1. Possible class labels are 0-0\n",
            "\u001b[34m\u001b[1mtrain: \u001b[0mWARNING ⚠️ /content/Pineapple Ripeness Detection.v3i.yolov8/train/images/images342_jpg.rf.f206622558674b9168c7553506fccb92.jpg: ignoring corrupt image/label: Label class 1 exceeds dataset class count 1. Possible class labels are 0-0\n",
            "\u001b[34m\u001b[1mtrain: \u001b[0mWARNING ⚠️ /content/Pineapple Ripeness Detection.v3i.yolov8/train/images/images342_jpg.rf.ffc65ea8617adaa69a57a45e5628fffe.jpg: ignoring corrupt image/label: Label class 1 exceeds dataset class count 1. Possible class labels are 0-0\n",
            "\u001b[34m\u001b[1mtrain: \u001b[0mWARNING ⚠️ /content/Pineapple Ripeness Detection.v3i.yolov8/train/images/images348_jpg.rf.2f14014ce50a8b78b3e6d44ce80085e2.jpg: ignoring corrupt image/label: Label class 1 exceeds dataset class count 1. Possible class labels are 0-0\n",
            "\u001b[34m\u001b[1mtrain: \u001b[0mWARNING ⚠️ /content/Pineapple Ripeness Detection.v3i.yolov8/train/images/images348_jpg.rf.d59739b1956f24075be336933c17d7f2.jpg: ignoring corrupt image/label: Label class 1 exceeds dataset class count 1. Possible class labels are 0-0\n",
            "\u001b[34m\u001b[1mtrain: \u001b[0mWARNING ⚠️ /content/Pineapple Ripeness Detection.v3i.yolov8/train/images/images348_jpg.rf.eb804c4b517b88623cfc47c6da5c76f3.jpg: ignoring corrupt image/label: Label class 1 exceeds dataset class count 1. Possible class labels are 0-0\n",
            "\u001b[34m\u001b[1mtrain: \u001b[0mWARNING ⚠️ /content/Pineapple Ripeness Detection.v3i.yolov8/train/images/images367_jpg.rf.00d43764ce2528138565c28f583e58c7.jpg: ignoring corrupt image/label: Label class 1 exceeds dataset class count 1. Possible class labels are 0-0\n",
            "\u001b[34m\u001b[1mtrain: \u001b[0mWARNING ⚠️ /content/Pineapple Ripeness Detection.v3i.yolov8/train/images/images367_jpg.rf.4feeb0d41c15fdabaeb39b3682ef1262.jpg: ignoring corrupt image/label: Label class 1 exceeds dataset class count 1. Possible class labels are 0-0\n",
            "\u001b[34m\u001b[1mtrain: \u001b[0mWARNING ⚠️ /content/Pineapple Ripeness Detection.v3i.yolov8/train/images/images367_jpg.rf.d0ba2f13c99651fe83020b84e60d6e95.jpg: ignoring corrupt image/label: Label class 1 exceeds dataset class count 1. Possible class labels are 0-0\n",
            "\u001b[34m\u001b[1mtrain: \u001b[0mWARNING ⚠️ /content/Pineapple Ripeness Detection.v3i.yolov8/train/images/images368_jpg.rf.8fe638c7e5f16dae2197bb0fccc845d9.jpg: ignoring corrupt image/label: Label class 1 exceeds dataset class count 1. Possible class labels are 0-0\n",
            "\u001b[34m\u001b[1mtrain: \u001b[0mWARNING ⚠️ /content/Pineapple Ripeness Detection.v3i.yolov8/train/images/images368_jpg.rf.b0355e892e58dd51160b20da1d4639fc.jpg: ignoring corrupt image/label: Label class 1 exceeds dataset class count 1. Possible class labels are 0-0\n",
            "\u001b[34m\u001b[1mtrain: \u001b[0mWARNING ⚠️ /content/Pineapple Ripeness Detection.v3i.yolov8/train/images/images368_jpg.rf.b29840655a74cdc4c1a66b1895842d3e.jpg: ignoring corrupt image/label: Label class 1 exceeds dataset class count 1. Possible class labels are 0-0\n",
            "\u001b[34m\u001b[1mtrain: \u001b[0mWARNING ⚠️ /content/Pineapple Ripeness Detection.v3i.yolov8/train/images/images36_jpg.rf.387777a282e71eab6b1448ead89ab12b.jpg: ignoring corrupt image/label: Label class 1 exceeds dataset class count 1. Possible class labels are 0-0\n",
            "\u001b[34m\u001b[1mtrain: \u001b[0mWARNING ⚠️ /content/Pineapple Ripeness Detection.v3i.yolov8/train/images/images36_jpg.rf.6d5ac543a4e1cb31e0e0fb0b0dee4ff2.jpg: ignoring corrupt image/label: Label class 1 exceeds dataset class count 1. Possible class labels are 0-0\n",
            "\u001b[34m\u001b[1mtrain: \u001b[0mWARNING ⚠️ /content/Pineapple Ripeness Detection.v3i.yolov8/train/images/images36_jpg.rf.abdf39cb5b272a5d320d7aa1ac7660a7.jpg: ignoring corrupt image/label: Label class 1 exceeds dataset class count 1. Possible class labels are 0-0\n",
            "\u001b[34m\u001b[1mtrain: \u001b[0mWARNING ⚠️ /content/Pineapple Ripeness Detection.v3i.yolov8/train/images/images388_jpg.rf.40521430385676bb5745a942faaf3c14.jpg: ignoring corrupt image/label: Label class 1 exceeds dataset class count 1. Possible class labels are 0-0\n",
            "\u001b[34m\u001b[1mtrain: \u001b[0mWARNING ⚠️ /content/Pineapple Ripeness Detection.v3i.yolov8/train/images/images388_jpg.rf.67b01a28013d85b7083bce552fdc0ead.jpg: ignoring corrupt image/label: Label class 1 exceeds dataset class count 1. Possible class labels are 0-0\n",
            "\u001b[34m\u001b[1mtrain: \u001b[0mWARNING ⚠️ /content/Pineapple Ripeness Detection.v3i.yolov8/train/images/images388_jpg.rf.91902c50f3f8c557734b6a588f9577ee.jpg: ignoring corrupt image/label: Label class 1 exceeds dataset class count 1. Possible class labels are 0-0\n",
            "\u001b[34m\u001b[1mtrain: \u001b[0mWARNING ⚠️ /content/Pineapple Ripeness Detection.v3i.yolov8/train/images/images392_jpg.rf.40929446bb31c1a6be378c52a6be78f8.jpg: ignoring corrupt image/label: Label class 1 exceeds dataset class count 1. Possible class labels are 0-0\n",
            "\u001b[34m\u001b[1mtrain: \u001b[0mWARNING ⚠️ /content/Pineapple Ripeness Detection.v3i.yolov8/train/images/images392_jpg.rf.7e33863368a984078855291f6b468574.jpg: ignoring corrupt image/label: Label class 1 exceeds dataset class count 1. Possible class labels are 0-0\n",
            "\u001b[34m\u001b[1mtrain: \u001b[0mWARNING ⚠️ /content/Pineapple Ripeness Detection.v3i.yolov8/train/images/images392_jpg.rf.8952f6593396a8725db3cd1540973a8b.jpg: ignoring corrupt image/label: Label class 1 exceeds dataset class count 1. Possible class labels are 0-0\n",
            "\u001b[34m\u001b[1mtrain: \u001b[0mWARNING ⚠️ /content/Pineapple Ripeness Detection.v3i.yolov8/train/images/images395_jpg.rf.01a8fb57f73e1e4b4e2bd963f8856d3f.jpg: ignoring corrupt image/label: Label class 1 exceeds dataset class count 1. Possible class labels are 0-0\n",
            "\u001b[34m\u001b[1mtrain: \u001b[0mWARNING ⚠️ /content/Pineapple Ripeness Detection.v3i.yolov8/train/images/images395_jpg.rf.2d7cd77bf63ae0d7ffe43c2221b5e8e7.jpg: ignoring corrupt image/label: Label class 1 exceeds dataset class count 1. Possible class labels are 0-0\n",
            "\u001b[34m\u001b[1mtrain: \u001b[0mWARNING ⚠️ /content/Pineapple Ripeness Detection.v3i.yolov8/train/images/images395_jpg.rf.d74a9d761975a080ee68db23737cb2a9.jpg: ignoring corrupt image/label: Label class 1 exceeds dataset class count 1. Possible class labels are 0-0\n",
            "\u001b[34m\u001b[1mtrain: \u001b[0mWARNING ⚠️ /content/Pineapple Ripeness Detection.v3i.yolov8/train/images/images54_jpg.rf.24159a9dfc434c713db11a3bb526ab7f.jpg: ignoring corrupt image/label: Label class 1 exceeds dataset class count 1. Possible class labels are 0-0\n",
            "\u001b[34m\u001b[1mtrain: \u001b[0mWARNING ⚠️ /content/Pineapple Ripeness Detection.v3i.yolov8/train/images/images54_jpg.rf.4b1428ba1a20ff1e8ecf782f826a67b1.jpg: ignoring corrupt image/label: Label class 1 exceeds dataset class count 1. Possible class labels are 0-0\n",
            "\u001b[34m\u001b[1mtrain: \u001b[0mWARNING ⚠️ /content/Pineapple Ripeness Detection.v3i.yolov8/train/images/images54_jpg.rf.f88b4f478e564e205990a06ed7b862bc.jpg: ignoring corrupt image/label: Label class 1 exceeds dataset class count 1. Possible class labels are 0-0\n",
            "\u001b[34m\u001b[1mtrain: \u001b[0mWARNING ⚠️ /content/Pineapple Ripeness Detection.v3i.yolov8/train/images/images60_jpg.rf.76cddaea6629b6780459ba09356d0d92.jpg: ignoring corrupt image/label: Label class 1 exceeds dataset class count 1. Possible class labels are 0-0\n",
            "\u001b[34m\u001b[1mtrain: \u001b[0mWARNING ⚠️ /content/Pineapple Ripeness Detection.v3i.yolov8/train/images/images60_jpg.rf.ba5372c8a54a1fc5c241595d9456992b.jpg: ignoring corrupt image/label: Label class 1 exceeds dataset class count 1. Possible class labels are 0-0\n",
            "\u001b[34m\u001b[1mtrain: \u001b[0mWARNING ⚠️ /content/Pineapple Ripeness Detection.v3i.yolov8/train/images/images60_jpg.rf.e4f3b109201d1527e144188d1efcd829.jpg: ignoring corrupt image/label: Label class 1 exceeds dataset class count 1. Possible class labels are 0-0\n",
            "\u001b[34m\u001b[1mtrain: \u001b[0mWARNING ⚠️ /content/Pineapple Ripeness Detection.v3i.yolov8/train/images/images62_jpg.rf.339f18e98d293108ef13d74c6182e501.jpg: ignoring corrupt image/label: Label class 1 exceeds dataset class count 1. Possible class labels are 0-0\n",
            "\u001b[34m\u001b[1mtrain: \u001b[0mWARNING ⚠️ /content/Pineapple Ripeness Detection.v3i.yolov8/train/images/images62_jpg.rf.a6ac3dcff64067e17bad9bfd24180ab4.jpg: ignoring corrupt image/label: Label class 1 exceeds dataset class count 1. Possible class labels are 0-0\n",
            "\u001b[34m\u001b[1mtrain: \u001b[0mWARNING ⚠️ /content/Pineapple Ripeness Detection.v3i.yolov8/train/images/images62_jpg.rf.e29aec89d442c8bea70ee55a6753fb96.jpg: ignoring corrupt image/label: Label class 1 exceeds dataset class count 1. Possible class labels are 0-0\n",
            "\u001b[34m\u001b[1mtrain: \u001b[0mWARNING ⚠️ /content/Pineapple Ripeness Detection.v3i.yolov8/train/images/images66_jpg.rf.04a6afb544cb30395bb0c97cdd3f014b.jpg: ignoring corrupt image/label: Label class 1 exceeds dataset class count 1. Possible class labels are 0-0\n",
            "\u001b[34m\u001b[1mtrain: \u001b[0mWARNING ⚠️ /content/Pineapple Ripeness Detection.v3i.yolov8/train/images/images66_jpg.rf.17360a3be92f4911421c91ad6b7cc645.jpg: ignoring corrupt image/label: Label class 1 exceeds dataset class count 1. Possible class labels are 0-0\n",
            "\u001b[34m\u001b[1mtrain: \u001b[0mWARNING ⚠️ /content/Pineapple Ripeness Detection.v3i.yolov8/train/images/images66_jpg.rf.47e8674e8a6bef9a0ecb86b53a2a01c1.jpg: ignoring corrupt image/label: Label class 1 exceeds dataset class count 1. Possible class labels are 0-0\n",
            "\u001b[34m\u001b[1mtrain: \u001b[0mWARNING ⚠️ /content/Pineapple Ripeness Detection.v3i.yolov8/train/images/images69_jpg.rf.904388d57b30dac40d2aa5642e39f9c3.jpg: ignoring corrupt image/label: Label class 1 exceeds dataset class count 1. Possible class labels are 0-0\n",
            "\u001b[34m\u001b[1mtrain: \u001b[0mWARNING ⚠️ /content/Pineapple Ripeness Detection.v3i.yolov8/train/images/images69_jpg.rf.d08ad66e21bc8b39ec892f991695f074.jpg: ignoring corrupt image/label: Label class 1 exceeds dataset class count 1. Possible class labels are 0-0\n",
            "\u001b[34m\u001b[1mtrain: \u001b[0mWARNING ⚠️ /content/Pineapple Ripeness Detection.v3i.yolov8/train/images/images69_jpg.rf.f7271e8cab6ec05c156a47b864ce42de.jpg: ignoring corrupt image/label: Label class 1 exceeds dataset class count 1. Possible class labels are 0-0\n",
            "\u001b[34m\u001b[1mtrain: \u001b[0mWARNING ⚠️ /content/Pineapple Ripeness Detection.v3i.yolov8/train/images/images75_jpg.rf.1d6281ba3645b4a238632ce8a1a1c478.jpg: ignoring corrupt image/label: Label class 1 exceeds dataset class count 1. Possible class labels are 0-0\n",
            "\u001b[34m\u001b[1mtrain: \u001b[0mWARNING ⚠️ /content/Pineapple Ripeness Detection.v3i.yolov8/train/images/images75_jpg.rf.68a609d8231b4a853a2137c4037e17e3.jpg: ignoring corrupt image/label: Label class 1 exceeds dataset class count 1. Possible class labels are 0-0\n",
            "\u001b[34m\u001b[1mtrain: \u001b[0mWARNING ⚠️ /content/Pineapple Ripeness Detection.v3i.yolov8/train/images/images75_jpg.rf.f9aeba40a1a485ab519683d47be05568.jpg: ignoring corrupt image/label: Label class 1 exceeds dataset class count 1. Possible class labels are 0-0\n",
            "\u001b[34m\u001b[1mtrain: \u001b[0mWARNING ⚠️ /content/Pineapple Ripeness Detection.v3i.yolov8/train/images/images83_jpg.rf.683dcaa44636fdc40b4464fde4ff9595.jpg: ignoring corrupt image/label: Label class 1 exceeds dataset class count 1. Possible class labels are 0-0\n",
            "\u001b[34m\u001b[1mtrain: \u001b[0mWARNING ⚠️ /content/Pineapple Ripeness Detection.v3i.yolov8/train/images/images83_jpg.rf.af6c268f81fb9da8ee90aab835bc1fbd.jpg: ignoring corrupt image/label: Label class 1 exceeds dataset class count 1. Possible class labels are 0-0\n",
            "\u001b[34m\u001b[1mtrain: \u001b[0mWARNING ⚠️ /content/Pineapple Ripeness Detection.v3i.yolov8/train/images/images83_jpg.rf.cd4e4bf47d633311b520d3ba3b8a4ea2.jpg: ignoring corrupt image/label: Label class 1 exceeds dataset class count 1. Possible class labels are 0-0\n",
            "\u001b[34m\u001b[1mtrain: \u001b[0mWARNING ⚠️ /content/Pineapple Ripeness Detection.v3i.yolov8/train/images/images90_jpg.rf.341c1bbd2bd03c8f349b58cdd112fc4d.jpg: ignoring corrupt image/label: Label class 1 exceeds dataset class count 1. Possible class labels are 0-0\n",
            "\u001b[34m\u001b[1mtrain: \u001b[0mWARNING ⚠️ /content/Pineapple Ripeness Detection.v3i.yolov8/train/images/images90_jpg.rf.c525cbc2da0b29e02c455aacc9df7431.jpg: ignoring corrupt image/label: Label class 1 exceeds dataset class count 1. Possible class labels are 0-0\n",
            "\u001b[34m\u001b[1mtrain: \u001b[0mWARNING ⚠️ /content/Pineapple Ripeness Detection.v3i.yolov8/train/images/images90_jpg.rf.d77b1bf37fce719d272227f0c4797b17.jpg: ignoring corrupt image/label: Label class 1 exceeds dataset class count 1. Possible class labels are 0-0\n",
            "\u001b[34m\u001b[1mtrain: \u001b[0mWARNING ⚠️ /content/Pineapple Ripeness Detection.v3i.yolov8/train/images/pineapple-harvest_jpg.rf.04969b8ff3a3c427f6fb5b776eef933e.jpg: ignoring corrupt image/label: Label class 1 exceeds dataset class count 1. Possible class labels are 0-0\n",
            "\u001b[34m\u001b[1mtrain: \u001b[0mWARNING ⚠️ /content/Pineapple Ripeness Detection.v3i.yolov8/train/images/pineapple-harvest_jpg.rf.595e19f9b100e036abe24e454865144f.jpg: ignoring corrupt image/label: Label class 1 exceeds dataset class count 1. Possible class labels are 0-0\n",
            "\u001b[34m\u001b[1mtrain: \u001b[0mWARNING ⚠️ /content/Pineapple Ripeness Detection.v3i.yolov8/train/images/pineapple-harvest_jpg.rf.d3bac43b3f92336a694bbc48e792ac15.jpg: ignoring corrupt image/label: Label class 1 exceeds dataset class count 1. Possible class labels are 0-0\n",
            "\u001b[34m\u001b[1malbumentations: \u001b[0mBlur(p=0.01, blur_limit=(3, 7)), MedianBlur(p=0.01, blur_limit=(3, 7)), ToGray(p=0.01, num_output_channels=3, method='weighted_average'), CLAHE(p=0.01, clip_limit=(1.0, 4.0), tile_grid_size=(8, 8))\n"
          ]
        },
        {
          "output_type": "stream",
          "name": "stderr",
          "text": [
            "\n"
          ]
        },
        {
          "output_type": "stream",
          "name": "stdout",
          "text": [
            "\u001b[34m\u001b[1mval: \u001b[0mFast image access ✅ (ping: 0.0±0.0 ms, read: 430.4±129.1 MB/s, size: 65.1 KB)\n"
          ]
        },
        {
          "output_type": "stream",
          "name": "stderr",
          "text": [
            "\u001b[34m\u001b[1mval: \u001b[0mScanning /content/Pineapple Ripeness Detection.v3i.yolov8/valid/labels.cache... 143 images, 3 backgrounds, 61 corrupt: 100%|██████████| 143/143 [00:00<?, ?it/s]"
          ]
        },
        {
          "output_type": "stream",
          "name": "stdout",
          "text": [
            "\u001b[34m\u001b[1mval: \u001b[0mWARNING ⚠️ /content/Pineapple Ripeness Detection.v3i.yolov8/valid/images/82535-004-4C2AF7BA_jpg.rf.5130611ae818279831b214c4c438422e.jpg: ignoring corrupt image/label: Label class 1 exceeds dataset class count 1. Possible class labels are 0-0\n",
            "\u001b[34m\u001b[1mval: \u001b[0mWARNING ⚠️ /content/Pineapple Ripeness Detection.v3i.yolov8/valid/images/IMG_0877_JPG.rf.babba7672e3945bfcd4e0172231017ca.jpg: ignoring corrupt image/label: Label class 1 exceeds dataset class count 1. Possible class labels are 0-0\n",
            "\u001b[34m\u001b[1mval: \u001b[0mWARNING ⚠️ /content/Pineapple Ripeness Detection.v3i.yolov8/valid/images/IMG_0879_JPG.rf.eda0ee4f93c53145c32d204e9e29fd7b.jpg: ignoring corrupt image/label: Label class 1 exceeds dataset class count 1. Possible class labels are 0-0\n",
            "\u001b[34m\u001b[1mval: \u001b[0mWARNING ⚠️ /content/Pineapple Ripeness Detection.v3i.yolov8/valid/images/IMG_0880_JPG.rf.514e383eba80b5fa9d20b549b2d3da3e.jpg: ignoring corrupt image/label: Label class 1 exceeds dataset class count 1. Possible class labels are 0-0\n",
            "\u001b[34m\u001b[1mval: \u001b[0mWARNING ⚠️ /content/Pineapple Ripeness Detection.v3i.yolov8/valid/images/IMG_0882_JPG.rf.7511156abc9a3657fbfd908eac723e88.jpg: ignoring corrupt image/label: Label class 1 exceeds dataset class count 1. Possible class labels are 0-0\n",
            "\u001b[34m\u001b[1mval: \u001b[0mWARNING ⚠️ /content/Pineapple Ripeness Detection.v3i.yolov8/valid/images/IMG_0883_JPG.rf.28dd01a09d35bf799f8ce1776c9fbbe7.jpg: ignoring corrupt image/label: Label class 1 exceeds dataset class count 1. Possible class labels are 0-0\n",
            "\u001b[34m\u001b[1mval: \u001b[0mWARNING ⚠️ /content/Pineapple Ripeness Detection.v3i.yolov8/valid/images/IMG_0885_JPG.rf.64b7ee81e4092e3e651e1cf7ab8a40e8.jpg: ignoring corrupt image/label: Label class 1 exceeds dataset class count 1. Possible class labels are 0-0\n",
            "\u001b[34m\u001b[1mval: \u001b[0mWARNING ⚠️ /content/Pineapple Ripeness Detection.v3i.yolov8/valid/images/IMG_0887_JPG.rf.8d595ea059af96200c06aa23f33a0cbd.jpg: ignoring corrupt image/label: Label class 1 exceeds dataset class count 1. Possible class labels are 0-0\n",
            "\u001b[34m\u001b[1mval: \u001b[0mWARNING ⚠️ /content/Pineapple Ripeness Detection.v3i.yolov8/valid/images/IMG_0889_JPG.rf.e03342cc91abb7296ee269bd4453d5a9.jpg: ignoring corrupt image/label: Label class 1 exceeds dataset class count 1. Possible class labels are 0-0\n",
            "\u001b[34m\u001b[1mval: \u001b[0mWARNING ⚠️ /content/Pineapple Ripeness Detection.v3i.yolov8/valid/images/IMG_0892_JPG.rf.5928c9217375e34c1a760eb6eb094ef3.jpg: ignoring corrupt image/label: Label class 1 exceeds dataset class count 1. Possible class labels are 0-0\n",
            "\u001b[34m\u001b[1mval: \u001b[0mWARNING ⚠️ /content/Pineapple Ripeness Detection.v3i.yolov8/valid/images/IMG_0895_JPG.rf.eae6568816b4c809f034f71293466458.jpg: ignoring corrupt image/label: Label class 1 exceeds dataset class count 1. Possible class labels are 0-0\n",
            "\u001b[34m\u001b[1mval: \u001b[0mWARNING ⚠️ /content/Pineapple Ripeness Detection.v3i.yolov8/valid/images/IMG_0896_JPG.rf.fdb24425f12c68f6b4150fe69cae5ce5.jpg: ignoring corrupt image/label: Label class 1 exceeds dataset class count 1. Possible class labels are 0-0\n",
            "\u001b[34m\u001b[1mval: \u001b[0mWARNING ⚠️ /content/Pineapple Ripeness Detection.v3i.yolov8/valid/images/IMG_0899_JPG.rf.cba02502326e7e360715a5af59817a52.jpg: ignoring corrupt image/label: Label class 1 exceeds dataset class count 1. Possible class labels are 0-0\n",
            "\u001b[34m\u001b[1mval: \u001b[0mWARNING ⚠️ /content/Pineapple Ripeness Detection.v3i.yolov8/valid/images/IMG_0901_JPG.rf.84c1f1f691314237507461605bc17bc9.jpg: ignoring corrupt image/label: Label class 1 exceeds dataset class count 1. Possible class labels are 0-0\n",
            "\u001b[34m\u001b[1mval: \u001b[0mWARNING ⚠️ /content/Pineapple Ripeness Detection.v3i.yolov8/valid/images/IMG_0903_JPG.rf.e38e7940b43b0e94ac80c24cbb851f0e.jpg: ignoring corrupt image/label: Label class 1 exceeds dataset class count 1. Possible class labels are 0-0\n",
            "\u001b[34m\u001b[1mval: \u001b[0mWARNING ⚠️ /content/Pineapple Ripeness Detection.v3i.yolov8/valid/images/IMG_0907_JPG.rf.89596470b25883d453dfc8e8f151b38a.jpg: ignoring corrupt image/label: Label class 1 exceeds dataset class count 1. Possible class labels are 0-0\n",
            "\u001b[34m\u001b[1mval: \u001b[0mWARNING ⚠️ /content/Pineapple Ripeness Detection.v3i.yolov8/valid/images/IMG_0908_JPG.rf.c0e379dd3baeedf967258598193e6d46.jpg: ignoring corrupt image/label: Label class 1 exceeds dataset class count 1. Possible class labels are 0-0\n",
            "\u001b[34m\u001b[1mval: \u001b[0mWARNING ⚠️ /content/Pineapple Ripeness Detection.v3i.yolov8/valid/images/IMG_0910_JPG.rf.38f409aa129c5587e4a8045555e49274.jpg: ignoring corrupt image/label: Label class 1 exceeds dataset class count 1. Possible class labels are 0-0\n",
            "\u001b[34m\u001b[1mval: \u001b[0mWARNING ⚠️ /content/Pineapple Ripeness Detection.v3i.yolov8/valid/images/IMG_0912_JPG.rf.c6eb4d0e45dfc40a0a95a8f7397265bc.jpg: ignoring corrupt image/label: Label class 1 exceeds dataset class count 1. Possible class labels are 0-0\n",
            "\u001b[34m\u001b[1mval: \u001b[0mWARNING ⚠️ /content/Pineapple Ripeness Detection.v3i.yolov8/valid/images/IMG_0915_JPG.rf.bb874e4f31619b8fc5f58fa232548c7d.jpg: ignoring corrupt image/label: Label class 1 exceeds dataset class count 1. Possible class labels are 0-0\n",
            "\u001b[34m\u001b[1mval: \u001b[0mWARNING ⚠️ /content/Pineapple Ripeness Detection.v3i.yolov8/valid/images/IMG_0917_JPG.rf.a67882f0c1a9b93612bcbe0b30d52423.jpg: ignoring corrupt image/label: Label class 1 exceeds dataset class count 1. Possible class labels are 0-0\n",
            "\u001b[34m\u001b[1mval: \u001b[0mWARNING ⚠️ /content/Pineapple Ripeness Detection.v3i.yolov8/valid/images/IMG_0925_JPG.rf.f813fae7e342bf0cb1256171aa5cb31e.jpg: ignoring corrupt image/label: Label class 1 exceeds dataset class count 1. Possible class labels are 0-0\n",
            "\u001b[34m\u001b[1mval: \u001b[0mWARNING ⚠️ /content/Pineapple Ripeness Detection.v3i.yolov8/valid/images/IMG_0926_JPG.rf.96687911df4ebeb09ef97153349ae250.jpg: ignoring corrupt image/label: Label class 1 exceeds dataset class count 1. Possible class labels are 0-0\n",
            "\u001b[34m\u001b[1mval: \u001b[0mWARNING ⚠️ /content/Pineapple Ripeness Detection.v3i.yolov8/valid/images/IMG_0927_JPG.rf.10fa7b3342c249888fb7e916314249f7.jpg: ignoring corrupt image/label: Label class 1 exceeds dataset class count 1. Possible class labels are 0-0\n",
            "\u001b[34m\u001b[1mval: \u001b[0mWARNING ⚠️ /content/Pineapple Ripeness Detection.v3i.yolov8/valid/images/IMG_0930_JPG.rf.c2795b94a69e2051e1a1f67ff2b556cc.jpg: ignoring corrupt image/label: Label class 1 exceeds dataset class count 1. Possible class labels are 0-0\n",
            "\u001b[34m\u001b[1mval: \u001b[0mWARNING ⚠️ /content/Pineapple Ripeness Detection.v3i.yolov8/valid/images/IMG_0931_JPG.rf.f884618b279e63b24ca0290797231642.jpg: ignoring corrupt image/label: Label class 1 exceeds dataset class count 1. Possible class labels are 0-0\n",
            "\u001b[34m\u001b[1mval: \u001b[0mWARNING ⚠️ /content/Pineapple Ripeness Detection.v3i.yolov8/valid/images/IMG_0933_JPG.rf.7eb81044e1e2b17178699f4e331c0cda.jpg: ignoring corrupt image/label: Label class 1 exceeds dataset class count 1. Possible class labels are 0-0\n",
            "\u001b[34m\u001b[1mval: \u001b[0mWARNING ⚠️ /content/Pineapple Ripeness Detection.v3i.yolov8/valid/images/IMG_0938_JPG.rf.c6245809f66834f4de923487d700b743.jpg: ignoring corrupt image/label: Label class 1 exceeds dataset class count 1. Possible class labels are 0-0\n",
            "\u001b[34m\u001b[1mval: \u001b[0mWARNING ⚠️ /content/Pineapple Ripeness Detection.v3i.yolov8/valid/images/IMG_0940_JPG.rf.5284365b33749f5416109a4effda0adc.jpg: ignoring corrupt image/label: Label class 1 exceeds dataset class count 1. Possible class labels are 0-0\n",
            "\u001b[34m\u001b[1mval: \u001b[0mWARNING ⚠️ /content/Pineapple Ripeness Detection.v3i.yolov8/valid/images/IMG_0941_JPG.rf.24d8d8208bdd996311c1afbac2072b60.jpg: ignoring corrupt image/label: Label class 1 exceeds dataset class count 1. Possible class labels are 0-0\n",
            "\u001b[34m\u001b[1mval: \u001b[0mWARNING ⚠️ /content/Pineapple Ripeness Detection.v3i.yolov8/valid/images/IMG_0943_JPG.rf.087b8ed00e42a604dd9eb501dd47f30f.jpg: ignoring corrupt image/label: Label class 1 exceeds dataset class count 1. Possible class labels are 0-0\n",
            "\u001b[34m\u001b[1mval: \u001b[0mWARNING ⚠️ /content/Pineapple Ripeness Detection.v3i.yolov8/valid/images/IMG_0945_JPG.rf.51f8680f920e17e4eaa5e180afd4b994.jpg: ignoring corrupt image/label: Label class 1 exceeds dataset class count 1. Possible class labels are 0-0\n",
            "\u001b[34m\u001b[1mval: \u001b[0mWARNING ⚠️ /content/Pineapple Ripeness Detection.v3i.yolov8/valid/images/IMG_0946_JPG.rf.6d0336307311f9039a8585b13ae4403f.jpg: ignoring corrupt image/label: Label class 1 exceeds dataset class count 1. Possible class labels are 0-0\n",
            "\u001b[34m\u001b[1mval: \u001b[0mWARNING ⚠️ /content/Pineapple Ripeness Detection.v3i.yolov8/valid/images/IMG_0947_JPG.rf.0b7e5dbfa0b180c298c39b2e8e9f4f69.jpg: ignoring corrupt image/label: Label class 1 exceeds dataset class count 1. Possible class labels are 0-0\n",
            "\u001b[34m\u001b[1mval: \u001b[0mWARNING ⚠️ /content/Pineapple Ripeness Detection.v3i.yolov8/valid/images/IMG_0949_JPG.rf.24dda2b0c02cf8fea44cc9a566b6e321.jpg: ignoring corrupt image/label: Label class 1 exceeds dataset class count 1. Possible class labels are 0-0\n",
            "\u001b[34m\u001b[1mval: \u001b[0mWARNING ⚠️ /content/Pineapple Ripeness Detection.v3i.yolov8/valid/images/IMG_0953_JPG.rf.977578843b340cd335a0c27ea210eb70.jpg: ignoring corrupt image/label: Label class 1 exceeds dataset class count 1. Possible class labels are 0-0\n",
            "\u001b[34m\u001b[1mval: \u001b[0mWARNING ⚠️ /content/Pineapple Ripeness Detection.v3i.yolov8/valid/images/IMG_0958_JPG.rf.53beb8f51b2b12e43a74b0eacd746e22.jpg: ignoring corrupt image/label: Label class 1 exceeds dataset class count 1. Possible class labels are 0-0\n",
            "\u001b[34m\u001b[1mval: \u001b[0mWARNING ⚠️ /content/Pineapple Ripeness Detection.v3i.yolov8/valid/images/IMG_0959_JPG.rf.d2b8accb0fcf89d9b0d91a46cf91b685.jpg: ignoring corrupt image/label: Label class 1 exceeds dataset class count 1. Possible class labels are 0-0\n",
            "\u001b[34m\u001b[1mval: \u001b[0mWARNING ⚠️ /content/Pineapple Ripeness Detection.v3i.yolov8/valid/images/IMG_0960_JPG.rf.9ed7b003486ff858a912db8576a63341.jpg: ignoring corrupt image/label: Label class 1 exceeds dataset class count 1. Possible class labels are 0-0\n",
            "\u001b[34m\u001b[1mval: \u001b[0mWARNING ⚠️ /content/Pineapple Ripeness Detection.v3i.yolov8/valid/images/IMG_0963_JPG.rf.3a03a09e4abec0a81f481368e6cc2650.jpg: ignoring corrupt image/label: Label class 1 exceeds dataset class count 1. Possible class labels are 0-0\n",
            "\u001b[34m\u001b[1mval: \u001b[0mWARNING ⚠️ /content/Pineapple Ripeness Detection.v3i.yolov8/valid/images/IMG_0966_JPG.rf.4c7ac5a5541ae3138102d7395091b08a.jpg: ignoring corrupt image/label: Label class 1 exceeds dataset class count 1. Possible class labels are 0-0\n",
            "\u001b[34m\u001b[1mval: \u001b[0mWARNING ⚠️ /content/Pineapple Ripeness Detection.v3i.yolov8/valid/images/IMG_0968_JPG.rf.793017b79dffe14ef7bf8492b1b434ff.jpg: ignoring corrupt image/label: Label class 1 exceeds dataset class count 1. Possible class labels are 0-0\n",
            "\u001b[34m\u001b[1mval: \u001b[0mWARNING ⚠️ /content/Pineapple Ripeness Detection.v3i.yolov8/valid/images/IMG_0969_JPG.rf.1819781521411aa2820464d94accf5fe.jpg: ignoring corrupt image/label: Label class 1 exceeds dataset class count 1. Possible class labels are 0-0\n",
            "\u001b[34m\u001b[1mval: \u001b[0mWARNING ⚠️ /content/Pineapple Ripeness Detection.v3i.yolov8/valid/images/IMG_0974_JPG.rf.2145e71a5503a3493ca4416e50fa5cea.jpg: ignoring corrupt image/label: Label class 1 exceeds dataset class count 1. Possible class labels are 0-0\n",
            "\u001b[34m\u001b[1mval: \u001b[0mWARNING ⚠️ /content/Pineapple Ripeness Detection.v3i.yolov8/valid/images/IMG_0978_JPG.rf.f7d8f92a0d6d52931c78255a805989d6.jpg: ignoring corrupt image/label: Label class 1 exceeds dataset class count 1. Possible class labels are 0-0\n",
            "\u001b[34m\u001b[1mval: \u001b[0mWARNING ⚠️ /content/Pineapple Ripeness Detection.v3i.yolov8/valid/images/IMG_0983_JPG.rf.865a7bee2ca871bfd9cb3b630cf5c329.jpg: ignoring corrupt image/label: Label class 1 exceeds dataset class count 1. Possible class labels are 0-0\n",
            "\u001b[34m\u001b[1mval: \u001b[0mWARNING ⚠️ /content/Pineapple Ripeness Detection.v3i.yolov8/valid/images/IMG_0987_JPG.rf.508055a176d71663428c1b5f019a3289.jpg: ignoring corrupt image/label: Label class 1 exceeds dataset class count 1. Possible class labels are 0-0\n",
            "\u001b[34m\u001b[1mval: \u001b[0mWARNING ⚠️ /content/Pineapple Ripeness Detection.v3i.yolov8/valid/images/IMG_0989_JPG.rf.8a31725e656e6948abaf6afffdfc20d3.jpg: ignoring corrupt image/label: Label class 1 exceeds dataset class count 1. Possible class labels are 0-0\n",
            "\u001b[34m\u001b[1mval: \u001b[0mWARNING ⚠️ /content/Pineapple Ripeness Detection.v3i.yolov8/valid/images/IMG_0991_JPG.rf.e5fff500265775295a576502c5b74e04.jpg: ignoring corrupt image/label: Label class 1 exceeds dataset class count 1. Possible class labels are 0-0\n",
            "\u001b[34m\u001b[1mval: \u001b[0mWARNING ⚠️ /content/Pineapple Ripeness Detection.v3i.yolov8/valid/images/IMG_0992_JPG.rf.9c8e1da3378db2629e674286e4ffb09e.jpg: ignoring corrupt image/label: Label class 1 exceeds dataset class count 1. Possible class labels are 0-0\n",
            "\u001b[34m\u001b[1mval: \u001b[0mWARNING ⚠️ /content/Pineapple Ripeness Detection.v3i.yolov8/valid/images/IMG_0997_JPG.rf.0a407a9374be3e9e5cc506593ce51e16.jpg: ignoring corrupt image/label: Label class 1 exceeds dataset class count 1. Possible class labels are 0-0\n",
            "\u001b[34m\u001b[1mval: \u001b[0mWARNING ⚠️ /content/Pineapple Ripeness Detection.v3i.yolov8/valid/images/IMG_0998_JPG.rf.04766e18a80cc362250ce6a7b409f811.jpg: ignoring corrupt image/label: Label class 1 exceeds dataset class count 1. Possible class labels are 0-0\n",
            "\u001b[34m\u001b[1mval: \u001b[0mWARNING ⚠️ /content/Pineapple Ripeness Detection.v3i.yolov8/valid/images/IMG_1007_JPG.rf.8d819c6043e71ab08693a2433e0a0c5a.jpg: ignoring corrupt image/label: Label class 1 exceeds dataset class count 1. Possible class labels are 0-0\n",
            "\u001b[34m\u001b[1mval: \u001b[0mWARNING ⚠️ /content/Pineapple Ripeness Detection.v3i.yolov8/valid/images/image22_jpeg.rf.342a9017fa71a1e5661290d9d96f06a8.jpg: ignoring corrupt image/label: Label class 1 exceeds dataset class count 1. Possible class labels are 0-0\n",
            "\u001b[34m\u001b[1mval: \u001b[0mWARNING ⚠️ /content/Pineapple Ripeness Detection.v3i.yolov8/valid/images/image24_jpeg.rf.7e7b86906a55095b37c18a77c62d33c5.jpg: ignoring corrupt image/label: Label class 1 exceeds dataset class count 1. Possible class labels are 0-0\n",
            "\u001b[34m\u001b[1mval: \u001b[0mWARNING ⚠️ /content/Pineapple Ripeness Detection.v3i.yolov8/valid/images/images119_jpg.rf.707b2b56446b8816f8e3062e6336442d.jpg: ignoring corrupt image/label: Label class 1 exceeds dataset class count 1. Possible class labels are 0-0\n",
            "\u001b[34m\u001b[1mval: \u001b[0mWARNING ⚠️ /content/Pineapple Ripeness Detection.v3i.yolov8/valid/images/images169_jpg.rf.5bb3e77109dbc7e1d2d47569e97b591f.jpg: ignoring corrupt image/label: Label class 1 exceeds dataset class count 1. Possible class labels are 0-0\n",
            "\u001b[34m\u001b[1mval: \u001b[0mWARNING ⚠️ /content/Pineapple Ripeness Detection.v3i.yolov8/valid/images/images255_jpg.rf.5cdf45865e5698342a5e82295da76df4.jpg: ignoring corrupt image/label: Label class 1 exceeds dataset class count 1. Possible class labels are 0-0\n",
            "\u001b[34m\u001b[1mval: \u001b[0mWARNING ⚠️ /content/Pineapple Ripeness Detection.v3i.yolov8/valid/images/images291_jpg.rf.2c2b15f45ed0d2d955538d3ab8d60225.jpg: ignoring corrupt image/label: Label class 1 exceeds dataset class count 1. Possible class labels are 0-0\n",
            "\u001b[34m\u001b[1mval: \u001b[0mWARNING ⚠️ /content/Pineapple Ripeness Detection.v3i.yolov8/valid/images/images303_jpg.rf.5841d0ee71d47def90159d7bc8c4600c.jpg: ignoring corrupt image/label: Label class 1 exceeds dataset class count 1. Possible class labels are 0-0\n",
            "\u001b[34m\u001b[1mval: \u001b[0mWARNING ⚠️ /content/Pineapple Ripeness Detection.v3i.yolov8/valid/images/images372_jpg.rf.3c01f95b063e5f59c8a88b4decb3454d.jpg: ignoring corrupt image/label: Label class 1 exceeds dataset class count 1. Possible class labels are 0-0\n"
          ]
        },
        {
          "output_type": "stream",
          "name": "stderr",
          "text": [
            "\n"
          ]
        },
        {
          "output_type": "stream",
          "name": "stdout",
          "text": [
            "Plotting labels to runs/detect/train5/labels.jpg... \n",
            "\u001b[34m\u001b[1moptimizer:\u001b[0m 'optimizer=auto' found, ignoring 'lr0=0.01' and 'momentum=0.937' and determining best 'optimizer', 'lr0' and 'momentum' automatically... \n",
            "\u001b[34m\u001b[1moptimizer:\u001b[0m AdamW(lr=0.002, momentum=0.9) with parameter groups 57 weight(decay=0.0), 64 weight(decay=0.0005), 63 bias(decay=0.0)\n",
            "Image sizes 640 train, 640 val\n",
            "Using 2 dataloader workers\n",
            "Logging results to \u001b[1mruns/detect/train5\u001b[0m\n",
            "Starting training for 50 epochs...\n",
            "\n",
            "      Epoch    GPU_mem   box_loss   cls_loss   dfl_loss  Instances       Size\n"
          ]
        },
        {
          "output_type": "stream",
          "name": "stderr",
          "text": [
            "       1/50      2.22G      1.595      2.565      1.814         33        640: 100%|██████████| 24/24 [00:06<00:00,  3.58it/s]\n",
            "                 Class     Images  Instances      Box(P          R      mAP50  mAP50-95): 100%|██████████| 3/3 [00:00<00:00,  3.17it/s]"
          ]
        },
        {
          "output_type": "stream",
          "name": "stdout",
          "text": [
            "                   all         82         88    0.00354      0.989      0.403      0.171\n"
          ]
        },
        {
          "output_type": "stream",
          "name": "stderr",
          "text": [
            "\n"
          ]
        },
        {
          "output_type": "stream",
          "name": "stdout",
          "text": [
            "\n",
            "      Epoch    GPU_mem   box_loss   cls_loss   dfl_loss  Instances       Size\n"
          ]
        },
        {
          "output_type": "stream",
          "name": "stderr",
          "text": [
            "       2/50      2.69G       1.51      2.202      1.784         23        640: 100%|██████████| 24/24 [00:07<00:00,  3.41it/s]\n",
            "                 Class     Images  Instances      Box(P          R      mAP50  mAP50-95): 100%|██████████| 3/3 [00:00<00:00,  3.37it/s]"
          ]
        },
        {
          "output_type": "stream",
          "name": "stdout",
          "text": [
            "                   all         82         88     0.0562      0.659      0.195     0.0638\n"
          ]
        },
        {
          "output_type": "stream",
          "name": "stderr",
          "text": [
            "\n"
          ]
        },
        {
          "output_type": "stream",
          "name": "stdout",
          "text": [
            "\n",
            "      Epoch    GPU_mem   box_loss   cls_loss   dfl_loss  Instances       Size\n"
          ]
        },
        {
          "output_type": "stream",
          "name": "stderr",
          "text": [
            "       3/50      2.69G      1.596      2.117      1.815         26        640: 100%|██████████| 24/24 [00:06<00:00,  3.97it/s]\n",
            "                 Class     Images  Instances      Box(P          R      mAP50  mAP50-95): 100%|██████████| 3/3 [00:01<00:00,  1.94it/s]\n"
          ]
        },
        {
          "output_type": "stream",
          "name": "stdout",
          "text": [
            "                   all         82         88      0.288      0.443      0.272     0.0848\n",
            "\n",
            "      Epoch    GPU_mem   box_loss   cls_loss   dfl_loss  Instances       Size\n"
          ]
        },
        {
          "output_type": "stream",
          "name": "stderr",
          "text": [
            "       4/50      2.69G      1.597      2.096      1.809         24        640: 100%|██████████| 24/24 [00:05<00:00,  4.04it/s]\n",
            "                 Class     Images  Instances      Box(P          R      mAP50  mAP50-95): 100%|██████████| 3/3 [00:00<00:00,  3.72it/s]"
          ]
        },
        {
          "output_type": "stream",
          "name": "stdout",
          "text": [
            "                   all         82         88      0.238      0.273      0.182     0.0522\n"
          ]
        },
        {
          "output_type": "stream",
          "name": "stderr",
          "text": [
            "\n"
          ]
        },
        {
          "output_type": "stream",
          "name": "stdout",
          "text": [
            "\n",
            "      Epoch    GPU_mem   box_loss   cls_loss   dfl_loss  Instances       Size\n"
          ]
        },
        {
          "output_type": "stream",
          "name": "stderr",
          "text": [
            "       5/50      2.69G      1.602      1.993      1.825         26        640: 100%|██████████| 24/24 [00:06<00:00,  3.51it/s]\n",
            "                 Class     Images  Instances      Box(P          R      mAP50  mAP50-95): 100%|██████████| 3/3 [00:00<00:00,  3.39it/s]"
          ]
        },
        {
          "output_type": "stream",
          "name": "stdout",
          "text": [
            "                   all         82         88      0.287      0.466      0.256     0.0875\n"
          ]
        },
        {
          "output_type": "stream",
          "name": "stderr",
          "text": [
            "\n"
          ]
        },
        {
          "output_type": "stream",
          "name": "stdout",
          "text": [
            "\n",
            "      Epoch    GPU_mem   box_loss   cls_loss   dfl_loss  Instances       Size\n"
          ]
        },
        {
          "output_type": "stream",
          "name": "stderr",
          "text": [
            "       6/50      2.69G      1.667      1.937      1.846         32        640: 100%|██████████| 24/24 [00:05<00:00,  4.21it/s]\n",
            "                 Class     Images  Instances      Box(P          R      mAP50  mAP50-95): 100%|██████████| 3/3 [00:00<00:00,  3.62it/s]"
          ]
        },
        {
          "output_type": "stream",
          "name": "stdout",
          "text": [
            "                   all         82         88       0.13      0.114     0.0468     0.0117\n"
          ]
        },
        {
          "output_type": "stream",
          "name": "stderr",
          "text": [
            "\n"
          ]
        },
        {
          "output_type": "stream",
          "name": "stdout",
          "text": [
            "\n",
            "      Epoch    GPU_mem   box_loss   cls_loss   dfl_loss  Instances       Size\n"
          ]
        },
        {
          "output_type": "stream",
          "name": "stderr",
          "text": [
            "       7/50      2.69G      1.545      1.779      1.782         26        640: 100%|██████████| 24/24 [00:06<00:00,  3.52it/s]\n",
            "                 Class     Images  Instances      Box(P          R      mAP50  mAP50-95): 100%|██████████| 3/3 [00:00<00:00,  3.38it/s]"
          ]
        },
        {
          "output_type": "stream",
          "name": "stdout",
          "text": [
            "                   all         82         88      0.238      0.409      0.244     0.0724\n"
          ]
        },
        {
          "output_type": "stream",
          "name": "stderr",
          "text": [
            "\n"
          ]
        },
        {
          "output_type": "stream",
          "name": "stdout",
          "text": [
            "\n",
            "      Epoch    GPU_mem   box_loss   cls_loss   dfl_loss  Instances       Size\n"
          ]
        },
        {
          "output_type": "stream",
          "name": "stderr",
          "text": [
            "       8/50      2.69G      1.557      1.743      1.747         28        640: 100%|██████████| 24/24 [00:05<00:00,  4.13it/s]\n",
            "                 Class     Images  Instances      Box(P          R      mAP50  mAP50-95): 100%|██████████| 3/3 [00:00<00:00,  3.03it/s]"
          ]
        },
        {
          "output_type": "stream",
          "name": "stdout",
          "text": [
            "                   all         82         88      0.314      0.466      0.277     0.0881\n"
          ]
        },
        {
          "output_type": "stream",
          "name": "stderr",
          "text": [
            "\n"
          ]
        },
        {
          "output_type": "stream",
          "name": "stdout",
          "text": [
            "\n",
            "      Epoch    GPU_mem   box_loss   cls_loss   dfl_loss  Instances       Size\n"
          ]
        },
        {
          "output_type": "stream",
          "name": "stderr",
          "text": [
            "       9/50      2.69G      1.568      1.746      1.778         30        640: 100%|██████████| 24/24 [00:06<00:00,  3.70it/s]\n",
            "                 Class     Images  Instances      Box(P          R      mAP50  mAP50-95): 100%|██████████| 3/3 [00:00<00:00,  3.45it/s]"
          ]
        },
        {
          "output_type": "stream",
          "name": "stdout",
          "text": [
            "                   all         82         88       0.63      0.455      0.518       0.22\n"
          ]
        },
        {
          "output_type": "stream",
          "name": "stderr",
          "text": [
            "\n"
          ]
        },
        {
          "output_type": "stream",
          "name": "stdout",
          "text": [
            "\n",
            "      Epoch    GPU_mem   box_loss   cls_loss   dfl_loss  Instances       Size\n"
          ]
        },
        {
          "output_type": "stream",
          "name": "stderr",
          "text": [
            "      10/50      2.69G      1.582      1.704      1.719         26        640: 100%|██████████| 24/24 [00:06<00:00,  3.73it/s]\n",
            "                 Class     Images  Instances      Box(P          R      mAP50  mAP50-95): 100%|██████████| 3/3 [00:01<00:00,  2.45it/s]"
          ]
        },
        {
          "output_type": "stream",
          "name": "stdout",
          "text": [
            "                   all         82         88       0.49      0.693      0.524      0.183\n"
          ]
        },
        {
          "output_type": "stream",
          "name": "stderr",
          "text": [
            "\n"
          ]
        },
        {
          "output_type": "stream",
          "name": "stdout",
          "text": [
            "\n",
            "      Epoch    GPU_mem   box_loss   cls_loss   dfl_loss  Instances       Size\n"
          ]
        },
        {
          "output_type": "stream",
          "name": "stderr",
          "text": [
            "      11/50      2.69G      1.549      1.618      1.763         21        640: 100%|██████████| 24/24 [00:05<00:00,  4.12it/s]\n",
            "                 Class     Images  Instances      Box(P          R      mAP50  mAP50-95): 100%|██████████| 3/3 [00:00<00:00,  3.15it/s]"
          ]
        },
        {
          "output_type": "stream",
          "name": "stdout",
          "text": [
            "                   all         82         88       0.28      0.466      0.257     0.0764\n"
          ]
        },
        {
          "output_type": "stream",
          "name": "stderr",
          "text": [
            "\n"
          ]
        },
        {
          "output_type": "stream",
          "name": "stdout",
          "text": [
            "\n",
            "      Epoch    GPU_mem   box_loss   cls_loss   dfl_loss  Instances       Size\n"
          ]
        },
        {
          "output_type": "stream",
          "name": "stderr",
          "text": [
            "      12/50      2.69G      1.526      1.642      1.723         28        640: 100%|██████████| 24/24 [00:06<00:00,  3.49it/s]\n",
            "                 Class     Images  Instances      Box(P          R      mAP50  mAP50-95): 100%|██████████| 3/3 [00:00<00:00,  3.44it/s]"
          ]
        },
        {
          "output_type": "stream",
          "name": "stdout",
          "text": [
            "                   all         82         88      0.659      0.625      0.676      0.267\n"
          ]
        },
        {
          "output_type": "stream",
          "name": "stderr",
          "text": [
            "\n"
          ]
        },
        {
          "output_type": "stream",
          "name": "stdout",
          "text": [
            "\n",
            "      Epoch    GPU_mem   box_loss   cls_loss   dfl_loss  Instances       Size\n"
          ]
        },
        {
          "output_type": "stream",
          "name": "stderr",
          "text": [
            "      13/50      2.69G       1.48      1.514       1.67         24        640: 100%|██████████| 24/24 [00:05<00:00,  4.21it/s]\n",
            "                 Class     Images  Instances      Box(P          R      mAP50  mAP50-95): 100%|██████████| 3/3 [00:00<00:00,  3.68it/s]"
          ]
        },
        {
          "output_type": "stream",
          "name": "stdout",
          "text": [
            "                   all         82         88       0.29       0.51      0.294      0.129\n"
          ]
        },
        {
          "output_type": "stream",
          "name": "stderr",
          "text": [
            "\n"
          ]
        },
        {
          "output_type": "stream",
          "name": "stdout",
          "text": [
            "\n",
            "      Epoch    GPU_mem   box_loss   cls_loss   dfl_loss  Instances       Size\n"
          ]
        },
        {
          "output_type": "stream",
          "name": "stderr",
          "text": [
            "      14/50      2.69G      1.495      1.521      1.689         28        640: 100%|██████████| 24/24 [00:06<00:00,  3.44it/s]\n",
            "                 Class     Images  Instances      Box(P          R      mAP50  mAP50-95): 100%|██████████| 3/3 [00:00<00:00,  4.21it/s]"
          ]
        },
        {
          "output_type": "stream",
          "name": "stdout",
          "text": [
            "                   all         82         88      0.623      0.625      0.683      0.311\n"
          ]
        },
        {
          "output_type": "stream",
          "name": "stderr",
          "text": [
            "\n"
          ]
        },
        {
          "output_type": "stream",
          "name": "stdout",
          "text": [
            "\n",
            "      Epoch    GPU_mem   box_loss   cls_loss   dfl_loss  Instances       Size\n"
          ]
        },
        {
          "output_type": "stream",
          "name": "stderr",
          "text": [
            "      15/50      2.69G      1.479      1.492      1.684         34        640: 100%|██████████| 24/24 [00:06<00:00,  3.91it/s]\n",
            "                 Class     Images  Instances      Box(P          R      mAP50  mAP50-95): 100%|██████████| 3/3 [00:01<00:00,  2.36it/s]"
          ]
        },
        {
          "output_type": "stream",
          "name": "stdout",
          "text": [
            "                   all         82         88      0.489       0.67      0.639      0.286\n"
          ]
        },
        {
          "output_type": "stream",
          "name": "stderr",
          "text": [
            "\n"
          ]
        },
        {
          "output_type": "stream",
          "name": "stdout",
          "text": [
            "\n",
            "      Epoch    GPU_mem   box_loss   cls_loss   dfl_loss  Instances       Size\n"
          ]
        },
        {
          "output_type": "stream",
          "name": "stderr",
          "text": [
            "      16/50      2.69G      1.411      1.412       1.65         24        640: 100%|██████████| 24/24 [00:06<00:00,  3.70it/s]\n",
            "                 Class     Images  Instances      Box(P          R      mAP50  mAP50-95): 100%|██████████| 3/3 [00:00<00:00,  3.13it/s]"
          ]
        },
        {
          "output_type": "stream",
          "name": "stdout",
          "text": [
            "                   all         82         88      0.834      0.625      0.749      0.392\n"
          ]
        },
        {
          "output_type": "stream",
          "name": "stderr",
          "text": [
            "\n"
          ]
        },
        {
          "output_type": "stream",
          "name": "stdout",
          "text": [
            "\n",
            "      Epoch    GPU_mem   box_loss   cls_loss   dfl_loss  Instances       Size\n"
          ]
        },
        {
          "output_type": "stream",
          "name": "stderr",
          "text": [
            "      17/50      2.69G      1.426      1.433      1.646         27        640: 100%|██████████| 24/24 [00:06<00:00,  3.50it/s]\n",
            "                 Class     Images  Instances      Box(P          R      mAP50  mAP50-95): 100%|██████████| 3/3 [00:00<00:00,  3.34it/s]"
          ]
        },
        {
          "output_type": "stream",
          "name": "stdout",
          "text": [
            "                   all         82         88       0.76      0.705      0.761      0.338\n"
          ]
        },
        {
          "output_type": "stream",
          "name": "stderr",
          "text": [
            "\n"
          ]
        },
        {
          "output_type": "stream",
          "name": "stdout",
          "text": [
            "\n",
            "      Epoch    GPU_mem   box_loss   cls_loss   dfl_loss  Instances       Size\n"
          ]
        },
        {
          "output_type": "stream",
          "name": "stderr",
          "text": [
            "      18/50      2.69G      1.423      1.415      1.637         24        640: 100%|██████████| 24/24 [00:05<00:00,  4.07it/s]\n",
            "                 Class     Images  Instances      Box(P          R      mAP50  mAP50-95): 100%|██████████| 3/3 [00:00<00:00,  3.61it/s]"
          ]
        },
        {
          "output_type": "stream",
          "name": "stdout",
          "text": [
            "                   all         82         88      0.771      0.727      0.759      0.339\n"
          ]
        },
        {
          "output_type": "stream",
          "name": "stderr",
          "text": [
            "\n"
          ]
        },
        {
          "output_type": "stream",
          "name": "stdout",
          "text": [
            "\n",
            "      Epoch    GPU_mem   box_loss   cls_loss   dfl_loss  Instances       Size\n"
          ]
        },
        {
          "output_type": "stream",
          "name": "stderr",
          "text": [
            "      19/50      2.69G      1.417      1.406      1.608         26        640: 100%|██████████| 24/24 [00:06<00:00,  3.64it/s]\n",
            "                 Class     Images  Instances      Box(P          R      mAP50  mAP50-95): 100%|██████████| 3/3 [00:00<00:00,  3.59it/s]"
          ]
        },
        {
          "output_type": "stream",
          "name": "stdout",
          "text": [
            "                   all         82         88      0.621      0.659      0.681      0.351\n"
          ]
        },
        {
          "output_type": "stream",
          "name": "stderr",
          "text": [
            "\n"
          ]
        },
        {
          "output_type": "stream",
          "name": "stdout",
          "text": [
            "\n",
            "      Epoch    GPU_mem   box_loss   cls_loss   dfl_loss  Instances       Size\n"
          ]
        },
        {
          "output_type": "stream",
          "name": "stderr",
          "text": [
            "      20/50      2.69G      1.379      1.346      1.598         22        640: 100%|██████████| 24/24 [00:05<00:00,  4.06it/s]\n",
            "                 Class     Images  Instances      Box(P          R      mAP50  mAP50-95): 100%|██████████| 3/3 [00:01<00:00,  2.18it/s]"
          ]
        },
        {
          "output_type": "stream",
          "name": "stdout",
          "text": [
            "                   all         82         88      0.856      0.636      0.799      0.389\n"
          ]
        },
        {
          "output_type": "stream",
          "name": "stderr",
          "text": [
            "\n"
          ]
        },
        {
          "output_type": "stream",
          "name": "stdout",
          "text": [
            "\n",
            "      Epoch    GPU_mem   box_loss   cls_loss   dfl_loss  Instances       Size\n"
          ]
        },
        {
          "output_type": "stream",
          "name": "stderr",
          "text": [
            "      21/50      2.69G      1.393      1.306      1.593         24        640: 100%|██████████| 24/24 [00:05<00:00,  4.13it/s]\n",
            "                 Class     Images  Instances      Box(P          R      mAP50  mAP50-95): 100%|██████████| 3/3 [00:00<00:00,  3.39it/s]"
          ]
        },
        {
          "output_type": "stream",
          "name": "stdout",
          "text": [
            "                   all         82         88      0.699      0.634      0.659      0.284\n"
          ]
        },
        {
          "output_type": "stream",
          "name": "stderr",
          "text": [
            "\n"
          ]
        },
        {
          "output_type": "stream",
          "name": "stdout",
          "text": [
            "\n",
            "      Epoch    GPU_mem   box_loss   cls_loss   dfl_loss  Instances       Size\n"
          ]
        },
        {
          "output_type": "stream",
          "name": "stderr",
          "text": [
            "      22/50      2.69G      1.336      1.255      1.563         31        640: 100%|██████████| 24/24 [00:06<00:00,  3.51it/s]\n",
            "                 Class     Images  Instances      Box(P          R      mAP50  mAP50-95): 100%|██████████| 3/3 [00:00<00:00,  3.87it/s]"
          ]
        },
        {
          "output_type": "stream",
          "name": "stdout",
          "text": [
            "                   all         82         88      0.765      0.741      0.757      0.341\n"
          ]
        },
        {
          "output_type": "stream",
          "name": "stderr",
          "text": [
            "\n"
          ]
        },
        {
          "output_type": "stream",
          "name": "stdout",
          "text": [
            "\n",
            "      Epoch    GPU_mem   box_loss   cls_loss   dfl_loss  Instances       Size\n"
          ]
        },
        {
          "output_type": "stream",
          "name": "stderr",
          "text": [
            "      23/50      2.69G      1.367      1.295      1.592         26        640: 100%|██████████| 24/24 [00:05<00:00,  4.14it/s]\n",
            "                 Class     Images  Instances      Box(P          R      mAP50  mAP50-95): 100%|██████████| 3/3 [00:00<00:00,  3.54it/s]"
          ]
        },
        {
          "output_type": "stream",
          "name": "stdout",
          "text": [
            "                   all         82         88      0.787      0.716      0.802      0.351\n"
          ]
        },
        {
          "output_type": "stream",
          "name": "stderr",
          "text": [
            "\n"
          ]
        },
        {
          "output_type": "stream",
          "name": "stdout",
          "text": [
            "\n",
            "      Epoch    GPU_mem   box_loss   cls_loss   dfl_loss  Instances       Size\n"
          ]
        },
        {
          "output_type": "stream",
          "name": "stderr",
          "text": [
            "      24/50      2.69G      1.327      1.226      1.548         23        640: 100%|██████████| 24/24 [00:06<00:00,  3.53it/s]\n",
            "                 Class     Images  Instances      Box(P          R      mAP50  mAP50-95): 100%|██████████| 3/3 [00:00<00:00,  3.83it/s]"
          ]
        },
        {
          "output_type": "stream",
          "name": "stdout",
          "text": [
            "                   all         82         88      0.816       0.75      0.792      0.373\n"
          ]
        },
        {
          "output_type": "stream",
          "name": "stderr",
          "text": [
            "\n"
          ]
        },
        {
          "output_type": "stream",
          "name": "stdout",
          "text": [
            "\n",
            "      Epoch    GPU_mem   box_loss   cls_loss   dfl_loss  Instances       Size\n"
          ]
        },
        {
          "output_type": "stream",
          "name": "stderr",
          "text": [
            "      25/50      2.69G      1.271      1.194      1.494         31        640: 100%|██████████| 24/24 [00:05<00:00,  4.18it/s]\n",
            "                 Class     Images  Instances      Box(P          R      mAP50  mAP50-95): 100%|██████████| 3/3 [00:01<00:00,  2.65it/s]"
          ]
        },
        {
          "output_type": "stream",
          "name": "stdout",
          "text": [
            "                   all         82         88      0.845      0.716      0.799      0.375\n"
          ]
        },
        {
          "output_type": "stream",
          "name": "stderr",
          "text": [
            "\n"
          ]
        },
        {
          "output_type": "stream",
          "name": "stdout",
          "text": [
            "\n",
            "      Epoch    GPU_mem   box_loss   cls_loss   dfl_loss  Instances       Size\n"
          ]
        },
        {
          "output_type": "stream",
          "name": "stderr",
          "text": [
            "      26/50      2.69G      1.279      1.147      1.528         32        640: 100%|██████████| 24/24 [00:06<00:00,  3.84it/s]\n",
            "                 Class     Images  Instances      Box(P          R      mAP50  mAP50-95): 100%|██████████| 3/3 [00:00<00:00,  3.90it/s]"
          ]
        },
        {
          "output_type": "stream",
          "name": "stdout",
          "text": [
            "                   all         82         88      0.842      0.739      0.817      0.387\n"
          ]
        },
        {
          "output_type": "stream",
          "name": "stderr",
          "text": [
            "\n"
          ]
        },
        {
          "output_type": "stream",
          "name": "stdout",
          "text": [
            "\n",
            "      Epoch    GPU_mem   box_loss   cls_loss   dfl_loss  Instances       Size\n"
          ]
        },
        {
          "output_type": "stream",
          "name": "stderr",
          "text": [
            "      27/50      2.69G      1.267      1.181      1.497         25        640: 100%|██████████| 24/24 [00:06<00:00,  3.71it/s]\n",
            "                 Class     Images  Instances      Box(P          R      mAP50  mAP50-95): 100%|██████████| 3/3 [00:01<00:00,  2.66it/s]"
          ]
        },
        {
          "output_type": "stream",
          "name": "stdout",
          "text": [
            "                   all         82         88      0.677      0.788      0.728      0.365\n"
          ]
        },
        {
          "output_type": "stream",
          "name": "stderr",
          "text": [
            "\n"
          ]
        },
        {
          "output_type": "stream",
          "name": "stdout",
          "text": [
            "\n",
            "      Epoch    GPU_mem   box_loss   cls_loss   dfl_loss  Instances       Size\n"
          ]
        },
        {
          "output_type": "stream",
          "name": "stderr",
          "text": [
            "      28/50      2.69G      1.249      1.162      1.502         22        640: 100%|██████████| 24/24 [00:05<00:00,  4.12it/s]\n",
            "                 Class     Images  Instances      Box(P          R      mAP50  mAP50-95): 100%|██████████| 3/3 [00:00<00:00,  3.75it/s]"
          ]
        },
        {
          "output_type": "stream",
          "name": "stdout",
          "text": [
            "                   all         82         88      0.756      0.784      0.773       0.38\n"
          ]
        },
        {
          "output_type": "stream",
          "name": "stderr",
          "text": [
            "\n"
          ]
        },
        {
          "output_type": "stream",
          "name": "stdout",
          "text": [
            "\n",
            "      Epoch    GPU_mem   box_loss   cls_loss   dfl_loss  Instances       Size\n"
          ]
        },
        {
          "output_type": "stream",
          "name": "stderr",
          "text": [
            "      29/50      2.69G      1.225      1.119      1.444         29        640: 100%|██████████| 24/24 [00:06<00:00,  3.51it/s]\n",
            "                 Class     Images  Instances      Box(P          R      mAP50  mAP50-95): 100%|██████████| 3/3 [00:00<00:00,  3.75it/s]"
          ]
        },
        {
          "output_type": "stream",
          "name": "stdout",
          "text": [
            "                   all         82         88      0.761      0.636      0.714      0.354\n"
          ]
        },
        {
          "output_type": "stream",
          "name": "stderr",
          "text": [
            "\n"
          ]
        },
        {
          "output_type": "stream",
          "name": "stdout",
          "text": [
            "\n",
            "      Epoch    GPU_mem   box_loss   cls_loss   dfl_loss  Instances       Size\n"
          ]
        },
        {
          "output_type": "stream",
          "name": "stderr",
          "text": [
            "      30/50      2.69G      1.283      1.127      1.502         18        640: 100%|██████████| 24/24 [00:05<00:00,  4.02it/s]\n",
            "                 Class     Images  Instances      Box(P          R      mAP50  mAP50-95): 100%|██████████| 3/3 [00:00<00:00,  4.01it/s]"
          ]
        },
        {
          "output_type": "stream",
          "name": "stdout",
          "text": [
            "                   all         82         88       0.77      0.759      0.814      0.419\n"
          ]
        },
        {
          "output_type": "stream",
          "name": "stderr",
          "text": [
            "\n"
          ]
        },
        {
          "output_type": "stream",
          "name": "stdout",
          "text": [
            "\n",
            "      Epoch    GPU_mem   box_loss   cls_loss   dfl_loss  Instances       Size\n"
          ]
        },
        {
          "output_type": "stream",
          "name": "stderr",
          "text": [
            "      31/50      2.69G      1.279      1.103       1.51         19        640: 100%|██████████| 24/24 [00:06<00:00,  3.54it/s]\n",
            "                 Class     Images  Instances      Box(P          R      mAP50  mAP50-95): 100%|██████████| 3/3 [00:00<00:00,  3.06it/s]"
          ]
        },
        {
          "output_type": "stream",
          "name": "stdout",
          "text": [
            "                   all         82         88      0.901      0.727      0.844      0.442\n"
          ]
        },
        {
          "output_type": "stream",
          "name": "stderr",
          "text": [
            "\n"
          ]
        },
        {
          "output_type": "stream",
          "name": "stdout",
          "text": [
            "\n",
            "      Epoch    GPU_mem   box_loss   cls_loss   dfl_loss  Instances       Size\n"
          ]
        },
        {
          "output_type": "stream",
          "name": "stderr",
          "text": [
            "      32/50      2.69G      1.255      1.063      1.463         23        640: 100%|██████████| 24/24 [00:06<00:00,  3.88it/s]\n",
            "                 Class     Images  Instances      Box(P          R      mAP50  mAP50-95): 100%|██████████| 3/3 [00:01<00:00,  2.00it/s]"
          ]
        },
        {
          "output_type": "stream",
          "name": "stdout",
          "text": [
            "                   all         82         88      0.869      0.753      0.866      0.414\n"
          ]
        },
        {
          "output_type": "stream",
          "name": "stderr",
          "text": [
            "\n"
          ]
        },
        {
          "output_type": "stream",
          "name": "stdout",
          "text": [
            "\n",
            "      Epoch    GPU_mem   box_loss   cls_loss   dfl_loss  Instances       Size\n"
          ]
        },
        {
          "output_type": "stream",
          "name": "stderr",
          "text": [
            "      33/50      2.69G      1.229      1.059      1.457         36        640: 100%|██████████| 24/24 [00:05<00:00,  4.13it/s]\n",
            "                 Class     Images  Instances      Box(P          R      mAP50  mAP50-95): 100%|██████████| 3/3 [00:00<00:00,  3.72it/s]"
          ]
        },
        {
          "output_type": "stream",
          "name": "stdout",
          "text": [
            "                   all         82         88      0.778      0.784      0.851      0.457\n"
          ]
        },
        {
          "output_type": "stream",
          "name": "stderr",
          "text": [
            "\n"
          ]
        },
        {
          "output_type": "stream",
          "name": "stdout",
          "text": [
            "\n",
            "      Epoch    GPU_mem   box_loss   cls_loss   dfl_loss  Instances       Size\n"
          ]
        },
        {
          "output_type": "stream",
          "name": "stderr",
          "text": [
            "      34/50      2.69G      1.127      1.005      1.393         20        640: 100%|██████████| 24/24 [00:06<00:00,  3.53it/s]\n",
            "                 Class     Images  Instances      Box(P          R      mAP50  mAP50-95): 100%|██████████| 3/3 [00:00<00:00,  3.52it/s]"
          ]
        },
        {
          "output_type": "stream",
          "name": "stdout",
          "text": [
            "                   all         82         88      0.914      0.773      0.889      0.489\n"
          ]
        },
        {
          "output_type": "stream",
          "name": "stderr",
          "text": [
            "\n"
          ]
        },
        {
          "output_type": "stream",
          "name": "stdout",
          "text": [
            "\n",
            "      Epoch    GPU_mem   box_loss   cls_loss   dfl_loss  Instances       Size\n"
          ]
        },
        {
          "output_type": "stream",
          "name": "stderr",
          "text": [
            "      35/50      2.69G      1.133      1.013       1.39         20        640: 100%|██████████| 24/24 [00:05<00:00,  4.08it/s]\n",
            "                 Class     Images  Instances      Box(P          R      mAP50  mAP50-95): 100%|██████████| 3/3 [00:00<00:00,  4.01it/s]"
          ]
        },
        {
          "output_type": "stream",
          "name": "stdout",
          "text": [
            "                   all         82         88      0.856      0.761      0.838      0.447\n"
          ]
        },
        {
          "output_type": "stream",
          "name": "stderr",
          "text": [
            "\n"
          ]
        },
        {
          "output_type": "stream",
          "name": "stdout",
          "text": [
            "\n",
            "      Epoch    GPU_mem   box_loss   cls_loss   dfl_loss  Instances       Size\n"
          ]
        },
        {
          "output_type": "stream",
          "name": "stderr",
          "text": [
            "      36/50      2.69G      1.149      1.008       1.44         27        640: 100%|██████████| 24/24 [00:06<00:00,  3.51it/s]\n",
            "                 Class     Images  Instances      Box(P          R      mAP50  mAP50-95): 100%|██████████| 3/3 [00:00<00:00,  3.50it/s]"
          ]
        },
        {
          "output_type": "stream",
          "name": "stdout",
          "text": [
            "                   all         82         88      0.865      0.784      0.851      0.449\n"
          ]
        },
        {
          "output_type": "stream",
          "name": "stderr",
          "text": [
            "\n"
          ]
        },
        {
          "output_type": "stream",
          "name": "stdout",
          "text": [
            "\n",
            "      Epoch    GPU_mem   box_loss   cls_loss   dfl_loss  Instances       Size\n"
          ]
        },
        {
          "output_type": "stream",
          "name": "stderr",
          "text": [
            "      37/50      2.69G      1.126     0.9823      1.403         24        640: 100%|██████████| 24/24 [00:05<00:00,  4.13it/s]\n",
            "                 Class     Images  Instances      Box(P          R      mAP50  mAP50-95): 100%|██████████| 3/3 [00:01<00:00,  2.11it/s]"
          ]
        },
        {
          "output_type": "stream",
          "name": "stdout",
          "text": [
            "                   all         82         88      0.863      0.788       0.87      0.448\n"
          ]
        },
        {
          "output_type": "stream",
          "name": "stderr",
          "text": [
            "\n"
          ]
        },
        {
          "output_type": "stream",
          "name": "stdout",
          "text": [
            "\n",
            "      Epoch    GPU_mem   box_loss   cls_loss   dfl_loss  Instances       Size\n"
          ]
        },
        {
          "output_type": "stream",
          "name": "stderr",
          "text": [
            "      38/50      2.69G      1.137     0.9746      1.395         33        640: 100%|██████████| 24/24 [00:05<00:00,  4.13it/s]\n",
            "                 Class     Images  Instances      Box(P          R      mAP50  mAP50-95): 100%|██████████| 3/3 [00:00<00:00,  3.34it/s]"
          ]
        },
        {
          "output_type": "stream",
          "name": "stdout",
          "text": [
            "                   all         82         88      0.882      0.807      0.865      0.468\n"
          ]
        },
        {
          "output_type": "stream",
          "name": "stderr",
          "text": [
            "\n"
          ]
        },
        {
          "output_type": "stream",
          "name": "stdout",
          "text": [
            "\n",
            "      Epoch    GPU_mem   box_loss   cls_loss   dfl_loss  Instances       Size\n"
          ]
        },
        {
          "output_type": "stream",
          "name": "stderr",
          "text": [
            "      39/50      2.69G      1.147     0.9762        1.4         19        640: 100%|██████████| 24/24 [00:06<00:00,  3.51it/s]\n",
            "                 Class     Images  Instances      Box(P          R      mAP50  mAP50-95): 100%|██████████| 3/3 [00:00<00:00,  3.86it/s]"
          ]
        },
        {
          "output_type": "stream",
          "name": "stdout",
          "text": [
            "                   all         82         88      0.898      0.797      0.868      0.462\n"
          ]
        },
        {
          "output_type": "stream",
          "name": "stderr",
          "text": [
            "\n"
          ]
        },
        {
          "output_type": "stream",
          "name": "stdout",
          "text": [
            "\n",
            "      Epoch    GPU_mem   box_loss   cls_loss   dfl_loss  Instances       Size\n"
          ]
        },
        {
          "output_type": "stream",
          "name": "stderr",
          "text": [
            "      40/50      2.69G      1.084     0.9594      1.369         27        640: 100%|██████████| 24/24 [00:05<00:00,  4.22it/s]\n",
            "                 Class     Images  Instances      Box(P          R      mAP50  mAP50-95): 100%|██████████| 3/3 [00:00<00:00,  3.48it/s]"
          ]
        },
        {
          "output_type": "stream",
          "name": "stdout",
          "text": [
            "                   all         82         88      0.797      0.802      0.825      0.463\n"
          ]
        },
        {
          "output_type": "stream",
          "name": "stderr",
          "text": [
            "\n"
          ]
        },
        {
          "output_type": "stream",
          "name": "stdout",
          "text": [
            "Closing dataloader mosaic\n",
            "\u001b[34m\u001b[1malbumentations: \u001b[0mBlur(p=0.01, blur_limit=(3, 7)), MedianBlur(p=0.01, blur_limit=(3, 7)), ToGray(p=0.01, num_output_channels=3, method='weighted_average'), CLAHE(p=0.01, clip_limit=(1.0, 4.0), tile_grid_size=(8, 8))\n",
            "\n",
            "      Epoch    GPU_mem   box_loss   cls_loss   dfl_loss  Instances       Size\n"
          ]
        },
        {
          "output_type": "stream",
          "name": "stderr",
          "text": [
            "      41/50      2.69G      1.099     0.9419       1.48         11        640: 100%|██████████| 24/24 [00:08<00:00,  2.94it/s]\n",
            "                 Class     Images  Instances      Box(P          R      mAP50  mAP50-95): 100%|██████████| 3/3 [00:00<00:00,  3.80it/s]"
          ]
        },
        {
          "output_type": "stream",
          "name": "stdout",
          "text": [
            "                   all         82         88      0.828       0.82      0.845      0.466\n"
          ]
        },
        {
          "output_type": "stream",
          "name": "stderr",
          "text": [
            "\n"
          ]
        },
        {
          "output_type": "stream",
          "name": "stdout",
          "text": [
            "\n",
            "      Epoch    GPU_mem   box_loss   cls_loss   dfl_loss  Instances       Size\n"
          ]
        },
        {
          "output_type": "stream",
          "name": "stderr",
          "text": [
            "      42/50       2.7G      1.092     0.8945      1.469         10        640: 100%|██████████| 24/24 [00:05<00:00,  4.11it/s]\n",
            "                 Class     Images  Instances      Box(P          R      mAP50  mAP50-95): 100%|██████████| 3/3 [00:01<00:00,  2.43it/s]"
          ]
        },
        {
          "output_type": "stream",
          "name": "stdout",
          "text": [
            "                   all         82         88      0.837       0.83      0.866      0.474\n"
          ]
        },
        {
          "output_type": "stream",
          "name": "stderr",
          "text": [
            "\n"
          ]
        },
        {
          "output_type": "stream",
          "name": "stdout",
          "text": [
            "\n",
            "      Epoch    GPU_mem   box_loss   cls_loss   dfl_loss  Instances       Size\n"
          ]
        },
        {
          "output_type": "stream",
          "name": "stderr",
          "text": [
            "      43/50       2.7G      1.009     0.7792      1.415         17        640: 100%|██████████| 24/24 [00:05<00:00,  4.27it/s]\n",
            "                 Class     Images  Instances      Box(P          R      mAP50  mAP50-95): 100%|██████████| 3/3 [00:00<00:00,  3.53it/s]"
          ]
        },
        {
          "output_type": "stream",
          "name": "stdout",
          "text": [
            "                   all         82         88      0.849      0.767      0.845      0.482\n"
          ]
        },
        {
          "output_type": "stream",
          "name": "stderr",
          "text": [
            "\n"
          ]
        },
        {
          "output_type": "stream",
          "name": "stdout",
          "text": [
            "\n",
            "      Epoch    GPU_mem   box_loss   cls_loss   dfl_loss  Instances       Size\n"
          ]
        },
        {
          "output_type": "stream",
          "name": "stderr",
          "text": [
            "      44/50       2.7G     0.9821     0.7717      1.387         11        640: 100%|██████████| 24/24 [00:06<00:00,  3.61it/s]\n",
            "                 Class     Images  Instances      Box(P          R      mAP50  mAP50-95): 100%|██████████| 3/3 [00:00<00:00,  3.95it/s]"
          ]
        },
        {
          "output_type": "stream",
          "name": "stdout",
          "text": [
            "                   all         82         88      0.862       0.85       0.88      0.475\n"
          ]
        },
        {
          "output_type": "stream",
          "name": "stderr",
          "text": [
            "\n"
          ]
        },
        {
          "output_type": "stream",
          "name": "stdout",
          "text": [
            "\n",
            "      Epoch    GPU_mem   box_loss   cls_loss   dfl_loss  Instances       Size\n"
          ]
        },
        {
          "output_type": "stream",
          "name": "stderr",
          "text": [
            "      45/50      2.71G     0.9716     0.7599      1.355         11        640: 100%|██████████| 24/24 [00:05<00:00,  4.35it/s]\n",
            "                 Class     Images  Instances      Box(P          R      mAP50  mAP50-95): 100%|██████████| 3/3 [00:00<00:00,  3.90it/s]"
          ]
        },
        {
          "output_type": "stream",
          "name": "stdout",
          "text": [
            "                   all         82         88       0.79      0.818      0.851      0.433\n"
          ]
        },
        {
          "output_type": "stream",
          "name": "stderr",
          "text": [
            "\n"
          ]
        },
        {
          "output_type": "stream",
          "name": "stdout",
          "text": [
            "\n",
            "      Epoch    GPU_mem   box_loss   cls_loss   dfl_loss  Instances       Size\n"
          ]
        },
        {
          "output_type": "stream",
          "name": "stderr",
          "text": [
            "      46/50      2.71G     0.9887     0.7588      1.383          9        640: 100%|██████████| 24/24 [00:06<00:00,  3.67it/s]\n",
            "                 Class     Images  Instances      Box(P          R      mAP50  mAP50-95): 100%|██████████| 3/3 [00:00<00:00,  4.04it/s]"
          ]
        },
        {
          "output_type": "stream",
          "name": "stdout",
          "text": [
            "                   all         82         88      0.856      0.813       0.87      0.464\n"
          ]
        },
        {
          "output_type": "stream",
          "name": "stderr",
          "text": [
            "\n"
          ]
        },
        {
          "output_type": "stream",
          "name": "stdout",
          "text": [
            "\n",
            "      Epoch    GPU_mem   box_loss   cls_loss   dfl_loss  Instances       Size\n"
          ]
        },
        {
          "output_type": "stream",
          "name": "stderr",
          "text": [
            "      47/50      2.72G     0.9205      0.697      1.349         10        640: 100%|██████████| 24/24 [00:05<00:00,  4.25it/s]\n",
            "                 Class     Images  Instances      Box(P          R      mAP50  mAP50-95): 100%|██████████| 3/3 [00:00<00:00,  4.11it/s]"
          ]
        },
        {
          "output_type": "stream",
          "name": "stdout",
          "text": [
            "                   all         82         88      0.845      0.806       0.88      0.477\n"
          ]
        },
        {
          "output_type": "stream",
          "name": "stderr",
          "text": [
            "\n"
          ]
        },
        {
          "output_type": "stream",
          "name": "stdout",
          "text": [
            "\n",
            "      Epoch    GPU_mem   box_loss   cls_loss   dfl_loss  Instances       Size\n"
          ]
        },
        {
          "output_type": "stream",
          "name": "stderr",
          "text": [
            "      48/50      2.72G      0.938     0.7207      1.371         10        640: 100%|██████████| 24/24 [00:06<00:00,  3.72it/s]\n",
            "                 Class     Images  Instances      Box(P          R      mAP50  mAP50-95): 100%|██████████| 3/3 [00:00<00:00,  3.77it/s]"
          ]
        },
        {
          "output_type": "stream",
          "name": "stdout",
          "text": [
            "                   all         82         88      0.878      0.818       0.86      0.488\n"
          ]
        },
        {
          "output_type": "stream",
          "name": "stderr",
          "text": [
            "\n"
          ]
        },
        {
          "output_type": "stream",
          "name": "stdout",
          "text": [
            "\n",
            "      Epoch    GPU_mem   box_loss   cls_loss   dfl_loss  Instances       Size\n"
          ]
        },
        {
          "output_type": "stream",
          "name": "stderr",
          "text": [
            "      49/50      2.72G     0.9111     0.6804      1.331         12        640: 100%|██████████| 24/24 [00:05<00:00,  4.34it/s]\n",
            "                 Class     Images  Instances      Box(P          R      mAP50  mAP50-95): 100%|██████████| 3/3 [00:01<00:00,  2.12it/s]"
          ]
        },
        {
          "output_type": "stream",
          "name": "stdout",
          "text": [
            "                   all         82         88      0.878       0.82      0.851      0.477\n"
          ]
        },
        {
          "output_type": "stream",
          "name": "stderr",
          "text": [
            "\n"
          ]
        },
        {
          "output_type": "stream",
          "name": "stdout",
          "text": [
            "\n",
            "      Epoch    GPU_mem   box_loss   cls_loss   dfl_loss  Instances       Size\n"
          ]
        },
        {
          "output_type": "stream",
          "name": "stderr",
          "text": [
            "      50/50      2.72G     0.8866     0.6791      1.337         10        640: 100%|██████████| 24/24 [00:05<00:00,  4.34it/s]\n",
            "                 Class     Images  Instances      Box(P          R      mAP50  mAP50-95): 100%|██████████| 3/3 [00:00<00:00,  3.86it/s]"
          ]
        },
        {
          "output_type": "stream",
          "name": "stdout",
          "text": [
            "                   all         82         88      0.887      0.818      0.866      0.482\n"
          ]
        },
        {
          "output_type": "stream",
          "name": "stderr",
          "text": [
            "\n"
          ]
        },
        {
          "output_type": "stream",
          "name": "stdout",
          "text": [
            "\n",
            "50 epochs completed in 0.106 hours.\n",
            "Optimizer stripped from runs/detect/train5/weights/last.pt, 6.2MB\n",
            "Optimizer stripped from runs/detect/train5/weights/best.pt, 6.2MB\n",
            "\n",
            "Validating runs/detect/train5/weights/best.pt...\n",
            "Ultralytics 8.3.111 🚀 Python-3.11.12 torch-2.6.0+cu124 CUDA:0 (Tesla T4, 15095MiB)\n",
            "Model summary (fused): 72 layers, 3,005,843 parameters, 0 gradients, 8.1 GFLOPs\n"
          ]
        },
        {
          "output_type": "stream",
          "name": "stderr",
          "text": [
            "                 Class     Images  Instances      Box(P          R      mAP50  mAP50-95): 100%|██████████| 3/3 [00:01<00:00,  2.26it/s]\n"
          ]
        },
        {
          "output_type": "stream",
          "name": "stdout",
          "text": [
            "                   all         82         88      0.914      0.773      0.889      0.489\n",
            "Speed: 0.4ms preprocess, 2.9ms inference, 0.0ms loss, 2.9ms postprocess per image\n",
            "Results saved to \u001b[1mruns/detect/train5\u001b[0m\n",
            "\n",
            "image 1/1 /content/Pineapple Ripeness Detection.v3i.yolov8/test/images/IMG_0749_JPG.rf.02ee24fca2a32c5324f9957eb8585b26.jpg: 640x640 1 pineapple, 9.3ms\n",
            "Speed: 2.3ms preprocess, 9.3ms inference, 1.5ms postprocess per image at shape (1, 3, 640, 640)\n",
            "Results saved to \u001b[1mruns/detect/predict\u001b[0m\n"
          ]
        }
      ]
    },
    {
      "cell_type": "code",
      "source": [
        " !ls runs/detect/train/weights"
      ],
      "metadata": {
        "colab": {
          "base_uri": "https://localhost:8080/"
        },
        "id": "R9qI1IeFIC7U",
        "outputId": "207ba719-ec46-488c-bac4-64587082977e"
      },
      "execution_count": 10,
      "outputs": [
        {
          "output_type": "stream",
          "name": "stdout",
          "text": [
            "best.pt  last.pt\n"
          ]
        }
      ]
    },
    {
      "cell_type": "code",
      "source": [
        "!pip install ultralytics\n",
        "!pip install torch torchvision\n"
      ],
      "metadata": {
        "colab": {
          "base_uri": "https://localhost:8080/"
        },
        "id": "pjOt-Q1bJuCV",
        "outputId": "0606b203-35ab-4431-d32b-3ac1f3475df0"
      },
      "execution_count": 11,
      "outputs": [
        {
          "output_type": "stream",
          "name": "stdout",
          "text": [
            "Requirement already satisfied: ultralytics in /usr/local/lib/python3.11/dist-packages (8.3.111)\n",
            "Requirement already satisfied: numpy<=2.1.1,>=1.23.0 in /usr/local/lib/python3.11/dist-packages (from ultralytics) (2.0.2)\n",
            "Requirement already satisfied: matplotlib>=3.3.0 in /usr/local/lib/python3.11/dist-packages (from ultralytics) (3.10.0)\n",
            "Requirement already satisfied: opencv-python>=4.6.0 in /usr/local/lib/python3.11/dist-packages (from ultralytics) (4.11.0.86)\n",
            "Requirement already satisfied: pillow>=7.1.2 in /usr/local/lib/python3.11/dist-packages (from ultralytics) (11.1.0)\n",
            "Requirement already satisfied: pyyaml>=5.3.1 in /usr/local/lib/python3.11/dist-packages (from ultralytics) (6.0.2)\n",
            "Requirement already satisfied: requests>=2.23.0 in /usr/local/lib/python3.11/dist-packages (from ultralytics) (2.32.3)\n",
            "Requirement already satisfied: scipy>=1.4.1 in /usr/local/lib/python3.11/dist-packages (from ultralytics) (1.14.1)\n",
            "Requirement already satisfied: torch>=1.8.0 in /usr/local/lib/python3.11/dist-packages (from ultralytics) (2.6.0+cu124)\n",
            "Requirement already satisfied: torchvision>=0.9.0 in /usr/local/lib/python3.11/dist-packages (from ultralytics) (0.21.0+cu124)\n",
            "Requirement already satisfied: tqdm>=4.64.0 in /usr/local/lib/python3.11/dist-packages (from ultralytics) (4.67.1)\n",
            "Requirement already satisfied: psutil in /usr/local/lib/python3.11/dist-packages (from ultralytics) (5.9.5)\n",
            "Requirement already satisfied: py-cpuinfo in /usr/local/lib/python3.11/dist-packages (from ultralytics) (9.0.0)\n",
            "Requirement already satisfied: pandas>=1.1.4 in /usr/local/lib/python3.11/dist-packages (from ultralytics) (2.2.2)\n",
            "Requirement already satisfied: seaborn>=0.11.0 in /usr/local/lib/python3.11/dist-packages (from ultralytics) (0.13.2)\n",
            "Requirement already satisfied: ultralytics-thop>=2.0.0 in /usr/local/lib/python3.11/dist-packages (from ultralytics) (2.0.14)\n",
            "Requirement already satisfied: contourpy>=1.0.1 in /usr/local/lib/python3.11/dist-packages (from matplotlib>=3.3.0->ultralytics) (1.3.2)\n",
            "Requirement already satisfied: cycler>=0.10 in /usr/local/lib/python3.11/dist-packages (from matplotlib>=3.3.0->ultralytics) (0.12.1)\n",
            "Requirement already satisfied: fonttools>=4.22.0 in /usr/local/lib/python3.11/dist-packages (from matplotlib>=3.3.0->ultralytics) (4.57.0)\n",
            "Requirement already satisfied: kiwisolver>=1.3.1 in /usr/local/lib/python3.11/dist-packages (from matplotlib>=3.3.0->ultralytics) (1.4.8)\n",
            "Requirement already satisfied: packaging>=20.0 in /usr/local/lib/python3.11/dist-packages (from matplotlib>=3.3.0->ultralytics) (24.2)\n",
            "Requirement already satisfied: pyparsing>=2.3.1 in /usr/local/lib/python3.11/dist-packages (from matplotlib>=3.3.0->ultralytics) (3.2.3)\n",
            "Requirement already satisfied: python-dateutil>=2.7 in /usr/local/lib/python3.11/dist-packages (from matplotlib>=3.3.0->ultralytics) (2.8.2)\n",
            "Requirement already satisfied: pytz>=2020.1 in /usr/local/lib/python3.11/dist-packages (from pandas>=1.1.4->ultralytics) (2025.2)\n",
            "Requirement already satisfied: tzdata>=2022.7 in /usr/local/lib/python3.11/dist-packages (from pandas>=1.1.4->ultralytics) (2025.2)\n",
            "Requirement already satisfied: charset-normalizer<4,>=2 in /usr/local/lib/python3.11/dist-packages (from requests>=2.23.0->ultralytics) (3.4.1)\n",
            "Requirement already satisfied: idna<4,>=2.5 in /usr/local/lib/python3.11/dist-packages (from requests>=2.23.0->ultralytics) (3.10)\n",
            "Requirement already satisfied: urllib3<3,>=1.21.1 in /usr/local/lib/python3.11/dist-packages (from requests>=2.23.0->ultralytics) (2.3.0)\n",
            "Requirement already satisfied: certifi>=2017.4.17 in /usr/local/lib/python3.11/dist-packages (from requests>=2.23.0->ultralytics) (2025.1.31)\n",
            "Requirement already satisfied: filelock in /usr/local/lib/python3.11/dist-packages (from torch>=1.8.0->ultralytics) (3.18.0)\n",
            "Requirement already satisfied: typing-extensions>=4.10.0 in /usr/local/lib/python3.11/dist-packages (from torch>=1.8.0->ultralytics) (4.13.2)\n",
            "Requirement already satisfied: networkx in /usr/local/lib/python3.11/dist-packages (from torch>=1.8.0->ultralytics) (3.4.2)\n",
            "Requirement already satisfied: jinja2 in /usr/local/lib/python3.11/dist-packages (from torch>=1.8.0->ultralytics) (3.1.6)\n",
            "Requirement already satisfied: fsspec in /usr/local/lib/python3.11/dist-packages (from torch>=1.8.0->ultralytics) (2025.3.2)\n",
            "Requirement already satisfied: nvidia-cuda-nvrtc-cu12==12.4.127 in /usr/local/lib/python3.11/dist-packages (from torch>=1.8.0->ultralytics) (12.4.127)\n",
            "Requirement already satisfied: nvidia-cuda-runtime-cu12==12.4.127 in /usr/local/lib/python3.11/dist-packages (from torch>=1.8.0->ultralytics) (12.4.127)\n",
            "Requirement already satisfied: nvidia-cuda-cupti-cu12==12.4.127 in /usr/local/lib/python3.11/dist-packages (from torch>=1.8.0->ultralytics) (12.4.127)\n",
            "Requirement already satisfied: nvidia-cudnn-cu12==9.1.0.70 in /usr/local/lib/python3.11/dist-packages (from torch>=1.8.0->ultralytics) (9.1.0.70)\n",
            "Requirement already satisfied: nvidia-cublas-cu12==12.4.5.8 in /usr/local/lib/python3.11/dist-packages (from torch>=1.8.0->ultralytics) (12.4.5.8)\n",
            "Requirement already satisfied: nvidia-cufft-cu12==11.2.1.3 in /usr/local/lib/python3.11/dist-packages (from torch>=1.8.0->ultralytics) (11.2.1.3)\n",
            "Requirement already satisfied: nvidia-curand-cu12==10.3.5.147 in /usr/local/lib/python3.11/dist-packages (from torch>=1.8.0->ultralytics) (10.3.5.147)\n",
            "Requirement already satisfied: nvidia-cusolver-cu12==11.6.1.9 in /usr/local/lib/python3.11/dist-packages (from torch>=1.8.0->ultralytics) (11.6.1.9)\n",
            "Requirement already satisfied: nvidia-cusparse-cu12==12.3.1.170 in /usr/local/lib/python3.11/dist-packages (from torch>=1.8.0->ultralytics) (12.3.1.170)\n",
            "Requirement already satisfied: nvidia-cusparselt-cu12==0.6.2 in /usr/local/lib/python3.11/dist-packages (from torch>=1.8.0->ultralytics) (0.6.2)\n",
            "Requirement already satisfied: nvidia-nccl-cu12==2.21.5 in /usr/local/lib/python3.11/dist-packages (from torch>=1.8.0->ultralytics) (2.21.5)\n",
            "Requirement already satisfied: nvidia-nvtx-cu12==12.4.127 in /usr/local/lib/python3.11/dist-packages (from torch>=1.8.0->ultralytics) (12.4.127)\n",
            "Requirement already satisfied: nvidia-nvjitlink-cu12==12.4.127 in /usr/local/lib/python3.11/dist-packages (from torch>=1.8.0->ultralytics) (12.4.127)\n",
            "Requirement already satisfied: triton==3.2.0 in /usr/local/lib/python3.11/dist-packages (from torch>=1.8.0->ultralytics) (3.2.0)\n",
            "Requirement already satisfied: sympy==1.13.1 in /usr/local/lib/python3.11/dist-packages (from torch>=1.8.0->ultralytics) (1.13.1)\n",
            "Requirement already satisfied: mpmath<1.4,>=1.1.0 in /usr/local/lib/python3.11/dist-packages (from sympy==1.13.1->torch>=1.8.0->ultralytics) (1.3.0)\n",
            "Requirement already satisfied: six>=1.5 in /usr/local/lib/python3.11/dist-packages (from python-dateutil>=2.7->matplotlib>=3.3.0->ultralytics) (1.17.0)\n",
            "Requirement already satisfied: MarkupSafe>=2.0 in /usr/local/lib/python3.11/dist-packages (from jinja2->torch>=1.8.0->ultralytics) (3.0.2)\n",
            "Requirement already satisfied: torch in /usr/local/lib/python3.11/dist-packages (2.6.0+cu124)\n",
            "Requirement already satisfied: torchvision in /usr/local/lib/python3.11/dist-packages (0.21.0+cu124)\n",
            "Requirement already satisfied: filelock in /usr/local/lib/python3.11/dist-packages (from torch) (3.18.0)\n",
            "Requirement already satisfied: typing-extensions>=4.10.0 in /usr/local/lib/python3.11/dist-packages (from torch) (4.13.2)\n",
            "Requirement already satisfied: networkx in /usr/local/lib/python3.11/dist-packages (from torch) (3.4.2)\n",
            "Requirement already satisfied: jinja2 in /usr/local/lib/python3.11/dist-packages (from torch) (3.1.6)\n",
            "Requirement already satisfied: fsspec in /usr/local/lib/python3.11/dist-packages (from torch) (2025.3.2)\n",
            "Requirement already satisfied: nvidia-cuda-nvrtc-cu12==12.4.127 in /usr/local/lib/python3.11/dist-packages (from torch) (12.4.127)\n",
            "Requirement already satisfied: nvidia-cuda-runtime-cu12==12.4.127 in /usr/local/lib/python3.11/dist-packages (from torch) (12.4.127)\n",
            "Requirement already satisfied: nvidia-cuda-cupti-cu12==12.4.127 in /usr/local/lib/python3.11/dist-packages (from torch) (12.4.127)\n",
            "Requirement already satisfied: nvidia-cudnn-cu12==9.1.0.70 in /usr/local/lib/python3.11/dist-packages (from torch) (9.1.0.70)\n",
            "Requirement already satisfied: nvidia-cublas-cu12==12.4.5.8 in /usr/local/lib/python3.11/dist-packages (from torch) (12.4.5.8)\n",
            "Requirement already satisfied: nvidia-cufft-cu12==11.2.1.3 in /usr/local/lib/python3.11/dist-packages (from torch) (11.2.1.3)\n",
            "Requirement already satisfied: nvidia-curand-cu12==10.3.5.147 in /usr/local/lib/python3.11/dist-packages (from torch) (10.3.5.147)\n",
            "Requirement already satisfied: nvidia-cusolver-cu12==11.6.1.9 in /usr/local/lib/python3.11/dist-packages (from torch) (11.6.1.9)\n",
            "Requirement already satisfied: nvidia-cusparse-cu12==12.3.1.170 in /usr/local/lib/python3.11/dist-packages (from torch) (12.3.1.170)\n",
            "Requirement already satisfied: nvidia-cusparselt-cu12==0.6.2 in /usr/local/lib/python3.11/dist-packages (from torch) (0.6.2)\n",
            "Requirement already satisfied: nvidia-nccl-cu12==2.21.5 in /usr/local/lib/python3.11/dist-packages (from torch) (2.21.5)\n",
            "Requirement already satisfied: nvidia-nvtx-cu12==12.4.127 in /usr/local/lib/python3.11/dist-packages (from torch) (12.4.127)\n",
            "Requirement already satisfied: nvidia-nvjitlink-cu12==12.4.127 in /usr/local/lib/python3.11/dist-packages (from torch) (12.4.127)\n",
            "Requirement already satisfied: triton==3.2.0 in /usr/local/lib/python3.11/dist-packages (from torch) (3.2.0)\n",
            "Requirement already satisfied: sympy==1.13.1 in /usr/local/lib/python3.11/dist-packages (from torch) (1.13.1)\n",
            "Requirement already satisfied: mpmath<1.4,>=1.1.0 in /usr/local/lib/python3.11/dist-packages (from sympy==1.13.1->torch) (1.3.0)\n",
            "Requirement already satisfied: numpy in /usr/local/lib/python3.11/dist-packages (from torchvision) (2.0.2)\n",
            "Requirement already satisfied: pillow!=8.3.*,>=5.3.0 in /usr/local/lib/python3.11/dist-packages (from torchvision) (11.1.0)\n",
            "Requirement already satisfied: MarkupSafe>=2.0 in /usr/local/lib/python3.11/dist-packages (from jinja2->torch) (3.0.2)\n"
          ]
        }
      ]
    },
    {
      "cell_type": "code",
      "source": [
        "from ultralytics import YOLO\n",
        "yolo_model = YOLO(\"runs/detect/train/weights/best.pt\")  # make sure this path is correct\n"
      ],
      "metadata": {
        "id": "lYTo9bkOJveB"
      },
      "execution_count": 12,
      "outputs": []
    },
    {
      "cell_type": "code",
      "source": [
        "from google.colab import files\n",
        "uploaded = files.upload()\n"
      ],
      "metadata": {
        "colab": {
          "base_uri": "https://localhost:8080/",
          "height": 73
        },
        "id": "kwgO_1NXJ0gq",
        "outputId": "579ca689-72c5-41b8-95bd-76efd63ddf2f"
      },
      "execution_count": 15,
      "outputs": [
        {
          "output_type": "display_data",
          "data": {
            "text/plain": [
              "<IPython.core.display.HTML object>"
            ],
            "text/html": [
              "\n",
              "     <input type=\"file\" id=\"files-86f9bc07-d9ed-4cf9-8b02-b22e2ad7bd63\" name=\"files[]\" multiple disabled\n",
              "        style=\"border:none\" />\n",
              "     <output id=\"result-86f9bc07-d9ed-4cf9-8b02-b22e2ad7bd63\">\n",
              "      Upload widget is only available when the cell has been executed in the\n",
              "      current browser session. Please rerun this cell to enable.\n",
              "      </output>\n",
              "      <script>// Copyright 2017 Google LLC\n",
              "//\n",
              "// Licensed under the Apache License, Version 2.0 (the \"License\");\n",
              "// you may not use this file except in compliance with the License.\n",
              "// You may obtain a copy of the License at\n",
              "//\n",
              "//      http://www.apache.org/licenses/LICENSE-2.0\n",
              "//\n",
              "// Unless required by applicable law or agreed to in writing, software\n",
              "// distributed under the License is distributed on an \"AS IS\" BASIS,\n",
              "// WITHOUT WARRANTIES OR CONDITIONS OF ANY KIND, either express or implied.\n",
              "// See the License for the specific language governing permissions and\n",
              "// limitations under the License.\n",
              "\n",
              "/**\n",
              " * @fileoverview Helpers for google.colab Python module.\n",
              " */\n",
              "(function(scope) {\n",
              "function span(text, styleAttributes = {}) {\n",
              "  const element = document.createElement('span');\n",
              "  element.textContent = text;\n",
              "  for (const key of Object.keys(styleAttributes)) {\n",
              "    element.style[key] = styleAttributes[key];\n",
              "  }\n",
              "  return element;\n",
              "}\n",
              "\n",
              "// Max number of bytes which will be uploaded at a time.\n",
              "const MAX_PAYLOAD_SIZE = 100 * 1024;\n",
              "\n",
              "function _uploadFiles(inputId, outputId) {\n",
              "  const steps = uploadFilesStep(inputId, outputId);\n",
              "  const outputElement = document.getElementById(outputId);\n",
              "  // Cache steps on the outputElement to make it available for the next call\n",
              "  // to uploadFilesContinue from Python.\n",
              "  outputElement.steps = steps;\n",
              "\n",
              "  return _uploadFilesContinue(outputId);\n",
              "}\n",
              "\n",
              "// This is roughly an async generator (not supported in the browser yet),\n",
              "// where there are multiple asynchronous steps and the Python side is going\n",
              "// to poll for completion of each step.\n",
              "// This uses a Promise to block the python side on completion of each step,\n",
              "// then passes the result of the previous step as the input to the next step.\n",
              "function _uploadFilesContinue(outputId) {\n",
              "  const outputElement = document.getElementById(outputId);\n",
              "  const steps = outputElement.steps;\n",
              "\n",
              "  const next = steps.next(outputElement.lastPromiseValue);\n",
              "  return Promise.resolve(next.value.promise).then((value) => {\n",
              "    // Cache the last promise value to make it available to the next\n",
              "    // step of the generator.\n",
              "    outputElement.lastPromiseValue = value;\n",
              "    return next.value.response;\n",
              "  });\n",
              "}\n",
              "\n",
              "/**\n",
              " * Generator function which is called between each async step of the upload\n",
              " * process.\n",
              " * @param {string} inputId Element ID of the input file picker element.\n",
              " * @param {string} outputId Element ID of the output display.\n",
              " * @return {!Iterable<!Object>} Iterable of next steps.\n",
              " */\n",
              "function* uploadFilesStep(inputId, outputId) {\n",
              "  const inputElement = document.getElementById(inputId);\n",
              "  inputElement.disabled = false;\n",
              "\n",
              "  const outputElement = document.getElementById(outputId);\n",
              "  outputElement.innerHTML = '';\n",
              "\n",
              "  const pickedPromise = new Promise((resolve) => {\n",
              "    inputElement.addEventListener('change', (e) => {\n",
              "      resolve(e.target.files);\n",
              "    });\n",
              "  });\n",
              "\n",
              "  const cancel = document.createElement('button');\n",
              "  inputElement.parentElement.appendChild(cancel);\n",
              "  cancel.textContent = 'Cancel upload';\n",
              "  const cancelPromise = new Promise((resolve) => {\n",
              "    cancel.onclick = () => {\n",
              "      resolve(null);\n",
              "    };\n",
              "  });\n",
              "\n",
              "  // Wait for the user to pick the files.\n",
              "  const files = yield {\n",
              "    promise: Promise.race([pickedPromise, cancelPromise]),\n",
              "    response: {\n",
              "      action: 'starting',\n",
              "    }\n",
              "  };\n",
              "\n",
              "  cancel.remove();\n",
              "\n",
              "  // Disable the input element since further picks are not allowed.\n",
              "  inputElement.disabled = true;\n",
              "\n",
              "  if (!files) {\n",
              "    return {\n",
              "      response: {\n",
              "        action: 'complete',\n",
              "      }\n",
              "    };\n",
              "  }\n",
              "\n",
              "  for (const file of files) {\n",
              "    const li = document.createElement('li');\n",
              "    li.append(span(file.name, {fontWeight: 'bold'}));\n",
              "    li.append(span(\n",
              "        `(${file.type || 'n/a'}) - ${file.size} bytes, ` +\n",
              "        `last modified: ${\n",
              "            file.lastModifiedDate ? file.lastModifiedDate.toLocaleDateString() :\n",
              "                                    'n/a'} - `));\n",
              "    const percent = span('0% done');\n",
              "    li.appendChild(percent);\n",
              "\n",
              "    outputElement.appendChild(li);\n",
              "\n",
              "    const fileDataPromise = new Promise((resolve) => {\n",
              "      const reader = new FileReader();\n",
              "      reader.onload = (e) => {\n",
              "        resolve(e.target.result);\n",
              "      };\n",
              "      reader.readAsArrayBuffer(file);\n",
              "    });\n",
              "    // Wait for the data to be ready.\n",
              "    let fileData = yield {\n",
              "      promise: fileDataPromise,\n",
              "      response: {\n",
              "        action: 'continue',\n",
              "      }\n",
              "    };\n",
              "\n",
              "    // Use a chunked sending to avoid message size limits. See b/62115660.\n",
              "    let position = 0;\n",
              "    do {\n",
              "      const length = Math.min(fileData.byteLength - position, MAX_PAYLOAD_SIZE);\n",
              "      const chunk = new Uint8Array(fileData, position, length);\n",
              "      position += length;\n",
              "\n",
              "      const base64 = btoa(String.fromCharCode.apply(null, chunk));\n",
              "      yield {\n",
              "        response: {\n",
              "          action: 'append',\n",
              "          file: file.name,\n",
              "          data: base64,\n",
              "        },\n",
              "      };\n",
              "\n",
              "      let percentDone = fileData.byteLength === 0 ?\n",
              "          100 :\n",
              "          Math.round((position / fileData.byteLength) * 100);\n",
              "      percent.textContent = `${percentDone}% done`;\n",
              "\n",
              "    } while (position < fileData.byteLength);\n",
              "  }\n",
              "\n",
              "  // All done.\n",
              "  yield {\n",
              "    response: {\n",
              "      action: 'complete',\n",
              "    }\n",
              "  };\n",
              "}\n",
              "\n",
              "scope.google = scope.google || {};\n",
              "scope.google.colab = scope.google.colab || {};\n",
              "scope.google.colab._files = {\n",
              "  _uploadFiles,\n",
              "  _uploadFilesContinue,\n",
              "};\n",
              "})(self);\n",
              "</script> "
            ]
          },
          "metadata": {}
        },
        {
          "output_type": "stream",
          "name": "stdout",
          "text": [
            "Saving MobileNet_Datasets.zip to MobileNet_Datasets.zip\n"
          ]
        }
      ]
    },
    {
      "cell_type": "code",
      "source": [
        "with zipfile.ZipFile('MobileNet_Datasets.zip', 'r') as zip_ref:\n",
        "    zip_ref.extractall('/content/MobilenetDataset')"
      ],
      "metadata": {
        "id": "KeZ9XS1mJ7rC"
      },
      "execution_count": 17,
      "outputs": []
    },
    {
      "cell_type": "code",
      "source": [
        "import torch\n",
        "from torchvision import datasets, transforms, models\n",
        "from torch.utils.data import DataLoader\n",
        "import torch.nn as nn\n",
        "import torch.optim as optim\n",
        "\n",
        "# Paths to your dataset\n",
        "train_path = \"/content/MobilenetDataset/MobileNet_Datasets/train\"\n",
        "val_path = \"/content/MobilenetDataset/MobileNet_Datasets/valid\"\n",
        "\n",
        "# Data transforms\n",
        "transform = transforms.Compose([\n",
        "    transforms.Resize((224, 224)),\n",
        "    transforms.ToTensor(),\n",
        "])\n",
        "\n",
        "# Load datasets\n",
        "train_dataset = datasets.ImageFolder(train_path, transform=transform)\n",
        "val_dataset = datasets.ImageFolder(val_path, transform=transform)\n",
        "\n",
        "train_loader = DataLoader(train_dataset, batch_size=16, shuffle=True)\n",
        "val_loader = DataLoader(val_dataset, batch_size=16, shuffle=False)\n",
        "\n",
        "# Load MobileNet and modify final layer\n",
        "mobilenet = models.mobilenet_v2(weights=None)  # or weights='DEFAULT' if using pretrained\n",
        "mobilenet.classifier[1] = nn.Linear(mobilenet.last_channel, 2)  # 2 classes: sweet, non-sweet\n",
        "\n",
        "# Training setup\n",
        "device = torch.device(\"cuda\" if torch.cuda.is_available() else \"cpu\")\n",
        "mobilenet = mobilenet.to(device)\n",
        "\n",
        "criterion = nn.CrossEntropyLoss()\n",
        "optimizer = optim.Adam(mobilenet.parameters(), lr=0.001)\n",
        "\n",
        "# Training loop\n",
        "epochs = 5  # Increase for better accuracy\n",
        "for epoch in range(epochs):\n",
        "    mobilenet.train()\n",
        "    running_loss = 0.0\n",
        "    for images, labels in train_loader:\n",
        "        images, labels = images.to(device), labels.to(device)\n",
        "        optimizer.zero_grad()\n",
        "        outputs = mobilenet(images)\n",
        "        loss = criterion(outputs, labels)\n",
        "        loss.backward()\n",
        "        optimizer.step()\n",
        "        running_loss += loss.item()\n",
        "\n",
        "    print(f\"Epoch [{epoch+1}/{epochs}], Loss: {running_loss/len(train_loader):.4f}\")\n"
      ],
      "metadata": {
        "colab": {
          "base_uri": "https://localhost:8080/"
        },
        "id": "BFOnxD-HLkva",
        "outputId": "bddd7b75-6f06-4e5b-db09-d39b2c8cf817"
      },
      "execution_count": 19,
      "outputs": [
        {
          "output_type": "stream",
          "name": "stdout",
          "text": [
            "Epoch [1/5], Loss: 0.6987\n",
            "Epoch [2/5], Loss: 0.3351\n",
            "Epoch [3/5], Loss: 0.3254\n",
            "Epoch [4/5], Loss: 0.2829\n",
            "Epoch [5/5], Loss: 0.2365\n"
          ]
        }
      ]
    },
    {
      "cell_type": "code",
      "source": [
        "torch.save(mobilenet.state_dict(), \"mobilenet_sweetness.pt\")\n"
      ],
      "metadata": {
        "id": "0jB7Bt-RPfLp"
      },
      "execution_count": 20,
      "outputs": []
    },
    {
      "cell_type": "code",
      "source": [
        "mobilenet.eval()"
      ],
      "metadata": {
        "colab": {
          "base_uri": "https://localhost:8080/"
        },
        "id": "tB6tUbU4Qfhf",
        "outputId": "51618d5b-9b46-4fc3-cdfc-f46cef7b06a3"
      },
      "execution_count": 21,
      "outputs": [
        {
          "output_type": "execute_result",
          "data": {
            "text/plain": [
              "MobileNetV2(\n",
              "  (features): Sequential(\n",
              "    (0): Conv2dNormActivation(\n",
              "      (0): Conv2d(3, 32, kernel_size=(3, 3), stride=(2, 2), padding=(1, 1), bias=False)\n",
              "      (1): BatchNorm2d(32, eps=1e-05, momentum=0.1, affine=True, track_running_stats=True)\n",
              "      (2): ReLU6(inplace=True)\n",
              "    )\n",
              "    (1): InvertedResidual(\n",
              "      (conv): Sequential(\n",
              "        (0): Conv2dNormActivation(\n",
              "          (0): Conv2d(32, 32, kernel_size=(3, 3), stride=(1, 1), padding=(1, 1), groups=32, bias=False)\n",
              "          (1): BatchNorm2d(32, eps=1e-05, momentum=0.1, affine=True, track_running_stats=True)\n",
              "          (2): ReLU6(inplace=True)\n",
              "        )\n",
              "        (1): Conv2d(32, 16, kernel_size=(1, 1), stride=(1, 1), bias=False)\n",
              "        (2): BatchNorm2d(16, eps=1e-05, momentum=0.1, affine=True, track_running_stats=True)\n",
              "      )\n",
              "    )\n",
              "    (2): InvertedResidual(\n",
              "      (conv): Sequential(\n",
              "        (0): Conv2dNormActivation(\n",
              "          (0): Conv2d(16, 96, kernel_size=(1, 1), stride=(1, 1), bias=False)\n",
              "          (1): BatchNorm2d(96, eps=1e-05, momentum=0.1, affine=True, track_running_stats=True)\n",
              "          (2): ReLU6(inplace=True)\n",
              "        )\n",
              "        (1): Conv2dNormActivation(\n",
              "          (0): Conv2d(96, 96, kernel_size=(3, 3), stride=(2, 2), padding=(1, 1), groups=96, bias=False)\n",
              "          (1): BatchNorm2d(96, eps=1e-05, momentum=0.1, affine=True, track_running_stats=True)\n",
              "          (2): ReLU6(inplace=True)\n",
              "        )\n",
              "        (2): Conv2d(96, 24, kernel_size=(1, 1), stride=(1, 1), bias=False)\n",
              "        (3): BatchNorm2d(24, eps=1e-05, momentum=0.1, affine=True, track_running_stats=True)\n",
              "      )\n",
              "    )\n",
              "    (3): InvertedResidual(\n",
              "      (conv): Sequential(\n",
              "        (0): Conv2dNormActivation(\n",
              "          (0): Conv2d(24, 144, kernel_size=(1, 1), stride=(1, 1), bias=False)\n",
              "          (1): BatchNorm2d(144, eps=1e-05, momentum=0.1, affine=True, track_running_stats=True)\n",
              "          (2): ReLU6(inplace=True)\n",
              "        )\n",
              "        (1): Conv2dNormActivation(\n",
              "          (0): Conv2d(144, 144, kernel_size=(3, 3), stride=(1, 1), padding=(1, 1), groups=144, bias=False)\n",
              "          (1): BatchNorm2d(144, eps=1e-05, momentum=0.1, affine=True, track_running_stats=True)\n",
              "          (2): ReLU6(inplace=True)\n",
              "        )\n",
              "        (2): Conv2d(144, 24, kernel_size=(1, 1), stride=(1, 1), bias=False)\n",
              "        (3): BatchNorm2d(24, eps=1e-05, momentum=0.1, affine=True, track_running_stats=True)\n",
              "      )\n",
              "    )\n",
              "    (4): InvertedResidual(\n",
              "      (conv): Sequential(\n",
              "        (0): Conv2dNormActivation(\n",
              "          (0): Conv2d(24, 144, kernel_size=(1, 1), stride=(1, 1), bias=False)\n",
              "          (1): BatchNorm2d(144, eps=1e-05, momentum=0.1, affine=True, track_running_stats=True)\n",
              "          (2): ReLU6(inplace=True)\n",
              "        )\n",
              "        (1): Conv2dNormActivation(\n",
              "          (0): Conv2d(144, 144, kernel_size=(3, 3), stride=(2, 2), padding=(1, 1), groups=144, bias=False)\n",
              "          (1): BatchNorm2d(144, eps=1e-05, momentum=0.1, affine=True, track_running_stats=True)\n",
              "          (2): ReLU6(inplace=True)\n",
              "        )\n",
              "        (2): Conv2d(144, 32, kernel_size=(1, 1), stride=(1, 1), bias=False)\n",
              "        (3): BatchNorm2d(32, eps=1e-05, momentum=0.1, affine=True, track_running_stats=True)\n",
              "      )\n",
              "    )\n",
              "    (5): InvertedResidual(\n",
              "      (conv): Sequential(\n",
              "        (0): Conv2dNormActivation(\n",
              "          (0): Conv2d(32, 192, kernel_size=(1, 1), stride=(1, 1), bias=False)\n",
              "          (1): BatchNorm2d(192, eps=1e-05, momentum=0.1, affine=True, track_running_stats=True)\n",
              "          (2): ReLU6(inplace=True)\n",
              "        )\n",
              "        (1): Conv2dNormActivation(\n",
              "          (0): Conv2d(192, 192, kernel_size=(3, 3), stride=(1, 1), padding=(1, 1), groups=192, bias=False)\n",
              "          (1): BatchNorm2d(192, eps=1e-05, momentum=0.1, affine=True, track_running_stats=True)\n",
              "          (2): ReLU6(inplace=True)\n",
              "        )\n",
              "        (2): Conv2d(192, 32, kernel_size=(1, 1), stride=(1, 1), bias=False)\n",
              "        (3): BatchNorm2d(32, eps=1e-05, momentum=0.1, affine=True, track_running_stats=True)\n",
              "      )\n",
              "    )\n",
              "    (6): InvertedResidual(\n",
              "      (conv): Sequential(\n",
              "        (0): Conv2dNormActivation(\n",
              "          (0): Conv2d(32, 192, kernel_size=(1, 1), stride=(1, 1), bias=False)\n",
              "          (1): BatchNorm2d(192, eps=1e-05, momentum=0.1, affine=True, track_running_stats=True)\n",
              "          (2): ReLU6(inplace=True)\n",
              "        )\n",
              "        (1): Conv2dNormActivation(\n",
              "          (0): Conv2d(192, 192, kernel_size=(3, 3), stride=(1, 1), padding=(1, 1), groups=192, bias=False)\n",
              "          (1): BatchNorm2d(192, eps=1e-05, momentum=0.1, affine=True, track_running_stats=True)\n",
              "          (2): ReLU6(inplace=True)\n",
              "        )\n",
              "        (2): Conv2d(192, 32, kernel_size=(1, 1), stride=(1, 1), bias=False)\n",
              "        (3): BatchNorm2d(32, eps=1e-05, momentum=0.1, affine=True, track_running_stats=True)\n",
              "      )\n",
              "    )\n",
              "    (7): InvertedResidual(\n",
              "      (conv): Sequential(\n",
              "        (0): Conv2dNormActivation(\n",
              "          (0): Conv2d(32, 192, kernel_size=(1, 1), stride=(1, 1), bias=False)\n",
              "          (1): BatchNorm2d(192, eps=1e-05, momentum=0.1, affine=True, track_running_stats=True)\n",
              "          (2): ReLU6(inplace=True)\n",
              "        )\n",
              "        (1): Conv2dNormActivation(\n",
              "          (0): Conv2d(192, 192, kernel_size=(3, 3), stride=(2, 2), padding=(1, 1), groups=192, bias=False)\n",
              "          (1): BatchNorm2d(192, eps=1e-05, momentum=0.1, affine=True, track_running_stats=True)\n",
              "          (2): ReLU6(inplace=True)\n",
              "        )\n",
              "        (2): Conv2d(192, 64, kernel_size=(1, 1), stride=(1, 1), bias=False)\n",
              "        (3): BatchNorm2d(64, eps=1e-05, momentum=0.1, affine=True, track_running_stats=True)\n",
              "      )\n",
              "    )\n",
              "    (8): InvertedResidual(\n",
              "      (conv): Sequential(\n",
              "        (0): Conv2dNormActivation(\n",
              "          (0): Conv2d(64, 384, kernel_size=(1, 1), stride=(1, 1), bias=False)\n",
              "          (1): BatchNorm2d(384, eps=1e-05, momentum=0.1, affine=True, track_running_stats=True)\n",
              "          (2): ReLU6(inplace=True)\n",
              "        )\n",
              "        (1): Conv2dNormActivation(\n",
              "          (0): Conv2d(384, 384, kernel_size=(3, 3), stride=(1, 1), padding=(1, 1), groups=384, bias=False)\n",
              "          (1): BatchNorm2d(384, eps=1e-05, momentum=0.1, affine=True, track_running_stats=True)\n",
              "          (2): ReLU6(inplace=True)\n",
              "        )\n",
              "        (2): Conv2d(384, 64, kernel_size=(1, 1), stride=(1, 1), bias=False)\n",
              "        (3): BatchNorm2d(64, eps=1e-05, momentum=0.1, affine=True, track_running_stats=True)\n",
              "      )\n",
              "    )\n",
              "    (9): InvertedResidual(\n",
              "      (conv): Sequential(\n",
              "        (0): Conv2dNormActivation(\n",
              "          (0): Conv2d(64, 384, kernel_size=(1, 1), stride=(1, 1), bias=False)\n",
              "          (1): BatchNorm2d(384, eps=1e-05, momentum=0.1, affine=True, track_running_stats=True)\n",
              "          (2): ReLU6(inplace=True)\n",
              "        )\n",
              "        (1): Conv2dNormActivation(\n",
              "          (0): Conv2d(384, 384, kernel_size=(3, 3), stride=(1, 1), padding=(1, 1), groups=384, bias=False)\n",
              "          (1): BatchNorm2d(384, eps=1e-05, momentum=0.1, affine=True, track_running_stats=True)\n",
              "          (2): ReLU6(inplace=True)\n",
              "        )\n",
              "        (2): Conv2d(384, 64, kernel_size=(1, 1), stride=(1, 1), bias=False)\n",
              "        (3): BatchNorm2d(64, eps=1e-05, momentum=0.1, affine=True, track_running_stats=True)\n",
              "      )\n",
              "    )\n",
              "    (10): InvertedResidual(\n",
              "      (conv): Sequential(\n",
              "        (0): Conv2dNormActivation(\n",
              "          (0): Conv2d(64, 384, kernel_size=(1, 1), stride=(1, 1), bias=False)\n",
              "          (1): BatchNorm2d(384, eps=1e-05, momentum=0.1, affine=True, track_running_stats=True)\n",
              "          (2): ReLU6(inplace=True)\n",
              "        )\n",
              "        (1): Conv2dNormActivation(\n",
              "          (0): Conv2d(384, 384, kernel_size=(3, 3), stride=(1, 1), padding=(1, 1), groups=384, bias=False)\n",
              "          (1): BatchNorm2d(384, eps=1e-05, momentum=0.1, affine=True, track_running_stats=True)\n",
              "          (2): ReLU6(inplace=True)\n",
              "        )\n",
              "        (2): Conv2d(384, 64, kernel_size=(1, 1), stride=(1, 1), bias=False)\n",
              "        (3): BatchNorm2d(64, eps=1e-05, momentum=0.1, affine=True, track_running_stats=True)\n",
              "      )\n",
              "    )\n",
              "    (11): InvertedResidual(\n",
              "      (conv): Sequential(\n",
              "        (0): Conv2dNormActivation(\n",
              "          (0): Conv2d(64, 384, kernel_size=(1, 1), stride=(1, 1), bias=False)\n",
              "          (1): BatchNorm2d(384, eps=1e-05, momentum=0.1, affine=True, track_running_stats=True)\n",
              "          (2): ReLU6(inplace=True)\n",
              "        )\n",
              "        (1): Conv2dNormActivation(\n",
              "          (0): Conv2d(384, 384, kernel_size=(3, 3), stride=(1, 1), padding=(1, 1), groups=384, bias=False)\n",
              "          (1): BatchNorm2d(384, eps=1e-05, momentum=0.1, affine=True, track_running_stats=True)\n",
              "          (2): ReLU6(inplace=True)\n",
              "        )\n",
              "        (2): Conv2d(384, 96, kernel_size=(1, 1), stride=(1, 1), bias=False)\n",
              "        (3): BatchNorm2d(96, eps=1e-05, momentum=0.1, affine=True, track_running_stats=True)\n",
              "      )\n",
              "    )\n",
              "    (12): InvertedResidual(\n",
              "      (conv): Sequential(\n",
              "        (0): Conv2dNormActivation(\n",
              "          (0): Conv2d(96, 576, kernel_size=(1, 1), stride=(1, 1), bias=False)\n",
              "          (1): BatchNorm2d(576, eps=1e-05, momentum=0.1, affine=True, track_running_stats=True)\n",
              "          (2): ReLU6(inplace=True)\n",
              "        )\n",
              "        (1): Conv2dNormActivation(\n",
              "          (0): Conv2d(576, 576, kernel_size=(3, 3), stride=(1, 1), padding=(1, 1), groups=576, bias=False)\n",
              "          (1): BatchNorm2d(576, eps=1e-05, momentum=0.1, affine=True, track_running_stats=True)\n",
              "          (2): ReLU6(inplace=True)\n",
              "        )\n",
              "        (2): Conv2d(576, 96, kernel_size=(1, 1), stride=(1, 1), bias=False)\n",
              "        (3): BatchNorm2d(96, eps=1e-05, momentum=0.1, affine=True, track_running_stats=True)\n",
              "      )\n",
              "    )\n",
              "    (13): InvertedResidual(\n",
              "      (conv): Sequential(\n",
              "        (0): Conv2dNormActivation(\n",
              "          (0): Conv2d(96, 576, kernel_size=(1, 1), stride=(1, 1), bias=False)\n",
              "          (1): BatchNorm2d(576, eps=1e-05, momentum=0.1, affine=True, track_running_stats=True)\n",
              "          (2): ReLU6(inplace=True)\n",
              "        )\n",
              "        (1): Conv2dNormActivation(\n",
              "          (0): Conv2d(576, 576, kernel_size=(3, 3), stride=(1, 1), padding=(1, 1), groups=576, bias=False)\n",
              "          (1): BatchNorm2d(576, eps=1e-05, momentum=0.1, affine=True, track_running_stats=True)\n",
              "          (2): ReLU6(inplace=True)\n",
              "        )\n",
              "        (2): Conv2d(576, 96, kernel_size=(1, 1), stride=(1, 1), bias=False)\n",
              "        (3): BatchNorm2d(96, eps=1e-05, momentum=0.1, affine=True, track_running_stats=True)\n",
              "      )\n",
              "    )\n",
              "    (14): InvertedResidual(\n",
              "      (conv): Sequential(\n",
              "        (0): Conv2dNormActivation(\n",
              "          (0): Conv2d(96, 576, kernel_size=(1, 1), stride=(1, 1), bias=False)\n",
              "          (1): BatchNorm2d(576, eps=1e-05, momentum=0.1, affine=True, track_running_stats=True)\n",
              "          (2): ReLU6(inplace=True)\n",
              "        )\n",
              "        (1): Conv2dNormActivation(\n",
              "          (0): Conv2d(576, 576, kernel_size=(3, 3), stride=(2, 2), padding=(1, 1), groups=576, bias=False)\n",
              "          (1): BatchNorm2d(576, eps=1e-05, momentum=0.1, affine=True, track_running_stats=True)\n",
              "          (2): ReLU6(inplace=True)\n",
              "        )\n",
              "        (2): Conv2d(576, 160, kernel_size=(1, 1), stride=(1, 1), bias=False)\n",
              "        (3): BatchNorm2d(160, eps=1e-05, momentum=0.1, affine=True, track_running_stats=True)\n",
              "      )\n",
              "    )\n",
              "    (15): InvertedResidual(\n",
              "      (conv): Sequential(\n",
              "        (0): Conv2dNormActivation(\n",
              "          (0): Conv2d(160, 960, kernel_size=(1, 1), stride=(1, 1), bias=False)\n",
              "          (1): BatchNorm2d(960, eps=1e-05, momentum=0.1, affine=True, track_running_stats=True)\n",
              "          (2): ReLU6(inplace=True)\n",
              "        )\n",
              "        (1): Conv2dNormActivation(\n",
              "          (0): Conv2d(960, 960, kernel_size=(3, 3), stride=(1, 1), padding=(1, 1), groups=960, bias=False)\n",
              "          (1): BatchNorm2d(960, eps=1e-05, momentum=0.1, affine=True, track_running_stats=True)\n",
              "          (2): ReLU6(inplace=True)\n",
              "        )\n",
              "        (2): Conv2d(960, 160, kernel_size=(1, 1), stride=(1, 1), bias=False)\n",
              "        (3): BatchNorm2d(160, eps=1e-05, momentum=0.1, affine=True, track_running_stats=True)\n",
              "      )\n",
              "    )\n",
              "    (16): InvertedResidual(\n",
              "      (conv): Sequential(\n",
              "        (0): Conv2dNormActivation(\n",
              "          (0): Conv2d(160, 960, kernel_size=(1, 1), stride=(1, 1), bias=False)\n",
              "          (1): BatchNorm2d(960, eps=1e-05, momentum=0.1, affine=True, track_running_stats=True)\n",
              "          (2): ReLU6(inplace=True)\n",
              "        )\n",
              "        (1): Conv2dNormActivation(\n",
              "          (0): Conv2d(960, 960, kernel_size=(3, 3), stride=(1, 1), padding=(1, 1), groups=960, bias=False)\n",
              "          (1): BatchNorm2d(960, eps=1e-05, momentum=0.1, affine=True, track_running_stats=True)\n",
              "          (2): ReLU6(inplace=True)\n",
              "        )\n",
              "        (2): Conv2d(960, 160, kernel_size=(1, 1), stride=(1, 1), bias=False)\n",
              "        (3): BatchNorm2d(160, eps=1e-05, momentum=0.1, affine=True, track_running_stats=True)\n",
              "      )\n",
              "    )\n",
              "    (17): InvertedResidual(\n",
              "      (conv): Sequential(\n",
              "        (0): Conv2dNormActivation(\n",
              "          (0): Conv2d(160, 960, kernel_size=(1, 1), stride=(1, 1), bias=False)\n",
              "          (1): BatchNorm2d(960, eps=1e-05, momentum=0.1, affine=True, track_running_stats=True)\n",
              "          (2): ReLU6(inplace=True)\n",
              "        )\n",
              "        (1): Conv2dNormActivation(\n",
              "          (0): Conv2d(960, 960, kernel_size=(3, 3), stride=(1, 1), padding=(1, 1), groups=960, bias=False)\n",
              "          (1): BatchNorm2d(960, eps=1e-05, momentum=0.1, affine=True, track_running_stats=True)\n",
              "          (2): ReLU6(inplace=True)\n",
              "        )\n",
              "        (2): Conv2d(960, 320, kernel_size=(1, 1), stride=(1, 1), bias=False)\n",
              "        (3): BatchNorm2d(320, eps=1e-05, momentum=0.1, affine=True, track_running_stats=True)\n",
              "      )\n",
              "    )\n",
              "    (18): Conv2dNormActivation(\n",
              "      (0): Conv2d(320, 1280, kernel_size=(1, 1), stride=(1, 1), bias=False)\n",
              "      (1): BatchNorm2d(1280, eps=1e-05, momentum=0.1, affine=True, track_running_stats=True)\n",
              "      (2): ReLU6(inplace=True)\n",
              "    )\n",
              "  )\n",
              "  (classifier): Sequential(\n",
              "    (0): Dropout(p=0.2, inplace=False)\n",
              "    (1): Linear(in_features=1280, out_features=2, bias=True)\n",
              "  )\n",
              ")"
            ]
          },
          "metadata": {},
          "execution_count": 21
        }
      ]
    },
    {
      "cell_type": "code",
      "source": [
        "import torch\n",
        "from torchvision import models, transforms\n",
        "from PIL import Image\n",
        "\n",
        "# Load MobileNet and modify last layer\n",
        "mobilenet = models.mobilenet_v2(weights=None)\n",
        "mobilenet.classifier[1] = torch.nn.Linear(mobilenet.last_channel, 2)  # sweet, non-sweet\n",
        "mobilenet.load_state_dict(torch.load(\"mobilenet_sweetness.pt\", map_location='cpu'))\n",
        "mobilenet.eval()"
      ],
      "metadata": {
        "colab": {
          "base_uri": "https://localhost:8080/"
        },
        "id": "HAeDc2dNQjEr",
        "outputId": "9d47b72a-1e38-462f-ffa3-05b673e131b1"
      },
      "execution_count": 22,
      "outputs": [
        {
          "output_type": "execute_result",
          "data": {
            "text/plain": [
              "MobileNetV2(\n",
              "  (features): Sequential(\n",
              "    (0): Conv2dNormActivation(\n",
              "      (0): Conv2d(3, 32, kernel_size=(3, 3), stride=(2, 2), padding=(1, 1), bias=False)\n",
              "      (1): BatchNorm2d(32, eps=1e-05, momentum=0.1, affine=True, track_running_stats=True)\n",
              "      (2): ReLU6(inplace=True)\n",
              "    )\n",
              "    (1): InvertedResidual(\n",
              "      (conv): Sequential(\n",
              "        (0): Conv2dNormActivation(\n",
              "          (0): Conv2d(32, 32, kernel_size=(3, 3), stride=(1, 1), padding=(1, 1), groups=32, bias=False)\n",
              "          (1): BatchNorm2d(32, eps=1e-05, momentum=0.1, affine=True, track_running_stats=True)\n",
              "          (2): ReLU6(inplace=True)\n",
              "        )\n",
              "        (1): Conv2d(32, 16, kernel_size=(1, 1), stride=(1, 1), bias=False)\n",
              "        (2): BatchNorm2d(16, eps=1e-05, momentum=0.1, affine=True, track_running_stats=True)\n",
              "      )\n",
              "    )\n",
              "    (2): InvertedResidual(\n",
              "      (conv): Sequential(\n",
              "        (0): Conv2dNormActivation(\n",
              "          (0): Conv2d(16, 96, kernel_size=(1, 1), stride=(1, 1), bias=False)\n",
              "          (1): BatchNorm2d(96, eps=1e-05, momentum=0.1, affine=True, track_running_stats=True)\n",
              "          (2): ReLU6(inplace=True)\n",
              "        )\n",
              "        (1): Conv2dNormActivation(\n",
              "          (0): Conv2d(96, 96, kernel_size=(3, 3), stride=(2, 2), padding=(1, 1), groups=96, bias=False)\n",
              "          (1): BatchNorm2d(96, eps=1e-05, momentum=0.1, affine=True, track_running_stats=True)\n",
              "          (2): ReLU6(inplace=True)\n",
              "        )\n",
              "        (2): Conv2d(96, 24, kernel_size=(1, 1), stride=(1, 1), bias=False)\n",
              "        (3): BatchNorm2d(24, eps=1e-05, momentum=0.1, affine=True, track_running_stats=True)\n",
              "      )\n",
              "    )\n",
              "    (3): InvertedResidual(\n",
              "      (conv): Sequential(\n",
              "        (0): Conv2dNormActivation(\n",
              "          (0): Conv2d(24, 144, kernel_size=(1, 1), stride=(1, 1), bias=False)\n",
              "          (1): BatchNorm2d(144, eps=1e-05, momentum=0.1, affine=True, track_running_stats=True)\n",
              "          (2): ReLU6(inplace=True)\n",
              "        )\n",
              "        (1): Conv2dNormActivation(\n",
              "          (0): Conv2d(144, 144, kernel_size=(3, 3), stride=(1, 1), padding=(1, 1), groups=144, bias=False)\n",
              "          (1): BatchNorm2d(144, eps=1e-05, momentum=0.1, affine=True, track_running_stats=True)\n",
              "          (2): ReLU6(inplace=True)\n",
              "        )\n",
              "        (2): Conv2d(144, 24, kernel_size=(1, 1), stride=(1, 1), bias=False)\n",
              "        (3): BatchNorm2d(24, eps=1e-05, momentum=0.1, affine=True, track_running_stats=True)\n",
              "      )\n",
              "    )\n",
              "    (4): InvertedResidual(\n",
              "      (conv): Sequential(\n",
              "        (0): Conv2dNormActivation(\n",
              "          (0): Conv2d(24, 144, kernel_size=(1, 1), stride=(1, 1), bias=False)\n",
              "          (1): BatchNorm2d(144, eps=1e-05, momentum=0.1, affine=True, track_running_stats=True)\n",
              "          (2): ReLU6(inplace=True)\n",
              "        )\n",
              "        (1): Conv2dNormActivation(\n",
              "          (0): Conv2d(144, 144, kernel_size=(3, 3), stride=(2, 2), padding=(1, 1), groups=144, bias=False)\n",
              "          (1): BatchNorm2d(144, eps=1e-05, momentum=0.1, affine=True, track_running_stats=True)\n",
              "          (2): ReLU6(inplace=True)\n",
              "        )\n",
              "        (2): Conv2d(144, 32, kernel_size=(1, 1), stride=(1, 1), bias=False)\n",
              "        (3): BatchNorm2d(32, eps=1e-05, momentum=0.1, affine=True, track_running_stats=True)\n",
              "      )\n",
              "    )\n",
              "    (5): InvertedResidual(\n",
              "      (conv): Sequential(\n",
              "        (0): Conv2dNormActivation(\n",
              "          (0): Conv2d(32, 192, kernel_size=(1, 1), stride=(1, 1), bias=False)\n",
              "          (1): BatchNorm2d(192, eps=1e-05, momentum=0.1, affine=True, track_running_stats=True)\n",
              "          (2): ReLU6(inplace=True)\n",
              "        )\n",
              "        (1): Conv2dNormActivation(\n",
              "          (0): Conv2d(192, 192, kernel_size=(3, 3), stride=(1, 1), padding=(1, 1), groups=192, bias=False)\n",
              "          (1): BatchNorm2d(192, eps=1e-05, momentum=0.1, affine=True, track_running_stats=True)\n",
              "          (2): ReLU6(inplace=True)\n",
              "        )\n",
              "        (2): Conv2d(192, 32, kernel_size=(1, 1), stride=(1, 1), bias=False)\n",
              "        (3): BatchNorm2d(32, eps=1e-05, momentum=0.1, affine=True, track_running_stats=True)\n",
              "      )\n",
              "    )\n",
              "    (6): InvertedResidual(\n",
              "      (conv): Sequential(\n",
              "        (0): Conv2dNormActivation(\n",
              "          (0): Conv2d(32, 192, kernel_size=(1, 1), stride=(1, 1), bias=False)\n",
              "          (1): BatchNorm2d(192, eps=1e-05, momentum=0.1, affine=True, track_running_stats=True)\n",
              "          (2): ReLU6(inplace=True)\n",
              "        )\n",
              "        (1): Conv2dNormActivation(\n",
              "          (0): Conv2d(192, 192, kernel_size=(3, 3), stride=(1, 1), padding=(1, 1), groups=192, bias=False)\n",
              "          (1): BatchNorm2d(192, eps=1e-05, momentum=0.1, affine=True, track_running_stats=True)\n",
              "          (2): ReLU6(inplace=True)\n",
              "        )\n",
              "        (2): Conv2d(192, 32, kernel_size=(1, 1), stride=(1, 1), bias=False)\n",
              "        (3): BatchNorm2d(32, eps=1e-05, momentum=0.1, affine=True, track_running_stats=True)\n",
              "      )\n",
              "    )\n",
              "    (7): InvertedResidual(\n",
              "      (conv): Sequential(\n",
              "        (0): Conv2dNormActivation(\n",
              "          (0): Conv2d(32, 192, kernel_size=(1, 1), stride=(1, 1), bias=False)\n",
              "          (1): BatchNorm2d(192, eps=1e-05, momentum=0.1, affine=True, track_running_stats=True)\n",
              "          (2): ReLU6(inplace=True)\n",
              "        )\n",
              "        (1): Conv2dNormActivation(\n",
              "          (0): Conv2d(192, 192, kernel_size=(3, 3), stride=(2, 2), padding=(1, 1), groups=192, bias=False)\n",
              "          (1): BatchNorm2d(192, eps=1e-05, momentum=0.1, affine=True, track_running_stats=True)\n",
              "          (2): ReLU6(inplace=True)\n",
              "        )\n",
              "        (2): Conv2d(192, 64, kernel_size=(1, 1), stride=(1, 1), bias=False)\n",
              "        (3): BatchNorm2d(64, eps=1e-05, momentum=0.1, affine=True, track_running_stats=True)\n",
              "      )\n",
              "    )\n",
              "    (8): InvertedResidual(\n",
              "      (conv): Sequential(\n",
              "        (0): Conv2dNormActivation(\n",
              "          (0): Conv2d(64, 384, kernel_size=(1, 1), stride=(1, 1), bias=False)\n",
              "          (1): BatchNorm2d(384, eps=1e-05, momentum=0.1, affine=True, track_running_stats=True)\n",
              "          (2): ReLU6(inplace=True)\n",
              "        )\n",
              "        (1): Conv2dNormActivation(\n",
              "          (0): Conv2d(384, 384, kernel_size=(3, 3), stride=(1, 1), padding=(1, 1), groups=384, bias=False)\n",
              "          (1): BatchNorm2d(384, eps=1e-05, momentum=0.1, affine=True, track_running_stats=True)\n",
              "          (2): ReLU6(inplace=True)\n",
              "        )\n",
              "        (2): Conv2d(384, 64, kernel_size=(1, 1), stride=(1, 1), bias=False)\n",
              "        (3): BatchNorm2d(64, eps=1e-05, momentum=0.1, affine=True, track_running_stats=True)\n",
              "      )\n",
              "    )\n",
              "    (9): InvertedResidual(\n",
              "      (conv): Sequential(\n",
              "        (0): Conv2dNormActivation(\n",
              "          (0): Conv2d(64, 384, kernel_size=(1, 1), stride=(1, 1), bias=False)\n",
              "          (1): BatchNorm2d(384, eps=1e-05, momentum=0.1, affine=True, track_running_stats=True)\n",
              "          (2): ReLU6(inplace=True)\n",
              "        )\n",
              "        (1): Conv2dNormActivation(\n",
              "          (0): Conv2d(384, 384, kernel_size=(3, 3), stride=(1, 1), padding=(1, 1), groups=384, bias=False)\n",
              "          (1): BatchNorm2d(384, eps=1e-05, momentum=0.1, affine=True, track_running_stats=True)\n",
              "          (2): ReLU6(inplace=True)\n",
              "        )\n",
              "        (2): Conv2d(384, 64, kernel_size=(1, 1), stride=(1, 1), bias=False)\n",
              "        (3): BatchNorm2d(64, eps=1e-05, momentum=0.1, affine=True, track_running_stats=True)\n",
              "      )\n",
              "    )\n",
              "    (10): InvertedResidual(\n",
              "      (conv): Sequential(\n",
              "        (0): Conv2dNormActivation(\n",
              "          (0): Conv2d(64, 384, kernel_size=(1, 1), stride=(1, 1), bias=False)\n",
              "          (1): BatchNorm2d(384, eps=1e-05, momentum=0.1, affine=True, track_running_stats=True)\n",
              "          (2): ReLU6(inplace=True)\n",
              "        )\n",
              "        (1): Conv2dNormActivation(\n",
              "          (0): Conv2d(384, 384, kernel_size=(3, 3), stride=(1, 1), padding=(1, 1), groups=384, bias=False)\n",
              "          (1): BatchNorm2d(384, eps=1e-05, momentum=0.1, affine=True, track_running_stats=True)\n",
              "          (2): ReLU6(inplace=True)\n",
              "        )\n",
              "        (2): Conv2d(384, 64, kernel_size=(1, 1), stride=(1, 1), bias=False)\n",
              "        (3): BatchNorm2d(64, eps=1e-05, momentum=0.1, affine=True, track_running_stats=True)\n",
              "      )\n",
              "    )\n",
              "    (11): InvertedResidual(\n",
              "      (conv): Sequential(\n",
              "        (0): Conv2dNormActivation(\n",
              "          (0): Conv2d(64, 384, kernel_size=(1, 1), stride=(1, 1), bias=False)\n",
              "          (1): BatchNorm2d(384, eps=1e-05, momentum=0.1, affine=True, track_running_stats=True)\n",
              "          (2): ReLU6(inplace=True)\n",
              "        )\n",
              "        (1): Conv2dNormActivation(\n",
              "          (0): Conv2d(384, 384, kernel_size=(3, 3), stride=(1, 1), padding=(1, 1), groups=384, bias=False)\n",
              "          (1): BatchNorm2d(384, eps=1e-05, momentum=0.1, affine=True, track_running_stats=True)\n",
              "          (2): ReLU6(inplace=True)\n",
              "        )\n",
              "        (2): Conv2d(384, 96, kernel_size=(1, 1), stride=(1, 1), bias=False)\n",
              "        (3): BatchNorm2d(96, eps=1e-05, momentum=0.1, affine=True, track_running_stats=True)\n",
              "      )\n",
              "    )\n",
              "    (12): InvertedResidual(\n",
              "      (conv): Sequential(\n",
              "        (0): Conv2dNormActivation(\n",
              "          (0): Conv2d(96, 576, kernel_size=(1, 1), stride=(1, 1), bias=False)\n",
              "          (1): BatchNorm2d(576, eps=1e-05, momentum=0.1, affine=True, track_running_stats=True)\n",
              "          (2): ReLU6(inplace=True)\n",
              "        )\n",
              "        (1): Conv2dNormActivation(\n",
              "          (0): Conv2d(576, 576, kernel_size=(3, 3), stride=(1, 1), padding=(1, 1), groups=576, bias=False)\n",
              "          (1): BatchNorm2d(576, eps=1e-05, momentum=0.1, affine=True, track_running_stats=True)\n",
              "          (2): ReLU6(inplace=True)\n",
              "        )\n",
              "        (2): Conv2d(576, 96, kernel_size=(1, 1), stride=(1, 1), bias=False)\n",
              "        (3): BatchNorm2d(96, eps=1e-05, momentum=0.1, affine=True, track_running_stats=True)\n",
              "      )\n",
              "    )\n",
              "    (13): InvertedResidual(\n",
              "      (conv): Sequential(\n",
              "        (0): Conv2dNormActivation(\n",
              "          (0): Conv2d(96, 576, kernel_size=(1, 1), stride=(1, 1), bias=False)\n",
              "          (1): BatchNorm2d(576, eps=1e-05, momentum=0.1, affine=True, track_running_stats=True)\n",
              "          (2): ReLU6(inplace=True)\n",
              "        )\n",
              "        (1): Conv2dNormActivation(\n",
              "          (0): Conv2d(576, 576, kernel_size=(3, 3), stride=(1, 1), padding=(1, 1), groups=576, bias=False)\n",
              "          (1): BatchNorm2d(576, eps=1e-05, momentum=0.1, affine=True, track_running_stats=True)\n",
              "          (2): ReLU6(inplace=True)\n",
              "        )\n",
              "        (2): Conv2d(576, 96, kernel_size=(1, 1), stride=(1, 1), bias=False)\n",
              "        (3): BatchNorm2d(96, eps=1e-05, momentum=0.1, affine=True, track_running_stats=True)\n",
              "      )\n",
              "    )\n",
              "    (14): InvertedResidual(\n",
              "      (conv): Sequential(\n",
              "        (0): Conv2dNormActivation(\n",
              "          (0): Conv2d(96, 576, kernel_size=(1, 1), stride=(1, 1), bias=False)\n",
              "          (1): BatchNorm2d(576, eps=1e-05, momentum=0.1, affine=True, track_running_stats=True)\n",
              "          (2): ReLU6(inplace=True)\n",
              "        )\n",
              "        (1): Conv2dNormActivation(\n",
              "          (0): Conv2d(576, 576, kernel_size=(3, 3), stride=(2, 2), padding=(1, 1), groups=576, bias=False)\n",
              "          (1): BatchNorm2d(576, eps=1e-05, momentum=0.1, affine=True, track_running_stats=True)\n",
              "          (2): ReLU6(inplace=True)\n",
              "        )\n",
              "        (2): Conv2d(576, 160, kernel_size=(1, 1), stride=(1, 1), bias=False)\n",
              "        (3): BatchNorm2d(160, eps=1e-05, momentum=0.1, affine=True, track_running_stats=True)\n",
              "      )\n",
              "    )\n",
              "    (15): InvertedResidual(\n",
              "      (conv): Sequential(\n",
              "        (0): Conv2dNormActivation(\n",
              "          (0): Conv2d(160, 960, kernel_size=(1, 1), stride=(1, 1), bias=False)\n",
              "          (1): BatchNorm2d(960, eps=1e-05, momentum=0.1, affine=True, track_running_stats=True)\n",
              "          (2): ReLU6(inplace=True)\n",
              "        )\n",
              "        (1): Conv2dNormActivation(\n",
              "          (0): Conv2d(960, 960, kernel_size=(3, 3), stride=(1, 1), padding=(1, 1), groups=960, bias=False)\n",
              "          (1): BatchNorm2d(960, eps=1e-05, momentum=0.1, affine=True, track_running_stats=True)\n",
              "          (2): ReLU6(inplace=True)\n",
              "        )\n",
              "        (2): Conv2d(960, 160, kernel_size=(1, 1), stride=(1, 1), bias=False)\n",
              "        (3): BatchNorm2d(160, eps=1e-05, momentum=0.1, affine=True, track_running_stats=True)\n",
              "      )\n",
              "    )\n",
              "    (16): InvertedResidual(\n",
              "      (conv): Sequential(\n",
              "        (0): Conv2dNormActivation(\n",
              "          (0): Conv2d(160, 960, kernel_size=(1, 1), stride=(1, 1), bias=False)\n",
              "          (1): BatchNorm2d(960, eps=1e-05, momentum=0.1, affine=True, track_running_stats=True)\n",
              "          (2): ReLU6(inplace=True)\n",
              "        )\n",
              "        (1): Conv2dNormActivation(\n",
              "          (0): Conv2d(960, 960, kernel_size=(3, 3), stride=(1, 1), padding=(1, 1), groups=960, bias=False)\n",
              "          (1): BatchNorm2d(960, eps=1e-05, momentum=0.1, affine=True, track_running_stats=True)\n",
              "          (2): ReLU6(inplace=True)\n",
              "        )\n",
              "        (2): Conv2d(960, 160, kernel_size=(1, 1), stride=(1, 1), bias=False)\n",
              "        (3): BatchNorm2d(160, eps=1e-05, momentum=0.1, affine=True, track_running_stats=True)\n",
              "      )\n",
              "    )\n",
              "    (17): InvertedResidual(\n",
              "      (conv): Sequential(\n",
              "        (0): Conv2dNormActivation(\n",
              "          (0): Conv2d(160, 960, kernel_size=(1, 1), stride=(1, 1), bias=False)\n",
              "          (1): BatchNorm2d(960, eps=1e-05, momentum=0.1, affine=True, track_running_stats=True)\n",
              "          (2): ReLU6(inplace=True)\n",
              "        )\n",
              "        (1): Conv2dNormActivation(\n",
              "          (0): Conv2d(960, 960, kernel_size=(3, 3), stride=(1, 1), padding=(1, 1), groups=960, bias=False)\n",
              "          (1): BatchNorm2d(960, eps=1e-05, momentum=0.1, affine=True, track_running_stats=True)\n",
              "          (2): ReLU6(inplace=True)\n",
              "        )\n",
              "        (2): Conv2d(960, 320, kernel_size=(1, 1), stride=(1, 1), bias=False)\n",
              "        (3): BatchNorm2d(320, eps=1e-05, momentum=0.1, affine=True, track_running_stats=True)\n",
              "      )\n",
              "    )\n",
              "    (18): Conv2dNormActivation(\n",
              "      (0): Conv2d(320, 1280, kernel_size=(1, 1), stride=(1, 1), bias=False)\n",
              "      (1): BatchNorm2d(1280, eps=1e-05, momentum=0.1, affine=True, track_running_stats=True)\n",
              "      (2): ReLU6(inplace=True)\n",
              "    )\n",
              "  )\n",
              "  (classifier): Sequential(\n",
              "    (0): Dropout(p=0.2, inplace=False)\n",
              "    (1): Linear(in_features=1280, out_features=2, bias=True)\n",
              "  )\n",
              ")"
            ]
          },
          "metadata": {},
          "execution_count": 22
        }
      ]
    },
    {
      "cell_type": "code",
      "source": [
        "transform = transforms.Compose([\n",
        "    transforms.Resize((224, 224)),\n",
        "    transforms.ToTensor(),\n",
        "])"
      ],
      "metadata": {
        "id": "5HK2VIuiQsWm"
      },
      "execution_count": 23,
      "outputs": []
    },
    {
      "cell_type": "code",
      "source": [
        "# Replace with your test image path\n",
        "image_path = \"/content/MobilenetDataset/MobileNet_Datasets/test/ripe_83_jpeg.rf.e930fe98e46201a340dd6b1bf0f1b2c7.jpg\"\n",
        "\n",
        "# Load and preprocess image\n",
        "image = Image.open(image_path).convert('RGB')\n",
        "input_tensor = transform(image).unsqueeze(0)  # Add batch dimension\n",
        "\n",
        "# Predict\n",
        "with torch.no_grad():\n",
        "    output = mobilenet(input_tensor)\n",
        "    predicted_class = output.argmax(dim=1).item()\n",
        "    class_names = [\"non-sweet\", \"sweet\"]\n",
        "    print(\"Prediction:\", class_names[predicted_class])\n"
      ],
      "metadata": {
        "colab": {
          "base_uri": "https://localhost:8080/"
        },
        "id": "gA4wjmjjQwAt",
        "outputId": "f511c551-10b6-4c93-8ca5-5ad24ec7b5e0"
      },
      "execution_count": 46,
      "outputs": [
        {
          "output_type": "stream",
          "name": "stdout",
          "text": [
            "Prediction: sweet\n"
          ]
        }
      ]
    },
    {
      "cell_type": "code",
      "source": [],
      "metadata": {
        "id": "qsaFt76nQ6pW"
      },
      "execution_count": 43,
      "outputs": []
    }
  ]
}